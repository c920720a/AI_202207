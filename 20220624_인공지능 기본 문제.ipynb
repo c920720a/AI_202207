{
 "cells": [
  {
   "cell_type": "markdown",
   "metadata": {},
   "source": [
    "### 01. print() 함수를 사용하여 다음과 같이 출력하세요.\n",
    "    you/need/python"
   ]
  },
  {
   "cell_type": "markdown",
   "metadata": {},
   "source": [
    "#### 답\n",
    "    ① print(\"you/need/python\")\n",
    "    ② print(\"you\", \"need\", \"python\", sep=\"/\")\n",
    "    \n",
    "#### 설명\n",
    "    * print() : 출력\n",
    "    * print(---, end=\" \") : 출력 끝에 넣을 출력값\n",
    "    * print(---, sep=\" \") : 출력 콤마(,) 사이에 출력값\n",
    "    * 여러개의 값 표현 : print(A, B, C)"
   ]
  },
  {
   "cell_type": "markdown",
   "metadata": {},
   "source": [
    "　"
   ]
  },
  {
   "cell_type": "markdown",
   "metadata": {},
   "source": [
    "### 02. 다음은 두 값을 넘겨받아 계산하는 함수식입니다. 보기에서 정답을 고르세요.\n",
    "\n",
    "    ① 아래 빈 칸에 적합한 명령어는?\n",
    "    _____ plus(a, b):\n",
    "        result = a + b\n",
    "        return result\n",
    "        \n",
    "        \n",
    "    ② plus(10, 20) 의 답은?\n",
    "\n",
    "① def, 20　　　　　② def, 30　　　　　③ for, 20　　　　　④ for, 30"
   ]
  },
  {
   "cell_type": "markdown",
   "metadata": {},
   "source": [
    "#### 답\n",
    "    ② def, 30\n",
    "    \n",
    "#### 설명\n",
    "    def plus (a, b):\n",
    "        result = a + b\n",
    "\t    return result\n",
    "\t  \n",
    "* def는 함수 만드는 예약어이다.\n",
    "* if, for, while은 해당 조건에 맞는 상황을 수행하는 데 쓰이는 제어문이다.\n",
    "* plus(10, 20)을 위의 함수 대입하면 두 값을 더한 30이 출력된다."
   ]
  },
  {
   "cell_type": "markdown",
   "metadata": {},
   "source": [
    "　"
   ]
  },
  {
   "cell_type": "markdown",
   "metadata": {},
   "source": [
    "### 03. 다음 중 웹 데이터 분석을 위한 라이브러리를 고르세요.\n",
    "\n",
    "    ① Pandas\n",
    "    ② Seaborn\n",
    "    ③ BeautifulSoup\n",
    "    ④ Matplotlib"
   ]
  },
  {
   "cell_type": "markdown",
   "metadata": {},
   "source": [
    "#### 답\n",
    "    ③ BeautifulSoup\n",
    "    \n",
    "#### 설명\n",
    "* Pandas는 데이터 시각화 라이브러리\n",
    "* Seaborn은 데이터 시각화 라이브러리\n",
    "* Matplotlib은 데이터 시각화 라이브러리"
   ]
  },
  {
   "cell_type": "markdown",
   "metadata": {},
   "source": [
    "　"
   ]
  },
  {
   "cell_type": "markdown",
   "metadata": {},
   "source": [
    "### 04. 여러개의 독립된 트리를 생성해서 가장 많이 나온 결과값을 선택하는 결정트리알고리즘은?"
   ]
  },
  {
   "cell_type": "markdown",
   "metadata": {},
   "source": [
    "#### 답\n",
    "    랜덤포레스트(RandomForest)\n",
    "    \n",
    "#### 설명\n",
    "* Ensemble은 여러개의 모델을 연결하여 더 강력한 모델을 찾는다. 랜덤포레스트와 그레디언트 부스팅 등이 여기에 속한다.\n",
    "* Random Forest는 내부적으로 여러개의 독립된 트리를 만들어 가장 많이 예측된 값을 결과값으로 낸다.\n",
    "* Fradient Boosting은 독립된 트리가 아닌 이전 트리의 오차를 보완하는 방식으로 결과값을 낸다."
   ]
  },
  {
   "cell_type": "markdown",
   "metadata": {},
   "source": [
    "　"
   ]
  },
  {
   "cell_type": "markdown",
   "metadata": {},
   "source": [
    "### 05. 다음에 해당하는 머신러닝의 분류를 고르세요.\n",
    "    예측하고자 하는 값이 있고, 그 값은 연속형이다.\n",
    "①비지도학습　　　　　②지도학습-다중분류　　　　　③지도학습-회귀　　　　　③강화학습"
   ]
  },
  {
   "cell_type": "markdown",
   "metadata": {},
   "source": [
    "#### 답\n",
    "    ③지도학습 - 회귀\n",
    "    \n",
    "#### 설명\n",
    "머신러닝의 분류\n",
    "\n",
    "      * 지도학습 : 예측값이 존재\n",
    "          - 회귀 : 예측값이 연속형\n",
    "          - 분류 : 예측값이 범주형 (예-아니오 등 두 개의 클래스로 이루어진 이진분류 / 셋 이상의 클래스로 이루어진 다중분류)\n",
    "      * 비지도학습 : 예측값이 존재하지 않음\n",
    "      * 강화학습 : 알파고와 같이 주어진 환경에 상호작용하고 상태를 관찰하여 보상이 강화되는 방향으로 행동"
   ]
  },
  {
   "cell_type": "markdown",
   "metadata": {},
   "source": [
    "　"
   ]
  }
 ],
 "metadata": {
  "kernelspec": {
   "display_name": "Python 3",
   "language": "python",
   "name": "python3"
  },
  "language_info": {
   "codemirror_mode": {
    "name": "ipython",
    "version": 3
   },
   "file_extension": ".py",
   "mimetype": "text/x-python",
   "name": "python",
   "nbconvert_exporter": "python",
   "pygments_lexer": "ipython3",
   "version": "3.8.5"
  }
 },
 "nbformat": 4,
 "nbformat_minor": 4
}
