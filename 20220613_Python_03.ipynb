{
 "cells": [
  {
   "cell_type": "markdown",
   "metadata": {},
   "source": [
    "#### 3-1 자료형 - 문자열"
   ]
  },
  {
   "cell_type": "code",
   "execution_count": 1,
   "metadata": {},
   "outputs": [
    {
     "name": "stdout",
     "output_type": "stream",
     "text": [
      "H\n",
      "Hello\n"
     ]
    }
   ],
   "source": [
    "str1 = \"Hello World!\"\n",
    "print( str1[0] )     # 첫 번째 선택 (파이썬은 숫자 0부터 시작)\n",
    "\n",
    "\n",
    "# Hello 선택\n",
    "# :을 기준으로 앞이 시작값, 뒤에 값이 끝나는 값.\n",
    "print( str1[0:5] )   # 첫번째(0)부터 다섯번째(4)까지 선택"
   ]
  },
  {
   "cell_type": "code",
   "execution_count": 2,
   "metadata": {},
   "outputs": [
    {
     "name": "stdout",
     "output_type": "stream",
     "text": [
      "Hello\n",
      "Hello World!\n",
      "llo\n"
     ]
    }
   ],
   "source": [
    "# Hello 선택\n",
    "print(str1[ :5])    #처음부터 다섯번째까지\n",
    "print(str1[:])      #처음부터 끝까지\n",
    "print(str1[2:5])    #세번째부터 다섯번째까지"
   ]
  },
  {
   "cell_type": "markdown",
   "metadata": {},
   "source": [
    "* 인덱싱(Indexing) : 값을 하나하나 선택\n",
    "* 슬라이싱(Slincing) : 값을 조각 단위로 선택"
   ]
  },
  {
   "cell_type": "markdown",
   "metadata": {},
   "source": [
    "#### 실습해보기\n",
    "* 나의 이름을 입력받아(input), 앞의 3자리를 출력해보자."
   ]
  },
  {
   "cell_type": "code",
   "execution_count": 3,
   "metadata": {},
   "outputs": [
    {
     "name": "stdout",
     "output_type": "stream",
     "text": [
      "이름을 입력하세요. :Yurim\n",
      "Yur\n"
     ]
    }
   ],
   "source": [
    "name = input(\"이름을 입력하세요. :\")\n",
    "print(name[:3])"
   ]
  },
  {
   "cell_type": "markdown",
   "metadata": {},
   "source": [
    "#### 3-2 자료형 - 리스트"
   ]
  },
  {
   "cell_type": "code",
   "execution_count": 4,
   "metadata": {},
   "outputs": [
    {
     "name": "stdout",
     "output_type": "stream",
     "text": [
      "[1, 2, 3, 4, 5]\n",
      "[1, 2, 'a', 3, 'b']\n",
      "2\n",
      "['a', 3, 'b']\n",
      "b\n",
      "a\n"
     ]
    }
   ],
   "source": [
    "a = [1, 2, 3, 4, 5]\n",
    "print(a)\n",
    "\n",
    "a = [1, 2, 'a', 3, 'b']\n",
    "print(a)\n",
    "\n",
    "print( a[1] )      #두번째 요소\n",
    "print( a[2:5] )    #세번째부터 다섯번째까지\n",
    "\n",
    "a = [1, 2, 'a', 3, 'b']\n",
    "print( a[-1] )    #뒤에서 1번째\n",
    "print( a[-3 ])    #뒤에서부터 3번째"
   ]
  },
  {
   "cell_type": "code",
   "execution_count": 5,
   "metadata": {},
   "outputs": [
    {
     "name": "stdout",
     "output_type": "stream",
     "text": [
      "[2, 3]\n",
      "3\n"
     ]
    }
   ],
   "source": [
    "a = [ [1, 2],\n",
    "      [2, 3],\n",
    "      [4, 5]\n",
    "    ]\n",
    "\n",
    "\n",
    "print(a[1])       #두번째값\n",
    "print(a[1][1])    #두번째값 중 두번째값"
   ]
  },
  {
   "cell_type": "markdown",
   "metadata": {},
   "source": [
    "#### 하나의 값 추가하기"
   ]
  },
  {
   "cell_type": "code",
   "execution_count": 6,
   "metadata": {},
   "outputs": [
    {
     "name": "stdout",
     "output_type": "stream",
     "text": [
      "[1, 2, 3]\n",
      "[1, 2, 3, 4]\n"
     ]
    }
   ],
   "source": [
    "list1 = [1, 2, 3]\n",
    "print( list1 )\n",
    "\n",
    "list1.append(4)\n",
    "print( list1 )"
   ]
  },
  {
   "cell_type": "code",
   "execution_count": 7,
   "metadata": {},
   "outputs": [
    {
     "data": {
      "text/plain": [
       "[1, 1, 2, 2]"
      ]
     },
     "execution_count": 7,
     "metadata": {},
     "output_type": "execute_result"
    }
   ],
   "source": [
    "[1, 1] + [2, 2]"
   ]
  },
  {
   "cell_type": "code",
   "execution_count": 8,
   "metadata": {},
   "outputs": [],
   "source": [
    "# append는 리스트에 하나의 요소를 추가하는 것\n",
    "# []+[]는 리스트와 리스트를 더한 것"
   ]
  },
  {
   "cell_type": "code",
   "execution_count": 9,
   "metadata": {},
   "outputs": [],
   "source": [
    "#### 하나의 값 삭제하기"
   ]
  },
  {
   "cell_type": "code",
   "execution_count": 10,
   "metadata": {},
   "outputs": [
    {
     "data": {
      "text/plain": [
       "[1, 3, 2]"
      ]
     },
     "execution_count": 10,
     "metadata": {},
     "output_type": "execute_result"
    }
   ],
   "source": [
    "list2 = [1, 2, 3, 2]\n",
    "list2.remove(2)       #요소 중에 2의 값을 하나 삭제(앞에서부터)\n",
    "list2"
   ]
  },
  {
   "cell_type": "code",
   "execution_count": 11,
   "metadata": {},
   "outputs": [
    {
     "name": "stdout",
     "output_type": "stream",
     "text": [
      "[1, 2, 3, [3, 4]]\n"
     ]
    }
   ],
   "source": [
    "## 두 개의 값을 한꺼번에 추가하기\n",
    "list3 = [1, 2, 3]\n",
    "list3.append([3, 4])\n",
    "print(list3)"
   ]
  },
  {
   "cell_type": "code",
   "execution_count": 12,
   "metadata": {},
   "outputs": [
    {
     "name": "stdout",
     "output_type": "stream",
     "text": [
      "[1, 2, 3, 3, 4]\n"
     ]
    }
   ],
   "source": [
    "## 두 개의 값을 한꺼번에 추가하기 extend(확장)\n",
    "list4 = [1, 2, 3]\n",
    "list4.extend([3, 4])\n",
    "print(list4)"
   ]
  },
  {
   "cell_type": "code",
   "execution_count": 13,
   "metadata": {},
   "outputs": [],
   "source": [
    "#### 3-3 리스트와 for문"
   ]
  },
  {
   "cell_type": "code",
   "execution_count": 14,
   "metadata": {},
   "outputs": [
    {
     "name": "stdout",
     "output_type": "stream",
     "text": [
      "1 2 3 4 5 11 22 33 44 55 "
     ]
    }
   ],
   "source": [
    "list1 = [1, 2, 3, 4, 5, 11, 22, 33, 44, 55]\n",
    "for i in list1:\n",
    "    print(i, end=\" \")    # 출력 후 한 칸을 띄우고 다음 번 진행."
   ]
  },
  {
   "cell_type": "code",
   "execution_count": 15,
   "metadata": {},
   "outputs": [
    {
     "name": "stdout",
     "output_type": "stream",
     "text": [
      "0 1 2 3 4 5 6 7 8 9 "
     ]
    }
   ],
   "source": [
    "# range(시작값, 끝값, 증가값)\n",
    "for i in range(0, 10, 1):\n",
    "    print(i, end=\" \")"
   ]
  },
  {
   "cell_type": "code",
   "execution_count": 16,
   "metadata": {},
   "outputs": [
    {
     "name": "stdout",
     "output_type": "stream",
     "text": [
      "0 1 2 3 4 5 6 7 8 9 "
     ]
    }
   ],
   "source": [
    "for i in range(10):\n",
    "    print(i, end=\" \")"
   ]
  },
  {
   "cell_type": "code",
   "execution_count": 17,
   "metadata": {},
   "outputs": [
    {
     "name": "stdout",
     "output_type": "stream",
     "text": [
      "5 4 3 2 1 "
     ]
    }
   ],
   "source": [
    "for i in range(5, 0, -1):\n",
    "    print(i, end=\" \")"
   ]
  },
  {
   "cell_type": "code",
   "execution_count": 18,
   "metadata": {},
   "outputs": [
    {
     "name": "stdout",
     "output_type": "stream",
     "text": [
      "season의 요소의 개수 :  4\n",
      "봄\n",
      "여름\n",
      "가을\n",
      "겨울\n"
     ]
    }
   ],
   "source": [
    "season = ['봄', '여름', '가을', '겨울']\n",
    "print(\"season의 요소의 개수 : \", len(season))\n",
    "for one in season:\n",
    "    print(one)"
   ]
  },
  {
   "cell_type": "markdown",
   "metadata": {},
   "source": [
    "#### 3-4 딕셔너리(dict)\n",
    "* [] 리스트: 값의 변경이 가능. 수정 가능. 추가 가능.\n",
    "* () 튜플: 값의 변경이 불가능. 속도가 빠름.\n",
    "* {} 딕셔너리: 키:값 한 쌍의 데이터로 이루어짐.\n",
    "* 딕셔너리는 {}로 둘러쌓인 구조. 키:값이 한 쌍을 이루고 ','를 기준으로 구분."
   ]
  },
  {
   "cell_type": "code",
   "execution_count": 21,
   "metadata": {},
   "outputs": [
    {
     "name": "stdout",
     "output_type": "stream",
     "text": [
      "valeu3\n",
      "[1, 2, 3, 4, 5]\n"
     ]
    }
   ],
   "source": [
    "dict1 = {'key1':\"value1\", 'key2':\"value2\", 'key3':\"valeu3\"}\n",
    "dict2 = {11:\"value1\", 22:\"value2\", 33:\"valeu3\"}\n",
    "dict3 = {'key1':\"value1\", 'key2':(1, 2, 3, 4, 5), 'key3':[1, 2, 3, 4, 5]}\n",
    "\n",
    "# dict1 ['키값']\n",
    "print( dict1['key3'])\n",
    "\n",
    "# dict3 ['키값']\n",
    "print( dict3['key3'])"
   ]
  },
  {
   "cell_type": "markdown",
   "metadata": {},
   "source": [
    "#### 3-5 튜플(Tuple)\n",
    "* 리스트와 달리 값의 변경/수정이 어려움.\n",
    "* 장점은 필요한 기능이 줄기 때문에 리스트에 비해 상대적으로 빠름."
   ]
  },
  {
   "cell_type": "code",
   "execution_count": 23,
   "metadata": {},
   "outputs": [
    {
     "name": "stdout",
     "output_type": "stream",
     "text": [
      "(1, 2, 3)\n",
      "2\n"
     ]
    }
   ],
   "source": [
    "tuple1 = (1, 2, 3)\n",
    "\n",
    "print( tuple1 )       #전체값출력\n",
    "print( tuple1[1] )    #두번째값출력"
   ]
  },
  {
   "cell_type": "markdown",
   "metadata": {},
   "source": [
    "#### 튜플의 값은 수정이 안 됩니다."
   ]
  },
  {
   "cell_type": "code",
   "execution_count": 24,
   "metadata": {},
   "outputs": [
    {
     "ename": "TypeError",
     "evalue": "'type' object does not support item assignment",
     "output_type": "error",
     "traceback": [
      "\u001b[1;31m---------------------------------------------------------------------------\u001b[0m",
      "\u001b[1;31mTypeError\u001b[0m                                 Traceback (most recent call last)",
      "\u001b[1;32m<ipython-input-24-b155f4f908b2>\u001b[0m in \u001b[0;36m<module>\u001b[1;34m\u001b[0m\n\u001b[1;32m----> 1\u001b[1;33m \u001b[0mtuple\u001b[0m\u001b[1;33m[\u001b[0m\u001b[1;36m1\u001b[0m\u001b[1;33m]\u001b[0m \u001b[1;33m=\u001b[0m \u001b[1;36m20\u001b[0m           \u001b[1;31m#에러 발생\u001b[0m\u001b[1;33m\u001b[0m\u001b[1;33m\u001b[0m\u001b[0m\n\u001b[0m",
      "\u001b[1;31mTypeError\u001b[0m: 'type' object does not support item assignment"
     ]
    }
   ],
   "source": [
    "tuple[1] = 20           #에러 발생"
   ]
  },
  {
   "cell_type": "code",
   "execution_count": 25,
   "metadata": {},
   "outputs": [],
   "source": [
    "tuple1 = (1,2,3)\n",
    "list1 = [1,2,3]"
   ]
  },
  {
   "cell_type": "markdown",
   "metadata": {},
   "source": [
    "#### 리스트와 튜플의 사용 객체 확인"
   ]
  },
  {
   "cell_type": "code",
   "execution_count": 26,
   "metadata": {},
   "outputs": [
    {
     "name": "stdout",
     "output_type": "stream",
     "text": [
      "48\n"
     ]
    },
    {
     "data": {
      "text/plain": [
       "['__add__',\n",
       " '__class__',\n",
       " '__contains__',\n",
       " '__delattr__',\n",
       " '__dir__',\n",
       " '__doc__',\n",
       " '__eq__',\n",
       " '__format__',\n",
       " '__ge__',\n",
       " '__getattribute__',\n",
       " '__getitem__',\n",
       " '__getnewargs__',\n",
       " '__gt__',\n",
       " '__hash__',\n",
       " '__init__',\n",
       " '__init_subclass__',\n",
       " '__iter__',\n",
       " '__le__',\n",
       " '__len__',\n",
       " '__lt__',\n",
       " '__mul__',\n",
       " '__ne__',\n",
       " '__new__',\n",
       " '__reduce__',\n",
       " '__reduce_ex__',\n",
       " '__repr__',\n",
       " '__rmul__',\n",
       " '__setattr__',\n",
       " '__sizeof__',\n",
       " '__str__',\n",
       " '__subclasshook__',\n",
       " 'count',\n",
       " 'index']"
      ]
     },
     "execution_count": 26,
     "metadata": {},
     "output_type": "execute_result"
    }
   ],
   "source": [
    "print(tuple1.__sizeof__())\n",
    "dir(tuple1)"
   ]
  },
  {
   "cell_type": "code",
   "execution_count": 27,
   "metadata": {},
   "outputs": [
    {
     "name": "stdout",
     "output_type": "stream",
     "text": [
      "64\n"
     ]
    },
    {
     "data": {
      "text/plain": [
       "['__add__',\n",
       " '__class__',\n",
       " '__contains__',\n",
       " '__delattr__',\n",
       " '__delitem__',\n",
       " '__dir__',\n",
       " '__doc__',\n",
       " '__eq__',\n",
       " '__format__',\n",
       " '__ge__',\n",
       " '__getattribute__',\n",
       " '__getitem__',\n",
       " '__gt__',\n",
       " '__hash__',\n",
       " '__iadd__',\n",
       " '__imul__',\n",
       " '__init__',\n",
       " '__init_subclass__',\n",
       " '__iter__',\n",
       " '__le__',\n",
       " '__len__',\n",
       " '__lt__',\n",
       " '__mul__',\n",
       " '__ne__',\n",
       " '__new__',\n",
       " '__reduce__',\n",
       " '__reduce_ex__',\n",
       " '__repr__',\n",
       " '__reversed__',\n",
       " '__rmul__',\n",
       " '__setattr__',\n",
       " '__setitem__',\n",
       " '__sizeof__',\n",
       " '__str__',\n",
       " '__subclasshook__',\n",
       " 'append',\n",
       " 'clear',\n",
       " 'copy',\n",
       " 'count',\n",
       " 'extend',\n",
       " 'index',\n",
       " 'insert',\n",
       " 'pop',\n",
       " 'remove',\n",
       " 'reverse',\n",
       " 'sort']"
      ]
     },
     "execution_count": 27,
     "metadata": {},
     "output_type": "execute_result"
    }
   ],
   "source": [
    "print(list1.__sizeof__())\n",
    "dir(list1)"
   ]
  },
  {
   "cell_type": "markdown",
   "metadata": {},
   "source": [
    "#### 3-6 함수"
   ]
  },
  {
   "cell_type": "code",
   "execution_count": 29,
   "metadata": {},
   "outputs": [],
   "source": [
    "def two_num_plus(a,b):\n",
    "    print(\"두 값의 합은 : \", a+b)"
   ]
  },
  {
   "cell_type": "code",
   "execution_count": 30,
   "metadata": {},
   "outputs": [
    {
     "name": "stdout",
     "output_type": "stream",
     "text": [
      "두 값의 합은 :  8\n",
      "None\n"
     ]
    }
   ],
   "source": [
    "print(two_num_plus(3,5) )"
   ]
  },
  {
   "cell_type": "code",
   "execution_count": 31,
   "metadata": {},
   "outputs": [],
   "source": [
    "def num_plus(a,b):\n",
    "    print(\"두 값의 합은 : \", a+b)\n",
    "    return 1      #실행성공"
   ]
  },
  {
   "cell_type": "code",
   "execution_count": 32,
   "metadata": {},
   "outputs": [
    {
     "name": "stdout",
     "output_type": "stream",
     "text": [
      "두 값의 합은 :  8\n",
      "정상적으로 수행 종료\n"
     ]
    }
   ],
   "source": [
    "result = num_plus(3,5)\n",
    "if result ==1:\n",
    "    print(\"정상적으로 수행 종료\")"
   ]
  },
  {
   "cell_type": "markdown",
   "metadata": {},
   "source": [
    "#### 여러개의 값을 더하기"
   ]
  },
  {
   "cell_type": "code",
   "execution_count": 33,
   "metadata": {},
   "outputs": [],
   "source": [
    "def multi_plus(*arg):\n",
    "    sum = 0\n",
    "    for one in arg:\n",
    "        # print(one)\n",
    "        sum += one\n",
    "    return sum"
   ]
  },
  {
   "cell_type": "code",
   "execution_count": 34,
   "metadata": {},
   "outputs": [
    {
     "name": "stdout",
     "output_type": "stream",
     "text": [
      "전체 합은 :  19\n"
     ]
    }
   ],
   "source": [
    "value = multi_plus(3, 5, 6, 2, 3)\n",
    "print(\"전체 합은 : \", value)"
   ]
  },
  {
   "cell_type": "code",
   "execution_count": 36,
   "metadata": {},
   "outputs": [
    {
     "name": "stdout",
     "output_type": "stream",
     "text": [
      "dict_keys(['안녕', '날씨', '이름'])\n",
      "dict_values(['반가워 난 에프라고 해.', '그래 날씨도 좋고, 너도 만나서 기쁘다 좋은 날이야', '난 에이미라고 해. 너는?'])\n",
      "dict_items([('안녕', '반가워 난 에프라고 해.'), ('날씨', '그래 날씨도 좋고, 너도 만나서 기쁘다 좋은 날이야'), ('이름', '난 에이미라고 해. 너는?')])\n"
     ]
    }
   ],
   "source": [
    "robot = {\"안녕\":'반가워 난 에프라고 해.',\n",
    "         \"날씨\":'그래 날씨도 좋고, 너도 만나서 기쁘다 좋은 날이야',\n",
    "         \"이름\":'난 에이미라고 해. 너는?'}\n",
    "\n",
    "print(robot.keys())\n",
    "print(robot.values())\n",
    "print(robot.items())"
   ]
  },
  {
   "cell_type": "code",
   "execution_count": 37,
   "metadata": {},
   "outputs": [
    {
     "name": "stdout",
     "output_type": "stream",
     "text": [
      "대화를 입력해 주세요(*종료:q) : q\n",
      "무슨 이야기인지 아직 모르겠어. 미안.\n",
      "대화를 입력해 주세요(*종료:q) : 이름\n",
      "난 에이미라고 해. 너는?\n",
      "대화를 입력해 주세요(*종료:q) : 이름\n",
      "난 에이미라고 해. 너는?\n"
     ]
    }
   ],
   "source": [
    "for i in range(3):\n",
    "    word = input(\"대화를 입력해 주세요(*종료:q) : \")\n",
    "    if word in robot.keys():\n",
    "        print(robot[word])\n",
    "    else:\n",
    "        print(\"무슨 이야기인지 아직 모르겠어. 미안.\")"
   ]
  },
  {
   "cell_type": "markdown",
   "metadata": {},
   "source": [
    "#### 실습3\n",
    "* 위의 실습2에 종료 기능을 추가해 보자. q를 입력하면 더 이상 묻지 않고, 끝내기."
   ]
  },
  {
   "cell_type": "code",
   "execution_count": 44,
   "metadata": {},
   "outputs": [
    {
     "name": "stdout",
     "output_type": "stream",
     "text": [
      "대화를 입력해 주세요(*종료:q) : 안녕\n",
      "반가워 난 에프라고 해.\n",
      "대화를 입력해 주세요(*종료:q) : q\n",
      "종료\n"
     ]
    }
   ],
   "source": [
    "for i in range(3):\n",
    "    word = input(\"대화를 입력해 주세요(*종료:q) : \")\n",
    "    if word in robot.keys():\n",
    "        print(robot[word])\n",
    "    elif word == 'q':\n",
    "        print(\"종료\")\n",
    "        break\n",
    "    else:\n",
    "        print(\"무슨 이야기인지 아직 모르겠어. 미안.\")"
   ]
  },
  {
   "cell_type": "code",
   "execution_count": null,
   "metadata": {},
   "outputs": [],
   "source": []
  }
 ],
 "metadata": {
  "kernelspec": {
   "display_name": "Python 3",
   "language": "python",
   "name": "python3"
  },
  "language_info": {
   "codemirror_mode": {
    "name": "ipython",
    "version": 3
   },
   "file_extension": ".py",
   "mimetype": "text/x-python",
   "name": "python",
   "nbconvert_exporter": "python",
   "pygments_lexer": "ipython3",
   "version": "3.8.5"
  }
 },
 "nbformat": 4,
 "nbformat_minor": 4
}
