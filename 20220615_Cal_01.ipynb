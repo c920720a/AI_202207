{
 "cells": [
  {
   "cell_type": "code",
   "execution_count": 1,
   "metadata": {},
   "outputs": [],
   "source": [
    "# 라이브러리 불러오기\n",
    "from tkinter import *"
   ]
  },
  {
   "cell_type": "code",
   "execution_count": 3,
   "metadata": {},
   "outputs": [
    {
     "data": {
      "text/plain": [
       "''"
      ]
     },
     "execution_count": 3,
     "metadata": {},
     "output_type": "execute_result"
    }
   ],
   "source": [
    "def click(key):\n",
    "    print(key, \"클릭했습니다.\")\n",
    "    \n",
    "w = Tk()\n",
    "w.title(\"간단한 계산기\")"
   ]
  },
  {
   "cell_type": "code",
   "execution_count": 4,
   "metadata": {},
   "outputs": [],
   "source": [
    "# 계산기 표시창\n",
    "cal_win = Entry(w, width=33, bg='yellow')\n",
    "cal_win.grid(row=0, column=0, columnspan=5)"
   ]
  },
  {
   "cell_type": "code",
   "execution_count": 5,
   "metadata": {},
   "outputs": [],
   "source": [
    "# 버튼 4개 표시해보기\n",
    "btn_list = ['AC', \"+\", \"-\", \"/\"]\n",
    "\n",
    "row_num=0\n",
    "for b in btn_list:\n",
    "    cmd = lambda x=b: click(x)\n",
    "    btn = Button(w, text=b, width=5,\n",
    "                relief='ridge', command=cmd)\n",
    "    btn.grid(row=row_num//5+1, column=row_num%5)\n",
    "    row_num += 1    "
   ]
  },
  {
   "cell_type": "code",
   "execution_count": 6,
   "metadata": {},
   "outputs": [
    {
     "name": "stdout",
     "output_type": "stream",
     "text": [
      "+ 클릭했습니다.\n",
      "- 클릭했습니다.\n",
      "/ 클릭했습니다.\n",
      "AC 클릭했습니다.\n"
     ]
    }
   ],
   "source": [
    "w.mainloop()"
   ]
  },
  {
   "cell_type": "code",
   "execution_count": null,
   "metadata": {},
   "outputs": [],
   "source": []
  }
 ],
 "metadata": {
  "kernelspec": {
   "display_name": "Python 3",
   "language": "python",
   "name": "python3"
  },
  "language_info": {
   "codemirror_mode": {
    "name": "ipython",
    "version": 3
   },
   "file_extension": ".py",
   "mimetype": "text/x-python",
   "name": "python",
   "nbconvert_exporter": "python",
   "pygments_lexer": "ipython3",
   "version": "3.8.5"
  }
 },
 "nbformat": 4,
 "nbformat_minor": 4
}
