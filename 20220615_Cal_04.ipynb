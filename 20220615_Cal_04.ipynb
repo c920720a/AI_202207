{
 "cells": [
  {
   "cell_type": "code",
   "execution_count": 1,
   "metadata": {},
   "outputs": [],
   "source": [
    "from tkinter import *"
   ]
  },
  {
   "cell_type": "code",
   "execution_count": 2,
   "metadata": {},
   "outputs": [],
   "source": [
    "window = Tk()\n",
    "window.title('My Calculator★')\n",
    "display = Entry(window, width=35, bg='light green')\n",
    "display.grid(row=0, column=0, columnspan=5)"
   ]
  },
  {
   "cell_type": "code",
   "execution_count": 6,
   "metadata": {},
   "outputs": [],
   "source": [
    "button_list = [\n",
    "    '7', '8', '9', '/', 'AC',\n",
    "    '4', '5', '6', '*', '**',\n",
    "    '1', '2', '3', '-', '(',\n",
    "    '0', '.', '=', '+', ')']"
   ]
  },
  {
   "cell_type": "code",
   "execution_count": 7,
   "metadata": {},
   "outputs": [],
   "source": [
    "def click(key):\n",
    "    if key == '=':\n",
    "        result = eval(display.get())\n",
    "        s = str(result)\n",
    "        display.insert(END, '=' + s)\n",
    "    elif key == 'AC':\n",
    "        display.delete(0, 'end')\n",
    "    else:\n",
    "        display.insert(END, key)"
   ]
  },
  {
   "cell_type": "code",
   "execution_count": 8,
   "metadata": {},
   "outputs": [],
   "source": [
    "row_index = 1\n",
    "col_index = 0\n",
    "for button_text in button_list:\n",
    "    def process(t=button_text):\n",
    "        click(t)\n",
    "    Button(window, text=button_text, width=5,\n",
    "          command=process).grid(row=row_index, column=col_index)    \n",
    "    col_index += 1\n",
    "    if col_index > 4:\n",
    "        row_index += 1\n",
    "        col_index = 0"
   ]
  }
 ],
 "metadata": {
  "kernelspec": {
   "display_name": "Python 3",
   "language": "python",
   "name": "python3"
  },
  "language_info": {
   "codemirror_mode": {
    "name": "ipython",
    "version": 3
   },
   "file_extension": ".py",
   "mimetype": "text/x-python",
   "name": "python",
   "nbconvert_exporter": "python",
   "pygments_lexer": "ipython3",
   "version": "3.8.5"
  }
 },
 "nbformat": 4,
 "nbformat_minor": 4
}
