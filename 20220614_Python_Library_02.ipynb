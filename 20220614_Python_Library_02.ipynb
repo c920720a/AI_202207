{
 "cells": [
  {
   "cell_type": "markdown",
   "metadata": {},
   "source": [
    "#### 외부 모듈(라이브러리) 사용해보기"
   ]
  },
  {
   "cell_type": "code",
   "execution_count": 4,
   "metadata": {},
   "outputs": [
    {
     "name": "stdout",
     "output_type": "stream",
     "text": [
      "C:\\Users\\gram\\Documents\\★중급반\n"
     ]
    }
   ],
   "source": [
    "import os\n",
    "\n",
    "# 현재 위치 확인\n",
    "print( os.getcwd() )"
   ]
  },
  {
   "cell_type": "code",
   "execution_count": 5,
   "metadata": {},
   "outputs": [
    {
     "name": "stdout",
     "output_type": "stream",
     "text": [
      "['.ipynb_checkpoints', '20220610_Python_01.ipynb', '20220613_Python_02.ipynb', '20220613_Python_03.ipynb', '20220613_Python_04.ipynb', '20220614_Python_Library_01.ipynb', '20220614_Python_Library_02.ipynb', 'mymod.py', '__pycache__']\n"
     ]
    }
   ],
   "source": [
    "# 현재 위치의 디렉터리 및 파일 확인\n",
    "print( os.listdir() )"
   ]
  },
  {
   "cell_type": "code",
   "execution_count": 6,
   "metadata": {},
   "outputs": [
    {
     "name": "stdout",
     "output_type": "stream",
     "text": [
      "None\n",
      "['.ipynb_checkpoints', '20220610_Python_01.ipynb', '20220613_Python_02.ipynb', '20220613_Python_03.ipynb', '20220613_Python_04.ipynb', '20220614_Python_Library_01.ipynb', '20220614_Python_Library_02.ipynb', 'mydir', 'mymod.py', '__pycache__']\n"
     ]
    }
   ],
   "source": [
    "# 현재 위치에 새로운 디렉터리 만들기\n",
    "print( os.mkdir(\"mydir\") )\n",
    "print( os.listdir() )"
   ]
  },
  {
   "cell_type": "code",
   "execution_count": 7,
   "metadata": {},
   "outputs": [
    {
     "name": "stdout",
     "output_type": "stream",
     "text": [
      "None\n",
      "['.ipynb_checkpoints', '20220610_Python_01.ipynb', '20220613_Python_02.ipynb', '20220613_Python_03.ipynb', '20220613_Python_04.ipynb', '20220614_Python_Library_01.ipynb', '20220614_Python_Library_02.ipynb', 'mymod.py', '__pycache__']\n"
     ]
    }
   ],
   "source": [
    "# 현재 위치에 디렉터리 삭제\n",
    "print( os.rmdir(\"mydir\") )\n",
    "print( os.listdir() )"
   ]
  },
  {
   "cell_type": "markdown",
   "metadata": {},
   "source": [
    "#### 외부 모듈(라이브러리) 사용해보기 - shutil\n",
    "* 파일을 복사해주는 파이썬 모듈"
   ]
  },
  {
   "cell_type": "code",
   "execution_count": 8,
   "metadata": {},
   "outputs": [
    {
     "name": "stdout",
     "output_type": "stream",
     "text": [
      "['.ipynb_checkpoints', '20220610_Python_01.ipynb', '20220613_Python_02.ipynb', '20220613_Python_03.ipynb', '20220613_Python_04.ipynb', '20220614_Python_Library_01.ipynb', '20220614_Python_Library_02.ipynb', 'mymod.py', '__pycache__']\n"
     ]
    }
   ],
   "source": [
    "print( os.listdir() )"
   ]
  },
  {
   "cell_type": "code",
   "execution_count": 11,
   "metadata": {},
   "outputs": [
    {
     "name": "stdout",
     "output_type": "stream",
     "text": [
      "['.ipynb_checkpoints', '20220610_Python_01.ipynb', '20220613_Python_02.ipynb', '20220613_Python_03.ipynb', '20220613_Python_04.ipynb', '20220614_Python_Library_01.ipynb', '20220614_Python_Library_02.ipynb', 'mydata.txt', 'mydata_bak.txt', 'mymod.py', '__pycache__']\n"
     ]
    }
   ],
   "source": [
    "import shutil\n",
    "shutil.copy(\"mydata.txt\", \"mydata_bak.txt\")\n",
    "print( os.listdir() )"
   ]
  },
  {
   "cell_type": "code",
   "execution_count": 12,
   "metadata": {},
   "outputs": [
    {
     "name": "stdout",
     "output_type": "stream",
     "text": [
      "['.ipynb_checkpoints', '20220610_Python_01.ipynb', '20220613_Python_02.ipynb', '20220613_Python_03.ipynb', '20220613_Python_04.ipynb', '20220614_Python_Library_01.ipynb', '20220614_Python_Library_02.ipynb', 'mydata.txt', 'mydata_bak.txt', 'mymod.py', 'mymod1.py', '__pycache__']\n"
     ]
    }
   ],
   "source": [
    "shutil.copy(\"mymod.py\", \"mymod1.py\")\n",
    "print( os.listdir() )"
   ]
  },
  {
   "cell_type": "markdown",
   "metadata": {},
   "source": [
    "#### 외부 모듈(라이브러리)사용해보기 - time\n",
    "* 시간과 관련된 다양한 기능"
   ]
  },
  {
   "cell_type": "code",
   "execution_count": 13,
   "metadata": {},
   "outputs": [],
   "source": [
    "import time"
   ]
  },
  {
   "cell_type": "code",
   "execution_count": 14,
   "metadata": {},
   "outputs": [
    {
     "data": {
      "text/plain": [
       "1655216864.2232106"
      ]
     },
     "execution_count": 14,
     "metadata": {},
     "output_type": "execute_result"
    }
   ],
   "source": [
    "# 현재 시간을 실수형태로 표현\n",
    "time.time()"
   ]
  },
  {
   "cell_type": "code",
   "execution_count": 16,
   "metadata": {},
   "outputs": [
    {
     "data": {
      "text/plain": [
       "time.struct_time(tm_year=2022, tm_mon=6, tm_mday=14, tm_hour=23, tm_min=28, tm_sec=27, tm_wday=1, tm_yday=165, tm_isdst=0)"
      ]
     },
     "execution_count": 16,
     "metadata": {},
     "output_type": "execute_result"
    }
   ],
   "source": [
    "# 현재 시간을 실수형태로 표현된 것을 년월일시분초로 표현\n",
    "a = time.time()\n",
    "time.localtime(a)"
   ]
  },
  {
   "cell_type": "code",
   "execution_count": 19,
   "metadata": {},
   "outputs": [
    {
     "data": {
      "text/plain": [
       "'2022/06/14 23/30/20'"
      ]
     },
     "execution_count": 19,
     "metadata": {},
     "output_type": "execute_result"
    }
   ],
   "source": [
    "# 원하는 포맷으로 출력\n",
    "# 자세한 포맷은 링크 참조 (http://wikidocs.net/33)\n",
    "\n",
    "loc_time = time.localtime(time.time())\n",
    "time.strftime(\"%Y/%m/%d %H/%M/%S\", loc_time)\n"
   ]
  },
  {
   "cell_type": "code",
   "execution_count": 20,
   "metadata": {},
   "outputs": [
    {
     "name": "stdout",
     "output_type": "stream",
     "text": [
      "지금부터 5초\n",
      "5초후 출력\n"
     ]
    }
   ],
   "source": [
    "### 몇초동안 실행을 지연시킨다.\n",
    "import time\n",
    "\n",
    "print(\"지금부터 5초\")\n",
    "time.sleep(5)\n",
    "print(\"5초후 출력\")"
   ]
  },
  {
   "cell_type": "markdown",
   "metadata": {},
   "source": [
    "#### 외부모듈(라이브러리) 사용해보기 - random"
   ]
  },
  {
   "cell_type": "code",
   "execution_count": 21,
   "metadata": {},
   "outputs": [],
   "source": [
    "import random"
   ]
  },
  {
   "cell_type": "code",
   "execution_count": 22,
   "metadata": {},
   "outputs": [
    {
     "data": {
      "text/plain": [
       "0.9767357762017594"
      ]
     },
     "execution_count": 22,
     "metadata": {},
     "output_type": "execute_result"
    }
   ],
   "source": [
    "# 0.0에서 1.0사이의 실수 중에서 난수값을 발생\n",
    "random.random()"
   ]
  },
  {
   "cell_type": "code",
   "execution_count": 23,
   "metadata": {},
   "outputs": [
    {
     "data": {
      "text/plain": [
       "8"
      ]
     },
     "execution_count": 23,
     "metadata": {},
     "output_type": "execute_result"
    }
   ],
   "source": [
    "# 1,10 사이의 정수 중에서 난수 발생\n",
    "random.randint(1,10)"
   ]
  },
  {
   "cell_type": "code",
   "execution_count": 24,
   "metadata": {},
   "outputs": [
    {
     "data": {
      "text/plain": [
       "25"
      ]
     },
     "execution_count": 24,
     "metadata": {},
     "output_type": "execute_result"
    }
   ],
   "source": [
    "# 1,30 사이의 정수 중에서 난수 값 발생\n",
    "random.randint(1,30)\n"
   ]
  },
  {
   "cell_type": "code",
   "execution_count": 25,
   "metadata": {},
   "outputs": [
    {
     "name": "stdout",
     "output_type": "stream",
     "text": [
      "가위\n"
     ]
    }
   ],
   "source": [
    "# 가위바위보 중에 하나 난수 발생\n",
    "a = ['가위', '바위', '보']\n",
    "num1 = random.randint(0,2)\n",
    "print(a[num1])"
   ]
  },
  {
   "cell_type": "markdown",
   "metadata": {},
   "source": [
    "#### [응용] 가위바위보 게임을 만들어보자."
   ]
  },
  {
   "cell_type": "code",
   "execution_count": 32,
   "metadata": {},
   "outputs": [
    {
     "name": "stdout",
     "output_type": "stream",
     "text": [
      "random 모듈을 활용한 가위바위보 게임입니다.\n",
      "가위, 바위, 보를 입력하세요.2\n",
      "잘못입력했습니다.\n"
     ]
    }
   ],
   "source": [
    "print(\"random 모듈을 활용한 가위바위보 게임입니다.\")\n",
    "\n",
    "#사용자가 낼 것\n",
    "usr = input(\"가위, 바위, 보를 입력하세요.\")\n",
    "\n",
    "#컴퓨터가 낼 것\n",
    "comp = ['가위', '바위', '보']\n",
    "com = random.choice(comp)\n",
    "\n",
    "if usr == com:\n",
    "    print(\"비겼습니다.\")\n",
    "elif usr == '가위':\n",
    "    if com == '보':\n",
    "        print(\"이겼습니다.\")\n",
    "    else:\n",
    "        print(\"졌습니다.\")\n",
    "elif usr == '바위':\n",
    "    if com == '가위':\n",
    "        print(\"이겼습니다.\")\n",
    "    else:\n",
    "        print(\"졌습니다.\")\n",
    "elif usr == '보':\n",
    "    if com == '바위':\n",
    "        print(\"이겼습니다.\")\n",
    "    else:\n",
    "        print(\"졌습니다.\")\n",
    "else:\n",
    "    print(\"잘못입력했습니다.\")\n"
   ]
  },
  {
   "cell_type": "code",
   "execution_count": 27,
   "metadata": {},
   "outputs": [
    {
     "name": "stdout",
     "output_type": "stream",
     "text": [
      "가위(0)/바위(1)/보(2) 중의 하나를 선택해 주세요(0,1,2) : 1\n",
      "컴퓨터 :  바위\n",
      "선택 :  바위\n",
      "비겼습니다.\n"
     ]
    }
   ],
   "source": [
    "# 가위바위보 중에 하나 난수 발생\n",
    "a = ['가위', '바위', '보']\n",
    "\n",
    "me = int( input(\"가위(0)/바위(1)/보(2) 중의 하나를 선택해 주세요(0,1,2) : \"))\n",
    "\n",
    "num1 = random.randint(0,2)\n",
    "print(\"컴퓨터 : \" ,a[num1])\n",
    "print(\"선택 : \" ,a[me])\n",
    "\n",
    "if a[me]==a[num1]:\n",
    "    print(\"비겼습니다.\")\n",
    "elif (a[me]==\"가위\") and (a[num1]==\"바위\"):\n",
    "    print(\"졌어요.\")\n",
    "elif (a[me]==\"바위\") and (a[num1]==\"가위\"):\n",
    "    print(\"이겼어요\")\n",
    "else:\n",
    "    print(\"잘못된 값을 입력했어요.\")"
   ]
  },
  {
   "cell_type": "markdown",
   "metadata": {},
   "source": [
    "#### [실습]\n",
    "* 위의 가위바위보 프로그램은 일부만 동작하고 일부는 동작하지 않습니다. 보완해주세요."
   ]
  },
  {
   "cell_type": "code",
   "execution_count": 33,
   "metadata": {},
   "outputs": [
    {
     "name": "stdout",
     "output_type": "stream",
     "text": [
      "random 모듈을 활용한 가위바위보 게임입니다. (3선승제)\n",
      "가위(1)/바위(2)/보(3) 중의 하나를 선택해 주세요(1,2,3) : 2\n",
      "컴퓨터 :  보\n",
      "선택 :  보\n",
      "비겼습니다.\n",
      "가위(1)/바위(2)/보(3) 중의 하나를 선택해 주세요(1,2,3) : 3\n",
      "컴퓨터 :  바위\n"
     ]
    },
    {
     "ename": "IndexError",
     "evalue": "list index out of range",
     "output_type": "error",
     "traceback": [
      "\u001b[1;31m---------------------------------------------------------------------------\u001b[0m",
      "\u001b[1;31mIndexError\u001b[0m                                Traceback (most recent call last)",
      "\u001b[1;32m<ipython-input-33-9acf42737c10>\u001b[0m in \u001b[0;36m<module>\u001b[1;34m\u001b[0m\n\u001b[0;32m     19\u001b[0m     \u001b[1;31m# 무엇을 냈는지 출력\u001b[0m\u001b[1;33m\u001b[0m\u001b[1;33m\u001b[0m\u001b[1;33m\u001b[0m\u001b[0m\n\u001b[0;32m     20\u001b[0m     \u001b[0mprint\u001b[0m\u001b[1;33m(\u001b[0m\u001b[1;34m\"컴퓨터 : \"\u001b[0m \u001b[1;33m,\u001b[0m\u001b[0mcomp\u001b[0m\u001b[1;33m[\u001b[0m\u001b[0mnum1\u001b[0m\u001b[1;33m]\u001b[0m\u001b[1;33m)\u001b[0m\u001b[1;33m\u001b[0m\u001b[1;33m\u001b[0m\u001b[0m\n\u001b[1;32m---> 21\u001b[1;33m     \u001b[0mprint\u001b[0m\u001b[1;33m(\u001b[0m\u001b[1;34m\"선택 : \"\u001b[0m \u001b[1;33m,\u001b[0m\u001b[0mcomp\u001b[0m\u001b[1;33m[\u001b[0m\u001b[0mme\u001b[0m\u001b[1;33m]\u001b[0m\u001b[1;33m)\u001b[0m\u001b[1;33m\u001b[0m\u001b[1;33m\u001b[0m\u001b[0m\n\u001b[0m\u001b[0;32m     22\u001b[0m \u001b[1;33m\u001b[0m\u001b[0m\n\u001b[0;32m     23\u001b[0m     \u001b[1;31m# 승패 결정\u001b[0m\u001b[1;33m\u001b[0m\u001b[1;33m\u001b[0m\u001b[1;33m\u001b[0m\u001b[0m\n",
      "\u001b[1;31mIndexError\u001b[0m: list index out of range"
     ]
    }
   ],
   "source": [
    "import random\n",
    "# 프로그램에 대한 설명\n",
    "print(\"random 모듈을 활용한 가위바위보 게임입니다. (3선승제)\")\n",
    "\n",
    "# 전적\n",
    "count1 = 0 # 사용자가 이긴 횟수\n",
    "count2 = 0 # 컴퓨터가 이긴 횟수\n",
    "\n",
    "# 가위바위보 중에 하나 난수 발생\n",
    "comp = ['가위', '바위', '보']\n",
    "\n",
    "# 3선승제\n",
    "while True:\n",
    "    # 사용자가 가위바위보 고르기\n",
    "    me = int( input(\"가위(1)/바위(2)/보(3) 중의 하나를 선택해 주세요(1,2,3) : \"))\n",
    "    # 랜덤함수를 사용해 컴퓨터가 무엇을 낼지 결정\n",
    "    num1 = random.randint(1,3)\n",
    "    \n",
    "    # 무엇을 냈는지 출력\n",
    "    print(\"컴퓨터 : \" ,comp[num1])\n",
    "    print(\"선택 : \" ,comp[me])\n",
    "    \n",
    "    # 승패 결정\n",
    "    i = me - num1 + 3\n",
    "    if i % 3 == 0:\n",
    "        print(\"비겼습니다.\")\n",
    "    elif i % 3 == 1:\n",
    "        count1 += 1\n",
    "        print(\"이겼습니다.\")\n",
    "    else:\n",
    "        count2 += 1\n",
    "        print(\"졌습니다.\")\n",
    "        \n",
    "    # 어느 한 쪽이 3판 먼저 이기면 반복문 종료\n",
    "    if count1 == 3 :\n",
    "        print(\"이겼습니다.\")\n",
    "        input(\"엔터 키를 누르면 종료됩니다.\")\n",
    "        break\n",
    "    elif count2 == 3 :\n",
    "        print(\"졌습니다.\")\n",
    "        input(\"엔터 키를 누르면 종료됩니다.\")\n",
    "        break"
   ]
  },
  {
   "cell_type": "code",
   "execution_count": null,
   "metadata": {},
   "outputs": [],
   "source": []
  }
 ],
 "metadata": {
  "kernelspec": {
   "display_name": "Python 3",
   "language": "python",
   "name": "python3"
  },
  "language_info": {
   "codemirror_mode": {
    "name": "ipython",
    "version": 3
   },
   "file_extension": ".py",
   "mimetype": "text/x-python",
   "name": "python",
   "nbconvert_exporter": "python",
   "pygments_lexer": "ipython3",
   "version": "3.8.5"
  }
 },
 "nbformat": 4,
 "nbformat_minor": 4
}
