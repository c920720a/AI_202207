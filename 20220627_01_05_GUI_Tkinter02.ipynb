{
 "cells": [
  {
   "cell_type": "code",
   "execution_count": 1,
   "metadata": {},
   "outputs": [],
   "source": [
    "# 주소록 정보 확인 - 이름으로 검색하여 정보 보기\n",
    "from tkinter import *\n",
    "import pandas as pd\n",
    "import os"
   ]
  },
  {
   "cell_type": "code",
   "execution_count": 2,
   "metadata": {},
   "outputs": [
    {
     "name": "stdout",
     "output_type": "stream",
     "text": [
      "C:\\Users\\gram\\Documents\\★중급반\n",
      "['.ipynb_checkpoints', '20220610_Python_01.ipynb', '20220613_Python_02.ipynb', '20220613_Python_03.ipynb', '20220613_Python_04.ipynb', '20220614_Python_Library_01.ipynb', '20220614_Python_Library_02.ipynb', '20220615_Bike_01.ipynb', '20220615_Bike_02.ipynb', '20220615_Cal_01.ipynb', '20220615_Cal_02.ipynb', '20220615_Cal_03.ipynb', '20220615_Cal_04.ipynb', '20220615_Excel_01.ipynb', '20220615_Excel_02.ipynb', '20220615_GUI_Tkinter_01.ipynb', '20220615_GUI_Tkinter_02.ipynb', '20220615_matplotlib_01.ipynb', '20220617_Pandas_01.ipynb', '20220617_Pandas_02_California.ipynb', '20220617_Pandas_03_California.ipynb', '20220618_Folium_01.ipynb', '20220618_Folium_02.ipynb', '20220624_인공지능 기본 문제.ipynb', '20220627_01_01_파이썬기본.ipynb', '20220627_01_01_파이썬기본.pdf', '20220627_01_02_파이썬함수모듈.ipynb', '20220627_01_02_파이썬함수모듈.pdf', '20220627_01_03_파이썬엑셀.ipynb', '20220627_01_03_파이썬엑셀.pdf', '20220627_01_04_GUI_Tkinter01.ipynb', '20220627_01_04_GUI_Tkinter01.pdf', '20220627_01_04_GUI_Tkinter02.ipynb', 'address.xlsx', 'bike', 'dic_excel.xlsx', 'map.html', 'map_circle.html', 'mydata.txt', 'mydata_bak.txt', 'mymod.py', 'mymod1.py', 'plt_legend_0622.PNG', 'Plugins_1.html', 'seoul_muncipalities_geo.json', 'team_12.csv', 'team_12.xlsx', '__pycache__', '★AI Project Goorm Schedule Danie.pdf', '★AI Project Goorm Schedule.xlsx', '전국전통시장표준데이터.csv', '주소록.xlsx', '주소록_chk.xlsx']\n"
     ]
    }
   ],
   "source": [
    "# global dat\n",
    "\n",
    "print(os.getcwd())\n",
    "print(os.listdir())"
   ]
  },
  {
   "cell_type": "code",
   "execution_count": 3,
   "metadata": {},
   "outputs": [
    {
     "name": "stdout",
     "output_type": "stream",
     "text": [
      "      이름          전화번호\n",
      "0    홍길동   02-302-3333\n",
      "1    김길동  010-222-3334\n",
      "2  Yurim  010-222-3334\n",
      "3    NaN   02-302-3333\n",
      "4    홍길동       7777777\n"
     ]
    }
   ],
   "source": [
    "#%%\n",
    "dat = pd.read_excel(\"./address.xlsx\", \"두번째시트\")\n",
    "print(dat)"
   ]
  },
  {
   "cell_type": "code",
   "execution_count": 4,
   "metadata": {},
   "outputs": [],
   "source": [
    "def click():\n",
    "    # pass\n",
    "    word = entry.get()  # 아래 엔트리 상자의 내용을 text로 넣는다.\n",
    "    # END로 지정하면 문자열이 입력된 최종 입력 지점을 의미.\n",
    "    # 특정 시작 지점부터 텍스트 엔트리 위젯의 끝까지 모두 지우기 위해 END를 쓴다.\n",
    "    output.delete(0.0, END) # 텍스트 박스 내용을 지운다.\n",
    "\n",
    "    try:\n",
    "        def_word = dat.loc[dat['이름']==word, '전화번호'].values[0]\n",
    "    except:\n",
    "        def_word = \"해당 이름을 찾을 수 없습니다.\"\n",
    "        # dat = window_add(dat)\n",
    "\n",
    "    print(def_word)\n",
    "    output.insert(END, def_word)"
   ]
  },
  {
   "cell_type": "code",
   "execution_count": 5,
   "metadata": {},
   "outputs": [
    {
     "data": {
      "text/plain": [
       "''"
      ]
     },
     "execution_count": 5,
     "metadata": {},
     "output_type": "execute_result"
    }
   ],
   "source": [
    "# 메인 :\n",
    "window = Tk()\n",
    "window.title(\"전화번호부\")"
   ]
  },
  {
   "cell_type": "code",
   "execution_count": 6,
   "metadata": {},
   "outputs": [],
   "source": [
    "# 01 입력 상자 설명 레이블 \n",
    "label = Label(window, text=\"찾을 사람 이름을 입력 후, 엔터 키 누르기\")\n",
    "label.grid(row=0, column=0, sticky=W)\n",
    "\n",
    "# 02 텍스트 입력이 가능한 상자(Entry)\n",
    "entry = Entry(window, width=15, bg=\"light green\")\n",
    "entry.grid(row=1, column=0, sticky=W)\n",
    "\n",
    "# 03 제출 버튼 추가\n",
    "btn = Button(window, text=\"검색\", width=5, command=click)\n",
    "btn.grid(row=2, column=0, sticky=W)\n",
    "\n",
    "# 04 설명 레이블\n",
    "lable2 = Label(window, text=\"\\n전화번호:\")\n",
    "lable2.grid(row=3, column=0, sticky=W)\n",
    "\n",
    "# 05 텍스트 박스 입력 상자\n",
    "# columnspan=2 는 (4,0)~(4,1) 위치까지 분포\n",
    "output = Text(window, width=30, height=2, wrap=WORD, background=\"light green\")\n",
    "output.grid(row=4, column=0, columnspan=2, sticky=W)"
   ]
  },
  {
   "cell_type": "code",
   "execution_count": 7,
   "metadata": {},
   "outputs": [
    {
     "name": "stdout",
     "output_type": "stream",
     "text": [
      "해당 이름을 찾을 수 없습니다.\n",
      "010-222-3334\n"
     ]
    }
   ],
   "source": [
    "# 메인 반복문 실행\n",
    "window.mainloop()"
   ]
  },
  {
   "cell_type": "code",
   "execution_count": null,
   "metadata": {},
   "outputs": [],
   "source": []
  }
 ],
 "metadata": {
  "kernelspec": {
   "display_name": "Python 3",
   "language": "python",
   "name": "python3"
  },
  "language_info": {
   "codemirror_mode": {
    "name": "ipython",
    "version": 3
   },
   "file_extension": ".py",
   "mimetype": "text/x-python",
   "name": "python",
   "nbconvert_exporter": "python",
   "pygments_lexer": "ipython3",
   "version": "3.8.5"
  }
 },
 "nbformat": 4,
 "nbformat_minor": 4
}
