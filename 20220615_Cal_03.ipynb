{
 "cells": [
  {
   "cell_type": "code",
   "execution_count": 1,
   "metadata": {},
   "outputs": [],
   "source": [
    "# (간단 생각해보기)\n",
    "# button을 한 행에 4개가 아닌 5개를 넣어보자.\n",
    "# ^ 연산자 계산 기능 추가"
   ]
  },
  {
   "cell_type": "code",
   "execution_count": 2,
   "metadata": {},
   "outputs": [],
   "source": [
    "# 라이브러리 불러오기\n",
    "from tkinter import *"
   ]
  },
  {
   "cell_type": "code",
   "execution_count": 3,
   "metadata": {},
   "outputs": [],
   "source": [
    "def click(key):\n",
    "    print(key, \"클릭했습니다.\")\n",
    "    if key == \"=\":\n",
    "        try:\n",
    "            result = eval( cal_win.get() )\n",
    "            cal_win.delete(0, END)\n",
    "            cal_win.insert( END, str(result) )\n",
    "        except:\n",
    "            cal_win.insert(END, \"ERROR!!!\")\n",
    "    elif key==\"AC\":\n",
    "        cal_win.delete(0, END)\n",
    "    else:\n",
    "        cal_win.insert( END, key )"
   ]
  },
  {
   "cell_type": "code",
   "execution_count": 4,
   "metadata": {},
   "outputs": [
    {
     "data": {
      "text/plain": [
       "''"
      ]
     },
     "execution_count": 4,
     "metadata": {},
     "output_type": "execute_result"
    }
   ],
   "source": [
    "w = Tk()\n",
    "w.title(\"간단한 계산기\")"
   ]
  },
  {
   "cell_type": "code",
   "execution_count": 5,
   "metadata": {},
   "outputs": [],
   "source": [
    "# 계산기 표시창\n",
    "cal_win = Entry(w, width=25, bg='yellow', font=(\"HANBatangExt\"))\n",
    "cal_win.grid(row=0, column=0, columnspan=5, sticky=\"e\")"
   ]
  },
  {
   "cell_type": "code",
   "execution_count": 6,
   "metadata": {},
   "outputs": [],
   "source": [
    "# 버튼 5개 표시해보기\n",
    "btn_list = [\"AC\", \"+\", \"%\", \"/\", \"*\",\n",
    "            \"5\", \"6\", \"7\", \"8\", \"9\", \n",
    "            \"0\", \"1\", \"2\", \"3\", \"4\",\n",
    "            \"+\", \"-\", \".\", \"^\", \"=\"]"
   ]
  },
  {
   "cell_type": "code",
   "execution_count": 7,
   "metadata": {},
   "outputs": [],
   "source": [
    "row_num = 0\n",
    "for b in btn_list:\n",
    "    cmd = lambda x=b: click(x)\n",
    "\n",
    "    # relief : 3차원 효과\n",
    "    btn = Button(w, text=b, width=5, \n",
    "                  relief='ridge', command=cmd)\n",
    "    \n",
    "    # 4개 버튼이 차면 다음 줄로 이동\n",
    "    btn.grid(row=row_num//5+1, column=row_num%5)\n",
    "    row_num += 1"
   ]
  },
  {
   "cell_type": "code",
   "execution_count": 8,
   "metadata": {},
   "outputs": [
    {
     "name": "stdout",
     "output_type": "stream",
     "text": [
      "5 클릭했습니다.\n",
      "* 클릭했습니다.\n",
      "1 클릭했습니다.\n",
      "= 클릭했습니다.\n",
      ". 클릭했습니다.\n",
      "0 클릭했습니다.\n",
      "= 클릭했습니다.\n",
      "AC 클릭했습니다.\n",
      "2 클릭했습니다.\n",
      "^ 클릭했습니다.\n",
      "2 클릭했습니다.\n",
      "= 클릭했습니다.\n",
      "2 클릭했습니다.\n",
      "^ 클릭했습니다.\n",
      "2 클릭했습니다.\n",
      "= 클릭했습니다.\n",
      "5 클릭했습니다.\n",
      "+ 클릭했습니다.\n",
      "1 클릭했습니다.\n",
      "= 클릭했습니다.\n",
      "AC 클릭했습니다.\n",
      "5 클릭했습니다.\n",
      "+ 클릭했습니다.\n",
      "5 클릭했습니다.\n",
      "= 클릭했습니다.\n",
      "AC 클릭했습니다.\n",
      "6 클릭했습니다.\n",
      "% 클릭했습니다.\n",
      "2 클릭했습니다.\n",
      "= 클릭했습니다.\n"
     ]
    }
   ],
   "source": [
    "w.mainloop()"
   ]
  },
  {
   "cell_type": "code",
   "execution_count": null,
   "metadata": {},
   "outputs": [],
   "source": []
  }
 ],
 "metadata": {
  "kernelspec": {
   "display_name": "Python 3",
   "language": "python",
   "name": "python3"
  },
  "language_info": {
   "codemirror_mode": {
    "name": "ipython",
    "version": 3
   },
   "file_extension": ".py",
   "mimetype": "text/x-python",
   "name": "python",
   "nbconvert_exporter": "python",
   "pygments_lexer": "ipython3",
   "version": "3.8.5"
  }
 },
 "nbformat": 4,
 "nbformat_minor": 4
}
