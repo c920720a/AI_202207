{
 "cells": [
  {
   "cell_type": "markdown",
   "metadata": {
    "id": "a18BEz_wKcSo"
   },
   "source": [
    "### Spaceship Titanic 데이터 분석\n",
    "* 우주선에서 승객을 보낼때, 다른 차원 이송되었는지, 아닌지 예측하기\n",
    "* 데이터 출처 : https://www.kaggle.com/competitions/spaceship-titanic/data"
   ]
  },
  {
   "cell_type": "markdown",
   "metadata": {
    "id": "zM3ljUDfKqyK"
   },
   "source": [
    "#### Spaceship Titanic 데이터 분석"
   ]
  },
  {
   "cell_type": "code",
   "execution_count": 1,
   "metadata": {
    "id": "xeCG_KtPKUvC"
   },
   "outputs": [],
   "source": [
    "# 라이브러리 불러오기\n",
    "import pandas as pd\n",
    "import seaborn as sns\n",
    "import numpy as np\n",
    "import matplotlib.pyplot as plt\n",
    "\n",
    "from sklearn.model_selection import train_test_split"
   ]
  },
  {
   "cell_type": "code",
   "execution_count": 3,
   "metadata": {
    "colab": {
     "base_uri": "https://localhost:8080/"
    },
    "id": "mYcDVOQQKwAS",
    "outputId": "7c9478cc-96c1-4bff-8ed1-f5c3fb76868c"
   },
   "outputs": [
    {
     "data": {
      "text/plain": [
       "((8693, 14), (4277, 13), (4277, 2))"
      ]
     },
     "execution_count": 3,
     "metadata": {},
     "output_type": "execute_result"
    }
   ],
   "source": [
    "# 데이터 불러오기\n",
    "sub = pd.read_csv(\"sample_submission.csv\")\n",
    "train = pd.read_csv(\"train.csv\")\n",
    "test = pd.read_csv(\"test.csv\")\n",
    "\n",
    "train.shape, test.shape, sub.shape"
   ]
  },
  {
   "cell_type": "code",
   "execution_count": 4,
   "metadata": {
    "colab": {
     "base_uri": "https://localhost:8080/"
    },
    "id": "r28ZUmMrK9rZ",
    "outputId": "1db1515f-269a-424f-d901-4ed24743c915"
   },
   "outputs": [
    {
     "name": "stdout",
     "output_type": "stream",
     "text": [
      "Index(['PassengerId', 'HomePlanet', 'CryoSleep', 'Cabin', 'Destination', 'Age',\n",
      "       'VIP', 'RoomService', 'FoodCourt', 'ShoppingMall', 'Spa', 'VRDeck',\n",
      "       'Name', 'Transported'],\n",
      "      dtype='object')\n",
      "\n",
      "Index(['PassengerId', 'HomePlanet', 'CryoSleep', 'Cabin', 'Destination', 'Age',\n",
      "       'VIP', 'RoomService', 'FoodCourt', 'ShoppingMall', 'Spa', 'VRDeck',\n",
      "       'Name'],\n",
      "      dtype='object')\n"
     ]
    }
   ],
   "source": [
    "print( train.columns, end=\"\\n\\n\")\n",
    "print( test.columns)"
   ]
  },
  {
   "cell_type": "code",
   "execution_count": 5,
   "metadata": {
    "colab": {
     "base_uri": "https://localhost:8080/"
    },
    "id": "MCJCFVRJLCFJ",
    "outputId": "59ddc793-f063-4942-8c29-a28fbc9bfba9"
   },
   "outputs": [
    {
     "data": {
      "text/plain": [
       "array([False,  True])"
      ]
     },
     "execution_count": 5,
     "metadata": {},
     "output_type": "execute_result"
    }
   ],
   "source": [
    "# 예측할 피처(특징)은 Transported\n",
    "# Transported은 어떠한 값을 갖을까?\n",
    "\n",
    "train['Transported'].unique()"
   ]
  },
  {
   "cell_type": "code",
   "execution_count": 6,
   "metadata": {
    "colab": {
     "base_uri": "https://localhost:8080/",
     "height": 529
    },
    "id": "WmHPpDabLGg7",
    "outputId": "fbf95d7f-e00e-4e5d-93f0-7be00c35ad9d"
   },
   "outputs": [
    {
     "ename": "KeyError",
     "evalue": "ignored",
     "output_type": "error",
     "traceback": [
      "\u001b[0;31m---------------------------------------------------------------------------\u001b[0m",
      "\u001b[0;31mKeyError\u001b[0m                                  Traceback (most recent call last)",
      "\u001b[0;32m/usr/local/lib/python3.7/dist-packages/pandas/core/indexes/base.py\u001b[0m in \u001b[0;36mget_loc\u001b[0;34m(self, key, method, tolerance)\u001b[0m\n\u001b[1;32m   3360\u001b[0m             \u001b[0;32mtry\u001b[0m\u001b[0;34m:\u001b[0m\u001b[0;34m\u001b[0m\u001b[0;34m\u001b[0m\u001b[0m\n\u001b[0;32m-> 3361\u001b[0;31m                 \u001b[0;32mreturn\u001b[0m \u001b[0mself\u001b[0m\u001b[0;34m.\u001b[0m\u001b[0m_engine\u001b[0m\u001b[0;34m.\u001b[0m\u001b[0mget_loc\u001b[0m\u001b[0;34m(\u001b[0m\u001b[0mcasted_key\u001b[0m\u001b[0;34m)\u001b[0m\u001b[0;34m\u001b[0m\u001b[0;34m\u001b[0m\u001b[0m\n\u001b[0m\u001b[1;32m   3362\u001b[0m             \u001b[0;32mexcept\u001b[0m \u001b[0mKeyError\u001b[0m \u001b[0;32mas\u001b[0m \u001b[0merr\u001b[0m\u001b[0;34m:\u001b[0m\u001b[0;34m\u001b[0m\u001b[0;34m\u001b[0m\u001b[0m\n",
      "\u001b[0;32m/usr/local/lib/python3.7/dist-packages/pandas/_libs/index.pyx\u001b[0m in \u001b[0;36mpandas._libs.index.IndexEngine.get_loc\u001b[0;34m()\u001b[0m\n",
      "\u001b[0;32m/usr/local/lib/python3.7/dist-packages/pandas/_libs/index.pyx\u001b[0m in \u001b[0;36mpandas._libs.index.IndexEngine.get_loc\u001b[0;34m()\u001b[0m\n",
      "\u001b[0;32mpandas/_libs/hashtable_class_helper.pxi\u001b[0m in \u001b[0;36mpandas._libs.hashtable.PyObjectHashTable.get_item\u001b[0;34m()\u001b[0m\n",
      "\u001b[0;32mpandas/_libs/hashtable_class_helper.pxi\u001b[0m in \u001b[0;36mpandas._libs.hashtable.PyObjectHashTable.get_item\u001b[0;34m()\u001b[0m\n",
      "\u001b[0;31mKeyError\u001b[0m: 'Transported'",
      "\nThe above exception was the direct cause of the following exception:\n",
      "\u001b[0;31mKeyError\u001b[0m                                  Traceback (most recent call last)",
      "\u001b[0;32m<ipython-input-6-ce9cbd041177>\u001b[0m in \u001b[0;36m<module>\u001b[0;34m()\u001b[0m\n\u001b[0;32m----> 1\u001b[0;31m \u001b[0mtest\u001b[0m\u001b[0;34m[\u001b[0m\u001b[0;34m'Transported'\u001b[0m\u001b[0;34m]\u001b[0m\u001b[0;34m.\u001b[0m\u001b[0munique\u001b[0m\u001b[0;34m(\u001b[0m\u001b[0;34m)\u001b[0m  \u001b[0;31m# test에는 예측할 컬럼이 없음. 에러 발생\u001b[0m\u001b[0;34m\u001b[0m\u001b[0;34m\u001b[0m\u001b[0m\n\u001b[0m",
      "\u001b[0;32m/usr/local/lib/python3.7/dist-packages/pandas/core/frame.py\u001b[0m in \u001b[0;36m__getitem__\u001b[0;34m(self, key)\u001b[0m\n\u001b[1;32m   3456\u001b[0m             \u001b[0;32mif\u001b[0m \u001b[0mself\u001b[0m\u001b[0;34m.\u001b[0m\u001b[0mcolumns\u001b[0m\u001b[0;34m.\u001b[0m\u001b[0mnlevels\u001b[0m \u001b[0;34m>\u001b[0m \u001b[0;36m1\u001b[0m\u001b[0;34m:\u001b[0m\u001b[0;34m\u001b[0m\u001b[0;34m\u001b[0m\u001b[0m\n\u001b[1;32m   3457\u001b[0m                 \u001b[0;32mreturn\u001b[0m \u001b[0mself\u001b[0m\u001b[0;34m.\u001b[0m\u001b[0m_getitem_multilevel\u001b[0m\u001b[0;34m(\u001b[0m\u001b[0mkey\u001b[0m\u001b[0;34m)\u001b[0m\u001b[0;34m\u001b[0m\u001b[0;34m\u001b[0m\u001b[0m\n\u001b[0;32m-> 3458\u001b[0;31m             \u001b[0mindexer\u001b[0m \u001b[0;34m=\u001b[0m \u001b[0mself\u001b[0m\u001b[0;34m.\u001b[0m\u001b[0mcolumns\u001b[0m\u001b[0;34m.\u001b[0m\u001b[0mget_loc\u001b[0m\u001b[0;34m(\u001b[0m\u001b[0mkey\u001b[0m\u001b[0;34m)\u001b[0m\u001b[0;34m\u001b[0m\u001b[0;34m\u001b[0m\u001b[0m\n\u001b[0m\u001b[1;32m   3459\u001b[0m             \u001b[0;32mif\u001b[0m \u001b[0mis_integer\u001b[0m\u001b[0;34m(\u001b[0m\u001b[0mindexer\u001b[0m\u001b[0;34m)\u001b[0m\u001b[0;34m:\u001b[0m\u001b[0;34m\u001b[0m\u001b[0;34m\u001b[0m\u001b[0m\n\u001b[1;32m   3460\u001b[0m                 \u001b[0mindexer\u001b[0m \u001b[0;34m=\u001b[0m \u001b[0;34m[\u001b[0m\u001b[0mindexer\u001b[0m\u001b[0;34m]\u001b[0m\u001b[0;34m\u001b[0m\u001b[0;34m\u001b[0m\u001b[0m\n",
      "\u001b[0;32m/usr/local/lib/python3.7/dist-packages/pandas/core/indexes/base.py\u001b[0m in \u001b[0;36mget_loc\u001b[0;34m(self, key, method, tolerance)\u001b[0m\n\u001b[1;32m   3361\u001b[0m                 \u001b[0;32mreturn\u001b[0m \u001b[0mself\u001b[0m\u001b[0;34m.\u001b[0m\u001b[0m_engine\u001b[0m\u001b[0;34m.\u001b[0m\u001b[0mget_loc\u001b[0m\u001b[0;34m(\u001b[0m\u001b[0mcasted_key\u001b[0m\u001b[0;34m)\u001b[0m\u001b[0;34m\u001b[0m\u001b[0;34m\u001b[0m\u001b[0m\n\u001b[1;32m   3362\u001b[0m             \u001b[0;32mexcept\u001b[0m \u001b[0mKeyError\u001b[0m \u001b[0;32mas\u001b[0m \u001b[0merr\u001b[0m\u001b[0;34m:\u001b[0m\u001b[0;34m\u001b[0m\u001b[0;34m\u001b[0m\u001b[0m\n\u001b[0;32m-> 3363\u001b[0;31m                 \u001b[0;32mraise\u001b[0m \u001b[0mKeyError\u001b[0m\u001b[0;34m(\u001b[0m\u001b[0mkey\u001b[0m\u001b[0;34m)\u001b[0m \u001b[0;32mfrom\u001b[0m \u001b[0merr\u001b[0m\u001b[0;34m\u001b[0m\u001b[0;34m\u001b[0m\u001b[0m\n\u001b[0m\u001b[1;32m   3364\u001b[0m \u001b[0;34m\u001b[0m\u001b[0m\n\u001b[1;32m   3365\u001b[0m         \u001b[0;32mif\u001b[0m \u001b[0mis_scalar\u001b[0m\u001b[0;34m(\u001b[0m\u001b[0mkey\u001b[0m\u001b[0;34m)\u001b[0m \u001b[0;32mand\u001b[0m \u001b[0misna\u001b[0m\u001b[0;34m(\u001b[0m\u001b[0mkey\u001b[0m\u001b[0;34m)\u001b[0m \u001b[0;32mand\u001b[0m \u001b[0;32mnot\u001b[0m \u001b[0mself\u001b[0m\u001b[0;34m.\u001b[0m\u001b[0mhasnans\u001b[0m\u001b[0;34m:\u001b[0m\u001b[0;34m\u001b[0m\u001b[0;34m\u001b[0m\u001b[0m\n",
      "\u001b[0;31mKeyError\u001b[0m: 'Transported'"
     ]
    }
   ],
   "source": [
    "test['Transported'].unique()  # test에는 예측할 컬럼이 없음. 에러 발생"
   ]
  },
  {
   "cell_type": "markdown",
   "metadata": {
    "id": "P3K1u8xzLJ6-"
   },
   "source": [
    "    01 우선 데이터를 나누고,\n",
    "    02 모델을 선택 및 학습하고, 이를 토대로 자체 평가를 토대로 모델 최종 선택\n",
    "    03 마지막 선택된 모델로 test의 Transported를 예측하고 제출"
   ]
  },
  {
   "cell_type": "markdown",
   "metadata": {
    "id": "CkQJcukULO72"
   },
   "source": [
    "#### 01 데이터 나누기"
   ]
  },
  {
   "cell_type": "code",
   "execution_count": 7,
   "metadata": {
    "colab": {
     "base_uri": "https://localhost:8080/"
    },
    "id": "eBR_hdnGLHvJ",
    "outputId": "6cd56a75-604a-499f-fffa-d9933804fe22"
   },
   "outputs": [
    {
     "name": "stdout",
     "output_type": "stream",
     "text": [
      "<class 'pandas.core.frame.DataFrame'>\n",
      "RangeIndex: 8693 entries, 0 to 8692\n",
      "Data columns (total 14 columns):\n",
      " #   Column        Non-Null Count  Dtype  \n",
      "---  ------        --------------  -----  \n",
      " 0   PassengerId   8693 non-null   object \n",
      " 1   HomePlanet    8492 non-null   object \n",
      " 2   CryoSleep     8476 non-null   object \n",
      " 3   Cabin         8494 non-null   object \n",
      " 4   Destination   8511 non-null   object \n",
      " 5   Age           8514 non-null   float64\n",
      " 6   VIP           8490 non-null   object \n",
      " 7   RoomService   8512 non-null   float64\n",
      " 8   FoodCourt     8510 non-null   float64\n",
      " 9   ShoppingMall  8485 non-null   float64\n",
      " 10  Spa           8510 non-null   float64\n",
      " 11  VRDeck        8505 non-null   float64\n",
      " 12  Name          8493 non-null   object \n",
      " 13  Transported   8693 non-null   bool   \n",
      "dtypes: bool(1), float64(6), object(7)\n",
      "memory usage: 891.5+ KB\n"
     ]
    }
   ],
   "source": [
    " train.info()"
   ]
  },
  {
   "cell_type": "code",
   "execution_count": 8,
   "metadata": {
    "colab": {
     "base_uri": "https://localhost:8080/"
    },
    "id": "HHFOXBUcLQMl",
    "outputId": "9155229e-cdf5-4e3a-e49c-32cbeb7ac1af"
   },
   "outputs": [
    {
     "name": "stdout",
     "output_type": "stream",
     "text": [
      "<class 'pandas.core.frame.DataFrame'>\n",
      "RangeIndex: 4277 entries, 0 to 4276\n",
      "Data columns (total 13 columns):\n",
      " #   Column        Non-Null Count  Dtype  \n",
      "---  ------        --------------  -----  \n",
      " 0   PassengerId   4277 non-null   object \n",
      " 1   HomePlanet    4190 non-null   object \n",
      " 2   CryoSleep     4184 non-null   object \n",
      " 3   Cabin         4177 non-null   object \n",
      " 4   Destination   4185 non-null   object \n",
      " 5   Age           4186 non-null   float64\n",
      " 6   VIP           4184 non-null   object \n",
      " 7   RoomService   4195 non-null   float64\n",
      " 8   FoodCourt     4171 non-null   float64\n",
      " 9   ShoppingMall  4179 non-null   float64\n",
      " 10  Spa           4176 non-null   float64\n",
      " 11  VRDeck        4197 non-null   float64\n",
      " 12  Name          4183 non-null   object \n",
      "dtypes: float64(6), object(7)\n",
      "memory usage: 434.5+ KB\n"
     ]
    }
   ],
   "source": [
    "test.info()"
   ]
  },
  {
   "cell_type": "code",
   "execution_count": 9,
   "metadata": {
    "colab": {
     "base_uri": "https://localhost:8080/",
     "height": 357
    },
    "id": "oPt1ZK0iLRqd",
    "outputId": "45037aa2-c874-4a08-82eb-df82f9cc0a25"
   },
   "outputs": [
    {
     "data": {
      "text/html": [
       "\n",
       "  <div id=\"df-45c76a52-53ad-4a89-9e35-5045a92de081\">\n",
       "    <div class=\"colab-df-container\">\n",
       "      <div>\n",
       "<style scoped>\n",
       "    .dataframe tbody tr th:only-of-type {\n",
       "        vertical-align: middle;\n",
       "    }\n",
       "\n",
       "    .dataframe tbody tr th {\n",
       "        vertical-align: top;\n",
       "    }\n",
       "\n",
       "    .dataframe thead th {\n",
       "        text-align: right;\n",
       "    }\n",
       "</style>\n",
       "<table border=\"1\" class=\"dataframe\">\n",
       "  <thead>\n",
       "    <tr style=\"text-align: right;\">\n",
       "      <th></th>\n",
       "      <th>PassengerId</th>\n",
       "      <th>HomePlanet</th>\n",
       "      <th>CryoSleep</th>\n",
       "      <th>Cabin</th>\n",
       "      <th>Destination</th>\n",
       "      <th>Age</th>\n",
       "      <th>VIP</th>\n",
       "      <th>RoomService</th>\n",
       "      <th>FoodCourt</th>\n",
       "      <th>ShoppingMall</th>\n",
       "      <th>Spa</th>\n",
       "      <th>VRDeck</th>\n",
       "      <th>Name</th>\n",
       "      <th>Transported</th>\n",
       "    </tr>\n",
       "  </thead>\n",
       "  <tbody>\n",
       "    <tr>\n",
       "      <th>0</th>\n",
       "      <td>0001_01</td>\n",
       "      <td>Europa</td>\n",
       "      <td>False</td>\n",
       "      <td>B/0/P</td>\n",
       "      <td>TRAPPIST-1e</td>\n",
       "      <td>39.0</td>\n",
       "      <td>False</td>\n",
       "      <td>0.0</td>\n",
       "      <td>0.0</td>\n",
       "      <td>0.0</td>\n",
       "      <td>0.0</td>\n",
       "      <td>0.0</td>\n",
       "      <td>Maham Ofracculy</td>\n",
       "      <td>False</td>\n",
       "    </tr>\n",
       "    <tr>\n",
       "      <th>1</th>\n",
       "      <td>0002_01</td>\n",
       "      <td>Earth</td>\n",
       "      <td>False</td>\n",
       "      <td>F/0/S</td>\n",
       "      <td>TRAPPIST-1e</td>\n",
       "      <td>24.0</td>\n",
       "      <td>False</td>\n",
       "      <td>109.0</td>\n",
       "      <td>9.0</td>\n",
       "      <td>25.0</td>\n",
       "      <td>549.0</td>\n",
       "      <td>44.0</td>\n",
       "      <td>Juanna Vines</td>\n",
       "      <td>True</td>\n",
       "    </tr>\n",
       "    <tr>\n",
       "      <th>2</th>\n",
       "      <td>0003_01</td>\n",
       "      <td>Europa</td>\n",
       "      <td>False</td>\n",
       "      <td>A/0/S</td>\n",
       "      <td>TRAPPIST-1e</td>\n",
       "      <td>58.0</td>\n",
       "      <td>True</td>\n",
       "      <td>43.0</td>\n",
       "      <td>3576.0</td>\n",
       "      <td>0.0</td>\n",
       "      <td>6715.0</td>\n",
       "      <td>49.0</td>\n",
       "      <td>Altark Susent</td>\n",
       "      <td>False</td>\n",
       "    </tr>\n",
       "    <tr>\n",
       "      <th>3</th>\n",
       "      <td>0003_02</td>\n",
       "      <td>Europa</td>\n",
       "      <td>False</td>\n",
       "      <td>A/0/S</td>\n",
       "      <td>TRAPPIST-1e</td>\n",
       "      <td>33.0</td>\n",
       "      <td>False</td>\n",
       "      <td>0.0</td>\n",
       "      <td>1283.0</td>\n",
       "      <td>371.0</td>\n",
       "      <td>3329.0</td>\n",
       "      <td>193.0</td>\n",
       "      <td>Solam Susent</td>\n",
       "      <td>False</td>\n",
       "    </tr>\n",
       "    <tr>\n",
       "      <th>4</th>\n",
       "      <td>0004_01</td>\n",
       "      <td>Earth</td>\n",
       "      <td>False</td>\n",
       "      <td>F/1/S</td>\n",
       "      <td>TRAPPIST-1e</td>\n",
       "      <td>16.0</td>\n",
       "      <td>False</td>\n",
       "      <td>303.0</td>\n",
       "      <td>70.0</td>\n",
       "      <td>151.0</td>\n",
       "      <td>565.0</td>\n",
       "      <td>2.0</td>\n",
       "      <td>Willy Santantines</td>\n",
       "      <td>True</td>\n",
       "    </tr>\n",
       "  </tbody>\n",
       "</table>\n",
       "</div>\n",
       "      <button class=\"colab-df-convert\" onclick=\"convertToInteractive('df-45c76a52-53ad-4a89-9e35-5045a92de081')\"\n",
       "              title=\"Convert this dataframe to an interactive table.\"\n",
       "              style=\"display:none;\">\n",
       "        \n",
       "  <svg xmlns=\"http://www.w3.org/2000/svg\" height=\"24px\"viewBox=\"0 0 24 24\"\n",
       "       width=\"24px\">\n",
       "    <path d=\"M0 0h24v24H0V0z\" fill=\"none\"/>\n",
       "    <path d=\"M18.56 5.44l.94 2.06.94-2.06 2.06-.94-2.06-.94-.94-2.06-.94 2.06-2.06.94zm-11 1L8.5 8.5l.94-2.06 2.06-.94-2.06-.94L8.5 2.5l-.94 2.06-2.06.94zm10 10l.94 2.06.94-2.06 2.06-.94-2.06-.94-.94-2.06-.94 2.06-2.06.94z\"/><path d=\"M17.41 7.96l-1.37-1.37c-.4-.4-.92-.59-1.43-.59-.52 0-1.04.2-1.43.59L10.3 9.45l-7.72 7.72c-.78.78-.78 2.05 0 2.83L4 21.41c.39.39.9.59 1.41.59.51 0 1.02-.2 1.41-.59l7.78-7.78 2.81-2.81c.8-.78.8-2.07 0-2.86zM5.41 20L4 18.59l7.72-7.72 1.47 1.35L5.41 20z\"/>\n",
       "  </svg>\n",
       "      </button>\n",
       "      \n",
       "  <style>\n",
       "    .colab-df-container {\n",
       "      display:flex;\n",
       "      flex-wrap:wrap;\n",
       "      gap: 12px;\n",
       "    }\n",
       "\n",
       "    .colab-df-convert {\n",
       "      background-color: #E8F0FE;\n",
       "      border: none;\n",
       "      border-radius: 50%;\n",
       "      cursor: pointer;\n",
       "      display: none;\n",
       "      fill: #1967D2;\n",
       "      height: 32px;\n",
       "      padding: 0 0 0 0;\n",
       "      width: 32px;\n",
       "    }\n",
       "\n",
       "    .colab-df-convert:hover {\n",
       "      background-color: #E2EBFA;\n",
       "      box-shadow: 0px 1px 2px rgba(60, 64, 67, 0.3), 0px 1px 3px 1px rgba(60, 64, 67, 0.15);\n",
       "      fill: #174EA6;\n",
       "    }\n",
       "\n",
       "    [theme=dark] .colab-df-convert {\n",
       "      background-color: #3B4455;\n",
       "      fill: #D2E3FC;\n",
       "    }\n",
       "\n",
       "    [theme=dark] .colab-df-convert:hover {\n",
       "      background-color: #434B5C;\n",
       "      box-shadow: 0px 1px 3px 1px rgba(0, 0, 0, 0.15);\n",
       "      filter: drop-shadow(0px 1px 2px rgba(0, 0, 0, 0.3));\n",
       "      fill: #FFFFFF;\n",
       "    }\n",
       "  </style>\n",
       "\n",
       "      <script>\n",
       "        const buttonEl =\n",
       "          document.querySelector('#df-45c76a52-53ad-4a89-9e35-5045a92de081 button.colab-df-convert');\n",
       "        buttonEl.style.display =\n",
       "          google.colab.kernel.accessAllowed ? 'block' : 'none';\n",
       "\n",
       "        async function convertToInteractive(key) {\n",
       "          const element = document.querySelector('#df-45c76a52-53ad-4a89-9e35-5045a92de081');\n",
       "          const dataTable =\n",
       "            await google.colab.kernel.invokeFunction('convertToInteractive',\n",
       "                                                     [key], {});\n",
       "          if (!dataTable) return;\n",
       "\n",
       "          const docLinkHtml = 'Like what you see? Visit the ' +\n",
       "            '<a target=\"_blank\" href=https://colab.research.google.com/notebooks/data_table.ipynb>data table notebook</a>'\n",
       "            + ' to learn more about interactive tables.';\n",
       "          element.innerHTML = '';\n",
       "          dataTable['output_type'] = 'display_data';\n",
       "          await google.colab.output.renderOutput(dataTable, element);\n",
       "          const docLink = document.createElement('div');\n",
       "          docLink.innerHTML = docLinkHtml;\n",
       "          element.appendChild(docLink);\n",
       "        }\n",
       "      </script>\n",
       "    </div>\n",
       "  </div>\n",
       "  "
      ],
      "text/plain": [
       "  PassengerId HomePlanet CryoSleep  Cabin  Destination   Age    VIP  \\\n",
       "0     0001_01     Europa     False  B/0/P  TRAPPIST-1e  39.0  False   \n",
       "1     0002_01      Earth     False  F/0/S  TRAPPIST-1e  24.0  False   \n",
       "2     0003_01     Europa     False  A/0/S  TRAPPIST-1e  58.0   True   \n",
       "3     0003_02     Europa     False  A/0/S  TRAPPIST-1e  33.0  False   \n",
       "4     0004_01      Earth     False  F/1/S  TRAPPIST-1e  16.0  False   \n",
       "\n",
       "   RoomService  FoodCourt  ShoppingMall     Spa  VRDeck               Name  \\\n",
       "0          0.0        0.0           0.0     0.0     0.0    Maham Ofracculy   \n",
       "1        109.0        9.0          25.0   549.0    44.0       Juanna Vines   \n",
       "2         43.0     3576.0           0.0  6715.0    49.0      Altark Susent   \n",
       "3          0.0     1283.0         371.0  3329.0   193.0       Solam Susent   \n",
       "4        303.0       70.0         151.0   565.0     2.0  Willy Santantines   \n",
       "\n",
       "   Transported  \n",
       "0        False  \n",
       "1         True  \n",
       "2        False  \n",
       "3        False  \n",
       "4         True  "
      ]
     },
     "execution_count": 9,
     "metadata": {},
     "output_type": "execute_result"
    }
   ],
   "source": [
    "# 결측치가 없고, 우선 숫자만 있는 것으로 모델을 구축해 보자.\n",
    "train.head()"
   ]
  },
  {
   "cell_type": "code",
   "execution_count": 10,
   "metadata": {
    "colab": {
     "base_uri": "https://localhost:8080/",
     "height": 357
    },
    "id": "F4INAID2LVHO",
    "outputId": "0277dc51-25e8-426e-c912-2be42b5e59e6"
   },
   "outputs": [
    {
     "data": {
      "text/plain": [
       "(array([8.204e+03, 1.800e+02, 7.300e+01, 2.200e+01, 1.500e+01, 6.000e+00,\n",
       "        6.000e+00, 2.000e+00, 1.000e+00, 1.000e+00]),\n",
       " array([    0. ,  2240.8,  4481.6,  6722.4,  8963.2, 11204. , 13444.8,\n",
       "        15685.6, 17926.4, 20167.2, 22408. ]),\n",
       " <a list of 10 Patch objects>)"
      ]
     },
     "execution_count": 10,
     "metadata": {},
     "output_type": "execute_result"
    },
    {
     "data": {
      "image/png": "[encoded data removed]",
      "text/plain": [
       "<Figure size 432x288 with 1 Axes>"
      ]
     },
     "metadata": {
      "needs_background": "light"
     },
     "output_type": "display_data"
    }
   ],
   "source": [
    "# 숫자이면서 결측치가 다 있음. 따라서 몇개만 결측치를 처리하고 3개만 하는 것으로 한다.\n",
    "# sel = ['Age', 'RoomService', 'FoodCourt', 'ShoppingMall', 'Spa', 'VRDeck']\n",
    "plt.hist(train['Spa'])"
   ]
  },
  {
   "cell_type": "markdown",
   "metadata": {
    "id": "wfMU-ZAsLXs5"
   },
   "source": [
    "    데이터 분포는 전부 비슷함.\n",
    "    'RoomService', 'FoodCourt', 'ShoppingMall', 'Spa' 를 전부 중앙값으로 결측치 처리하자.\n",
    "    먼저 train한 이후에 test도 진행."
   ]
  },
  {
   "cell_type": "code",
   "execution_count": 11,
   "metadata": {
    "colab": {
     "base_uri": "https://localhost:8080/"
    },
    "id": "8qlxFG_4LWZR",
    "outputId": "b13697ab-3bd4-4ad0-9a30-3cb94f3a957c"
   },
   "outputs": [
    {
     "data": {
      "text/plain": [
       "PassengerId       0\n",
       "HomePlanet      201\n",
       "CryoSleep       217\n",
       "Cabin           199\n",
       "Destination     182\n",
       "Age             179\n",
       "VIP             203\n",
       "RoomService       0\n",
       "FoodCourt         0\n",
       "ShoppingMall      0\n",
       "Spa               0\n",
       "VRDeck          188\n",
       "Name            200\n",
       "Transported       0\n",
       "dtype: int64"
      ]
     },
     "execution_count": 11,
     "metadata": {},
     "output_type": "execute_result"
    }
   ],
   "source": [
    "# 비어 있는 행 선택 후, 컬럼은 'RoomService' 선택 후, 중앙값으로 넣기\n",
    "train.loc[ train['RoomService'].isnull() , 'RoomService' ] = train['RoomService'].median()\n",
    "train.loc[ train['FoodCourt'].isnull() , 'FoodCourt' ] = train['FoodCourt'].median()\n",
    "train.loc[ train['ShoppingMall'].isnull() , 'ShoppingMall' ] = train['ShoppingMall'].median()\n",
    "train.loc[ train['Spa'].isnull() , 'Spa' ] = train['Spa'].median()\n",
    "\n",
    "# 비어 있는지 확인\n",
    "train.isnull().sum()"
   ]
  },
  {
   "cell_type": "code",
   "execution_count": 12,
   "metadata": {
    "colab": {
     "base_uri": "https://localhost:8080/"
    },
    "id": "FeQXwDGYLa8f",
    "outputId": "0643acfd-6273-482d-af0f-5671aef5dd9a"
   },
   "outputs": [
    {
     "data": {
      "text/plain": [
       "PassengerId       0\n",
       "HomePlanet       87\n",
       "CryoSleep        93\n",
       "Cabin           100\n",
       "Destination      92\n",
       "Age              91\n",
       "VIP              93\n",
       "RoomService       0\n",
       "FoodCourt         0\n",
       "ShoppingMall      0\n",
       "Spa               0\n",
       "VRDeck           80\n",
       "Name             94\n",
       "dtype: int64"
      ]
     },
     "execution_count": 12,
     "metadata": {},
     "output_type": "execute_result"
    }
   ],
   "source": [
    "# test 데이터 셋도 동일하게 처리\n",
    "# 비어 있는 행 선택 후, 컬럼은 'RoomService' 선택 후, 중앙값으로 넣기\n",
    "test.loc[ test['RoomService'].isnull() , 'RoomService' ] = test['RoomService'].median()\n",
    "test.loc[ test['FoodCourt'].isnull() , 'FoodCourt' ] = test['FoodCourt'].median()\n",
    "test.loc[ test['ShoppingMall'].isnull() , 'ShoppingMall'] = test['ShoppingMall'].median()\n",
    "test.loc[ test['Spa'].isnull() , 'Spa' ] = test['Spa'].median()\n",
    "\n",
    "# 비어 있는지 확인\n",
    "test.isnull().sum()"
   ]
  },
  {
   "cell_type": "code",
   "execution_count": 13,
   "metadata": {
    "colab": {
     "base_uri": "https://localhost:8080/"
    },
    "id": "3AB54YkuLdbn",
    "outputId": "3421bc52-a215-4349-db4e-b1b94602fb54"
   },
   "outputs": [
    {
     "data": {
      "text/plain": [
       "array([False,  True])"
      ]
     },
     "execution_count": 13,
     "metadata": {},
     "output_type": "execute_result"
    }
   ],
   "source": [
    "train['Transported'].unique()"
   ]
  },
  {
   "cell_type": "code",
   "execution_count": 14,
   "metadata": {
    "colab": {
     "base_uri": "https://localhost:8080/",
     "height": 357
    },
    "id": "j8AG8bdNLfMu",
    "outputId": "347c3546-daeb-46fb-fc76-284f76ce1e5f"
   },
   "outputs": [
    {
     "data": {
      "text/html": [
       "\n",
       "  <div id=\"df-ec654f87-c577-47f3-a80e-79a8a73c37fd\">\n",
       "    <div class=\"colab-df-container\">\n",
       "      <div>\n",
       "<style scoped>\n",
       "    .dataframe tbody tr th:only-of-type {\n",
       "        vertical-align: middle;\n",
       "    }\n",
       "\n",
       "    .dataframe tbody tr th {\n",
       "        vertical-align: top;\n",
       "    }\n",
       "\n",
       "    .dataframe thead th {\n",
       "        text-align: right;\n",
       "    }\n",
       "</style>\n",
       "<table border=\"1\" class=\"dataframe\">\n",
       "  <thead>\n",
       "    <tr style=\"text-align: right;\">\n",
       "      <th></th>\n",
       "      <th>PassengerId</th>\n",
       "      <th>HomePlanet</th>\n",
       "      <th>CryoSleep</th>\n",
       "      <th>Cabin</th>\n",
       "      <th>Destination</th>\n",
       "      <th>Age</th>\n",
       "      <th>VIP</th>\n",
       "      <th>RoomService</th>\n",
       "      <th>FoodCourt</th>\n",
       "      <th>ShoppingMall</th>\n",
       "      <th>Spa</th>\n",
       "      <th>VRDeck</th>\n",
       "      <th>Name</th>\n",
       "      <th>Transported</th>\n",
       "    </tr>\n",
       "  </thead>\n",
       "  <tbody>\n",
       "    <tr>\n",
       "      <th>0</th>\n",
       "      <td>0001_01</td>\n",
       "      <td>Europa</td>\n",
       "      <td>False</td>\n",
       "      <td>B/0/P</td>\n",
       "      <td>TRAPPIST-1e</td>\n",
       "      <td>39.0</td>\n",
       "      <td>False</td>\n",
       "      <td>0.0</td>\n",
       "      <td>0.0</td>\n",
       "      <td>0.0</td>\n",
       "      <td>0.0</td>\n",
       "      <td>0.0</td>\n",
       "      <td>Maham Ofracculy</td>\n",
       "      <td>False</td>\n",
       "    </tr>\n",
       "    <tr>\n",
       "      <th>1</th>\n",
       "      <td>0002_01</td>\n",
       "      <td>Earth</td>\n",
       "      <td>False</td>\n",
       "      <td>F/0/S</td>\n",
       "      <td>TRAPPIST-1e</td>\n",
       "      <td>24.0</td>\n",
       "      <td>False</td>\n",
       "      <td>109.0</td>\n",
       "      <td>9.0</td>\n",
       "      <td>25.0</td>\n",
       "      <td>549.0</td>\n",
       "      <td>44.0</td>\n",
       "      <td>Juanna Vines</td>\n",
       "      <td>True</td>\n",
       "    </tr>\n",
       "    <tr>\n",
       "      <th>2</th>\n",
       "      <td>0003_01</td>\n",
       "      <td>Europa</td>\n",
       "      <td>False</td>\n",
       "      <td>A/0/S</td>\n",
       "      <td>TRAPPIST-1e</td>\n",
       "      <td>58.0</td>\n",
       "      <td>True</td>\n",
       "      <td>43.0</td>\n",
       "      <td>3576.0</td>\n",
       "      <td>0.0</td>\n",
       "      <td>6715.0</td>\n",
       "      <td>49.0</td>\n",
       "      <td>Altark Susent</td>\n",
       "      <td>False</td>\n",
       "    </tr>\n",
       "    <tr>\n",
       "      <th>3</th>\n",
       "      <td>0003_02</td>\n",
       "      <td>Europa</td>\n",
       "      <td>False</td>\n",
       "      <td>A/0/S</td>\n",
       "      <td>TRAPPIST-1e</td>\n",
       "      <td>33.0</td>\n",
       "      <td>False</td>\n",
       "      <td>0.0</td>\n",
       "      <td>1283.0</td>\n",
       "      <td>371.0</td>\n",
       "      <td>3329.0</td>\n",
       "      <td>193.0</td>\n",
       "      <td>Solam Susent</td>\n",
       "      <td>False</td>\n",
       "    </tr>\n",
       "    <tr>\n",
       "      <th>4</th>\n",
       "      <td>0004_01</td>\n",
       "      <td>Earth</td>\n",
       "      <td>False</td>\n",
       "      <td>F/1/S</td>\n",
       "      <td>TRAPPIST-1e</td>\n",
       "      <td>16.0</td>\n",
       "      <td>False</td>\n",
       "      <td>303.0</td>\n",
       "      <td>70.0</td>\n",
       "      <td>151.0</td>\n",
       "      <td>565.0</td>\n",
       "      <td>2.0</td>\n",
       "      <td>Willy Santantines</td>\n",
       "      <td>True</td>\n",
       "    </tr>\n",
       "  </tbody>\n",
       "</table>\n",
       "</div>\n",
       "      <button class=\"colab-df-convert\" onclick=\"convertToInteractive('df-ec654f87-c577-47f3-a80e-79a8a73c37fd')\"\n",
       "              title=\"Convert this dataframe to an interactive table.\"\n",
       "              style=\"display:none;\">\n",
       "        \n",
       "  <svg xmlns=\"http://www.w3.org/2000/svg\" height=\"24px\"viewBox=\"0 0 24 24\"\n",
       "       width=\"24px\">\n",
       "    <path d=\"M0 0h24v24H0V0z\" fill=\"none\"/>\n",
       "    <path d=\"M18.56 5.44l.94 2.06.94-2.06 2.06-.94-2.06-.94-.94-2.06-.94 2.06-2.06.94zm-11 1L8.5 8.5l.94-2.06 2.06-.94-2.06-.94L8.5 2.5l-.94 2.06-2.06.94zm10 10l.94 2.06.94-2.06 2.06-.94-2.06-.94-.94-2.06-.94 2.06-2.06.94z\"/><path d=\"M17.41 7.96l-1.37-1.37c-.4-.4-.92-.59-1.43-.59-.52 0-1.04.2-1.43.59L10.3 9.45l-7.72 7.72c-.78.78-.78 2.05 0 2.83L4 21.41c.39.39.9.59 1.41.59.51 0 1.02-.2 1.41-.59l7.78-7.78 2.81-2.81c.8-.78.8-2.07 0-2.86zM5.41 20L4 18.59l7.72-7.72 1.47 1.35L5.41 20z\"/>\n",
       "  </svg>\n",
       "      </button>\n",
       "      \n",
       "  <style>\n",
       "    .colab-df-container {\n",
       "      display:flex;\n",
       "      flex-wrap:wrap;\n",
       "      gap: 12px;\n",
       "    }\n",
       "\n",
       "    .colab-df-convert {\n",
       "      background-color: #E8F0FE;\n",
       "      border: none;\n",
       "      border-radius: 50%;\n",
       "      cursor: pointer;\n",
       "      display: none;\n",
       "      fill: #1967D2;\n",
       "      height: 32px;\n",
       "      padding: 0 0 0 0;\n",
       "      width: 32px;\n",
       "    }\n",
       "\n",
       "    .colab-df-convert:hover {\n",
       "      background-color: #E2EBFA;\n",
       "      box-shadow: 0px 1px 2px rgba(60, 64, 67, 0.3), 0px 1px 3px 1px rgba(60, 64, 67, 0.15);\n",
       "      fill: #174EA6;\n",
       "    }\n",
       "\n",
       "    [theme=dark] .colab-df-convert {\n",
       "      background-color: #3B4455;\n",
       "      fill: #D2E3FC;\n",
       "    }\n",
       "\n",
       "    [theme=dark] .colab-df-convert:hover {\n",
       "      background-color: #434B5C;\n",
       "      box-shadow: 0px 1px 3px 1px rgba(0, 0, 0, 0.15);\n",
       "      filter: drop-shadow(0px 1px 2px rgba(0, 0, 0, 0.3));\n",
       "      fill: #FFFFFF;\n",
       "    }\n",
       "  </style>\n",
       "\n",
       "      <script>\n",
       "        const buttonEl =\n",
       "          document.querySelector('#df-ec654f87-c577-47f3-a80e-79a8a73c37fd button.colab-df-convert');\n",
       "        buttonEl.style.display =\n",
       "          google.colab.kernel.accessAllowed ? 'block' : 'none';\n",
       "\n",
       "        async function convertToInteractive(key) {\n",
       "          const element = document.querySelector('#df-ec654f87-c577-47f3-a80e-79a8a73c37fd');\n",
       "          const dataTable =\n",
       "            await google.colab.kernel.invokeFunction('convertToInteractive',\n",
       "                                                     [key], {});\n",
       "          if (!dataTable) return;\n",
       "\n",
       "          const docLinkHtml = 'Like what you see? Visit the ' +\n",
       "            '<a target=\"_blank\" href=https://colab.research.google.com/notebooks/data_table.ipynb>data table notebook</a>'\n",
       "            + ' to learn more about interactive tables.';\n",
       "          element.innerHTML = '';\n",
       "          dataTable['output_type'] = 'display_data';\n",
       "          await google.colab.output.renderOutput(dataTable, element);\n",
       "          const docLink = document.createElement('div');\n",
       "          docLink.innerHTML = docLinkHtml;\n",
       "          element.appendChild(docLink);\n",
       "        }\n",
       "      </script>\n",
       "    </div>\n",
       "  </div>\n",
       "  "
      ],
      "text/plain": [
       "  PassengerId HomePlanet CryoSleep  Cabin  Destination   Age    VIP  \\\n",
       "0     0001_01     Europa     False  B/0/P  TRAPPIST-1e  39.0  False   \n",
       "1     0002_01      Earth     False  F/0/S  TRAPPIST-1e  24.0  False   \n",
       "2     0003_01     Europa     False  A/0/S  TRAPPIST-1e  58.0   True   \n",
       "3     0003_02     Europa     False  A/0/S  TRAPPIST-1e  33.0  False   \n",
       "4     0004_01      Earth     False  F/1/S  TRAPPIST-1e  16.0  False   \n",
       "\n",
       "   RoomService  FoodCourt  ShoppingMall     Spa  VRDeck               Name  \\\n",
       "0          0.0        0.0           0.0     0.0     0.0    Maham Ofracculy   \n",
       "1        109.0        9.0          25.0   549.0    44.0       Juanna Vines   \n",
       "2         43.0     3576.0           0.0  6715.0    49.0      Altark Susent   \n",
       "3          0.0     1283.0         371.0  3329.0   193.0       Solam Susent   \n",
       "4        303.0       70.0         151.0   565.0     2.0  Willy Santantines   \n",
       "\n",
       "   Transported  \n",
       "0        False  \n",
       "1         True  \n",
       "2        False  \n",
       "3        False  \n",
       "4         True  "
      ]
     },
     "execution_count": 14,
     "metadata": {},
     "output_type": "execute_result"
    }
   ],
   "source": [
    "train.head()"
   ]
  },
  {
   "cell_type": "code",
   "execution_count": 15,
   "metadata": {
    "id": "rDMJBcW8LgTm"
   },
   "outputs": [],
   "source": [
    "a = train.iloc[ 0, -1]"
   ]
  },
  {
   "cell_type": "code",
   "execution_count": 16,
   "metadata": {
    "colab": {
     "base_uri": "https://localhost:8080/"
    },
    "id": "a-ZUVuaOLham",
    "outputId": "9c9618e5-6242-459c-c4f7-e78048bf6b32"
   },
   "outputs": [
    {
     "name": "stdout",
     "output_type": "stream",
     "text": [
      "False <class 'numpy.bool_'>\n"
     ]
    }
   ],
   "source": [
    "print(a, type(a))"
   ]
  },
  {
   "cell_type": "code",
   "execution_count": 17,
   "metadata": {
    "colab": {
     "base_uri": "https://localhost:8080/",
     "height": 375
    },
    "id": "TbWXpF06Li4f",
    "outputId": "a71121fd-69ae-4224-8b95-6d7a7acb6b44"
   },
   "outputs": [
    {
     "name": "stdout",
     "output_type": "stream",
     "text": [
      "[False  True]\n"
     ]
    },
    {
     "data": {
      "text/html": [
       "\n",
       "  <div id=\"df-cf74ac51-4292-42fb-8263-56f3e9e7d95a\">\n",
       "    <div class=\"colab-df-container\">\n",
       "      <div>\n",
       "<style scoped>\n",
       "    .dataframe tbody tr th:only-of-type {\n",
       "        vertical-align: middle;\n",
       "    }\n",
       "\n",
       "    .dataframe tbody tr th {\n",
       "        vertical-align: top;\n",
       "    }\n",
       "\n",
       "    .dataframe thead th {\n",
       "        text-align: right;\n",
       "    }\n",
       "</style>\n",
       "<table border=\"1\" class=\"dataframe\">\n",
       "  <thead>\n",
       "    <tr style=\"text-align: right;\">\n",
       "      <th></th>\n",
       "      <th>PassengerId</th>\n",
       "      <th>HomePlanet</th>\n",
       "      <th>CryoSleep</th>\n",
       "      <th>Cabin</th>\n",
       "      <th>Destination</th>\n",
       "      <th>Age</th>\n",
       "      <th>VIP</th>\n",
       "      <th>RoomService</th>\n",
       "      <th>FoodCourt</th>\n",
       "      <th>ShoppingMall</th>\n",
       "      <th>Spa</th>\n",
       "      <th>VRDeck</th>\n",
       "      <th>Name</th>\n",
       "      <th>Transported</th>\n",
       "    </tr>\n",
       "  </thead>\n",
       "  <tbody>\n",
       "    <tr>\n",
       "      <th>0</th>\n",
       "      <td>0001_01</td>\n",
       "      <td>Europa</td>\n",
       "      <td>False</td>\n",
       "      <td>B/0/P</td>\n",
       "      <td>TRAPPIST-1e</td>\n",
       "      <td>39.0</td>\n",
       "      <td>False</td>\n",
       "      <td>0.0</td>\n",
       "      <td>0.0</td>\n",
       "      <td>0.0</td>\n",
       "      <td>0.0</td>\n",
       "      <td>0.0</td>\n",
       "      <td>Maham Ofracculy</td>\n",
       "      <td>False</td>\n",
       "    </tr>\n",
       "    <tr>\n",
       "      <th>1</th>\n",
       "      <td>0002_01</td>\n",
       "      <td>Earth</td>\n",
       "      <td>False</td>\n",
       "      <td>F/0/S</td>\n",
       "      <td>TRAPPIST-1e</td>\n",
       "      <td>24.0</td>\n",
       "      <td>False</td>\n",
       "      <td>109.0</td>\n",
       "      <td>9.0</td>\n",
       "      <td>25.0</td>\n",
       "      <td>549.0</td>\n",
       "      <td>44.0</td>\n",
       "      <td>Juanna Vines</td>\n",
       "      <td>True</td>\n",
       "    </tr>\n",
       "    <tr>\n",
       "      <th>2</th>\n",
       "      <td>0003_01</td>\n",
       "      <td>Europa</td>\n",
       "      <td>False</td>\n",
       "      <td>A/0/S</td>\n",
       "      <td>TRAPPIST-1e</td>\n",
       "      <td>58.0</td>\n",
       "      <td>True</td>\n",
       "      <td>43.0</td>\n",
       "      <td>3576.0</td>\n",
       "      <td>0.0</td>\n",
       "      <td>6715.0</td>\n",
       "      <td>49.0</td>\n",
       "      <td>Altark Susent</td>\n",
       "      <td>False</td>\n",
       "    </tr>\n",
       "    <tr>\n",
       "      <th>3</th>\n",
       "      <td>0003_02</td>\n",
       "      <td>Europa</td>\n",
       "      <td>False</td>\n",
       "      <td>A/0/S</td>\n",
       "      <td>TRAPPIST-1e</td>\n",
       "      <td>33.0</td>\n",
       "      <td>False</td>\n",
       "      <td>0.0</td>\n",
       "      <td>1283.0</td>\n",
       "      <td>371.0</td>\n",
       "      <td>3329.0</td>\n",
       "      <td>193.0</td>\n",
       "      <td>Solam Susent</td>\n",
       "      <td>False</td>\n",
       "    </tr>\n",
       "    <tr>\n",
       "      <th>4</th>\n",
       "      <td>0004_01</td>\n",
       "      <td>Earth</td>\n",
       "      <td>False</td>\n",
       "      <td>F/1/S</td>\n",
       "      <td>TRAPPIST-1e</td>\n",
       "      <td>16.0</td>\n",
       "      <td>False</td>\n",
       "      <td>303.0</td>\n",
       "      <td>70.0</td>\n",
       "      <td>151.0</td>\n",
       "      <td>565.0</td>\n",
       "      <td>2.0</td>\n",
       "      <td>Willy Santantines</td>\n",
       "      <td>True</td>\n",
       "    </tr>\n",
       "  </tbody>\n",
       "</table>\n",
       "</div>\n",
       "      <button class=\"colab-df-convert\" onclick=\"convertToInteractive('df-cf74ac51-4292-42fb-8263-56f3e9e7d95a')\"\n",
       "              title=\"Convert this dataframe to an interactive table.\"\n",
       "              style=\"display:none;\">\n",
       "        \n",
       "  <svg xmlns=\"http://www.w3.org/2000/svg\" height=\"24px\"viewBox=\"0 0 24 24\"\n",
       "       width=\"24px\">\n",
       "    <path d=\"M0 0h24v24H0V0z\" fill=\"none\"/>\n",
       "    <path d=\"M18.56 5.44l.94 2.06.94-2.06 2.06-.94-2.06-.94-.94-2.06-.94 2.06-2.06.94zm-11 1L8.5 8.5l.94-2.06 2.06-.94-2.06-.94L8.5 2.5l-.94 2.06-2.06.94zm10 10l.94 2.06.94-2.06 2.06-.94-2.06-.94-.94-2.06-.94 2.06-2.06.94z\"/><path d=\"M17.41 7.96l-1.37-1.37c-.4-.4-.92-.59-1.43-.59-.52 0-1.04.2-1.43.59L10.3 9.45l-7.72 7.72c-.78.78-.78 2.05 0 2.83L4 21.41c.39.39.9.59 1.41.59.51 0 1.02-.2 1.41-.59l7.78-7.78 2.81-2.81c.8-.78.8-2.07 0-2.86zM5.41 20L4 18.59l7.72-7.72 1.47 1.35L5.41 20z\"/>\n",
       "  </svg>\n",
       "      </button>\n",
       "      \n",
       "  <style>\n",
       "    .colab-df-container {\n",
       "      display:flex;\n",
       "      flex-wrap:wrap;\n",
       "      gap: 12px;\n",
       "    }\n",
       "\n",
       "    .colab-df-convert {\n",
       "      background-color: #E8F0FE;\n",
       "      border: none;\n",
       "      border-radius: 50%;\n",
       "      cursor: pointer;\n",
       "      display: none;\n",
       "      fill: #1967D2;\n",
       "      height: 32px;\n",
       "      padding: 0 0 0 0;\n",
       "      width: 32px;\n",
       "    }\n",
       "\n",
       "    .colab-df-convert:hover {\n",
       "      background-color: #E2EBFA;\n",
       "      box-shadow: 0px 1px 2px rgba(60, 64, 67, 0.3), 0px 1px 3px 1px rgba(60, 64, 67, 0.15);\n",
       "      fill: #174EA6;\n",
       "    }\n",
       "\n",
       "    [theme=dark] .colab-df-convert {\n",
       "      background-color: #3B4455;\n",
       "      fill: #D2E3FC;\n",
       "    }\n",
       "\n",
       "    [theme=dark] .colab-df-convert:hover {\n",
       "      background-color: #434B5C;\n",
       "      box-shadow: 0px 1px 3px 1px rgba(0, 0, 0, 0.15);\n",
       "      filter: drop-shadow(0px 1px 2px rgba(0, 0, 0, 0.3));\n",
       "      fill: #FFFFFF;\n",
       "    }\n",
       "  </style>\n",
       "\n",
       "      <script>\n",
       "        const buttonEl =\n",
       "          document.querySelector('#df-cf74ac51-4292-42fb-8263-56f3e9e7d95a button.colab-df-convert');\n",
       "        buttonEl.style.display =\n",
       "          google.colab.kernel.accessAllowed ? 'block' : 'none';\n",
       "\n",
       "        async function convertToInteractive(key) {\n",
       "          const element = document.querySelector('#df-cf74ac51-4292-42fb-8263-56f3e9e7d95a');\n",
       "          const dataTable =\n",
       "            await google.colab.kernel.invokeFunction('convertToInteractive',\n",
       "                                                     [key], {});\n",
       "          if (!dataTable) return;\n",
       "\n",
       "          const docLinkHtml = 'Like what you see? Visit the ' +\n",
       "            '<a target=\"_blank\" href=https://colab.research.google.com/notebooks/data_table.ipynb>data table notebook</a>'\n",
       "            + ' to learn more about interactive tables.';\n",
       "          element.innerHTML = '';\n",
       "          dataTable['output_type'] = 'display_data';\n",
       "          await google.colab.output.renderOutput(dataTable, element);\n",
       "          const docLink = document.createElement('div');\n",
       "          docLink.innerHTML = docLinkHtml;\n",
       "          element.appendChild(docLink);\n",
       "        }\n",
       "      </script>\n",
       "    </div>\n",
       "  </div>\n",
       "  "
      ],
      "text/plain": [
       "  PassengerId HomePlanet CryoSleep  Cabin  Destination   Age    VIP  \\\n",
       "0     0001_01     Europa     False  B/0/P  TRAPPIST-1e  39.0  False   \n",
       "1     0002_01      Earth     False  F/0/S  TRAPPIST-1e  24.0  False   \n",
       "2     0003_01     Europa     False  A/0/S  TRAPPIST-1e  58.0   True   \n",
       "3     0003_02     Europa     False  A/0/S  TRAPPIST-1e  33.0  False   \n",
       "4     0004_01      Earth     False  F/1/S  TRAPPIST-1e  16.0  False   \n",
       "\n",
       "   RoomService  FoodCourt  ShoppingMall     Spa  VRDeck               Name  \\\n",
       "0          0.0        0.0           0.0     0.0     0.0    Maham Ofracculy   \n",
       "1        109.0        9.0          25.0   549.0    44.0       Juanna Vines   \n",
       "2         43.0     3576.0           0.0  6715.0    49.0      Altark Susent   \n",
       "3          0.0     1283.0         371.0  3329.0   193.0       Solam Susent   \n",
       "4        303.0       70.0         151.0   565.0     2.0  Willy Santantines   \n",
       "\n",
       "   Transported  \n",
       "0        False  \n",
       "1         True  \n",
       "2        False  \n",
       "3        False  \n",
       "4         True  "
      ]
     },
     "execution_count": 17,
     "metadata": {},
     "output_type": "execute_result"
    }
   ],
   "source": [
    "print(train.Transported.unique())\n",
    "train.head()"
   ]
  },
  {
   "cell_type": "code",
   "execution_count": 18,
   "metadata": {
    "id": "hQK9hoBLLj6V"
   },
   "outputs": [],
   "source": [
    "# train['Transported'] = train['Transported'].astype()"
   ]
  },
  {
   "cell_type": "code",
   "execution_count": 19,
   "metadata": {
    "colab": {
     "base_uri": "https://localhost:8080/"
    },
    "id": "a0LSOHCtLle1",
    "outputId": "bb81db79-8789-4b8b-ccbd-7159a6360874"
   },
   "outputs": [
    {
     "data": {
      "text/plain": [
       "(6085,)"
      ]
     },
     "execution_count": 19,
     "metadata": {},
     "output_type": "execute_result"
    }
   ],
   "source": [
    "# 우선 결측치 처리된 컬럼을 이용해 보자.\n",
    "sel = ['RoomService', 'FoodCourt', 'ShoppingMall', 'Spa']\n",
    "\n",
    "X = train[sel]\n",
    "y = train['Transported']\n",
    "\n",
    "last_test = test[sel]\n",
    "X_train, X_test, y_train, y_test = train_test_split(X, y, \n",
    "                                                   test_size=0.3,\n",
    "                                                   random_state = 0)\n",
    "\n",
    "y_train.shape"
   ]
  },
  {
   "cell_type": "code",
   "execution_count": 20,
   "metadata": {
    "colab": {
     "base_uri": "https://localhost:8080/"
    },
    "id": "iOB9esdtLnVg",
    "outputId": "8aa0c93b-da59-42aa-de58-ed9943b6069b"
   },
   "outputs": [
    {
     "name": "stdout",
     "output_type": "stream",
     "text": [
      "<class 'pandas.core.frame.DataFrame'>\n",
      "Int64Index: 6085 entries, 7289 to 2732\n",
      "Data columns (total 4 columns):\n",
      " #   Column        Non-Null Count  Dtype  \n",
      "---  ------        --------------  -----  \n",
      " 0   RoomService   6085 non-null   float64\n",
      " 1   FoodCourt     6085 non-null   float64\n",
      " 2   ShoppingMall  6085 non-null   float64\n",
      " 3   Spa           6085 non-null   float64\n",
      "dtypes: float64(4)\n",
      "memory usage: 237.7 KB\n",
      "<class 'pandas.core.frame.DataFrame'>\n",
      "Int64Index: 2608 entries, 3601 to 5117\n",
      "Data columns (total 4 columns):\n",
      " #   Column        Non-Null Count  Dtype  \n",
      "---  ------        --------------  -----  \n",
      " 0   RoomService   2608 non-null   float64\n",
      " 1   FoodCourt     2608 non-null   float64\n",
      " 2   ShoppingMall  2608 non-null   float64\n",
      " 3   Spa           2608 non-null   float64\n",
      "dtypes: float64(4)\n",
      "memory usage: 101.9 KB\n"
     ]
    },
    {
     "data": {
      "text/plain": [
       "(None, None)"
      ]
     },
     "execution_count": 20,
     "metadata": {},
     "output_type": "execute_result"
    }
   ],
   "source": [
    "X_train.info(), X_test.info()"
   ]
  },
  {
   "cell_type": "code",
   "execution_count": 21,
   "metadata": {
    "colab": {
     "base_uri": "https://localhost:8080/"
    },
    "id": "8MS4d0LyLpMF",
    "outputId": "07f13e4c-2876-4989-faab-26b92b4769b1"
   },
   "outputs": [
    {
     "name": "stdout",
     "output_type": "stream",
     "text": [
      "학습용 정확도 :  0.8042728019720624\n",
      "테스트용 정확도 :  0.7473159509202454\n"
     ]
    }
   ],
   "source": [
    "from sklearn.neighbors import KNeighborsClassifier\n",
    "from sklearn.tree import DecisionTreeClassifier\n",
    "from sklearn.ensemble import RandomForestClassifier\n",
    "\n",
    "model1 = KNeighborsClassifier()\n",
    "model1.fit(X_train, y_train)\n",
    "print(\"학습용 정확도 : \", model1.score(X_train,y_train) )\n",
    "print(\"테스트용 정확도 : \", model1.score(X_test,y_test) )"
   ]
  },
  {
   "cell_type": "code",
   "execution_count": 22,
   "metadata": {
    "colab": {
     "base_uri": "https://localhost:8080/"
    },
    "id": "VjafWXvlLr_m",
    "outputId": "8dcf99ff-801f-4132-c94f-05215462d02c"
   },
   "outputs": [
    {
     "name": "stdout",
     "output_type": "stream",
     "text": [
      "학습용 정확도 :  0.7410024650780608\n",
      "테스트용 정확도 :  0.7315950920245399\n"
     ]
    }
   ],
   "source": [
    "model2 = DecisionTreeClassifier(max_depth=3, random_state=0)\n",
    "model2.fit(X_train, y_train)\n",
    "print(\"학습용 정확도 : \", model2.score(X_train,y_train) )\n",
    "print(\"테스트용 정확도 : \", model2.score(X_test,y_test) )"
   ]
  },
  {
   "cell_type": "code",
   "execution_count": 23,
   "metadata": {
    "colab": {
     "base_uri": "https://localhost:8080/"
    },
    "id": "HYW9IrI7Lt0G",
    "outputId": "5fb5c929-6c6e-4bb2-84c5-8e787902ba93"
   },
   "outputs": [
    {
     "name": "stdout",
     "output_type": "stream",
     "text": [
      "학습용 정확도 :  0.752670501232539\n",
      "테스트용 정확도 :  0.7430981595092024\n"
     ]
    }
   ],
   "source": [
    "model3 = RandomForestClassifier(max_depth=3, random_state=0)\n",
    "model3.fit(X_train, y_train)\n",
    "print(\"학습용 정확도 : \", model3.score(X_train,y_train) )\n",
    "print(\"테스트용 정확도 : \", model3.score(X_test,y_test) )"
   ]
  },
  {
   "cell_type": "code",
   "execution_count": 24,
   "metadata": {
    "colab": {
     "base_uri": "https://localhost:8080/"
    },
    "id": "p8TJ4so5LvEm",
    "outputId": "5b89cf83-5202-4fe4-bb01-4dfb1838989f"
   },
   "outputs": [
    {
     "name": "stdout",
     "output_type": "stream",
     "text": [
      "k 값 :  1\n",
      "학습용 정확도 :  0.9059983566146261\n",
      "테스트용 정확도 :  0.7177914110429447\n",
      "k 값 :  3\n",
      "학습용 정확도 :  0.8200493015612161\n",
      "테스트용 정확도 :  0.741180981595092\n",
      "k 값 :  5\n",
      "학습용 정확도 :  0.8042728019720624\n",
      "테스트용 정확도 :  0.7473159509202454\n",
      "k 값 :  7\n",
      "학습용 정확도 :  0.7978635990139687\n",
      "테스트용 정확도 :  0.7488496932515337\n",
      "k 값 :  9\n",
      "학습용 정확도 :  0.7932621199671323\n",
      "테스트용 정확도 :  0.7569018404907976\n",
      "k 값 :  11\n",
      "학습용 정확도 :  0.7888249794576828\n",
      "테스트용 정확도 :  0.75920245398773\n",
      "k 값 :  13\n",
      "학습용 정확도 :  0.7880032867707477\n",
      "테스트용 정확도 :  0.7657208588957055\n",
      "k 값 :  15\n",
      "학습용 정확도 :  0.7866885784716516\n",
      "테스트용 정확도 :  0.7672546012269938\n",
      "k 값 :  17\n",
      "학습용 정확도 :  0.7866885784716516\n",
      "테스트용 정확도 :  0.7684049079754601\n",
      "k 값 :  19\n",
      "학습용 정확도 :  0.7827444535743632\n",
      "테스트용 정확도 :  0.7699386503067485\n",
      "k 값 :  21\n",
      "학습용 정확도 :  0.7824157764995892\n",
      "테스트용 정확도 :  0.7695552147239264\n",
      "k 값 :  23\n",
      "학습용 정확도 :  0.780772391125719\n",
      "테스트용 정확도 :  0.7699386503067485\n",
      "k 값 :  25\n",
      "학습용 정확도 :  0.7797863599013969\n",
      "테스트용 정확도 :  0.7676380368098159\n",
      "k 값 :  27\n",
      "학습용 정확도 :  0.7784716516023007\n",
      "테스트용 정확도 :  0.7676380368098159\n",
      "k 값 :  29\n",
      "학습용 정확도 :  0.7789646672144618\n",
      "테스트용 정확도 :  0.7676380368098159\n",
      "k 값 :  31\n",
      "학습용 정확도 :  0.7781429745275267\n",
      "테스트용 정확도 :  0.7668711656441718\n",
      "k 값 :  33\n",
      "학습용 정확도 :  0.7796220213640098\n",
      "테스트용 정확도 :  0.7680214723926381\n",
      "k 값 :  35\n",
      "학습용 정확도 :  0.7797863599013969\n",
      "테스트용 정확도 :  0.7653374233128835\n",
      "k 값 :  37\n",
      "학습용 정확도 :  0.780608052588332\n",
      "테스트용 정확도 :  0.7649539877300614\n",
      "k 값 :  39\n",
      "학습용 정확도 :  0.7788003286770748\n",
      "테스트용 정확도 :  0.763420245398773\n"
     ]
    }
   ],
   "source": [
    "# knn 모델이 좋아보임. 우선은 이걸로 최종 모델을 해 본다. k값은 최적으로 맞춘다.\n",
    "k_num = range(1, 40, 2)\n",
    "\n",
    "for num in k_num:\n",
    "    model1 = KNeighborsClassifier(n_neighbors=num)\n",
    "    model1.fit(X_train, y_train)\n",
    "    \n",
    "    print(\"k 값 : \", num)\n",
    "    print(\"학습용 정확도 : \", model1.score(X_train,y_train) )\n",
    "    print(\"테스트용 정확도 : \", model1.score(X_test,y_test) )"
   ]
  },
  {
   "cell_type": "code",
   "execution_count": 25,
   "metadata": {
    "colab": {
     "base_uri": "https://localhost:8080/"
    },
    "id": "tZyhIGYlLxNG",
    "outputId": "33620033-5b2e-443d-a009-5a7548e7b12f"
   },
   "outputs": [
    {
     "data": {
      "text/plain": [
       "array([ True, False,  True,  True, False, False,  True,  True,  True,\n",
       "       False])"
      ]
     },
     "execution_count": 25,
     "metadata": {},
     "output_type": "execute_result"
    }
   ],
   "source": [
    "# k=23일때가 가장 좋음. 최종 모델을 k=23으로 하자.\n",
    "model1 = KNeighborsClassifier(n_neighbors=23)\n",
    "model1.fit(X_train, y_train)\n",
    "pred = model1.predict(last_test)\n",
    "pred[0:10]"
   ]
  },
  {
   "cell_type": "code",
   "execution_count": 26,
   "metadata": {
    "colab": {
     "base_uri": "https://localhost:8080/"
    },
    "id": "Vy8mvAmIL06P",
    "outputId": "f0a6d30e-0190-4909-ca53-4a7becbae61f"
   },
   "outputs": [
    {
     "data": {
      "text/plain": [
       "Index(['PassengerId', 'Transported'], dtype='object')"
      ]
     },
     "execution_count": 26,
     "metadata": {},
     "output_type": "execute_result"
    }
   ],
   "source": [
    "### 제출용 파일 생성\n",
    "sub.columns"
   ]
  },
  {
   "cell_type": "code",
   "execution_count": 28,
   "metadata": {
    "id": "gms9XPzzL2U1"
   },
   "outputs": [],
   "source": [
    "sub['Transported'] = pred\n",
    "sub.to_csv(\"first_sub.csv\", index=False)"
   ]
  },
  {
   "cell_type": "code",
   "execution_count": 29,
   "metadata": {
    "id": "QQm4tzJnL349"
   },
   "outputs": [],
   "source": [
    "# 베이스라인 모델 점수 : Score: 0.78068"
   ]
  },
  {
   "cell_type": "markdown",
   "metadata": {
    "id": "medXWp8tMLAv"
   },
   "source": [
    "### Spaceship Titanic 데이터 분석"
   ]
  },
  {
   "cell_type": "markdown",
   "metadata": {
    "id": "7jTJDxQWMOwK"
   },
   "source": [
    "#### 01. 데이터 준비 및 라이브러리 임포트"
   ]
  },
  {
   "cell_type": "code",
   "execution_count": 30,
   "metadata": {
    "id": "-iLKRcRfMMFt"
   },
   "outputs": [],
   "source": [
    "import pandas as pd\n",
    "import seaborn as sns\n",
    "import numpy as np\n",
    "import matplotlib.pyplot as plt\n",
    "\n",
    "from sklearn.model_selection import StratifiedKFold, train_test_split\n",
    "from sklearn.preprocessing import LabelEncoder\n",
    "from sklearn.impute import SimpleImputer\n",
    "from sklearn.metrics import accuracy_score\n",
    "\n",
    "import plotly.express as px\n",
    "import plotly.graph_objects as go\n",
    "from plotly.subplots import make_subplots"
   ]
  },
  {
   "cell_type": "code",
   "execution_count": 31,
   "metadata": {
    "id": "1zjxc07aMQie"
   },
   "outputs": [],
   "source": [
    "import time\n",
    "import warnings\n",
    "warnings.filterwarnings('ignore')"
   ]
  },
  {
   "cell_type": "code",
   "execution_count": 32,
   "metadata": {
    "colab": {
     "base_uri": "https://localhost:8080/"
    },
    "id": "iBY1KvUiMSHO",
    "outputId": "471e1e93-9e2d-4f81-dd3a-6ac45f90df6d"
   },
   "outputs": [
    {
     "data": {
      "text/plain": [
       "((8693, 14), (4277, 13), (4277, 2))"
      ]
     },
     "execution_count": 32,
     "metadata": {},
     "output_type": "execute_result"
    }
   ],
   "source": [
    "# 데이터 불러오기\n",
    "sub = pd.read_csv(\"sample_submission.csv\")\n",
    "train = pd.read_csv(\"train.csv\")\n",
    "test = pd.read_csv(\"test.csv\")\n",
    "\n",
    "train.shape, test.shape, sub.shape"
   ]
  },
  {
   "cell_type": "code",
   "execution_count": 33,
   "metadata": {
    "colab": {
     "base_uri": "https://localhost:8080/"
    },
    "id": "ni5cSauFMZqN",
    "outputId": "19bcaef8-f2f8-4256-a4cd-d046e117aeb9"
   },
   "outputs": [
    {
     "name": "stdout",
     "output_type": "stream",
     "text": [
      "Index(['PassengerId', 'HomePlanet', 'CryoSleep', 'Cabin', 'Destination', 'Age',\n",
      "       'VIP', 'RoomService', 'FoodCourt', 'ShoppingMall', 'Spa', 'VRDeck',\n",
      "       'Name', 'Transported'],\n",
      "      dtype='object')\n",
      "\n",
      "Index(['PassengerId', 'HomePlanet', 'CryoSleep', 'Cabin', 'Destination', 'Age',\n",
      "       'VIP', 'RoomService', 'FoodCourt', 'ShoppingMall', 'Spa', 'VRDeck',\n",
      "       'Name'],\n",
      "      dtype='object')\n"
     ]
    }
   ],
   "source": [
    "print( train.columns, end=\"\\n\\n\")\n",
    "print( test.columns )"
   ]
  },
  {
   "cell_type": "code",
   "execution_count": 34,
   "metadata": {
    "colab": {
     "base_uri": "https://localhost:8080/"
    },
    "id": "gtd3AmCbMbud",
    "outputId": "0eb2813b-042b-461c-8062-9754a633c33f"
   },
   "outputs": [
    {
     "data": {
      "text/plain": [
       "array([False,  True])"
      ]
     },
     "execution_count": 34,
     "metadata": {},
     "output_type": "execute_result"
    }
   ],
   "source": [
    "# 예측할 피처(특징)은 Transported\n",
    "# Transported은 어떠한 값을 갖을까?\n",
    "\n",
    "train['Transported'].unique()"
   ]
  },
  {
   "cell_type": "code",
   "execution_count": 35,
   "metadata": {
    "colab": {
     "base_uri": "https://localhost:8080/"
    },
    "id": "J3kERpE-MetF",
    "outputId": "01bbcd66-0ea2-4947-ddbe-b3f6d8b19d2d"
   },
   "outputs": [
    {
     "data": {
      "text/plain": [
       "PassengerId       0\n",
       "HomePlanet      201\n",
       "CryoSleep       217\n",
       "Cabin           199\n",
       "Destination     182\n",
       "Age             179\n",
       "VIP             203\n",
       "RoomService     181\n",
       "FoodCourt       183\n",
       "ShoppingMall    208\n",
       "Spa             183\n",
       "VRDeck          188\n",
       "Name            200\n",
       "Transported       0\n",
       "dtype: int64"
      ]
     },
     "execution_count": 35,
     "metadata": {},
     "output_type": "execute_result"
    }
   ],
   "source": [
    "# 결측치 확인\n",
    "train.isnull().sum()"
   ]
  },
  {
   "cell_type": "code",
   "execution_count": 36,
   "metadata": {
    "colab": {
     "base_uri": "https://localhost:8080/"
    },
    "id": "8uDEk-jCMgl-",
    "outputId": "c7e0f34d-351d-4f15-9d9a-948f7ead613e"
   },
   "outputs": [
    {
     "data": {
      "text/plain": [
       "PassengerId       0\n",
       "HomePlanet       87\n",
       "CryoSleep        93\n",
       "Cabin           100\n",
       "Destination      92\n",
       "Age              91\n",
       "VIP              93\n",
       "RoomService      82\n",
       "FoodCourt       106\n",
       "ShoppingMall     98\n",
       "Spa             101\n",
       "VRDeck           80\n",
       "Name             94\n",
       "dtype: int64"
      ]
     },
     "execution_count": 36,
     "metadata": {},
     "output_type": "execute_result"
    }
   ],
   "source": [
    "test.isnull().sum()"
   ]
  },
  {
   "cell_type": "code",
   "execution_count": 37,
   "metadata": {
    "colab": {
     "base_uri": "https://localhost:8080/",
     "height": 300
    },
    "id": "33cXTLJaMiYk",
    "outputId": "8f446552-e6be-47da-9ef3-e9dcfc64c69f"
   },
   "outputs": [
    {
     "data": {
      "text/html": [
       "\n",
       "  <div id=\"df-7b838e6b-3b71-426d-8edf-97f8571289ec\">\n",
       "    <div class=\"colab-df-container\">\n",
       "      <div>\n",
       "<style scoped>\n",
       "    .dataframe tbody tr th:only-of-type {\n",
       "        vertical-align: middle;\n",
       "    }\n",
       "\n",
       "    .dataframe tbody tr th {\n",
       "        vertical-align: top;\n",
       "    }\n",
       "\n",
       "    .dataframe thead th {\n",
       "        text-align: right;\n",
       "    }\n",
       "</style>\n",
       "<table border=\"1\" class=\"dataframe\">\n",
       "  <thead>\n",
       "    <tr style=\"text-align: right;\">\n",
       "      <th></th>\n",
       "      <th>Age</th>\n",
       "      <th>RoomService</th>\n",
       "      <th>FoodCourt</th>\n",
       "      <th>ShoppingMall</th>\n",
       "      <th>Spa</th>\n",
       "      <th>VRDeck</th>\n",
       "    </tr>\n",
       "  </thead>\n",
       "  <tbody>\n",
       "    <tr>\n",
       "      <th>count</th>\n",
       "      <td>8514.000000</td>\n",
       "      <td>8512.000000</td>\n",
       "      <td>8510.000000</td>\n",
       "      <td>8485.000000</td>\n",
       "      <td>8510.000000</td>\n",
       "      <td>8505.000000</td>\n",
       "    </tr>\n",
       "    <tr>\n",
       "      <th>mean</th>\n",
       "      <td>28.827930</td>\n",
       "      <td>224.687617</td>\n",
       "      <td>458.077203</td>\n",
       "      <td>173.729169</td>\n",
       "      <td>311.138778</td>\n",
       "      <td>304.854791</td>\n",
       "    </tr>\n",
       "    <tr>\n",
       "      <th>std</th>\n",
       "      <td>14.489021</td>\n",
       "      <td>666.717663</td>\n",
       "      <td>1611.489240</td>\n",
       "      <td>604.696458</td>\n",
       "      <td>1136.705535</td>\n",
       "      <td>1145.717189</td>\n",
       "    </tr>\n",
       "    <tr>\n",
       "      <th>min</th>\n",
       "      <td>0.000000</td>\n",
       "      <td>0.000000</td>\n",
       "      <td>0.000000</td>\n",
       "      <td>0.000000</td>\n",
       "      <td>0.000000</td>\n",
       "      <td>0.000000</td>\n",
       "    </tr>\n",
       "    <tr>\n",
       "      <th>25%</th>\n",
       "      <td>19.000000</td>\n",
       "      <td>0.000000</td>\n",
       "      <td>0.000000</td>\n",
       "      <td>0.000000</td>\n",
       "      <td>0.000000</td>\n",
       "      <td>0.000000</td>\n",
       "    </tr>\n",
       "    <tr>\n",
       "      <th>50%</th>\n",
       "      <td>27.000000</td>\n",
       "      <td>0.000000</td>\n",
       "      <td>0.000000</td>\n",
       "      <td>0.000000</td>\n",
       "      <td>0.000000</td>\n",
       "      <td>0.000000</td>\n",
       "    </tr>\n",
       "    <tr>\n",
       "      <th>75%</th>\n",
       "      <td>38.000000</td>\n",
       "      <td>47.000000</td>\n",
       "      <td>76.000000</td>\n",
       "      <td>27.000000</td>\n",
       "      <td>59.000000</td>\n",
       "      <td>46.000000</td>\n",
       "    </tr>\n",
       "    <tr>\n",
       "      <th>max</th>\n",
       "      <td>79.000000</td>\n",
       "      <td>14327.000000</td>\n",
       "      <td>29813.000000</td>\n",
       "      <td>23492.000000</td>\n",
       "      <td>22408.000000</td>\n",
       "      <td>24133.000000</td>\n",
       "    </tr>\n",
       "  </tbody>\n",
       "</table>\n",
       "</div>\n",
       "      <button class=\"colab-df-convert\" onclick=\"convertToInteractive('df-7b838e6b-3b71-426d-8edf-97f8571289ec')\"\n",
       "              title=\"Convert this dataframe to an interactive table.\"\n",
       "              style=\"display:none;\">\n",
       "        \n",
       "  <svg xmlns=\"http://www.w3.org/2000/svg\" height=\"24px\"viewBox=\"0 0 24 24\"\n",
       "       width=\"24px\">\n",
       "    <path d=\"M0 0h24v24H0V0z\" fill=\"none\"/>\n",
       "    <path d=\"M18.56 5.44l.94 2.06.94-2.06 2.06-.94-2.06-.94-.94-2.06-.94 2.06-2.06.94zm-11 1L8.5 8.5l.94-2.06 2.06-.94-2.06-.94L8.5 2.5l-.94 2.06-2.06.94zm10 10l.94 2.06.94-2.06 2.06-.94-2.06-.94-.94-2.06-.94 2.06-2.06.94z\"/><path d=\"M17.41 7.96l-1.37-1.37c-.4-.4-.92-.59-1.43-.59-.52 0-1.04.2-1.43.59L10.3 9.45l-7.72 7.72c-.78.78-.78 2.05 0 2.83L4 21.41c.39.39.9.59 1.41.59.51 0 1.02-.2 1.41-.59l7.78-7.78 2.81-2.81c.8-.78.8-2.07 0-2.86zM5.41 20L4 18.59l7.72-7.72 1.47 1.35L5.41 20z\"/>\n",
       "  </svg>\n",
       "      </button>\n",
       "      \n",
       "  <style>\n",
       "    .colab-df-container {\n",
       "      display:flex;\n",
       "      flex-wrap:wrap;\n",
       "      gap: 12px;\n",
       "    }\n",
       "\n",
       "    .colab-df-convert {\n",
       "      background-color: #E8F0FE;\n",
       "      border: none;\n",
       "      border-radius: 50%;\n",
       "      cursor: pointer;\n",
       "      display: none;\n",
       "      fill: #1967D2;\n",
       "      height: 32px;\n",
       "      padding: 0 0 0 0;\n",
       "      width: 32px;\n",
       "    }\n",
       "\n",
       "    .colab-df-convert:hover {\n",
       "      background-color: #E2EBFA;\n",
       "      box-shadow: 0px 1px 2px rgba(60, 64, 67, 0.3), 0px 1px 3px 1px rgba(60, 64, 67, 0.15);\n",
       "      fill: #174EA6;\n",
       "    }\n",
       "\n",
       "    [theme=dark] .colab-df-convert {\n",
       "      background-color: #3B4455;\n",
       "      fill: #D2E3FC;\n",
       "    }\n",
       "\n",
       "    [theme=dark] .colab-df-convert:hover {\n",
       "      background-color: #434B5C;\n",
       "      box-shadow: 0px 1px 3px 1px rgba(0, 0, 0, 0.15);\n",
       "      filter: drop-shadow(0px 1px 2px rgba(0, 0, 0, 0.3));\n",
       "      fill: #FFFFFF;\n",
       "    }\n",
       "  </style>\n",
       "\n",
       "      <script>\n",
       "        const buttonEl =\n",
       "          document.querySelector('#df-7b838e6b-3b71-426d-8edf-97f8571289ec button.colab-df-convert');\n",
       "        buttonEl.style.display =\n",
       "          google.colab.kernel.accessAllowed ? 'block' : 'none';\n",
       "\n",
       "        async function convertToInteractive(key) {\n",
       "          const element = document.querySelector('#df-7b838e6b-3b71-426d-8edf-97f8571289ec');\n",
       "          const dataTable =\n",
       "            await google.colab.kernel.invokeFunction('convertToInteractive',\n",
       "                                                     [key], {});\n",
       "          if (!dataTable) return;\n",
       "\n",
       "          const docLinkHtml = 'Like what you see? Visit the ' +\n",
       "            '<a target=\"_blank\" href=https://colab.research.google.com/notebooks/data_table.ipynb>data table notebook</a>'\n",
       "            + ' to learn more about interactive tables.';\n",
       "          element.innerHTML = '';\n",
       "          dataTable['output_type'] = 'display_data';\n",
       "          await google.colab.output.renderOutput(dataTable, element);\n",
       "          const docLink = document.createElement('div');\n",
       "          docLink.innerHTML = docLinkHtml;\n",
       "          element.appendChild(docLink);\n",
       "        }\n",
       "      </script>\n",
       "    </div>\n",
       "  </div>\n",
       "  "
      ],
      "text/plain": [
       "               Age   RoomService     FoodCourt  ShoppingMall           Spa  \\\n",
       "count  8514.000000   8512.000000   8510.000000   8485.000000   8510.000000   \n",
       "mean     28.827930    224.687617    458.077203    173.729169    311.138778   \n",
       "std      14.489021    666.717663   1611.489240    604.696458   1136.705535   \n",
       "min       0.000000      0.000000      0.000000      0.000000      0.000000   \n",
       "25%      19.000000      0.000000      0.000000      0.000000      0.000000   \n",
       "50%      27.000000      0.000000      0.000000      0.000000      0.000000   \n",
       "75%      38.000000     47.000000     76.000000     27.000000     59.000000   \n",
       "max      79.000000  14327.000000  29813.000000  23492.000000  22408.000000   \n",
       "\n",
       "             VRDeck  \n",
       "count   8505.000000  \n",
       "mean     304.854791  \n",
       "std     1145.717189  \n",
       "min        0.000000  \n",
       "25%        0.000000  \n",
       "50%        0.000000  \n",
       "75%       46.000000  \n",
       "max    24133.000000  "
      ]
     },
     "execution_count": 37,
     "metadata": {},
     "output_type": "execute_result"
    }
   ],
   "source": [
    "# 각 변수의 기본 통계량 확인\n",
    "train.describe()"
   ]
  },
  {
   "cell_type": "code",
   "execution_count": 38,
   "metadata": {
    "colab": {
     "base_uri": "https://localhost:8080/",
     "height": 300
    },
    "id": "rnFhK6AWMkqf",
    "outputId": "fb2ff734-dd39-4454-d9bb-98681007eea4"
   },
   "outputs": [
    {
     "data": {
      "text/html": [
       "\n",
       "  <div id=\"df-07d5fa67-0da5-4d75-9a7e-c5c50170709c\">\n",
       "    <div class=\"colab-df-container\">\n",
       "      <div>\n",
       "<style scoped>\n",
       "    .dataframe tbody tr th:only-of-type {\n",
       "        vertical-align: middle;\n",
       "    }\n",
       "\n",
       "    .dataframe tbody tr th {\n",
       "        vertical-align: top;\n",
       "    }\n",
       "\n",
       "    .dataframe thead th {\n",
       "        text-align: right;\n",
       "    }\n",
       "</style>\n",
       "<table border=\"1\" class=\"dataframe\">\n",
       "  <thead>\n",
       "    <tr style=\"text-align: right;\">\n",
       "      <th></th>\n",
       "      <th>Age</th>\n",
       "      <th>RoomService</th>\n",
       "      <th>FoodCourt</th>\n",
       "      <th>ShoppingMall</th>\n",
       "      <th>Spa</th>\n",
       "      <th>VRDeck</th>\n",
       "    </tr>\n",
       "  </thead>\n",
       "  <tbody>\n",
       "    <tr>\n",
       "      <th>count</th>\n",
       "      <td>4186.000000</td>\n",
       "      <td>4195.000000</td>\n",
       "      <td>4171.000000</td>\n",
       "      <td>4179.000000</td>\n",
       "      <td>4176.000000</td>\n",
       "      <td>4197.000000</td>\n",
       "    </tr>\n",
       "    <tr>\n",
       "      <th>mean</th>\n",
       "      <td>28.658146</td>\n",
       "      <td>219.266269</td>\n",
       "      <td>439.484296</td>\n",
       "      <td>177.295525</td>\n",
       "      <td>303.052443</td>\n",
       "      <td>310.710031</td>\n",
       "    </tr>\n",
       "    <tr>\n",
       "      <th>std</th>\n",
       "      <td>14.179072</td>\n",
       "      <td>607.011289</td>\n",
       "      <td>1527.663045</td>\n",
       "      <td>560.821123</td>\n",
       "      <td>1117.186015</td>\n",
       "      <td>1246.994742</td>\n",
       "    </tr>\n",
       "    <tr>\n",
       "      <th>min</th>\n",
       "      <td>0.000000</td>\n",
       "      <td>0.000000</td>\n",
       "      <td>0.000000</td>\n",
       "      <td>0.000000</td>\n",
       "      <td>0.000000</td>\n",
       "      <td>0.000000</td>\n",
       "    </tr>\n",
       "    <tr>\n",
       "      <th>25%</th>\n",
       "      <td>19.000000</td>\n",
       "      <td>0.000000</td>\n",
       "      <td>0.000000</td>\n",
       "      <td>0.000000</td>\n",
       "      <td>0.000000</td>\n",
       "      <td>0.000000</td>\n",
       "    </tr>\n",
       "    <tr>\n",
       "      <th>50%</th>\n",
       "      <td>26.000000</td>\n",
       "      <td>0.000000</td>\n",
       "      <td>0.000000</td>\n",
       "      <td>0.000000</td>\n",
       "      <td>0.000000</td>\n",
       "      <td>0.000000</td>\n",
       "    </tr>\n",
       "    <tr>\n",
       "      <th>75%</th>\n",
       "      <td>37.000000</td>\n",
       "      <td>53.000000</td>\n",
       "      <td>78.000000</td>\n",
       "      <td>33.000000</td>\n",
       "      <td>50.000000</td>\n",
       "      <td>36.000000</td>\n",
       "    </tr>\n",
       "    <tr>\n",
       "      <th>max</th>\n",
       "      <td>79.000000</td>\n",
       "      <td>11567.000000</td>\n",
       "      <td>25273.000000</td>\n",
       "      <td>8292.000000</td>\n",
       "      <td>19844.000000</td>\n",
       "      <td>22272.000000</td>\n",
       "    </tr>\n",
       "  </tbody>\n",
       "</table>\n",
       "</div>\n",
       "      <button class=\"colab-df-convert\" onclick=\"convertToInteractive('df-07d5fa67-0da5-4d75-9a7e-c5c50170709c')\"\n",
       "              title=\"Convert this dataframe to an interactive table.\"\n",
       "              style=\"display:none;\">\n",
       "        \n",
       "  <svg xmlns=\"http://www.w3.org/2000/svg\" height=\"24px\"viewBox=\"0 0 24 24\"\n",
       "       width=\"24px\">\n",
       "    <path d=\"M0 0h24v24H0V0z\" fill=\"none\"/>\n",
       "    <path d=\"M18.56 5.44l.94 2.06.94-2.06 2.06-.94-2.06-.94-.94-2.06-.94 2.06-2.06.94zm-11 1L8.5 8.5l.94-2.06 2.06-.94-2.06-.94L8.5 2.5l-.94 2.06-2.06.94zm10 10l.94 2.06.94-2.06 2.06-.94-2.06-.94-.94-2.06-.94 2.06-2.06.94z\"/><path d=\"M17.41 7.96l-1.37-1.37c-.4-.4-.92-.59-1.43-.59-.52 0-1.04.2-1.43.59L10.3 9.45l-7.72 7.72c-.78.78-.78 2.05 0 2.83L4 21.41c.39.39.9.59 1.41.59.51 0 1.02-.2 1.41-.59l7.78-7.78 2.81-2.81c.8-.78.8-2.07 0-2.86zM5.41 20L4 18.59l7.72-7.72 1.47 1.35L5.41 20z\"/>\n",
       "  </svg>\n",
       "      </button>\n",
       "      \n",
       "  <style>\n",
       "    .colab-df-container {\n",
       "      display:flex;\n",
       "      flex-wrap:wrap;\n",
       "      gap: 12px;\n",
       "    }\n",
       "\n",
       "    .colab-df-convert {\n",
       "      background-color: #E8F0FE;\n",
       "      border: none;\n",
       "      border-radius: 50%;\n",
       "      cursor: pointer;\n",
       "      display: none;\n",
       "      fill: #1967D2;\n",
       "      height: 32px;\n",
       "      padding: 0 0 0 0;\n",
       "      width: 32px;\n",
       "    }\n",
       "\n",
       "    .colab-df-convert:hover {\n",
       "      background-color: #E2EBFA;\n",
       "      box-shadow: 0px 1px 2px rgba(60, 64, 67, 0.3), 0px 1px 3px 1px rgba(60, 64, 67, 0.15);\n",
       "      fill: #174EA6;\n",
       "    }\n",
       "\n",
       "    [theme=dark] .colab-df-convert {\n",
       "      background-color: #3B4455;\n",
       "      fill: #D2E3FC;\n",
       "    }\n",
       "\n",
       "    [theme=dark] .colab-df-convert:hover {\n",
       "      background-color: #434B5C;\n",
       "      box-shadow: 0px 1px 3px 1px rgba(0, 0, 0, 0.15);\n",
       "      filter: drop-shadow(0px 1px 2px rgba(0, 0, 0, 0.3));\n",
       "      fill: #FFFFFF;\n",
       "    }\n",
       "  </style>\n",
       "\n",
       "      <script>\n",
       "        const buttonEl =\n",
       "          document.querySelector('#df-07d5fa67-0da5-4d75-9a7e-c5c50170709c button.colab-df-convert');\n",
       "        buttonEl.style.display =\n",
       "          google.colab.kernel.accessAllowed ? 'block' : 'none';\n",
       "\n",
       "        async function convertToInteractive(key) {\n",
       "          const element = document.querySelector('#df-07d5fa67-0da5-4d75-9a7e-c5c50170709c');\n",
       "          const dataTable =\n",
       "            await google.colab.kernel.invokeFunction('convertToInteractive',\n",
       "                                                     [key], {});\n",
       "          if (!dataTable) return;\n",
       "\n",
       "          const docLinkHtml = 'Like what you see? Visit the ' +\n",
       "            '<a target=\"_blank\" href=https://colab.research.google.com/notebooks/data_table.ipynb>data table notebook</a>'\n",
       "            + ' to learn more about interactive tables.';\n",
       "          element.innerHTML = '';\n",
       "          dataTable['output_type'] = 'display_data';\n",
       "          await google.colab.output.renderOutput(dataTable, element);\n",
       "          const docLink = document.createElement('div');\n",
       "          docLink.innerHTML = docLinkHtml;\n",
       "          element.appendChild(docLink);\n",
       "        }\n",
       "      </script>\n",
       "    </div>\n",
       "  </div>\n",
       "  "
      ],
      "text/plain": [
       "               Age   RoomService     FoodCourt  ShoppingMall           Spa  \\\n",
       "count  4186.000000   4195.000000   4171.000000   4179.000000   4176.000000   \n",
       "mean     28.658146    219.266269    439.484296    177.295525    303.052443   \n",
       "std      14.179072    607.011289   1527.663045    560.821123   1117.186015   \n",
       "min       0.000000      0.000000      0.000000      0.000000      0.000000   \n",
       "25%      19.000000      0.000000      0.000000      0.000000      0.000000   \n",
       "50%      26.000000      0.000000      0.000000      0.000000      0.000000   \n",
       "75%      37.000000     53.000000     78.000000     33.000000     50.000000   \n",
       "max      79.000000  11567.000000  25273.000000   8292.000000  19844.000000   \n",
       "\n",
       "             VRDeck  \n",
       "count   4197.000000  \n",
       "mean     310.710031  \n",
       "std     1246.994742  \n",
       "min        0.000000  \n",
       "25%        0.000000  \n",
       "50%        0.000000  \n",
       "75%       36.000000  \n",
       "max    22272.000000  "
      ]
     },
     "execution_count": 38,
     "metadata": {},
     "output_type": "execute_result"
    }
   ],
   "source": [
    "test.describe()"
   ]
  },
  {
   "cell_type": "markdown",
   "metadata": {
    "id": "jOiNrADQMngq"
   },
   "source": [
    "#### 02. 데이터 살펴보기(EDA)"
   ]
  },
  {
   "cell_type": "code",
   "execution_count": 39,
   "metadata": {
    "colab": {
     "base_uri": "https://localhost:8080/"
    },
    "id": "ybM-j0yEMmEn",
    "outputId": "f31ec51e-f511-426d-a416-d398a55a2875"
   },
   "outputs": [
    {
     "data": {
      "text/plain": [
       "['HomePlanet',\n",
       " 'CryoSleep',\n",
       " 'Cabin',\n",
       " 'Destination',\n",
       " 'Age',\n",
       " 'VIP',\n",
       " 'RoomService',\n",
       " 'FoodCourt',\n",
       " 'ShoppingMall',\n",
       " 'Spa',\n",
       " 'VRDeck',\n",
       " 'Name']"
      ]
     },
     "execution_count": 39,
     "metadata": {},
     "output_type": "execute_result"
    }
   ],
   "source": [
    "### PassengerId 삭제 및 특징(feature)명\n",
    "\n",
    "train_n = train.drop([\"PassengerId\"] , axis = 1)\n",
    "test_n = test.drop([\"PassengerId\"] , axis = 1)\n",
    "\n",
    "TARGET = 'Transported'\n",
    "FEATURES = [col for col in train_n.columns if col != TARGET]\n",
    "FEATURES"
   ]
  },
  {
   "cell_type": "code",
   "execution_count": 40,
   "metadata": {
    "colab": {
     "base_uri": "https://localhost:8080/"
    },
    "id": "Bp7LLYeGMpf2",
    "outputId": "a1918fe8-26e5-42bd-9ab0-be5c106c6ab1"
   },
   "outputs": [
    {
     "name": "stdout",
     "output_type": "stream",
     "text": [
      "['HomePlanet', 'CryoSleep', 'Cabin', 'Destination', 'Age', 'VIP', 'RoomService', 'FoodCourt', 'ShoppingMall', 'Spa', 'VRDeck', 'Name']\n",
      "3\n",
      "2\n",
      "9825\n"
     ]
    }
   ],
   "source": [
    "# Feature 살펴보기\n",
    "# 각 feature의 중복을 제외한 유일한 값의 갯수\n",
    "print(FEATURES)\n",
    "df = pd.concat([train[FEATURES], test[FEATURES]], axis=0)\n",
    "\n",
    "# 일부 특징 값 확인.\n",
    "print( df[\"HomePlanet\"].nunique() )\n",
    "print( df[\"CryoSleep\"].nunique() )\n",
    "print( df[\"Cabin\"].nunique() )"
   ]
  },
  {
   "cell_type": "code",
   "execution_count": 41,
   "metadata": {
    "colab": {
     "base_uri": "https://localhost:8080/"
    },
    "id": "HzeLdUqMMre3",
    "outputId": "a1e2b59f-5d1f-4b9f-b449-0b65bcf3097d"
   },
   "outputs": [
    {
     "name": "stdout",
     "output_type": "stream",
     "text": [
      "['Cabin', 'Name']\n",
      "['HomePlanet', 'CryoSleep', 'Destination', 'VIP']\n",
      "['Age', 'RoomService', 'FoodCourt', 'ShoppingMall', 'Spa', 'VRDeck']\n"
     ]
    }
   ],
   "source": [
    "# 텍스트(text), 범주형(category), 연속형(continuous) 자료로 분류\n",
    "# 변수별 feature 분류\n",
    "df = pd.concat([train[FEATURES], test[FEATURES]], axis=0)\n",
    "\n",
    "text_features = [\"Cabin\", \"Name\"]\n",
    "cat_features = [col for col in FEATURES \n",
    "                       if df[col].nunique() < 25 and col not in text_features ]\n",
    "cont_features = [col for col in FEATURES \n",
    "                       if df[col].nunique() >= 25 and col not in text_features ]\n",
    "\n",
    "print( text_features )\n",
    "print( cat_features )\n",
    "print( cont_features )"
   ]
  },
  {
   "cell_type": "code",
   "execution_count": 42,
   "metadata": {
    "colab": {
     "base_uri": "https://localhost:8080/"
    },
    "id": "QK_8hfC-MxWY",
    "outputId": "dd4a22db-9381-419c-a891-d11848c940c1"
   },
   "outputs": [
    {
     "name": "stdout",
     "output_type": "stream",
     "text": [
      "Total number of features: 12\n",
      "Number of categorical features: 4\n",
      "Number of continuos features: 6\n",
      "Number of text features: 2\n"
     ]
    }
   ],
   "source": [
    "del df\n",
    "\n",
    "print(f'Total number of features: {len(FEATURES)}')\n",
    "print(f'Number of categorical features: {len(cat_features)}')\n",
    "print(f'Number of continuos features: {len(cont_features)}')\n",
    "print(f'Number of text features: {len(text_features)}')"
   ]
  },
  {
   "cell_type": "code",
   "execution_count": 43,
   "metadata": {
    "colab": {
     "base_uri": "https://localhost:8080/",
     "height": 542
    },
    "id": "-BQpTkB5My92",
    "outputId": "5d743b85-c677-4f57-fad0-fd93a8fc74db"
   },
   "outputs": [
    {
     "data": {
      "text/html": [
       "<html>\n",
       "<head><meta charset=\"utf-8\" /></head>\n",
       "<body>\n",
       "    <div>            <script src=\"https://cdnjs.cloudflare.com/ajax/libs/mathjax/2.7.5/MathJax.js?config=TeX-AMS-MML_SVG\"></script><script type=\"text/javascript\">if (window.MathJax) {MathJax.Hub.Config({SVG: {font: \"STIX-Web\"}});}</script>                <script type=\"text/javascript\">window.PlotlyConfig = {MathJaxConfig: 'local'};</script>\n",
       "        <script src=\"https://cdn.plot.ly/plotly-2.8.3.min.js\"></script>                <div id=\"b0f1deef-7ad7-4d19-97f0-fa0754ac5442\" class=\"plotly-graph-div\" style=\"height:525px; width:100%;\"></div>            <script type=\"text/javascript\">                                    window.PLOTLYENV=window.PLOTLYENV || {};                                    if (document.getElementById(\"b0f1deef-7ad7-4d19-97f0-fa0754ac5442\")) {                    Plotly.newPlot(                        \"b0f1deef-7ad7-4d19-97f0-fa0754ac5442\",                        [{\"labels\":[\"Categorical\",\"Continuous\",\"Text\"],\"marker\":{\"colors\":[\"#DE3163\",\"#58D68D\"],\"line\":{\"color\":\"#000000\",\"width\":3}},\"pull\":[0.2,0.1,0],\"values\":[4,6,2],\"type\":\"pie\"}],                        {\"template\":{\"data\":{\"bar\":[{\"error_x\":{\"color\":\"#2a3f5f\"},\"error_y\":{\"color\":\"#2a3f5f\"},\"marker\":{\"line\":{\"color\":\"#E5ECF6\",\"width\":0.5},\"pattern\":{\"fillmode\":\"overlay\",\"size\":10,\"solidity\":0.2}},\"type\":\"bar\"}],\"barpolar\":[{\"marker\":{\"line\":{\"color\":\"#E5ECF6\",\"width\":0.5},\"pattern\":{\"fillmode\":\"overlay\",\"size\":10,\"solidity\":0.2}},\"type\":\"barpolar\"}],\"carpet\":[{\"aaxis\":{\"endlinecolor\":\"#2a3f5f\",\"gridcolor\":\"white\",\"linecolor\":\"white\",\"minorgridcolor\":\"white\",\"startlinecolor\":\"#2a3f5f\"},\"baxis\":{\"endlinecolor\":\"#2a3f5f\",\"gridcolor\":\"white\",\"linecolor\":\"white\",\"minorgridcolor\":\"white\",\"startlinecolor\":\"#2a3f5f\"},\"type\":\"carpet\"}],\"choropleth\":[{\"colorbar\":{\"outlinewidth\":0,\"ticks\":\"\"},\"type\":\"choropleth\"}],\"contour\":[{\"colorbar\":{\"outlinewidth\":0,\"ticks\":\"\"},\"colorscale\":[[0.0,\"#0d0887\"],[0.1111111111111111,\"#46039f\"],[0.2222222222222222,\"#7201a8\"],[0.3333333333333333,\"#9c179e\"],[0.4444444444444444,\"#bd3786\"],[0.5555555555555556,\"#d8576b\"],[0.6666666666666666,\"#ed7953\"],[0.7777777777777778,\"#fb9f3a\"],[0.8888888888888888,\"#fdca26\"],[1.0,\"#f0f921\"]],\"type\":\"contour\"}],\"contourcarpet\":[{\"colorbar\":{\"outlinewidth\":0,\"ticks\":\"\"},\"type\":\"contourcarpet\"}],\"heatmap\":[{\"colorbar\":{\"outlinewidth\":0,\"ticks\":\"\"},\"colorscale\":[[0.0,\"#0d0887\"],[0.1111111111111111,\"#46039f\"],[0.2222222222222222,\"#7201a8\"],[0.3333333333333333,\"#9c179e\"],[0.4444444444444444,\"#bd3786\"],[0.5555555555555556,\"#d8576b\"],[0.6666666666666666,\"#ed7953\"],[0.7777777777777778,\"#fb9f3a\"],[0.8888888888888888,\"#fdca26\"],[1.0,\"#f0f921\"]],\"type\":\"heatmap\"}],\"heatmapgl\":[{\"colorbar\":{\"outlinewidth\":0,\"ticks\":\"\"},\"colorscale\":[[0.0,\"#0d0887\"],[0.1111111111111111,\"#46039f\"],[0.2222222222222222,\"#7201a8\"],[0.3333333333333333,\"#9c179e\"],[0.4444444444444444,\"#bd3786\"],[0.5555555555555556,\"#d8576b\"],[0.6666666666666666,\"#ed7953\"],[0.7777777777777778,\"#fb9f3a\"],[0.8888888888888888,\"#fdca26\"],[1.0,\"#f0f921\"]],\"type\":\"heatmapgl\"}],\"histogram\":[{\"marker\":{\"pattern\":{\"fillmode\":\"overlay\",\"size\":10,\"solidity\":0.2}},\"type\":\"histogram\"}],\"histogram2d\":[{\"colorbar\":{\"outlinewidth\":0,\"ticks\":\"\"},\"colorscale\":[[0.0,\"#0d0887\"],[0.1111111111111111,\"#46039f\"],[0.2222222222222222,\"#7201a8\"],[0.3333333333333333,\"#9c179e\"],[0.4444444444444444,\"#bd3786\"],[0.5555555555555556,\"#d8576b\"],[0.6666666666666666,\"#ed7953\"],[0.7777777777777778,\"#fb9f3a\"],[0.8888888888888888,\"#fdca26\"],[1.0,\"#f0f921\"]],\"type\":\"histogram2d\"}],\"histogram2dcontour\":[{\"colorbar\":{\"outlinewidth\":0,\"ticks\":\"\"},\"colorscale\":[[0.0,\"#0d0887\"],[0.1111111111111111,\"#46039f\"],[0.2222222222222222,\"#7201a8\"],[0.3333333333333333,\"#9c179e\"],[0.4444444444444444,\"#bd3786\"],[0.5555555555555556,\"#d8576b\"],[0.6666666666666666,\"#ed7953\"],[0.7777777777777778,\"#fb9f3a\"],[0.8888888888888888,\"#fdca26\"],[1.0,\"#f0f921\"]],\"type\":\"histogram2dcontour\"}],\"mesh3d\":[{\"colorbar\":{\"outlinewidth\":0,\"ticks\":\"\"},\"type\":\"mesh3d\"}],\"parcoords\":[{\"line\":{\"colorbar\":{\"outlinewidth\":0,\"ticks\":\"\"}},\"type\":\"parcoords\"}],\"pie\":[{\"automargin\":true,\"type\":\"pie\"}],\"scatter\":[{\"marker\":{\"colorbar\":{\"outlinewidth\":0,\"ticks\":\"\"}},\"type\":\"scatter\"}],\"scatter3d\":[{\"line\":{\"colorbar\":{\"outlinewidth\":0,\"ticks\":\"\"}},\"marker\":{\"colorbar\":{\"outlinewidth\":0,\"ticks\":\"\"}},\"type\":\"scatter3d\"}],\"scattercarpet\":[{\"marker\":{\"colorbar\":{\"outlinewidth\":0,\"ticks\":\"\"}},\"type\":\"scattercarpet\"}],\"scattergeo\":[{\"marker\":{\"colorbar\":{\"outlinewidth\":0,\"ticks\":\"\"}},\"type\":\"scattergeo\"}],\"scattergl\":[{\"marker\":{\"colorbar\":{\"outlinewidth\":0,\"ticks\":\"\"}},\"type\":\"scattergl\"}],\"scattermapbox\":[{\"marker\":{\"colorbar\":{\"outlinewidth\":0,\"ticks\":\"\"}},\"type\":\"scattermapbox\"}],\"scatterpolar\":[{\"marker\":{\"colorbar\":{\"outlinewidth\":0,\"ticks\":\"\"}},\"type\":\"scatterpolar\"}],\"scatterpolargl\":[{\"marker\":{\"colorbar\":{\"outlinewidth\":0,\"ticks\":\"\"}},\"type\":\"scatterpolargl\"}],\"scatterternary\":[{\"marker\":{\"colorbar\":{\"outlinewidth\":0,\"ticks\":\"\"}},\"type\":\"scatterternary\"}],\"surface\":[{\"colorbar\":{\"outlinewidth\":0,\"ticks\":\"\"},\"colorscale\":[[0.0,\"#0d0887\"],[0.1111111111111111,\"#46039f\"],[0.2222222222222222,\"#7201a8\"],[0.3333333333333333,\"#9c179e\"],[0.4444444444444444,\"#bd3786\"],[0.5555555555555556,\"#d8576b\"],[0.6666666666666666,\"#ed7953\"],[0.7777777777777778,\"#fb9f3a\"],[0.8888888888888888,\"#fdca26\"],[1.0,\"#f0f921\"]],\"type\":\"surface\"}],\"table\":[{\"cells\":{\"fill\":{\"color\":\"#EBF0F8\"},\"line\":{\"color\":\"white\"}},\"header\":{\"fill\":{\"color\":\"#C8D4E3\"},\"line\":{\"color\":\"white\"}},\"type\":\"table\"}]},\"layout\":{\"annotationdefaults\":{\"arrowcolor\":\"#2a3f5f\",\"arrowhead\":0,\"arrowwidth\":1},\"autotypenumbers\":\"strict\",\"coloraxis\":{\"colorbar\":{\"outlinewidth\":0,\"ticks\":\"\"}},\"colorscale\":{\"diverging\":[[0,\"#8e0152\"],[0.1,\"#c51b7d\"],[0.2,\"#de77ae\"],[0.3,\"#f1b6da\"],[0.4,\"#fde0ef\"],[0.5,\"#f7f7f7\"],[0.6,\"#e6f5d0\"],[0.7,\"#b8e186\"],[0.8,\"#7fbc41\"],[0.9,\"#4d9221\"],[1,\"#276419\"]],\"sequential\":[[0.0,\"#0d0887\"],[0.1111111111111111,\"#46039f\"],[0.2222222222222222,\"#7201a8\"],[0.3333333333333333,\"#9c179e\"],[0.4444444444444444,\"#bd3786\"],[0.5555555555555556,\"#d8576b\"],[0.6666666666666666,\"#ed7953\"],[0.7777777777777778,\"#fb9f3a\"],[0.8888888888888888,\"#fdca26\"],[1.0,\"#f0f921\"]],\"sequentialminus\":[[0.0,\"#0d0887\"],[0.1111111111111111,\"#46039f\"],[0.2222222222222222,\"#7201a8\"],[0.3333333333333333,\"#9c179e\"],[0.4444444444444444,\"#bd3786\"],[0.5555555555555556,\"#d8576b\"],[0.6666666666666666,\"#ed7953\"],[0.7777777777777778,\"#fb9f3a\"],[0.8888888888888888,\"#fdca26\"],[1.0,\"#f0f921\"]]},\"colorway\":[\"#636efa\",\"#EF553B\",\"#00cc96\",\"#ab63fa\",\"#FFA15A\",\"#19d3f3\",\"#FF6692\",\"#B6E880\",\"#FF97FF\",\"#FECB52\"],\"font\":{\"color\":\"#2a3f5f\"},\"geo\":{\"bgcolor\":\"white\",\"lakecolor\":\"white\",\"landcolor\":\"#E5ECF6\",\"showlakes\":true,\"showland\":true,\"subunitcolor\":\"white\"},\"hoverlabel\":{\"align\":\"left\"},\"hovermode\":\"closest\",\"mapbox\":{\"style\":\"light\"},\"paper_bgcolor\":\"white\",\"plot_bgcolor\":\"#E5ECF6\",\"polar\":{\"angularaxis\":{\"gridcolor\":\"white\",\"linecolor\":\"white\",\"ticks\":\"\"},\"bgcolor\":\"#E5ECF6\",\"radialaxis\":{\"gridcolor\":\"white\",\"linecolor\":\"white\",\"ticks\":\"\"}},\"scene\":{\"xaxis\":{\"backgroundcolor\":\"#E5ECF6\",\"gridcolor\":\"white\",\"gridwidth\":2,\"linecolor\":\"white\",\"showbackground\":true,\"ticks\":\"\",\"zerolinecolor\":\"white\"},\"yaxis\":{\"backgroundcolor\":\"#E5ECF6\",\"gridcolor\":\"white\",\"gridwidth\":2,\"linecolor\":\"white\",\"showbackground\":true,\"ticks\":\"\",\"zerolinecolor\":\"white\"},\"zaxis\":{\"backgroundcolor\":\"#E5ECF6\",\"gridcolor\":\"white\",\"gridwidth\":2,\"linecolor\":\"white\",\"showbackground\":true,\"ticks\":\"\",\"zerolinecolor\":\"white\"}},\"shapedefaults\":{\"line\":{\"color\":\"#2a3f5f\"}},\"ternary\":{\"aaxis\":{\"gridcolor\":\"white\",\"linecolor\":\"white\",\"ticks\":\"\"},\"baxis\":{\"gridcolor\":\"white\",\"linecolor\":\"white\",\"ticks\":\"\"},\"bgcolor\":\"#E5ECF6\",\"caxis\":{\"gridcolor\":\"white\",\"linecolor\":\"white\",\"ticks\":\"\"}},\"title\":{\"x\":0.05},\"xaxis\":{\"automargin\":true,\"gridcolor\":\"white\",\"linecolor\":\"white\",\"ticks\":\"\",\"title\":{\"standoff\":15},\"zerolinecolor\":\"white\",\"zerolinewidth\":2},\"yaxis\":{\"automargin\":true,\"gridcolor\":\"white\",\"linecolor\":\"white\",\"ticks\":\"\",\"title\":{\"standoff\":15},\"zerolinecolor\":\"white\",\"zerolinewidth\":2}}}},                        {\"responsive\": true}                    ).then(function(){\n",
       "                            \n",
       "var gd = document.getElementById('b0f1deef-7ad7-4d19-97f0-fa0754ac5442');\n",
       "var x = new MutationObserver(function (mutations, observer) {{\n",
       "        var display = window.getComputedStyle(gd).display;\n",
       "        if (!display || display === 'none') {{\n",
       "            console.log([gd, 'removed!']);\n",
       "            Plotly.purge(gd);\n",
       "            observer.disconnect();\n",
       "        }}\n",
       "}});\n",
       "\n",
       "// Listen for the removal of the full notebook cells\n",
       "var notebookContainer = gd.closest('#notebook-container');\n",
       "if (notebookContainer) {{\n",
       "    x.observe(notebookContainer, {childList: true});\n",
       "}}\n",
       "\n",
       "// Listen for the clearing of the current output cell\n",
       "var outputEl = gd.closest('.output');\n",
       "if (outputEl) {{\n",
       "    x.observe(outputEl, {childList: true});\n",
       "}}\n",
       "\n",
       "                        })                };                            </script>        </div>\n",
       "</body>\n",
       "</html>"
      ]
     },
     "metadata": {},
     "output_type": "display_data"
    }
   ],
   "source": [
    "# feature별 분류\n",
    "labels=['Categorical', 'Continuous', \"Text\"]  # 범주형, 연속형, 텍스트 \n",
    "values= [len(cat_features), len(cont_features), len(text_features)]\n",
    "colors = ['#DE3163', '#58D68D']\n",
    "\n",
    "fig = go.Figure(data=[go.Pie(\n",
    "                labels=labels, \n",
    "                values=values, \n",
    "                pull=[0.2, 0.1, 0 ],   # 중심에서 띄우는 정도\n",
    "                marker=dict(colors=colors, \n",
    "                line=dict(color='#000000', width=3))  # line : 외곽테두리선\n",
    ")])\n",
    "\n",
    "fig.show()"
   ]
  },
  {
   "cell_type": "code",
   "execution_count": 44,
   "metadata": {
    "colab": {
     "base_uri": "https://localhost:8080/",
     "height": 542
    },
    "id": "cZ2GTjJ4M1fe",
    "outputId": "942abef7-64da-4271-f7da-ee9994eb1e99"
   },
   "outputs": [
    {
     "data": {
      "text/html": [
       "<html>\n",
       "<head><meta charset=\"utf-8\" /></head>\n",
       "<body>\n",
       "    <div>            <script src=\"https://cdnjs.cloudflare.com/ajax/libs/mathjax/2.7.5/MathJax.js?config=TeX-AMS-MML_SVG\"></script><script type=\"text/javascript\">if (window.MathJax) {MathJax.Hub.Config({SVG: {font: \"STIX-Web\"}});}</script>                <script type=\"text/javascript\">window.PlotlyConfig = {MathJaxConfig: 'local'};</script>\n",
       "        <script src=\"https://cdn.plot.ly/plotly-2.8.3.min.js\"></script>                <div id=\"8e500329-5a71-4ebd-b6eb-704ece3a3094\" class=\"plotly-graph-div\" style=\"height:525px; width:100%;\"></div>            <script type=\"text/javascript\">                                    window.PLOTLYENV=window.PLOTLYENV || {};                                    if (document.getElementById(\"8e500329-5a71-4ebd-b6eb-704ece3a3094\")) {                    Plotly.newPlot(                        \"8e500329-5a71-4ebd-b6eb-704ece3a3094\",                        [{\"alignmentgroup\":\"True\",\"bingroup\":\"x\",\"hovertemplate\":\"type=Train<br>Age=%{x}<br>count=%{y}<extra></extra>\",\"legendgroup\":\"Train\",\"marker\":{\"color\":\"#58D68D\",\"pattern\":{\"shape\":\"\"}},\"name\":\"Train\",\"nbinsx\":100,\"offsetgroup\":\"Train\",\"orientation\":\"v\",\"showlegend\":true,\"x\":[39.0,24.0,58.0,33.0,16.0,44.0,26.0,28.0,35.0,14.0,34.0,45.0,32.0,48.0,28.0,31.0,27.0,24.0,45.0,0.0,14.0,1.0,49.0,29.0,10.0,1.0,7.0,21.0,62.0,15.0,34.0,43.0,32.0,47.0,2.0,20.0,28.0,23.0,15.0,20.0,30.0,17.0,45.0,55.0,4.0,21.0,21.0,19.0,35.0,56.0,null,25.0,2.0,38.0,27.0,36.0,22.0,62.0,15.0,33.0,62.0,0.0,18.0,21.0,null,42.0,19.0,17.0,14.0,37.0,42.0,27.0,28.0,38.0,13.0,42.0,2.0,8.0,24.0,40.0,43.0,45.0,35.0,26.0,27.0,19.0,0.0,3.0,54.0,26.0,26.0,23.0,2.0,31.0,18.0,24.0,9.0,6.0,27.0,21.0,23.0,31.0,0.0,32.0,40.0,42.0,28.0,29.0,48.0,64.0,27.0,26.0,33.0,39.0,13.0,24.0,29.0,18.0,67.0,35.0,61.0,45.0,22.0,19.0,36.0,19.0,47.0,13.0,34.0,35.0,24.0,26.0,31.0,20.0,56.0,50.0,42.0,null,38.0,41.0,22.0,26.0,17.0,57.0,17.0,35.0,13.0,27.0,31.0,24.0,19.0,32.0,58.0,21.0,38.0,38.0,19.0,0.0,3.0,20.0,24.0,37.0,25.0,56.0,49.0,11.0,1.0,8.0,39.0,2.0,23.0,0.0,39.0,25.0,36.0,52.0,18.0,15.0,35.0,47.0,45.0,null,51.0,29.0,null,19.0,24.0,29.0,11.0,17.0,13.0,35.0,21.0,21.0,38.0,19.0,2.0,0.0,13.0,25.0,16.0,1.0,15.0,21.0,23.0,33.0,21.0,41.0,16.0,42.0,20.0,24.0,16.0,21.0,32.0,58.0,24.0,30.0,27.0,32.0,43.0,42.0,37.0,35.0,33.0,18.0,21.0,43.0,14.0,46.0,33.0,21.0,33.0,47.0,54.0,30.0,29.0,21.0,24.0,21.0,60.0,22.0,26.0,26.0,28.0,39.0,13.0,47.0,63.0,null,50.0,35.0,45.0,19.0,21.0,29.0,22.0,14.0,42.0,57.0,39.0,28.0,19.0,19.0,26.0,17.0,43.0,9.0,40.0,50.0,24.0,57.0,16.0,23.0,23.0,28.0,23.0,23.0,18.0,18.0,67.0,60.0,null,49.0,0.0,26.0,35.0,24.0,20.0,18.0,21.0,59.0,13.0,43.0,29.0,19.0,2.0,32.0,33.0,25.0,29.0,29.0,44.0,2.0,19.0,0.0,18.0,38.0,5.0,31.0,30.0,15.0,27.0,22.0,36.0,14.0,23.0,18.0,36.0,41.0,50.0,32.0,26.0,15.0,33.0,null,26.0,61.0,24.0,30.0,24.0,24.0,41.0,20.0,22.0,63.0,18.0,21.0,79.0,56.0,13.0,33.0,32.0,31.0,26.0,18.0,38.0,23.0,28.0,34.0,0.0,14.0,23.0,49.0,14.0,18.0,27.0,48.0,31.0,61.0,18.0,45.0,22.0,30.0,30.0,32.0,43.0,17.0,23.0,20.0,39.0,35.0,31.0,21.0,16.0,60.0,18.0,42.0,68.0,22.0,59.0,null,37.0,3.0,31.0,31.0,29.0,20.0,46.0,29.0,43.0,17.0,27.0,47.0,45.0,17.0,10.0,56.0,39.0,40.0,40.0,34.0,32.0,35.0,32.0,26.0,25.0,26.0,22.0,22.0,24.0,32.0,11.0,22.0,19.0,34.0,74.0,28.0,42.0,43.0,55.0,19.0,6.0,7.0,28.0,15.0,24.0,31.0,22.0,1.0,50.0,34.0,14.0,19.0,null,36.0,34.0,25.0,36.0,16.0,30.0,37.0,15.0,36.0,27.0,27.0,12.0,22.0,27.0,13.0,27.0,28.0,21.0,39.0,28.0,14.0,27.0,46.0,27.0,21.0,21.0,42.0,22.0,10.0,43.0,42.0,18.0,54.0,24.0,64.0,18.0,53.0,23.0,39.0,59.0,32.0,55.0,21.0,50.0,55.0,null,35.0,null,55.0,23.0,42.0,35.0,47.0,null,34.0,46.0,26.0,1.0,null,33.0,34.0,49.0,22.0,28.0,null,36.0,30.0,49.0,38.0,31.0,17.0,26.0,23.0,24.0,23.0,24.0,32.0,43.0,23.0,42.0,29.0,40.0,37.0,61.0,33.0,19.0,21.0,4.0,12.0,44.0,22.0,33.0,32.0,28.0,28.0,31.0,13.0,14.0,33.0,null,23.0,36.0,22.0,19.0,42.0,30.0,16.0,55.0,55.0,19.0,null,18.0,21.0,65.0,55.0,50.0,49.0,22.0,33.0,3.0,0.0,33.0,48.0,5.0,23.0,53.0,18.0,20.0,23.0,48.0,19.0,null,9.0,24.0,46.0,23.0,21.0,19.0,0.0,4.0,26.0,9.0,24.0,24.0,25.0,21.0,21.0,37.0,44.0,43.0,7.0,33.0,24.0,31.0,27.0,34.0,58.0,7.0,3.0,21.0,21.0,39.0,43.0,22.0,44.0,38.0,32.0,55.0,31.0,39.0,35.0,37.0,13.0,21.0,20.0,20.0,63.0,36.0,29.0,36.0,79.0,30.0,30.0,19.0,33.0,20.0,38.0,7.0,58.0,33.0,3.0,39.0,37.0,32.0,28.0,38.0,21.0,18.0,15.0,44.0,44.0,36.0,28.0,15.0,45.0,26.0,46.0,25.0,46.0,15.0,37.0,20.0,45.0,7.0,5.0,38.0,30.0,null,0.0,20.0,41.0,18.0,29.0,19.0,34.0,36.0,54.0,19.0,21.0,23.0,35.0,34.0,22.0,24.0,18.0,24.0,33.0,24.0,18.0,19.0,43.0,44.0,25.0,25.0,23.0,23.0,20.0,2.0,26.0,38.0,1.0,12.0,2.0,25.0,1.0,0.0,54.0,21.0,19.0,24.0,20.0,23.0,29.0,14.0,19.0,23.0,62.0,23.0,65.0,47.0,67.0,14.0,41.0,14.0,19.0,22.0,34.0,65.0,42.0,22.0,54.0,34.0,27.0,67.0,33.0,30.0,22.0,35.0,23.0,49.0,36.0,31.0,54.0,0.0,null,54.0,10.0,0.0,7.0,25.0,37.0,15.0,26.0,7.0,30.0,19.0,30.0,21.0,21.0,59.0,28.0,32.0,19.0,7.0,16.0,31.0,30.0,26.0,20.0,24.0,39.0,19.0,27.0,34.0,28.0,29.0,38.0,null,1.0,36.0,31.0,1.0,31.0,10.0,null,42.0,0.0,41.0,0.0,0.0,59.0,13.0,24.0,20.0,71.0,23.0,15.0,18.0,19.0,4.0,42.0,51.0,13.0,27.0,42.0,41.0,21.0,31.0,36.0,31.0,14.0,32.0,32.0,27.0,57.0,13.0,30.0,14.0,27.0,32.0,54.0,23.0,38.0,32.0,24.0,36.0,11.0,6.0,36.0,22.0,null,37.0,55.0,null,20.0,16.0,19.0,38.0,35.0,33.0,37.0,46.0,41.0,13.0,31.0,52.0,48.0,27.0,16.0,32.0,25.0,26.0,44.0,32.0,18.0,23.0,44.0,29.0,19.0,41.0,28.0,19.0,32.0,74.0,31.0,38.0,20.0,24.0,26.0,44.0,33.0,31.0,null,22.0,33.0,34.0,11.0,41.0,30.0,30.0,25.0,31.0,38.0,15.0,19.0,29.0,30.0,29.0,36.0,24.0,30.0,0.0,15.0,38.0,13.0,18.0,16.0,8.0,19.0,26.0,15.0,38.0,45.0,48.0,17.0,28.0,41.0,19.0,14.0,21.0,48.0,19.0,29.0,20.0,44.0,19.0,64.0,21.0,32.0,20.0,24.0,44.0,57.0,51.0,34.0,45.0,24.0,23.0,30.0,20.0,22.0,null,71.0,18.0,16.0,28.0,36.0,6.0,26.0,27.0,49.0,29.0,46.0,35.0,17.0,37.0,24.0,47.0,26.0,46.0,27.0,56.0,18.0,15.0,3.0,42.0,1.0,56.0,20.0,21.0,5.0,12.0,39.0,60.0,31.0,58.0,19.0,29.0,19.0,44.0,20.0,18.0,36.0,25.0,15.0,18.0,0.0,54.0,0.0,20.0,21.0,8.0,46.0,31.0,3.0,30.0,23.0,14.0,25.0,61.0,31.0,13.0,24.0,47.0,15.0,46.0,49.0,37.0,44.0,16.0,58.0,20.0,36.0,31.0,21.0,22.0,27.0,58.0,38.0,30.0,20.0,19.0,57.0,26.0,38.0,15.0,null,35.0,38.0,35.0,14.0,27.0,25.0,37.0,25.0,41.0,50.0,33.0,27.0,23.0,18.0,31.0,54.0,0.0,11.0,4.0,19.0,7.0,20.0,33.0,26.0,35.0,23.0,60.0,34.0,null,42.0,22.0,18.0,5.0,18.0,29.0,39.0,17.0,58.0,5.0,23.0,26.0,40.0,20.0,38.0,31.0,34.0,9.0,36.0,26.0,18.0,55.0,28.0,18.0,28.0,23.0,20.0,22.0,27.0,13.0,32.0,53.0,34.0,42.0,19.0,54.0,12.0,35.0,55.0,26.0,49.0,22.0,null,30.0,39.0,14.0,29.0,34.0,8.0,7.0,3.0,0.0,10.0,16.0,41.0,18.0,25.0,32.0,26.0,26.0,18.0,27.0,26.0,28.0,19.0,31.0,35.0,46.0,37.0,29.0,17.0,30.0,28.0,16.0,40.0,23.0,24.0,36.0,34.0,59.0,20.0,15.0,19.0,64.0,24.0,23.0,30.0,0.0,8.0,1.0,48.0,12.0,30.0,10.0,11.0,58.0,52.0,36.0,32.0,16.0,25.0,28.0,32.0,28.0,16.0,50.0,20.0,23.0,45.0,23.0,53.0,8.0,6.0,3.0,13.0,60.0,1.0,40.0,51.0,31.0,28.0,20.0,14.0,23.0,4.0,20.0,75.0,24.0,18.0,21.0,59.0,27.0,38.0,41.0,36.0,29.0,22.0,23.0,32.0,21.0,26.0,61.0,30.0,40.0,37.0,41.0,32.0,30.0,27.0,22.0,54.0,27.0,52.0,15.0,27.0,30.0,19.0,22.0,43.0,25.0,51.0,34.0,21.0,21.0,23.0,38.0,30.0,31.0,44.0,14.0,18.0,19.0,null,36.0,10.0,1.0,4.0,21.0,24.0,8.0,18.0,33.0,31.0,43.0,20.0,28.0,30.0,28.0,19.0,22.0,27.0,22.0,2.0,4.0,10.0,9.0,37.0,2.0,44.0,11.0,22.0,40.0,30.0,37.0,26.0,19.0,57.0,1.0,17.0,26.0,21.0,28.0,36.0,25.0,40.0,23.0,2.0,10.0,43.0,0.0,24.0,42.0,30.0,19.0,26.0,47.0,28.0,24.0,29.0,32.0,44.0,17.0,35.0,23.0,34.0,25.0,67.0,22.0,null,27.0,14.0,42.0,19.0,22.0,31.0,10.0,39.0,41.0,0.0,22.0,21.0,40.0,25.0,23.0,33.0,20.0,40.0,27.0,21.0,25.0,2.0,19.0,41.0,43.0,19.0,22.0,16.0,42.0,20.0,35.0,53.0,17.0,6.0,22.0,41.0,19.0,39.0,23.0,31.0,38.0,1.0,13.0,21.0,44.0,36.0,19.0,7.0,39.0,28.0,28.0,14.0,18.0,23.0,33.0,18.0,47.0,42.0,17.0,21.0,17.0,26.0,23.0,15.0,18.0,65.0,33.0,27.0,41.0,42.0,null,37.0,17.0,24.0,39.0,59.0,32.0,29.0,8.0,28.0,35.0,24.0,1.0,4.0,28.0,46.0,67.0,44.0,14.0,23.0,51.0,20.0,0.0,0.0,23.0,24.0,41.0,30.0,27.0,13.0,16.0,30.0,8.0,59.0,43.0,30.0,46.0,39.0,21.0,70.0,34.0,33.0,44.0,16.0,63.0,37.0,29.0,29.0,22.0,26.0,76.0,61.0,46.0,19.0,13.0,null,30.0,23.0,63.0,21.0,32.0,33.0,39.0,49.0,27.0,16.0,38.0,42.0,19.0,26.0,32.0,56.0,0.0,38.0,30.0,21.0,11.0,3.0,17.0,35.0,17.0,0.0,46.0,63.0,35.0,61.0,19.0,43.0,14.0,78.0,21.0,32.0,31.0,40.0,13.0,36.0,31.0,18.0,40.0,28.0,41.0,35.0,14.0,20.0,23.0,22.0,25.0,18.0,25.0,30.0,46.0,27.0,53.0,21.0,32.0,32.0,33.0,26.0,47.0,13.0,34.0,21.0,20.0,21.0,51.0,18.0,26.0,53.0,30.0,37.0,45.0,62.0,38.0,24.0,18.0,23.0,16.0,37.0,22.0,18.0,25.0,26.0,25.0,55.0,28.0,23.0,22.0,26.0,13.0,18.0,38.0,28.0,57.0,0.0,18.0,25.0,35.0,37.0,33.0,35.0,47.0,23.0,null,27.0,23.0,31.0,19.0,53.0,37.0,18.0,42.0,7.0,7.0,24.0,20.0,24.0,42.0,49.0,47.0,16.0,26.0,24.0,38.0,0.0,37.0,39.0,25.0,25.0,35.0,0.0,46.0,4.0,19.0,29.0,19.0,47.0,1.0,4.0,37.0,61.0,32.0,4.0,16.0,25.0,22.0,41.0,25.0,19.0,21.0,14.0,18.0,34.0,33.0,14.0,28.0,43.0,3.0,0.0,47.0,28.0,40.0,17.0,21.0,null,41.0,20.0,56.0,57.0,48.0,37.0,20.0,36.0,38.0,22.0,31.0,0.0,21.0,49.0,44.0,null,29.0,16.0,20.0,26.0,19.0,34.0,38.0,51.0,7.0,3.0,26.0,27.0,7.0,19.0,28.0,27.0,31.0,26.0,43.0,23.0,14.0,47.0,17.0,64.0,13.0,18.0,29.0,70.0,23.0,23.0,35.0,17.0,26.0,15.0,19.0,20.0,51.0,17.0,27.0,43.0,5.0,17.0,40.0,38.0,20.0,13.0,15.0,15.0,59.0,24.0,null,52.0,38.0,26.0,17.0,17.0,20.0,15.0,30.0,22.0,18.0,22.0,20.0,22.0,34.0,28.0,50.0,19.0,21.0,0.0,4.0,59.0,15.0,24.0,26.0,67.0,55.0,50.0,23.0,21.0,15.0,41.0,59.0,18.0,21.0,14.0,50.0,32.0,46.0,null,58.0,15.0,35.0,30.0,30.0,43.0,21.0,15.0,37.0,28.0,28.0,40.0,42.0,21.0,31.0,51.0,73.0,26.0,33.0,39.0,19.0,12.0,10.0,0.0,0.0,1.0,33.0,23.0,5.0,24.0,26.0,30.0,33.0,56.0,25.0,null,25.0,18.0,60.0,41.0,16.0,17.0,26.0,31.0,67.0,16.0,24.0,19.0,48.0,30.0,22.0,28.0,23.0,29.0,22.0,48.0,26.0,23.0,55.0,46.0,38.0,2.0,3.0,20.0,65.0,null,25.0,54.0,25.0,14.0,53.0,0.0,39.0,22.0,31.0,24.0,35.0,35.0,32.0,61.0,58.0,26.0,4.0,1.0,8.0,7.0,25.0,6.0,29.0,64.0,31.0,25.0,30.0,0.0,29.0,37.0,49.0,36.0,20.0,20.0,18.0,17.0,48.0,26.0,35.0,30.0,22.0,5.0,43.0,52.0,50.0,29.0,19.0,39.0,38.0,21.0,25.0,42.0,36.0,19.0,42.0,40.0,14.0,50.0,18.0,46.0,null,15.0,22.0,0.0,52.0,38.0,46.0,23.0,63.0,24.0,50.0,20.0,55.0,21.0,56.0,45.0,18.0,47.0,36.0,57.0,13.0,27.0,20.0,47.0,15.0,34.0,21.0,51.0,23.0,58.0,37.0,44.0,25.0,15.0,40.0,29.0,36.0,21.0,35.0,24.0,2.0,0.0,43.0,63.0,30.0,38.0,27.0,54.0,39.0,41.0,22.0,23.0,34.0,26.0,39.0,15.0,64.0,25.0,35.0,19.0,26.0,3.0,29.0,44.0,27.0,17.0,37.0,19.0,44.0,22.0,22.0,21.0,31.0,17.0,30.0,15.0,42.0,55.0,28.0,33.0,19.0,24.0,4.0,2.0,30.0,31.0,17.0,40.0,33.0,46.0,30.0,17.0,19.0,22.0,20.0,36.0,0.0,17.0,null,15.0,20.0,19.0,24.0,43.0,26.0,42.0,21.0,50.0,25.0,64.0,50.0,24.0,27.0,42.0,30.0,20.0,31.0,26.0,39.0,null,32.0,25.0,6.0,3.0,11.0,52.0,14.0,68.0,18.0,55.0,22.0,34.0,17.0,38.0,13.0,19.0,30.0,27.0,17.0,45.0,28.0,23.0,24.0,23.0,29.0,46.0,17.0,20.0,24.0,40.0,null,38.0,65.0,19.0,54.0,38.0,40.0,21.0,22.0,33.0,18.0,43.0,13.0,26.0,22.0,21.0,25.0,29.0,49.0,29.0,45.0,45.0,30.0,29.0,26.0,16.0,20.0,33.0,18.0,24.0,29.0,40.0,27.0,35.0,31.0,26.0,49.0,23.0,23.0,14.0,21.0,18.0,null,19.0,22.0,17.0,13.0,26.0,null,16.0,20.0,20.0,23.0,61.0,27.0,3.0,4.0,13.0,19.0,18.0,66.0,39.0,21.0,7.0,56.0,15.0,null,13.0,18.0,38.0,45.0,21.0,19.0,49.0,21.0,18.0,43.0,27.0,0.0,27.0,21.0,20.0,35.0,20.0,24.0,41.0,23.0,27.0,58.0,53.0,30.0,24.0,31.0,46.0,20.0,20.0,30.0,24.0,34.0,20.0,48.0,25.0,43.0,27.0,47.0,26.0,37.0,42.0,61.0,29.0,32.0,51.0,43.0,25.0,31.0,13.0,20.0,29.0,16.0,15.0,50.0,41.0,43.0,32.0,36.0,18.0,47.0,29.0,null,14.0,25.0,63.0,22.0,32.0,31.0,24.0,39.0,20.0,20.0,19.0,20.0,31.0,17.0,24.0,27.0,28.0,41.0,25.0,26.0,27.0,22.0,62.0,58.0,37.0,54.0,26.0,44.0,34.0,47.0,27.0,22.0,46.0,29.0,43.0,42.0,39.0,30.0,43.0,19.0,26.0,46.0,3.0,21.0,1.0,22.0,27.0,28.0,36.0,19.0,18.0,47.0,18.0,6.0,20.0,18.0,37.0,22.0,37.0,6.0,36.0,46.0,75.0,37.0,22.0,33.0,35.0,19.0,34.0,23.0,37.0,24.0,54.0,52.0,60.0,1.0,null,22.0,27.0,48.0,47.0,25.0,49.0,33.0,67.0,5.0,60.0,56.0,59.0,44.0,33.0,28.0,29.0,13.0,34.0,45.0,39.0,18.0,57.0,null,25.0,22.0,32.0,29.0,21.0,16.0,45.0,44.0,27.0,26.0,46.0,24.0,15.0,53.0,28.0,11.0,7.0,0.0,15.0,31.0,9.0,44.0,35.0,30.0,13.0,45.0,4.0,21.0,20.0,24.0,3.0,29.0,28.0,44.0,50.0,35.0,19.0,22.0,30.0,36.0,20.0,22.0,22.0,32.0,35.0,41.0,57.0,3.0,11.0,4.0,17.0,30.0,11.0,23.0,58.0,22.0,24.0,20.0,37.0,49.0,46.0,30.0,36.0,21.0,25.0,42.0,13.0,25.0,29.0,17.0,36.0,44.0,18.0,22.0,22.0,43.0,29.0,24.0,18.0,42.0,43.0,32.0,15.0,22.0,20.0,34.0,70.0,18.0,26.0,17.0,13.0,19.0,32.0,33.0,21.0,23.0,24.0,17.0,34.0,31.0,43.0,43.0,33.0,28.0,27.0,7.0,16.0,42.0,27.0,19.0,42.0,13.0,16.0,21.0,28.0,69.0,15.0,48.0,42.0,42.0,23.0,26.0,45.0,30.0,36.0,null,35.0,21.0,50.0,52.0,21.0,41.0,35.0,26.0,17.0,69.0,27.0,25.0,27.0,25.0,36.0,14.0,27.0,22.0,24.0,null,4.0,19.0,19.0,38.0,39.0,23.0,57.0,18.0,43.0,28.0,33.0,37.0,28.0,28.0,18.0,29.0,29.0,28.0,24.0,59.0,43.0,20.0,23.0,27.0,38.0,38.0,48.0,25.0,25.0,24.0,69.0,20.0,18.0,28.0,23.0,24.0,44.0,29.0,6.0,42.0,78.0,36.0,37.0,41.0,18.0,62.0,0.0,55.0,16.0,32.0,19.0,7.0,4.0,30.0,24.0,34.0,30.0,3.0,32.0,55.0,0.0,51.0,0.0,21.0,2.0,19.0,24.0,20.0,42.0,17.0,32.0,28.0,21.0,56.0,28.0,42.0,18.0,24.0,20.0,22.0,22.0,21.0,28.0,26.0,50.0,26.0,30.0,29.0,8.0,45.0,35.0,18.0,23.0,29.0,18.0,28.0,34.0,0.0,4.0,28.0,8.0,20.0,20.0,25.0,31.0,37.0,21.0,24.0,34.0,0.0,25.0,43.0,null,45.0,63.0,17.0,35.0,12.0,null,17.0,32.0,23.0,17.0,34.0,15.0,14.0,22.0,19.0,40.0,25.0,51.0,22.0,50.0,26.0,39.0,18.0,22.0,26.0,19.0,16.0,24.0,34.0,55.0,42.0,14.0,28.0,26.0,33.0,24.0,23.0,16.0,36.0,44.0,22.0,30.0,20.0,21.0,14.0,27.0,19.0,21.0,null,13.0,71.0,28.0,18.0,23.0,34.0,20.0,17.0,21.0,33.0,34.0,51.0,21.0,null,31.0,36.0,39.0,26.0,51.0,24.0,27.0,31.0,24.0,57.0,36.0,55.0,null,18.0,27.0,50.0,24.0,20.0,24.0,18.0,44.0,27.0,58.0,29.0,23.0,3.0,0.0,33.0,12.0,44.0,20.0,59.0,18.0,72.0,23.0,11.0,1.0,25.0,25.0,24.0,54.0,17.0,48.0,40.0,2.0,32.0,15.0,52.0,16.0,16.0,16.0,6.0,10.0,27.0,45.0,26.0,29.0,38.0,19.0,43.0,15.0,31.0,52.0,49.0,29.0,18.0,41.0,9.0,null,58.0,39.0,13.0,36.0,23.0,24.0,33.0,18.0,2.0,0.0,36.0,15.0,31.0,42.0,27.0,36.0,0.0,3.0,22.0,56.0,23.0,25.0,29.0,17.0,13.0,35.0,53.0,24.0,38.0,21.0,29.0,46.0,58.0,53.0,21.0,27.0,31.0,23.0,41.0,29.0,54.0,43.0,36.0,48.0,34.0,42.0,17.0,22.0,37.0,38.0,21.0,23.0,27.0,23.0,19.0,28.0,33.0,24.0,0.0,41.0,19.0,44.0,43.0,14.0,18.0,25.0,0.0,4.0,24.0,38.0,44.0,57.0,3.0,5.0,3.0,18.0,8.0,21.0,35.0,47.0,28.0,49.0,23.0,19.0,34.0,40.0,26.0,23.0,22.0,51.0,44.0,50.0,28.0,13.0,21.0,20.0,14.0,38.0,29.0,36.0,16.0,40.0,null,18.0,17.0,32.0,27.0,34.0,53.0,36.0,41.0,51.0,61.0,59.0,17.0,27.0,57.0,39.0,55.0,42.0,36.0,42.0,32.0,6.0,15.0,28.0,37.0,44.0,71.0,44.0,36.0,18.0,3.0,12.0,0.0,29.0,9.0,27.0,24.0,38.0,28.0,26.0,16.0,24.0,33.0,24.0,29.0,25.0,0.0,13.0,7.0,32.0,34.0,49.0,43.0,0.0,6.0,23.0,43.0,23.0,43.0,41.0,54.0,51.0,44.0,48.0,45.0,20.0,33.0,21.0,68.0,23.0,16.0,35.0,22.0,51.0,2.0,29.0,0.0,39.0,55.0,22.0,20.0,25.0,18.0,28.0,26.0,28.0,54.0,56.0,25.0,26.0,14.0,21.0,43.0,37.0,null,38.0,14.0,20.0,33.0,33.0,13.0,37.0,15.0,33.0,24.0,49.0,24.0,24.0,26.0,40.0,31.0,47.0,19.0,38.0,33.0,45.0,1.0,32.0,70.0,19.0,55.0,48.0,66.0,13.0,40.0,35.0,32.0,51.0,37.0,31.0,37.0,38.0,19.0,33.0,19.0,31.0,43.0,22.0,24.0,21.0,14.0,30.0,22.0,11.0,4.0,0.0,30.0,21.0,40.0,57.0,35.0,32.0,32.0,30.0,69.0,21.0,17.0,16.0,25.0,25.0,52.0,13.0,37.0,13.0,45.0,55.0,22.0,39.0,35.0,19.0,7.0,19.0,21.0,37.0,35.0,22.0,62.0,41.0,16.0,26.0,36.0,null,22.0,40.0,50.0,57.0,15.0,23.0,60.0,73.0,35.0,28.0,27.0,14.0,26.0,22.0,22.0,71.0,25.0,27.0,1.0,52.0,0.0,30.0,52.0,12.0,22.0,24.0,22.0,15.0,21.0,56.0,50.0,20.0,32.0,28.0,74.0,25.0,31.0,6.0,17.0,12.0,47.0,46.0,31.0,36.0,15.0,38.0,48.0,21.0,4.0,31.0,31.0,62.0,29.0,30.0,26.0,43.0,32.0,24.0,49.0,21.0,18.0,18.0,14.0,21.0,25.0,56.0,0.0,55.0,14.0,13.0,43.0,39.0,null,24.0,26.0,22.0,26.0,19.0,38.0,38.0,77.0,28.0,22.0,20.0,18.0,10.0,34.0,43.0,31.0,40.0,25.0,68.0,20.0,27.0,1.0,60.0,28.0,11.0,0.0,9.0,38.0,18.0,40.0,21.0,24.0,26.0,47.0,46.0,55.0,50.0,10.0,17.0,20.0,37.0,24.0,43.0,0.0,24.0,22.0,14.0,3.0,22.0,23.0,56.0,36.0,58.0,1.0,39.0,33.0,19.0,null,33.0,17.0,28.0,21.0,45.0,62.0,43.0,27.0,1.0,31.0,18.0,21.0,7.0,22.0,26.0,30.0,17.0,null,10.0,25.0,21.0,53.0,21.0,28.0,20.0,54.0,9.0,20.0,19.0,32.0,22.0,35.0,26.0,51.0,8.0,40.0,2.0,19.0,32.0,16.0,64.0,35.0,33.0,9.0,21.0,28.0,28.0,31.0,32.0,43.0,60.0,43.0,43.0,19.0,21.0,38.0,17.0,29.0,2.0,22.0,18.0,16.0,52.0,52.0,14.0,25.0,34.0,20.0,28.0,null,20.0,44.0,64.0,27.0,24.0,38.0,47.0,8.0,1.0,0.0,20.0,41.0,35.0,31.0,14.0,25.0,26.0,26.0,30.0,49.0,19.0,15.0,27.0,39.0,32.0,11.0,44.0,36.0,56.0,42.0,40.0,53.0,31.0,14.0,31.0,42.0,32.0,34.0,55.0,42.0,40.0,48.0,37.0,17.0,60.0,19.0,30.0,32.0,28.0,26.0,24.0,47.0,32.0,73.0,17.0,47.0,null,13.0,22.0,61.0,19.0,45.0,18.0,32.0,52.0,25.0,9.0,18.0,26.0,20.0,6.0,5.0,40.0,20.0,18.0,42.0,14.0,33.0,23.0,35.0,53.0,56.0,35.0,18.0,25.0,20.0,44.0,26.0,23.0,39.0,25.0,42.0,20.0,4.0,64.0,0.0,19.0,6.0,23.0,22.0,18.0,21.0,37.0,24.0,38.0,11.0,6.0,49.0,55.0,15.0,19.0,16.0,48.0,25.0,23.0,27.0,39.0,28.0,72.0,47.0,65.0,40.0,18.0,27.0,21.0,37.0,31.0,33.0,53.0,27.0,74.0,null,23.0,74.0,23.0,26.0,0.0,0.0,24.0,28.0,17.0,26.0,39.0,17.0,15.0,37.0,38.0,33.0,16.0,41.0,7.0,20.0,44.0,42.0,29.0,22.0,21.0,21.0,21.0,13.0,16.0,36.0,36.0,26.0,28.0,14.0,29.0,19.0,51.0,64.0,41.0,null,16.0,20.0,31.0,38.0,59.0,18.0,33.0,33.0,49.0,4.0,0.0,0.0,24.0,52.0,50.0,31.0,25.0,62.0,49.0,24.0,33.0,20.0,46.0,26.0,52.0,28.0,39.0,29.0,19.0,15.0,33.0,47.0,34.0,26.0,15.0,null,27.0,38.0,21.0,1.0,38.0,0.0,32.0,27.0,48.0,22.0,28.0,19.0,37.0,46.0,26.0,16.0,0.0,0.0,26.0,13.0,23.0,70.0,21.0,40.0,18.0,23.0,15.0,28.0,45.0,18.0,23.0,36.0,25.0,28.0,29.0,31.0,14.0,31.0,39.0,17.0,56.0,36.0,21.0,48.0,53.0,5.0,21.0,50.0,18.0,28.0,28.0,18.0,37.0,19.0,27.0,37.0,43.0,17.0,21.0,55.0,14.0,24.0,26.0,19.0,20.0,14.0,19.0,15.0,25.0,24.0,22.0,26.0,23.0,20.0,53.0,55.0,22.0,35.0,40.0,22.0,22.0,21.0,64.0,40.0,8.0,25.0,19.0,24.0,11.0,31.0,46.0,31.0,17.0,16.0,57.0,28.0,27.0,28.0,26.0,17.0,36.0,24.0,18.0,20.0,10.0,null,23.0,36.0,27.0,54.0,38.0,29.0,37.0,36.0,18.0,28.0,61.0,19.0,29.0,37.0,29.0,38.0,41.0,23.0,48.0,0.0,46.0,36.0,42.0,null,16.0,43.0,40.0,22.0,39.0,37.0,28.0,29.0,14.0,15.0,17.0,4.0,24.0,null,22.0,38.0,30.0,29.0,26.0,41.0,50.0,34.0,24.0,24.0,45.0,35.0,23.0,23.0,21.0,19.0,24.0,2.0,0.0,20.0,35.0,34.0,26.0,26.0,32.0,25.0,30.0,57.0,23.0,32.0,27.0,20.0,21.0,19.0,16.0,18.0,18.0,22.0,null,35.0,8.0,5.0,40.0,31.0,9.0,56.0,39.0,18.0,45.0,33.0,2.0,1.0,2.0,16.0,18.0,28.0,45.0,24.0,35.0,16.0,40.0,5.0,29.0,31.0,27.0,34.0,15.0,43.0,30.0,61.0,48.0,17.0,19.0,29.0,2.0,24.0,19.0,34.0,19.0,39.0,26.0,53.0,18.0,null,45.0,32.0,18.0,48.0,24.0,52.0,55.0,43.0,24.0,8.0,18.0,38.0,18.0,23.0,26.0,21.0,45.0,24.0,44.0,20.0,47.0,16.0,28.0,8.0,20.0,22.0,42.0,23.0,30.0,18.0,35.0,42.0,46.0,29.0,35.0,48.0,24.0,38.0,51.0,77.0,22.0,38.0,42.0,55.0,7.0,null,25.0,15.0,13.0,23.0,null,33.0,26.0,67.0,27.0,33.0,18.0,36.0,18.0,51.0,54.0,33.0,18.0,57.0,23.0,24.0,20.0,32.0,21.0,null,41.0,27.0,49.0,18.0,34.0,73.0,40.0,63.0,21.0,21.0,23.0,31.0,41.0,15.0,36.0,24.0,27.0,24.0,19.0,25.0,39.0,15.0,31.0,25.0,57.0,null,18.0,33.0,23.0,34.0,38.0,21.0,31.0,13.0,54.0,13.0,18.0,null,43.0,56.0,63.0,9.0,9.0,0.0,16.0,42.0,9.0,22.0,47.0,30.0,29.0,null,22.0,19.0,31.0,17.0,38.0,13.0,36.0,0.0,21.0,18.0,36.0,27.0,5.0,18.0,25.0,14.0,23.0,2.0,1.0,7.0,6.0,56.0,4.0,65.0,36.0,25.0,41.0,20.0,18.0,15.0,23.0,29.0,33.0,14.0,55.0,30.0,21.0,26.0,33.0,18.0,9.0,0.0,19.0,18.0,38.0,42.0,28.0,37.0,29.0,42.0,18.0,34.0,34.0,18.0,24.0,24.0,56.0,2.0,12.0,37.0,60.0,55.0,20.0,28.0,28.0,37.0,18.0,14.0,29.0,51.0,45.0,45.0,41.0,21.0,28.0,0.0,46.0,41.0,13.0,55.0,20.0,21.0,49.0,27.0,0.0,22.0,17.0,23.0,44.0,29.0,19.0,3.0,29.0,19.0,22.0,33.0,null,50.0,54.0,43.0,17.0,26.0,44.0,51.0,29.0,4.0,40.0,27.0,8.0,3.0,11.0,24.0,25.0,28.0,25.0,27.0,25.0,0.0,58.0,3.0,4.0,2.0,34.0,5.0,3.0,46.0,22.0,8.0,17.0,4.0,12.0,40.0,16.0,41.0,8.0,14.0,2.0,59.0,45.0,52.0,33.0,51.0,38.0,14.0,42.0,28.0,34.0,21.0,30.0,null,26.0,23.0,20.0,59.0,37.0,32.0,37.0,27.0,42.0,29.0,2.0,10.0,0.0,21.0,8.0,null,27.0,13.0,49.0,38.0,21.0,22.0,14.0,24.0,24.0,34.0,1.0,null,26.0,null,32.0,2.0,10.0,49.0,14.0,29.0,25.0,36.0,22.0,21.0,36.0,54.0,30.0,0.0,1.0,42.0,47.0,25.0,18.0,22.0,27.0,24.0,null,22.0,60.0,38.0,23.0,21.0,55.0,20.0,50.0,22.0,21.0,26.0,36.0,46.0,26.0,24.0,14.0,46.0,15.0,30.0,null,38.0,48.0,31.0,41.0,43.0,23.0,48.0,47.0,19.0,25.0,28.0,16.0,45.0,31.0,19.0,21.0,null,22.0,23.0,54.0,0.0,4.0,23.0,19.0,34.0,18.0,40.0,58.0,39.0,23.0,11.0,43.0,29.0,36.0,13.0,54.0,45.0,33.0,46.0,15.0,35.0,23.0,15.0,27.0,15.0,27.0,16.0,37.0,45.0,58.0,null,38.0,28.0,47.0,41.0,28.0,23.0,24.0,58.0,36.0,24.0,56.0,15.0,19.0,27.0,47.0,37.0,39.0,20.0,20.0,38.0,46.0,13.0,24.0,32.0,null,44.0,19.0,30.0,23.0,4.0,0.0,17.0,44.0,31.0,41.0,33.0,43.0,43.0,36.0,19.0,24.0,17.0,23.0,17.0,18.0,34.0,13.0,66.0,27.0,19.0,55.0,40.0,23.0,7.0,12.0,37.0,22.0,25.0,46.0,37.0,50.0,28.0,26.0,28.0,23.0,23.0,34.0,65.0,20.0,29.0,30.0,3.0,40.0,32.0,31.0,13.0,29.0,28.0,19.0,24.0,22.0,13.0,21.0,24.0,47.0,27.0,18.0,36.0,68.0,31.0,28.0,36.0,17.0,13.0,30.0,58.0,43.0,20.0,29.0,15.0,30.0,33.0,25.0,62.0,41.0,27.0,18.0,27.0,19.0,37.0,24.0,29.0,44.0,19.0,39.0,63.0,39.0,41.0,27.0,56.0,22.0,26.0,24.0,18.0,13.0,32.0,30.0,25.0,55.0,19.0,24.0,32.0,24.0,32.0,36.0,28.0,52.0,29.0,23.0,32.0,35.0,41.0,16.0,33.0,6.0,15.0,38.0,56.0,4.0,21.0,22.0,37.0,6.0,22.0,26.0,22.0,20.0,null,24.0,25.0,48.0,24.0,3.0,24.0,25.0,1.0,20.0,22.0,28.0,17.0,28.0,47.0,34.0,29.0,14.0,36.0,40.0,49.0,51.0,41.0,44.0,47.0,22.0,13.0,18.0,28.0,22.0,50.0,47.0,55.0,21.0,39.0,21.0,37.0,31.0,23.0,28.0,23.0,20.0,28.0,40.0,54.0,18.0,27.0,43.0,25.0,13.0,15.0,37.0,32.0,19.0,21.0,27.0,39.0,22.0,25.0,34.0,54.0,42.0,36.0,43.0,23.0,57.0,54.0,51.0,32.0,33.0,8.0,44.0,27.0,48.0,13.0,5.0,18.0,23.0,23.0,35.0,25.0,32.0,0.0,5.0,16.0,18.0,29.0,55.0,41.0,38.0,27.0,55.0,75.0,50.0,23.0,37.0,33.0,45.0,47.0,13.0,29.0,19.0,30.0,39.0,31.0,29.0,16.0,18.0,38.0,50.0,21.0,22.0,20.0,36.0,23.0,31.0,39.0,50.0,40.0,28.0,38.0,37.0,59.0,41.0,33.0,54.0,40.0,43.0,26.0,65.0,22.0,28.0,35.0,30.0,28.0,23.0,24.0,16.0,18.0,20.0,29.0,29.0,21.0,2.0,43.0,28.0,31.0,23.0,26.0,43.0,28.0,24.0,27.0,13.0,27.0,2.0,24.0,2.0,50.0,27.0,26.0,31.0,28.0,4.0,9.0,0.0,35.0,3.0,25.0,63.0,34.0,35.0,26.0,39.0,34.0,36.0,46.0,26.0,28.0,20.0,35.0,11.0,14.0,4.0,11.0,31.0,15.0,39.0,7.0,24.0,22.0,26.0,53.0,40.0,19.0,54.0,21.0,25.0,48.0,41.0,13.0,57.0,25.0,48.0,34.0,16.0,0.0,15.0,37.0,37.0,49.0,18.0,25.0,null,43.0,20.0,54.0,30.0,37.0,30.0,20.0,20.0,24.0,44.0,0.0,15.0,19.0,20.0,20.0,34.0,17.0,20.0,42.0,28.0,43.0,55.0,21.0,17.0,54.0,25.0,null,45.0,31.0,19.0,30.0,24.0,null,42.0,29.0,37.0,64.0,24.0,23.0,22.0,23.0,21.0,37.0,17.0,35.0,33.0,37.0,32.0,31.0,null,34.0,9.0,25.0,29.0,1.0,30.0,64.0,31.0,27.0,null,25.0,28.0,32.0,36.0,26.0,36.0,37.0,45.0,22.0,24.0,23.0,31.0,37.0,28.0,23.0,14.0,40.0,42.0,53.0,46.0,28.0,25.0,34.0,58.0,31.0,24.0,52.0,25.0,17.0,27.0,29.0,45.0,28.0,25.0,57.0,68.0,26.0,52.0,36.0,41.0,14.0,16.0,24.0,62.0,26.0,45.0,41.0,36.0,13.0,48.0,null,22.0,39.0,45.0,42.0,33.0,27.0,47.0,20.0,32.0,54.0,23.0,9.0,17.0,26.0,38.0,24.0,30.0,2.0,4.0,9.0,30.0,5.0,2.0,32.0,53.0,46.0,2.0,1.0,11.0,3.0,33.0,3.0,38.0,21.0,41.0,64.0,27.0,41.0,19.0,42.0,30.0,38.0,63.0,17.0,2.0,19.0,37.0,50.0,38.0,28.0,35.0,27.0,15.0,29.0,65.0,27.0,0.0,21.0,19.0,39.0,60.0,30.0,30.0,40.0,26.0,38.0,22.0,null,65.0,61.0,20.0,24.0,16.0,35.0,21.0,23.0,17.0,24.0,27.0,26.0,26.0,20.0,28.0,37.0,23.0,49.0,50.0,4.0,32.0,44.0,20.0,30.0,29.0,22.0,35.0,0.0,6.0,38.0,34.0,34.0,null,53.0,28.0,31.0,56.0,36.0,30.0,32.0,44.0,54.0,24.0,44.0,25.0,35.0,29.0,22.0,22.0,22.0,18.0,22.0,52.0,0.0,1.0,34.0,6.0,22.0,31.0,31.0,20.0,25.0,23.0,53.0,32.0,27.0,48.0,37.0,21.0,29.0,46.0,19.0,22.0,54.0,43.0,18.0,36.0,20.0,63.0,50.0,13.0,43.0,16.0,31.0,0.0,10.0,10.0,55.0,18.0,7.0,1.0,44.0,27.0,20.0,49.0,22.0,21.0,26.0,65.0,20.0,0.0,16.0,22.0,0.0,21.0,30.0,14.0,45.0,22.0,21.0,37.0,29.0,29.0,21.0,52.0,36.0,59.0,21.0,25.0,23.0,36.0,38.0,0.0,19.0,30.0,23.0,55.0,44.0,30.0,39.0,19.0,24.0,37.0,24.0,17.0,17.0,14.0,13.0,35.0,32.0,18.0,21.0,25.0,36.0,20.0,22.0,27.0,null,38.0,23.0,21.0,18.0,20.0,28.0,57.0,10.0,23.0,22.0,24.0,52.0,31.0,15.0,40.0,18.0,28.0,40.0,32.0,35.0,52.0,34.0,46.0,23.0,44.0,59.0,42.0,18.0,29.0,15.0,19.0,49.0,19.0,36.0,59.0,24.0,4.0,20.0,24.0,31.0,23.0,3.0,22.0,20.0,0.0,13.0,47.0,51.0,22.0,3.0,4.0,16.0,24.0,1.0,31.0,34.0,20.0,19.0,19.0,35.0,3.0,36.0,20.0,null,58.0,56.0,27.0,25.0,39.0,43.0,42.0,24.0,19.0,32.0,32.0,61.0,64.0,21.0,26.0,35.0,43.0,3.0,56.0,45.0,25.0,12.0,2.0,46.0,32.0,20.0,24.0,28.0,12.0,11.0,16.0,29.0,24.0,22.0,21.0,38.0,35.0,79.0,22.0,42.0,34.0,52.0,43.0,30.0,35.0,18.0,27.0,46.0,15.0,44.0,20.0,35.0,19.0,47.0,26.0,24.0,23.0,26.0,5.0,35.0,18.0,32.0,13.0,15.0,18.0,41.0,36.0,33.0,41.0,47.0,32.0,36.0,13.0,34.0,24.0,16.0,12.0,24.0,35.0,26.0,39.0,18.0,23.0,29.0,38.0,31.0,49.0,17.0,23.0,15.0,11.0,30.0,42.0,21.0,41.0,14.0,27.0,29.0,25.0,54.0,46.0,18.0,22.0,29.0,26.0,36.0,19.0,56.0,20.0,10.0,14.0,27.0,35.0,13.0,21.0,22.0,29.0,32.0,20.0,44.0,22.0,39.0,19.0,0.0,0.0,12.0,7.0,32.0,11.0,18.0,49.0,61.0,7.0,25.0,51.0,56.0,31.0,16.0,29.0,17.0,47.0,25.0,28.0,32.0,56.0,25.0,13.0,41.0,28.0,25.0,11.0,20.0,24.0,41.0,29.0,59.0,31.0,16.0,65.0,21.0,27.0,37.0,42.0,36.0,24.0,null,19.0,26.0,19.0,26.0,35.0,24.0,9.0,40.0,23.0,4.0,20.0,21.0,4.0,19.0,18.0,26.0,13.0,16.0,14.0,40.0,34.0,21.0,29.0,40.0,16.0,37.0,41.0,16.0,39.0,30.0,40.0,63.0,32.0,47.0,23.0,23.0,19.0,44.0,29.0,21.0,23.0,26.0,47.0,20.0,48.0,4.0,25.0,0.0,29.0,21.0,20.0,34.0,9.0,12.0,13.0,27.0,34.0,18.0,16.0,43.0,0.0,20.0,45.0,35.0,21.0,14.0,46.0,22.0,2.0,3.0,28.0,60.0,48.0,18.0,31.0,26.0,41.0,26.0,29.0,24.0,25.0,0.0,30.0,18.0,32.0,28.0,21.0,25.0,47.0,null,8.0,24.0,30.0,24.0,13.0,16.0,23.0,16.0,29.0,46.0,13.0,22.0,29.0,46.0,24.0,33.0,38.0,57.0,null,38.0,28.0,25.0,22.0,33.0,35.0,24.0,31.0,16.0,28.0,8.0,20.0,26.0,43.0,70.0,17.0,14.0,21.0,37.0,15.0,20.0,36.0,14.0,21.0,28.0,20.0,26.0,25.0,29.0,39.0,18.0,37.0,28.0,18.0,30.0,35.0,26.0,0.0,42.0,36.0,31.0,27.0,25.0,32.0,14.0,16.0,51.0,21.0,31.0,9.0,7.0,3.0,2.0,7.0,18.0,33.0,23.0,13.0,32.0,27.0,23.0,25.0,18.0,23.0,31.0,32.0,22.0,38.0,21.0,28.0,38.0,20.0,23.0,48.0,15.0,30.0,40.0,36.0,20.0,17.0,38.0,38.0,14.0,null,21.0,18.0,26.0,35.0,46.0,13.0,39.0,49.0,28.0,27.0,21.0,29.0,27.0,38.0,18.0,35.0,37.0,60.0,31.0,4.0,34.0,46.0,18.0,38.0,29.0,13.0,26.0,30.0,42.0,36.0,23.0,34.0,26.0,31.0,48.0,10.0,27.0,32.0,24.0,20.0,48.0,35.0,14.0,28.0,null,42.0,8.0,30.0,44.0,40.0,38.0,22.0,32.0,16.0,33.0,38.0,23.0,16.0,16.0,11.0,22.0,43.0,20.0,22.0,0.0,30.0,18.0,0.0,41.0,39.0,37.0,26.0,49.0,28.0,13.0,64.0,24.0,18.0,18.0,25.0,19.0,33.0,null,50.0,30.0,44.0,52.0,7.0,30.0,27.0,24.0,13.0,61.0,32.0,17.0,36.0,16.0,21.0,24.0,28.0,null,13.0,39.0,24.0,38.0,20.0,21.0,27.0,49.0,6.0,41.0,33.0,6.0,35.0,46.0,31.0,32.0,31.0,20.0,57.0,37.0,21.0,43.0,49.0,17.0,29.0,36.0,37.0,17.0,45.0,20.0,24.0,28.0,15.0,53.0,51.0,14.0,1.0,26.0,20.0,23.0,22.0,22.0,13.0,28.0,40.0,21.0,35.0,22.0,37.0,21.0,50.0,27.0,20.0,15.0,25.0,31.0,null,18.0,2.0,27.0,0.0,22.0,null,56.0,28.0,42.0,20.0,27.0,29.0,36.0,23.0,64.0,19.0,1.0,49.0,0.0,18.0,39.0,37.0,44.0,43.0,33.0,20.0,0.0,4.0,20.0,50.0,47.0,17.0,26.0,21.0,20.0,26.0,null,34.0,11.0,0.0,28.0,33.0,22.0,28.0,11.0,60.0,43.0,27.0,37.0,23.0,57.0,29.0,28.0,42.0,43.0,26.0,72.0,49.0,29.0,18.0,26.0,19.0,18.0,14.0,44.0,34.0,18.0,36.0,27.0,35.0,52.0,22.0,34.0,37.0,22.0,26.0,14.0,53.0,17.0,30.0,65.0,19.0,36.0,3.0,6.0,4.0,21.0,8.0,35.0,18.0,34.0,45.0,31.0,14.0,23.0,61.0,54.0,28.0,46.0,32.0,49.0,20.0,25.0,19.0,28.0,68.0,16.0,19.0,49.0,15.0,26.0,22.0,23.0,31.0,27.0,28.0,20.0,43.0,22.0,27.0,35.0,37.0,24.0,18.0,15.0,28.0,24.0,39.0,35.0,52.0,48.0,27.0,50.0,24.0,26.0,24.0,15.0,42.0,51.0,43.0,31.0,14.0,31.0,33.0,21.0,13.0,29.0,22.0,22.0,18.0,35.0,20.0,18.0,66.0,33.0,48.0,38.0,62.0,19.0,44.0,25.0,15.0,20.0,34.0,23.0,45.0,39.0,33.0,14.0,26.0,47.0,null,28.0,22.0,17.0,16.0,9.0,15.0,33.0,61.0,19.0,61.0,42.0,4.0,12.0,0.0,19.0,null,29.0,59.0,20.0,70.0,3.0,37.0,58.0,44.0,24.0,20.0,24.0,27.0,28.0,24.0,29.0,25.0,20.0,34.0,28.0,null,23.0,39.0,35.0,18.0,20.0,42.0,32.0,50.0,23.0,19.0,29.0,35.0,18.0,24.0,23.0,51.0,42.0,19.0,23.0,19.0,22.0,25.0,31.0,23.0,22.0,55.0,40.0,24.0,25.0,42.0,33.0,54.0,22.0,22.0,19.0,47.0,23.0,61.0,21.0,46.0,36.0,15.0,33.0,35.0,21.0,21.0,43.0,34.0,47.0,27.0,46.0,46.0,40.0,59.0,45.0,19.0,32.0,39.0,40.0,44.0,26.0,22.0,2.0,18.0,53.0,22.0,46.0,28.0,31.0,36.0,46.0,0.0,3.0,12.0,2.0,41.0,11.0,41.0,17.0,21.0,21.0,27.0,54.0,15.0,39.0,31.0,28.0,21.0,29.0,45.0,44.0,12.0,18.0,20.0,43.0,46.0,53.0,21.0,23.0,9.0,19.0,52.0,31.0,62.0,27.0,23.0,28.0,27.0,58.0,24.0,27.0,33.0,28.0,39.0,27.0,36.0,64.0,41.0,null,27.0,null,22.0,23.0,40.0,2.0,0.0,27.0,0.0,17.0,45.0,62.0,14.0,24.0,51.0,49.0,52.0,35.0,22.0,17.0,47.0,25.0,11.0,17.0,41.0,55.0,29.0,19.0,23.0,32.0,27.0,25.0,24.0,30.0,50.0,51.0,27.0,35.0,48.0,27.0,19.0,18.0,25.0,41.0,62.0,30.0,6.0,15.0,34.0,34.0,23.0,51.0,63.0,42.0,19.0,5.0,2.0,15.0,36.0,32.0,19.0,26.0,33.0,38.0,22.0,32.0,30.0,51.0,29.0,16.0,32.0,24.0,23.0,46.0,49.0,17.0,35.0,43.0,20.0,24.0,28.0,19.0,39.0,34.0,29.0,14.0,null,30.0,null,32.0,7.0,34.0,47.0,19.0,52.0,19.0,18.0,32.0,21.0,22.0,13.0,25.0,33.0,27.0,21.0,17.0,15.0,58.0,29.0,34.0,28.0,29.0,25.0,23.0,22.0,38.0,38.0,0.0,null,0.0,37.0,2.0,40.0,47.0,34.0,43.0,21.0,43.0,33.0,28.0,57.0,null,46.0,19.0,27.0,2.0,0.0,25.0,47.0,38.0,24.0,24.0,25.0,29.0,44.0,20.0,23.0,26.0,20.0,27.0,23.0,33.0,30.0,32.0,19.0,41.0,50.0,36.0,21.0,45.0,26.0,44.0,24.0,15.0,58.0,13.0,19.0,25.0,24.0,20.0,34.0,13.0,null,39.0,0.0,10.0,9.0,34.0,11.0,0.0,24.0,16.0,42.0,41.0,36.0,27.0,32.0,11.0,26.0,28.0,25.0,5.0,null,13.0,30.0,15.0,0.0,49.0,52.0,15.0,40.0,0.0,32.0,15.0,26.0,31.0,8.0,18.0,3.0,44.0,15.0,27.0,22.0,2.0,32.0,16.0,34.0,32.0,28.0,27.0,35.0,25.0,24.0,61.0,28.0,29.0,41.0,20.0,18.0,28.0,18.0,33.0,35.0,68.0,19.0,33.0,55.0,15.0,23.0,23.0,15.0,49.0,33.0,26.0,26.0,18.0,17.0,39.0,8.0,46.0,32.0,19.0,36.0,28.0,39.0,16.0,7.0,1.0,30.0,44.0,28.0,29.0,41.0,13.0,18.0,27.0,26.0,24.0,26.0,27.0,58.0,54.0,18.0,13.0,13.0,28.0,57.0,32.0,32.0,21.0,34.0,33.0,36.0,50.0,28.0,56.0,42.0,39.0,13.0,28.0,55.0,36.0,null,37.0,50.0,27.0,23.0,16.0,33.0,46.0,26.0,24.0,26.0,2.0,33.0,32.0,3.0,2.0,6.0,null,0.0,4.0,58.0,22.0,51.0,37.0,17.0,21.0,null,null,31.0,43.0,null,15.0,18.0,33.0,31.0,41.0,22.0,40.0,49.0,14.0,22.0,22.0,25.0,42.0,16.0,12.0,18.0,33.0,14.0,36.0,23.0,24.0,4.0,null,18.0,21.0,27.0,34.0,28.0,35.0,16.0,36.0,30.0,4.0,19.0,3.0,51.0,null,45.0,18.0,23.0,15.0,34.0,47.0,27.0,26.0,25.0,34.0,27.0,39.0,31.0,4.0,19.0,59.0,19.0,25.0,28.0,37.0,43.0,18.0,36.0,14.0,42.0,29.0,23.0,16.0,8.0,20.0,50.0,38.0,39.0,33.0,30.0,40.0,22.0,52.0,26.0,19.0,33.0,33.0,20.0,28.0,10.0,23.0,28.0,23.0,54.0,57.0,24.0,37.0,59.0,53.0,22.0,18.0,17.0,25.0,18.0,20.0,24.0,33.0,34.0,24.0,37.0,23.0,32.0,13.0,23.0,23.0,27.0,47.0,38.0,28.0,21.0,null,64.0,43.0,21.0,36.0,22.0,24.0,21.0,57.0,46.0,42.0,16.0,40.0,3.0,8.0,3.0,35.0,12.0,null,47.0,19.0,46.0,28.0,5.0,7.0,3.0,1.0,7.0,60.0,34.0,28.0,64.0,13.0,15.0,65.0,53.0,58.0,19.0,null,16.0,48.0,33.0,31.0,44.0,40.0,34.0,21.0,20.0,9.0,33.0,2.0,53.0,0.0,38.0,21.0,31.0,7.0,12.0,0.0,17.0,55.0,2.0,32.0,16.0,0.0,29.0,25.0,39.0,42.0,0.0,14.0,29.0,54.0,35.0,null,18.0,14.0,53.0,48.0,21.0,44.0,25.0,0.0,27.0,40.0,44.0,36.0,3.0,9.0,1.0,17.0,47.0,null,33.0,16.0,30.0,18.0,26.0,19.0,28.0,35.0,40.0,26.0,45.0,18.0,54.0,13.0,26.0,16.0,37.0,17.0,16.0,18.0,21.0,24.0,22.0,41.0,15.0,36.0,23.0,31.0,19.0,23.0,47.0,40.0,34.0,2.0,8.0,0.0,18.0,11.0,18.0,19.0,2.0,25.0,0.0,27.0,34.0,19.0,22.0,22.0,52.0,30.0,65.0,31.0,51.0,21.0,27.0,31.0,28.0,29.0,23.0,11.0,23.0,34.0,20.0,20.0,16.0,18.0,20.0,20.0,27.0,55.0,53.0,37.0,55.0,24.0,24.0,49.0,17.0,39.0,5.0,10.0,1.0,16.0,51.0,5.0,19.0,0.0,20.0,0.0,1.0,38.0,40.0,18.0,36.0,23.0,42.0,37.0,24.0,12.0,2.0,28.0,44.0,26.0,36.0,28.0,14.0,14.0,28.0,27.0,21.0,24.0,18.0,24.0,8.0,36.0,32.0,19.0,12.0,21.0,13.0,20.0,35.0,23.0,17.0,29.0,27.0,22.0,26.0,1.0,7.0,78.0,24.0,26.0,50.0,16.0,57.0,29.0,27.0,42.0,28.0,18.0,38.0,32.0,21.0,6.0,27.0,32.0,23.0,29.0,22.0,31.0,0.0,2.0,null,28.0,20.0,28.0,42.0,32.0,19.0,20.0,20.0,21.0,32.0,16.0,21.0,12.0,21.0,31.0,18.0,35.0,44.0,13.0,21.0,37.0,null,34.0,21.0,38.0,31.0,61.0,20.0,39.0,29.0,68.0,38.0,31.0,41.0,29.0,25.0,27.0,21.0,30.0,40.0,59.0,35.0,41.0,36.0,58.0,27.0,24.0,50.0,22.0,26.0,16.0,56.0,25.0,13.0,53.0,21.0,18.0,38.0,20.0,24.0,56.0,47.0,21.0,null,26.0,34.0,35.0,35.0,49.0,24.0,62.0,25.0,42.0,25.0,21.0,17.0,41.0,50.0,20.0,15.0,29.0,20.0,35.0,22.0,43.0,54.0,15.0,38.0,44.0,34.0,15.0,24.0,29.0,19.0,27.0,26.0,46.0,64.0,17.0,45.0,27.0,29.0,18.0,26.0,39.0,59.0,20.0,17.0,47.0,29.0,16.0,48.0,39.0,28.0,12.0,24.0,30.0,34.0,37.0,47.0,0.0,23.0,0.0,20.0,35.0,18.0,17.0,18.0,53.0,35.0,48.0,68.0,27.0,28.0,37.0,35.0,31.0,14.0,1.0,4.0,30.0,11.0,45.0,29.0,32.0,15.0,25.0,25.0,60.0,24.0,35.0,36.0,22.0,32.0,57.0,30.0,46.0,28.0,26.0,55.0,66.0,20.0,31.0,13.0,50.0,21.0,25.0,46.0,0.0,2.0,36.0,19.0,35.0,41.0,22.0,25.0,24.0,37.0,5.0,null,41.0,44.0,23.0,28.0,27.0,40.0,27.0,17.0,32.0,29.0,29.0,41.0,48.0,27.0,14.0,32.0,47.0,14.0,37.0,33.0,33.0,44.0,37.0,18.0,33.0,21.0,38.0,16.0,58.0,41.0,28.0,28.0,31.0,27.0,7.0,25.0,34.0,21.0,29.0,23.0,31.0,50.0,25.0,25.0,23.0,46.0,0.0,53.0,25.0,30.0,18.0,20.0,54.0,20.0,32.0,31.0,55.0,16.0,0.0,3.0,33.0,45.0,6.0,33.0,14.0,24.0,47.0,37.0,14.0,44.0,11.0,15.0,39.0,15.0,60.0,49.0,23.0,9.0,0.0,17.0,42.0,16.0,0.0,26.0,56.0,26.0,41.0,27.0,31.0,40.0,40.0,15.0,50.0,42.0,50.0,39.0,27.0,20.0,30.0,16.0,36.0,68.0,22.0,36.0,3.0,28.0,32.0,10.0,0.0,9.0,37.0,31.0,31.0,43.0,15.0,58.0,30.0,24.0,49.0,73.0,14.0,50.0,12.0,2.0,49.0,32.0,null,33.0,23.0,23.0,43.0,36.0,26.0,29.0,21.0,30.0,23.0,13.0,22.0,25.0,52.0,22.0,31.0,23.0,35.0,26.0,14.0,39.0,8.0,29.0,15.0,48.0,9.0,25.0,13.0,25.0,27.0,32.0,20.0,40.0,18.0,21.0,38.0,62.0,23.0,48.0,27.0,32.0,53.0,26.0,46.0,32.0,40.0,27.0,28.0,29.0,37.0,0.0,12.0,25.0,null,3.0,9.0,27.0,59.0,24.0,16.0,16.0,46.0,25.0,39.0,15.0,16.0,35.0,43.0,7.0,29.0,60.0,49.0,50.0,40.0,49.0,18.0,29.0,56.0,29.0,29.0,22.0,24.0,23.0,28.0,19.0,32.0,37.0,26.0,43.0,25.0,11.0,4.0,32.0,15.0,17.0,37.0,20.0,47.0,16.0,8.0,22.0,39.0,57.0,29.0,null,70.0,13.0,49.0,25.0,19.0,15.0,37.0,null,28.0,22.0,26.0,25.0,19.0,20.0,35.0,37.0,37.0,13.0,20.0,65.0,29.0,0.0,4.0,19.0,17.0,28.0,28.0,21.0,45.0,21.0,20.0,38.0,24.0,22.0,44.0,41.0,21.0,26.0,54.0,19.0,32.0,null,26.0,28.0,21.0,38.0,43.0,12.0,25.0,27.0,22.0,20.0,24.0,34.0,42.0,24.0,28.0,29.0,31.0,29.0,14.0,16.0,16.0,27.0,null,23.0,16.0,30.0,24.0,36.0,25.0,29.0,21.0,26.0,30.0,31.0,20.0,null,33.0,35.0,46.0,63.0,37.0,23.0,5.0,16.0,20.0,49.0,3.0,41.0,null,14.0,26.0,51.0,36.0,16.0,18.0,48.0,24.0,19.0,21.0,24.0,21.0,13.0,39.0,27.0,23.0,43.0,19.0,30.0,52.0,35.0,16.0,21.0,45.0,22.0,null,0.0,63.0,56.0,40.0,1.0,24.0,36.0,13.0,13.0,37.0,44.0,32.0,57.0,26.0,62.0,2.0,1.0,24.0,1.0,63.0,20.0,15.0,32.0,24.0,32.0,36.0,13.0,29.0,27.0,30.0,27.0,14.0,32.0,33.0,35.0,21.0,57.0,42.0,20.0,18.0,49.0,23.0,24.0,24.0,23.0,24.0,26.0,28.0,17.0,20.0,22.0,23.0,22.0,29.0,null,31.0,37.0,44.0,34.0,23.0,18.0,18.0,23.0,18.0,22.0,10.0,null,31.0,48.0,51.0,25.0,32.0,8.0,49.0,28.0,3.0,null,31.0,11.0,27.0,33.0,32.0,20.0,33.0,65.0,18.0,19.0,33.0,null,31.0,37.0,19.0,18.0,47.0,26.0,25.0,38.0,53.0,38.0,28.0,46.0,18.0,14.0,32.0,44.0,28.0,2.0,28.0,27.0,29.0,14.0,14.0,17.0,35.0,36.0,51.0,54.0,37.0,37.0,24.0,null,38.0,28.0,0.0,16.0,25.0,22.0,24.0,37.0,21.0,53.0,0.0,2.0,64.0,24.0,40.0,32.0,54.0,30.0,37.0,20.0,22.0,57.0,34.0,51.0,47.0,22.0,36.0,16.0,60.0,39.0,18.0,30.0,45.0,30.0,21.0,0.0,51.0,22.0,26.0,10.0,21.0,14.0,null,43.0,22.0,22.0,23.0,25.0,35.0,30.0,37.0,21.0,36.0,13.0,22.0,36.0,17.0,38.0,34.0,20.0,17.0,36.0,52.0,32.0,35.0,null,36.0,36.0,21.0,33.0,40.0,24.0,35.0,29.0,33.0,51.0,10.0,41.0,26.0,39.0,14.0,28.0,18.0,41.0,33.0,26.0,31.0,63.0,30.0,27.0,47.0,37.0,14.0,27.0,61.0,39.0,22.0,30.0,26.0,25.0,42.0,33.0,60.0,16.0,50.0,22.0,15.0,27.0,58.0,48.0,36.0,60.0,46.0,58.0,40.0,3.0,23.0,21.0,29.0,23.0,41.0,20.0,24.0,21.0,55.0,21.0,42.0,40.0,30.0,26.0,43.0,20.0,19.0,40.0,17.0,62.0,32.0,37.0,40.0,25.0,17.0,46.0,38.0,43.0,28.0,31.0,35.0,19.0,24.0,20.0,16.0,45.0,19.0,23.0,19.0,32.0,41.0,30.0,41.0,7.0,39.0,47.0,21.0,29.0,19.0,50.0,28.0,38.0,24.0,31.0,38.0,26.0,28.0,45.0,47.0,60.0,42.0,43.0,17.0,17.0,20.0,18.0,24.0,25.0,20.0,23.0,48.0,26.0,36.0,27.0,41.0,21.0,71.0,64.0,33.0,24.0,35.0,13.0,11.0,null,43.0,36.0,22.0,56.0,34.0,46.0,43.0,25.0,26.0,14.0,63.0,29.0,45.0,15.0,19.0,53.0,45.0,41.0,68.0,5.0,27.0,20.0,54.0,18.0,45.0,26.0,37.0,30.0,51.0,3.0,3.0,19.0,19.0,6.0,4.0,23.0,37.0,18.0,29.0,25.0,52.0,24.0,0.0,25.0,26.0,32.0,58.0,44.0,41.0,24.0,41.0,23.0,27.0,61.0,18.0,18.0,null,15.0,12.0,40.0,19.0,18.0,48.0,37.0,35.0,29.0,54.0,null,22.0,18.0,26.0,19.0,22.0,17.0,18.0,39.0,37.0,17.0,25.0,9.0,15.0,19.0,18.0,50.0,14.0,19.0,33.0,23.0,39.0,14.0,14.0,45.0,22.0,36.0,19.0,59.0,31.0,31.0,39.0,28.0,19.0,29.0,0.0,15.0,18.0,49.0,36.0,40.0,56.0,67.0,44.0,17.0,27.0,23.0,28.0,54.0,26.0,40.0,39.0,40.0,20.0,18.0,17.0,35.0,31.0,40.0,50.0,21.0,29.0,63.0,19.0,36.0,48.0,33.0,28.0,39.0,27.0,58.0,44.0,23.0,21.0,53.0,14.0,17.0,25.0,44.0,24.0,24.0,24.0,0.0,7.0,3.0,18.0,4.0,40.0,16.0,25.0,10.0,40.0,19.0,15.0,24.0,21.0,29.0,37.0,49.0,42.0,54.0,33.0,27.0,53.0,28.0,24.0,20.0,0.0,24.0,28.0,42.0,32.0,36.0,40.0,30.0,34.0,37.0,41.0,25.0,39.0,0.0,54.0,16.0,0.0,13.0,46.0,23.0,18.0,27.0,24.0,27.0,24.0,25.0,30.0,19.0,18.0,49.0,64.0,26.0,53.0,27.0,27.0,25.0,33.0,27.0,20.0,39.0,27.0,19.0,22.0,3.0,24.0,41.0,18.0,63.0,19.0,39.0,null,41.0,44.0,39.0,29.0,37.0,41.0,18.0,null,55.0,21.0,28.0,43.0,32.0,23.0,5.0,14.0,24.0,22.0,14.0,20.0,17.0,20.0,22.0,15.0,67.0,28.0,57.0,21.0,34.0,17.0,33.0,33.0,28.0,18.0,28.0,13.0,38.0,39.0,18.0,43.0,32.0,29.0,45.0,25.0,64.0,18.0,44.0,15.0,21.0,33.0,3.0,19.0,37.0,24.0,26.0,26.0,26.0,22.0,26.0,27.0,27.0,37.0,22.0,24.0,23.0,18.0,28.0,4.0,23.0,2.0,46.0,0.0,16.0,19.0,34.0,34.0,24.0,28.0,44.0,35.0,20.0,18.0,43.0,48.0,46.0,75.0,24.0,34.0,29.0,46.0,22.0,42.0,46.0,15.0,42.0,31.0,9.0,34.0,21.0,16.0,40.0,23.0,6.0,17.0,37.0,30.0,32.0,41.0,43.0,17.0,37.0,18.0,1.0,38.0,25.0,6.0,1.0,7.0,24.0,19.0,26.0,49.0,18.0,25.0,46.0,33.0,10.0,38.0,23.0,26.0,16.0,29.0,35.0,58.0,17.0,16.0,2.0,13.0,18.0,29.0,21.0,43.0,69.0,40.0,1.0,36.0,60.0,17.0,49.0,23.0,39.0,53.0,26.0,31.0,48.0,26.0,25.0,25.0,30.0,null,23.0,24.0,47.0,37.0,24.0,21.0,42.0,39.0,28.0,32.0,31.0,13.0,41.0,21.0,null,9.0,36.0,30.0,27.0,40.0,41.0,16.0,36.0,15.0,39.0,21.0,24.0,28.0,47.0,55.0,null,22.0,26.0,62.0,53.0,29.0,21.0,18.0,34.0,19.0,14.0,21.0,55.0,18.0,33.0,35.0,31.0,27.0,null,13.0,24.0,22.0,32.0,18.0,53.0,4.0,24.0,23.0,1.0,18.0,21.0,40.0,49.0,25.0,21.0,40.0,47.0,25.0,36.0,39.0,26.0,0.0,14.0,7.0,50.0,22.0,17.0,35.0,22.0,26.0,24.0,59.0,24.0,17.0,28.0,38.0,2.0,36.0,32.0,15.0,54.0,18.0,22.0,23.0,14.0,26.0,73.0,29.0,29.0,12.0,27.0,31.0,26.0,35.0,25.0,40.0,18.0,52.0,35.0,51.0,35.0,14.0,null,26.0,21.0,45.0,29.0,39.0,37.0,22.0,22.0,30.0,1.0,0.0,9.0,18.0,29.0,52.0,27.0,54.0,28.0,65.0,26.0,29.0,20.0,39.0,37.0,20.0,40.0,0.0,33.0,23.0,32.0,20.0,60.0,53.0,26.0,35.0,19.0,43.0,29.0,20.0,19.0,21.0,39.0,12.0,20.0,18.0,31.0,35.0,44.0,62.0,23.0,23.0,19.0,29.0,31.0,33.0,41.0,60.0,41.0,69.0,44.0,18.0,26.0,30.0,34.0,18.0,49.0,71.0,19.0,23.0,31.0,40.0,28.0,17.0,24.0,54.0,21.0,2.0,20.0,20.0,36.0,25.0,58.0,37.0,26.0,45.0,44.0,24.0,13.0,4.0,24.0,27.0,39.0,23.0,4.0,0.0,22.0,27.0,22.0,26.0,60.0,18.0,20.0,25.0,24.0,38.0,18.0,45.0,13.0,28.0,5.0,20.0,2.0,42.0,0.0,18.0,26.0,3.0,49.0,19.0,19.0,15.0,53.0,0.0,39.0,45.0,10.0,1.0,9.0,40.0,26.0,18.0,47.0,31.0,null,23.0,32.0,32.0,21.0,null,22.0,18.0,28.0,38.0,46.0,44.0,38.0,28.0,31.0,18.0,18.0,4.0,0.0,0.0,23.0,35.0,43.0,18.0,18.0,18.0,49.0,19.0,22.0,4.0,0.0,null,39.0,36.0,53.0,23.0,24.0,25.0,30.0,20.0,40.0,18.0,57.0,47.0,26.0,29.0,32.0,30.0,18.0,49.0,33.0,18.0,29.0,34.0,43.0,18.0,31.0,15.0,3.0,37.0,1.0,27.0,15.0,33.0,65.0,19.0,30.0,37.0,15.0,19.0,20.0,19.0,21.0,20.0,18.0,27.0,23.0,25.0,72.0,35.0,29.0,11.0,7.0,null,28.0,41.0,null,19.0,8.0,4.0,38.0,21.0,18.0,10.0,29.0,25.0,40.0,19.0,38.0,19.0,0.0,4.0,29.0,46.0,32.0,26.0,23.0,32.0,31.0,34.0,45.0,61.0,21.0,null,15.0,14.0,18.0,39.0,62.0,40.0,21.0,12.0,27.0,28.0,0.0,17.0,23.0,6.0,29.0,41.0,27.0,34.0,36.0,30.0,30.0,29.0,21.0,21.0,18.0,11.0,65.0,25.0,0.0,24.0,19.0,23.0,45.0,52.0,55.0,24.0,31.0,18.0,22.0,39.0,19.0,33.0,14.0,30.0,30.0,21.0,45.0,17.0,39.0,22.0,37.0,48.0,33.0,37.0,27.0,29.0,38.0,16.0,18.0,null,47.0,15.0,13.0,19.0,17.0,31.0,19.0,25.0,26.0,25.0,2.0,7.0,2.0,19.0,1.0,4.0,49.0,61.0,57.0,52.0,22.0,37.0,15.0,28.0,40.0,13.0,24.0,25.0,25.0,43.0,46.0,3.0,3.0,3.0,8.0,57.0,11.0,20.0,27.0,20.0,14.0,24.0,21.0,33.0,32.0,22.0,15.0,41.0,31.0,35.0,48.0,15.0,37.0,21.0,34.0,19.0,52.0,15.0,24.0,45.0,13.0,18.0,19.0,20.0,20.0,27.0,22.0,17.0,23.0,29.0,24.0,26.0,36.0,25.0,36.0,32.0,16.0,32.0,48.0,25.0,46.0,32.0,50.0,31.0,27.0,52.0,34.0,40.0,36.0,19.0,33.0,23.0,57.0,24.0,19.0,54.0,28.0,26.0,43.0,39.0,21.0,24.0,35.0,61.0,21.0,14.0,38.0,23.0,31.0,66.0,56.0,21.0,49.0,21.0,27.0,23.0,27.0,49.0,38.0,60.0,47.0,29.0,19.0,32.0,22.0,35.0,28.0,22.0,42.0,37.0,31.0,33.0,48.0,31.0,18.0,44.0,22.0,18.0,48.0,2.0,0.0,43.0,51.0,48.0,51.0,20.0,41.0,27.0,56.0,26.0,21.0,null,23.0,28.0,40.0,39.0,16.0,20.0,24.0,45.0,33.0,19.0,15.0,18.0,21.0,37.0,53.0,19.0,17.0,58.0,18.0,25.0,39.0,40.0,27.0,3.0,18.0,18.0,29.0,22.0,34.0,19.0,26.0,33.0,34.0,18.0,40.0,53.0,8.0,54.0,29.0,56.0,21.0,25.0,33.0,22.0,50.0,24.0,25.0,59.0,26.0,19.0,37.0,22.0,44.0,25.0,23.0,6.0,39.0,26.0,14.0,3.0,21.0,24.0,18.0,37.0,21.0,67.0,28.0,13.0,26.0,33.0,18.0,24.0,26.0,21.0,27.0,15.0,24.0,31.0,10.0,23.0,50.0,13.0,43.0,20.0,21.0,18.0,16.0,47.0,35.0,15.0,46.0,6.0,26.0,49.0,28.0,37.0,17.0,38.0,18.0,55.0,28.0,25.0,17.0,22.0,4.0,3.0,21.0,24.0,50.0,3.0,19.0,22.0,20.0,18.0,27.0,29.0,23.0,48.0,32.0,55.0,49.0,15.0,50.0,35.0,29.0,38.0,29.0,39.0,49.0,39.0,19.0,19.0,14.0,40.0,40.0,20.0,6.0,41.0,37.0,31.0,8.0,55.0,16.0,29.0,40.0,27.0,21.0,25.0,44.0,34.0,1.0,1.0,42.0,18.0,21.0,24.0,null,18.0,27.0,13.0,10.0,8.0,40.0,35.0,13.0,19.0,44.0,36.0,29.0,28.0,36.0,24.0,14.0,50.0,20.0,38.0,33.0,54.0,20.0,23.0,65.0,51.0,36.0,38.0,28.0,32.0,55.0,23.0,38.0,18.0,32.0,44.0,62.0,66.0,20.0,19.0,null,25.0,20.0,18.0,20.0,14.0,49.0,49.0,19.0,53.0,31.0,18.0,24.0,35.0,27.0,38.0,23.0,22.0,38.0,28.0,25.0,45.0,22.0,30.0,25.0,24.0,44.0,6.0,0.0,14.0,37.0,15.0,0.0,17.0,58.0,15.0,53.0,29.0,24.0,40.0,21.0,30.0,20.0,20.0,18.0,36.0,20.0,4.0,59.0,20.0,4.0,23.0,25.0,20.0,22.0,6.0,14.0,0.0,4.0,37.0,14.0,34.0,3.0,18.0,27.0,19.0,37.0,29.0,37.0,32.0,22.0,38.0,24.0,63.0,23.0,41.0,20.0,48.0,44.0,15.0,29.0,64.0,19.0,28.0,44.0,13.0,45.0,25.0,19.0,29.0,21.0,13.0,25.0,46.0,37.0,19.0,29.0,21.0,13.0,15.0,42.0,null,26.0,19.0,18.0,50.0,28.0,24.0,31.0,19.0,20.0,23.0,19.0,27.0,16.0,76.0,41.0,24.0,12.0,28.0,36.0,20.0,7.0,21.0,33.0,32.0,34.0,38.0,null,28.0,25.0,24.0,18.0,24.0,30.0,38.0,39.0,31.0,33.0,15.0,23.0,24.0,44.0,22.0,28.0,34.0,8.0,26.0,29.0,58.0,4.0,1.0,17.0,27.0,24.0,16.0,28.0,23.0,33.0,24.0,6.0,19.0,31.0,19.0,18.0,35.0,32.0,19.0,24.0,33.0,20.0,27.0,26.0,28.0,19.0,24.0,52.0,23.0,23.0,25.0,22.0,35.0,24.0,24.0,26.0,37.0,14.0,36.0,0.0,17.0,18.0,43.0,21.0,34.0,57.0,18.0,73.0,31.0,25.0,20.0,24.0,null,21.0,22.0,39.0,26.0,32.0,1.0,7.0,4.0,21.0,12.0,28.0,0.0,18.0,52.0,18.0,51.0,21.0,28.0,34.0,13.0,35.0,27.0,35.0,51.0,53.0,29.0,41.0,47.0,22.0,19.0,22.0,25.0,null,17.0,0.0,5.0,30.0,17.0,53.0,9.0,17.0,16.0,29.0,29.0,46.0,27.0,39.0,15.0,30.0,41.0,47.0,32.0,15.0,23.0,20.0,33.0,18.0,31.0,25.0,19.0,32.0,45.0,43.0,21.0,48.0,0.0,29.0,41.0,23.0,48.0,18.0,30.0,26.0,18.0,27.0,58.0,22.0,17.0,28.0,27.0,51.0,37.0,14.0,43.0,27.0,60.0,33.0,39.0,21.0,21.0,28.0,30.0,42.0,25.0,25.0,25.0,54.0,41.0,36.0,33.0,36.0,55.0,16.0,28.0,26.0,42.0,30.0,31.0,22.0,26.0,25.0,44.0,29.0,22.0,23.0,30.0,23.0,13.0,53.0,0.0,27.0,27.0,10.0,2.0,5.0,24.0,32.0,22.0,22.0,44.0,55.0,22.0,8.0,15.0,1.0,9.0,48.0,16.0,27.0,3.0,25.0,70.0,30.0,57.0,42.0,14.0,43.0,34.0,21.0,32.0,21.0,25.0,25.0,38.0,36.0,44.0,37.0,47.0,38.0,28.0,38.0,53.0,26.0,13.0,64.0,16.0,13.0,55.0,26.0,23.0,55.0,50.0,26.0,36.0,33.0,21.0,41.0,33.0,23.0,31.0,28.0,13.0,null,35.0,25.0,19.0,56.0,18.0,22.0,34.0,11.0,37.0,22.0,45.0,19.0,39.0,28.0,36.0,1.0,10.0,12.0,31.0,12.0,3.0,30.0,41.0,19.0,38.0,36.0,0.0,20.0,23.0,35.0,36.0,41.0,38.0,33.0,54.0,33.0,54.0,32.0,24.0,53.0,26.0,31.0,18.0,39.0,37.0,35.0,34.0,28.0,43.0,2.0,24.0,18.0,21.0,24.0,35.0,53.0,32.0,44.0,33.0,40.0,31.0,23.0,44.0,41.0,31.0,30.0,33.0,30.0,26.0,22.0,37.0,15.0,52.0,35.0,40.0,60.0,24.0,31.0,43.0,9.0,51.0,25.0,20.0,22.0,21.0,50.0,24.0,45.0,22.0,7.0,11.0,1.0,0.0,8.0,36.0,2.0,0.0,22.0,41.0,49.0,30.0,37.0,14.0,30.0,62.0,13.0,32.0,33.0,38.0,29.0,25.0,26.0,19.0,16.0,61.0,28.0,13.0,44.0,22.0,30.0,21.0,20.0,31.0,33.0,26.0,21.0,23.0,0.0,32.0,30.0,41.0,18.0,26.0,32.0,44.0],\"xaxis\":\"x\",\"yaxis\":\"y\",\"type\":\"histogram\"},{\"alignmentgroup\":\"True\",\"hovertemplate\":\"type=Train<br>Age=%{x}<extra></extra>\",\"legendgroup\":\"Train\",\"marker\":{\"color\":\"#58D68D\"},\"name\":\"Train\",\"notched\":true,\"offsetgroup\":\"Train\",\"showlegend\":false,\"x\":[39.0,24.0,58.0,33.0,16.0,44.0,26.0,28.0,35.0,14.0,34.0,45.0,32.0,48.0,28.0,31.0,27.0,24.0,45.0,0.0,14.0,1.0,49.0,29.0,10.0,1.0,7.0,21.0,62.0,15.0,34.0,43.0,32.0,47.0,2.0,20.0,28.0,23.0,15.0,20.0,30.0,17.0,45.0,55.0,4.0,21.0,21.0,19.0,35.0,56.0,null,25.0,2.0,38.0,27.0,36.0,22.0,62.0,15.0,33.0,62.0,0.0,18.0,21.0,null,42.0,19.0,17.0,14.0,37.0,42.0,27.0,28.0,38.0,13.0,42.0,2.0,8.0,24.0,40.0,43.0,45.0,35.0,26.0,27.0,19.0,0.0,3.0,54.0,26.0,26.0,23.0,2.0,31.0,18.0,24.0,9.0,6.0,27.0,21.0,23.0,31.0,0.0,32.0,40.0,42.0,28.0,29.0,48.0,64.0,27.0,26.0,33.0,39.0,13.0,24.0,29.0,18.0,67.0,35.0,61.0,45.0,22.0,19.0,36.0,19.0,47.0,13.0,34.0,35.0,24.0,26.0,31.0,20.0,56.0,50.0,42.0,null,38.0,41.0,22.0,26.0,17.0,57.0,17.0,35.0,13.0,27.0,31.0,24.0,19.0,32.0,58.0,21.0,38.0,38.0,19.0,0.0,3.0,20.0,24.0,37.0,25.0,56.0,49.0,11.0,1.0,8.0,39.0,2.0,23.0,0.0,39.0,25.0,36.0,52.0,18.0,15.0,35.0,47.0,45.0,null,51.0,29.0,null,19.0,24.0,29.0,11.0,17.0,13.0,35.0,21.0,21.0,38.0,19.0,2.0,0.0,13.0,25.0,16.0,1.0,15.0,21.0,23.0,33.0,21.0,41.0,16.0,42.0,20.0,24.0,16.0,21.0,32.0,58.0,24.0,30.0,27.0,32.0,43.0,42.0,37.0,35.0,33.0,18.0,21.0,43.0,14.0,46.0,33.0,21.0,33.0,47.0,54.0,30.0,29.0,21.0,24.0,21.0,60.0,22.0,26.0,26.0,28.0,39.0,13.0,47.0,63.0,null,50.0,35.0,45.0,19.0,21.0,29.0,22.0,14.0,42.0,57.0,39.0,28.0,19.0,19.0,26.0,17.0,43.0,9.0,40.0,50.0,24.0,57.0,16.0,23.0,23.0,28.0,23.0,23.0,18.0,18.0,67.0,60.0,null,49.0,0.0,26.0,35.0,24.0,20.0,18.0,21.0,59.0,13.0,43.0,29.0,19.0,2.0,32.0,33.0,25.0,29.0,29.0,44.0,2.0,19.0,0.0,18.0,38.0,5.0,31.0,30.0,15.0,27.0,22.0,36.0,14.0,23.0,18.0,36.0,41.0,50.0,32.0,26.0,15.0,33.0,null,26.0,61.0,24.0,30.0,24.0,24.0,41.0,20.0,22.0,63.0,18.0,21.0,79.0,56.0,13.0,33.0,32.0,31.0,26.0,18.0,38.0,23.0,28.0,34.0,0.0,14.0,23.0,49.0,14.0,18.0,27.0,48.0,31.0,61.0,18.0,45.0,22.0,30.0,30.0,32.0,43.0,17.0,23.0,20.0,39.0,35.0,31.0,21.0,16.0,60.0,18.0,42.0,68.0,22.0,59.0,null,37.0,3.0,31.0,31.0,29.0,20.0,46.0,29.0,43.0,17.0,27.0,47.0,45.0,17.0,10.0,56.0,39.0,40.0,40.0,34.0,32.0,35.0,32.0,26.0,25.0,26.0,22.0,22.0,24.0,32.0,11.0,22.0,19.0,34.0,74.0,28.0,42.0,43.0,55.0,19.0,6.0,7.0,28.0,15.0,24.0,31.0,22.0,1.0,50.0,34.0,14.0,19.0,null,36.0,34.0,25.0,36.0,16.0,30.0,37.0,15.0,36.0,27.0,27.0,12.0,22.0,27.0,13.0,27.0,28.0,21.0,39.0,28.0,14.0,27.0,46.0,27.0,21.0,21.0,42.0,22.0,10.0,43.0,42.0,18.0,54.0,24.0,64.0,18.0,53.0,23.0,39.0,59.0,32.0,55.0,21.0,50.0,55.0,null,35.0,null,55.0,23.0,42.0,35.0,47.0,null,34.0,46.0,26.0,1.0,null,33.0,34.0,49.0,22.0,28.0,null,36.0,30.0,49.0,38.0,31.0,17.0,26.0,23.0,24.0,23.0,24.0,32.0,43.0,23.0,42.0,29.0,40.0,37.0,61.0,33.0,19.0,21.0,4.0,12.0,44.0,22.0,33.0,32.0,28.0,28.0,31.0,13.0,14.0,33.0,null,23.0,36.0,22.0,19.0,42.0,30.0,16.0,55.0,55.0,19.0,null,18.0,21.0,65.0,55.0,50.0,49.0,22.0,33.0,3.0,0.0,33.0,48.0,5.0,23.0,53.0,18.0,20.0,23.0,48.0,19.0,null,9.0,24.0,46.0,23.0,21.0,19.0,0.0,4.0,26.0,9.0,24.0,24.0,25.0,21.0,21.0,37.0,44.0,43.0,7.0,33.0,24.0,31.0,27.0,34.0,58.0,7.0,3.0,21.0,21.0,39.0,43.0,22.0,44.0,38.0,32.0,55.0,31.0,39.0,35.0,37.0,13.0,21.0,20.0,20.0,63.0,36.0,29.0,36.0,79.0,30.0,30.0,19.0,33.0,20.0,38.0,7.0,58.0,33.0,3.0,39.0,37.0,32.0,28.0,38.0,21.0,18.0,15.0,44.0,44.0,36.0,28.0,15.0,45.0,26.0,46.0,25.0,46.0,15.0,37.0,20.0,45.0,7.0,5.0,38.0,30.0,null,0.0,20.0,41.0,18.0,29.0,19.0,34.0,36.0,54.0,19.0,21.0,23.0,35.0,34.0,22.0,24.0,18.0,24.0,33.0,24.0,18.0,19.0,43.0,44.0,25.0,25.0,23.0,23.0,20.0,2.0,26.0,38.0,1.0,12.0,2.0,25.0,1.0,0.0,54.0,21.0,19.0,24.0,20.0,23.0,29.0,14.0,19.0,23.0,62.0,23.0,65.0,47.0,67.0,14.0,41.0,14.0,19.0,22.0,34.0,65.0,42.0,22.0,54.0,34.0,27.0,67.0,33.0,30.0,22.0,35.0,23.0,49.0,36.0,31.0,54.0,0.0,null,54.0,10.0,0.0,7.0,25.0,37.0,15.0,26.0,7.0,30.0,19.0,30.0,21.0,21.0,59.0,28.0,32.0,19.0,7.0,16.0,31.0,30.0,26.0,20.0,24.0,39.0,19.0,27.0,34.0,28.0,29.0,38.0,null,1.0,36.0,31.0,1.0,31.0,10.0,null,42.0,0.0,41.0,0.0,0.0,59.0,13.0,24.0,20.0,71.0,23.0,15.0,18.0,19.0,4.0,42.0,51.0,13.0,27.0,42.0,41.0,21.0,31.0,36.0,31.0,14.0,32.0,32.0,27.0,57.0,13.0,30.0,14.0,27.0,32.0,54.0,23.0,38.0,32.0,24.0,36.0,11.0,6.0,36.0,22.0,null,37.0,55.0,null,20.0,16.0,19.0,38.0,35.0,33.0,37.0,46.0,41.0,13.0,31.0,52.0,48.0,27.0,16.0,32.0,25.0,26.0,44.0,32.0,18.0,23.0,44.0,29.0,19.0,41.0,28.0,19.0,32.0,74.0,31.0,38.0,20.0,24.0,26.0,44.0,33.0,31.0,null,22.0,33.0,34.0,11.0,41.0,30.0,30.0,25.0,31.0,38.0,15.0,19.0,29.0,30.0,29.0,36.0,24.0,30.0,0.0,15.0,38.0,13.0,18.0,16.0,8.0,19.0,26.0,15.0,38.0,45.0,48.0,17.0,28.0,41.0,19.0,14.0,21.0,48.0,19.0,29.0,20.0,44.0,19.0,64.0,21.0,32.0,20.0,24.0,44.0,57.0,51.0,34.0,45.0,24.0,23.0,30.0,20.0,22.0,null,71.0,18.0,16.0,28.0,36.0,6.0,26.0,27.0,49.0,29.0,46.0,35.0,17.0,37.0,24.0,47.0,26.0,46.0,27.0,56.0,18.0,15.0,3.0,42.0,1.0,56.0,20.0,21.0,5.0,12.0,39.0,60.0,31.0,58.0,19.0,29.0,19.0,44.0,20.0,18.0,36.0,25.0,15.0,18.0,0.0,54.0,0.0,20.0,21.0,8.0,46.0,31.0,3.0,30.0,23.0,14.0,25.0,61.0,31.0,13.0,24.0,47.0,15.0,46.0,49.0,37.0,44.0,16.0,58.0,20.0,36.0,31.0,21.0,22.0,27.0,58.0,38.0,30.0,20.0,19.0,57.0,26.0,38.0,15.0,null,35.0,38.0,35.0,14.0,27.0,25.0,37.0,25.0,41.0,50.0,33.0,27.0,23.0,18.0,31.0,54.0,0.0,11.0,4.0,19.0,7.0,20.0,33.0,26.0,35.0,23.0,60.0,34.0,null,42.0,22.0,18.0,5.0,18.0,29.0,39.0,17.0,58.0,5.0,23.0,26.0,40.0,20.0,38.0,31.0,34.0,9.0,36.0,26.0,18.0,55.0,28.0,18.0,28.0,23.0,20.0,22.0,27.0,13.0,32.0,53.0,34.0,42.0,19.0,54.0,12.0,35.0,55.0,26.0,49.0,22.0,null,30.0,39.0,14.0,29.0,34.0,8.0,7.0,3.0,0.0,10.0,16.0,41.0,18.0,25.0,32.0,26.0,26.0,18.0,27.0,26.0,28.0,19.0,31.0,35.0,46.0,37.0,29.0,17.0,30.0,28.0,16.0,40.0,23.0,24.0,36.0,34.0,59.0,20.0,15.0,19.0,64.0,24.0,23.0,30.0,0.0,8.0,1.0,48.0,12.0,30.0,10.0,11.0,58.0,52.0,36.0,32.0,16.0,25.0,28.0,32.0,28.0,16.0,50.0,20.0,23.0,45.0,23.0,53.0,8.0,6.0,3.0,13.0,60.0,1.0,40.0,51.0,31.0,28.0,20.0,14.0,23.0,4.0,20.0,75.0,24.0,18.0,21.0,59.0,27.0,38.0,41.0,36.0,29.0,22.0,23.0,32.0,21.0,26.0,61.0,30.0,40.0,37.0,41.0,32.0,30.0,27.0,22.0,54.0,27.0,52.0,15.0,27.0,30.0,19.0,22.0,43.0,25.0,51.0,34.0,21.0,21.0,23.0,38.0,30.0,31.0,44.0,14.0,18.0,19.0,null,36.0,10.0,1.0,4.0,21.0,24.0,8.0,18.0,33.0,31.0,43.0,20.0,28.0,30.0,28.0,19.0,22.0,27.0,22.0,2.0,4.0,10.0,9.0,37.0,2.0,44.0,11.0,22.0,40.0,30.0,37.0,26.0,19.0,57.0,1.0,17.0,26.0,21.0,28.0,36.0,25.0,40.0,23.0,2.0,10.0,43.0,0.0,24.0,42.0,30.0,19.0,26.0,47.0,28.0,24.0,29.0,32.0,44.0,17.0,35.0,23.0,34.0,25.0,67.0,22.0,null,27.0,14.0,42.0,19.0,22.0,31.0,10.0,39.0,41.0,0.0,22.0,21.0,40.0,25.0,23.0,33.0,20.0,40.0,27.0,21.0,25.0,2.0,19.0,41.0,43.0,19.0,22.0,16.0,42.0,20.0,35.0,53.0,17.0,6.0,22.0,41.0,19.0,39.0,23.0,31.0,38.0,1.0,13.0,21.0,44.0,36.0,19.0,7.0,39.0,28.0,28.0,14.0,18.0,23.0,33.0,18.0,47.0,42.0,17.0,21.0,17.0,26.0,23.0,15.0,18.0,65.0,33.0,27.0,41.0,42.0,null,37.0,17.0,24.0,39.0,59.0,32.0,29.0,8.0,28.0,35.0,24.0,1.0,4.0,28.0,46.0,67.0,44.0,14.0,23.0,51.0,20.0,0.0,0.0,23.0,24.0,41.0,30.0,27.0,13.0,16.0,30.0,8.0,59.0,43.0,30.0,46.0,39.0,21.0,70.0,34.0,33.0,44.0,16.0,63.0,37.0,29.0,29.0,22.0,26.0,76.0,61.0,46.0,19.0,13.0,null,30.0,23.0,63.0,21.0,32.0,33.0,39.0,49.0,27.0,16.0,38.0,42.0,19.0,26.0,32.0,56.0,0.0,38.0,30.0,21.0,11.0,3.0,17.0,35.0,17.0,0.0,46.0,63.0,35.0,61.0,19.0,43.0,14.0,78.0,21.0,32.0,31.0,40.0,13.0,36.0,31.0,18.0,40.0,28.0,41.0,35.0,14.0,20.0,23.0,22.0,25.0,18.0,25.0,30.0,46.0,27.0,53.0,21.0,32.0,32.0,33.0,26.0,47.0,13.0,34.0,21.0,20.0,21.0,51.0,18.0,26.0,53.0,30.0,37.0,45.0,62.0,38.0,24.0,18.0,23.0,16.0,37.0,22.0,18.0,25.0,26.0,25.0,55.0,28.0,23.0,22.0,26.0,13.0,18.0,38.0,28.0,57.0,0.0,18.0,25.0,35.0,37.0,33.0,35.0,47.0,23.0,null,27.0,23.0,31.0,19.0,53.0,37.0,18.0,42.0,7.0,7.0,24.0,20.0,24.0,42.0,49.0,47.0,16.0,26.0,24.0,38.0,0.0,37.0,39.0,25.0,25.0,35.0,0.0,46.0,4.0,19.0,29.0,19.0,47.0,1.0,4.0,37.0,61.0,32.0,4.0,16.0,25.0,22.0,41.0,25.0,19.0,21.0,14.0,18.0,34.0,33.0,14.0,28.0,43.0,3.0,0.0,47.0,28.0,40.0,17.0,21.0,null,41.0,20.0,56.0,57.0,48.0,37.0,20.0,36.0,38.0,22.0,31.0,0.0,21.0,49.0,44.0,null,29.0,16.0,20.0,26.0,19.0,34.0,38.0,51.0,7.0,3.0,26.0,27.0,7.0,19.0,28.0,27.0,31.0,26.0,43.0,23.0,14.0,47.0,17.0,64.0,13.0,18.0,29.0,70.0,23.0,23.0,35.0,17.0,26.0,15.0,19.0,20.0,51.0,17.0,27.0,43.0,5.0,17.0,40.0,38.0,20.0,13.0,15.0,15.0,59.0,24.0,null,52.0,38.0,26.0,17.0,17.0,20.0,15.0,30.0,22.0,18.0,22.0,20.0,22.0,34.0,28.0,50.0,19.0,21.0,0.0,4.0,59.0,15.0,24.0,26.0,67.0,55.0,50.0,23.0,21.0,15.0,41.0,59.0,18.0,21.0,14.0,50.0,32.0,46.0,null,58.0,15.0,35.0,30.0,30.0,43.0,21.0,15.0,37.0,28.0,28.0,40.0,42.0,21.0,31.0,51.0,73.0,26.0,33.0,39.0,19.0,12.0,10.0,0.0,0.0,1.0,33.0,23.0,5.0,24.0,26.0,30.0,33.0,56.0,25.0,null,25.0,18.0,60.0,41.0,16.0,17.0,26.0,31.0,67.0,16.0,24.0,19.0,48.0,30.0,22.0,28.0,23.0,29.0,22.0,48.0,26.0,23.0,55.0,46.0,38.0,2.0,3.0,20.0,65.0,null,25.0,54.0,25.0,14.0,53.0,0.0,39.0,22.0,31.0,24.0,35.0,35.0,32.0,61.0,58.0,26.0,4.0,1.0,8.0,7.0,25.0,6.0,29.0,64.0,31.0,25.0,30.0,0.0,29.0,37.0,49.0,36.0,20.0,20.0,18.0,17.0,48.0,26.0,35.0,30.0,22.0,5.0,43.0,52.0,50.0,29.0,19.0,39.0,38.0,21.0,25.0,42.0,36.0,19.0,42.0,40.0,14.0,50.0,18.0,46.0,null,15.0,22.0,0.0,52.0,38.0,46.0,23.0,63.0,24.0,50.0,20.0,55.0,21.0,56.0,45.0,18.0,47.0,36.0,57.0,13.0,27.0,20.0,47.0,15.0,34.0,21.0,51.0,23.0,58.0,37.0,44.0,25.0,15.0,40.0,29.0,36.0,21.0,35.0,24.0,2.0,0.0,43.0,63.0,30.0,38.0,27.0,54.0,39.0,41.0,22.0,23.0,34.0,26.0,39.0,15.0,64.0,25.0,35.0,19.0,26.0,3.0,29.0,44.0,27.0,17.0,37.0,19.0,44.0,22.0,22.0,21.0,31.0,17.0,30.0,15.0,42.0,55.0,28.0,33.0,19.0,24.0,4.0,2.0,30.0,31.0,17.0,40.0,33.0,46.0,30.0,17.0,19.0,22.0,20.0,36.0,0.0,17.0,null,15.0,20.0,19.0,24.0,43.0,26.0,42.0,21.0,50.0,25.0,64.0,50.0,24.0,27.0,42.0,30.0,20.0,31.0,26.0,39.0,null,32.0,25.0,6.0,3.0,11.0,52.0,14.0,68.0,18.0,55.0,22.0,34.0,17.0,38.0,13.0,19.0,30.0,27.0,17.0,45.0,28.0,23.0,24.0,23.0,29.0,46.0,17.0,20.0,24.0,40.0,null,38.0,65.0,19.0,54.0,38.0,40.0,21.0,22.0,33.0,18.0,43.0,13.0,26.0,22.0,21.0,25.0,29.0,49.0,29.0,45.0,45.0,30.0,29.0,26.0,16.0,20.0,33.0,18.0,24.0,29.0,40.0,27.0,35.0,31.0,26.0,49.0,23.0,23.0,14.0,21.0,18.0,null,19.0,22.0,17.0,13.0,26.0,null,16.0,20.0,20.0,23.0,61.0,27.0,3.0,4.0,13.0,19.0,18.0,66.0,39.0,21.0,7.0,56.0,15.0,null,13.0,18.0,38.0,45.0,21.0,19.0,49.0,21.0,18.0,43.0,27.0,0.0,27.0,21.0,20.0,35.0,20.0,24.0,41.0,23.0,27.0,58.0,53.0,30.0,24.0,31.0,46.0,20.0,20.0,30.0,24.0,34.0,20.0,48.0,25.0,43.0,27.0,47.0,26.0,37.0,42.0,61.0,29.0,32.0,51.0,43.0,25.0,31.0,13.0,20.0,29.0,16.0,15.0,50.0,41.0,43.0,32.0,36.0,18.0,47.0,29.0,null,14.0,25.0,63.0,22.0,32.0,31.0,24.0,39.0,20.0,20.0,19.0,20.0,31.0,17.0,24.0,27.0,28.0,41.0,25.0,26.0,27.0,22.0,62.0,58.0,37.0,54.0,26.0,44.0,34.0,47.0,27.0,22.0,46.0,29.0,43.0,42.0,39.0,30.0,43.0,19.0,26.0,46.0,3.0,21.0,1.0,22.0,27.0,28.0,36.0,19.0,18.0,47.0,18.0,6.0,20.0,18.0,37.0,22.0,37.0,6.0,36.0,46.0,75.0,37.0,22.0,33.0,35.0,19.0,34.0,23.0,37.0,24.0,54.0,52.0,60.0,1.0,null,22.0,27.0,48.0,47.0,25.0,49.0,33.0,67.0,5.0,60.0,56.0,59.0,44.0,33.0,28.0,29.0,13.0,34.0,45.0,39.0,18.0,57.0,null,25.0,22.0,32.0,29.0,21.0,16.0,45.0,44.0,27.0,26.0,46.0,24.0,15.0,53.0,28.0,11.0,7.0,0.0,15.0,31.0,9.0,44.0,35.0,30.0,13.0,45.0,4.0,21.0,20.0,24.0,3.0,29.0,28.0,44.0,50.0,35.0,19.0,22.0,30.0,36.0,20.0,22.0,22.0,32.0,35.0,41.0,57.0,3.0,11.0,4.0,17.0,30.0,11.0,23.0,58.0,22.0,24.0,20.0,37.0,49.0,46.0,30.0,36.0,21.0,25.0,42.0,13.0,25.0,29.0,17.0,36.0,44.0,18.0,22.0,22.0,43.0,29.0,24.0,18.0,42.0,43.0,32.0,15.0,22.0,20.0,34.0,70.0,18.0,26.0,17.0,13.0,19.0,32.0,33.0,21.0,23.0,24.0,17.0,34.0,31.0,43.0,43.0,33.0,28.0,27.0,7.0,16.0,42.0,27.0,19.0,42.0,13.0,16.0,21.0,28.0,69.0,15.0,48.0,42.0,42.0,23.0,26.0,45.0,30.0,36.0,null,35.0,21.0,50.0,52.0,21.0,41.0,35.0,26.0,17.0,69.0,27.0,25.0,27.0,25.0,36.0,14.0,27.0,22.0,24.0,null,4.0,19.0,19.0,38.0,39.0,23.0,57.0,18.0,43.0,28.0,33.0,37.0,28.0,28.0,18.0,29.0,29.0,28.0,24.0,59.0,43.0,20.0,23.0,27.0,38.0,38.0,48.0,25.0,25.0,24.0,69.0,20.0,18.0,28.0,23.0,24.0,44.0,29.0,6.0,42.0,78.0,36.0,37.0,41.0,18.0,62.0,0.0,55.0,16.0,32.0,19.0,7.0,4.0,30.0,24.0,34.0,30.0,3.0,32.0,55.0,0.0,51.0,0.0,21.0,2.0,19.0,24.0,20.0,42.0,17.0,32.0,28.0,21.0,56.0,28.0,42.0,18.0,24.0,20.0,22.0,22.0,21.0,28.0,26.0,50.0,26.0,30.0,29.0,8.0,45.0,35.0,18.0,23.0,29.0,18.0,28.0,34.0,0.0,4.0,28.0,8.0,20.0,20.0,25.0,31.0,37.0,21.0,24.0,34.0,0.0,25.0,43.0,null,45.0,63.0,17.0,35.0,12.0,null,17.0,32.0,23.0,17.0,34.0,15.0,14.0,22.0,19.0,40.0,25.0,51.0,22.0,50.0,26.0,39.0,18.0,22.0,26.0,19.0,16.0,24.0,34.0,55.0,42.0,14.0,28.0,26.0,33.0,24.0,23.0,16.0,36.0,44.0,22.0,30.0,20.0,21.0,14.0,27.0,19.0,21.0,null,13.0,71.0,28.0,18.0,23.0,34.0,20.0,17.0,21.0,33.0,34.0,51.0,21.0,null,31.0,36.0,39.0,26.0,51.0,24.0,27.0,31.0,24.0,57.0,36.0,55.0,null,18.0,27.0,50.0,24.0,20.0,24.0,18.0,44.0,27.0,58.0,29.0,23.0,3.0,0.0,33.0,12.0,44.0,20.0,59.0,18.0,72.0,23.0,11.0,1.0,25.0,25.0,24.0,54.0,17.0,48.0,40.0,2.0,32.0,15.0,52.0,16.0,16.0,16.0,6.0,10.0,27.0,45.0,26.0,29.0,38.0,19.0,43.0,15.0,31.0,52.0,49.0,29.0,18.0,41.0,9.0,null,58.0,39.0,13.0,36.0,23.0,24.0,33.0,18.0,2.0,0.0,36.0,15.0,31.0,42.0,27.0,36.0,0.0,3.0,22.0,56.0,23.0,25.0,29.0,17.0,13.0,35.0,53.0,24.0,38.0,21.0,29.0,46.0,58.0,53.0,21.0,27.0,31.0,23.0,41.0,29.0,54.0,43.0,36.0,48.0,34.0,42.0,17.0,22.0,37.0,38.0,21.0,23.0,27.0,23.0,19.0,28.0,33.0,24.0,0.0,41.0,19.0,44.0,43.0,14.0,18.0,25.0,0.0,4.0,24.0,38.0,44.0,57.0,3.0,5.0,3.0,18.0,8.0,21.0,35.0,47.0,28.0,49.0,23.0,19.0,34.0,40.0,26.0,23.0,22.0,51.0,44.0,50.0,28.0,13.0,21.0,20.0,14.0,38.0,29.0,36.0,16.0,40.0,null,18.0,17.0,32.0,27.0,34.0,53.0,36.0,41.0,51.0,61.0,59.0,17.0,27.0,57.0,39.0,55.0,42.0,36.0,42.0,32.0,6.0,15.0,28.0,37.0,44.0,71.0,44.0,36.0,18.0,3.0,12.0,0.0,29.0,9.0,27.0,24.0,38.0,28.0,26.0,16.0,24.0,33.0,24.0,29.0,25.0,0.0,13.0,7.0,32.0,34.0,49.0,43.0,0.0,6.0,23.0,43.0,23.0,43.0,41.0,54.0,51.0,44.0,48.0,45.0,20.0,33.0,21.0,68.0,23.0,16.0,35.0,22.0,51.0,2.0,29.0,0.0,39.0,55.0,22.0,20.0,25.0,18.0,28.0,26.0,28.0,54.0,56.0,25.0,26.0,14.0,21.0,43.0,37.0,null,38.0,14.0,20.0,33.0,33.0,13.0,37.0,15.0,33.0,24.0,49.0,24.0,24.0,26.0,40.0,31.0,47.0,19.0,38.0,33.0,45.0,1.0,32.0,70.0,19.0,55.0,48.0,66.0,13.0,40.0,35.0,32.0,51.0,37.0,31.0,37.0,38.0,19.0,33.0,19.0,31.0,43.0,22.0,24.0,21.0,14.0,30.0,22.0,11.0,4.0,0.0,30.0,21.0,40.0,57.0,35.0,32.0,32.0,30.0,69.0,21.0,17.0,16.0,25.0,25.0,52.0,13.0,37.0,13.0,45.0,55.0,22.0,39.0,35.0,19.0,7.0,19.0,21.0,37.0,35.0,22.0,62.0,41.0,16.0,26.0,36.0,null,22.0,40.0,50.0,57.0,15.0,23.0,60.0,73.0,35.0,28.0,27.0,14.0,26.0,22.0,22.0,71.0,25.0,27.0,1.0,52.0,0.0,30.0,52.0,12.0,22.0,24.0,22.0,15.0,21.0,56.0,50.0,20.0,32.0,28.0,74.0,25.0,31.0,6.0,17.0,12.0,47.0,46.0,31.0,36.0,15.0,38.0,48.0,21.0,4.0,31.0,31.0,62.0,29.0,30.0,26.0,43.0,32.0,24.0,49.0,21.0,18.0,18.0,14.0,21.0,25.0,56.0,0.0,55.0,14.0,13.0,43.0,39.0,null,24.0,26.0,22.0,26.0,19.0,38.0,38.0,77.0,28.0,22.0,20.0,18.0,10.0,34.0,43.0,31.0,40.0,25.0,68.0,20.0,27.0,1.0,60.0,28.0,11.0,0.0,9.0,38.0,18.0,40.0,21.0,24.0,26.0,47.0,46.0,55.0,50.0,10.0,17.0,20.0,37.0,24.0,43.0,0.0,24.0,22.0,14.0,3.0,22.0,23.0,56.0,36.0,58.0,1.0,39.0,33.0,19.0,null,33.0,17.0,28.0,21.0,45.0,62.0,43.0,27.0,1.0,31.0,18.0,21.0,7.0,22.0,26.0,30.0,17.0,null,10.0,25.0,21.0,53.0,21.0,28.0,20.0,54.0,9.0,20.0,19.0,32.0,22.0,35.0,26.0,51.0,8.0,40.0,2.0,19.0,32.0,16.0,64.0,35.0,33.0,9.0,21.0,28.0,28.0,31.0,32.0,43.0,60.0,43.0,43.0,19.0,21.0,38.0,17.0,29.0,2.0,22.0,18.0,16.0,52.0,52.0,14.0,25.0,34.0,20.0,28.0,null,20.0,44.0,64.0,27.0,24.0,38.0,47.0,8.0,1.0,0.0,20.0,41.0,35.0,31.0,14.0,25.0,26.0,26.0,30.0,49.0,19.0,15.0,27.0,39.0,32.0,11.0,44.0,36.0,56.0,42.0,40.0,53.0,31.0,14.0,31.0,42.0,32.0,34.0,55.0,42.0,40.0,48.0,37.0,17.0,60.0,19.0,30.0,32.0,28.0,26.0,24.0,47.0,32.0,73.0,17.0,47.0,null,13.0,22.0,61.0,19.0,45.0,18.0,32.0,52.0,25.0,9.0,18.0,26.0,20.0,6.0,5.0,40.0,20.0,18.0,42.0,14.0,33.0,23.0,35.0,53.0,56.0,35.0,18.0,25.0,20.0,44.0,26.0,23.0,39.0,25.0,42.0,20.0,4.0,64.0,0.0,19.0,6.0,23.0,22.0,18.0,21.0,37.0,24.0,38.0,11.0,6.0,49.0,55.0,15.0,19.0,16.0,48.0,25.0,23.0,27.0,39.0,28.0,72.0,47.0,65.0,40.0,18.0,27.0,21.0,37.0,31.0,33.0,53.0,27.0,74.0,null,23.0,74.0,23.0,26.0,0.0,0.0,24.0,28.0,17.0,26.0,39.0,17.0,15.0,37.0,38.0,33.0,16.0,41.0,7.0,20.0,44.0,42.0,29.0,22.0,21.0,21.0,21.0,13.0,16.0,36.0,36.0,26.0,28.0,14.0,29.0,19.0,51.0,64.0,41.0,null,16.0,20.0,31.0,38.0,59.0,18.0,33.0,33.0,49.0,4.0,0.0,0.0,24.0,52.0,50.0,31.0,25.0,62.0,49.0,24.0,33.0,20.0,46.0,26.0,52.0,28.0,39.0,29.0,19.0,15.0,33.0,47.0,34.0,26.0,15.0,null,27.0,38.0,21.0,1.0,38.0,0.0,32.0,27.0,48.0,22.0,28.0,19.0,37.0,46.0,26.0,16.0,0.0,0.0,26.0,13.0,23.0,70.0,21.0,40.0,18.0,23.0,15.0,28.0,45.0,18.0,23.0,36.0,25.0,28.0,29.0,31.0,14.0,31.0,39.0,17.0,56.0,36.0,21.0,48.0,53.0,5.0,21.0,50.0,18.0,28.0,28.0,18.0,37.0,19.0,27.0,37.0,43.0,17.0,21.0,55.0,14.0,24.0,26.0,19.0,20.0,14.0,19.0,15.0,25.0,24.0,22.0,26.0,23.0,20.0,53.0,55.0,22.0,35.0,40.0,22.0,22.0,21.0,64.0,40.0,8.0,25.0,19.0,24.0,11.0,31.0,46.0,31.0,17.0,16.0,57.0,28.0,27.0,28.0,26.0,17.0,36.0,24.0,18.0,20.0,10.0,null,23.0,36.0,27.0,54.0,38.0,29.0,37.0,36.0,18.0,28.0,61.0,19.0,29.0,37.0,29.0,38.0,41.0,23.0,48.0,0.0,46.0,36.0,42.0,null,16.0,43.0,40.0,22.0,39.0,37.0,28.0,29.0,14.0,15.0,17.0,4.0,24.0,null,22.0,38.0,30.0,29.0,26.0,41.0,50.0,34.0,24.0,24.0,45.0,35.0,23.0,23.0,21.0,19.0,24.0,2.0,0.0,20.0,35.0,34.0,26.0,26.0,32.0,25.0,30.0,57.0,23.0,32.0,27.0,20.0,21.0,19.0,16.0,18.0,18.0,22.0,null,35.0,8.0,5.0,40.0,31.0,9.0,56.0,39.0,18.0,45.0,33.0,2.0,1.0,2.0,16.0,18.0,28.0,45.0,24.0,35.0,16.0,40.0,5.0,29.0,31.0,27.0,34.0,15.0,43.0,30.0,61.0,48.0,17.0,19.0,29.0,2.0,24.0,19.0,34.0,19.0,39.0,26.0,53.0,18.0,null,45.0,32.0,18.0,48.0,24.0,52.0,55.0,43.0,24.0,8.0,18.0,38.0,18.0,23.0,26.0,21.0,45.0,24.0,44.0,20.0,47.0,16.0,28.0,8.0,20.0,22.0,42.0,23.0,30.0,18.0,35.0,42.0,46.0,29.0,35.0,48.0,24.0,38.0,51.0,77.0,22.0,38.0,42.0,55.0,7.0,null,25.0,15.0,13.0,23.0,null,33.0,26.0,67.0,27.0,33.0,18.0,36.0,18.0,51.0,54.0,33.0,18.0,57.0,23.0,24.0,20.0,32.0,21.0,null,41.0,27.0,49.0,18.0,34.0,73.0,40.0,63.0,21.0,21.0,23.0,31.0,41.0,15.0,36.0,24.0,27.0,24.0,19.0,25.0,39.0,15.0,31.0,25.0,57.0,null,18.0,33.0,23.0,34.0,38.0,21.0,31.0,13.0,54.0,13.0,18.0,null,43.0,56.0,63.0,9.0,9.0,0.0,16.0,42.0,9.0,22.0,47.0,30.0,29.0,null,22.0,19.0,31.0,17.0,38.0,13.0,36.0,0.0,21.0,18.0,36.0,27.0,5.0,18.0,25.0,14.0,23.0,2.0,1.0,7.0,6.0,56.0,4.0,65.0,36.0,25.0,41.0,20.0,18.0,15.0,23.0,29.0,33.0,14.0,55.0,30.0,21.0,26.0,33.0,18.0,9.0,0.0,19.0,18.0,38.0,42.0,28.0,37.0,29.0,42.0,18.0,34.0,34.0,18.0,24.0,24.0,56.0,2.0,12.0,37.0,60.0,55.0,20.0,28.0,28.0,37.0,18.0,14.0,29.0,51.0,45.0,45.0,41.0,21.0,28.0,0.0,46.0,41.0,13.0,55.0,20.0,21.0,49.0,27.0,0.0,22.0,17.0,23.0,44.0,29.0,19.0,3.0,29.0,19.0,22.0,33.0,null,50.0,54.0,43.0,17.0,26.0,44.0,51.0,29.0,4.0,40.0,27.0,8.0,3.0,11.0,24.0,25.0,28.0,25.0,27.0,25.0,0.0,58.0,3.0,4.0,2.0,34.0,5.0,3.0,46.0,22.0,8.0,17.0,4.0,12.0,40.0,16.0,41.0,8.0,14.0,2.0,59.0,45.0,52.0,33.0,51.0,38.0,14.0,42.0,28.0,34.0,21.0,30.0,null,26.0,23.0,20.0,59.0,37.0,32.0,37.0,27.0,42.0,29.0,2.0,10.0,0.0,21.0,8.0,null,27.0,13.0,49.0,38.0,21.0,22.0,14.0,24.0,24.0,34.0,1.0,null,26.0,null,32.0,2.0,10.0,49.0,14.0,29.0,25.0,36.0,22.0,21.0,36.0,54.0,30.0,0.0,1.0,42.0,47.0,25.0,18.0,22.0,27.0,24.0,null,22.0,60.0,38.0,23.0,21.0,55.0,20.0,50.0,22.0,21.0,26.0,36.0,46.0,26.0,24.0,14.0,46.0,15.0,30.0,null,38.0,48.0,31.0,41.0,43.0,23.0,48.0,47.0,19.0,25.0,28.0,16.0,45.0,31.0,19.0,21.0,null,22.0,23.0,54.0,0.0,4.0,23.0,19.0,34.0,18.0,40.0,58.0,39.0,23.0,11.0,43.0,29.0,36.0,13.0,54.0,45.0,33.0,46.0,15.0,35.0,23.0,15.0,27.0,15.0,27.0,16.0,37.0,45.0,58.0,null,38.0,28.0,47.0,41.0,28.0,23.0,24.0,58.0,36.0,24.0,56.0,15.0,19.0,27.0,47.0,37.0,39.0,20.0,20.0,38.0,46.0,13.0,24.0,32.0,null,44.0,19.0,30.0,23.0,4.0,0.0,17.0,44.0,31.0,41.0,33.0,43.0,43.0,36.0,19.0,24.0,17.0,23.0,17.0,18.0,34.0,13.0,66.0,27.0,19.0,55.0,40.0,23.0,7.0,12.0,37.0,22.0,25.0,46.0,37.0,50.0,28.0,26.0,28.0,23.0,23.0,34.0,65.0,20.0,29.0,30.0,3.0,40.0,32.0,31.0,13.0,29.0,28.0,19.0,24.0,22.0,13.0,21.0,24.0,47.0,27.0,18.0,36.0,68.0,31.0,28.0,36.0,17.0,13.0,30.0,58.0,43.0,20.0,29.0,15.0,30.0,33.0,25.0,62.0,41.0,27.0,18.0,27.0,19.0,37.0,24.0,29.0,44.0,19.0,39.0,63.0,39.0,41.0,27.0,56.0,22.0,26.0,24.0,18.0,13.0,32.0,30.0,25.0,55.0,19.0,24.0,32.0,24.0,32.0,36.0,28.0,52.0,29.0,23.0,32.0,35.0,41.0,16.0,33.0,6.0,15.0,38.0,56.0,4.0,21.0,22.0,37.0,6.0,22.0,26.0,22.0,20.0,null,24.0,25.0,48.0,24.0,3.0,24.0,25.0,1.0,20.0,22.0,28.0,17.0,28.0,47.0,34.0,29.0,14.0,36.0,40.0,49.0,51.0,41.0,44.0,47.0,22.0,13.0,18.0,28.0,22.0,50.0,47.0,55.0,21.0,39.0,21.0,37.0,31.0,23.0,28.0,23.0,20.0,28.0,40.0,54.0,18.0,27.0,43.0,25.0,13.0,15.0,37.0,32.0,19.0,21.0,27.0,39.0,22.0,25.0,34.0,54.0,42.0,36.0,43.0,23.0,57.0,54.0,51.0,32.0,33.0,8.0,44.0,27.0,48.0,13.0,5.0,18.0,23.0,23.0,35.0,25.0,32.0,0.0,5.0,16.0,18.0,29.0,55.0,41.0,38.0,27.0,55.0,75.0,50.0,23.0,37.0,33.0,45.0,47.0,13.0,29.0,19.0,30.0,39.0,31.0,29.0,16.0,18.0,38.0,50.0,21.0,22.0,20.0,36.0,23.0,31.0,39.0,50.0,40.0,28.0,38.0,37.0,59.0,41.0,33.0,54.0,40.0,43.0,26.0,65.0,22.0,28.0,35.0,30.0,28.0,23.0,24.0,16.0,18.0,20.0,29.0,29.0,21.0,2.0,43.0,28.0,31.0,23.0,26.0,43.0,28.0,24.0,27.0,13.0,27.0,2.0,24.0,2.0,50.0,27.0,26.0,31.0,28.0,4.0,9.0,0.0,35.0,3.0,25.0,63.0,34.0,35.0,26.0,39.0,34.0,36.0,46.0,26.0,28.0,20.0,35.0,11.0,14.0,4.0,11.0,31.0,15.0,39.0,7.0,24.0,22.0,26.0,53.0,40.0,19.0,54.0,21.0,25.0,48.0,41.0,13.0,57.0,25.0,48.0,34.0,16.0,0.0,15.0,37.0,37.0,49.0,18.0,25.0,null,43.0,20.0,54.0,30.0,37.0,30.0,20.0,20.0,24.0,44.0,0.0,15.0,19.0,20.0,20.0,34.0,17.0,20.0,42.0,28.0,43.0,55.0,21.0,17.0,54.0,25.0,null,45.0,31.0,19.0,30.0,24.0,null,42.0,29.0,37.0,64.0,24.0,23.0,22.0,23.0,21.0,37.0,17.0,35.0,33.0,37.0,32.0,31.0,null,34.0,9.0,25.0,29.0,1.0,30.0,64.0,31.0,27.0,null,25.0,28.0,32.0,36.0,26.0,36.0,37.0,45.0,22.0,24.0,23.0,31.0,37.0,28.0,23.0,14.0,40.0,42.0,53.0,46.0,28.0,25.0,34.0,58.0,31.0,24.0,52.0,25.0,17.0,27.0,29.0,45.0,28.0,25.0,57.0,68.0,26.0,52.0,36.0,41.0,14.0,16.0,24.0,62.0,26.0,45.0,41.0,36.0,13.0,48.0,null,22.0,39.0,45.0,42.0,33.0,27.0,47.0,20.0,32.0,54.0,23.0,9.0,17.0,26.0,38.0,24.0,30.0,2.0,4.0,9.0,30.0,5.0,2.0,32.0,53.0,46.0,2.0,1.0,11.0,3.0,33.0,3.0,38.0,21.0,41.0,64.0,27.0,41.0,19.0,42.0,30.0,38.0,63.0,17.0,2.0,19.0,37.0,50.0,38.0,28.0,35.0,27.0,15.0,29.0,65.0,27.0,0.0,21.0,19.0,39.0,60.0,30.0,30.0,40.0,26.0,38.0,22.0,null,65.0,61.0,20.0,24.0,16.0,35.0,21.0,23.0,17.0,24.0,27.0,26.0,26.0,20.0,28.0,37.0,23.0,49.0,50.0,4.0,32.0,44.0,20.0,30.0,29.0,22.0,35.0,0.0,6.0,38.0,34.0,34.0,null,53.0,28.0,31.0,56.0,36.0,30.0,32.0,44.0,54.0,24.0,44.0,25.0,35.0,29.0,22.0,22.0,22.0,18.0,22.0,52.0,0.0,1.0,34.0,6.0,22.0,31.0,31.0,20.0,25.0,23.0,53.0,32.0,27.0,48.0,37.0,21.0,29.0,46.0,19.0,22.0,54.0,43.0,18.0,36.0,20.0,63.0,50.0,13.0,43.0,16.0,31.0,0.0,10.0,10.0,55.0,18.0,7.0,1.0,44.0,27.0,20.0,49.0,22.0,21.0,26.0,65.0,20.0,0.0,16.0,22.0,0.0,21.0,30.0,14.0,45.0,22.0,21.0,37.0,29.0,29.0,21.0,52.0,36.0,59.0,21.0,25.0,23.0,36.0,38.0,0.0,19.0,30.0,23.0,55.0,44.0,30.0,39.0,19.0,24.0,37.0,24.0,17.0,17.0,14.0,13.0,35.0,32.0,18.0,21.0,25.0,36.0,20.0,22.0,27.0,null,38.0,23.0,21.0,18.0,20.0,28.0,57.0,10.0,23.0,22.0,24.0,52.0,31.0,15.0,40.0,18.0,28.0,40.0,32.0,35.0,52.0,34.0,46.0,23.0,44.0,59.0,42.0,18.0,29.0,15.0,19.0,49.0,19.0,36.0,59.0,24.0,4.0,20.0,24.0,31.0,23.0,3.0,22.0,20.0,0.0,13.0,47.0,51.0,22.0,3.0,4.0,16.0,24.0,1.0,31.0,34.0,20.0,19.0,19.0,35.0,3.0,36.0,20.0,null,58.0,56.0,27.0,25.0,39.0,43.0,42.0,24.0,19.0,32.0,32.0,61.0,64.0,21.0,26.0,35.0,43.0,3.0,56.0,45.0,25.0,12.0,2.0,46.0,32.0,20.0,24.0,28.0,12.0,11.0,16.0,29.0,24.0,22.0,21.0,38.0,35.0,79.0,22.0,42.0,34.0,52.0,43.0,30.0,35.0,18.0,27.0,46.0,15.0,44.0,20.0,35.0,19.0,47.0,26.0,24.0,23.0,26.0,5.0,35.0,18.0,32.0,13.0,15.0,18.0,41.0,36.0,33.0,41.0,47.0,32.0,36.0,13.0,34.0,24.0,16.0,12.0,24.0,35.0,26.0,39.0,18.0,23.0,29.0,38.0,31.0,49.0,17.0,23.0,15.0,11.0,30.0,42.0,21.0,41.0,14.0,27.0,29.0,25.0,54.0,46.0,18.0,22.0,29.0,26.0,36.0,19.0,56.0,20.0,10.0,14.0,27.0,35.0,13.0,21.0,22.0,29.0,32.0,20.0,44.0,22.0,39.0,19.0,0.0,0.0,12.0,7.0,32.0,11.0,18.0,49.0,61.0,7.0,25.0,51.0,56.0,31.0,16.0,29.0,17.0,47.0,25.0,28.0,32.0,56.0,25.0,13.0,41.0,28.0,25.0,11.0,20.0,24.0,41.0,29.0,59.0,31.0,16.0,65.0,21.0,27.0,37.0,42.0,36.0,24.0,null,19.0,26.0,19.0,26.0,35.0,24.0,9.0,40.0,23.0,4.0,20.0,21.0,4.0,19.0,18.0,26.0,13.0,16.0,14.0,40.0,34.0,21.0,29.0,40.0,16.0,37.0,41.0,16.0,39.0,30.0,40.0,63.0,32.0,47.0,23.0,23.0,19.0,44.0,29.0,21.0,23.0,26.0,47.0,20.0,48.0,4.0,25.0,0.0,29.0,21.0,20.0,34.0,9.0,12.0,13.0,27.0,34.0,18.0,16.0,43.0,0.0,20.0,45.0,35.0,21.0,14.0,46.0,22.0,2.0,3.0,28.0,60.0,48.0,18.0,31.0,26.0,41.0,26.0,29.0,24.0,25.0,0.0,30.0,18.0,32.0,28.0,21.0,25.0,47.0,null,8.0,24.0,30.0,24.0,13.0,16.0,23.0,16.0,29.0,46.0,13.0,22.0,29.0,46.0,24.0,33.0,38.0,57.0,null,38.0,28.0,25.0,22.0,33.0,35.0,24.0,31.0,16.0,28.0,8.0,20.0,26.0,43.0,70.0,17.0,14.0,21.0,37.0,15.0,20.0,36.0,14.0,21.0,28.0,20.0,26.0,25.0,29.0,39.0,18.0,37.0,28.0,18.0,30.0,35.0,26.0,0.0,42.0,36.0,31.0,27.0,25.0,32.0,14.0,16.0,51.0,21.0,31.0,9.0,7.0,3.0,2.0,7.0,18.0,33.0,23.0,13.0,32.0,27.0,23.0,25.0,18.0,23.0,31.0,32.0,22.0,38.0,21.0,28.0,38.0,20.0,23.0,48.0,15.0,30.0,40.0,36.0,20.0,17.0,38.0,38.0,14.0,null,21.0,18.0,26.0,35.0,46.0,13.0,39.0,49.0,28.0,27.0,21.0,29.0,27.0,38.0,18.0,35.0,37.0,60.0,31.0,4.0,34.0,46.0,18.0,38.0,29.0,13.0,26.0,30.0,42.0,36.0,23.0,34.0,26.0,31.0,48.0,10.0,27.0,32.0,24.0,20.0,48.0,35.0,14.0,28.0,null,42.0,8.0,30.0,44.0,40.0,38.0,22.0,32.0,16.0,33.0,38.0,23.0,16.0,16.0,11.0,22.0,43.0,20.0,22.0,0.0,30.0,18.0,0.0,41.0,39.0,37.0,26.0,49.0,28.0,13.0,64.0,24.0,18.0,18.0,25.0,19.0,33.0,null,50.0,30.0,44.0,52.0,7.0,30.0,27.0,24.0,13.0,61.0,32.0,17.0,36.0,16.0,21.0,24.0,28.0,null,13.0,39.0,24.0,38.0,20.0,21.0,27.0,49.0,6.0,41.0,33.0,6.0,35.0,46.0,31.0,32.0,31.0,20.0,57.0,37.0,21.0,43.0,49.0,17.0,29.0,36.0,37.0,17.0,45.0,20.0,24.0,28.0,15.0,53.0,51.0,14.0,1.0,26.0,20.0,23.0,22.0,22.0,13.0,28.0,40.0,21.0,35.0,22.0,37.0,21.0,50.0,27.0,20.0,15.0,25.0,31.0,null,18.0,2.0,27.0,0.0,22.0,null,56.0,28.0,42.0,20.0,27.0,29.0,36.0,23.0,64.0,19.0,1.0,49.0,0.0,18.0,39.0,37.0,44.0,43.0,33.0,20.0,0.0,4.0,20.0,50.0,47.0,17.0,26.0,21.0,20.0,26.0,null,34.0,11.0,0.0,28.0,33.0,22.0,28.0,11.0,60.0,43.0,27.0,37.0,23.0,57.0,29.0,28.0,42.0,43.0,26.0,72.0,49.0,29.0,18.0,26.0,19.0,18.0,14.0,44.0,34.0,18.0,36.0,27.0,35.0,52.0,22.0,34.0,37.0,22.0,26.0,14.0,53.0,17.0,30.0,65.0,19.0,36.0,3.0,6.0,4.0,21.0,8.0,35.0,18.0,34.0,45.0,31.0,14.0,23.0,61.0,54.0,28.0,46.0,32.0,49.0,20.0,25.0,19.0,28.0,68.0,16.0,19.0,49.0,15.0,26.0,22.0,23.0,31.0,27.0,28.0,20.0,43.0,22.0,27.0,35.0,37.0,24.0,18.0,15.0,28.0,24.0,39.0,35.0,52.0,48.0,27.0,50.0,24.0,26.0,24.0,15.0,42.0,51.0,43.0,31.0,14.0,31.0,33.0,21.0,13.0,29.0,22.0,22.0,18.0,35.0,20.0,18.0,66.0,33.0,48.0,38.0,62.0,19.0,44.0,25.0,15.0,20.0,34.0,23.0,45.0,39.0,33.0,14.0,26.0,47.0,null,28.0,22.0,17.0,16.0,9.0,15.0,33.0,61.0,19.0,61.0,42.0,4.0,12.0,0.0,19.0,null,29.0,59.0,20.0,70.0,3.0,37.0,58.0,44.0,24.0,20.0,24.0,27.0,28.0,24.0,29.0,25.0,20.0,34.0,28.0,null,23.0,39.0,35.0,18.0,20.0,42.0,32.0,50.0,23.0,19.0,29.0,35.0,18.0,24.0,23.0,51.0,42.0,19.0,23.0,19.0,22.0,25.0,31.0,23.0,22.0,55.0,40.0,24.0,25.0,42.0,33.0,54.0,22.0,22.0,19.0,47.0,23.0,61.0,21.0,46.0,36.0,15.0,33.0,35.0,21.0,21.0,43.0,34.0,47.0,27.0,46.0,46.0,40.0,59.0,45.0,19.0,32.0,39.0,40.0,44.0,26.0,22.0,2.0,18.0,53.0,22.0,46.0,28.0,31.0,36.0,46.0,0.0,3.0,12.0,2.0,41.0,11.0,41.0,17.0,21.0,21.0,27.0,54.0,15.0,39.0,31.0,28.0,21.0,29.0,45.0,44.0,12.0,18.0,20.0,43.0,46.0,53.0,21.0,23.0,9.0,19.0,52.0,31.0,62.0,27.0,23.0,28.0,27.0,58.0,24.0,27.0,33.0,28.0,39.0,27.0,36.0,64.0,41.0,null,27.0,null,22.0,23.0,40.0,2.0,0.0,27.0,0.0,17.0,45.0,62.0,14.0,24.0,51.0,49.0,52.0,35.0,22.0,17.0,47.0,25.0,11.0,17.0,41.0,55.0,29.0,19.0,23.0,32.0,27.0,25.0,24.0,30.0,50.0,51.0,27.0,35.0,48.0,27.0,19.0,18.0,25.0,41.0,62.0,30.0,6.0,15.0,34.0,34.0,23.0,51.0,63.0,42.0,19.0,5.0,2.0,15.0,36.0,32.0,19.0,26.0,33.0,38.0,22.0,32.0,30.0,51.0,29.0,16.0,32.0,24.0,23.0,46.0,49.0,17.0,35.0,43.0,20.0,24.0,28.0,19.0,39.0,34.0,29.0,14.0,null,30.0,null,32.0,7.0,34.0,47.0,19.0,52.0,19.0,18.0,32.0,21.0,22.0,13.0,25.0,33.0,27.0,21.0,17.0,15.0,58.0,29.0,34.0,28.0,29.0,25.0,23.0,22.0,38.0,38.0,0.0,null,0.0,37.0,2.0,40.0,47.0,34.0,43.0,21.0,43.0,33.0,28.0,57.0,null,46.0,19.0,27.0,2.0,0.0,25.0,47.0,38.0,24.0,24.0,25.0,29.0,44.0,20.0,23.0,26.0,20.0,27.0,23.0,33.0,30.0,32.0,19.0,41.0,50.0,36.0,21.0,45.0,26.0,44.0,24.0,15.0,58.0,13.0,19.0,25.0,24.0,20.0,34.0,13.0,null,39.0,0.0,10.0,9.0,34.0,11.0,0.0,24.0,16.0,42.0,41.0,36.0,27.0,32.0,11.0,26.0,28.0,25.0,5.0,null,13.0,30.0,15.0,0.0,49.0,52.0,15.0,40.0,0.0,32.0,15.0,26.0,31.0,8.0,18.0,3.0,44.0,15.0,27.0,22.0,2.0,32.0,16.0,34.0,32.0,28.0,27.0,35.0,25.0,24.0,61.0,28.0,29.0,41.0,20.0,18.0,28.0,18.0,33.0,35.0,68.0,19.0,33.0,55.0,15.0,23.0,23.0,15.0,49.0,33.0,26.0,26.0,18.0,17.0,39.0,8.0,46.0,32.0,19.0,36.0,28.0,39.0,16.0,7.0,1.0,30.0,44.0,28.0,29.0,41.0,13.0,18.0,27.0,26.0,24.0,26.0,27.0,58.0,54.0,18.0,13.0,13.0,28.0,57.0,32.0,32.0,21.0,34.0,33.0,36.0,50.0,28.0,56.0,42.0,39.0,13.0,28.0,55.0,36.0,null,37.0,50.0,27.0,23.0,16.0,33.0,46.0,26.0,24.0,26.0,2.0,33.0,32.0,3.0,2.0,6.0,null,0.0,4.0,58.0,22.0,51.0,37.0,17.0,21.0,null,null,31.0,43.0,null,15.0,18.0,33.0,31.0,41.0,22.0,40.0,49.0,14.0,22.0,22.0,25.0,42.0,16.0,12.0,18.0,33.0,14.0,36.0,23.0,24.0,4.0,null,18.0,21.0,27.0,34.0,28.0,35.0,16.0,36.0,30.0,4.0,19.0,3.0,51.0,null,45.0,18.0,23.0,15.0,34.0,47.0,27.0,26.0,25.0,34.0,27.0,39.0,31.0,4.0,19.0,59.0,19.0,25.0,28.0,37.0,43.0,18.0,36.0,14.0,42.0,29.0,23.0,16.0,8.0,20.0,50.0,38.0,39.0,33.0,30.0,40.0,22.0,52.0,26.0,19.0,33.0,33.0,20.0,28.0,10.0,23.0,28.0,23.0,54.0,57.0,24.0,37.0,59.0,53.0,22.0,18.0,17.0,25.0,18.0,20.0,24.0,33.0,34.0,24.0,37.0,23.0,32.0,13.0,23.0,23.0,27.0,47.0,38.0,28.0,21.0,null,64.0,43.0,21.0,36.0,22.0,24.0,21.0,57.0,46.0,42.0,16.0,40.0,3.0,8.0,3.0,35.0,12.0,null,47.0,19.0,46.0,28.0,5.0,7.0,3.0,1.0,7.0,60.0,34.0,28.0,64.0,13.0,15.0,65.0,53.0,58.0,19.0,null,16.0,48.0,33.0,31.0,44.0,40.0,34.0,21.0,20.0,9.0,33.0,2.0,53.0,0.0,38.0,21.0,31.0,7.0,12.0,0.0,17.0,55.0,2.0,32.0,16.0,0.0,29.0,25.0,39.0,42.0,0.0,14.0,29.0,54.0,35.0,null,18.0,14.0,53.0,48.0,21.0,44.0,25.0,0.0,27.0,40.0,44.0,36.0,3.0,9.0,1.0,17.0,47.0,null,33.0,16.0,30.0,18.0,26.0,19.0,28.0,35.0,40.0,26.0,45.0,18.0,54.0,13.0,26.0,16.0,37.0,17.0,16.0,18.0,21.0,24.0,22.0,41.0,15.0,36.0,23.0,31.0,19.0,23.0,47.0,40.0,34.0,2.0,8.0,0.0,18.0,11.0,18.0,19.0,2.0,25.0,0.0,27.0,34.0,19.0,22.0,22.0,52.0,30.0,65.0,31.0,51.0,21.0,27.0,31.0,28.0,29.0,23.0,11.0,23.0,34.0,20.0,20.0,16.0,18.0,20.0,20.0,27.0,55.0,53.0,37.0,55.0,24.0,24.0,49.0,17.0,39.0,5.0,10.0,1.0,16.0,51.0,5.0,19.0,0.0,20.0,0.0,1.0,38.0,40.0,18.0,36.0,23.0,42.0,37.0,24.0,12.0,2.0,28.0,44.0,26.0,36.0,28.0,14.0,14.0,28.0,27.0,21.0,24.0,18.0,24.0,8.0,36.0,32.0,19.0,12.0,21.0,13.0,20.0,35.0,23.0,17.0,29.0,27.0,22.0,26.0,1.0,7.0,78.0,24.0,26.0,50.0,16.0,57.0,29.0,27.0,42.0,28.0,18.0,38.0,32.0,21.0,6.0,27.0,32.0,23.0,29.0,22.0,31.0,0.0,2.0,null,28.0,20.0,28.0,42.0,32.0,19.0,20.0,20.0,21.0,32.0,16.0,21.0,12.0,21.0,31.0,18.0,35.0,44.0,13.0,21.0,37.0,null,34.0,21.0,38.0,31.0,61.0,20.0,39.0,29.0,68.0,38.0,31.0,41.0,29.0,25.0,27.0,21.0,30.0,40.0,59.0,35.0,41.0,36.0,58.0,27.0,24.0,50.0,22.0,26.0,16.0,56.0,25.0,13.0,53.0,21.0,18.0,38.0,20.0,24.0,56.0,47.0,21.0,null,26.0,34.0,35.0,35.0,49.0,24.0,62.0,25.0,42.0,25.0,21.0,17.0,41.0,50.0,20.0,15.0,29.0,20.0,35.0,22.0,43.0,54.0,15.0,38.0,44.0,34.0,15.0,24.0,29.0,19.0,27.0,26.0,46.0,64.0,17.0,45.0,27.0,29.0,18.0,26.0,39.0,59.0,20.0,17.0,47.0,29.0,16.0,48.0,39.0,28.0,12.0,24.0,30.0,34.0,37.0,47.0,0.0,23.0,0.0,20.0,35.0,18.0,17.0,18.0,53.0,35.0,48.0,68.0,27.0,28.0,37.0,35.0,31.0,14.0,1.0,4.0,30.0,11.0,45.0,29.0,32.0,15.0,25.0,25.0,60.0,24.0,35.0,36.0,22.0,32.0,57.0,30.0,46.0,28.0,26.0,55.0,66.0,20.0,31.0,13.0,50.0,21.0,25.0,46.0,0.0,2.0,36.0,19.0,35.0,41.0,22.0,25.0,24.0,37.0,5.0,null,41.0,44.0,23.0,28.0,27.0,40.0,27.0,17.0,32.0,29.0,29.0,41.0,48.0,27.0,14.0,32.0,47.0,14.0,37.0,33.0,33.0,44.0,37.0,18.0,33.0,21.0,38.0,16.0,58.0,41.0,28.0,28.0,31.0,27.0,7.0,25.0,34.0,21.0,29.0,23.0,31.0,50.0,25.0,25.0,23.0,46.0,0.0,53.0,25.0,30.0,18.0,20.0,54.0,20.0,32.0,31.0,55.0,16.0,0.0,3.0,33.0,45.0,6.0,33.0,14.0,24.0,47.0,37.0,14.0,44.0,11.0,15.0,39.0,15.0,60.0,49.0,23.0,9.0,0.0,17.0,42.0,16.0,0.0,26.0,56.0,26.0,41.0,27.0,31.0,40.0,40.0,15.0,50.0,42.0,50.0,39.0,27.0,20.0,30.0,16.0,36.0,68.0,22.0,36.0,3.0,28.0,32.0,10.0,0.0,9.0,37.0,31.0,31.0,43.0,15.0,58.0,30.0,24.0,49.0,73.0,14.0,50.0,12.0,2.0,49.0,32.0,null,33.0,23.0,23.0,43.0,36.0,26.0,29.0,21.0,30.0,23.0,13.0,22.0,25.0,52.0,22.0,31.0,23.0,35.0,26.0,14.0,39.0,8.0,29.0,15.0,48.0,9.0,25.0,13.0,25.0,27.0,32.0,20.0,40.0,18.0,21.0,38.0,62.0,23.0,48.0,27.0,32.0,53.0,26.0,46.0,32.0,40.0,27.0,28.0,29.0,37.0,0.0,12.0,25.0,null,3.0,9.0,27.0,59.0,24.0,16.0,16.0,46.0,25.0,39.0,15.0,16.0,35.0,43.0,7.0,29.0,60.0,49.0,50.0,40.0,49.0,18.0,29.0,56.0,29.0,29.0,22.0,24.0,23.0,28.0,19.0,32.0,37.0,26.0,43.0,25.0,11.0,4.0,32.0,15.0,17.0,37.0,20.0,47.0,16.0,8.0,22.0,39.0,57.0,29.0,null,70.0,13.0,49.0,25.0,19.0,15.0,37.0,null,28.0,22.0,26.0,25.0,19.0,20.0,35.0,37.0,37.0,13.0,20.0,65.0,29.0,0.0,4.0,19.0,17.0,28.0,28.0,21.0,45.0,21.0,20.0,38.0,24.0,22.0,44.0,41.0,21.0,26.0,54.0,19.0,32.0,null,26.0,28.0,21.0,38.0,43.0,12.0,25.0,27.0,22.0,20.0,24.0,34.0,42.0,24.0,28.0,29.0,31.0,29.0,14.0,16.0,16.0,27.0,null,23.0,16.0,30.0,24.0,36.0,25.0,29.0,21.0,26.0,30.0,31.0,20.0,null,33.0,35.0,46.0,63.0,37.0,23.0,5.0,16.0,20.0,49.0,3.0,41.0,null,14.0,26.0,51.0,36.0,16.0,18.0,48.0,24.0,19.0,21.0,24.0,21.0,13.0,39.0,27.0,23.0,43.0,19.0,30.0,52.0,35.0,16.0,21.0,45.0,22.0,null,0.0,63.0,56.0,40.0,1.0,24.0,36.0,13.0,13.0,37.0,44.0,32.0,57.0,26.0,62.0,2.0,1.0,24.0,1.0,63.0,20.0,15.0,32.0,24.0,32.0,36.0,13.0,29.0,27.0,30.0,27.0,14.0,32.0,33.0,35.0,21.0,57.0,42.0,20.0,18.0,49.0,23.0,24.0,24.0,23.0,24.0,26.0,28.0,17.0,20.0,22.0,23.0,22.0,29.0,null,31.0,37.0,44.0,34.0,23.0,18.0,18.0,23.0,18.0,22.0,10.0,null,31.0,48.0,51.0,25.0,32.0,8.0,49.0,28.0,3.0,null,31.0,11.0,27.0,33.0,32.0,20.0,33.0,65.0,18.0,19.0,33.0,null,31.0,37.0,19.0,18.0,47.0,26.0,25.0,38.0,53.0,38.0,28.0,46.0,18.0,14.0,32.0,44.0,28.0,2.0,28.0,27.0,29.0,14.0,14.0,17.0,35.0,36.0,51.0,54.0,37.0,37.0,24.0,null,38.0,28.0,0.0,16.0,25.0,22.0,24.0,37.0,21.0,53.0,0.0,2.0,64.0,24.0,40.0,32.0,54.0,30.0,37.0,20.0,22.0,57.0,34.0,51.0,47.0,22.0,36.0,16.0,60.0,39.0,18.0,30.0,45.0,30.0,21.0,0.0,51.0,22.0,26.0,10.0,21.0,14.0,null,43.0,22.0,22.0,23.0,25.0,35.0,30.0,37.0,21.0,36.0,13.0,22.0,36.0,17.0,38.0,34.0,20.0,17.0,36.0,52.0,32.0,35.0,null,36.0,36.0,21.0,33.0,40.0,24.0,35.0,29.0,33.0,51.0,10.0,41.0,26.0,39.0,14.0,28.0,18.0,41.0,33.0,26.0,31.0,63.0,30.0,27.0,47.0,37.0,14.0,27.0,61.0,39.0,22.0,30.0,26.0,25.0,42.0,33.0,60.0,16.0,50.0,22.0,15.0,27.0,58.0,48.0,36.0,60.0,46.0,58.0,40.0,3.0,23.0,21.0,29.0,23.0,41.0,20.0,24.0,21.0,55.0,21.0,42.0,40.0,30.0,26.0,43.0,20.0,19.0,40.0,17.0,62.0,32.0,37.0,40.0,25.0,17.0,46.0,38.0,43.0,28.0,31.0,35.0,19.0,24.0,20.0,16.0,45.0,19.0,23.0,19.0,32.0,41.0,30.0,41.0,7.0,39.0,47.0,21.0,29.0,19.0,50.0,28.0,38.0,24.0,31.0,38.0,26.0,28.0,45.0,47.0,60.0,42.0,43.0,17.0,17.0,20.0,18.0,24.0,25.0,20.0,23.0,48.0,26.0,36.0,27.0,41.0,21.0,71.0,64.0,33.0,24.0,35.0,13.0,11.0,null,43.0,36.0,22.0,56.0,34.0,46.0,43.0,25.0,26.0,14.0,63.0,29.0,45.0,15.0,19.0,53.0,45.0,41.0,68.0,5.0,27.0,20.0,54.0,18.0,45.0,26.0,37.0,30.0,51.0,3.0,3.0,19.0,19.0,6.0,4.0,23.0,37.0,18.0,29.0,25.0,52.0,24.0,0.0,25.0,26.0,32.0,58.0,44.0,41.0,24.0,41.0,23.0,27.0,61.0,18.0,18.0,null,15.0,12.0,40.0,19.0,18.0,48.0,37.0,35.0,29.0,54.0,null,22.0,18.0,26.0,19.0,22.0,17.0,18.0,39.0,37.0,17.0,25.0,9.0,15.0,19.0,18.0,50.0,14.0,19.0,33.0,23.0,39.0,14.0,14.0,45.0,22.0,36.0,19.0,59.0,31.0,31.0,39.0,28.0,19.0,29.0,0.0,15.0,18.0,49.0,36.0,40.0,56.0,67.0,44.0,17.0,27.0,23.0,28.0,54.0,26.0,40.0,39.0,40.0,20.0,18.0,17.0,35.0,31.0,40.0,50.0,21.0,29.0,63.0,19.0,36.0,48.0,33.0,28.0,39.0,27.0,58.0,44.0,23.0,21.0,53.0,14.0,17.0,25.0,44.0,24.0,24.0,24.0,0.0,7.0,3.0,18.0,4.0,40.0,16.0,25.0,10.0,40.0,19.0,15.0,24.0,21.0,29.0,37.0,49.0,42.0,54.0,33.0,27.0,53.0,28.0,24.0,20.0,0.0,24.0,28.0,42.0,32.0,36.0,40.0,30.0,34.0,37.0,41.0,25.0,39.0,0.0,54.0,16.0,0.0,13.0,46.0,23.0,18.0,27.0,24.0,27.0,24.0,25.0,30.0,19.0,18.0,49.0,64.0,26.0,53.0,27.0,27.0,25.0,33.0,27.0,20.0,39.0,27.0,19.0,22.0,3.0,24.0,41.0,18.0,63.0,19.0,39.0,null,41.0,44.0,39.0,29.0,37.0,41.0,18.0,null,55.0,21.0,28.0,43.0,32.0,23.0,5.0,14.0,24.0,22.0,14.0,20.0,17.0,20.0,22.0,15.0,67.0,28.0,57.0,21.0,34.0,17.0,33.0,33.0,28.0,18.0,28.0,13.0,38.0,39.0,18.0,43.0,32.0,29.0,45.0,25.0,64.0,18.0,44.0,15.0,21.0,33.0,3.0,19.0,37.0,24.0,26.0,26.0,26.0,22.0,26.0,27.0,27.0,37.0,22.0,24.0,23.0,18.0,28.0,4.0,23.0,2.0,46.0,0.0,16.0,19.0,34.0,34.0,24.0,28.0,44.0,35.0,20.0,18.0,43.0,48.0,46.0,75.0,24.0,34.0,29.0,46.0,22.0,42.0,46.0,15.0,42.0,31.0,9.0,34.0,21.0,16.0,40.0,23.0,6.0,17.0,37.0,30.0,32.0,41.0,43.0,17.0,37.0,18.0,1.0,38.0,25.0,6.0,1.0,7.0,24.0,19.0,26.0,49.0,18.0,25.0,46.0,33.0,10.0,38.0,23.0,26.0,16.0,29.0,35.0,58.0,17.0,16.0,2.0,13.0,18.0,29.0,21.0,43.0,69.0,40.0,1.0,36.0,60.0,17.0,49.0,23.0,39.0,53.0,26.0,31.0,48.0,26.0,25.0,25.0,30.0,null,23.0,24.0,47.0,37.0,24.0,21.0,42.0,39.0,28.0,32.0,31.0,13.0,41.0,21.0,null,9.0,36.0,30.0,27.0,40.0,41.0,16.0,36.0,15.0,39.0,21.0,24.0,28.0,47.0,55.0,null,22.0,26.0,62.0,53.0,29.0,21.0,18.0,34.0,19.0,14.0,21.0,55.0,18.0,33.0,35.0,31.0,27.0,null,13.0,24.0,22.0,32.0,18.0,53.0,4.0,24.0,23.0,1.0,18.0,21.0,40.0,49.0,25.0,21.0,40.0,47.0,25.0,36.0,39.0,26.0,0.0,14.0,7.0,50.0,22.0,17.0,35.0,22.0,26.0,24.0,59.0,24.0,17.0,28.0,38.0,2.0,36.0,32.0,15.0,54.0,18.0,22.0,23.0,14.0,26.0,73.0,29.0,29.0,12.0,27.0,31.0,26.0,35.0,25.0,40.0,18.0,52.0,35.0,51.0,35.0,14.0,null,26.0,21.0,45.0,29.0,39.0,37.0,22.0,22.0,30.0,1.0,0.0,9.0,18.0,29.0,52.0,27.0,54.0,28.0,65.0,26.0,29.0,20.0,39.0,37.0,20.0,40.0,0.0,33.0,23.0,32.0,20.0,60.0,53.0,26.0,35.0,19.0,43.0,29.0,20.0,19.0,21.0,39.0,12.0,20.0,18.0,31.0,35.0,44.0,62.0,23.0,23.0,19.0,29.0,31.0,33.0,41.0,60.0,41.0,69.0,44.0,18.0,26.0,30.0,34.0,18.0,49.0,71.0,19.0,23.0,31.0,40.0,28.0,17.0,24.0,54.0,21.0,2.0,20.0,20.0,36.0,25.0,58.0,37.0,26.0,45.0,44.0,24.0,13.0,4.0,24.0,27.0,39.0,23.0,4.0,0.0,22.0,27.0,22.0,26.0,60.0,18.0,20.0,25.0,24.0,38.0,18.0,45.0,13.0,28.0,5.0,20.0,2.0,42.0,0.0,18.0,26.0,3.0,49.0,19.0,19.0,15.0,53.0,0.0,39.0,45.0,10.0,1.0,9.0,40.0,26.0,18.0,47.0,31.0,null,23.0,32.0,32.0,21.0,null,22.0,18.0,28.0,38.0,46.0,44.0,38.0,28.0,31.0,18.0,18.0,4.0,0.0,0.0,23.0,35.0,43.0,18.0,18.0,18.0,49.0,19.0,22.0,4.0,0.0,null,39.0,36.0,53.0,23.0,24.0,25.0,30.0,20.0,40.0,18.0,57.0,47.0,26.0,29.0,32.0,30.0,18.0,49.0,33.0,18.0,29.0,34.0,43.0,18.0,31.0,15.0,3.0,37.0,1.0,27.0,15.0,33.0,65.0,19.0,30.0,37.0,15.0,19.0,20.0,19.0,21.0,20.0,18.0,27.0,23.0,25.0,72.0,35.0,29.0,11.0,7.0,null,28.0,41.0,null,19.0,8.0,4.0,38.0,21.0,18.0,10.0,29.0,25.0,40.0,19.0,38.0,19.0,0.0,4.0,29.0,46.0,32.0,26.0,23.0,32.0,31.0,34.0,45.0,61.0,21.0,null,15.0,14.0,18.0,39.0,62.0,40.0,21.0,12.0,27.0,28.0,0.0,17.0,23.0,6.0,29.0,41.0,27.0,34.0,36.0,30.0,30.0,29.0,21.0,21.0,18.0,11.0,65.0,25.0,0.0,24.0,19.0,23.0,45.0,52.0,55.0,24.0,31.0,18.0,22.0,39.0,19.0,33.0,14.0,30.0,30.0,21.0,45.0,17.0,39.0,22.0,37.0,48.0,33.0,37.0,27.0,29.0,38.0,16.0,18.0,null,47.0,15.0,13.0,19.0,17.0,31.0,19.0,25.0,26.0,25.0,2.0,7.0,2.0,19.0,1.0,4.0,49.0,61.0,57.0,52.0,22.0,37.0,15.0,28.0,40.0,13.0,24.0,25.0,25.0,43.0,46.0,3.0,3.0,3.0,8.0,57.0,11.0,20.0,27.0,20.0,14.0,24.0,21.0,33.0,32.0,22.0,15.0,41.0,31.0,35.0,48.0,15.0,37.0,21.0,34.0,19.0,52.0,15.0,24.0,45.0,13.0,18.0,19.0,20.0,20.0,27.0,22.0,17.0,23.0,29.0,24.0,26.0,36.0,25.0,36.0,32.0,16.0,32.0,48.0,25.0,46.0,32.0,50.0,31.0,27.0,52.0,34.0,40.0,36.0,19.0,33.0,23.0,57.0,24.0,19.0,54.0,28.0,26.0,43.0,39.0,21.0,24.0,35.0,61.0,21.0,14.0,38.0,23.0,31.0,66.0,56.0,21.0,49.0,21.0,27.0,23.0,27.0,49.0,38.0,60.0,47.0,29.0,19.0,32.0,22.0,35.0,28.0,22.0,42.0,37.0,31.0,33.0,48.0,31.0,18.0,44.0,22.0,18.0,48.0,2.0,0.0,43.0,51.0,48.0,51.0,20.0,41.0,27.0,56.0,26.0,21.0,null,23.0,28.0,40.0,39.0,16.0,20.0,24.0,45.0,33.0,19.0,15.0,18.0,21.0,37.0,53.0,19.0,17.0,58.0,18.0,25.0,39.0,40.0,27.0,3.0,18.0,18.0,29.0,22.0,34.0,19.0,26.0,33.0,34.0,18.0,40.0,53.0,8.0,54.0,29.0,56.0,21.0,25.0,33.0,22.0,50.0,24.0,25.0,59.0,26.0,19.0,37.0,22.0,44.0,25.0,23.0,6.0,39.0,26.0,14.0,3.0,21.0,24.0,18.0,37.0,21.0,67.0,28.0,13.0,26.0,33.0,18.0,24.0,26.0,21.0,27.0,15.0,24.0,31.0,10.0,23.0,50.0,13.0,43.0,20.0,21.0,18.0,16.0,47.0,35.0,15.0,46.0,6.0,26.0,49.0,28.0,37.0,17.0,38.0,18.0,55.0,28.0,25.0,17.0,22.0,4.0,3.0,21.0,24.0,50.0,3.0,19.0,22.0,20.0,18.0,27.0,29.0,23.0,48.0,32.0,55.0,49.0,15.0,50.0,35.0,29.0,38.0,29.0,39.0,49.0,39.0,19.0,19.0,14.0,40.0,40.0,20.0,6.0,41.0,37.0,31.0,8.0,55.0,16.0,29.0,40.0,27.0,21.0,25.0,44.0,34.0,1.0,1.0,42.0,18.0,21.0,24.0,null,18.0,27.0,13.0,10.0,8.0,40.0,35.0,13.0,19.0,44.0,36.0,29.0,28.0,36.0,24.0,14.0,50.0,20.0,38.0,33.0,54.0,20.0,23.0,65.0,51.0,36.0,38.0,28.0,32.0,55.0,23.0,38.0,18.0,32.0,44.0,62.0,66.0,20.0,19.0,null,25.0,20.0,18.0,20.0,14.0,49.0,49.0,19.0,53.0,31.0,18.0,24.0,35.0,27.0,38.0,23.0,22.0,38.0,28.0,25.0,45.0,22.0,30.0,25.0,24.0,44.0,6.0,0.0,14.0,37.0,15.0,0.0,17.0,58.0,15.0,53.0,29.0,24.0,40.0,21.0,30.0,20.0,20.0,18.0,36.0,20.0,4.0,59.0,20.0,4.0,23.0,25.0,20.0,22.0,6.0,14.0,0.0,4.0,37.0,14.0,34.0,3.0,18.0,27.0,19.0,37.0,29.0,37.0,32.0,22.0,38.0,24.0,63.0,23.0,41.0,20.0,48.0,44.0,15.0,29.0,64.0,19.0,28.0,44.0,13.0,45.0,25.0,19.0,29.0,21.0,13.0,25.0,46.0,37.0,19.0,29.0,21.0,13.0,15.0,42.0,null,26.0,19.0,18.0,50.0,28.0,24.0,31.0,19.0,20.0,23.0,19.0,27.0,16.0,76.0,41.0,24.0,12.0,28.0,36.0,20.0,7.0,21.0,33.0,32.0,34.0,38.0,null,28.0,25.0,24.0,18.0,24.0,30.0,38.0,39.0,31.0,33.0,15.0,23.0,24.0,44.0,22.0,28.0,34.0,8.0,26.0,29.0,58.0,4.0,1.0,17.0,27.0,24.0,16.0,28.0,23.0,33.0,24.0,6.0,19.0,31.0,19.0,18.0,35.0,32.0,19.0,24.0,33.0,20.0,27.0,26.0,28.0,19.0,24.0,52.0,23.0,23.0,25.0,22.0,35.0,24.0,24.0,26.0,37.0,14.0,36.0,0.0,17.0,18.0,43.0,21.0,34.0,57.0,18.0,73.0,31.0,25.0,20.0,24.0,null,21.0,22.0,39.0,26.0,32.0,1.0,7.0,4.0,21.0,12.0,28.0,0.0,18.0,52.0,18.0,51.0,21.0,28.0,34.0,13.0,35.0,27.0,35.0,51.0,53.0,29.0,41.0,47.0,22.0,19.0,22.0,25.0,null,17.0,0.0,5.0,30.0,17.0,53.0,9.0,17.0,16.0,29.0,29.0,46.0,27.0,39.0,15.0,30.0,41.0,47.0,32.0,15.0,23.0,20.0,33.0,18.0,31.0,25.0,19.0,32.0,45.0,43.0,21.0,48.0,0.0,29.0,41.0,23.0,48.0,18.0,30.0,26.0,18.0,27.0,58.0,22.0,17.0,28.0,27.0,51.0,37.0,14.0,43.0,27.0,60.0,33.0,39.0,21.0,21.0,28.0,30.0,42.0,25.0,25.0,25.0,54.0,41.0,36.0,33.0,36.0,55.0,16.0,28.0,26.0,42.0,30.0,31.0,22.0,26.0,25.0,44.0,29.0,22.0,23.0,30.0,23.0,13.0,53.0,0.0,27.0,27.0,10.0,2.0,5.0,24.0,32.0,22.0,22.0,44.0,55.0,22.0,8.0,15.0,1.0,9.0,48.0,16.0,27.0,3.0,25.0,70.0,30.0,57.0,42.0,14.0,43.0,34.0,21.0,32.0,21.0,25.0,25.0,38.0,36.0,44.0,37.0,47.0,38.0,28.0,38.0,53.0,26.0,13.0,64.0,16.0,13.0,55.0,26.0,23.0,55.0,50.0,26.0,36.0,33.0,21.0,41.0,33.0,23.0,31.0,28.0,13.0,null,35.0,25.0,19.0,56.0,18.0,22.0,34.0,11.0,37.0,22.0,45.0,19.0,39.0,28.0,36.0,1.0,10.0,12.0,31.0,12.0,3.0,30.0,41.0,19.0,38.0,36.0,0.0,20.0,23.0,35.0,36.0,41.0,38.0,33.0,54.0,33.0,54.0,32.0,24.0,53.0,26.0,31.0,18.0,39.0,37.0,35.0,34.0,28.0,43.0,2.0,24.0,18.0,21.0,24.0,35.0,53.0,32.0,44.0,33.0,40.0,31.0,23.0,44.0,41.0,31.0,30.0,33.0,30.0,26.0,22.0,37.0,15.0,52.0,35.0,40.0,60.0,24.0,31.0,43.0,9.0,51.0,25.0,20.0,22.0,21.0,50.0,24.0,45.0,22.0,7.0,11.0,1.0,0.0,8.0,36.0,2.0,0.0,22.0,41.0,49.0,30.0,37.0,14.0,30.0,62.0,13.0,32.0,33.0,38.0,29.0,25.0,26.0,19.0,16.0,61.0,28.0,13.0,44.0,22.0,30.0,21.0,20.0,31.0,33.0,26.0,21.0,23.0,0.0,32.0,30.0,41.0,18.0,26.0,32.0,44.0],\"xaxis\":\"x2\",\"yaxis\":\"y2\",\"type\":\"box\"},{\"alignmentgroup\":\"True\",\"bingroup\":\"x\",\"hovertemplate\":\"type=Test<br>Age=%{x}<br>count=%{y}<extra></extra>\",\"legendgroup\":\"Test\",\"marker\":{\"color\":\"#DE3163\",\"pattern\":{\"shape\":\"\"}},\"name\":\"Test\",\"nbinsx\":100,\"offsetgroup\":\"Test\",\"orientation\":\"v\",\"showlegend\":true,\"x\":[27.0,19.0,31.0,38.0,20.0,31.0,21.0,20.0,23.0,24.0,19.0,45.0,44.0,46.0,21.0,27.0,20.0,44.0,29.0,40.0,30.0,14.0,31.0,27.0,66.0,24.0,19.0,36.0,21.0,18.0,26.0,19.0,48.0,23.0,24.0,19.0,24.0,27.0,6.0,33.0,23.0,30.0,null,1.0,20.0,17.0,34.0,24.0,29.0,20.0,5.0,22.0,16.0,7.0,36.0,26.0,40.0,29.0,2.0,23.0,0.0,30.0,56.0,36.0,56.0,19.0,39.0,38.0,null,35.0,26.0,31.0,38.0,27.0,30.0,22.0,29.0,0.0,8.0,3.0,27.0,9.0,29.0,18.0,22.0,24.0,25.0,36.0,14.0,24.0,26.0,29.0,40.0,36.0,46.0,42.0,23.0,19.0,25.0,22.0,35.0,39.0,42.0,35.0,29.0,20.0,25.0,36.0,39.0,23.0,19.0,50.0,41.0,19.0,20.0,19.0,38.0,32.0,44.0,18.0,49.0,23.0,31.0,55.0,60.0,20.0,34.0,14.0,26.0,19.0,25.0,42.0,18.0,50.0,26.0,47.0,35.0,58.0,20.0,28.0,12.0,20.0,22.0,31.0,24.0,17.0,null,18.0,48.0,38.0,33.0,20.0,22.0,52.0,15.0,25.0,14.0,null,16.0,48.0,36.0,19.0,43.0,32.0,54.0,33.0,21.0,33.0,28.0,23.0,26.0,41.0,2.0,21.0,70.0,20.0,31.0,8.0,5.0,45.0,37.0,24.0,55.0,18.0,36.0,59.0,61.0,46.0,29.0,18.0,20.0,28.0,26.0,32.0,18.0,50.0,47.0,15.0,35.0,49.0,32.0,63.0,54.0,21.0,38.0,50.0,32.0,33.0,30.0,28.0,22.0,null,37.0,59.0,31.0,25.0,38.0,37.0,44.0,28.0,45.0,53.0,21.0,33.0,18.0,37.0,34.0,46.0,18.0,19.0,4.0,0.0,12.0,7.0,34.0,10.0,0.0,14.0,27.0,21.0,37.0,29.0,17.0,17.0,35.0,34.0,17.0,39.0,56.0,35.0,17.0,29.0,15.0,37.0,36.0,36.0,18.0,61.0,45.0,21.0,65.0,27.0,13.0,32.0,17.0,44.0,21.0,16.0,41.0,40.0,16.0,17.0,40.0,37.0,53.0,42.0,31.0,18.0,51.0,20.0,19.0,22.0,41.0,28.0,0.0,42.0,20.0,25.0,22.0,25.0,45.0,19.0,16.0,18.0,38.0,27.0,36.0,21.0,1.0,25.0,3.0,7.0,0.0,32.0,5.0,79.0,19.0,30.0,13.0,53.0,40.0,32.0,31.0,63.0,18.0,21.0,14.0,41.0,40.0,58.0,22.0,13.0,16.0,13.0,15.0,42.0,24.0,19.0,null,29.0,15.0,38.0,49.0,20.0,null,19.0,46.0,21.0,29.0,null,44.0,19.0,29.0,25.0,41.0,19.0,33.0,25.0,44.0,21.0,32.0,33.0,32.0,19.0,21.0,23.0,31.0,22.0,74.0,53.0,40.0,23.0,36.0,18.0,29.0,48.0,34.0,34.0,27.0,44.0,0.0,1.0,18.0,23.0,26.0,46.0,41.0,25.0,50.0,28.0,17.0,29.0,19.0,34.0,28.0,47.0,28.0,38.0,22.0,18.0,21.0,40.0,67.0,39.0,19.0,28.0,29.0,22.0,23.0,41.0,25.0,43.0,54.0,14.0,69.0,24.0,37.0,28.0,59.0,20.0,23.0,59.0,20.0,36.0,43.0,9.0,32.0,24.0,14.0,45.0,23.0,59.0,28.0,61.0,52.0,5.0,51.0,26.0,44.0,46.0,32.0,17.0,21.0,52.0,52.0,14.0,21.0,42.0,28.0,26.0,7.0,14.0,3.0,26.0,54.0,55.0,16.0,38.0,48.0,13.0,20.0,18.0,45.0,5.0,42.0,50.0,21.0,22.0,23.0,22.0,21.0,24.0,24.0,42.0,19.0,32.0,35.0,19.0,55.0,35.0,63.0,66.0,45.0,20.0,21.0,51.0,13.0,24.0,28.0,52.0,32.0,23.0,37.0,35.0,46.0,33.0,34.0,51.0,null,27.0,22.0,33.0,31.0,16.0,6.0,18.0,30.0,24.0,57.0,24.0,23.0,40.0,21.0,17.0,25.0,34.0,18.0,8.0,14.0,16.0,22.0,21.0,23.0,26.0,18.0,72.0,18.0,24.0,36.0,13.0,19.0,28.0,2.0,5.0,25.0,45.0,59.0,6.0,36.0,40.0,36.0,31.0,19.0,13.0,31.0,22.0,52.0,22.0,34.0,23.0,14.0,30.0,75.0,28.0,61.0,25.0,21.0,null,28.0,41.0,25.0,28.0,0.0,19.0,22.0,2.0,35.0,42.0,46.0,26.0,19.0,11.0,11.0,17.0,23.0,37.0,18.0,48.0,18.0,18.0,32.0,26.0,26.0,55.0,19.0,65.0,28.0,24.0,52.0,67.0,34.0,23.0,26.0,28.0,9.0,1.0,1.0,58.0,59.0,54.0,8.0,28.0,19.0,23.0,47.0,17.0,33.0,43.0,28.0,32.0,13.0,18.0,16.0,6.0,27.0,29.0,32.0,23.0,33.0,51.0,41.0,20.0,0.0,13.0,13.0,13.0,24.0,null,32.0,24.0,27.0,24.0,34.0,26.0,22.0,10.0,28.0,5.0,null,29.0,17.0,18.0,35.0,42.0,35.0,42.0,33.0,20.0,2.0,2.0,43.0,10.0,26.0,42.0,24.0,32.0,23.0,null,15.0,15.0,null,15.0,13.0,33.0,47.0,27.0,18.0,10.0,40.0,28.0,23.0,23.0,41.0,20.0,29.0,17.0,21.0,25.0,25.0,28.0,24.0,56.0,36.0,20.0,50.0,29.0,34.0,40.0,20.0,36.0,25.0,25.0,17.0,42.0,47.0,23.0,null,39.0,43.0,23.0,46.0,31.0,37.0,48.0,28.0,38.0,31.0,35.0,28.0,29.0,19.0,null,44.0,59.0,23.0,48.0,49.0,15.0,30.0,20.0,20.0,6.0,1.0,1.0,2.0,8.0,29.0,43.0,73.0,48.0,24.0,20.0,17.0,42.0,22.0,54.0,41.0,0.0,20.0,54.0,73.0,17.0,21.0,60.0,50.0,17.0,18.0,25.0,57.0,46.0,71.0,21.0,38.0,23.0,24.0,25.0,35.0,21.0,22.0,60.0,29.0,49.0,27.0,23.0,23.0,33.0,35.0,27.0,44.0,18.0,31.0,21.0,27.0,36.0,33.0,30.0,29.0,32.0,31.0,27.0,25.0,38.0,47.0,24.0,46.0,16.0,30.0,0.0,60.0,50.0,37.0,27.0,29.0,null,22.0,null,null,14.0,null,20.0,19.0,14.0,69.0,26.0,25.0,36.0,34.0,4.0,1.0,24.0,21.0,25.0,44.0,22.0,64.0,32.0,42.0,29.0,4.0,17.0,21.0,52.0,29.0,35.0,23.0,27.0,8.0,20.0,16.0,35.0,44.0,19.0,2.0,30.0,28.0,44.0,20.0,22.0,14.0,20.0,45.0,19.0,42.0,23.0,43.0,20.0,11.0,20.0,21.0,17.0,32.0,24.0,4.0,4.0,36.0,27.0,46.0,24.0,3.0,21.0,42.0,26.0,38.0,36.0,28.0,62.0,22.0,18.0,12.0,32.0,11.0,47.0,48.0,38.0,19.0,22.0,21.0,37.0,28.0,15.0,57.0,22.0,22.0,29.0,0.0,44.0,22.0,25.0,64.0,21.0,35.0,15.0,48.0,22.0,42.0,13.0,35.0,27.0,21.0,22.0,33.0,25.0,37.0,36.0,47.0,34.0,29.0,39.0,27.0,35.0,0.0,33.0,24.0,19.0,33.0,19.0,16.0,47.0,40.0,19.0,27.0,31.0,24.0,31.0,41.0,16.0,27.0,11.0,28.0,51.0,1.0,56.0,null,57.0,13.0,32.0,28.0,12.0,35.0,33.0,14.0,26.0,25.0,27.0,23.0,45.0,50.0,24.0,54.0,19.0,19.0,28.0,28.0,39.0,20.0,30.0,35.0,36.0,33.0,30.0,25.0,45.0,23.0,51.0,31.0,55.0,24.0,57.0,24.0,44.0,0.0,15.0,49.0,24.0,47.0,26.0,null,4.0,30.0,23.0,23.0,4.0,3.0,42.0,22.0,21.0,28.0,35.0,20.0,22.0,30.0,0.0,22.0,15.0,4.0,19.0,29.0,17.0,21.0,20.0,24.0,6.0,9.0,21.0,46.0,20.0,27.0,23.0,28.0,53.0,41.0,32.0,27.0,31.0,20.0,19.0,55.0,35.0,70.0,22.0,46.0,16.0,14.0,13.0,44.0,15.0,32.0,26.0,42.0,44.0,15.0,35.0,35.0,24.0,19.0,37.0,31.0,39.0,35.0,26.0,26.0,0.0,8.0,44.0,20.0,56.0,31.0,16.0,29.0,22.0,39.0,25.0,43.0,37.0,24.0,53.0,19.0,24.0,31.0,27.0,57.0,26.0,15.0,19.0,27.0,23.0,6.0,15.0,2.0,21.0,0.0,18.0,46.0,43.0,45.0,40.0,44.0,27.0,55.0,24.0,27.0,33.0,35.0,33.0,34.0,37.0,46.0,45.0,14.0,null,56.0,24.0,19.0,51.0,24.0,23.0,21.0,6.0,11.0,4.0,0.0,7.0,24.0,32.0,43.0,24.0,49.0,21.0,29.0,25.0,27.0,14.0,67.0,17.0,44.0,52.0,14.0,17.0,19.0,36.0,19.0,25.0,39.0,32.0,75.0,37.0,25.0,33.0,25.0,24.0,22.0,22.0,36.0,4.0,61.0,0.0,15.0,42.0,27.0,5.0,32.0,38.0,21.0,23.0,34.0,28.0,23.0,14.0,60.0,78.0,6.0,17.0,41.0,40.0,47.0,23.0,41.0,60.0,46.0,19.0,18.0,0.0,28.0,30.0,9.0,0.0,4.0,22.0,32.0,7.0,19.0,34.0,24.0,17.0,31.0,42.0,14.0,27.0,21.0,24.0,34.0,35.0,43.0,25.0,19.0,25.0,22.0,23.0,42.0,40.0,71.0,18.0,34.0,4.0,18.0,22.0,38.0,33.0,27.0,18.0,34.0,66.0,47.0,35.0,23.0,36.0,36.0,35.0,15.0,39.0,48.0,47.0,21.0,31.0,13.0,32.0,22.0,40.0,15.0,33.0,28.0,17.0,20.0,42.0,18.0,27.0,32.0,19.0,9.0,36.0,21.0,40.0,42.0,40.0,22.0,15.0,38.0,15.0,24.0,22.0,24.0,25.0,22.0,57.0,25.0,21.0,41.0,27.0,18.0,61.0,9.0,1.0,27.0,20.0,2.0,0.0,25.0,22.0,32.0,28.0,43.0,28.0,32.0,54.0,27.0,30.0,25.0,39.0,14.0,8.0,22.0,27.0,43.0,16.0,40.0,48.0,25.0,29.0,60.0,22.0,37.0,35.0,23.0,24.0,15.0,18.0,14.0,39.0,12.0,43.0,45.0,24.0,52.0,18.0,38.0,null,28.0,19.0,45.0,27.0,15.0,22.0,23.0,32.0,15.0,30.0,60.0,50.0,45.0,24.0,22.0,20.0,19.0,40.0,14.0,18.0,20.0,35.0,24.0,30.0,44.0,42.0,3.0,19.0,69.0,50.0,15.0,18.0,25.0,15.0,62.0,19.0,29.0,28.0,25.0,22.0,35.0,61.0,26.0,19.0,2.0,0.0,26.0,6.0,23.0,50.0,18.0,7.0,3.0,3.0,37.0,25.0,22.0,20.0,32.0,34.0,47.0,23.0,22.0,35.0,18.0,36.0,32.0,29.0,19.0,45.0,null,14.0,22.0,31.0,25.0,15.0,28.0,34.0,28.0,45.0,44.0,22.0,48.0,25.0,24.0,20.0,46.0,40.0,26.0,56.0,37.0,35.0,15.0,21.0,24.0,30.0,34.0,16.0,55.0,27.0,44.0,17.0,17.0,36.0,18.0,14.0,21.0,26.0,null,21.0,25.0,27.0,25.0,43.0,35.0,21.0,23.0,17.0,21.0,21.0,39.0,22.0,40.0,25.0,6.0,1.0,1.0,20.0,17.0,22.0,18.0,49.0,27.0,40.0,22.0,55.0,45.0,33.0,42.0,27.0,16.0,23.0,31.0,62.0,43.0,57.0,23.0,20.0,21.0,27.0,31.0,31.0,24.0,27.0,28.0,44.0,19.0,14.0,65.0,73.0,null,25.0,null,34.0,63.0,53.0,18.0,40.0,28.0,45.0,32.0,19.0,65.0,20.0,18.0,18.0,58.0,25.0,13.0,null,22.0,22.0,10.0,14.0,44.0,10.0,37.0,37.0,44.0,42.0,18.0,34.0,15.0,36.0,27.0,33.0,27.0,22.0,19.0,18.0,31.0,41.0,48.0,23.0,29.0,38.0,21.0,20.0,27.0,33.0,24.0,23.0,22.0,13.0,24.0,32.0,17.0,28.0,46.0,18.0,24.0,20.0,17.0,44.0,34.0,19.0,28.0,null,57.0,34.0,18.0,28.0,6.0,53.0,6.0,33.0,43.0,44.0,28.0,37.0,55.0,40.0,38.0,24.0,53.0,61.0,17.0,20.0,22.0,27.0,19.0,23.0,33.0,26.0,33.0,39.0,47.0,33.0,40.0,19.0,26.0,24.0,15.0,2.0,33.0,14.0,22.0,45.0,58.0,13.0,36.0,35.0,23.0,27.0,24.0,43.0,67.0,29.0,28.0,18.0,35.0,22.0,19.0,47.0,16.0,41.0,26.0,37.0,26.0,21.0,45.0,28.0,26.0,35.0,60.0,7.0,15.0,26.0,38.0,24.0,77.0,22.0,22.0,20.0,47.0,25.0,9.0,19.0,44.0,41.0,53.0,27.0,20.0,23.0,20.0,null,51.0,22.0,36.0,18.0,19.0,17.0,29.0,18.0,22.0,43.0,24.0,25.0,20.0,23.0,32.0,51.0,22.0,22.0,30.0,23.0,61.0,24.0,19.0,27.0,29.0,55.0,26.0,58.0,60.0,13.0,39.0,35.0,21.0,37.0,31.0,20.0,27.0,40.0,null,36.0,19.0,22.0,15.0,18.0,25.0,62.0,53.0,null,19.0,21.0,20.0,56.0,64.0,null,36.0,51.0,16.0,21.0,50.0,0.0,34.0,3.0,11.0,5.0,47.0,1.0,0.0,23.0,27.0,46.0,34.0,2.0,11.0,1.0,13.0,41.0,11.0,52.0,15.0,58.0,23.0,34.0,9.0,25.0,38.0,42.0,40.0,18.0,42.0,40.0,28.0,56.0,22.0,39.0,35.0,36.0,34.0,22.0,21.0,16.0,35.0,19.0,36.0,32.0,69.0,44.0,34.0,35.0,25.0,3.0,12.0,3.0,13.0,26.0,2.0,25.0,19.0,33.0,41.0,55.0,30.0,35.0,7.0,38.0,51.0,18.0,44.0,18.0,13.0,49.0,8.0,22.0,32.0,null,56.0,18.0,27.0,46.0,18.0,30.0,35.0,48.0,33.0,0.0,11.0,0.0,14.0,9.0,37.0,30.0,21.0,32.0,4.0,19.0,25.0,34.0,19.0,18.0,23.0,53.0,13.0,20.0,34.0,18.0,0.0,35.0,0.0,62.0,15.0,28.0,5.0,22.0,14.0,43.0,24.0,65.0,44.0,50.0,15.0,18.0,41.0,21.0,16.0,21.0,29.0,19.0,18.0,25.0,45.0,32.0,33.0,null,24.0,29.0,24.0,22.0,18.0,16.0,17.0,18.0,25.0,46.0,36.0,62.0,48.0,16.0,27.0,52.0,25.0,13.0,35.0,20.0,42.0,50.0,66.0,31.0,37.0,72.0,30.0,29.0,21.0,33.0,28.0,41.0,44.0,45.0,61.0,21.0,25.0,38.0,68.0,0.0,21.0,55.0,60.0,19.0,17.0,16.0,29.0,29.0,0.0,15.0,27.0,24.0,14.0,17.0,37.0,23.0,17.0,33.0,30.0,20.0,null,25.0,19.0,31.0,23.0,29.0,20.0,26.0,26.0,51.0,null,17.0,22.0,31.0,2.0,0.0,3.0,28.0,21.0,15.0,18.0,52.0,49.0,42.0,28.0,31.0,19.0,41.0,31.0,13.0,35.0,29.0,0.0,19.0,null,19.0,26.0,47.0,29.0,46.0,18.0,33.0,20.0,37.0,35.0,25.0,22.0,47.0,31.0,27.0,47.0,46.0,47.0,40.0,39.0,39.0,35.0,43.0,38.0,31.0,20.0,44.0,25.0,25.0,20.0,33.0,58.0,23.0,35.0,13.0,21.0,20.0,15.0,48.0,58.0,25.0,43.0,53.0,13.0,8.0,53.0,22.0,31.0,28.0,22.0,27.0,29.0,42.0,42.0,33.0,32.0,42.0,22.0,18.0,46.0,20.0,21.0,26.0,51.0,53.0,29.0,25.0,69.0,26.0,38.0,37.0,14.0,36.0,42.0,25.0,35.0,26.0,12.0,48.0,13.0,21.0,26.0,32.0,25.0,51.0,15.0,14.0,41.0,13.0,39.0,19.0,17.0,41.0,43.0,18.0,22.0,29.0,22.0,62.0,29.0,26.0,8.0,26.0,38.0,49.0,18.0,18.0,35.0,34.0,11.0,null,22.0,18.0,36.0,17.0,25.0,29.0,25.0,34.0,16.0,28.0,29.0,38.0,39.0,48.0,23.0,16.0,21.0,21.0,4.0,27.0,18.0,22.0,28.0,22.0,39.0,29.0,42.0,0.0,52.0,26.0,19.0,23.0,36.0,26.0,62.0,28.0,25.0,0.0,24.0,49.0,21.0,29.0,19.0,32.0,20.0,48.0,27.0,49.0,20.0,25.0,null,73.0,23.0,23.0,26.0,48.0,null,54.0,56.0,30.0,24.0,23.0,57.0,null,14.0,51.0,16.0,29.0,43.0,16.0,38.0,40.0,44.0,25.0,20.0,19.0,47.0,21.0,15.0,26.0,50.0,19.0,null,18.0,0.0,34.0,25.0,8.0,0.0,6.0,27.0,32.0,63.0,36.0,33.0,28.0,43.0,23.0,22.0,56.0,25.0,28.0,44.0,20.0,17.0,18.0,15.0,23.0,27.0,10.0,10.0,0.0,16.0,48.0,7.0,50.0,5.0,50.0,35.0,23.0,28.0,20.0,47.0,26.0,17.0,43.0,37.0,25.0,26.0,23.0,46.0,23.0,26.0,27.0,18.0,63.0,2.0,0.0,0.0,37.0,18.0,33.0,31.0,34.0,18.0,20.0,37.0,30.0,7.0,32.0,68.0,0.0,23.0,38.0,26.0,29.0,43.0,38.0,25.0,18.0,23.0,26.0,45.0,25.0,16.0,25.0,11.0,22.0,38.0,25.0,17.0,20.0,24.0,37.0,32.0,32.0,20.0,50.0,33.0,47.0,49.0,20.0,26.0,24.0,11.0,47.0,22.0,35.0,25.0,33.0,20.0,16.0,29.0,16.0,43.0,33.0,16.0,22.0,18.0,36.0,17.0,34.0,1.0,24.0,20.0,56.0,26.0,35.0,3.0,23.0,19.0,0.0,30.0,50.0,15.0,19.0,null,35.0,45.0,0.0,74.0,24.0,39.0,18.0,39.0,33.0,21.0,35.0,66.0,14.0,20.0,18.0,36.0,27.0,51.0,18.0,46.0,67.0,24.0,35.0,14.0,22.0,20.0,23.0,23.0,21.0,36.0,19.0,22.0,58.0,14.0,18.0,40.0,24.0,26.0,16.0,null,21.0,17.0,23.0,22.0,20.0,38.0,37.0,31.0,27.0,31.0,21.0,36.0,20.0,36.0,40.0,25.0,32.0,25.0,49.0,28.0,58.0,null,22.0,61.0,28.0,24.0,40.0,null,15.0,29.0,18.0,28.0,24.0,18.0,21.0,25.0,16.0,49.0,28.0,22.0,11.0,26.0,17.0,26.0,0.0,null,4.0,19.0,5.0,35.0,25.0,26.0,34.0,21.0,26.0,32.0,40.0,13.0,29.0,11.0,25.0,31.0,51.0,20.0,32.0,22.0,38.0,26.0,42.0,57.0,38.0,23.0,32.0,15.0,41.0,19.0,26.0,null,20.0,19.0,30.0,58.0,17.0,null,19.0,20.0,54.0,21.0,44.0,11.0,2.0,20.0,50.0,27.0,28.0,33.0,23.0,22.0,44.0,45.0,20.0,26.0,18.0,21.0,26.0,55.0,24.0,27.0,18.0,20.0,31.0,37.0,37.0,57.0,39.0,20.0,18.0,29.0,31.0,27.0,43.0,null,32.0,19.0,50.0,19.0,44.0,49.0,30.0,41.0,34.0,30.0,22.0,29.0,32.0,40.0,50.0,31.0,1.0,30.0,null,41.0,34.0,14.0,13.0,16.0,25.0,17.0,41.0,28.0,3.0,18.0,20.0,32.0,59.0,52.0,47.0,56.0,24.0,13.0,15.0,40.0,30.0,25.0,10.0,28.0,36.0,12.0,26.0,33.0,42.0,31.0,20.0,24.0,37.0,19.0,13.0,23.0,44.0,36.0,79.0,1.0,12.0,8.0,45.0,10.0,3.0,37.0,43.0,38.0,33.0,25.0,42.0,35.0,35.0,30.0,33.0,30.0,23.0,13.0,32.0,17.0,37.0,49.0,53.0,27.0,26.0,50.0,17.0,22.0,8.0,42.0,30.0,4.0,27.0,15.0,38.0,51.0,26.0,34.0,45.0,18.0,21.0,23.0,24.0,20.0,32.0,22.0,13.0,42.0,19.0,24.0,45.0,35.0,16.0,16.0,43.0,31.0,null,22.0,48.0,20.0,35.0,23.0,28.0,19.0,45.0,16.0,3.0,60.0,33.0,25.0,37.0,51.0,29.0,39.0,29.0,27.0,38.0,13.0,33.0,45.0,0.0,18.0,0.0,38.0,0.0,21.0,56.0,38.0,35.0,34.0,15.0,22.0,28.0,18.0,47.0,23.0,44.0,18.0,21.0,65.0,18.0,27.0,16.0,17.0,19.0,33.0,20.0,10.0,6.0,0.0,0.0,4.0,null,27.0,54.0,24.0,47.0,16.0,59.0,31.0,28.0,23.0,19.0,18.0,28.0,13.0,33.0,28.0,17.0,36.0,29.0,18.0,37.0,36.0,44.0,21.0,20.0,45.0,28.0,20.0,18.0,null,19.0,27.0,26.0,29.0,18.0,12.0,0.0,2.0,16.0,17.0,20.0,30.0,20.0,31.0,13.0,23.0,19.0,18.0,50.0,43.0,52.0,24.0,46.0,25.0,53.0,17.0,29.0,26.0,35.0,51.0,20.0,19.0,59.0,23.0,22.0,21.0,25.0,23.0,15.0,20.0,22.0,20.0,35.0,41.0,18.0,40.0,25.0,31.0,47.0,29.0,null,18.0,19.0,50.0,26.0,29.0,14.0,14.0,0.0,34.0,23.0,24.0,39.0,22.0,23.0,26.0,28.0,42.0,37.0,45.0,21.0,42.0,20.0,61.0,0.0,3.0,18.0,44.0,50.0,18.0,0.0,58.0,50.0,43.0,21.0,30.0,20.0,24.0,24.0,37.0,21.0,48.0,33.0,21.0,21.0,13.0,5.0,24.0,37.0,23.0,35.0,24.0,20.0,0.0,64.0,31.0,6.0,3.0,10.0,19.0,19.0,46.0,25.0,27.0,23.0,20.0,24.0,50.0,44.0,28.0,25.0,14.0,21.0,16.0,25.0,41.0,20.0,24.0,31.0,23.0,54.0,26.0,49.0,0.0,17.0,22.0,11.0,28.0,17.0,47.0,29.0,46.0,66.0,0.0,5.0,1.0,42.0,5.0,null,41.0,30.0,26.0,16.0,22.0,20.0,44.0,36.0,6.0,13.0,22.0,69.0,40.0,46.0,34.0,39.0,37.0,13.0,20.0,28.0,54.0,9.0,61.0,18.0,null,24.0,24.0,0.0,30.0,null,26.0,26.0,3.0,30.0,51.0,36.0,18.0,27.0,36.0,39.0,17.0,24.0,14.0,25.0,35.0,17.0,45.0,35.0,19.0,null,33.0,22.0,32.0,25.0,26.0,21.0,49.0,26.0,20.0,28.0,35.0,66.0,47.0,25.0,23.0,19.0,8.0,42.0,33.0,29.0,63.0,24.0,62.0,null,52.0,23.0,47.0,50.0,32.0,33.0,26.0,20.0,28.0,38.0,42.0,0.0,23.0,39.0,25.0,17.0,15.0,31.0,49.0,41.0,37.0,27.0,13.0,42.0,21.0,29.0,0.0,19.0,36.0,31.0,16.0,42.0,16.0,23.0,42.0,34.0,38.0,21.0,25.0,30.0,40.0,31.0,20.0,37.0,26.0,22.0,21.0,33.0,40.0,11.0,27.0,22.0,40.0,61.0,28.0,24.0,43.0,22.0,14.0,56.0,35.0,62.0,44.0,32.0,26.0,22.0,56.0,29.0,21.0,34.0,35.0,18.0,23.0,18.0,24.0,19.0,62.0,52.0,37.0,21.0,48.0,43.0,18.0,33.0,33.0,29.0,66.0,41.0,17.0,8.0,20.0,25.0,47.0,40.0,26.0,19.0,35.0,0.0,12.0,37.0,38.0,34.0,30.0,22.0,23.0,59.0,19.0,16.0,22.0,30.0,26.0,18.0,29.0,32.0,33.0,20.0,55.0,41.0,22.0,61.0,20.0,57.0,17.0,60.0,20.0,20.0,40.0,28.0,17.0,18.0,46.0,29.0,25.0,59.0,17.0,65.0,32.0,35.0,18.0,23.0,27.0,0.0,26.0,38.0,35.0,32.0,9.0,11.0,13.0,2.0,12.0,27.0,14.0,37.0,6.0,36.0,27.0,20.0,24.0,21.0,50.0,18.0,34.0,22.0,63.0,39.0,26.0,27.0,17.0,39.0,26.0,30.0,26.0,34.0,24.0,21.0,25.0,64.0,40.0,null,23.0,46.0,22.0,0.0,8.0,35.0,22.0,29.0,25.0,24.0,26.0,20.0,40.0,28.0,22.0,23.0,26.0,19.0,35.0,41.0,37.0,44.0,34.0,39.0,27.0,32.0,13.0,10.0,28.0,25.0,null,27.0,29.0,6.0,2.0,6.0,24.0,31.0,35.0,13.0,64.0,18.0,32.0,21.0,13.0,43.0,39.0,26.0,21.0,18.0,27.0,null,27.0,29.0,20.0,26.0,null,34.0,15.0,24.0,26.0,14.0,24.0,31.0,21.0,28.0,19.0,50.0,15.0,34.0,35.0,34.0,36.0,27.0,30.0,34.0,45.0,21.0,56.0,21.0,28.0,38.0,34.0,33.0,34.0,19.0,19.0,17.0,20.0,22.0,35.0,50.0,19.0,23.0,38.0,20.0,31.0,28.0,36.0,27.0,66.0,14.0,29.0,34.0,13.0,47.0,26.0,50.0,38.0,59.0,43.0,30.0,33.0,33.0,42.0,17.0,18.0,34.0,46.0,35.0,40.0,26.0,43.0,41.0,31.0,23.0,25.0,37.0,14.0,3.0,18.0,35.0,19.0,39.0,48.0,27.0,3.0,28.0,34.0,31.0,60.0,45.0,48.0,21.0,24.0,16.0,19.0,26.0,22.0,33.0,44.0,27.0,23.0,43.0,14.0,41.0,20.0,0.0,2.0,22.0,29.0,35.0,20.0,16.0,38.0,35.0,19.0,25.0,32.0,24.0,20.0,27.0,18.0,31.0,47.0,58.0,37.0,35.0,38.0,32.0,35.0,27.0,61.0,72.0,30.0,14.0,28.0,20.0,41.0,29.0,32.0,33.0,27.0,21.0,21.0,18.0,3.0,0.0,41.0,57.0,50.0,54.0,49.0,19.0,51.0,null,5.0,13.0,0.0,8.0,27.0,13.0,47.0,6.0,59.0,20.0,35.0,22.0,16.0,18.0,26.0,19.0,23.0,21.0,32.0,25.0,50.0,27.0,44.0,47.0,58.0,27.0,52.0,21.0,25.0,31.0,28.0,42.0,49.0,3.0,5.0,null,57.0,29.0,29.0,21.0,25.0,26.0,33.0,43.0,26.0,13.0,30.0,8.0,null,23.0,22.0,36.0,35.0,26.0,15.0,18.0,41.0,41.0,22.0,null,0.0,16.0,27.0,13.0,1.0,32.0,35.0,40.0,17.0,49.0,21.0,9.0,27.0,59.0,25.0,21.0,15.0,28.0,42.0,22.0,21.0,48.0,24.0,47.0,13.0,32.0,29.0,35.0,24.0,52.0,21.0,36.0,19.0,39.0,59.0,45.0,25.0,64.0,24.0,36.0,26.0,31.0,18.0,21.0,34.0,32.0,19.0,18.0,39.0,null,19.0,16.0,24.0,2.0,10.0,2.0,21.0,5.0,29.0,41.0,32.0,23.0,23.0,40.0,45.0,30.0,56.0,13.0,19.0,46.0,0.0,60.0,39.0,20.0,64.0,34.0,30.0,62.0,29.0,33.0,31.0,51.0,23.0,18.0,47.0,58.0,46.0,44.0,19.0,43.0,21.0,29.0,13.0,16.0,25.0,19.0,29.0,35.0,56.0,20.0,38.0,18.0,26.0,0.0,2.0,36.0,25.0,2.0,0.0,18.0,60.0,26.0,36.0,22.0,21.0,37.0,65.0,44.0,31.0,31.0,21.0,47.0,19.0,33.0,25.0,16.0,44.0,9.0,15.0,34.0,24.0,39.0,27.0,34.0,24.0,43.0,41.0,26.0,27.0,39.0,34.0,33.0,16.0,6.0,13.0,50.0,24.0,18.0,24.0,16.0,22.0,13.0,29.0,30.0,25.0,23.0,28.0,37.0,21.0,54.0,21.0,36.0,21.0,21.0,23.0,40.0,18.0,25.0,24.0,37.0,25.0,24.0,3.0,2.0,22.0,24.0,17.0,53.0,23.0,29.0,21.0,22.0,2.0,null,20.0,14.0,26.0,23.0,21.0,20.0,19.0,29.0,58.0,13.0,32.0,23.0,38.0,47.0,38.0,47.0,20.0,32.0,42.0,34.0,60.0,30.0,11.0,45.0,39.0,19.0,18.0,34.0,null,30.0,48.0,38.0,33.0,47.0,29.0,8.0,47.0,26.0,13.0,18.0,27.0,27.0,30.0,25.0,26.0,20.0,52.0,3.0,6.0,0.0,22.0,1.0,44.0,18.0,20.0,29.0,28.0,39.0,11.0,2.0,15.0,32.0,15.0,1.0,20.0,25.0,32.0,32.0,18.0,49.0,2.0,13.0,28.0,56.0,27.0,34.0,28.0,31.0,24.0,8.0,20.0,63.0,0.0,13.0,1.0,13.0,2.0,18.0,30.0,35.0,28.0,28.0,48.0,34.0,16.0,24.0,53.0,24.0,32.0,15.0,24.0,35.0,42.0,18.0,15.0,37.0,35.0,34.0,21.0,14.0,16.0,23.0,53.0,18.0,16.0,34.0,13.0,25.0,43.0,39.0,19.0,21.0,20.0,16.0,9.0,18.0,23.0,36.0,30.0,46.0,22.0,1.0,21.0,24.0,51.0,26.0,35.0,22.0,30.0,28.0,33.0,56.0,32.0,39.0,25.0,25.0,34.0,null,18.0,18.0,23.0,21.0,47.0,18.0,43.0,18.0,25.0,30.0,21.0,24.0,20.0,30.0,58.0,36.0,27.0,33.0,55.0,24.0,17.0,19.0,25.0,22.0,16.0,36.0,40.0,21.0,24.0,26.0,30.0,27.0,24.0,23.0,55.0,47.0,31.0,40.0,19.0,18.0,48.0,15.0,47.0,21.0,18.0,20.0,20.0,19.0,22.0,16.0,26.0,27.0,17.0,24.0,55.0,7.0,null,29.0,31.0,44.0,26.0,3.0,21.0,0.0,40.0,25.0,2.0,28.0,14.0,30.0,21.0,30.0,39.0,43.0,22.0,18.0,35.0,21.0,23.0,15.0,37.0,58.0,null,21.0,0.0,15.0,38.0,26.0,47.0,26.0,56.0,18.0,21.0,18.0,44.0,39.0,54.0,23.0,26.0,22.0,25.0,49.0,46.0,17.0,23.0,18.0,23.0,38.0,32.0,18.0,24.0,37.0,41.0,31.0,28.0,40.0,48.0,41.0,36.0,11.0,19.0,20.0,29.0,26.0,24.0,null,28.0,13.0,null,19.0,32.0,23.0,18.0,25.0,19.0,24.0,29.0,43.0,3.0,4.0,2.0,24.0,27.0,37.0,44.0,21.0,27.0,49.0,27.0,63.0,28.0,33.0,21.0,24.0,26.0,27.0,21.0,56.0,31.0,47.0,24.0,18.0,42.0,31.0,22.0,24.0,20.0,51.0,19.0,17.0,23.0,14.0,18.0,42.0,39.0,37.0,27.0,26.0,49.0,32.0,34.0,13.0,21.0,55.0,61.0,24.0,25.0,0.0,38.0,30.0,15.0,21.0,56.0,51.0,26.0,50.0,22.0,25.0,37.0,17.0,38.0,33.0,24.0,21.0,37.0,49.0,42.0,33.0,25.0,27.0,1.0,20.0,20.0,51.0,33.0,45.0,25.0,21.0,22.0,27.0,33.0,24.0,38.0,18.0,63.0,26.0,29.0,24.0,51.0,25.0,41.0,20.0,22.0,15.0,null,19.0,28.0,18.0,31.0,26.0,9.0,42.0,32.0,22.0,51.0,31.0,44.0,36.0,29.0,36.0,9.0,16.0,18.0,51.0,30.0,44.0,22.0,39.0,18.0,34.0,25.0,25.0,16.0,41.0,28.0,15.0,49.0,43.0,28.0,18.0,14.0,40.0,28.0,34.0,22.0,41.0,19.0,33.0,19.0,24.0,3.0,19.0,19.0,45.0,29.0,54.0,1.0,18.0,24.0,18.0,19.0,22.0,48.0,39.0,40.0,34.0,0.0,25.0,3.0,24.0,39.0,55.0,24.0,null,27.0,19.0,27.0,24.0,31.0,52.0,null,58.0,16.0,36.0,23.0,25.0,21.0,22.0,20.0,56.0,4.0,36.0,47.0,24.0,30.0,21.0,52.0,18.0,53.0,62.0,9.0,2.0,null,23.0,28.0,59.0,23.0,20.0,24.0,48.0,25.0,37.0,40.0,17.0,17.0,21.0,50.0,38.0,39.0,0.0,32.0,39.0,13.0,18.0,31.0,5.0,47.0,43.0,27.0,27.0,31.0,26.0,22.0,25.0,20.0,23.0,19.0,27.0,8.0,66.0,17.0,41.0,14.0,53.0,13.0,19.0,19.0,14.0,18.0,25.0,16.0,6.0,22.0,3.0,19.0,23.0,26.0,23.0,25.0,20.0,29.0,26.0,19.0,28.0,21.0,25.0,27.0,54.0,9.0,24.0,22.0,42.0,35.0,6.0,39.0,24.0,21.0,48.0,24.0,25.0,29.0,52.0,43.0,20.0,19.0,20.0,48.0,29.0,46.0,18.0,36.0,22.0,7.0,38.0,44.0,24.0,42.0,35.0,33.0,22.0,35.0,21.0,19.0,34.0,52.0,18.0,null,32.0,36.0,55.0,65.0,29.0,18.0,0.0,35.0,37.0,13.0,15.0,33.0,null,40.0,36.0,33.0,4.0,20.0,23.0,24.0,18.0,25.0,26.0,52.0,47.0,24.0,3.0,9.0,2.0,19.0,12.0,21.0,20.0,63.0,15.0,25.0,13.0,45.0,17.0,18.0,40.0,40.0,65.0,45.0,34.0,37.0,13.0,16.0,16.0,13.0,19.0,54.0,13.0,40.0,25.0,36.0,58.0,2.0,32.0,32.0,null,54.0,21.0,46.0,43.0,18.0,26.0,15.0,39.0,41.0,39.0,19.0,13.0,43.0,33.0,39.0,1.0,5.0,23.0,41.0,39.0,26.0,25.0,35.0,3.0,1.0,13.0,41.0,36.0,27.0,40.0,59.0,25.0,22.0,32.0,22.0,55.0,22.0,33.0,57.0,26.0,28.0,23.0,62.0,45.0,23.0,0.0,21.0,0.0,23.0,25.0,32.0,46.0,28.0,39.0,18.0,22.0,23.0,22.0,73.0,17.0,20.0,15.0,55.0,42.0,39.0,8.0,38.0,17.0,13.0,28.0,22.0,64.0,30.0,28.0,null,39.0,31.0,24.0,0.0,42.0,0.0,43.0,40.0,23.0,54.0,18.0,20.0,24.0,18.0,18.0,47.0,25.0,28.0,8.0,59.0,51.0,38.0,26.0,65.0,36.0,null,14.0,9.0,20.0,19.0,20.0,34.0,27.0,22.0,15.0,28.0,28.0,19.0,33.0,29.0,48.0,31.0,29.0,24.0,19.0,33.0,29.0,38.0,19.0,44.0,20.0,53.0,27.0,23.0,41.0,28.0,18.0,18.0,52.0,28.0,15.0,null,15.0,16.0,17.0,48.0,26.0,34.0,25.0,29.0,36.0,62.0,29.0,19.0,null,14.0,40.0,30.0,41.0,31.0,17.0,25.0,27.0,47.0,32.0,18.0,33.0,19.0,13.0,40.0,32.0,42.0,22.0,24.0,17.0,21.0,24.0,41.0,13.0,10.0,3.0,16.0,26.0,14.0,0.0,32.0,15.0,35.0,20.0,21.0,32.0,29.0,3.0,20.0,43.0,43.0,40.0,34.0,42.0,null,null,43.0],\"xaxis\":\"x\",\"yaxis\":\"y\",\"type\":\"histogram\"},{\"alignmentgroup\":\"True\",\"hovertemplate\":\"type=Test<br>Age=%{x}<extra></extra>\",\"legendgroup\":\"Test\",\"marker\":{\"color\":\"#DE3163\"},\"name\":\"Test\",\"notched\":true,\"offsetgroup\":\"Test\",\"showlegend\":false,\"x\":[27.0,19.0,31.0,38.0,20.0,31.0,21.0,20.0,23.0,24.0,19.0,45.0,44.0,46.0,21.0,27.0,20.0,44.0,29.0,40.0,30.0,14.0,31.0,27.0,66.0,24.0,19.0,36.0,21.0,18.0,26.0,19.0,48.0,23.0,24.0,19.0,24.0,27.0,6.0,33.0,23.0,30.0,null,1.0,20.0,17.0,34.0,24.0,29.0,20.0,5.0,22.0,16.0,7.0,36.0,26.0,40.0,29.0,2.0,23.0,0.0,30.0,56.0,36.0,56.0,19.0,39.0,38.0,null,35.0,26.0,31.0,38.0,27.0,30.0,22.0,29.0,0.0,8.0,3.0,27.0,9.0,29.0,18.0,22.0,24.0,25.0,36.0,14.0,24.0,26.0,29.0,40.0,36.0,46.0,42.0,23.0,19.0,25.0,22.0,35.0,39.0,42.0,35.0,29.0,20.0,25.0,36.0,39.0,23.0,19.0,50.0,41.0,19.0,20.0,19.0,38.0,32.0,44.0,18.0,49.0,23.0,31.0,55.0,60.0,20.0,34.0,14.0,26.0,19.0,25.0,42.0,18.0,50.0,26.0,47.0,35.0,58.0,20.0,28.0,12.0,20.0,22.0,31.0,24.0,17.0,null,18.0,48.0,38.0,33.0,20.0,22.0,52.0,15.0,25.0,14.0,null,16.0,48.0,36.0,19.0,43.0,32.0,54.0,33.0,21.0,33.0,28.0,23.0,26.0,41.0,2.0,21.0,70.0,20.0,31.0,8.0,5.0,45.0,37.0,24.0,55.0,18.0,36.0,59.0,61.0,46.0,29.0,18.0,20.0,28.0,26.0,32.0,18.0,50.0,47.0,15.0,35.0,49.0,32.0,63.0,54.0,21.0,38.0,50.0,32.0,33.0,30.0,28.0,22.0,null,37.0,59.0,31.0,25.0,38.0,37.0,44.0,28.0,45.0,53.0,21.0,33.0,18.0,37.0,34.0,46.0,18.0,19.0,4.0,0.0,12.0,7.0,34.0,10.0,0.0,14.0,27.0,21.0,37.0,29.0,17.0,17.0,35.0,34.0,17.0,39.0,56.0,35.0,17.0,29.0,15.0,37.0,36.0,36.0,18.0,61.0,45.0,21.0,65.0,27.0,13.0,32.0,17.0,44.0,21.0,16.0,41.0,40.0,16.0,17.0,40.0,37.0,53.0,42.0,31.0,18.0,51.0,20.0,19.0,22.0,41.0,28.0,0.0,42.0,20.0,25.0,22.0,25.0,45.0,19.0,16.0,18.0,38.0,27.0,36.0,21.0,1.0,25.0,3.0,7.0,0.0,32.0,5.0,79.0,19.0,30.0,13.0,53.0,40.0,32.0,31.0,63.0,18.0,21.0,14.0,41.0,40.0,58.0,22.0,13.0,16.0,13.0,15.0,42.0,24.0,19.0,null,29.0,15.0,38.0,49.0,20.0,null,19.0,46.0,21.0,29.0,null,44.0,19.0,29.0,25.0,41.0,19.0,33.0,25.0,44.0,21.0,32.0,33.0,32.0,19.0,21.0,23.0,31.0,22.0,74.0,53.0,40.0,23.0,36.0,18.0,29.0,48.0,34.0,34.0,27.0,44.0,0.0,1.0,18.0,23.0,26.0,46.0,41.0,25.0,50.0,28.0,17.0,29.0,19.0,34.0,28.0,47.0,28.0,38.0,22.0,18.0,21.0,40.0,67.0,39.0,19.0,28.0,29.0,22.0,23.0,41.0,25.0,43.0,54.0,14.0,69.0,24.0,37.0,28.0,59.0,20.0,23.0,59.0,20.0,36.0,43.0,9.0,32.0,24.0,14.0,45.0,23.0,59.0,28.0,61.0,52.0,5.0,51.0,26.0,44.0,46.0,32.0,17.0,21.0,52.0,52.0,14.0,21.0,42.0,28.0,26.0,7.0,14.0,3.0,26.0,54.0,55.0,16.0,38.0,48.0,13.0,20.0,18.0,45.0,5.0,42.0,50.0,21.0,22.0,23.0,22.0,21.0,24.0,24.0,42.0,19.0,32.0,35.0,19.0,55.0,35.0,63.0,66.0,45.0,20.0,21.0,51.0,13.0,24.0,28.0,52.0,32.0,23.0,37.0,35.0,46.0,33.0,34.0,51.0,null,27.0,22.0,33.0,31.0,16.0,6.0,18.0,30.0,24.0,57.0,24.0,23.0,40.0,21.0,17.0,25.0,34.0,18.0,8.0,14.0,16.0,22.0,21.0,23.0,26.0,18.0,72.0,18.0,24.0,36.0,13.0,19.0,28.0,2.0,5.0,25.0,45.0,59.0,6.0,36.0,40.0,36.0,31.0,19.0,13.0,31.0,22.0,52.0,22.0,34.0,23.0,14.0,30.0,75.0,28.0,61.0,25.0,21.0,null,28.0,41.0,25.0,28.0,0.0,19.0,22.0,2.0,35.0,42.0,46.0,26.0,19.0,11.0,11.0,17.0,23.0,37.0,18.0,48.0,18.0,18.0,32.0,26.0,26.0,55.0,19.0,65.0,28.0,24.0,52.0,67.0,34.0,23.0,26.0,28.0,9.0,1.0,1.0,58.0,59.0,54.0,8.0,28.0,19.0,23.0,47.0,17.0,33.0,43.0,28.0,32.0,13.0,18.0,16.0,6.0,27.0,29.0,32.0,23.0,33.0,51.0,41.0,20.0,0.0,13.0,13.0,13.0,24.0,null,32.0,24.0,27.0,24.0,34.0,26.0,22.0,10.0,28.0,5.0,null,29.0,17.0,18.0,35.0,42.0,35.0,42.0,33.0,20.0,2.0,2.0,43.0,10.0,26.0,42.0,24.0,32.0,23.0,null,15.0,15.0,null,15.0,13.0,33.0,47.0,27.0,18.0,10.0,40.0,28.0,23.0,23.0,41.0,20.0,29.0,17.0,21.0,25.0,25.0,28.0,24.0,56.0,36.0,20.0,50.0,29.0,34.0,40.0,20.0,36.0,25.0,25.0,17.0,42.0,47.0,23.0,null,39.0,43.0,23.0,46.0,31.0,37.0,48.0,28.0,38.0,31.0,35.0,28.0,29.0,19.0,null,44.0,59.0,23.0,48.0,49.0,15.0,30.0,20.0,20.0,6.0,1.0,1.0,2.0,8.0,29.0,43.0,73.0,48.0,24.0,20.0,17.0,42.0,22.0,54.0,41.0,0.0,20.0,54.0,73.0,17.0,21.0,60.0,50.0,17.0,18.0,25.0,57.0,46.0,71.0,21.0,38.0,23.0,24.0,25.0,35.0,21.0,22.0,60.0,29.0,49.0,27.0,23.0,23.0,33.0,35.0,27.0,44.0,18.0,31.0,21.0,27.0,36.0,33.0,30.0,29.0,32.0,31.0,27.0,25.0,38.0,47.0,24.0,46.0,16.0,30.0,0.0,60.0,50.0,37.0,27.0,29.0,null,22.0,null,null,14.0,null,20.0,19.0,14.0,69.0,26.0,25.0,36.0,34.0,4.0,1.0,24.0,21.0,25.0,44.0,22.0,64.0,32.0,42.0,29.0,4.0,17.0,21.0,52.0,29.0,35.0,23.0,27.0,8.0,20.0,16.0,35.0,44.0,19.0,2.0,30.0,28.0,44.0,20.0,22.0,14.0,20.0,45.0,19.0,42.0,23.0,43.0,20.0,11.0,20.0,21.0,17.0,32.0,24.0,4.0,4.0,36.0,27.0,46.0,24.0,3.0,21.0,42.0,26.0,38.0,36.0,28.0,62.0,22.0,18.0,12.0,32.0,11.0,47.0,48.0,38.0,19.0,22.0,21.0,37.0,28.0,15.0,57.0,22.0,22.0,29.0,0.0,44.0,22.0,25.0,64.0,21.0,35.0,15.0,48.0,22.0,42.0,13.0,35.0,27.0,21.0,22.0,33.0,25.0,37.0,36.0,47.0,34.0,29.0,39.0,27.0,35.0,0.0,33.0,24.0,19.0,33.0,19.0,16.0,47.0,40.0,19.0,27.0,31.0,24.0,31.0,41.0,16.0,27.0,11.0,28.0,51.0,1.0,56.0,null,57.0,13.0,32.0,28.0,12.0,35.0,33.0,14.0,26.0,25.0,27.0,23.0,45.0,50.0,24.0,54.0,19.0,19.0,28.0,28.0,39.0,20.0,30.0,35.0,36.0,33.0,30.0,25.0,45.0,23.0,51.0,31.0,55.0,24.0,57.0,24.0,44.0,0.0,15.0,49.0,24.0,47.0,26.0,null,4.0,30.0,23.0,23.0,4.0,3.0,42.0,22.0,21.0,28.0,35.0,20.0,22.0,30.0,0.0,22.0,15.0,4.0,19.0,29.0,17.0,21.0,20.0,24.0,6.0,9.0,21.0,46.0,20.0,27.0,23.0,28.0,53.0,41.0,32.0,27.0,31.0,20.0,19.0,55.0,35.0,70.0,22.0,46.0,16.0,14.0,13.0,44.0,15.0,32.0,26.0,42.0,44.0,15.0,35.0,35.0,24.0,19.0,37.0,31.0,39.0,35.0,26.0,26.0,0.0,8.0,44.0,20.0,56.0,31.0,16.0,29.0,22.0,39.0,25.0,43.0,37.0,24.0,53.0,19.0,24.0,31.0,27.0,57.0,26.0,15.0,19.0,27.0,23.0,6.0,15.0,2.0,21.0,0.0,18.0,46.0,43.0,45.0,40.0,44.0,27.0,55.0,24.0,27.0,33.0,35.0,33.0,34.0,37.0,46.0,45.0,14.0,null,56.0,24.0,19.0,51.0,24.0,23.0,21.0,6.0,11.0,4.0,0.0,7.0,24.0,32.0,43.0,24.0,49.0,21.0,29.0,25.0,27.0,14.0,67.0,17.0,44.0,52.0,14.0,17.0,19.0,36.0,19.0,25.0,39.0,32.0,75.0,37.0,25.0,33.0,25.0,24.0,22.0,22.0,36.0,4.0,61.0,0.0,15.0,42.0,27.0,5.0,32.0,38.0,21.0,23.0,34.0,28.0,23.0,14.0,60.0,78.0,6.0,17.0,41.0,40.0,47.0,23.0,41.0,60.0,46.0,19.0,18.0,0.0,28.0,30.0,9.0,0.0,4.0,22.0,32.0,7.0,19.0,34.0,24.0,17.0,31.0,42.0,14.0,27.0,21.0,24.0,34.0,35.0,43.0,25.0,19.0,25.0,22.0,23.0,42.0,40.0,71.0,18.0,34.0,4.0,18.0,22.0,38.0,33.0,27.0,18.0,34.0,66.0,47.0,35.0,23.0,36.0,36.0,35.0,15.0,39.0,48.0,47.0,21.0,31.0,13.0,32.0,22.0,40.0,15.0,33.0,28.0,17.0,20.0,42.0,18.0,27.0,32.0,19.0,9.0,36.0,21.0,40.0,42.0,40.0,22.0,15.0,38.0,15.0,24.0,22.0,24.0,25.0,22.0,57.0,25.0,21.0,41.0,27.0,18.0,61.0,9.0,1.0,27.0,20.0,2.0,0.0,25.0,22.0,32.0,28.0,43.0,28.0,32.0,54.0,27.0,30.0,25.0,39.0,14.0,8.0,22.0,27.0,43.0,16.0,40.0,48.0,25.0,29.0,60.0,22.0,37.0,35.0,23.0,24.0,15.0,18.0,14.0,39.0,12.0,43.0,45.0,24.0,52.0,18.0,38.0,null,28.0,19.0,45.0,27.0,15.0,22.0,23.0,32.0,15.0,30.0,60.0,50.0,45.0,24.0,22.0,20.0,19.0,40.0,14.0,18.0,20.0,35.0,24.0,30.0,44.0,42.0,3.0,19.0,69.0,50.0,15.0,18.0,25.0,15.0,62.0,19.0,29.0,28.0,25.0,22.0,35.0,61.0,26.0,19.0,2.0,0.0,26.0,6.0,23.0,50.0,18.0,7.0,3.0,3.0,37.0,25.0,22.0,20.0,32.0,34.0,47.0,23.0,22.0,35.0,18.0,36.0,32.0,29.0,19.0,45.0,null,14.0,22.0,31.0,25.0,15.0,28.0,34.0,28.0,45.0,44.0,22.0,48.0,25.0,24.0,20.0,46.0,40.0,26.0,56.0,37.0,35.0,15.0,21.0,24.0,30.0,34.0,16.0,55.0,27.0,44.0,17.0,17.0,36.0,18.0,14.0,21.0,26.0,null,21.0,25.0,27.0,25.0,43.0,35.0,21.0,23.0,17.0,21.0,21.0,39.0,22.0,40.0,25.0,6.0,1.0,1.0,20.0,17.0,22.0,18.0,49.0,27.0,40.0,22.0,55.0,45.0,33.0,42.0,27.0,16.0,23.0,31.0,62.0,43.0,57.0,23.0,20.0,21.0,27.0,31.0,31.0,24.0,27.0,28.0,44.0,19.0,14.0,65.0,73.0,null,25.0,null,34.0,63.0,53.0,18.0,40.0,28.0,45.0,32.0,19.0,65.0,20.0,18.0,18.0,58.0,25.0,13.0,null,22.0,22.0,10.0,14.0,44.0,10.0,37.0,37.0,44.0,42.0,18.0,34.0,15.0,36.0,27.0,33.0,27.0,22.0,19.0,18.0,31.0,41.0,48.0,23.0,29.0,38.0,21.0,20.0,27.0,33.0,24.0,23.0,22.0,13.0,24.0,32.0,17.0,28.0,46.0,18.0,24.0,20.0,17.0,44.0,34.0,19.0,28.0,null,57.0,34.0,18.0,28.0,6.0,53.0,6.0,33.0,43.0,44.0,28.0,37.0,55.0,40.0,38.0,24.0,53.0,61.0,17.0,20.0,22.0,27.0,19.0,23.0,33.0,26.0,33.0,39.0,47.0,33.0,40.0,19.0,26.0,24.0,15.0,2.0,33.0,14.0,22.0,45.0,58.0,13.0,36.0,35.0,23.0,27.0,24.0,43.0,67.0,29.0,28.0,18.0,35.0,22.0,19.0,47.0,16.0,41.0,26.0,37.0,26.0,21.0,45.0,28.0,26.0,35.0,60.0,7.0,15.0,26.0,38.0,24.0,77.0,22.0,22.0,20.0,47.0,25.0,9.0,19.0,44.0,41.0,53.0,27.0,20.0,23.0,20.0,null,51.0,22.0,36.0,18.0,19.0,17.0,29.0,18.0,22.0,43.0,24.0,25.0,20.0,23.0,32.0,51.0,22.0,22.0,30.0,23.0,61.0,24.0,19.0,27.0,29.0,55.0,26.0,58.0,60.0,13.0,39.0,35.0,21.0,37.0,31.0,20.0,27.0,40.0,null,36.0,19.0,22.0,15.0,18.0,25.0,62.0,53.0,null,19.0,21.0,20.0,56.0,64.0,null,36.0,51.0,16.0,21.0,50.0,0.0,34.0,3.0,11.0,5.0,47.0,1.0,0.0,23.0,27.0,46.0,34.0,2.0,11.0,1.0,13.0,41.0,11.0,52.0,15.0,58.0,23.0,34.0,9.0,25.0,38.0,42.0,40.0,18.0,42.0,40.0,28.0,56.0,22.0,39.0,35.0,36.0,34.0,22.0,21.0,16.0,35.0,19.0,36.0,32.0,69.0,44.0,34.0,35.0,25.0,3.0,12.0,3.0,13.0,26.0,2.0,25.0,19.0,33.0,41.0,55.0,30.0,35.0,7.0,38.0,51.0,18.0,44.0,18.0,13.0,49.0,8.0,22.0,32.0,null,56.0,18.0,27.0,46.0,18.0,30.0,35.0,48.0,33.0,0.0,11.0,0.0,14.0,9.0,37.0,30.0,21.0,32.0,4.0,19.0,25.0,34.0,19.0,18.0,23.0,53.0,13.0,20.0,34.0,18.0,0.0,35.0,0.0,62.0,15.0,28.0,5.0,22.0,14.0,43.0,24.0,65.0,44.0,50.0,15.0,18.0,41.0,21.0,16.0,21.0,29.0,19.0,18.0,25.0,45.0,32.0,33.0,null,24.0,29.0,24.0,22.0,18.0,16.0,17.0,18.0,25.0,46.0,36.0,62.0,48.0,16.0,27.0,52.0,25.0,13.0,35.0,20.0,42.0,50.0,66.0,31.0,37.0,72.0,30.0,29.0,21.0,33.0,28.0,41.0,44.0,45.0,61.0,21.0,25.0,38.0,68.0,0.0,21.0,55.0,60.0,19.0,17.0,16.0,29.0,29.0,0.0,15.0,27.0,24.0,14.0,17.0,37.0,23.0,17.0,33.0,30.0,20.0,null,25.0,19.0,31.0,23.0,29.0,20.0,26.0,26.0,51.0,null,17.0,22.0,31.0,2.0,0.0,3.0,28.0,21.0,15.0,18.0,52.0,49.0,42.0,28.0,31.0,19.0,41.0,31.0,13.0,35.0,29.0,0.0,19.0,null,19.0,26.0,47.0,29.0,46.0,18.0,33.0,20.0,37.0,35.0,25.0,22.0,47.0,31.0,27.0,47.0,46.0,47.0,40.0,39.0,39.0,35.0,43.0,38.0,31.0,20.0,44.0,25.0,25.0,20.0,33.0,58.0,23.0,35.0,13.0,21.0,20.0,15.0,48.0,58.0,25.0,43.0,53.0,13.0,8.0,53.0,22.0,31.0,28.0,22.0,27.0,29.0,42.0,42.0,33.0,32.0,42.0,22.0,18.0,46.0,20.0,21.0,26.0,51.0,53.0,29.0,25.0,69.0,26.0,38.0,37.0,14.0,36.0,42.0,25.0,35.0,26.0,12.0,48.0,13.0,21.0,26.0,32.0,25.0,51.0,15.0,14.0,41.0,13.0,39.0,19.0,17.0,41.0,43.0,18.0,22.0,29.0,22.0,62.0,29.0,26.0,8.0,26.0,38.0,49.0,18.0,18.0,35.0,34.0,11.0,null,22.0,18.0,36.0,17.0,25.0,29.0,25.0,34.0,16.0,28.0,29.0,38.0,39.0,48.0,23.0,16.0,21.0,21.0,4.0,27.0,18.0,22.0,28.0,22.0,39.0,29.0,42.0,0.0,52.0,26.0,19.0,23.0,36.0,26.0,62.0,28.0,25.0,0.0,24.0,49.0,21.0,29.0,19.0,32.0,20.0,48.0,27.0,49.0,20.0,25.0,null,73.0,23.0,23.0,26.0,48.0,null,54.0,56.0,30.0,24.0,23.0,57.0,null,14.0,51.0,16.0,29.0,43.0,16.0,38.0,40.0,44.0,25.0,20.0,19.0,47.0,21.0,15.0,26.0,50.0,19.0,null,18.0,0.0,34.0,25.0,8.0,0.0,6.0,27.0,32.0,63.0,36.0,33.0,28.0,43.0,23.0,22.0,56.0,25.0,28.0,44.0,20.0,17.0,18.0,15.0,23.0,27.0,10.0,10.0,0.0,16.0,48.0,7.0,50.0,5.0,50.0,35.0,23.0,28.0,20.0,47.0,26.0,17.0,43.0,37.0,25.0,26.0,23.0,46.0,23.0,26.0,27.0,18.0,63.0,2.0,0.0,0.0,37.0,18.0,33.0,31.0,34.0,18.0,20.0,37.0,30.0,7.0,32.0,68.0,0.0,23.0,38.0,26.0,29.0,43.0,38.0,25.0,18.0,23.0,26.0,45.0,25.0,16.0,25.0,11.0,22.0,38.0,25.0,17.0,20.0,24.0,37.0,32.0,32.0,20.0,50.0,33.0,47.0,49.0,20.0,26.0,24.0,11.0,47.0,22.0,35.0,25.0,33.0,20.0,16.0,29.0,16.0,43.0,33.0,16.0,22.0,18.0,36.0,17.0,34.0,1.0,24.0,20.0,56.0,26.0,35.0,3.0,23.0,19.0,0.0,30.0,50.0,15.0,19.0,null,35.0,45.0,0.0,74.0,24.0,39.0,18.0,39.0,33.0,21.0,35.0,66.0,14.0,20.0,18.0,36.0,27.0,51.0,18.0,46.0,67.0,24.0,35.0,14.0,22.0,20.0,23.0,23.0,21.0,36.0,19.0,22.0,58.0,14.0,18.0,40.0,24.0,26.0,16.0,null,21.0,17.0,23.0,22.0,20.0,38.0,37.0,31.0,27.0,31.0,21.0,36.0,20.0,36.0,40.0,25.0,32.0,25.0,49.0,28.0,58.0,null,22.0,61.0,28.0,24.0,40.0,null,15.0,29.0,18.0,28.0,24.0,18.0,21.0,25.0,16.0,49.0,28.0,22.0,11.0,26.0,17.0,26.0,0.0,null,4.0,19.0,5.0,35.0,25.0,26.0,34.0,21.0,26.0,32.0,40.0,13.0,29.0,11.0,25.0,31.0,51.0,20.0,32.0,22.0,38.0,26.0,42.0,57.0,38.0,23.0,32.0,15.0,41.0,19.0,26.0,null,20.0,19.0,30.0,58.0,17.0,null,19.0,20.0,54.0,21.0,44.0,11.0,2.0,20.0,50.0,27.0,28.0,33.0,23.0,22.0,44.0,45.0,20.0,26.0,18.0,21.0,26.0,55.0,24.0,27.0,18.0,20.0,31.0,37.0,37.0,57.0,39.0,20.0,18.0,29.0,31.0,27.0,43.0,null,32.0,19.0,50.0,19.0,44.0,49.0,30.0,41.0,34.0,30.0,22.0,29.0,32.0,40.0,50.0,31.0,1.0,30.0,null,41.0,34.0,14.0,13.0,16.0,25.0,17.0,41.0,28.0,3.0,18.0,20.0,32.0,59.0,52.0,47.0,56.0,24.0,13.0,15.0,40.0,30.0,25.0,10.0,28.0,36.0,12.0,26.0,33.0,42.0,31.0,20.0,24.0,37.0,19.0,13.0,23.0,44.0,36.0,79.0,1.0,12.0,8.0,45.0,10.0,3.0,37.0,43.0,38.0,33.0,25.0,42.0,35.0,35.0,30.0,33.0,30.0,23.0,13.0,32.0,17.0,37.0,49.0,53.0,27.0,26.0,50.0,17.0,22.0,8.0,42.0,30.0,4.0,27.0,15.0,38.0,51.0,26.0,34.0,45.0,18.0,21.0,23.0,24.0,20.0,32.0,22.0,13.0,42.0,19.0,24.0,45.0,35.0,16.0,16.0,43.0,31.0,null,22.0,48.0,20.0,35.0,23.0,28.0,19.0,45.0,16.0,3.0,60.0,33.0,25.0,37.0,51.0,29.0,39.0,29.0,27.0,38.0,13.0,33.0,45.0,0.0,18.0,0.0,38.0,0.0,21.0,56.0,38.0,35.0,34.0,15.0,22.0,28.0,18.0,47.0,23.0,44.0,18.0,21.0,65.0,18.0,27.0,16.0,17.0,19.0,33.0,20.0,10.0,6.0,0.0,0.0,4.0,null,27.0,54.0,24.0,47.0,16.0,59.0,31.0,28.0,23.0,19.0,18.0,28.0,13.0,33.0,28.0,17.0,36.0,29.0,18.0,37.0,36.0,44.0,21.0,20.0,45.0,28.0,20.0,18.0,null,19.0,27.0,26.0,29.0,18.0,12.0,0.0,2.0,16.0,17.0,20.0,30.0,20.0,31.0,13.0,23.0,19.0,18.0,50.0,43.0,52.0,24.0,46.0,25.0,53.0,17.0,29.0,26.0,35.0,51.0,20.0,19.0,59.0,23.0,22.0,21.0,25.0,23.0,15.0,20.0,22.0,20.0,35.0,41.0,18.0,40.0,25.0,31.0,47.0,29.0,null,18.0,19.0,50.0,26.0,29.0,14.0,14.0,0.0,34.0,23.0,24.0,39.0,22.0,23.0,26.0,28.0,42.0,37.0,45.0,21.0,42.0,20.0,61.0,0.0,3.0,18.0,44.0,50.0,18.0,0.0,58.0,50.0,43.0,21.0,30.0,20.0,24.0,24.0,37.0,21.0,48.0,33.0,21.0,21.0,13.0,5.0,24.0,37.0,23.0,35.0,24.0,20.0,0.0,64.0,31.0,6.0,3.0,10.0,19.0,19.0,46.0,25.0,27.0,23.0,20.0,24.0,50.0,44.0,28.0,25.0,14.0,21.0,16.0,25.0,41.0,20.0,24.0,31.0,23.0,54.0,26.0,49.0,0.0,17.0,22.0,11.0,28.0,17.0,47.0,29.0,46.0,66.0,0.0,5.0,1.0,42.0,5.0,null,41.0,30.0,26.0,16.0,22.0,20.0,44.0,36.0,6.0,13.0,22.0,69.0,40.0,46.0,34.0,39.0,37.0,13.0,20.0,28.0,54.0,9.0,61.0,18.0,null,24.0,24.0,0.0,30.0,null,26.0,26.0,3.0,30.0,51.0,36.0,18.0,27.0,36.0,39.0,17.0,24.0,14.0,25.0,35.0,17.0,45.0,35.0,19.0,null,33.0,22.0,32.0,25.0,26.0,21.0,49.0,26.0,20.0,28.0,35.0,66.0,47.0,25.0,23.0,19.0,8.0,42.0,33.0,29.0,63.0,24.0,62.0,null,52.0,23.0,47.0,50.0,32.0,33.0,26.0,20.0,28.0,38.0,42.0,0.0,23.0,39.0,25.0,17.0,15.0,31.0,49.0,41.0,37.0,27.0,13.0,42.0,21.0,29.0,0.0,19.0,36.0,31.0,16.0,42.0,16.0,23.0,42.0,34.0,38.0,21.0,25.0,30.0,40.0,31.0,20.0,37.0,26.0,22.0,21.0,33.0,40.0,11.0,27.0,22.0,40.0,61.0,28.0,24.0,43.0,22.0,14.0,56.0,35.0,62.0,44.0,32.0,26.0,22.0,56.0,29.0,21.0,34.0,35.0,18.0,23.0,18.0,24.0,19.0,62.0,52.0,37.0,21.0,48.0,43.0,18.0,33.0,33.0,29.0,66.0,41.0,17.0,8.0,20.0,25.0,47.0,40.0,26.0,19.0,35.0,0.0,12.0,37.0,38.0,34.0,30.0,22.0,23.0,59.0,19.0,16.0,22.0,30.0,26.0,18.0,29.0,32.0,33.0,20.0,55.0,41.0,22.0,61.0,20.0,57.0,17.0,60.0,20.0,20.0,40.0,28.0,17.0,18.0,46.0,29.0,25.0,59.0,17.0,65.0,32.0,35.0,18.0,23.0,27.0,0.0,26.0,38.0,35.0,32.0,9.0,11.0,13.0,2.0,12.0,27.0,14.0,37.0,6.0,36.0,27.0,20.0,24.0,21.0,50.0,18.0,34.0,22.0,63.0,39.0,26.0,27.0,17.0,39.0,26.0,30.0,26.0,34.0,24.0,21.0,25.0,64.0,40.0,null,23.0,46.0,22.0,0.0,8.0,35.0,22.0,29.0,25.0,24.0,26.0,20.0,40.0,28.0,22.0,23.0,26.0,19.0,35.0,41.0,37.0,44.0,34.0,39.0,27.0,32.0,13.0,10.0,28.0,25.0,null,27.0,29.0,6.0,2.0,6.0,24.0,31.0,35.0,13.0,64.0,18.0,32.0,21.0,13.0,43.0,39.0,26.0,21.0,18.0,27.0,null,27.0,29.0,20.0,26.0,null,34.0,15.0,24.0,26.0,14.0,24.0,31.0,21.0,28.0,19.0,50.0,15.0,34.0,35.0,34.0,36.0,27.0,30.0,34.0,45.0,21.0,56.0,21.0,28.0,38.0,34.0,33.0,34.0,19.0,19.0,17.0,20.0,22.0,35.0,50.0,19.0,23.0,38.0,20.0,31.0,28.0,36.0,27.0,66.0,14.0,29.0,34.0,13.0,47.0,26.0,50.0,38.0,59.0,43.0,30.0,33.0,33.0,42.0,17.0,18.0,34.0,46.0,35.0,40.0,26.0,43.0,41.0,31.0,23.0,25.0,37.0,14.0,3.0,18.0,35.0,19.0,39.0,48.0,27.0,3.0,28.0,34.0,31.0,60.0,45.0,48.0,21.0,24.0,16.0,19.0,26.0,22.0,33.0,44.0,27.0,23.0,43.0,14.0,41.0,20.0,0.0,2.0,22.0,29.0,35.0,20.0,16.0,38.0,35.0,19.0,25.0,32.0,24.0,20.0,27.0,18.0,31.0,47.0,58.0,37.0,35.0,38.0,32.0,35.0,27.0,61.0,72.0,30.0,14.0,28.0,20.0,41.0,29.0,32.0,33.0,27.0,21.0,21.0,18.0,3.0,0.0,41.0,57.0,50.0,54.0,49.0,19.0,51.0,null,5.0,13.0,0.0,8.0,27.0,13.0,47.0,6.0,59.0,20.0,35.0,22.0,16.0,18.0,26.0,19.0,23.0,21.0,32.0,25.0,50.0,27.0,44.0,47.0,58.0,27.0,52.0,21.0,25.0,31.0,28.0,42.0,49.0,3.0,5.0,null,57.0,29.0,29.0,21.0,25.0,26.0,33.0,43.0,26.0,13.0,30.0,8.0,null,23.0,22.0,36.0,35.0,26.0,15.0,18.0,41.0,41.0,22.0,null,0.0,16.0,27.0,13.0,1.0,32.0,35.0,40.0,17.0,49.0,21.0,9.0,27.0,59.0,25.0,21.0,15.0,28.0,42.0,22.0,21.0,48.0,24.0,47.0,13.0,32.0,29.0,35.0,24.0,52.0,21.0,36.0,19.0,39.0,59.0,45.0,25.0,64.0,24.0,36.0,26.0,31.0,18.0,21.0,34.0,32.0,19.0,18.0,39.0,null,19.0,16.0,24.0,2.0,10.0,2.0,21.0,5.0,29.0,41.0,32.0,23.0,23.0,40.0,45.0,30.0,56.0,13.0,19.0,46.0,0.0,60.0,39.0,20.0,64.0,34.0,30.0,62.0,29.0,33.0,31.0,51.0,23.0,18.0,47.0,58.0,46.0,44.0,19.0,43.0,21.0,29.0,13.0,16.0,25.0,19.0,29.0,35.0,56.0,20.0,38.0,18.0,26.0,0.0,2.0,36.0,25.0,2.0,0.0,18.0,60.0,26.0,36.0,22.0,21.0,37.0,65.0,44.0,31.0,31.0,21.0,47.0,19.0,33.0,25.0,16.0,44.0,9.0,15.0,34.0,24.0,39.0,27.0,34.0,24.0,43.0,41.0,26.0,27.0,39.0,34.0,33.0,16.0,6.0,13.0,50.0,24.0,18.0,24.0,16.0,22.0,13.0,29.0,30.0,25.0,23.0,28.0,37.0,21.0,54.0,21.0,36.0,21.0,21.0,23.0,40.0,18.0,25.0,24.0,37.0,25.0,24.0,3.0,2.0,22.0,24.0,17.0,53.0,23.0,29.0,21.0,22.0,2.0,null,20.0,14.0,26.0,23.0,21.0,20.0,19.0,29.0,58.0,13.0,32.0,23.0,38.0,47.0,38.0,47.0,20.0,32.0,42.0,34.0,60.0,30.0,11.0,45.0,39.0,19.0,18.0,34.0,null,30.0,48.0,38.0,33.0,47.0,29.0,8.0,47.0,26.0,13.0,18.0,27.0,27.0,30.0,25.0,26.0,20.0,52.0,3.0,6.0,0.0,22.0,1.0,44.0,18.0,20.0,29.0,28.0,39.0,11.0,2.0,15.0,32.0,15.0,1.0,20.0,25.0,32.0,32.0,18.0,49.0,2.0,13.0,28.0,56.0,27.0,34.0,28.0,31.0,24.0,8.0,20.0,63.0,0.0,13.0,1.0,13.0,2.0,18.0,30.0,35.0,28.0,28.0,48.0,34.0,16.0,24.0,53.0,24.0,32.0,15.0,24.0,35.0,42.0,18.0,15.0,37.0,35.0,34.0,21.0,14.0,16.0,23.0,53.0,18.0,16.0,34.0,13.0,25.0,43.0,39.0,19.0,21.0,20.0,16.0,9.0,18.0,23.0,36.0,30.0,46.0,22.0,1.0,21.0,24.0,51.0,26.0,35.0,22.0,30.0,28.0,33.0,56.0,32.0,39.0,25.0,25.0,34.0,null,18.0,18.0,23.0,21.0,47.0,18.0,43.0,18.0,25.0,30.0,21.0,24.0,20.0,30.0,58.0,36.0,27.0,33.0,55.0,24.0,17.0,19.0,25.0,22.0,16.0,36.0,40.0,21.0,24.0,26.0,30.0,27.0,24.0,23.0,55.0,47.0,31.0,40.0,19.0,18.0,48.0,15.0,47.0,21.0,18.0,20.0,20.0,19.0,22.0,16.0,26.0,27.0,17.0,24.0,55.0,7.0,null,29.0,31.0,44.0,26.0,3.0,21.0,0.0,40.0,25.0,2.0,28.0,14.0,30.0,21.0,30.0,39.0,43.0,22.0,18.0,35.0,21.0,23.0,15.0,37.0,58.0,null,21.0,0.0,15.0,38.0,26.0,47.0,26.0,56.0,18.0,21.0,18.0,44.0,39.0,54.0,23.0,26.0,22.0,25.0,49.0,46.0,17.0,23.0,18.0,23.0,38.0,32.0,18.0,24.0,37.0,41.0,31.0,28.0,40.0,48.0,41.0,36.0,11.0,19.0,20.0,29.0,26.0,24.0,null,28.0,13.0,null,19.0,32.0,23.0,18.0,25.0,19.0,24.0,29.0,43.0,3.0,4.0,2.0,24.0,27.0,37.0,44.0,21.0,27.0,49.0,27.0,63.0,28.0,33.0,21.0,24.0,26.0,27.0,21.0,56.0,31.0,47.0,24.0,18.0,42.0,31.0,22.0,24.0,20.0,51.0,19.0,17.0,23.0,14.0,18.0,42.0,39.0,37.0,27.0,26.0,49.0,32.0,34.0,13.0,21.0,55.0,61.0,24.0,25.0,0.0,38.0,30.0,15.0,21.0,56.0,51.0,26.0,50.0,22.0,25.0,37.0,17.0,38.0,33.0,24.0,21.0,37.0,49.0,42.0,33.0,25.0,27.0,1.0,20.0,20.0,51.0,33.0,45.0,25.0,21.0,22.0,27.0,33.0,24.0,38.0,18.0,63.0,26.0,29.0,24.0,51.0,25.0,41.0,20.0,22.0,15.0,null,19.0,28.0,18.0,31.0,26.0,9.0,42.0,32.0,22.0,51.0,31.0,44.0,36.0,29.0,36.0,9.0,16.0,18.0,51.0,30.0,44.0,22.0,39.0,18.0,34.0,25.0,25.0,16.0,41.0,28.0,15.0,49.0,43.0,28.0,18.0,14.0,40.0,28.0,34.0,22.0,41.0,19.0,33.0,19.0,24.0,3.0,19.0,19.0,45.0,29.0,54.0,1.0,18.0,24.0,18.0,19.0,22.0,48.0,39.0,40.0,34.0,0.0,25.0,3.0,24.0,39.0,55.0,24.0,null,27.0,19.0,27.0,24.0,31.0,52.0,null,58.0,16.0,36.0,23.0,25.0,21.0,22.0,20.0,56.0,4.0,36.0,47.0,24.0,30.0,21.0,52.0,18.0,53.0,62.0,9.0,2.0,null,23.0,28.0,59.0,23.0,20.0,24.0,48.0,25.0,37.0,40.0,17.0,17.0,21.0,50.0,38.0,39.0,0.0,32.0,39.0,13.0,18.0,31.0,5.0,47.0,43.0,27.0,27.0,31.0,26.0,22.0,25.0,20.0,23.0,19.0,27.0,8.0,66.0,17.0,41.0,14.0,53.0,13.0,19.0,19.0,14.0,18.0,25.0,16.0,6.0,22.0,3.0,19.0,23.0,26.0,23.0,25.0,20.0,29.0,26.0,19.0,28.0,21.0,25.0,27.0,54.0,9.0,24.0,22.0,42.0,35.0,6.0,39.0,24.0,21.0,48.0,24.0,25.0,29.0,52.0,43.0,20.0,19.0,20.0,48.0,29.0,46.0,18.0,36.0,22.0,7.0,38.0,44.0,24.0,42.0,35.0,33.0,22.0,35.0,21.0,19.0,34.0,52.0,18.0,null,32.0,36.0,55.0,65.0,29.0,18.0,0.0,35.0,37.0,13.0,15.0,33.0,null,40.0,36.0,33.0,4.0,20.0,23.0,24.0,18.0,25.0,26.0,52.0,47.0,24.0,3.0,9.0,2.0,19.0,12.0,21.0,20.0,63.0,15.0,25.0,13.0,45.0,17.0,18.0,40.0,40.0,65.0,45.0,34.0,37.0,13.0,16.0,16.0,13.0,19.0,54.0,13.0,40.0,25.0,36.0,58.0,2.0,32.0,32.0,null,54.0,21.0,46.0,43.0,18.0,26.0,15.0,39.0,41.0,39.0,19.0,13.0,43.0,33.0,39.0,1.0,5.0,23.0,41.0,39.0,26.0,25.0,35.0,3.0,1.0,13.0,41.0,36.0,27.0,40.0,59.0,25.0,22.0,32.0,22.0,55.0,22.0,33.0,57.0,26.0,28.0,23.0,62.0,45.0,23.0,0.0,21.0,0.0,23.0,25.0,32.0,46.0,28.0,39.0,18.0,22.0,23.0,22.0,73.0,17.0,20.0,15.0,55.0,42.0,39.0,8.0,38.0,17.0,13.0,28.0,22.0,64.0,30.0,28.0,null,39.0,31.0,24.0,0.0,42.0,0.0,43.0,40.0,23.0,54.0,18.0,20.0,24.0,18.0,18.0,47.0,25.0,28.0,8.0,59.0,51.0,38.0,26.0,65.0,36.0,null,14.0,9.0,20.0,19.0,20.0,34.0,27.0,22.0,15.0,28.0,28.0,19.0,33.0,29.0,48.0,31.0,29.0,24.0,19.0,33.0,29.0,38.0,19.0,44.0,20.0,53.0,27.0,23.0,41.0,28.0,18.0,18.0,52.0,28.0,15.0,null,15.0,16.0,17.0,48.0,26.0,34.0,25.0,29.0,36.0,62.0,29.0,19.0,null,14.0,40.0,30.0,41.0,31.0,17.0,25.0,27.0,47.0,32.0,18.0,33.0,19.0,13.0,40.0,32.0,42.0,22.0,24.0,17.0,21.0,24.0,41.0,13.0,10.0,3.0,16.0,26.0,14.0,0.0,32.0,15.0,35.0,20.0,21.0,32.0,29.0,3.0,20.0,43.0,43.0,40.0,34.0,42.0,null,null,43.0],\"xaxis\":\"x2\",\"yaxis\":\"y2\",\"type\":\"box\"}],                        {\"template\":{\"data\":{\"barpolar\":[{\"marker\":{\"line\":{\"color\":\"white\",\"width\":0.5},\"pattern\":{\"fillmode\":\"overlay\",\"size\":10,\"solidity\":0.2}},\"type\":\"barpolar\"}],\"bar\":[{\"error_x\":{\"color\":\"#2a3f5f\"},\"error_y\":{\"color\":\"#2a3f5f\"},\"marker\":{\"line\":{\"color\":\"white\",\"width\":0.5},\"pattern\":{\"fillmode\":\"overlay\",\"size\":10,\"solidity\":0.2}},\"type\":\"bar\"}],\"carpet\":[{\"aaxis\":{\"endlinecolor\":\"#2a3f5f\",\"gridcolor\":\"#C8D4E3\",\"linecolor\":\"#C8D4E3\",\"minorgridcolor\":\"#C8D4E3\",\"startlinecolor\":\"#2a3f5f\"},\"baxis\":{\"endlinecolor\":\"#2a3f5f\",\"gridcolor\":\"#C8D4E3\",\"linecolor\":\"#C8D4E3\",\"minorgridcolor\":\"#C8D4E3\",\"startlinecolor\":\"#2a3f5f\"},\"type\":\"carpet\"}],\"choropleth\":[{\"colorbar\":{\"outlinewidth\":0,\"ticks\":\"\"},\"type\":\"choropleth\"}],\"contourcarpet\":[{\"colorbar\":{\"outlinewidth\":0,\"ticks\":\"\"},\"type\":\"contourcarpet\"}],\"contour\":[{\"colorbar\":{\"outlinewidth\":0,\"ticks\":\"\"},\"colorscale\":[[0.0,\"#0d0887\"],[0.1111111111111111,\"#46039f\"],[0.2222222222222222,\"#7201a8\"],[0.3333333333333333,\"#9c179e\"],[0.4444444444444444,\"#bd3786\"],[0.5555555555555556,\"#d8576b\"],[0.6666666666666666,\"#ed7953\"],[0.7777777777777778,\"#fb9f3a\"],[0.8888888888888888,\"#fdca26\"],[1.0,\"#f0f921\"]],\"type\":\"contour\"}],\"heatmapgl\":[{\"colorbar\":{\"outlinewidth\":0,\"ticks\":\"\"},\"colorscale\":[[0.0,\"#0d0887\"],[0.1111111111111111,\"#46039f\"],[0.2222222222222222,\"#7201a8\"],[0.3333333333333333,\"#9c179e\"],[0.4444444444444444,\"#bd3786\"],[0.5555555555555556,\"#d8576b\"],[0.6666666666666666,\"#ed7953\"],[0.7777777777777778,\"#fb9f3a\"],[0.8888888888888888,\"#fdca26\"],[1.0,\"#f0f921\"]],\"type\":\"heatmapgl\"}],\"heatmap\":[{\"colorbar\":{\"outlinewidth\":0,\"ticks\":\"\"},\"colorscale\":[[0.0,\"#0d0887\"],[0.1111111111111111,\"#46039f\"],[0.2222222222222222,\"#7201a8\"],[0.3333333333333333,\"#9c179e\"],[0.4444444444444444,\"#bd3786\"],[0.5555555555555556,\"#d8576b\"],[0.6666666666666666,\"#ed7953\"],[0.7777777777777778,\"#fb9f3a\"],[0.8888888888888888,\"#fdca26\"],[1.0,\"#f0f921\"]],\"type\":\"heatmap\"}],\"histogram2dcontour\":[{\"colorbar\":{\"outlinewidth\":0,\"ticks\":\"\"},\"colorscale\":[[0.0,\"#0d0887\"],[0.1111111111111111,\"#46039f\"],[0.2222222222222222,\"#7201a8\"],[0.3333333333333333,\"#9c179e\"],[0.4444444444444444,\"#bd3786\"],[0.5555555555555556,\"#d8576b\"],[0.6666666666666666,\"#ed7953\"],[0.7777777777777778,\"#fb9f3a\"],[0.8888888888888888,\"#fdca26\"],[1.0,\"#f0f921\"]],\"type\":\"histogram2dcontour\"}],\"histogram2d\":[{\"colorbar\":{\"outlinewidth\":0,\"ticks\":\"\"},\"colorscale\":[[0.0,\"#0d0887\"],[0.1111111111111111,\"#46039f\"],[0.2222222222222222,\"#7201a8\"],[0.3333333333333333,\"#9c179e\"],[0.4444444444444444,\"#bd3786\"],[0.5555555555555556,\"#d8576b\"],[0.6666666666666666,\"#ed7953\"],[0.7777777777777778,\"#fb9f3a\"],[0.8888888888888888,\"#fdca26\"],[1.0,\"#f0f921\"]],\"type\":\"histogram2d\"}],\"histogram\":[{\"marker\":{\"pattern\":{\"fillmode\":\"overlay\",\"size\":10,\"solidity\":0.2}},\"type\":\"histogram\"}],\"mesh3d\":[{\"colorbar\":{\"outlinewidth\":0,\"ticks\":\"\"},\"type\":\"mesh3d\"}],\"parcoords\":[{\"line\":{\"colorbar\":{\"outlinewidth\":0,\"ticks\":\"\"}},\"type\":\"parcoords\"}],\"pie\":[{\"automargin\":true,\"type\":\"pie\"}],\"scatter3d\":[{\"line\":{\"colorbar\":{\"outlinewidth\":0,\"ticks\":\"\"}},\"marker\":{\"colorbar\":{\"outlinewidth\":0,\"ticks\":\"\"}},\"type\":\"scatter3d\"}],\"scattercarpet\":[{\"marker\":{\"colorbar\":{\"outlinewidth\":0,\"ticks\":\"\"}},\"type\":\"scattercarpet\"}],\"scattergeo\":[{\"marker\":{\"colorbar\":{\"outlinewidth\":0,\"ticks\":\"\"}},\"type\":\"scattergeo\"}],\"scattergl\":[{\"marker\":{\"colorbar\":{\"outlinewidth\":0,\"ticks\":\"\"}},\"type\":\"scattergl\"}],\"scattermapbox\":[{\"marker\":{\"colorbar\":{\"outlinewidth\":0,\"ticks\":\"\"}},\"type\":\"scattermapbox\"}],\"scatterpolargl\":[{\"marker\":{\"colorbar\":{\"outlinewidth\":0,\"ticks\":\"\"}},\"type\":\"scatterpolargl\"}],\"scatterpolar\":[{\"marker\":{\"colorbar\":{\"outlinewidth\":0,\"ticks\":\"\"}},\"type\":\"scatterpolar\"}],\"scatter\":[{\"marker\":{\"colorbar\":{\"outlinewidth\":0,\"ticks\":\"\"}},\"type\":\"scatter\"}],\"scatterternary\":[{\"marker\":{\"colorbar\":{\"outlinewidth\":0,\"ticks\":\"\"}},\"type\":\"scatterternary\"}],\"surface\":[{\"colorbar\":{\"outlinewidth\":0,\"ticks\":\"\"},\"colorscale\":[[0.0,\"#0d0887\"],[0.1111111111111111,\"#46039f\"],[0.2222222222222222,\"#7201a8\"],[0.3333333333333333,\"#9c179e\"],[0.4444444444444444,\"#bd3786\"],[0.5555555555555556,\"#d8576b\"],[0.6666666666666666,\"#ed7953\"],[0.7777777777777778,\"#fb9f3a\"],[0.8888888888888888,\"#fdca26\"],[1.0,\"#f0f921\"]],\"type\":\"surface\"}],\"table\":[{\"cells\":{\"fill\":{\"color\":\"#EBF0F8\"},\"line\":{\"color\":\"white\"}},\"header\":{\"fill\":{\"color\":\"#C8D4E3\"},\"line\":{\"color\":\"white\"}},\"type\":\"table\"}]},\"layout\":{\"annotationdefaults\":{\"arrowcolor\":\"#2a3f5f\",\"arrowhead\":0,\"arrowwidth\":1},\"autotypenumbers\":\"strict\",\"coloraxis\":{\"colorbar\":{\"outlinewidth\":0,\"ticks\":\"\"}},\"colorscale\":{\"diverging\":[[0,\"#8e0152\"],[0.1,\"#c51b7d\"],[0.2,\"#de77ae\"],[0.3,\"#f1b6da\"],[0.4,\"#fde0ef\"],[0.5,\"#f7f7f7\"],[0.6,\"#e6f5d0\"],[0.7,\"#b8e186\"],[0.8,\"#7fbc41\"],[0.9,\"#4d9221\"],[1,\"#276419\"]],\"sequential\":[[0.0,\"#0d0887\"],[0.1111111111111111,\"#46039f\"],[0.2222222222222222,\"#7201a8\"],[0.3333333333333333,\"#9c179e\"],[0.4444444444444444,\"#bd3786\"],[0.5555555555555556,\"#d8576b\"],[0.6666666666666666,\"#ed7953\"],[0.7777777777777778,\"#fb9f3a\"],[0.8888888888888888,\"#fdca26\"],[1.0,\"#f0f921\"]],\"sequentialminus\":[[0.0,\"#0d0887\"],[0.1111111111111111,\"#46039f\"],[0.2222222222222222,\"#7201a8\"],[0.3333333333333333,\"#9c179e\"],[0.4444444444444444,\"#bd3786\"],[0.5555555555555556,\"#d8576b\"],[0.6666666666666666,\"#ed7953\"],[0.7777777777777778,\"#fb9f3a\"],[0.8888888888888888,\"#fdca26\"],[1.0,\"#f0f921\"]]},\"colorway\":[\"#636efa\",\"#EF553B\",\"#00cc96\",\"#ab63fa\",\"#FFA15A\",\"#19d3f3\",\"#FF6692\",\"#B6E880\",\"#FF97FF\",\"#FECB52\"],\"font\":{\"color\":\"#2a3f5f\"},\"geo\":{\"bgcolor\":\"white\",\"lakecolor\":\"white\",\"landcolor\":\"white\",\"showlakes\":true,\"showland\":true,\"subunitcolor\":\"#C8D4E3\"},\"hoverlabel\":{\"align\":\"left\"},\"hovermode\":\"closest\",\"mapbox\":{\"style\":\"light\"},\"paper_bgcolor\":\"white\",\"plot_bgcolor\":\"white\",\"polar\":{\"angularaxis\":{\"gridcolor\":\"#EBF0F8\",\"linecolor\":\"#EBF0F8\",\"ticks\":\"\"},\"bgcolor\":\"white\",\"radialaxis\":{\"gridcolor\":\"#EBF0F8\",\"linecolor\":\"#EBF0F8\",\"ticks\":\"\"}},\"scene\":{\"xaxis\":{\"backgroundcolor\":\"white\",\"gridcolor\":\"#DFE8F3\",\"gridwidth\":2,\"linecolor\":\"#EBF0F8\",\"showbackground\":true,\"ticks\":\"\",\"zerolinecolor\":\"#EBF0F8\"},\"yaxis\":{\"backgroundcolor\":\"white\",\"gridcolor\":\"#DFE8F3\",\"gridwidth\":2,\"linecolor\":\"#EBF0F8\",\"showbackground\":true,\"ticks\":\"\",\"zerolinecolor\":\"#EBF0F8\"},\"zaxis\":{\"backgroundcolor\":\"white\",\"gridcolor\":\"#DFE8F3\",\"gridwidth\":2,\"linecolor\":\"#EBF0F8\",\"showbackground\":true,\"ticks\":\"\",\"zerolinecolor\":\"#EBF0F8\"}},\"shapedefaults\":{\"line\":{\"color\":\"#2a3f5f\"}},\"ternary\":{\"aaxis\":{\"gridcolor\":\"#DFE8F3\",\"linecolor\":\"#A2B1C6\",\"ticks\":\"\"},\"baxis\":{\"gridcolor\":\"#DFE8F3\",\"linecolor\":\"#A2B1C6\",\"ticks\":\"\"},\"bgcolor\":\"white\",\"caxis\":{\"gridcolor\":\"#DFE8F3\",\"linecolor\":\"#A2B1C6\",\"ticks\":\"\"}},\"title\":{\"x\":0.05},\"xaxis\":{\"automargin\":true,\"gridcolor\":\"#EBF0F8\",\"linecolor\":\"#EBF0F8\",\"ticks\":\"\",\"title\":{\"standoff\":15},\"zerolinecolor\":\"#EBF0F8\",\"zerolinewidth\":2},\"yaxis\":{\"automargin\":true,\"gridcolor\":\"#EBF0F8\",\"linecolor\":\"#EBF0F8\",\"ticks\":\"\",\"title\":{\"standoff\":15},\"zerolinecolor\":\"#EBF0F8\",\"zerolinewidth\":2}}},\"xaxis\":{\"anchor\":\"y\",\"domain\":[0.0,1.0],\"title\":{\"text\":\"Age\"}},\"yaxis\":{\"anchor\":\"x\",\"domain\":[0.0,0.7326],\"title\":{\"text\":\"count\"}},\"xaxis2\":{\"anchor\":\"y2\",\"domain\":[0.0,1.0],\"matches\":\"x\",\"showticklabels\":false,\"showgrid\":true},\"yaxis2\":{\"anchor\":\"x2\",\"domain\":[0.7426,1.0],\"matches\":\"y2\",\"showticklabels\":false,\"showline\":false,\"ticks\":\"\",\"showgrid\":false},\"legend\":{\"title\":{\"text\":\"type\"},\"tracegroupgap\":0},\"margin\":{\"t\":60},\"barmode\":\"relative\",\"title\":{\"text\":\"Distribution of Age\",\"x\":0.5}},                        {\"responsive\": true}                    ).then(function(){\n",
       "                            \n",
       "var gd = document.getElementById('8e500329-5a71-4ebd-b6eb-704ece3a3094');\n",
       "var x = new MutationObserver(function (mutations, observer) {{\n",
       "        var display = window.getComputedStyle(gd).display;\n",
       "        if (!display || display === 'none') {{\n",
       "            console.log([gd, 'removed!']);\n",
       "            Plotly.purge(gd);\n",
       "            observer.disconnect();\n",
       "        }}\n",
       "}});\n",
       "\n",
       "// Listen for the removal of the full notebook cells\n",
       "var notebookContainer = gd.closest('#notebook-container');\n",
       "if (notebookContainer) {{\n",
       "    x.observe(notebookContainer, {childList: true});\n",
       "}}\n",
       "\n",
       "// Listen for the clearing of the current output cell\n",
       "var outputEl = gd.closest('.output');\n",
       "if (outputEl) {{\n",
       "    x.observe(outputEl, {childList: true});\n",
       "}}\n",
       "\n",
       "                        })                };                            </script>        </div>\n",
       "</body>\n",
       "</html>"
      ]
     },
     "metadata": {},
     "output_type": "display_data"
    }
   ],
   "source": [
    "# 연속형 변수의 피처(Feature) 분포\n",
    "# 나이의 분포\n",
    "\n",
    "train_age = train_n.copy()\n",
    "test_age = test_n.copy()\n",
    "\n",
    "# 학습용/테스트용 분류를 위한 type컬럼 생성\n",
    "train_age[\"type\"] = \"Train\"\n",
    "test_age[\"type\"] = \"Test\"\n",
    "\n",
    "# train, test 결합\n",
    "ageDf = pd.concat([train_age, test_age])\n",
    "\n",
    "# plotly를 활용한 히스토그램 시각화\n",
    "fig = px.histogram(data_frame = ageDf, \n",
    "                x=\"Age\",\n",
    "                color= \"type\",   # train, test의 종류 구분(컬럼)\n",
    "                color_discrete_sequence =  ['#58D68D','#DE3163'],\n",
    "                marginal=\"box\", # subplot를 추가 가능. (rug, box)\n",
    "                nbins= 100,     # 구간 막대 기준 개수 \n",
    "                template=\"plotly_white\"\n",
    "                )\n",
    "\n",
    "# title_x : 좌우 정렬할 위치(좌:0, 우:1)\n",
    "fig.update_layout(title = \"Distribution of Age\" , title_x = 0.5)\n",
    "fig.show()"
   ]
  },
  {
   "cell_type": "code",
   "execution_count": 45,
   "metadata": {
    "colab": {
     "base_uri": "https://localhost:8080/",
     "height": 750
    },
    "id": "4T9OLSgiM6aW",
    "outputId": "43137016-9a6b-4d33-f9b4-42d1e5075b03"
   },
   "outputs": [
    {
     "name": "stdout",
     "output_type": "stream",
     "text": [
      "['HomePlanet', 'CryoSleep', 'Destination', 'VIP']\n"
     ]
    },
    {
     "data": {
      "text/plain": [
       "<matplotlib.legend.Legend at 0x7f5743dc4b10>"
      ]
     },
     "execution_count": 45,
     "metadata": {},
     "output_type": "execute_result"
    },
    {
     "data": {
      "image/png": "[encoded data removed]",
      "text/plain": [
       "<Figure size 1296x1080 with 4 Axes>"
      ]
     },
     "metadata": {
      "needs_background": "light"
     },
     "output_type": "display_data"
    }
   ],
   "source": [
    "# 범주형 변수의 분포\n",
    "fig, axes = plt.subplots(2, 2, figsize=(18, 15))\n",
    "print( cat_features )\n",
    "\n",
    "sns.countplot(train_n[\"HomePlanet\"],ax = axes[0,0],palette = \"viridis\",label='Train data')\n",
    "sns.countplot(test_n[\"HomePlanet\"],ax = axes[0,1],palette = \"magma\",label='Test data')\n",
    "\n",
    "sns.countplot(train_n[\"HomePlanet\"],ax = axes[1,0],\n",
    "              color = \"red\",label='Train data')\n",
    "sns.countplot(test_n[\"HomePlanet\"],ax = axes[1,0],\n",
    "              color = \"blue\",label='Test data')\n",
    "\n",
    "sns.countplot(train_n[\"HomePlanet\"],ax = axes[1,1],\n",
    "              color = \"red\",label='Train data', alpha=0.3)\n",
    "sns.countplot(test_n[\"HomePlanet\"],ax = axes[1,1],\n",
    "              color = \"blue\",label='Test data', alpha=0.3)\n",
    "\n",
    "axes[0,0].set_ylim(0,5000)\n",
    "axes[0,1].set_ylim(0,5000)\n",
    "axes[1,1].set_ylim(0,5000)\n",
    "axes[1,1].legend(fontsize=15)   # 범례"
   ]
  },
  {
   "cell_type": "code",
   "execution_count": 46,
   "metadata": {
    "colab": {
     "base_uri": "https://localhost:8080/",
     "height": 722
    },
    "id": "6il9qUsJM9wI",
    "outputId": "d480bf3e-809e-4cd4-a824-652f5cdd21ad"
   },
   "outputs": [
    {
     "data": {
      "image/png": "[encoded data removed]",
      "text/plain": [
       "<Figure size 1296x1080 with 4 Axes>"
      ]
     },
     "metadata": {
      "needs_background": "light"
     },
     "output_type": "display_data"
    }
   ],
   "source": [
    "if len(cat_features) == 0 :\n",
    "    print(\"No Categorical features\")\n",
    "else:\n",
    "    ncols = 2\n",
    "    nrows = 2\n",
    "\n",
    "    fig, axes = plt.subplots(nrows, ncols, figsize=(18, 15))\n",
    "    for r in range(nrows):\n",
    "        for c in range(ncols):\n",
    "            col = cat_features[r*ncols+c]\n",
    "            \n",
    "            sns.countplot(train_n[col],ax = axes[r,c],\n",
    "                          color=\"blue\",\n",
    "                          label='Train data', alpha=0.3)\n",
    "            sns.countplot(test_n[col],ax = axes[r,c],\n",
    "                          color=\"red\",\n",
    "                          label='Test data', alpha=0.3)\n",
    "\n",
    "            axes[r,c].legend(fontsize=15)   # 범례\n",
    "\n",
    "            # x축, y축 레이블\n",
    "            axes[r,c].set_ylabel('')        \n",
    "            axes[r,c].set_xlabel(col, fontsize=20)\n",
    "            axes[r,c].tick_params(labelsize=15, width=0.5)\n",
    "            axes[r,c].xaxis.offsetText.set_fontsize(4)\n",
    "            axes[r,c].yaxis.offsetText.set_fontsize(4)\n",
    "    plt.show()"
   ]
  },
  {
   "cell_type": "markdown",
   "metadata": {
    "id": "T_CabxZhNChb"
   },
   "source": [
    "##### Target 값의 분포\n",
    "    두 개의 target 값이 있다.\n",
    "    0과 1\n",
    "    target값 둘 다 거의 동일한 분포를 갖는다."
   ]
  },
  {
   "cell_type": "code",
   "execution_count": 47,
   "metadata": {
    "colab": {
     "base_uri": "https://localhost:8080/"
    },
    "id": "QJeDRV3hNAKM",
    "outputId": "ba7b362e-516a-4524-fcce-0581067849f6"
   },
   "outputs": [
    {
     "name": "stdout",
     "output_type": "stream",
     "text": [
      "Transported\n",
      "True     4378\n",
      "False    4315\n",
      "Name: Transported, dtype: int64\n",
      "   index  Transported\n",
      "0   True         4378\n",
      "1  False         4315\n"
     ]
    }
   ],
   "source": [
    "print( TARGET )\n",
    "print( train_n[TARGET].value_counts() )\n",
    "\n",
    "target_df = pd.DataFrame(train_n[TARGET].value_counts()).reset_index()\n",
    "print(target_df)"
   ]
  },
  {
   "cell_type": "code",
   "execution_count": 48,
   "metadata": {
    "colab": {
     "base_uri": "https://localhost:8080/",
     "height": 579
    },
    "id": "PnvgNIL0NGy9",
    "outputId": "54e308ad-cd2e-4cc3-9368-da732b17fcd4"
   },
   "outputs": [
    {
     "name": "stdout",
     "output_type": "stream",
     "text": [
      "Transported(0)의 비율 50.36 %\n",
      "Transported(1)의 비율 49.64 %\n"
     ]
    },
    {
     "data": {
      "text/html": [
       "<html>\n",
       "<head><meta charset=\"utf-8\" /></head>\n",
       "<body>\n",
       "    <div>            <script src=\"https://cdnjs.cloudflare.com/ajax/libs/mathjax/2.7.5/MathJax.js?config=TeX-AMS-MML_SVG\"></script><script type=\"text/javascript\">if (window.MathJax) {MathJax.Hub.Config({SVG: {font: \"STIX-Web\"}});}</script>                <script type=\"text/javascript\">window.PlotlyConfig = {MathJaxConfig: 'local'};</script>\n",
       "        <script src=\"https://cdn.plot.ly/plotly-2.8.3.min.js\"></script>                <div id=\"a4ec79b6-c9c1-4745-8645-297af292a755\" class=\"plotly-graph-div\" style=\"height:525px; width:100%;\"></div>            <script type=\"text/javascript\">                                    window.PLOTLYENV=window.PLOTLYENV || {};                                    if (document.getElementById(\"a4ec79b6-c9c1-4745-8645-297af292a755\")) {                    Plotly.newPlot(                        \"a4ec79b6-c9c1-4745-8645-297af292a755\",                        [{\"alignmentgroup\":\"True\",\"hovertemplate\":\"Transported=%{x}<br>count=%{y}<extra></extra>\",\"legendgroup\":\"\",\"marker\":{\"color\":[\"#58D68D\",\"#DE3163\"],\"pattern\":{\"shape\":\"\"},\"line\":{\"color\":\"rgb(0,0,0)\",\"width\":2}},\"name\":\"\",\"offsetgroup\":\"\",\"orientation\":\"v\",\"showlegend\":false,\"textposition\":\"auto\",\"x\":[true,false],\"xaxis\":\"x\",\"y\":[4378,4315],\"yaxis\":\"y\",\"type\":\"bar\"}],                        {\"template\":{\"data\":{\"barpolar\":[{\"marker\":{\"line\":{\"color\":\"white\",\"width\":0.5},\"pattern\":{\"fillmode\":\"overlay\",\"size\":10,\"solidity\":0.2}},\"type\":\"barpolar\"}],\"bar\":[{\"error_x\":{\"color\":\"#2a3f5f\"},\"error_y\":{\"color\":\"#2a3f5f\"},\"marker\":{\"line\":{\"color\":\"white\",\"width\":0.5},\"pattern\":{\"fillmode\":\"overlay\",\"size\":10,\"solidity\":0.2}},\"type\":\"bar\"}],\"carpet\":[{\"aaxis\":{\"endlinecolor\":\"#2a3f5f\",\"gridcolor\":\"#C8D4E3\",\"linecolor\":\"#C8D4E3\",\"minorgridcolor\":\"#C8D4E3\",\"startlinecolor\":\"#2a3f5f\"},\"baxis\":{\"endlinecolor\":\"#2a3f5f\",\"gridcolor\":\"#C8D4E3\",\"linecolor\":\"#C8D4E3\",\"minorgridcolor\":\"#C8D4E3\",\"startlinecolor\":\"#2a3f5f\"},\"type\":\"carpet\"}],\"choropleth\":[{\"colorbar\":{\"outlinewidth\":0,\"ticks\":\"\"},\"type\":\"choropleth\"}],\"contourcarpet\":[{\"colorbar\":{\"outlinewidth\":0,\"ticks\":\"\"},\"type\":\"contourcarpet\"}],\"contour\":[{\"colorbar\":{\"outlinewidth\":0,\"ticks\":\"\"},\"colorscale\":[[0.0,\"#0d0887\"],[0.1111111111111111,\"#46039f\"],[0.2222222222222222,\"#7201a8\"],[0.3333333333333333,\"#9c179e\"],[0.4444444444444444,\"#bd3786\"],[0.5555555555555556,\"#d8576b\"],[0.6666666666666666,\"#ed7953\"],[0.7777777777777778,\"#fb9f3a\"],[0.8888888888888888,\"#fdca26\"],[1.0,\"#f0f921\"]],\"type\":\"contour\"}],\"heatmapgl\":[{\"colorbar\":{\"outlinewidth\":0,\"ticks\":\"\"},\"colorscale\":[[0.0,\"#0d0887\"],[0.1111111111111111,\"#46039f\"],[0.2222222222222222,\"#7201a8\"],[0.3333333333333333,\"#9c179e\"],[0.4444444444444444,\"#bd3786\"],[0.5555555555555556,\"#d8576b\"],[0.6666666666666666,\"#ed7953\"],[0.7777777777777778,\"#fb9f3a\"],[0.8888888888888888,\"#fdca26\"],[1.0,\"#f0f921\"]],\"type\":\"heatmapgl\"}],\"heatmap\":[{\"colorbar\":{\"outlinewidth\":0,\"ticks\":\"\"},\"colorscale\":[[0.0,\"#0d0887\"],[0.1111111111111111,\"#46039f\"],[0.2222222222222222,\"#7201a8\"],[0.3333333333333333,\"#9c179e\"],[0.4444444444444444,\"#bd3786\"],[0.5555555555555556,\"#d8576b\"],[0.6666666666666666,\"#ed7953\"],[0.7777777777777778,\"#fb9f3a\"],[0.8888888888888888,\"#fdca26\"],[1.0,\"#f0f921\"]],\"type\":\"heatmap\"}],\"histogram2dcontour\":[{\"colorbar\":{\"outlinewidth\":0,\"ticks\":\"\"},\"colorscale\":[[0.0,\"#0d0887\"],[0.1111111111111111,\"#46039f\"],[0.2222222222222222,\"#7201a8\"],[0.3333333333333333,\"#9c179e\"],[0.4444444444444444,\"#bd3786\"],[0.5555555555555556,\"#d8576b\"],[0.6666666666666666,\"#ed7953\"],[0.7777777777777778,\"#fb9f3a\"],[0.8888888888888888,\"#fdca26\"],[1.0,\"#f0f921\"]],\"type\":\"histogram2dcontour\"}],\"histogram2d\":[{\"colorbar\":{\"outlinewidth\":0,\"ticks\":\"\"},\"colorscale\":[[0.0,\"#0d0887\"],[0.1111111111111111,\"#46039f\"],[0.2222222222222222,\"#7201a8\"],[0.3333333333333333,\"#9c179e\"],[0.4444444444444444,\"#bd3786\"],[0.5555555555555556,\"#d8576b\"],[0.6666666666666666,\"#ed7953\"],[0.7777777777777778,\"#fb9f3a\"],[0.8888888888888888,\"#fdca26\"],[1.0,\"#f0f921\"]],\"type\":\"histogram2d\"}],\"histogram\":[{\"marker\":{\"pattern\":{\"fillmode\":\"overlay\",\"size\":10,\"solidity\":0.2}},\"type\":\"histogram\"}],\"mesh3d\":[{\"colorbar\":{\"outlinewidth\":0,\"ticks\":\"\"},\"type\":\"mesh3d\"}],\"parcoords\":[{\"line\":{\"colorbar\":{\"outlinewidth\":0,\"ticks\":\"\"}},\"type\":\"parcoords\"}],\"pie\":[{\"automargin\":true,\"type\":\"pie\"}],\"scatter3d\":[{\"line\":{\"colorbar\":{\"outlinewidth\":0,\"ticks\":\"\"}},\"marker\":{\"colorbar\":{\"outlinewidth\":0,\"ticks\":\"\"}},\"type\":\"scatter3d\"}],\"scattercarpet\":[{\"marker\":{\"colorbar\":{\"outlinewidth\":0,\"ticks\":\"\"}},\"type\":\"scattercarpet\"}],\"scattergeo\":[{\"marker\":{\"colorbar\":{\"outlinewidth\":0,\"ticks\":\"\"}},\"type\":\"scattergeo\"}],\"scattergl\":[{\"marker\":{\"colorbar\":{\"outlinewidth\":0,\"ticks\":\"\"}},\"type\":\"scattergl\"}],\"scattermapbox\":[{\"marker\":{\"colorbar\":{\"outlinewidth\":0,\"ticks\":\"\"}},\"type\":\"scattermapbox\"}],\"scatterpolargl\":[{\"marker\":{\"colorbar\":{\"outlinewidth\":0,\"ticks\":\"\"}},\"type\":\"scatterpolargl\"}],\"scatterpolar\":[{\"marker\":{\"colorbar\":{\"outlinewidth\":0,\"ticks\":\"\"}},\"type\":\"scatterpolar\"}],\"scatter\":[{\"marker\":{\"colorbar\":{\"outlinewidth\":0,\"ticks\":\"\"}},\"type\":\"scatter\"}],\"scatterternary\":[{\"marker\":{\"colorbar\":{\"outlinewidth\":0,\"ticks\":\"\"}},\"type\":\"scatterternary\"}],\"surface\":[{\"colorbar\":{\"outlinewidth\":0,\"ticks\":\"\"},\"colorscale\":[[0.0,\"#0d0887\"],[0.1111111111111111,\"#46039f\"],[0.2222222222222222,\"#7201a8\"],[0.3333333333333333,\"#9c179e\"],[0.4444444444444444,\"#bd3786\"],[0.5555555555555556,\"#d8576b\"],[0.6666666666666666,\"#ed7953\"],[0.7777777777777778,\"#fb9f3a\"],[0.8888888888888888,\"#fdca26\"],[1.0,\"#f0f921\"]],\"type\":\"surface\"}],\"table\":[{\"cells\":{\"fill\":{\"color\":\"#EBF0F8\"},\"line\":{\"color\":\"white\"}},\"header\":{\"fill\":{\"color\":\"#C8D4E3\"},\"line\":{\"color\":\"white\"}},\"type\":\"table\"}]},\"layout\":{\"annotationdefaults\":{\"arrowcolor\":\"#2a3f5f\",\"arrowhead\":0,\"arrowwidth\":1},\"autotypenumbers\":\"strict\",\"coloraxis\":{\"colorbar\":{\"outlinewidth\":0,\"ticks\":\"\"}},\"colorscale\":{\"diverging\":[[0,\"#8e0152\"],[0.1,\"#c51b7d\"],[0.2,\"#de77ae\"],[0.3,\"#f1b6da\"],[0.4,\"#fde0ef\"],[0.5,\"#f7f7f7\"],[0.6,\"#e6f5d0\"],[0.7,\"#b8e186\"],[0.8,\"#7fbc41\"],[0.9,\"#4d9221\"],[1,\"#276419\"]],\"sequential\":[[0.0,\"#0d0887\"],[0.1111111111111111,\"#46039f\"],[0.2222222222222222,\"#7201a8\"],[0.3333333333333333,\"#9c179e\"],[0.4444444444444444,\"#bd3786\"],[0.5555555555555556,\"#d8576b\"],[0.6666666666666666,\"#ed7953\"],[0.7777777777777778,\"#fb9f3a\"],[0.8888888888888888,\"#fdca26\"],[1.0,\"#f0f921\"]],\"sequentialminus\":[[0.0,\"#0d0887\"],[0.1111111111111111,\"#46039f\"],[0.2222222222222222,\"#7201a8\"],[0.3333333333333333,\"#9c179e\"],[0.4444444444444444,\"#bd3786\"],[0.5555555555555556,\"#d8576b\"],[0.6666666666666666,\"#ed7953\"],[0.7777777777777778,\"#fb9f3a\"],[0.8888888888888888,\"#fdca26\"],[1.0,\"#f0f921\"]]},\"colorway\":[\"#636efa\",\"#EF553B\",\"#00cc96\",\"#ab63fa\",\"#FFA15A\",\"#19d3f3\",\"#FF6692\",\"#B6E880\",\"#FF97FF\",\"#FECB52\"],\"font\":{\"color\":\"#2a3f5f\"},\"geo\":{\"bgcolor\":\"white\",\"lakecolor\":\"white\",\"landcolor\":\"white\",\"showlakes\":true,\"showland\":true,\"subunitcolor\":\"#C8D4E3\"},\"hoverlabel\":{\"align\":\"left\"},\"hovermode\":\"closest\",\"mapbox\":{\"style\":\"light\"},\"paper_bgcolor\":\"white\",\"plot_bgcolor\":\"white\",\"polar\":{\"angularaxis\":{\"gridcolor\":\"#EBF0F8\",\"linecolor\":\"#EBF0F8\",\"ticks\":\"\"},\"bgcolor\":\"white\",\"radialaxis\":{\"gridcolor\":\"#EBF0F8\",\"linecolor\":\"#EBF0F8\",\"ticks\":\"\"}},\"scene\":{\"xaxis\":{\"backgroundcolor\":\"white\",\"gridcolor\":\"#DFE8F3\",\"gridwidth\":2,\"linecolor\":\"#EBF0F8\",\"showbackground\":true,\"ticks\":\"\",\"zerolinecolor\":\"#EBF0F8\"},\"yaxis\":{\"backgroundcolor\":\"white\",\"gridcolor\":\"#DFE8F3\",\"gridwidth\":2,\"linecolor\":\"#EBF0F8\",\"showbackground\":true,\"ticks\":\"\",\"zerolinecolor\":\"#EBF0F8\"},\"zaxis\":{\"backgroundcolor\":\"white\",\"gridcolor\":\"#DFE8F3\",\"gridwidth\":2,\"linecolor\":\"#EBF0F8\",\"showbackground\":true,\"ticks\":\"\",\"zerolinecolor\":\"#EBF0F8\"}},\"shapedefaults\":{\"line\":{\"color\":\"#2a3f5f\"}},\"ternary\":{\"aaxis\":{\"gridcolor\":\"#DFE8F3\",\"linecolor\":\"#A2B1C6\",\"ticks\":\"\"},\"baxis\":{\"gridcolor\":\"#DFE8F3\",\"linecolor\":\"#A2B1C6\",\"ticks\":\"\"},\"bgcolor\":\"white\",\"caxis\":{\"gridcolor\":\"#DFE8F3\",\"linecolor\":\"#A2B1C6\",\"ticks\":\"\"}},\"title\":{\"x\":0.05},\"xaxis\":{\"automargin\":true,\"gridcolor\":\"#EBF0F8\",\"linecolor\":\"#EBF0F8\",\"ticks\":\"\",\"title\":{\"standoff\":15},\"zerolinecolor\":\"#EBF0F8\",\"zerolinewidth\":2},\"yaxis\":{\"automargin\":true,\"gridcolor\":\"#EBF0F8\",\"linecolor\":\"#EBF0F8\",\"ticks\":\"\",\"title\":{\"standoff\":15},\"zerolinecolor\":\"#EBF0F8\",\"zerolinewidth\":2}}},\"xaxis\":{\"anchor\":\"y\",\"domain\":[0.0,1.0],\"title\":{\"text\":\"Transported\"}},\"yaxis\":{\"anchor\":\"x\",\"domain\":[0.0,1.0],\"title\":{\"text\":\"count\"}},\"legend\":{\"tracegroupgap\":0},\"margin\":{\"t\":60},\"barmode\":\"relative\",\"title\":{\"text\":\"Target Distribution\",\"x\":0.5}},                        {\"responsive\": true}                    ).then(function(){\n",
       "                            \n",
       "var gd = document.getElementById('a4ec79b6-c9c1-4745-8645-297af292a755');\n",
       "var x = new MutationObserver(function (mutations, observer) {{\n",
       "        var display = window.getComputedStyle(gd).display;\n",
       "        if (!display || display === 'none') {{\n",
       "            console.log([gd, 'removed!']);\n",
       "            Plotly.purge(gd);\n",
       "            observer.disconnect();\n",
       "        }}\n",
       "}});\n",
       "\n",
       "// Listen for the removal of the full notebook cells\n",
       "var notebookContainer = gd.closest('#notebook-container');\n",
       "if (notebookContainer) {{\n",
       "    x.observe(notebookContainer, {childList: true});\n",
       "}}\n",
       "\n",
       "// Listen for the clearing of the current output cell\n",
       "var outputEl = gd.closest('.output');\n",
       "if (outputEl) {{\n",
       "    x.observe(outputEl, {childList: true});\n",
       "}}\n",
       "\n",
       "                        })                };                            </script>        </div>\n",
       "</body>\n",
       "</html>"
      ]
     },
     "metadata": {},
     "output_type": "display_data"
    }
   ],
   "source": [
    "target_df = pd.DataFrame(train_n[TARGET].value_counts()).reset_index()\n",
    "target_df.columns = [TARGET, 'count']\n",
    "\n",
    "fig = px.bar(data_frame =target_df, x = TARGET, y = 'count'  ) \n",
    "\n",
    "fig.update_traces(marker_color =['#58D68D','#DE3163'], \n",
    "                  marker_line_color='rgb(0,0,0)',\n",
    "                  marker_line_width=2,)\n",
    "\n",
    "fig.update_layout(title = \"Target Distribution\", \n",
    "                  template = \"plotly_white\",\n",
    "                  title_x = 0.5)\n",
    "\n",
    "percent_0 = target_df[\"count\"][0] *100 / train_n.shape[0]\n",
    "percent_1 = target_df[\"count\"][1]* 100 / train_n.shape[0]\n",
    "\n",
    "print(\"Transported(0)의 비율 {:.2f} %\".format( percent_0 ))\n",
    "print(\"Transported(1)의 비율 {:.2f} %\".format( percent_1 ))\n",
    "\n",
    "fig.show()"
   ]
  },
  {
   "cell_type": "code",
   "execution_count": 49,
   "metadata": {
    "colab": {
     "base_uri": "https://localhost:8080/",
     "height": 542
    },
    "id": "92niOMIcNIVE",
    "outputId": "9d573140-a43b-4d3f-9465-23b076b8441d"
   },
   "outputs": [
    {
     "data": {
      "text/html": [
       "<html>\n",
       "<head><meta charset=\"utf-8\" /></head>\n",
       "<body>\n",
       "    <div>            <script src=\"https://cdnjs.cloudflare.com/ajax/libs/mathjax/2.7.5/MathJax.js?config=TeX-AMS-MML_SVG\"></script><script type=\"text/javascript\">if (window.MathJax) {MathJax.Hub.Config({SVG: {font: \"STIX-Web\"}});}</script>                <script type=\"text/javascript\">window.PlotlyConfig = {MathJaxConfig: 'local'};</script>\n",
       "        <script src=\"https://cdn.plot.ly/plotly-2.8.3.min.js\"></script>                <div id=\"afba341b-c8f3-4550-8c08-7db6825eef8b\" class=\"plotly-graph-div\" style=\"height:525px; width:100%;\"></div>            <script type=\"text/javascript\">                                    window.PLOTLYENV=window.PLOTLYENV || {};                                    if (document.getElementById(\"afba341b-c8f3-4550-8c08-7db6825eef8b\")) {                    Plotly.newPlot(                        \"afba341b-c8f3-4550-8c08-7db6825eef8b\",                        [{\"coloraxis\":\"coloraxis\",\"name\":\"0\",\"texttemplate\":\"%{z}\",\"x\":[\"Age\",\"RoomService\",\"FoodCourt\",\"ShoppingMall\",\"Spa\",\"VRDeck\",\"Transported\"],\"y\":[\"Age\",\"RoomService\",\"FoodCourt\",\"ShoppingMall\",\"Spa\",\"VRDeck\",\"Transported\"],\"z\":[[1.0,0.06872304411557698,0.1304209544320568,0.033132616182053966,0.12397032353133916,0.10100728890306833,-0.07502558362232603],[0.06872304411557698,1.0,-0.015888939359238876,0.05448032028344189,0.010079520358470088,-0.019581492428894107,-0.24461142158527635],[0.1304209544320568,-0.015888939359238876,1.0,-0.014227745561335022,0.22189053354751054,0.22799541000479612,0.04656639376472198],[0.033132616182053966,0.05448032028344189,-0.014227745561335022,1.0,0.013878590426088801,-0.007321714557183197,0.010140890024277142],[0.12397032353133916,0.010079520358470088,0.22189053354751054,0.013878590426088801,1.0,0.15382122542139506,-0.22113134924572775],[0.10100728890306833,-0.019581492428894107,0.22799541000479612,-0.007321714557183197,0.15382122542139506,1.0,-0.20707538958428962],[-0.07502558362232603,-0.24461142158527635,0.04656639376472198,0.010140890024277142,-0.22113134924572775,-0.20707538958428962,1.0]],\"type\":\"heatmap\",\"xaxis\":\"x\",\"yaxis\":\"y\",\"hovertemplate\":\"x: %{x}<br>y: %{y}<br>color: %{z}<extra></extra>\"}],                        {\"template\":{\"data\":{\"bar\":[{\"error_x\":{\"color\":\"#2a3f5f\"},\"error_y\":{\"color\":\"#2a3f5f\"},\"marker\":{\"line\":{\"color\":\"#E5ECF6\",\"width\":0.5},\"pattern\":{\"fillmode\":\"overlay\",\"size\":10,\"solidity\":0.2}},\"type\":\"bar\"}],\"barpolar\":[{\"marker\":{\"line\":{\"color\":\"#E5ECF6\",\"width\":0.5},\"pattern\":{\"fillmode\":\"overlay\",\"size\":10,\"solidity\":0.2}},\"type\":\"barpolar\"}],\"carpet\":[{\"aaxis\":{\"endlinecolor\":\"#2a3f5f\",\"gridcolor\":\"white\",\"linecolor\":\"white\",\"minorgridcolor\":\"white\",\"startlinecolor\":\"#2a3f5f\"},\"baxis\":{\"endlinecolor\":\"#2a3f5f\",\"gridcolor\":\"white\",\"linecolor\":\"white\",\"minorgridcolor\":\"white\",\"startlinecolor\":\"#2a3f5f\"},\"type\":\"carpet\"}],\"choropleth\":[{\"colorbar\":{\"outlinewidth\":0,\"ticks\":\"\"},\"type\":\"choropleth\"}],\"contour\":[{\"colorbar\":{\"outlinewidth\":0,\"ticks\":\"\"},\"colorscale\":[[0.0,\"#0d0887\"],[0.1111111111111111,\"#46039f\"],[0.2222222222222222,\"#7201a8\"],[0.3333333333333333,\"#9c179e\"],[0.4444444444444444,\"#bd3786\"],[0.5555555555555556,\"#d8576b\"],[0.6666666666666666,\"#ed7953\"],[0.7777777777777778,\"#fb9f3a\"],[0.8888888888888888,\"#fdca26\"],[1.0,\"#f0f921\"]],\"type\":\"contour\"}],\"contourcarpet\":[{\"colorbar\":{\"outlinewidth\":0,\"ticks\":\"\"},\"type\":\"contourcarpet\"}],\"heatmap\":[{\"colorbar\":{\"outlinewidth\":0,\"ticks\":\"\"},\"colorscale\":[[0.0,\"#0d0887\"],[0.1111111111111111,\"#46039f\"],[0.2222222222222222,\"#7201a8\"],[0.3333333333333333,\"#9c179e\"],[0.4444444444444444,\"#bd3786\"],[0.5555555555555556,\"#d8576b\"],[0.6666666666666666,\"#ed7953\"],[0.7777777777777778,\"#fb9f3a\"],[0.8888888888888888,\"#fdca26\"],[1.0,\"#f0f921\"]],\"type\":\"heatmap\"}],\"heatmapgl\":[{\"colorbar\":{\"outlinewidth\":0,\"ticks\":\"\"},\"colorscale\":[[0.0,\"#0d0887\"],[0.1111111111111111,\"#46039f\"],[0.2222222222222222,\"#7201a8\"],[0.3333333333333333,\"#9c179e\"],[0.4444444444444444,\"#bd3786\"],[0.5555555555555556,\"#d8576b\"],[0.6666666666666666,\"#ed7953\"],[0.7777777777777778,\"#fb9f3a\"],[0.8888888888888888,\"#fdca26\"],[1.0,\"#f0f921\"]],\"type\":\"heatmapgl\"}],\"histogram\":[{\"marker\":{\"pattern\":{\"fillmode\":\"overlay\",\"size\":10,\"solidity\":0.2}},\"type\":\"histogram\"}],\"histogram2d\":[{\"colorbar\":{\"outlinewidth\":0,\"ticks\":\"\"},\"colorscale\":[[0.0,\"#0d0887\"],[0.1111111111111111,\"#46039f\"],[0.2222222222222222,\"#7201a8\"],[0.3333333333333333,\"#9c179e\"],[0.4444444444444444,\"#bd3786\"],[0.5555555555555556,\"#d8576b\"],[0.6666666666666666,\"#ed7953\"],[0.7777777777777778,\"#fb9f3a\"],[0.8888888888888888,\"#fdca26\"],[1.0,\"#f0f921\"]],\"type\":\"histogram2d\"}],\"histogram2dcontour\":[{\"colorbar\":{\"outlinewidth\":0,\"ticks\":\"\"},\"colorscale\":[[0.0,\"#0d0887\"],[0.1111111111111111,\"#46039f\"],[0.2222222222222222,\"#7201a8\"],[0.3333333333333333,\"#9c179e\"],[0.4444444444444444,\"#bd3786\"],[0.5555555555555556,\"#d8576b\"],[0.6666666666666666,\"#ed7953\"],[0.7777777777777778,\"#fb9f3a\"],[0.8888888888888888,\"#fdca26\"],[1.0,\"#f0f921\"]],\"type\":\"histogram2dcontour\"}],\"mesh3d\":[{\"colorbar\":{\"outlinewidth\":0,\"ticks\":\"\"},\"type\":\"mesh3d\"}],\"parcoords\":[{\"line\":{\"colorbar\":{\"outlinewidth\":0,\"ticks\":\"\"}},\"type\":\"parcoords\"}],\"pie\":[{\"automargin\":true,\"type\":\"pie\"}],\"scatter\":[{\"marker\":{\"colorbar\":{\"outlinewidth\":0,\"ticks\":\"\"}},\"type\":\"scatter\"}],\"scatter3d\":[{\"line\":{\"colorbar\":{\"outlinewidth\":0,\"ticks\":\"\"}},\"marker\":{\"colorbar\":{\"outlinewidth\":0,\"ticks\":\"\"}},\"type\":\"scatter3d\"}],\"scattercarpet\":[{\"marker\":{\"colorbar\":{\"outlinewidth\":0,\"ticks\":\"\"}},\"type\":\"scattercarpet\"}],\"scattergeo\":[{\"marker\":{\"colorbar\":{\"outlinewidth\":0,\"ticks\":\"\"}},\"type\":\"scattergeo\"}],\"scattergl\":[{\"marker\":{\"colorbar\":{\"outlinewidth\":0,\"ticks\":\"\"}},\"type\":\"scattergl\"}],\"scattermapbox\":[{\"marker\":{\"colorbar\":{\"outlinewidth\":0,\"ticks\":\"\"}},\"type\":\"scattermapbox\"}],\"scatterpolar\":[{\"marker\":{\"colorbar\":{\"outlinewidth\":0,\"ticks\":\"\"}},\"type\":\"scatterpolar\"}],\"scatterpolargl\":[{\"marker\":{\"colorbar\":{\"outlinewidth\":0,\"ticks\":\"\"}},\"type\":\"scatterpolargl\"}],\"scatterternary\":[{\"marker\":{\"colorbar\":{\"outlinewidth\":0,\"ticks\":\"\"}},\"type\":\"scatterternary\"}],\"surface\":[{\"colorbar\":{\"outlinewidth\":0,\"ticks\":\"\"},\"colorscale\":[[0.0,\"#0d0887\"],[0.1111111111111111,\"#46039f\"],[0.2222222222222222,\"#7201a8\"],[0.3333333333333333,\"#9c179e\"],[0.4444444444444444,\"#bd3786\"],[0.5555555555555556,\"#d8576b\"],[0.6666666666666666,\"#ed7953\"],[0.7777777777777778,\"#fb9f3a\"],[0.8888888888888888,\"#fdca26\"],[1.0,\"#f0f921\"]],\"type\":\"surface\"}],\"table\":[{\"cells\":{\"fill\":{\"color\":\"#EBF0F8\"},\"line\":{\"color\":\"white\"}},\"header\":{\"fill\":{\"color\":\"#C8D4E3\"},\"line\":{\"color\":\"white\"}},\"type\":\"table\"}]},\"layout\":{\"annotationdefaults\":{\"arrowcolor\":\"#2a3f5f\",\"arrowhead\":0,\"arrowwidth\":1},\"autotypenumbers\":\"strict\",\"coloraxis\":{\"colorbar\":{\"outlinewidth\":0,\"ticks\":\"\"}},\"colorscale\":{\"diverging\":[[0,\"#8e0152\"],[0.1,\"#c51b7d\"],[0.2,\"#de77ae\"],[0.3,\"#f1b6da\"],[0.4,\"#fde0ef\"],[0.5,\"#f7f7f7\"],[0.6,\"#e6f5d0\"],[0.7,\"#b8e186\"],[0.8,\"#7fbc41\"],[0.9,\"#4d9221\"],[1,\"#276419\"]],\"sequential\":[[0.0,\"#0d0887\"],[0.1111111111111111,\"#46039f\"],[0.2222222222222222,\"#7201a8\"],[0.3333333333333333,\"#9c179e\"],[0.4444444444444444,\"#bd3786\"],[0.5555555555555556,\"#d8576b\"],[0.6666666666666666,\"#ed7953\"],[0.7777777777777778,\"#fb9f3a\"],[0.8888888888888888,\"#fdca26\"],[1.0,\"#f0f921\"]],\"sequentialminus\":[[0.0,\"#0d0887\"],[0.1111111111111111,\"#46039f\"],[0.2222222222222222,\"#7201a8\"],[0.3333333333333333,\"#9c179e\"],[0.4444444444444444,\"#bd3786\"],[0.5555555555555556,\"#d8576b\"],[0.6666666666666666,\"#ed7953\"],[0.7777777777777778,\"#fb9f3a\"],[0.8888888888888888,\"#fdca26\"],[1.0,\"#f0f921\"]]},\"colorway\":[\"#636efa\",\"#EF553B\",\"#00cc96\",\"#ab63fa\",\"#FFA15A\",\"#19d3f3\",\"#FF6692\",\"#B6E880\",\"#FF97FF\",\"#FECB52\"],\"font\":{\"color\":\"#2a3f5f\"},\"geo\":{\"bgcolor\":\"white\",\"lakecolor\":\"white\",\"landcolor\":\"#E5ECF6\",\"showlakes\":true,\"showland\":true,\"subunitcolor\":\"white\"},\"hoverlabel\":{\"align\":\"left\"},\"hovermode\":\"closest\",\"mapbox\":{\"style\":\"light\"},\"paper_bgcolor\":\"white\",\"plot_bgcolor\":\"#E5ECF6\",\"polar\":{\"angularaxis\":{\"gridcolor\":\"white\",\"linecolor\":\"white\",\"ticks\":\"\"},\"bgcolor\":\"#E5ECF6\",\"radialaxis\":{\"gridcolor\":\"white\",\"linecolor\":\"white\",\"ticks\":\"\"}},\"scene\":{\"xaxis\":{\"backgroundcolor\":\"#E5ECF6\",\"gridcolor\":\"white\",\"gridwidth\":2,\"linecolor\":\"white\",\"showbackground\":true,\"ticks\":\"\",\"zerolinecolor\":\"white\"},\"yaxis\":{\"backgroundcolor\":\"#E5ECF6\",\"gridcolor\":\"white\",\"gridwidth\":2,\"linecolor\":\"white\",\"showbackground\":true,\"ticks\":\"\",\"zerolinecolor\":\"white\"},\"zaxis\":{\"backgroundcolor\":\"#E5ECF6\",\"gridcolor\":\"white\",\"gridwidth\":2,\"linecolor\":\"white\",\"showbackground\":true,\"ticks\":\"\",\"zerolinecolor\":\"white\"}},\"shapedefaults\":{\"line\":{\"color\":\"#2a3f5f\"}},\"ternary\":{\"aaxis\":{\"gridcolor\":\"white\",\"linecolor\":\"white\",\"ticks\":\"\"},\"baxis\":{\"gridcolor\":\"white\",\"linecolor\":\"white\",\"ticks\":\"\"},\"bgcolor\":\"#E5ECF6\",\"caxis\":{\"gridcolor\":\"white\",\"linecolor\":\"white\",\"ticks\":\"\"}},\"title\":{\"x\":0.05},\"xaxis\":{\"automargin\":true,\"gridcolor\":\"white\",\"linecolor\":\"white\",\"ticks\":\"\",\"title\":{\"standoff\":15},\"zerolinecolor\":\"white\",\"zerolinewidth\":2},\"yaxis\":{\"automargin\":true,\"gridcolor\":\"white\",\"linecolor\":\"white\",\"ticks\":\"\",\"title\":{\"standoff\":15},\"zerolinecolor\":\"white\",\"zerolinewidth\":2}}},\"xaxis\":{\"anchor\":\"y\",\"domain\":[0.0,1.0]},\"yaxis\":{\"anchor\":\"x\",\"domain\":[0.0,1.0],\"autorange\":\"reversed\"},\"coloraxis\":{\"colorscale\":[[0.0,\"#440154\"],[0.1111111111111111,\"#482878\"],[0.2222222222222222,\"#3e4989\"],[0.3333333333333333,\"#31688e\"],[0.4444444444444444,\"#26828e\"],[0.5555555555555556,\"#1f9e89\"],[0.6666666666666666,\"#35b779\"],[0.7777777777777778,\"#6ece58\"],[0.8888888888888888,\"#b5de2b\"],[1.0,\"#fde725\"]]},\"margin\":{\"t\":60}},                        {\"responsive\": true}                    ).then(function(){\n",
       "                            \n",
       "var gd = document.getElementById('afba341b-c8f3-4550-8c08-7db6825eef8b');\n",
       "var x = new MutationObserver(function (mutations, observer) {{\n",
       "        var display = window.getComputedStyle(gd).display;\n",
       "        if (!display || display === 'none') {{\n",
       "            console.log([gd, 'removed!']);\n",
       "            Plotly.purge(gd);\n",
       "            observer.disconnect();\n",
       "        }}\n",
       "}});\n",
       "\n",
       "// Listen for the removal of the full notebook cells\n",
       "var notebookContainer = gd.closest('#notebook-container');\n",
       "if (notebookContainer) {{\n",
       "    x.observe(notebookContainer, {childList: true});\n",
       "}}\n",
       "\n",
       "// Listen for the clearing of the current output cell\n",
       "var outputEl = gd.closest('.output');\n",
       "if (outputEl) {{\n",
       "    x.observe(outputEl, {childList: true});\n",
       "}}\n",
       "\n",
       "                        })                };                            </script>        </div>\n",
       "</body>\n",
       "</html>"
      ]
     },
     "metadata": {},
     "output_type": "display_data"
    }
   ],
   "source": [
    "# 상관계수 행렬\n",
    "fig = px.imshow(train_n.corr(),\n",
    "                text_auto=True, \n",
    "                aspect=\"auto\" , \n",
    "                color_continuous_scale = \"viridis\")\n",
    "fig.show()"
   ]
  },
  {
   "cell_type": "markdown",
   "metadata": {
    "id": "u_vdsSvANM51"
   },
   "source": [
    "#### 03. 데이터 전처리"
   ]
  },
  {
   "cell_type": "code",
   "execution_count": 50,
   "metadata": {
    "colab": {
     "base_uri": "https://localhost:8080/",
     "height": 361
    },
    "id": "cOxGvRz5NKQ8",
    "outputId": "656f1763-42d1-460c-923c-70d94abf266d"
   },
   "outputs": [
    {
     "name": "stdout",
     "output_type": "stream",
     "text": [
      "hour          0\n",
      "attendance    2\n",
      "assignment    2\n",
      "score         0\n",
      "dtype: int64\n"
     ]
    },
    {
     "data": {
      "text/html": [
       "\n",
       "  <div id=\"df-58d8044e-bb99-4c20-8139-4a5350ac09a7\">\n",
       "    <div class=\"colab-df-container\">\n",
       "      <div>\n",
       "<style scoped>\n",
       "    .dataframe tbody tr th:only-of-type {\n",
       "        vertical-align: middle;\n",
       "    }\n",
       "\n",
       "    .dataframe tbody tr th {\n",
       "        vertical-align: top;\n",
       "    }\n",
       "\n",
       "    .dataframe thead th {\n",
       "        text-align: right;\n",
       "    }\n",
       "</style>\n",
       "<table border=\"1\" class=\"dataframe\">\n",
       "  <thead>\n",
       "    <tr style=\"text-align: right;\">\n",
       "      <th></th>\n",
       "      <th>hour</th>\n",
       "      <th>attendance</th>\n",
       "      <th>assignment</th>\n",
       "      <th>score</th>\n",
       "    </tr>\n",
       "  </thead>\n",
       "  <tbody>\n",
       "    <tr>\n",
       "      <th>0</th>\n",
       "      <td>2</td>\n",
       "      <td>1.0</td>\n",
       "      <td>3.0</td>\n",
       "      <td>3</td>\n",
       "    </tr>\n",
       "    <tr>\n",
       "      <th>1</th>\n",
       "      <td>3</td>\n",
       "      <td>2.0</td>\n",
       "      <td>4.0</td>\n",
       "      <td>5</td>\n",
       "    </tr>\n",
       "    <tr>\n",
       "      <th>2</th>\n",
       "      <td>3</td>\n",
       "      <td>NaN</td>\n",
       "      <td>4.0</td>\n",
       "      <td>7</td>\n",
       "    </tr>\n",
       "    <tr>\n",
       "      <th>3</th>\n",
       "      <td>5</td>\n",
       "      <td>NaN</td>\n",
       "      <td>5.0</td>\n",
       "      <td>10</td>\n",
       "    </tr>\n",
       "    <tr>\n",
       "      <th>4</th>\n",
       "      <td>7</td>\n",
       "      <td>5.0</td>\n",
       "      <td>6.0</td>\n",
       "      <td>12</td>\n",
       "    </tr>\n",
       "    <tr>\n",
       "      <th>5</th>\n",
       "      <td>2</td>\n",
       "      <td>5.0</td>\n",
       "      <td>NaN</td>\n",
       "      <td>7</td>\n",
       "    </tr>\n",
       "    <tr>\n",
       "      <th>6</th>\n",
       "      <td>8</td>\n",
       "      <td>9.0</td>\n",
       "      <td>NaN</td>\n",
       "      <td>13</td>\n",
       "    </tr>\n",
       "  </tbody>\n",
       "</table>\n",
       "</div>\n",
       "      <button class=\"colab-df-convert\" onclick=\"convertToInteractive('df-58d8044e-bb99-4c20-8139-4a5350ac09a7')\"\n",
       "              title=\"Convert this dataframe to an interactive table.\"\n",
       "              style=\"display:none;\">\n",
       "        \n",
       "  <svg xmlns=\"http://www.w3.org/2000/svg\" height=\"24px\"viewBox=\"0 0 24 24\"\n",
       "       width=\"24px\">\n",
       "    <path d=\"M0 0h24v24H0V0z\" fill=\"none\"/>\n",
       "    <path d=\"M18.56 5.44l.94 2.06.94-2.06 2.06-.94-2.06-.94-.94-2.06-.94 2.06-2.06.94zm-11 1L8.5 8.5l.94-2.06 2.06-.94-2.06-.94L8.5 2.5l-.94 2.06-2.06.94zm10 10l.94 2.06.94-2.06 2.06-.94-2.06-.94-.94-2.06-.94 2.06-2.06.94z\"/><path d=\"M17.41 7.96l-1.37-1.37c-.4-.4-.92-.59-1.43-.59-.52 0-1.04.2-1.43.59L10.3 9.45l-7.72 7.72c-.78.78-.78 2.05 0 2.83L4 21.41c.39.39.9.59 1.41.59.51 0 1.02-.2 1.41-.59l7.78-7.78 2.81-2.81c.8-.78.8-2.07 0-2.86zM5.41 20L4 18.59l7.72-7.72 1.47 1.35L5.41 20z\"/>\n",
       "  </svg>\n",
       "      </button>\n",
       "      \n",
       "  <style>\n",
       "    .colab-df-container {\n",
       "      display:flex;\n",
       "      flex-wrap:wrap;\n",
       "      gap: 12px;\n",
       "    }\n",
       "\n",
       "    .colab-df-convert {\n",
       "      background-color: #E8F0FE;\n",
       "      border: none;\n",
       "      border-radius: 50%;\n",
       "      cursor: pointer;\n",
       "      display: none;\n",
       "      fill: #1967D2;\n",
       "      height: 32px;\n",
       "      padding: 0 0 0 0;\n",
       "      width: 32px;\n",
       "    }\n",
       "\n",
       "    .colab-df-convert:hover {\n",
       "      background-color: #E2EBFA;\n",
       "      box-shadow: 0px 1px 2px rgba(60, 64, 67, 0.3), 0px 1px 3px 1px rgba(60, 64, 67, 0.15);\n",
       "      fill: #174EA6;\n",
       "    }\n",
       "\n",
       "    [theme=dark] .colab-df-convert {\n",
       "      background-color: #3B4455;\n",
       "      fill: #D2E3FC;\n",
       "    }\n",
       "\n",
       "    [theme=dark] .colab-df-convert:hover {\n",
       "      background-color: #434B5C;\n",
       "      box-shadow: 0px 1px 3px 1px rgba(0, 0, 0, 0.15);\n",
       "      filter: drop-shadow(0px 1px 2px rgba(0, 0, 0, 0.3));\n",
       "      fill: #FFFFFF;\n",
       "    }\n",
       "  </style>\n",
       "\n",
       "      <script>\n",
       "        const buttonEl =\n",
       "          document.querySelector('#df-58d8044e-bb99-4c20-8139-4a5350ac09a7 button.colab-df-convert');\n",
       "        buttonEl.style.display =\n",
       "          google.colab.kernel.accessAllowed ? 'block' : 'none';\n",
       "\n",
       "        async function convertToInteractive(key) {\n",
       "          const element = document.querySelector('#df-58d8044e-bb99-4c20-8139-4a5350ac09a7');\n",
       "          const dataTable =\n",
       "            await google.colab.kernel.invokeFunction('convertToInteractive',\n",
       "                                                     [key], {});\n",
       "          if (!dataTable) return;\n",
       "\n",
       "          const docLinkHtml = 'Like what you see? Visit the ' +\n",
       "            '<a target=\"_blank\" href=https://colab.research.google.com/notebooks/data_table.ipynb>data table notebook</a>'\n",
       "            + ' to learn more about interactive tables.';\n",
       "          element.innerHTML = '';\n",
       "          dataTable['output_type'] = 'display_data';\n",
       "          await google.colab.output.renderOutput(dataTable, element);\n",
       "          const docLink = document.createElement('div');\n",
       "          docLink.innerHTML = docLinkHtml;\n",
       "          element.appendChild(docLink);\n",
       "        }\n",
       "      </script>\n",
       "    </div>\n",
       "  </div>\n",
       "  "
      ],
      "text/plain": [
       "   hour  attendance  assignment  score\n",
       "0     2         1.0         3.0      3\n",
       "1     3         2.0         4.0      5\n",
       "2     3         NaN         4.0      7\n",
       "3     5         NaN         5.0     10\n",
       "4     7         5.0         6.0     12\n",
       "5     2         5.0         NaN      7\n",
       "6     8         9.0         NaN     13"
      ]
     },
     "execution_count": 50,
     "metadata": {},
     "output_type": "execute_result"
    }
   ],
   "source": [
    "# SimpleImputer 예제\n",
    "import numpy as np\n",
    "import pandas as pd\n",
    "from sklearn.impute import SimpleImputer\n",
    "\n",
    "##########데이터 로드\n",
    "\n",
    "df = pd.DataFrame([\n",
    "    [2, 1, 3 , 3],\n",
    "    [3, 2, 4, 5],\n",
    "    [3, np.nan, 4, 7],\n",
    "    [5, np.nan, 5, 10],\n",
    "    [7, 5, 6, 12],\n",
    "    [2, 5, np.nan, 7],\n",
    "    [8, 9, np.nan, 13],\n",
    "], columns=['hour', 'attendance', 'assignment','score'])\n",
    "\n",
    "\n",
    "print(df.isnull().sum())\n",
    "df"
   ]
  },
  {
   "cell_type": "code",
   "execution_count": 51,
   "metadata": {
    "colab": {
     "base_uri": "https://localhost:8080/"
    },
    "id": "CgWEXFyxNQAO",
    "outputId": "63315122-4ba7-45c9-ac34-6e07409dc7ac"
   },
   "outputs": [
    {
     "name": "stdout",
     "output_type": "stream",
     "text": [
      "[[2.  1.  3. ]\n",
      " [3.  2.  4. ]\n",
      " [3.  4.4 4. ]\n",
      " [5.  4.4 5. ]\n",
      " [7.  5.  6. ]\n",
      " [2.  5.  4.4]\n",
      " [8.  9.  4.4]]\n"
     ]
    }
   ],
   "source": [
    "x_data = df.drop(['score'], axis=1) \n",
    "y_data = df['score']\n",
    "\n",
    "transformer = SimpleImputer()\n",
    "transformer.fit(x_data)\n",
    "x_data = transformer.transform(x_data)\n",
    "print(x_data)"
   ]
  },
  {
   "cell_type": "code",
   "execution_count": 52,
   "metadata": {
    "colab": {
     "base_uri": "https://localhost:8080/"
    },
    "id": "yS8vXjKoNSBW",
    "outputId": "271f6c12-79b3-4fd5-f9cd-99876a532645"
   },
   "outputs": [
    {
     "name": "stdout",
     "output_type": "stream",
     "text": [
      "<class 'pandas.core.frame.DataFrame'>\n",
      "RangeIndex: 8693 entries, 0 to 8692\n",
      "Data columns (total 13 columns):\n",
      " #   Column        Non-Null Count  Dtype  \n",
      "---  ------        --------------  -----  \n",
      " 0   HomePlanet    8492 non-null   object \n",
      " 1   CryoSleep     8476 non-null   object \n",
      " 2   Cabin         8494 non-null   object \n",
      " 3   Destination   8511 non-null   object \n",
      " 4   Age           8514 non-null   float64\n",
      " 5   VIP           8490 non-null   object \n",
      " 6   RoomService   8512 non-null   float64\n",
      " 7   FoodCourt     8510 non-null   float64\n",
      " 8   ShoppingMall  8485 non-null   float64\n",
      " 9   Spa           8510 non-null   float64\n",
      " 10  VRDeck        8505 non-null   float64\n",
      " 11  Name          8493 non-null   object \n",
      " 12  Transported   8693 non-null   bool   \n",
      "dtypes: bool(1), float64(6), object(6)\n",
      "memory usage: 823.6+ KB\n"
     ]
    }
   ],
   "source": [
    "# SimpleImputer를 이용한 결측치 처리\n",
    "train_n.info()"
   ]
  },
  {
   "cell_type": "code",
   "execution_count": 53,
   "metadata": {
    "colab": {
     "base_uri": "https://localhost:8080/"
    },
    "id": "g1Dn2wijNUky",
    "outputId": "3c0363ab-679c-490f-8a68-578cd15d4b3a"
   },
   "outputs": [
    {
     "name": "stdout",
     "output_type": "stream",
     "text": [
      "Earth     4602\n",
      "Europa    2131\n",
      "Mars      1759\n",
      "Name: HomePlanet, dtype: int64\n",
      "Earth     2263\n",
      "Europa    1002\n",
      "Mars       925\n",
      "Name: HomePlanet, dtype: int64\n",
      "['Europa' 'Earth' 'Mars' nan] ['Earth' 'Europa' 'Mars' nan]\n"
     ]
    }
   ],
   "source": [
    "print( train_n[\"HomePlanet\"].value_counts() )\n",
    "print( test_n[\"HomePlanet\"].value_counts() )\n",
    "print( train_n[\"HomePlanet\"].unique(), test_n[\"HomePlanet\"].unique() )"
   ]
  },
  {
   "cell_type": "code",
   "execution_count": 54,
   "metadata": {
    "colab": {
     "base_uri": "https://localhost:8080/"
    },
    "id": "oN3Xvq2WNVu_",
    "outputId": "c6c9faeb-ceb5-4f53-cbb0-be52f3632553"
   },
   "outputs": [
    {
     "name": "stdout",
     "output_type": "stream",
     "text": [
      "Age             0\n",
      "RoomService     0\n",
      "FoodCourt       0\n",
      "ShoppingMall    0\n",
      "Spa             0\n",
      "VRDeck          0\n",
      "dtype: int64\n",
      "Age             0\n",
      "RoomService     0\n",
      "FoodCourt       0\n",
      "ShoppingMall    0\n",
      "Spa             0\n",
      "VRDeck          0\n",
      "dtype: int64\n"
     ]
    },
    {
     "data": {
      "text/plain": [
       "(HomePlanet        0\n",
       " CryoSleep       217\n",
       " Cabin           199\n",
       " Destination     182\n",
       " Age               0\n",
       " VIP             203\n",
       " RoomService       0\n",
       " FoodCourt         0\n",
       " ShoppingMall      0\n",
       " Spa               0\n",
       " VRDeck            0\n",
       " Name            200\n",
       " Transported       0\n",
       " dtype: int64, HomePlanet        0\n",
       " CryoSleep        93\n",
       " Cabin           100\n",
       " Destination      92\n",
       " Age               0\n",
       " VIP              93\n",
       " RoomService       0\n",
       " FoodCourt         0\n",
       " ShoppingMall      0\n",
       " Spa               0\n",
       " VRDeck            0\n",
       " Name             94\n",
       " dtype: int64)"
      ]
     },
     "execution_count": 54,
     "metadata": {},
     "output_type": "execute_result"
    }
   ],
   "source": [
    "STRATEGY = 'median'\n",
    "\n",
    "imputer_cols = [\"Age\", \"RoomService\", \"FoodCourt\", \n",
    "                \"ShoppingMall\", \"Spa\", \"VRDeck\"]\n",
    "\n",
    "# 결측치 대치       \n",
    "imputer = SimpleImputer(strategy=STRATEGY )\n",
    "imputer.fit(train_n[imputer_cols])\n",
    "train_n[imputer_cols] = imputer.transform(train_n[imputer_cols])\n",
    "test_n[imputer_cols] = imputer.transform(test_n[imputer_cols])\n",
    "\n",
    "train_n[\"HomePlanet\"].fillna('Z', inplace=True)\n",
    "test_n[\"HomePlanet\"].fillna('Z', inplace=True)\n",
    "\n",
    "print( train_n[imputer_cols].isnull().sum() )\n",
    "print( test_n[imputer_cols].isnull().sum() )\n",
    "\n",
    "train_n.isnull().sum(), test_n.isnull().sum()"
   ]
  },
  {
   "cell_type": "code",
   "execution_count": 55,
   "metadata": {
    "colab": {
     "base_uri": "https://localhost:8080/",
     "height": 206
    },
    "id": "QH3iVxw1NXK-",
    "outputId": "90a86905-3b89-4e0d-c4d4-841425dfd9dd"
   },
   "outputs": [
    {
     "data": {
      "text/html": [
       "\n",
       "  <div id=\"df-c051c225-aa00-465e-84cf-00d90d4e4c09\">\n",
       "    <div class=\"colab-df-container\">\n",
       "      <div>\n",
       "<style scoped>\n",
       "    .dataframe tbody tr th:only-of-type {\n",
       "        vertical-align: middle;\n",
       "    }\n",
       "\n",
       "    .dataframe tbody tr th {\n",
       "        vertical-align: top;\n",
       "    }\n",
       "\n",
       "    .dataframe thead th {\n",
       "        text-align: right;\n",
       "    }\n",
       "</style>\n",
       "<table border=\"1\" class=\"dataframe\">\n",
       "  <thead>\n",
       "    <tr style=\"text-align: right;\">\n",
       "      <th></th>\n",
       "      <th>HomePlanet</th>\n",
       "      <th>CryoSleep</th>\n",
       "      <th>Cabin</th>\n",
       "      <th>Destination</th>\n",
       "      <th>VIP</th>\n",
       "    </tr>\n",
       "  </thead>\n",
       "  <tbody>\n",
       "    <tr>\n",
       "      <th>0</th>\n",
       "      <td>1</td>\n",
       "      <td>0</td>\n",
       "      <td>149</td>\n",
       "      <td>2</td>\n",
       "      <td>0</td>\n",
       "    </tr>\n",
       "    <tr>\n",
       "      <th>1</th>\n",
       "      <td>0</td>\n",
       "      <td>0</td>\n",
       "      <td>2184</td>\n",
       "      <td>2</td>\n",
       "      <td>0</td>\n",
       "    </tr>\n",
       "    <tr>\n",
       "      <th>2</th>\n",
       "      <td>1</td>\n",
       "      <td>0</td>\n",
       "      <td>1</td>\n",
       "      <td>2</td>\n",
       "      <td>1</td>\n",
       "    </tr>\n",
       "    <tr>\n",
       "      <th>3</th>\n",
       "      <td>1</td>\n",
       "      <td>0</td>\n",
       "      <td>1</td>\n",
       "      <td>2</td>\n",
       "      <td>0</td>\n",
       "    </tr>\n",
       "    <tr>\n",
       "      <th>4</th>\n",
       "      <td>0</td>\n",
       "      <td>0</td>\n",
       "      <td>2186</td>\n",
       "      <td>2</td>\n",
       "      <td>0</td>\n",
       "    </tr>\n",
       "  </tbody>\n",
       "</table>\n",
       "</div>\n",
       "      <button class=\"colab-df-convert\" onclick=\"convertToInteractive('df-c051c225-aa00-465e-84cf-00d90d4e4c09')\"\n",
       "              title=\"Convert this dataframe to an interactive table.\"\n",
       "              style=\"display:none;\">\n",
       "        \n",
       "  <svg xmlns=\"http://www.w3.org/2000/svg\" height=\"24px\"viewBox=\"0 0 24 24\"\n",
       "       width=\"24px\">\n",
       "    <path d=\"M0 0h24v24H0V0z\" fill=\"none\"/>\n",
       "    <path d=\"M18.56 5.44l.94 2.06.94-2.06 2.06-.94-2.06-.94-.94-2.06-.94 2.06-2.06.94zm-11 1L8.5 8.5l.94-2.06 2.06-.94-2.06-.94L8.5 2.5l-.94 2.06-2.06.94zm10 10l.94 2.06.94-2.06 2.06-.94-2.06-.94-.94-2.06-.94 2.06-2.06.94z\"/><path d=\"M17.41 7.96l-1.37-1.37c-.4-.4-.92-.59-1.43-.59-.52 0-1.04.2-1.43.59L10.3 9.45l-7.72 7.72c-.78.78-.78 2.05 0 2.83L4 21.41c.39.39.9.59 1.41.59.51 0 1.02-.2 1.41-.59l7.78-7.78 2.81-2.81c.8-.78.8-2.07 0-2.86zM5.41 20L4 18.59l7.72-7.72 1.47 1.35L5.41 20z\"/>\n",
       "  </svg>\n",
       "      </button>\n",
       "      \n",
       "  <style>\n",
       "    .colab-df-container {\n",
       "      display:flex;\n",
       "      flex-wrap:wrap;\n",
       "      gap: 12px;\n",
       "    }\n",
       "\n",
       "    .colab-df-convert {\n",
       "      background-color: #E8F0FE;\n",
       "      border: none;\n",
       "      border-radius: 50%;\n",
       "      cursor: pointer;\n",
       "      display: none;\n",
       "      fill: #1967D2;\n",
       "      height: 32px;\n",
       "      padding: 0 0 0 0;\n",
       "      width: 32px;\n",
       "    }\n",
       "\n",
       "    .colab-df-convert:hover {\n",
       "      background-color: #E2EBFA;\n",
       "      box-shadow: 0px 1px 2px rgba(60, 64, 67, 0.3), 0px 1px 3px 1px rgba(60, 64, 67, 0.15);\n",
       "      fill: #174EA6;\n",
       "    }\n",
       "\n",
       "    [theme=dark] .colab-df-convert {\n",
       "      background-color: #3B4455;\n",
       "      fill: #D2E3FC;\n",
       "    }\n",
       "\n",
       "    [theme=dark] .colab-df-convert:hover {\n",
       "      background-color: #434B5C;\n",
       "      box-shadow: 0px 1px 3px 1px rgba(0, 0, 0, 0.15);\n",
       "      filter: drop-shadow(0px 1px 2px rgba(0, 0, 0, 0.3));\n",
       "      fill: #FFFFFF;\n",
       "    }\n",
       "  </style>\n",
       "\n",
       "      <script>\n",
       "        const buttonEl =\n",
       "          document.querySelector('#df-c051c225-aa00-465e-84cf-00d90d4e4c09 button.colab-df-convert');\n",
       "        buttonEl.style.display =\n",
       "          google.colab.kernel.accessAllowed ? 'block' : 'none';\n",
       "\n",
       "        async function convertToInteractive(key) {\n",
       "          const element = document.querySelector('#df-c051c225-aa00-465e-84cf-00d90d4e4c09');\n",
       "          const dataTable =\n",
       "            await google.colab.kernel.invokeFunction('convertToInteractive',\n",
       "                                                     [key], {});\n",
       "          if (!dataTable) return;\n",
       "\n",
       "          const docLinkHtml = 'Like what you see? Visit the ' +\n",
       "            '<a target=\"_blank\" href=https://colab.research.google.com/notebooks/data_table.ipynb>data table notebook</a>'\n",
       "            + ' to learn more about interactive tables.';\n",
       "          element.innerHTML = '';\n",
       "          dataTable['output_type'] = 'display_data';\n",
       "          await google.colab.output.renderOutput(dataTable, element);\n",
       "          const docLink = document.createElement('div');\n",
       "          docLink.innerHTML = docLinkHtml;\n",
       "          element.appendChild(docLink);\n",
       "        }\n",
       "      </script>\n",
       "    </div>\n",
       "  </div>\n",
       "  "
      ],
      "text/plain": [
       "   HomePlanet  CryoSleep  Cabin  Destination  VIP\n",
       "0           1          0    149            2    0\n",
       "1           0          0   2184            2    0\n",
       "2           1          0      1            2    1\n",
       "3           1          0      1            2    0\n",
       "4           0          0   2186            2    0"
      ]
     },
     "execution_count": 55,
     "metadata": {},
     "output_type": "execute_result"
    }
   ],
   "source": [
    "# 범주형 변수 인코딩\n",
    "# LabelEncoder()를 이용하여 라벨 인코딩이 가능.\n",
    "\n",
    "label_cols = [\"HomePlanet\", \"CryoSleep\",\"Cabin\", \n",
    "              \"Destination\" ,\"VIP\"]\n",
    "              \n",
    "def label_encoder(train,test,columns):\n",
    "    for col in columns:\n",
    "        train[col] = train[col].astype(str)\n",
    "        test[col] = test[col].astype(str)\n",
    "        train[col] = LabelEncoder().fit_transform(train[col])\n",
    "        test[col] =  LabelEncoder().fit_transform(test[col])\n",
    "    return train, test\n",
    "\n",
    "train_n ,test_n = label_encoder(train_n, test_n ,label_cols)\n",
    "\n",
    "train_n[label_cols].head()"
   ]
  },
  {
   "cell_type": "code",
   "execution_count": 56,
   "metadata": {
    "id": "YP0u4AnMNcRm"
   },
   "outputs": [],
   "source": [
    "train_n.drop([\"Name\" ,\"Cabin\"] , axis = 1 ,inplace = True)\n",
    "test_n.drop([\"Name\" ,\"Cabin\"] , axis = 1 ,inplace = True)\n",
    "X = train_n.drop(TARGET , axis =1 )\n",
    "y = train_n[TARGET]\n",
    "X_train , X_test , y_train , y_test = train_test_split(X , y, \n",
    "                                                       random_state = 12 ,\n",
    "                                                       test_size =0.33)"
   ]
  },
  {
   "cell_type": "markdown",
   "metadata": {
    "id": "9qHCyUPbNfPl"
   },
   "source": [
    "#### 04. Modeling"
   ]
  },
  {
   "cell_type": "code",
   "execution_count": 57,
   "metadata": {
    "colab": {
     "base_uri": "https://localhost:8080/"
    },
    "id": "-leEn1OuNeTW",
    "outputId": "d5188adb-39a5-4c69-d099-f72942584b4d"
   },
   "outputs": [
    {
     "data": {
      "text/plain": [
       "HomePlanet      0\n",
       "CryoSleep       0\n",
       "Destination     0\n",
       "Age             0\n",
       "VIP             0\n",
       "RoomService     0\n",
       "FoodCourt       0\n",
       "ShoppingMall    0\n",
       "Spa             0\n",
       "VRDeck          0\n",
       "Transported     0\n",
       "dtype: int64"
      ]
     },
     "execution_count": 57,
     "metadata": {},
     "output_type": "execute_result"
    }
   ],
   "source": [
    "train_n.isnull().sum()"
   ]
  },
  {
   "cell_type": "code",
   "execution_count": 58,
   "metadata": {
    "colab": {
     "base_uri": "https://localhost:8080/"
    },
    "id": "FArjLjkNNhGm",
    "outputId": "722c8153-6b91-4246-a264-b8dfe3226a03"
   },
   "outputs": [
    {
     "data": {
      "text/plain": [
       "HomePlanet      0\n",
       "CryoSleep       0\n",
       "Destination     0\n",
       "Age             0\n",
       "VIP             0\n",
       "RoomService     0\n",
       "FoodCourt       0\n",
       "ShoppingMall    0\n",
       "Spa             0\n",
       "VRDeck          0\n",
       "dtype: int64"
      ]
     },
     "execution_count": 58,
     "metadata": {},
     "output_type": "execute_result"
    }
   ],
   "source": [
    "test_n.isnull().sum()"
   ]
  },
  {
   "cell_type": "code",
   "execution_count": 59,
   "metadata": {
    "colab": {
     "base_uri": "https://localhost:8080/",
     "height": 207
    },
    "id": "XwgPkUr-NiP2",
    "outputId": "6c614bef-54d6-4c1a-d891-a94700317073"
   },
   "outputs": [
    {
     "data": {
      "text/html": [
       "\n",
       "  <div id=\"df-1a94a9af-aff0-45b2-80a5-340e1f517c6e\">\n",
       "    <div class=\"colab-df-container\">\n",
       "      <div>\n",
       "<style scoped>\n",
       "    .dataframe tbody tr th:only-of-type {\n",
       "        vertical-align: middle;\n",
       "    }\n",
       "\n",
       "    .dataframe tbody tr th {\n",
       "        vertical-align: top;\n",
       "    }\n",
       "\n",
       "    .dataframe thead th {\n",
       "        text-align: right;\n",
       "    }\n",
       "</style>\n",
       "<table border=\"1\" class=\"dataframe\">\n",
       "  <thead>\n",
       "    <tr style=\"text-align: right;\">\n",
       "      <th></th>\n",
       "      <th>HomePlanet</th>\n",
       "      <th>CryoSleep</th>\n",
       "      <th>Destination</th>\n",
       "      <th>Age</th>\n",
       "      <th>VIP</th>\n",
       "      <th>RoomService</th>\n",
       "      <th>FoodCourt</th>\n",
       "      <th>ShoppingMall</th>\n",
       "      <th>Spa</th>\n",
       "      <th>VRDeck</th>\n",
       "      <th>Transported</th>\n",
       "    </tr>\n",
       "  </thead>\n",
       "  <tbody>\n",
       "    <tr>\n",
       "      <th>0</th>\n",
       "      <td>1</td>\n",
       "      <td>0</td>\n",
       "      <td>2</td>\n",
       "      <td>39.0</td>\n",
       "      <td>0</td>\n",
       "      <td>0.0</td>\n",
       "      <td>0.0</td>\n",
       "      <td>0.0</td>\n",
       "      <td>0.0</td>\n",
       "      <td>0.0</td>\n",
       "      <td>False</td>\n",
       "    </tr>\n",
       "    <tr>\n",
       "      <th>1</th>\n",
       "      <td>0</td>\n",
       "      <td>0</td>\n",
       "      <td>2</td>\n",
       "      <td>24.0</td>\n",
       "      <td>0</td>\n",
       "      <td>109.0</td>\n",
       "      <td>9.0</td>\n",
       "      <td>25.0</td>\n",
       "      <td>549.0</td>\n",
       "      <td>44.0</td>\n",
       "      <td>True</td>\n",
       "    </tr>\n",
       "    <tr>\n",
       "      <th>2</th>\n",
       "      <td>1</td>\n",
       "      <td>0</td>\n",
       "      <td>2</td>\n",
       "      <td>58.0</td>\n",
       "      <td>1</td>\n",
       "      <td>43.0</td>\n",
       "      <td>3576.0</td>\n",
       "      <td>0.0</td>\n",
       "      <td>6715.0</td>\n",
       "      <td>49.0</td>\n",
       "      <td>False</td>\n",
       "    </tr>\n",
       "  </tbody>\n",
       "</table>\n",
       "</div>\n",
       "      <button class=\"colab-df-convert\" onclick=\"convertToInteractive('df-1a94a9af-aff0-45b2-80a5-340e1f517c6e')\"\n",
       "              title=\"Convert this dataframe to an interactive table.\"\n",
       "              style=\"display:none;\">\n",
       "        \n",
       "  <svg xmlns=\"http://www.w3.org/2000/svg\" height=\"24px\"viewBox=\"0 0 24 24\"\n",
       "       width=\"24px\">\n",
       "    <path d=\"M0 0h24v24H0V0z\" fill=\"none\"/>\n",
       "    <path d=\"M18.56 5.44l.94 2.06.94-2.06 2.06-.94-2.06-.94-.94-2.06-.94 2.06-2.06.94zm-11 1L8.5 8.5l.94-2.06 2.06-.94-2.06-.94L8.5 2.5l-.94 2.06-2.06.94zm10 10l.94 2.06.94-2.06 2.06-.94-2.06-.94-.94-2.06-.94 2.06-2.06.94z\"/><path d=\"M17.41 7.96l-1.37-1.37c-.4-.4-.92-.59-1.43-.59-.52 0-1.04.2-1.43.59L10.3 9.45l-7.72 7.72c-.78.78-.78 2.05 0 2.83L4 21.41c.39.39.9.59 1.41.59.51 0 1.02-.2 1.41-.59l7.78-7.78 2.81-2.81c.8-.78.8-2.07 0-2.86zM5.41 20L4 18.59l7.72-7.72 1.47 1.35L5.41 20z\"/>\n",
       "  </svg>\n",
       "      </button>\n",
       "      \n",
       "  <style>\n",
       "    .colab-df-container {\n",
       "      display:flex;\n",
       "      flex-wrap:wrap;\n",
       "      gap: 12px;\n",
       "    }\n",
       "\n",
       "    .colab-df-convert {\n",
       "      background-color: #E8F0FE;\n",
       "      border: none;\n",
       "      border-radius: 50%;\n",
       "      cursor: pointer;\n",
       "      display: none;\n",
       "      fill: #1967D2;\n",
       "      height: 32px;\n",
       "      padding: 0 0 0 0;\n",
       "      width: 32px;\n",
       "    }\n",
       "\n",
       "    .colab-df-convert:hover {\n",
       "      background-color: #E2EBFA;\n",
       "      box-shadow: 0px 1px 2px rgba(60, 64, 67, 0.3), 0px 1px 3px 1px rgba(60, 64, 67, 0.15);\n",
       "      fill: #174EA6;\n",
       "    }\n",
       "\n",
       "    [theme=dark] .colab-df-convert {\n",
       "      background-color: #3B4455;\n",
       "      fill: #D2E3FC;\n",
       "    }\n",
       "\n",
       "    [theme=dark] .colab-df-convert:hover {\n",
       "      background-color: #434B5C;\n",
       "      box-shadow: 0px 1px 3px 1px rgba(0, 0, 0, 0.15);\n",
       "      filter: drop-shadow(0px 1px 2px rgba(0, 0, 0, 0.3));\n",
       "      fill: #FFFFFF;\n",
       "    }\n",
       "  </style>\n",
       "\n",
       "      <script>\n",
       "        const buttonEl =\n",
       "          document.querySelector('#df-1a94a9af-aff0-45b2-80a5-340e1f517c6e button.colab-df-convert');\n",
       "        buttonEl.style.display =\n",
       "          google.colab.kernel.accessAllowed ? 'block' : 'none';\n",
       "\n",
       "        async function convertToInteractive(key) {\n",
       "          const element = document.querySelector('#df-1a94a9af-aff0-45b2-80a5-340e1f517c6e');\n",
       "          const dataTable =\n",
       "            await google.colab.kernel.invokeFunction('convertToInteractive',\n",
       "                                                     [key], {});\n",
       "          if (!dataTable) return;\n",
       "\n",
       "          const docLinkHtml = 'Like what you see? Visit the ' +\n",
       "            '<a target=\"_blank\" href=https://colab.research.google.com/notebooks/data_table.ipynb>data table notebook</a>'\n",
       "            + ' to learn more about interactive tables.';\n",
       "          element.innerHTML = '';\n",
       "          dataTable['output_type'] = 'display_data';\n",
       "          await google.colab.output.renderOutput(dataTable, element);\n",
       "          const docLink = document.createElement('div');\n",
       "          docLink.innerHTML = docLinkHtml;\n",
       "          element.appendChild(docLink);\n",
       "        }\n",
       "      </script>\n",
       "    </div>\n",
       "  </div>\n",
       "  "
      ],
      "text/plain": [
       "   HomePlanet  CryoSleep  Destination   Age  VIP  RoomService  FoodCourt  \\\n",
       "0           1          0            2  39.0    0          0.0        0.0   \n",
       "1           0          0            2  24.0    0        109.0        9.0   \n",
       "2           1          0            2  58.0    1         43.0     3576.0   \n",
       "\n",
       "   ShoppingMall     Spa  VRDeck  Transported  \n",
       "0           0.0     0.0     0.0        False  \n",
       "1          25.0   549.0    44.0         True  \n",
       "2           0.0  6715.0    49.0        False  "
      ]
     },
     "execution_count": 59,
     "metadata": {},
     "output_type": "execute_result"
    }
   ],
   "source": [
    "train_n.head(3)"
   ]
  },
  {
   "cell_type": "code",
   "execution_count": 60,
   "metadata": {
    "colab": {
     "base_uri": "https://localhost:8080/",
     "height": 143
    },
    "id": "XXwuZz55NjP2",
    "outputId": "bb6851fb-8474-47db-a0e3-cc3582e32f40"
   },
   "outputs": [
    {
     "data": {
      "text/html": [
       "\n",
       "  <div id=\"df-d9d8de7e-ead2-475e-9bf2-d7ca862219df\">\n",
       "    <div class=\"colab-df-container\">\n",
       "      <div>\n",
       "<style scoped>\n",
       "    .dataframe tbody tr th:only-of-type {\n",
       "        vertical-align: middle;\n",
       "    }\n",
       "\n",
       "    .dataframe tbody tr th {\n",
       "        vertical-align: top;\n",
       "    }\n",
       "\n",
       "    .dataframe thead th {\n",
       "        text-align: right;\n",
       "    }\n",
       "</style>\n",
       "<table border=\"1\" class=\"dataframe\">\n",
       "  <thead>\n",
       "    <tr style=\"text-align: right;\">\n",
       "      <th></th>\n",
       "      <th>HomePlanet</th>\n",
       "      <th>CryoSleep</th>\n",
       "      <th>Destination</th>\n",
       "      <th>Age</th>\n",
       "      <th>VIP</th>\n",
       "      <th>RoomService</th>\n",
       "      <th>FoodCourt</th>\n",
       "      <th>ShoppingMall</th>\n",
       "      <th>Spa</th>\n",
       "      <th>VRDeck</th>\n",
       "    </tr>\n",
       "  </thead>\n",
       "  <tbody>\n",
       "    <tr>\n",
       "      <th>0</th>\n",
       "      <td>0</td>\n",
       "      <td>1</td>\n",
       "      <td>2</td>\n",
       "      <td>27.0</td>\n",
       "      <td>0</td>\n",
       "      <td>0.0</td>\n",
       "      <td>0.0</td>\n",
       "      <td>0.0</td>\n",
       "      <td>0.0</td>\n",
       "      <td>0.0</td>\n",
       "    </tr>\n",
       "    <tr>\n",
       "      <th>1</th>\n",
       "      <td>0</td>\n",
       "      <td>0</td>\n",
       "      <td>2</td>\n",
       "      <td>19.0</td>\n",
       "      <td>0</td>\n",
       "      <td>0.0</td>\n",
       "      <td>9.0</td>\n",
       "      <td>0.0</td>\n",
       "      <td>2823.0</td>\n",
       "      <td>0.0</td>\n",
       "    </tr>\n",
       "    <tr>\n",
       "      <th>2</th>\n",
       "      <td>1</td>\n",
       "      <td>1</td>\n",
       "      <td>0</td>\n",
       "      <td>31.0</td>\n",
       "      <td>0</td>\n",
       "      <td>0.0</td>\n",
       "      <td>0.0</td>\n",
       "      <td>0.0</td>\n",
       "      <td>0.0</td>\n",
       "      <td>0.0</td>\n",
       "    </tr>\n",
       "  </tbody>\n",
       "</table>\n",
       "</div>\n",
       "      <button class=\"colab-df-convert\" onclick=\"convertToInteractive('df-d9d8de7e-ead2-475e-9bf2-d7ca862219df')\"\n",
       "              title=\"Convert this dataframe to an interactive table.\"\n",
       "              style=\"display:none;\">\n",
       "        \n",
       "  <svg xmlns=\"http://www.w3.org/2000/svg\" height=\"24px\"viewBox=\"0 0 24 24\"\n",
       "       width=\"24px\">\n",
       "    <path d=\"M0 0h24v24H0V0z\" fill=\"none\"/>\n",
       "    <path d=\"M18.56 5.44l.94 2.06.94-2.06 2.06-.94-2.06-.94-.94-2.06-.94 2.06-2.06.94zm-11 1L8.5 8.5l.94-2.06 2.06-.94-2.06-.94L8.5 2.5l-.94 2.06-2.06.94zm10 10l.94 2.06.94-2.06 2.06-.94-2.06-.94-.94-2.06-.94 2.06-2.06.94z\"/><path d=\"M17.41 7.96l-1.37-1.37c-.4-.4-.92-.59-1.43-.59-.52 0-1.04.2-1.43.59L10.3 9.45l-7.72 7.72c-.78.78-.78 2.05 0 2.83L4 21.41c.39.39.9.59 1.41.59.51 0 1.02-.2 1.41-.59l7.78-7.78 2.81-2.81c.8-.78.8-2.07 0-2.86zM5.41 20L4 18.59l7.72-7.72 1.47 1.35L5.41 20z\"/>\n",
       "  </svg>\n",
       "      </button>\n",
       "      \n",
       "  <style>\n",
       "    .colab-df-container {\n",
       "      display:flex;\n",
       "      flex-wrap:wrap;\n",
       "      gap: 12px;\n",
       "    }\n",
       "\n",
       "    .colab-df-convert {\n",
       "      background-color: #E8F0FE;\n",
       "      border: none;\n",
       "      border-radius: 50%;\n",
       "      cursor: pointer;\n",
       "      display: none;\n",
       "      fill: #1967D2;\n",
       "      height: 32px;\n",
       "      padding: 0 0 0 0;\n",
       "      width: 32px;\n",
       "    }\n",
       "\n",
       "    .colab-df-convert:hover {\n",
       "      background-color: #E2EBFA;\n",
       "      box-shadow: 0px 1px 2px rgba(60, 64, 67, 0.3), 0px 1px 3px 1px rgba(60, 64, 67, 0.15);\n",
       "      fill: #174EA6;\n",
       "    }\n",
       "\n",
       "    [theme=dark] .colab-df-convert {\n",
       "      background-color: #3B4455;\n",
       "      fill: #D2E3FC;\n",
       "    }\n",
       "\n",
       "    [theme=dark] .colab-df-convert:hover {\n",
       "      background-color: #434B5C;\n",
       "      box-shadow: 0px 1px 3px 1px rgba(0, 0, 0, 0.15);\n",
       "      filter: drop-shadow(0px 1px 2px rgba(0, 0, 0, 0.3));\n",
       "      fill: #FFFFFF;\n",
       "    }\n",
       "  </style>\n",
       "\n",
       "      <script>\n",
       "        const buttonEl =\n",
       "          document.querySelector('#df-d9d8de7e-ead2-475e-9bf2-d7ca862219df button.colab-df-convert');\n",
       "        buttonEl.style.display =\n",
       "          google.colab.kernel.accessAllowed ? 'block' : 'none';\n",
       "\n",
       "        async function convertToInteractive(key) {\n",
       "          const element = document.querySelector('#df-d9d8de7e-ead2-475e-9bf2-d7ca862219df');\n",
       "          const dataTable =\n",
       "            await google.colab.kernel.invokeFunction('convertToInteractive',\n",
       "                                                     [key], {});\n",
       "          if (!dataTable) return;\n",
       "\n",
       "          const docLinkHtml = 'Like what you see? Visit the ' +\n",
       "            '<a target=\"_blank\" href=https://colab.research.google.com/notebooks/data_table.ipynb>data table notebook</a>'\n",
       "            + ' to learn more about interactive tables.';\n",
       "          element.innerHTML = '';\n",
       "          dataTable['output_type'] = 'display_data';\n",
       "          await google.colab.output.renderOutput(dataTable, element);\n",
       "          const docLink = document.createElement('div');\n",
       "          docLink.innerHTML = docLinkHtml;\n",
       "          element.appendChild(docLink);\n",
       "        }\n",
       "      </script>\n",
       "    </div>\n",
       "  </div>\n",
       "  "
      ],
      "text/plain": [
       "   HomePlanet  CryoSleep  Destination   Age  VIP  RoomService  FoodCourt  \\\n",
       "0           0          1            2  27.0    0          0.0        0.0   \n",
       "1           0          0            2  19.0    0          0.0        9.0   \n",
       "2           1          1            0  31.0    0          0.0        0.0   \n",
       "\n",
       "   ShoppingMall     Spa  VRDeck  \n",
       "0           0.0     0.0     0.0  \n",
       "1           0.0  2823.0     0.0  \n",
       "2           0.0     0.0     0.0  "
      ]
     },
     "execution_count": 60,
     "metadata": {},
     "output_type": "execute_result"
    }
   ],
   "source": [
    "test_n.head(3)"
   ]
  },
  {
   "cell_type": "code",
   "execution_count": 61,
   "metadata": {
    "colab": {
     "base_uri": "https://localhost:8080/"
    },
    "id": "5wG2BalSNkxQ",
    "outputId": "60cadc26-8d55-418c-80cd-5f94ae3584df"
   },
   "outputs": [
    {
     "data": {
      "text/plain": [
       "(6085,)"
      ]
     },
     "execution_count": 61,
     "metadata": {},
     "output_type": "execute_result"
    }
   ],
   "source": [
    "# 기본 모델을 위해 특징은 5개만 선택하는 것으로 한다.\n",
    "sel = ['HomePlanet', 'CryoSleep', 'Destination', 'Age', 'VIP']\n",
    "\n",
    "X = train_n[sel]\n",
    "y = train_n['Transported']\n",
    "\n",
    "last_test = test_n[sel]\n",
    "X_train, X_test, y_train, y_test = train_test_split(X, y, \n",
    "                                                    test_size=0.3,\n",
    "                                                    random_state = 0)\n",
    "\n",
    "y_train.shape"
   ]
  },
  {
   "cell_type": "code",
   "execution_count": 62,
   "metadata": {
    "colab": {
     "base_uri": "https://localhost:8080/"
    },
    "id": "TTj4MiqHNl-W",
    "outputId": "64efe55b-ea92-4e0e-f238-0010609d8864"
   },
   "outputs": [
    {
     "name": "stdout",
     "output_type": "stream",
     "text": [
      "<class 'pandas.core.frame.DataFrame'>\n",
      "Int64Index: 6085 entries, 7289 to 2732\n",
      "Data columns (total 5 columns):\n",
      " #   Column       Non-Null Count  Dtype  \n",
      "---  ------       --------------  -----  \n",
      " 0   HomePlanet   6085 non-null   int64  \n",
      " 1   CryoSleep    6085 non-null   int64  \n",
      " 2   Destination  6085 non-null   int64  \n",
      " 3   Age          6085 non-null   float64\n",
      " 4   VIP          6085 non-null   int64  \n",
      "dtypes: float64(1), int64(4)\n",
      "memory usage: 285.2 KB\n",
      "<class 'pandas.core.frame.DataFrame'>\n",
      "Int64Index: 2608 entries, 3601 to 5117\n",
      "Data columns (total 5 columns):\n",
      " #   Column       Non-Null Count  Dtype  \n",
      "---  ------       --------------  -----  \n",
      " 0   HomePlanet   2608 non-null   int64  \n",
      " 1   CryoSleep    2608 non-null   int64  \n",
      " 2   Destination  2608 non-null   int64  \n",
      " 3   Age          2608 non-null   float64\n",
      " 4   VIP          2608 non-null   int64  \n",
      "dtypes: float64(1), int64(4)\n",
      "memory usage: 122.2 KB\n"
     ]
    },
    {
     "data": {
      "text/plain": [
       "(None, None)"
      ]
     },
     "execution_count": 62,
     "metadata": {},
     "output_type": "execute_result"
    }
   ],
   "source": [
    "X_train.info(), X_test.info()"
   ]
  },
  {
   "cell_type": "code",
   "execution_count": 63,
   "metadata": {
    "id": "fRQppT0yNnDu"
   },
   "outputs": [],
   "source": [
    "from sklearn.neighbors import KNeighborsClassifier\n",
    "from sklearn.tree import DecisionTreeClassifier\n",
    "from sklearn.ensemble import RandomForestClassifier"
   ]
  },
  {
   "cell_type": "code",
   "execution_count": 64,
   "metadata": {
    "colab": {
     "base_uri": "https://localhost:8080/"
    },
    "id": "78cndxrENodO",
    "outputId": "bd162310-84bb-4ac2-ad81-88aa375d7d8d"
   },
   "outputs": [
    {
     "name": "stdout",
     "output_type": "stream",
     "text": [
      "학습용 정확도 :  0.7462612982744453\n",
      "테스트용 정확도 :  0.6656441717791411\n"
     ]
    }
   ],
   "source": [
    "model1 = KNeighborsClassifier()\n",
    "model1.fit(X_train, y_train)\n",
    "print(\"학습용 정확도 : \", model1.score(X_train,y_train) )\n",
    "print(\"테스트용 정확도 : \", model1.score(X_test,y_test) )"
   ]
  },
  {
   "cell_type": "code",
   "execution_count": 65,
   "metadata": {
    "colab": {
     "base_uri": "https://localhost:8080/"
    },
    "id": "37zWuZnUNpj2",
    "outputId": "925a0905-3b80-44ae-ca86-7fc8c2626941"
   },
   "outputs": [
    {
     "name": "stdout",
     "output_type": "stream",
     "text": [
      "학습용 정확도 :  0.7391947411668036\n",
      "테스트용 정확도 :  0.7319785276073619\n"
     ]
    }
   ],
   "source": [
    "model2 = DecisionTreeClassifier(max_depth=3, random_state=0)\n",
    "model2.fit(X_train, y_train)\n",
    "print(\"학습용 정확도 : \", model2.score(X_train,y_train) )\n",
    "print(\"테스트용 정확도 : \", model2.score(X_test,y_test) )"
   ]
  },
  {
   "cell_type": "code",
   "execution_count": 66,
   "metadata": {
    "colab": {
     "base_uri": "https://localhost:8080/"
    },
    "id": "lVhD_hpjNq3H",
    "outputId": "67b5bba1-7f52-4aa4-fa1a-d6dc02dd0164"
   },
   "outputs": [
    {
     "name": "stdout",
     "output_type": "stream",
     "text": [
      "max_depth 값 :  1\n",
      "학습용 정확도 :  0.7201314708299096\n",
      "테스트용 정확도 :  0.7120398773006135\n",
      "max_depth 값 :  2\n",
      "학습용 정확도 :  0.7377156943303205\n",
      "테스트용 정확도 :  0.727760736196319\n",
      "max_depth 값 :  3\n",
      "학습용 정확도 :  0.7391947411668036\n",
      "테스트용 정확도 :  0.7319785276073619\n",
      "max_depth 값 :  4\n",
      "학습용 정확도 :  0.7403451109285127\n",
      "테스트용 정확도 :  0.7304447852760736\n",
      "max_depth 값 :  5\n",
      "학습용 정확도 :  0.7437962202136401\n",
      "테스트용 정확도 :  0.7300613496932515\n",
      "max_depth 값 :  6\n",
      "학습용 정확도 :  0.7498767460969598\n",
      "테스트용 정확도 :  0.7292944785276073\n"
     ]
    }
   ],
   "source": [
    "# DecisionTreeClassifier 모델이 좋아보임. 우선은 이걸로 최종 모델을 해 본다. max_depth값은 최적으로 맞춘다.\n",
    "\n",
    "depth_num = range(1, 7, 1)\n",
    "\n",
    "for num in depth_num:\n",
    "    model1 = DecisionTreeClassifier(max_depth=num, random_state=0)\n",
    "    model1.fit(X_train, y_train)\n",
    "    \n",
    "    print(\"max_depth 값 : \", num)\n",
    "    print(\"학습용 정확도 : \", model1.score(X_train,y_train) )\n",
    "    print(\"테스트용 정확도 : \", model1.score(X_test,y_test) )"
   ]
  },
  {
   "cell_type": "code",
   "execution_count": 67,
   "metadata": {
    "id": "4GmCJ9DWNvW2"
   },
   "outputs": [],
   "source": [
    "# max_depth=3일때가 가장 좋음. 최종 모델을 의사결정트리 모델로 선택하고 max_depth는 3으로 하자."
   ]
  },
  {
   "cell_type": "code",
   "execution_count": 68,
   "metadata": {
    "colab": {
     "base_uri": "https://localhost:8080/"
    },
    "id": "mK14p2k0Nxbu",
    "outputId": "59ffea4b-74cf-4193-dc14-a7b2fb49e4fc"
   },
   "outputs": [
    {
     "data": {
      "text/plain": [
       "array([ True, False,  True, False, False, False,  True,  True,  True,\n",
       "       False])"
      ]
     },
     "execution_count": 68,
     "metadata": {},
     "output_type": "execute_result"
    }
   ],
   "source": [
    "model1 = DecisionTreeClassifier(max_depth=3, random_state=0)\n",
    "model1.fit(X_train, y_train)\n",
    "pred = model1.predict(last_test)\n",
    "pred[0:10]"
   ]
  },
  {
   "cell_type": "code",
   "execution_count": 69,
   "metadata": {
    "colab": {
     "base_uri": "https://localhost:8080/"
    },
    "id": "ddQIgi_2Nyqd",
    "outputId": "6e866e2e-32fb-4410-95e7-721e1654d300"
   },
   "outputs": [
    {
     "data": {
      "text/plain": [
       "Index(['PassengerId', 'Transported'], dtype='object')"
      ]
     },
     "execution_count": 69,
     "metadata": {},
     "output_type": "execute_result"
    }
   ],
   "source": [
    "### 제출용 파일 생성\n",
    "sub.columns"
   ]
  },
  {
   "cell_type": "code",
   "execution_count": 70,
   "metadata": {
    "id": "xI8buCa9N0QQ"
   },
   "outputs": [],
   "source": [
    "sub['Transported'] = pred\n",
    "sub.to_csv(\"first_sub.csv\", index=False)"
   ]
  },
  {
   "cell_type": "code",
   "execution_count": 71,
   "metadata": {
    "id": "3LqBdIN5N3ve"
   },
   "outputs": [],
   "source": [
    "# 베이스라인 모델 점수 : Score: 0.74374"
   ]
  }
 ],
 "metadata": {
  "colab": {
   "name": "20220628_04_02_Spaceship Titanic.ipynb",
   "provenance": []
  },
  "kernelspec": {
   "display_name": "Python 3",
   "language": "python",
   "name": "python3"
  },
  "language_info": {
   "codemirror_mode": {
    "name": "ipython",
    "version": 3
   },
   "file_extension": ".py",
   "mimetype": "text/x-python",
   "name": "python",
   "nbconvert_exporter": "python",
   "pygments_lexer": "ipython3",
   "version": "3.8.5"
  }
 },
 "nbformat": 4,
 "nbformat_minor": 1
}
