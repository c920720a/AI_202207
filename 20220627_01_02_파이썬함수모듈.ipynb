{
 "cells": [
  {
   "cell_type": "markdown",
   "metadata": {},
   "source": [
    "### 함수 및 모듈 기본\n",
    "* 함수에 대해 이해하고, 함수를 실습을 통해 알아봅니다.\n",
    "* 함수의 다양한 형태에 대해 알아봅니다.\n",
    "* 람다(lambda) 함수에 대해 알아봅니다.\n",
    "* 모듈에 대해 알아보고 직접 작성해 봅니다.\n",
    "* 많이 사용되는 외부 모듈을 불러와서 직접 사용해 봅니다."
   ]
  },
  {
   "cell_type": "markdown",
   "metadata": {},
   "source": [
    "#### 1-1 함수에 대해 이해해보기"
   ]
  },
  {
   "cell_type": "code",
   "execution_count": 1,
   "metadata": {},
   "outputs": [
    {
     "name": "stdout",
     "output_type": "stream",
     "text": [
      "3 5\n",
      "3 5\n"
     ]
    }
   ],
   "source": [
    "a, b = input().split()  # 입력시에 공백을 두어 입력을 수행\n",
    "print(a, b)"
   ]
  },
  {
   "cell_type": "code",
   "execution_count": 3,
   "metadata": {},
   "outputs": [
    {
     "name": "stdout",
     "output_type": "stream",
     "text": [
      "3, 5\n",
      "3  5\n"
     ]
    }
   ],
   "source": [
    "a, b = input().split(\",\")  # 입력시에 ','을 기준으로 두 개의 값으로 구분\n",
    "print(a, b)"
   ]
  },
  {
   "cell_type": "code",
   "execution_count": 4,
   "metadata": {},
   "outputs": [
    {
     "name": "stdout",
     "output_type": "stream",
     "text": [
      "8\n",
      "-2\n",
      "15\n"
     ]
    }
   ],
   "source": [
    "a = int(a)\n",
    "b = int(b)\n",
    "\n",
    "print(a+b)\n",
    "print(a-b)\n",
    "print(a*b)"
   ]
  },
  {
   "cell_type": "markdown",
   "metadata": {},
   "source": [
    "##### 같은 행동이 반복적으로 수행될때,\n",
    "* 이를 함수화 시켜보자."
   ]
  },
  {
   "cell_type": "code",
   "execution_count": 5,
   "metadata": {},
   "outputs": [],
   "source": [
    "def two_plus(a,b):\n",
    "  print(a + b)\n",
    "  print(a - b)\n",
    "  print(a * b)"
   ]
  },
  {
   "cell_type": "code",
   "execution_count": 8,
   "metadata": {},
   "outputs": [
    {
     "name": "stdout",
     "output_type": "stream",
     "text": [
      "4, 10\n",
      "14\n",
      "-6\n",
      "40\n"
     ]
    }
   ],
   "source": [
    "a, b = input().split(\",\")  # ','을 기준으로 입력받은 값을 공백을 기준으로 분리\n",
    "\n",
    "a = int(a)\n",
    "b = int(b)\n",
    "two_plus(a,b)"
   ]
  },
  {
   "cell_type": "markdown",
   "metadata": {},
   "source": [
    "##### [정리]\n",
    "    함수화를 통해 코드의 반복을 줄일 수 있고, 추후 공동작업시에도 수정 및 기능 추가가 효율적이다."
   ]
  },
  {
   "cell_type": "markdown",
   "metadata": {},
   "source": [
    "##### 기본 구조1\n",
    "     def 함수명():\n",
    "         실행문장1\n",
    "         실행문장1\n",
    "\n",
    "     # 실행을 위해서는 함수명 재호출해야함.\n",
    "       함수명()\n",
    "\n",
    "##### 기본 구조2\n",
    "* 함수를 호출시에 값을 전달할 수 있다.\n",
    "* 정의하는 곳에서는 이를 매개변수\n",
    "* 넘겨주는 쪽에서는 이를 인수라한다.\n",
    "##### \n",
    "      def 함수명(매개변수1, 매개변수2):\n",
    "         실행문장1\n",
    "         실행문장1 \n",
    "         \n",
    "       # 실행을 위해서는 함수명 재호출해야함.\n",
    "         함수명(인자1, 인자2)"
   ]
  },
  {
   "cell_type": "code",
   "execution_count": 9,
   "metadata": {},
   "outputs": [],
   "source": [
    "def two_plus(a,b):  # a,b 는 매개변수\n",
    "  print(a + b)\n",
    "  print(a - b)\n",
    "  print(a * b)"
   ]
  },
  {
   "cell_type": "code",
   "execution_count": 10,
   "metadata": {},
   "outputs": [
    {
     "name": "stdout",
     "output_type": "stream",
     "text": [
      "8\n",
      "-2\n",
      "15\n"
     ]
    }
   ],
   "source": [
    "a1 = 3\n",
    "b1 = 5\n",
    "two_plus(a1,b1)  #  a1, b1는 인수"
   ]
  },
  {
   "cell_type": "markdown",
   "metadata": {},
   "source": [
    "##### 함께 해보기\n",
    "* 사칙 연산을 계산하는 함수를 작성해 보자.\n",
    "* +, -, *, /, //, % 등을 계산해보기\n",
    "##### 생각해 보기\n",
    "* 좀 더 나의 계산기를 업그레이드 시켜보자."
   ]
  },
  {
   "cell_type": "code",
   "execution_count": 11,
   "metadata": {},
   "outputs": [],
   "source": [
    "def yurim_Cal(a,b):   # a, b는 매개변수\n",
    "    print(a + b)\n",
    "    print(a - b)\n",
    "    print(a * b)\n",
    "    print(a / b)\n",
    "    print(a // b)\n",
    "    print(a % b) "
   ]
  },
  {
   "cell_type": "code",
   "execution_count": 12,
   "metadata": {},
   "outputs": [
    {
     "name": "stdout",
     "output_type": "stream",
     "text": [
      "34\n",
      "26\n",
      "120\n",
      "7.5\n",
      "7\n",
      "2\n"
     ]
    }
   ],
   "source": [
    "a = 30\n",
    "b = 4\n",
    "\n",
    "yurim_Cal(a,b) "
   ]
  },
  {
   "cell_type": "markdown",
   "metadata": {},
   "source": [
    "##### 추가 - eval() 함수를 이용하여 연산 가능"
   ]
  },
  {
   "cell_type": "code",
   "execution_count": 13,
   "metadata": {},
   "outputs": [
    {
     "name": "stdout",
     "output_type": "stream",
     "text": [
      "8\n",
      "-12\n",
      "150\n"
     ]
    }
   ],
   "source": [
    "# 참고 예\n",
    "print( eval(\"3+5\") )\n",
    "print( eval(\"3-5-10\"))\n",
    "print( eval(\"3*5*10\"))"
   ]
  },
  {
   "cell_type": "markdown",
   "metadata": {},
   "source": [
    "##### 기본 구조3\n",
    "* 함수 정의 블록에서 return을 명령을 이용해서 함수 호출한 곳에 실행 후, 값을 전달할 수 있다.\n",
    "\n",
    "      def 함수명(매개변수1, 매개변수2):\n",
    "          실행문장1\n",
    "          실행문장1\n",
    "          return [전달내용]\n",
    "\n",
    "       # 실행을 위해서는 함수명 재호출해야함.\n",
    "         var = 함수명(인자1, 인자2)"
   ]
  },
  {
   "cell_type": "code",
   "execution_count": 14,
   "metadata": {},
   "outputs": [],
   "source": [
    "def two_plus(a,b):\n",
    "  num1 = a+b\n",
    "  return num1"
   ]
  },
  {
   "cell_type": "code",
   "execution_count": 15,
   "metadata": {},
   "outputs": [
    {
     "name": "stdout",
     "output_type": "stream",
     "text": [
      "8\n"
     ]
    }
   ],
   "source": [
    "a = 3\n",
    "b = 5\n",
    "result = two_plus(a,b)\n",
    "print(result)"
   ]
  },
  {
   "cell_type": "markdown",
   "metadata": {},
   "source": [
    "##### 여러개의 값을 전달하기"
   ]
  },
  {
   "cell_type": "code",
   "execution_count": 16,
   "metadata": {},
   "outputs": [],
   "source": [
    "def two_op(a,b):\n",
    "  num1 = a+b\n",
    "  num2 = a-b\n",
    "  num3 = a*b\n",
    "  num4 = a/b\n",
    "  return num1, num2, num3, num4"
   ]
  },
  {
   "cell_type": "code",
   "execution_count": 17,
   "metadata": {},
   "outputs": [
    {
     "name": "stdout",
     "output_type": "stream",
     "text": [
      "더하기 : 8\n",
      "빼기   : -2\n",
      "곱하기 : 15\n",
      "나누기 : 0.6\n"
     ]
    }
   ],
   "source": [
    "a = 3\n",
    "b = 5\n",
    "r1, r2, r3, r4 = two_op(a,b)\n",
    "print(\"더하기 :\", r1)\n",
    "print(\"빼기   :\", r2)\n",
    "print(\"곱하기 :\", r3)\n",
    "print(\"나누기 :\", r4)"
   ]
  },
  {
   "cell_type": "markdown",
   "metadata": {},
   "source": [
    "##### 기본 구조4\n",
    "* 전달되는 입력값이 몇 개인지 모를때는 다음과 같이 여러개의 값을 전달 가능하다.\n",
    "* 입력되는 값의 개수가 때에 따라 다를 경우\n",
    "\n",
    "      def 함수명(*매개변수):\n",
    "          실행문장1\n",
    "\n",
    "       # 실행을 위해서는 함수명 재호출해야함.\n",
    "         var = 함수명(인자1, 인자2)"
   ]
  },
  {
   "cell_type": "code",
   "execution_count": 18,
   "metadata": {},
   "outputs": [],
   "source": [
    "def mul_op(*args):\n",
    "  sum = 0\n",
    "  for i in args:\n",
    "    sum += i\n",
    "  return sum"
   ]
  },
  {
   "cell_type": "code",
   "execution_count": 19,
   "metadata": {},
   "outputs": [
    {
     "data": {
      "text/plain": [
       "15"
      ]
     },
     "execution_count": 19,
     "metadata": {},
     "output_type": "execute_result"
    }
   ],
   "source": [
    "mul_op(1,2,3,4,5)"
   ]
  },
  {
   "cell_type": "code",
   "execution_count": 20,
   "metadata": {},
   "outputs": [
    {
     "data": {
      "text/plain": [
       "12"
      ]
     },
     "execution_count": 20,
     "metadata": {},
     "output_type": "execute_result"
    }
   ],
   "source": [
    "mul_op(3,4,5)"
   ]
  },
  {
   "cell_type": "markdown",
   "metadata": {},
   "source": [
    "##### 기본 구조5\n",
    "* 매개변수의 초기값 설정이 가능하다.\n",
    "* 함수를 호출시에 해당 값이 전달이 되지 않으면 초기값으로 값을 가지게 된다.\n",
    "\n",
    "      def 함수명(매개변수1, 매개변수2=0):\n",
    "          실행문장1\n",
    "\n",
    "       # 실행을 위해서는 함수명 재호출해야함.\n",
    "         var = 함수명(인자1, 인자2)"
   ]
  },
  {
   "cell_type": "code",
   "execution_count": 21,
   "metadata": {},
   "outputs": [],
   "source": [
    "def two_op2(a,b=0):\n",
    "  num1 = a+b\n",
    "  num2 = a-b\n",
    "  return num1, num2"
   ]
  },
  {
   "cell_type": "code",
   "execution_count": 22,
   "metadata": {},
   "outputs": [
    {
     "name": "stdout",
     "output_type": "stream",
     "text": [
      "더하기 : 8\n",
      "빼기   : -2\n"
     ]
    }
   ],
   "source": [
    "a = 3\n",
    "b = 5\n",
    "r1, r2 = two_op2(a,b)\n",
    "print(\"더하기 :\", r1)\n",
    "print(\"빼기   :\", r2)"
   ]
  },
  {
   "cell_type": "markdown",
   "metadata": {},
   "source": [
    "##### 함수의 매개변수 값, b가 없을 경우,"
   ]
  },
  {
   "cell_type": "code",
   "execution_count": 23,
   "metadata": {},
   "outputs": [
    {
     "name": "stdout",
     "output_type": "stream",
     "text": [
      "더하기 : 3\n",
      "빼기   : 3\n"
     ]
    }
   ],
   "source": [
    "a = 3\n",
    "r1, r2 = two_op2(a)  # 원래 인수가 없을 때는 함수에서 정의된 초기값을 쓴다.\n",
    "print(\"더하기 :\", r1)  # 3+0\n",
    "print(\"빼기   :\", r2)  # 3-0"
   ]
  },
  {
   "cell_type": "markdown",
   "metadata": {},
   "source": [
    "##### 무명함수(람다식) Lambda 함수 이해\n",
    "* 무명 함수는 이름은 없고 몸체만 있는 함수\n",
    "* 파이썬에서 무명함수는 lambda 키워드로 생성\n",
    "* 무명 함수는 여러 개의 인수를 가질 수 있으나 반환값은 하나만 있어야 함.\n",
    "* 람다함수는 return문 없이 자동으로 return해 준다.\n",
    "\n",
    "       lambda 인수1, 인수2... : 수식(함수의 몸체)\n",
    "       lambda arguments : 수식(expression)"
   ]
  },
  {
   "cell_type": "code",
   "execution_count": 24,
   "metadata": {},
   "outputs": [
    {
     "name": "stdout",
     "output_type": "stream",
     "text": [
      "두수의 합 : 40\n"
     ]
    }
   ],
   "source": [
    "sum = lambda x, y:x + y;\n",
    "\n",
    "print(\"두수의 합 :\", sum(10,30))"
   ]
  },
  {
   "cell_type": "code",
   "execution_count": 25,
   "metadata": {},
   "outputs": [
    {
     "name": "stdout",
     "output_type": "stream",
     "text": [
      "두수의 합 : 40\n"
     ]
    }
   ],
   "source": [
    "# 함수 사용\n",
    "def two_sum(a,b):\n",
    "    return a + b\n",
    "\n",
    "print(\"두수의 합 :\", two_sum(10,30))"
   ]
  },
  {
   "cell_type": "markdown",
   "metadata": {},
   "source": [
    "##### 람다 함수 정의 후, 표현식을 변수에 대입하면 익명함수 호출 가능\n",
    "##### 하나의 값 더하기"
   ]
  },
  {
   "cell_type": "code",
   "execution_count": 27,
   "metadata": {},
   "outputs": [
    {
     "name": "stdout",
     "output_type": "stream",
     "text": [
      "5에 1을 더하면 :  6\n"
     ]
    }
   ],
   "source": [
    "plus1_lambda = lambda x : x + 1\n",
    "\n",
    "print(\"5에 1을 더하면 : \", plus1_lambda(5))"
   ]
  },
  {
   "cell_type": "code",
   "execution_count": 28,
   "metadata": {},
   "outputs": [
    {
     "name": "stdout",
     "output_type": "stream",
     "text": [
      "[6, 2]\n"
     ]
    }
   ],
   "source": [
    "# 리스트로부터 2의 배수만 추출\n",
    "my_list = [1,3,5,6,2,3,5]\n",
    "\n",
    "# filter( 조건 함수, 리스트와 같은 데이터) : 여러개의 데이터에서 일부 값 추출 \n",
    "new_list = list(filter(lambda x : (x%2 == 0), my_list ) )\n",
    "print(new_list) "
   ]
  },
  {
   "cell_type": "markdown",
   "metadata": {},
   "source": [
    "##### map()함수와 함께 사용\n",
    "     map(함수, 리스트,튜플 등)\n",
    "     map(함수, 반복가능 item)"
   ]
  },
  {
   "cell_type": "code",
   "execution_count": 29,
   "metadata": {},
   "outputs": [
    {
     "name": "stdout",
     "output_type": "stream",
     "text": [
      "[2, 6, 10, 12, 4, 6, 10]\n"
     ]
    }
   ],
   "source": [
    "# 리스트로부터 2의 배수만 추출\n",
    "my_list = [1,3,5,6,2,3,5]\n",
    "\n",
    "# filter( 조건 함수, 리스트와 같은 데이터) : 여러개의 데이터에서 일부 값 추출 \n",
    "new_list = list(map(lambda x : x*2, my_list ) )\n",
    "print(new_list) "
   ]
  },
  {
   "cell_type": "markdown",
   "metadata": {},
   "source": [
    "#### 1-2 모듈(module)과 import에 대해 알아보자.\n",
    "* 모듈이란 함수나 변수 또는 클래스를 모아놓은 파일입니다.\n",
    "* 다른 파이썬 프로그램에서 불러와 사용할 수 있도록 만든 파이썬 파일로 보면 됩니다.\n",
    "\n",
    "##### 내가 직접 모듈을 만들어 사용해 보기\n",
    "     파일 만들기 mymod.py\n",
    "\n",
    "     def mod_two_op(a,b=0):\n",
    "         num1 = a+b\n",
    "         num2 = a-b\n",
    "         return num1, num2\n",
    "##### 모듈을 불러오기 (import 명령을 이용)\n",
    "      [syntax] import 모듈이름"
   ]
  },
  {
   "cell_type": "code",
   "execution_count": 30,
   "metadata": {},
   "outputs": [],
   "source": [
    "import mymod"
   ]
  },
  {
   "cell_type": "code",
   "execution_count": 31,
   "metadata": {},
   "outputs": [
    {
     "name": "stdout",
     "output_type": "stream",
     "text": [
      "두 값의 합 :  15\n",
      "두 값의 차 :  -5\n"
     ]
    }
   ],
   "source": [
    "a = 5\n",
    "b = 10\n",
    "n1, n2 =  mymod.mod_two_op(a, b)\n",
    "\n",
    "print(\"두 값의 합 : \", n1)\n",
    "print(\"두 값의 차 : \", n2)"
   ]
  },
  {
   "cell_type": "markdown",
   "metadata": {},
   "source": [
    "##### 외부 모듈 사용해 보기\n",
    "* os 모듈 : 시스템의 디렉터리, 파일, os 자원을 제어할 수 있게 해주는 모듈\n",
    "* shutil 파일 복사 모듈\n",
    "* time : 시간관련 모듈\n",
    "* random : 난수(규칙이 없는 임의의 수)를 발생시키는 모듈"
   ]
  },
  {
   "cell_type": "markdown",
   "metadata": {},
   "source": [
    "#### 2-1 외부 모듈(라이브러리) 사용해 보기"
   ]
  },
  {
   "cell_type": "code",
   "execution_count": 32,
   "metadata": {},
   "outputs": [
    {
     "name": "stdout",
     "output_type": "stream",
     "text": [
      "C:\\Users\\gram\\Documents\\★중급반\n"
     ]
    }
   ],
   "source": [
    "import os\n",
    "\n",
    "# 현재 위치 확인\n",
    "print(  os.getcwd()  )"
   ]
  },
  {
   "cell_type": "code",
   "execution_count": 33,
   "metadata": {},
   "outputs": [
    {
     "name": "stdout",
     "output_type": "stream",
     "text": [
      "['.ipynb_checkpoints', '20220610_Python_01.ipynb', '20220613_Python_02.ipynb', '20220613_Python_03.ipynb', '20220613_Python_04.ipynb', '20220614_Python_Library_01.ipynb', '20220614_Python_Library_02.ipynb', '20220615_Bike_01.ipynb', '20220615_Bike_02.ipynb', '20220615_Cal_01.ipynb', '20220615_Cal_02.ipynb', '20220615_Cal_03.ipynb', '20220615_Cal_04.ipynb', '20220615_Excel_01.ipynb', '20220615_Excel_02.ipynb', '20220615_GUI_Tkinter_01.ipynb', '20220615_GUI_Tkinter_02.ipynb', '20220615_matplotlib_01.ipynb', '20220617_Pandas_01.ipynb', '20220617_Pandas_02_California.ipynb', '20220617_Pandas_03_California.ipynb', '20220618_Folium_01.ipynb', '20220618_Folium_02.ipynb', '20220624_인공지능 기본 문제.ipynb', '20220627_01_01_파이썬기본.ipynb', '20220627_01_01_파이썬기본.pdf', '20220627_01_02_파이썬함수모듈.ipynb', 'address.xlsx', 'bike', 'dic_excel.xlsx', 'map.html', 'map_circle.html', 'mydata.txt', 'mydata_bak.txt', 'mymod.py', 'mymod1.py', 'plt_legend_0622.PNG', 'Plugins_1.html', 'seoul_muncipalities_geo.json', 'team_12.csv', 'team_12.xlsx', '__pycache__', '★AI Project Goorm Schedule Danie.pdf', '★AI Project Goorm Schedule.xlsx', '전국전통시장표준데이터.csv', '주소록.xlsx', '주소록_chk.xlsx']\n"
     ]
    }
   ],
   "source": [
    "# 현재 위치의 디렉터리 및 파일 확인\n",
    "print(  os.listdir()  )"
   ]
  },
  {
   "cell_type": "code",
   "execution_count": 34,
   "metadata": {},
   "outputs": [
    {
     "name": "stdout",
     "output_type": "stream",
     "text": [
      "None\n",
      "['.ipynb_checkpoints', '20220610_Python_01.ipynb', '20220613_Python_02.ipynb', '20220613_Python_03.ipynb', '20220613_Python_04.ipynb', '20220614_Python_Library_01.ipynb', '20220614_Python_Library_02.ipynb', '20220615_Bike_01.ipynb', '20220615_Bike_02.ipynb', '20220615_Cal_01.ipynb', '20220615_Cal_02.ipynb', '20220615_Cal_03.ipynb', '20220615_Cal_04.ipynb', '20220615_Excel_01.ipynb', '20220615_Excel_02.ipynb', '20220615_GUI_Tkinter_01.ipynb', '20220615_GUI_Tkinter_02.ipynb', '20220615_matplotlib_01.ipynb', '20220617_Pandas_01.ipynb', '20220617_Pandas_02_California.ipynb', '20220617_Pandas_03_California.ipynb', '20220618_Folium_01.ipynb', '20220618_Folium_02.ipynb', '20220624_인공지능 기본 문제.ipynb', '20220627_01_01_파이썬기본.ipynb', '20220627_01_01_파이썬기본.pdf', '20220627_01_02_파이썬함수모듈.ipynb', 'address.xlsx', 'bike', 'dic_excel.xlsx', 'map.html', 'map_circle.html', 'mydata.txt', 'mydata_bak.txt', 'mydir', 'mymod.py', 'mymod1.py', 'plt_legend_0622.PNG', 'Plugins_1.html', 'seoul_muncipalities_geo.json', 'team_12.csv', 'team_12.xlsx', '__pycache__', '★AI Project Goorm Schedule Danie.pdf', '★AI Project Goorm Schedule.xlsx', '전국전통시장표준데이터.csv', '주소록.xlsx', '주소록_chk.xlsx']\n"
     ]
    }
   ],
   "source": [
    "# 현재 위치에 새로운 디렉터리 만들기\n",
    "print(  os.mkdir(\"mydir\")  )\n",
    "print(  os.listdir()  )"
   ]
  },
  {
   "cell_type": "code",
   "execution_count": 35,
   "metadata": {},
   "outputs": [
    {
     "name": "stdout",
     "output_type": "stream",
     "text": [
      "None\n",
      "['.ipynb_checkpoints', '20220610_Python_01.ipynb', '20220613_Python_02.ipynb', '20220613_Python_03.ipynb', '20220613_Python_04.ipynb', '20220614_Python_Library_01.ipynb', '20220614_Python_Library_02.ipynb', '20220615_Bike_01.ipynb', '20220615_Bike_02.ipynb', '20220615_Cal_01.ipynb', '20220615_Cal_02.ipynb', '20220615_Cal_03.ipynb', '20220615_Cal_04.ipynb', '20220615_Excel_01.ipynb', '20220615_Excel_02.ipynb', '20220615_GUI_Tkinter_01.ipynb', '20220615_GUI_Tkinter_02.ipynb', '20220615_matplotlib_01.ipynb', '20220617_Pandas_01.ipynb', '20220617_Pandas_02_California.ipynb', '20220617_Pandas_03_California.ipynb', '20220618_Folium_01.ipynb', '20220618_Folium_02.ipynb', '20220624_인공지능 기본 문제.ipynb', '20220627_01_01_파이썬기본.ipynb', '20220627_01_01_파이썬기본.pdf', '20220627_01_02_파이썬함수모듈.ipynb', 'address.xlsx', 'bike', 'dic_excel.xlsx', 'map.html', 'map_circle.html', 'mydata.txt', 'mydata_bak.txt', 'mymod.py', 'mymod1.py', 'plt_legend_0622.PNG', 'Plugins_1.html', 'seoul_muncipalities_geo.json', 'team_12.csv', 'team_12.xlsx', '__pycache__', '★AI Project Goorm Schedule Danie.pdf', '★AI Project Goorm Schedule.xlsx', '전국전통시장표준데이터.csv', '주소록.xlsx', '주소록_chk.xlsx']\n"
     ]
    }
   ],
   "source": [
    "# 현재 위치에 디렉터리 삭제\n",
    "print(  os.rmdir(\"mydir\")  )\n",
    "print(  os.listdir()  )"
   ]
  },
  {
   "cell_type": "markdown",
   "metadata": {},
   "source": [
    "#### 2-2 외부 모듈(라이브러리) 사용해 보기 - shutil\n",
    "* 파일을 복사해 주는 파이썬 모듈"
   ]
  },
  {
   "cell_type": "code",
   "execution_count": 36,
   "metadata": {},
   "outputs": [
    {
     "name": "stdout",
     "output_type": "stream",
     "text": [
      "['.ipynb_checkpoints', '20220610_Python_01.ipynb', '20220613_Python_02.ipynb', '20220613_Python_03.ipynb', '20220613_Python_04.ipynb', '20220614_Python_Library_01.ipynb', '20220614_Python_Library_02.ipynb', '20220615_Bike_01.ipynb', '20220615_Bike_02.ipynb', '20220615_Cal_01.ipynb', '20220615_Cal_02.ipynb', '20220615_Cal_03.ipynb', '20220615_Cal_04.ipynb', '20220615_Excel_01.ipynb', '20220615_Excel_02.ipynb', '20220615_GUI_Tkinter_01.ipynb', '20220615_GUI_Tkinter_02.ipynb', '20220615_matplotlib_01.ipynb', '20220617_Pandas_01.ipynb', '20220617_Pandas_02_California.ipynb', '20220617_Pandas_03_California.ipynb', '20220618_Folium_01.ipynb', '20220618_Folium_02.ipynb', '20220624_인공지능 기본 문제.ipynb', '20220627_01_01_파이썬기본.ipynb', '20220627_01_01_파이썬기본.pdf', '20220627_01_02_파이썬함수모듈.ipynb', 'address.xlsx', 'bike', 'dic_excel.xlsx', 'map.html', 'map_circle.html', 'mydata.txt', 'mydata_bak.txt', 'mymod.py', 'mymod1.py', 'plt_legend_0622.PNG', 'Plugins_1.html', 'seoul_muncipalities_geo.json', 'team_12.csv', 'team_12.xlsx', '__pycache__', '★AI Project Goorm Schedule Danie.pdf', '★AI Project Goorm Schedule.xlsx', '전국전통시장표준데이터.csv', '주소록.xlsx', '주소록_chk.xlsx']\n"
     ]
    }
   ],
   "source": [
    "print(  os.listdir()  )"
   ]
  },
  {
   "cell_type": "code",
   "execution_count": 37,
   "metadata": {},
   "outputs": [
    {
     "name": "stdout",
     "output_type": "stream",
     "text": [
      "['.ipynb_checkpoints', '20220610_Python_01.ipynb', '20220613_Python_02.ipynb', '20220613_Python_03.ipynb', '20220613_Python_04.ipynb', '20220614_Python_Library_01.ipynb', '20220614_Python_Library_02.ipynb', '20220615_Bike_01.ipynb', '20220615_Bike_02.ipynb', '20220615_Cal_01.ipynb', '20220615_Cal_02.ipynb', '20220615_Cal_03.ipynb', '20220615_Cal_04.ipynb', '20220615_Excel_01.ipynb', '20220615_Excel_02.ipynb', '20220615_GUI_Tkinter_01.ipynb', '20220615_GUI_Tkinter_02.ipynb', '20220615_matplotlib_01.ipynb', '20220617_Pandas_01.ipynb', '20220617_Pandas_02_California.ipynb', '20220617_Pandas_03_California.ipynb', '20220618_Folium_01.ipynb', '20220618_Folium_02.ipynb', '20220624_인공지능 기본 문제.ipynb', '20220627_01_01_파이썬기본.ipynb', '20220627_01_01_파이썬기본.pdf', '20220627_01_02_파이썬함수모듈.ipynb', 'address.xlsx', 'bike', 'dic_excel.xlsx', 'map.html', 'map_circle.html', 'mydata.txt', 'mydata_bak.txt', 'mymod.py', 'mymod1.py', 'plt_legend_0622.PNG', 'Plugins_1.html', 'seoul_muncipalities_geo.json', 'team_12.csv', 'team_12.xlsx', '__pycache__', '★AI Project Goorm Schedule Danie.pdf', '★AI Project Goorm Schedule.xlsx', '전국전통시장표준데이터.csv', '주소록.xlsx', '주소록_chk.xlsx']\n"
     ]
    }
   ],
   "source": [
    "import shutil\n",
    "\n",
    "shutil.copy(\"mydata.txt\", \"mydata_bak.txt\")\n",
    "print(  os.listdir()  )"
   ]
  },
  {
   "cell_type": "code",
   "execution_count": 38,
   "metadata": {},
   "outputs": [
    {
     "name": "stdout",
     "output_type": "stream",
     "text": [
      "['.ipynb_checkpoints', '20220610_Python_01.ipynb', '20220613_Python_02.ipynb', '20220613_Python_03.ipynb', '20220613_Python_04.ipynb', '20220614_Python_Library_01.ipynb', '20220614_Python_Library_02.ipynb', '20220615_Bike_01.ipynb', '20220615_Bike_02.ipynb', '20220615_Cal_01.ipynb', '20220615_Cal_02.ipynb', '20220615_Cal_03.ipynb', '20220615_Cal_04.ipynb', '20220615_Excel_01.ipynb', '20220615_Excel_02.ipynb', '20220615_GUI_Tkinter_01.ipynb', '20220615_GUI_Tkinter_02.ipynb', '20220615_matplotlib_01.ipynb', '20220617_Pandas_01.ipynb', '20220617_Pandas_02_California.ipynb', '20220617_Pandas_03_California.ipynb', '20220618_Folium_01.ipynb', '20220618_Folium_02.ipynb', '20220624_인공지능 기본 문제.ipynb', '20220627_01_01_파이썬기본.ipynb', '20220627_01_01_파이썬기본.pdf', '20220627_01_02_파이썬함수모듈.ipynb', 'address.xlsx', 'bike', 'dic_excel.xlsx', 'map.html', 'map_circle.html', 'mydata.txt', 'mydata_bak.txt', 'mymod.py', 'mymod1.py', 'plt_legend_0622.PNG', 'Plugins_1.html', 'seoul_muncipalities_geo.json', 'team_12.csv', 'team_12.xlsx', '__pycache__', '★AI Project Goorm Schedule Danie.pdf', '★AI Project Goorm Schedule.xlsx', '전국전통시장표준데이터.csv', '주소록.xlsx', '주소록_chk.xlsx']\n"
     ]
    }
   ],
   "source": [
    "shutil.copy(\"mymod.py\", \"mymod1.py\")\n",
    "print(  os.listdir()  )"
   ]
  },
  {
   "cell_type": "markdown",
   "metadata": {},
   "source": [
    "#### 2-3 외부 모듈(라이브러리) 사용해 보기 - time\n",
    "* 시간과 관련된 다양한 기능"
   ]
  },
  {
   "cell_type": "code",
   "execution_count": 39,
   "metadata": {},
   "outputs": [],
   "source": [
    "import time"
   ]
  },
  {
   "cell_type": "code",
   "execution_count": 40,
   "metadata": {},
   "outputs": [
    {
     "data": {
      "text/plain": [
       "1656310500.1351373"
      ]
     },
     "execution_count": 40,
     "metadata": {},
     "output_type": "execute_result"
    }
   ],
   "source": [
    "# 현재 시간을 실수형태로 표현\n",
    "time.time()"
   ]
  },
  {
   "cell_type": "code",
   "execution_count": 41,
   "metadata": {},
   "outputs": [
    {
     "data": {
      "text/plain": [
       "time.struct_time(tm_year=2022, tm_mon=6, tm_mday=27, tm_hour=15, tm_min=15, tm_sec=5, tm_wday=0, tm_yday=178, tm_isdst=0)"
      ]
     },
     "execution_count": 41,
     "metadata": {},
     "output_type": "execute_result"
    }
   ],
   "source": [
    "# 현재 시간을 실수형태로 표현된 것을 년월일시분초로 표현\n",
    "a = time.time()\n",
    "time.localtime(a)"
   ]
  },
  {
   "cell_type": "code",
   "execution_count": 42,
   "metadata": {},
   "outputs": [
    {
     "data": {
      "text/plain": [
       "'2022/06/27 15/15/10'"
      ]
     },
     "execution_count": 42,
     "metadata": {},
     "output_type": "execute_result"
    }
   ],
   "source": [
    "# 원하는 포맷으로 출력\n",
    "# 자세한 포맷은 링크 참조 : https://wikidocs.net/33\n",
    "loc_time = time.localtime(time.time())\n",
    "time.strftime(\"%Y/%m/%d %H/%M/%S\", loc_time)"
   ]
  },
  {
   "cell_type": "code",
   "execution_count": 43,
   "metadata": {},
   "outputs": [
    {
     "name": "stdout",
     "output_type": "stream",
     "text": [
      "지금부터 5초\n",
      "5초후 출력\n"
     ]
    }
   ],
   "source": [
    "### 몇초동안 실행을 지연시킨다.\n",
    "import time\n",
    "\n",
    "print(\"지금부터 5초\")\n",
    "time.sleep(5)\n",
    "print(\"5초후 출력\")"
   ]
  },
  {
   "cell_type": "markdown",
   "metadata": {},
   "source": [
    "#### 2-4 외부 모듈(라이브러리) 사용해 보기 - random"
   ]
  },
  {
   "cell_type": "code",
   "execution_count": 44,
   "metadata": {},
   "outputs": [],
   "source": [
    "import random"
   ]
  },
  {
   "cell_type": "code",
   "execution_count": 45,
   "metadata": {},
   "outputs": [
    {
     "data": {
      "text/plain": [
       "0.758176259612078"
      ]
     },
     "execution_count": 45,
     "metadata": {},
     "output_type": "execute_result"
    }
   ],
   "source": [
    "# 0.0에서 1.0사이의 실수 중에서 난수값을 발생\n",
    "random.random()"
   ]
  },
  {
   "cell_type": "code",
   "execution_count": 46,
   "metadata": {},
   "outputs": [
    {
     "data": {
      "text/plain": [
       "5"
      ]
     },
     "execution_count": 46,
     "metadata": {},
     "output_type": "execute_result"
    }
   ],
   "source": [
    "# 1,10 사이의 정수 중에서 난수 발생\n",
    "random.randint(1,10)"
   ]
  },
  {
   "cell_type": "code",
   "execution_count": 47,
   "metadata": {},
   "outputs": [
    {
     "data": {
      "text/plain": [
       "16"
      ]
     },
     "execution_count": 47,
     "metadata": {},
     "output_type": "execute_result"
    }
   ],
   "source": [
    "# 1,30 사이의 정수 중에서 난수 값 발생\n",
    "random.randint(1,30)"
   ]
  },
  {
   "cell_type": "code",
   "execution_count": 48,
   "metadata": {},
   "outputs": [
    {
     "name": "stdout",
     "output_type": "stream",
     "text": [
      "바위\n"
     ]
    }
   ],
   "source": [
    "# 가위바위보 중에 하나 난수 발생\n",
    "a = ['가위', '바위', '보']\n",
    "\n",
    "num1 = random.randint(0,2)\n",
    "print(a[num1])"
   ]
  },
  {
   "cell_type": "markdown",
   "metadata": {},
   "source": [
    "##### 응용 프로그램\n",
    "* 가위바위보 게임을 만들어보자."
   ]
  },
  {
   "cell_type": "code",
   "execution_count": 52,
   "metadata": {},
   "outputs": [
    {
     "name": "stdout",
     "output_type": "stream",
     "text": [
      "가위(0)/바위(1)/보(2) 중의 하나를 선택해 주세요(0,1,2) : 2\n",
      "컴퓨터 :  가위\n",
      "선택 :  보\n",
      "잘못된 값을 입력했어요.\n"
     ]
    }
   ],
   "source": [
    "# 가위바위보 중에 하나 난수 발생\n",
    "a = ['가위', '바위', '보']\n",
    "\n",
    "me = int( input(\"가위(0)/바위(1)/보(2) 중의 하나를 선택해 주세요(0,1,2) : \"))\n",
    "\n",
    "num1 = random.randint(0,2)\n",
    "print(\"컴퓨터 : \" ,a[num1])\n",
    "print(\"선택 : \" ,a[me])\n",
    "\n",
    "if a[me]==a[num1]:\n",
    "  print(\"비겼습니다.\")\n",
    "elif (a[me]==\"가위\") and (a[num1]==\"바위\"):\n",
    "  print(\"졌어요.\")\n",
    "elif (a[me]==\"바위\") and (a[num1]==\"가위\"):\n",
    "  print(\"이겼어요\")\n",
    "else:\n",
    "  print(\"잘못된 값을 입력했어요.\")"
   ]
  },
  {
   "cell_type": "markdown",
   "metadata": {},
   "source": [
    "#### 실습\n",
    "* 위의 가위바위보 프로그램은 일부만 동작하고 일부는 동작하지 않습니다. 보완해 주세요."
   ]
  },
  {
   "cell_type": "code",
   "execution_count": 54,
   "metadata": {},
   "outputs": [
    {
     "name": "stdout",
     "output_type": "stream",
     "text": [
      "random 모듈을 활용한 가위바위보 게임입니다. (3선승제)\n",
      "가위(0)/바위(1)/보(2) 중의 하나를 선택해 주세요(0,1,2) : 2\n",
      "컴퓨터 :  바위\n",
      "선택 :  보\n",
      "이겼습니다.\n",
      "가위(0)/바위(1)/보(2) 중의 하나를 선택해 주세요(0,1,2) : 1\n",
      "컴퓨터 :  보\n",
      "선택 :  바위\n",
      "졌습니다.\n",
      "가위(0)/바위(1)/보(2) 중의 하나를 선택해 주세요(0,1,2) : 1\n",
      "컴퓨터 :  바위\n",
      "선택 :  바위\n",
      "비겼습니다.\n",
      "가위(0)/바위(1)/보(2) 중의 하나를 선택해 주세요(0,1,2) : 2\n",
      "컴퓨터 :  보\n",
      "선택 :  보\n",
      "비겼습니다.\n",
      "가위(0)/바위(1)/보(2) 중의 하나를 선택해 주세요(0,1,2) : 0\n",
      "컴퓨터 :  보\n",
      "선택 :  가위\n",
      "이겼습니다.\n",
      "가위(0)/바위(1)/보(2) 중의 하나를 선택해 주세요(0,1,2) : 0\n",
      "컴퓨터 :  바위\n",
      "선택 :  가위\n",
      "졌습니다.\n",
      "가위(0)/바위(1)/보(2) 중의 하나를 선택해 주세요(0,1,2) : 1\n",
      "컴퓨터 :  보\n",
      "선택 :  바위\n",
      "졌습니다.\n",
      "졌습니다.\n",
      "엔터 키를 누르면 종료됩니다.\n"
     ]
    }
   ],
   "source": [
    "import random\n",
    "# 프로그램에 대한 설명\n",
    "print(\"random 모듈을 활용한 가위바위보 게임입니다. (3선승제)\")\n",
    "\n",
    "# 전적\n",
    "count1 = 0 # 사용자가 이긴 횟수\n",
    "count2 = 0 # 컴퓨터가 이긴 횟수\n",
    "\n",
    "# 가위바위보 중에 하나 난수 발생\n",
    "comp = ['가위', '바위', '보']\n",
    "\n",
    "# 3선승제\n",
    "while True:\n",
    "    # 사용자가 가위바위보 고르기\n",
    "    me = int( input(\"가위(0)/바위(1)/보(2) 중의 하나를 선택해 주세요(0,1,2) : \"))\n",
    "    # 랜덤함수를 사용해 컴퓨터가 무엇을 낼지 결정\n",
    "    num1 = random.randint(0,2)\n",
    "    \n",
    "    # 무엇을 냈는지 출력\n",
    "    print(\"컴퓨터 : \" ,comp[num1])\n",
    "    print(\"선택 : \" ,comp[me])\n",
    "    \n",
    "    # 승패 결정\n",
    "    i = me - num1 + 3\n",
    "    if i % 3 == 0:\n",
    "        print(\"비겼습니다.\")\n",
    "    elif i % 3 == 1:\n",
    "        count1 += 1\n",
    "        print(\"이겼습니다.\")\n",
    "    else:\n",
    "        count2 += 1\n",
    "        print(\"졌습니다.\")\n",
    "        \n",
    "    # 어느 한 쪽이 3판 먼저 이기면 반복문 종료\n",
    "    if count1 == 3 :\n",
    "        print(\"이겼습니다.\")\n",
    "        input(\"엔터 키를 누르면 종료됩니다.\")\n",
    "        break\n",
    "    elif count2 == 3 :\n",
    "        print(\"졌습니다.\")\n",
    "        input(\"엔터 키를 누르면 종료됩니다.\")\n",
    "        break"
   ]
  },
  {
   "cell_type": "code",
   "execution_count": null,
   "metadata": {},
   "outputs": [],
   "source": []
  }
 ],
 "metadata": {
  "kernelspec": {
   "display_name": "Python 3",
   "language": "python",
   "name": "python3"
  },
  "language_info": {
   "codemirror_mode": {
    "name": "ipython",
    "version": 3
   },
   "file_extension": ".py",
   "mimetype": "text/x-python",
   "name": "python",
   "nbconvert_exporter": "python",
   "pygments_lexer": "ipython3",
   "version": "3.8.5"
  }
 },
 "nbformat": 4,
 "nbformat_minor": 4
}
