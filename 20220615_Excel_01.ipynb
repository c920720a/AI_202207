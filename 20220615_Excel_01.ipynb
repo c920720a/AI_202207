{
 "cells": [
  {
   "cell_type": "markdown",
   "metadata": {},
   "source": [
    "#### 파이썬으로 엑셀 다루기"
   ]
  },
  {
   "cell_type": "code",
   "execution_count": 1,
   "metadata": {},
   "outputs": [
    {
     "name": "stdout",
     "output_type": "stream",
     "text": [
      "openpyxl Ver :  3.0.5\n"
     ]
    }
   ],
   "source": [
    "import  openpyxl as oxl\n",
    "print(\"openpyxl Ver : \", oxl.__version__)"
   ]
  },
  {
   "cell_type": "markdown",
   "metadata": {},
   "source": [
    "#### 01. 엑셀 파일 만들기"
   ]
  },
  {
   "cell_type": "code",
   "execution_count": 2,
   "metadata": {},
   "outputs": [],
   "source": [
    "from openpyxl import Workbook"
   ]
  },
  {
   "cell_type": "code",
   "execution_count": 3,
   "metadata": {},
   "outputs": [
    {
     "name": "stdout",
     "output_type": "stream",
     "text": [
      "['Sheet']\n",
      "<Worksheet \"Sheet\">\n"
     ]
    }
   ],
   "source": [
    "wb = Workbook()     # 워크북 만들기\n",
    "\n",
    "# 기본적으로 시트는 하나 생성\n",
    "print(wb.sheetnames)\n",
    "\n",
    "# 활성화 된 시트 확인\n",
    "print(wb.active)"
   ]
  },
  {
   "cell_type": "markdown",
   "metadata": {},
   "source": [
    "#### 시트 추가하기"
   ]
  },
  {
   "cell_type": "code",
   "execution_count": 4,
   "metadata": {},
   "outputs": [
    {
     "name": "stdout",
     "output_type": "stream",
     "text": [
      "['Sheet', 'Sheel1']\n",
      "<Worksheet \"Sheet\">\n"
     ]
    }
   ],
   "source": [
    "ws1 = wb.create_sheet(\"Sheel1\")\n",
    "\n",
    "print(wb.sheetnames)\n",
    "print(wb.active)"
   ]
  },
  {
   "cell_type": "markdown",
   "metadata": {},
   "source": [
    "#### 위치 지정 후, 시트 추가\n",
    "* 위치는 0이 첫 번째가 된다. 0, 1, 2, ..."
   ]
  },
  {
   "cell_type": "code",
   "execution_count": 5,
   "metadata": {},
   "outputs": [
    {
     "name": "stdout",
     "output_type": "stream",
     "text": [
      "['Sheet', 'sheet0', 'Sheel1']\n",
      "<Worksheet \"Sheet\">\n"
     ]
    }
   ],
   "source": [
    "ws2 = wb.create_sheet(\"sheet0\", 1)   # 두 번째에 시트 추가\n",
    "\n",
    "print(wb.sheetnames)\n",
    "print(wb.active)"
   ]
  },
  {
   "cell_type": "markdown",
   "metadata": {},
   "source": [
    "#### 시트 이름 변경"
   ]
  },
  {
   "cell_type": "code",
   "execution_count": 6,
   "metadata": {},
   "outputs": [
    {
     "name": "stdout",
     "output_type": "stream",
     "text": [
      "['Sheet', '두번째시트', 'Sheel1']\n"
     ]
    }
   ],
   "source": [
    "new_ws2 = wb['sheet0']\n",
    "new_ws2.title = \"두번째시트\"\n",
    "\n",
    "\n",
    "print(wb.sheetnames)"
   ]
  },
  {
   "cell_type": "code",
   "execution_count": 7,
   "metadata": {},
   "outputs": [
    {
     "name": "stdout",
     "output_type": "stream",
     "text": [
      "<Worksheet \"두번째시트\">\n"
     ]
    }
   ],
   "source": [
    "# 활성화 시트 지정\n",
    "wb.active = wb['두번째시트']\n",
    "\n",
    "print(wb.active)"
   ]
  },
  {
   "cell_type": "markdown",
   "metadata": {},
   "source": [
    "#### 시트에 값 지정"
   ]
  },
  {
   "cell_type": "code",
   "execution_count": 8,
   "metadata": {},
   "outputs": [],
   "source": [
    "new_ws2['A1'] = '이름'\n",
    "new_ws2['B1'] = '전화번호'\n",
    "\n",
    "new_ws2['A2'] = '홍길동'\n",
    "new_ws2['B2'] = '02-302-3333'"
   ]
  },
  {
   "cell_type": "code",
   "execution_count": 9,
   "metadata": {},
   "outputs": [
    {
     "data": {
      "text/plain": [
       "<Cell '두번째시트'.B3>"
      ]
     },
     "execution_count": 9,
     "metadata": {},
     "output_type": "execute_result"
    }
   ],
   "source": [
    "# 시트에 값 지정 2번째\n",
    "\n",
    "new_ws2.cell(row=3, column=1, value=\"김길동\")\n",
    "new_ws2.cell(row=3, column=2, value=\"010-222-3334\")"
   ]
  },
  {
   "cell_type": "code",
   "execution_count": 10,
   "metadata": {},
   "outputs": [],
   "source": [
    "new_ws2['A5'] = ''\n",
    "new_ws2['B5'] = '02-302-3333'"
   ]
  },
  {
   "cell_type": "code",
   "execution_count": 11,
   "metadata": {},
   "outputs": [],
   "source": [
    "new_ws2['A6'] = '홍길동'\n",
    "new_ws2['B6'] = '7777777'"
   ]
  },
  {
   "cell_type": "markdown",
   "metadata": {},
   "source": [
    "#### 파일로 만들기"
   ]
  },
  {
   "cell_type": "code",
   "execution_count": 12,
   "metadata": {},
   "outputs": [],
   "source": [
    "wb.save(\"주소록.xlsx\")"
   ]
  },
  {
   "cell_type": "code",
   "execution_count": null,
   "metadata": {},
   "outputs": [],
   "source": []
  }
 ],
 "metadata": {
  "kernelspec": {
   "display_name": "Python 3",
   "language": "python",
   "name": "python3"
  },
  "language_info": {
   "codemirror_mode": {
    "name": "ipython",
    "version": 3
   },
   "file_extension": ".py",
   "mimetype": "text/x-python",
   "name": "python",
   "nbconvert_exporter": "python",
   "pygments_lexer": "ipython3",
   "version": "3.8.5"
  }
 },
 "nbformat": 4,
 "nbformat_minor": 4
}
