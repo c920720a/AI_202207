{
 "cells": [
  {
   "cell_type": "code",
   "execution_count": 1,
   "metadata": {},
   "outputs": [
    {
     "name": "stdout",
     "output_type": "stream",
     "text": [
      "C:\\Users\\gram\\Documents\\★중급반\n"
     ]
    }
   ],
   "source": [
    "# 08_tk_dict01A.py 에서 파일 읽어와서 단어의 뜻을 확인하기\n",
    "from tkinter import *\n",
    "import pandas as pd\n",
    "import os\n",
    "global dat\n",
    "\n",
    "print(os.getcwd())"
   ]
  },
  {
   "cell_type": "code",
   "execution_count": 2,
   "metadata": {},
   "outputs": [],
   "source": [
    "#%%\n",
    "dat = pd.read_excel(\"./dic_excel.xlsx\")"
   ]
  },
  {
   "cell_type": "code",
   "execution_count": 3,
   "metadata": {},
   "outputs": [],
   "source": [
    "# 키 \n",
    "def click():\n",
    "    # pass\n",
    "    word = entry.get()  # 아래 엔트리 상자의 내용을 text로 넣는다.\n",
    "    # END로 지정하면 문자열이 입력된 최종 입력 지점을 의미.\n",
    "    # 특정 시작 지점부터 텍스트 엔트리 위젯의 끝까지 모두 지우기 위해 END를 쓴다.\n",
    "    output.delete(0.0, END) # 텍스트 박스 내용을 지운다.\n",
    "\n",
    "    try:\n",
    "        def_word = dat.loc[dat['word']==word, 'def'].values[0]\n",
    "    except:\n",
    "        def_word = \"단어를 뜻을 찾을 수 없음.\"\n",
    "        # dat = window_add(dat)\n",
    "\n",
    "    output.insert(END, def_word)"
   ]
  },
  {
   "cell_type": "code",
   "execution_count": 4,
   "metadata": {},
   "outputs": [
    {
     "data": {
      "text/plain": [
       "''"
      ]
     },
     "execution_count": 4,
     "metadata": {},
     "output_type": "execute_result"
    }
   ],
   "source": [
    "# 메인 :\n",
    "window = Tk()\n",
    "window.title(\"My Dictionary\")"
   ]
  },
  {
   "cell_type": "code",
   "execution_count": 5,
   "metadata": {},
   "outputs": [],
   "source": [
    "# 01 입력 상자 설명 레이블 \n",
    "label = Label(window, text=\"원하는 단어 입력 후, 엔터 키 누르기\")\n",
    "label.grid(row=0, column=0, sticky=W)\n",
    "\n",
    "# 02 텍스트 입력이 가능한 상자(Entry)\n",
    "entry = Entry(window, width=15, bg=\"light green\")\n",
    "entry.grid(row=1, column=0, sticky=W)\n",
    "\n",
    "# 03 제출 버튼 추가\n",
    "btn = Button(window, text=\"제출\", width=5, command=click)\n",
    "btn.grid(row=2, column=0, sticky=W)\n",
    "\n",
    "# 04 설명 레이블\n",
    "lable2 = Label(window, text=\"\\n의미:\")\n",
    "lable2.grid(row=3, column=0, sticky=W)\n",
    "\n",
    "# 05 텍스트 박스 입력 상자\n",
    "# columnspan=2 는 (4,0)~(4,1) 위치까지 분포\n",
    "output = Text(window, width=50, height=6, wrap=WORD, background=\"light green\")\n",
    "output.grid(row=4, column=0, columnspan=2, sticky=W)"
   ]
  },
  {
   "cell_type": "code",
   "execution_count": null,
   "metadata": {},
   "outputs": [],
   "source": [
    "# 메인 반복문 실행\n",
    "window.mainloop()"
   ]
  },
  {
   "cell_type": "code",
   "execution_count": null,
   "metadata": {},
   "outputs": [],
   "source": []
  }
 ],
 "metadata": {
  "kernelspec": {
   "display_name": "Python 3",
   "language": "python",
   "name": "python3"
  },
  "language_info": {
   "codemirror_mode": {
    "name": "ipython",
    "version": 3
   },
   "file_extension": ".py",
   "mimetype": "text/x-python",
   "name": "python",
   "nbconvert_exporter": "python",
   "pygments_lexer": "ipython3",
   "version": "3.8.5"
  }
 },
 "nbformat": 4,
 "nbformat_minor": 4
}
