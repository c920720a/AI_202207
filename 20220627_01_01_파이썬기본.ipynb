{
 "cells": [
  {
   "cell_type": "markdown",
   "metadata": {},
   "source": [
    "### PART01. 파이썬 기본 및 프로그래밍\n",
    "#### 01. 파이썬 전체 리뷰"
   ]
  },
  {
   "cell_type": "markdown",
   "metadata": {},
   "source": [
    "#### 1-1 파이썬 시작하기"
   ]
  },
  {
   "cell_type": "code",
   "execution_count": 1,
   "metadata": {},
   "outputs": [
    {
     "name": "stdout",
     "output_type": "stream",
     "text": [
      "Hello\n",
      "\n",
      "Hello\n",
      "HelloHello\n",
      "\n",
      "Line1 \n",
      "Line2 \n",
      "Line3 \n",
      "\n"
     ]
    }
   ],
   "source": [
    "### Hello 문자열 출력\n",
    "print(\"Hello\")\n",
    "print()\n",
    "### 'end' 매개변수의 역할\n",
    "print(\"Hello\", end='\\n')\n",
    "print(\"Hello\", end='')\n",
    "print(\"Hello\")\n",
    "print()\n",
    "### print를 이용하여 여러줄 문자열\n",
    "# '\\n'은 줄을 바꿈의 명령의 내용을 전달한다.\n",
    "print(\"Line1 \\nLine2 \\nLine3 \\n\")"
   ]
  },
  {
   "cell_type": "markdown",
   "metadata": {},
   "source": [
    "#### 1-2 변수 사용하기"
   ]
  },
  {
   "cell_type": "code",
   "execution_count": 2,
   "metadata": {},
   "outputs": [
    {
     "name": "stdout",
     "output_type": "stream",
     "text": [
      "4\n",
      "my name\n"
     ]
    }
   ],
   "source": [
    "### 동물의 다리의 개수는?\n",
    "animal_leg = 4\n",
    "print(animal_leg)\n",
    "\n",
    "str1 = 'my'\n",
    "str2 = 'name'\n",
    "print(str1, str2)"
   ]
  },
  {
   "cell_type": "markdown",
   "metadata": {},
   "source": [
    "##### 여러줄의 문자열을 저장 및 출력\n",
    "* '''내용'''\n",
    "* \"\"\"내용\"\"\""
   ]
  },
  {
   "cell_type": "code",
   "execution_count": 3,
   "metadata": {},
   "outputs": [
    {
     "name": "stdout",
     "output_type": "stream",
     "text": [
      "\n",
      "line1\n",
      "line2\n",
      "line3\n",
      "\n"
     ]
    }
   ],
   "source": [
    "str1 = '''\n",
    "line1\n",
    "line2\n",
    "line3\n",
    "'''\n",
    "\n",
    "print(str1)"
   ]
  },
  {
   "cell_type": "markdown",
   "metadata": {},
   "source": [
    "##### 문자열과 문자열을 어떻게 연결시킬까?"
   ]
  },
  {
   "cell_type": "code",
   "execution_count": 4,
   "metadata": {},
   "outputs": [
    {
     "name": "stdout",
     "output_type": "stream",
     "text": [
      "myname\n"
     ]
    }
   ],
   "source": [
    "str12 = \"my\" + \"name\"\n",
    "print(str12)"
   ]
  },
  {
   "cell_type": "markdown",
   "metadata": {},
   "source": [
    "#### 1-3 문자열을 입력받고, 내용을 출력시키기"
   ]
  },
  {
   "cell_type": "code",
   "execution_count": 5,
   "metadata": {},
   "outputs": [
    {
     "name": "stdout",
     "output_type": "stream",
     "text": [
      "당신의 이름은 ?Yurim\n",
      "my name is Yurim\n"
     ]
    }
   ],
   "source": [
    "str1 = \"my\" + \" name is\"\n",
    "name = input(\"당신의 이름은 ?\")\n",
    "print(str1, name)"
   ]
  },
  {
   "cell_type": "markdown",
   "metadata": {},
   "source": [
    "##### 나이도 입력받아, 출력시켜보자."
   ]
  },
  {
   "cell_type": "code",
   "execution_count": 5,
   "metadata": {},
   "outputs": [
    {
     "name": "stdout",
     "output_type": "stream",
     "text": [
      "나이는 ?31\n",
      "당신의 나이는 31살 입니다.\n"
     ]
    }
   ],
   "source": [
    "age = input(\"나이는 ?\")\n",
    "print(\"당신의 나이는 \" + age + \"살 입니다.\")"
   ]
  },
  {
   "cell_type": "markdown",
   "metadata": {},
   "source": [
    "##### (생각해보기) 그렇다면 나이에 10을 더해서 출력해 보기"
   ]
  },
  {
   "cell_type": "code",
   "execution_count": 6,
   "metadata": {},
   "outputs": [
    {
     "name": "stdout",
     "output_type": "stream",
     "text": [
      "나이는 : 31\n",
      "당신의 10년 후의 나이는 41살입니다.\n"
     ]
    }
   ],
   "source": [
    "age = int( input(\"나이는 : \") ) # 입력 후, 정수형 변환\n",
    "\n",
    "# sep는 ','가 갖는 한칸 공백을 없애준다.\n",
    "print(\"당신의 10년 후의 나이는 \" , age+10 ,\"살입니다.\", sep=\"\")"
   ]
  },
  {
   "cell_type": "markdown",
   "metadata": {},
   "source": [
    "#### 1-4 연산자\n",
    "* 사칙 연산자 : +, -, *, /\n",
    "* 기타 연산자 : **(제곱), %(나머지), //(몫)"
   ]
  },
  {
   "cell_type": "code",
   "execution_count": 7,
   "metadata": {},
   "outputs": [
    {
     "name": "stdout",
     "output_type": "stream",
     "text": [
      "19\n",
      "-1\n",
      "6.0\n",
      "15\n",
      "32\n",
      "1\n",
      "4\n"
     ]
    }
   ],
   "source": [
    "print(9 + 10) # 더하기\n",
    "print(9 - 10) # 빼기\n",
    "print(30 / 5) # 나누기\n",
    "print(5 * 3) # 곱하기\n",
    "print(2**5) # 제곱 연산 2*2*2*2*2\n",
    "print(17 % 4) # 나머지 1\n",
    "print(17//4) # 몫 4"
   ]
  },
  {
   "cell_type": "markdown",
   "metadata": {},
   "source": [
    "* 비교 연산자\n",
    "    * 같다 \"==\"\n",
    "    * 다르다 \"!=\"\n",
    "    * 크거나 같다 \">=\"\n",
    "    * 작거나 같다 \"<=\"\n",
    "    * 크다 \">\"\n",
    "    * 작다 \"<\""
   ]
  },
  {
   "cell_type": "code",
   "execution_count": 8,
   "metadata": {},
   "outputs": [
    {
     "name": "stdout",
     "output_type": "stream",
     "text": [
      "True\n",
      "False\n",
      "True\n",
      "False\n"
     ]
    }
   ],
   "source": [
    "print( 3 == 3 )   # True (1이상)\n",
    "print( 3 != 3 )   # False (0)\n",
    "print( 3 >= 1 )\n",
    "print( 3 <= 1 )\n",
    "# 1 => 1 # 에러 => =이 먼저오면 에러 발생"
   ]
  },
  {
   "cell_type": "code",
   "execution_count": 9,
   "metadata": {},
   "outputs": [
    {
     "name": "stdout",
     "output_type": "stream",
     "text": [
      "False\n",
      "True\n",
      "False\n"
     ]
    }
   ],
   "source": [
    "print(5 != 5) # False\n",
    "age = 18\n",
    "print(age >= 15) # True\n",
    "age = 13\n",
    "print(age >= 15) # False"
   ]
  },
  {
   "cell_type": "markdown",
   "metadata": {},
   "source": [
    "##### 연산자 and, or, not, in\n",
    "* True는 참을 의미, False는 거짓을 의미\n",
    "* A and B : A와 B가 참이면 True, 둘 중 하나라도 False이면 False\n",
    "* A or B : A또는 B가 True이면 True, 둘 다 False일 경우 False\n",
    "* not A : A가 True이면 False, A가 False이면 True\n",
    "* 임의의값 in [자료형] : 임의의 값이 해당 자료형에 있으면 True, 아니면 False"
   ]
  },
  {
   "cell_type": "code",
   "execution_count": 10,
   "metadata": {},
   "outputs": [
    {
     "name": "stdout",
     "output_type": "stream",
     "text": [
      "True\n",
      "3\n",
      "0\n",
      "False\n",
      "True\n"
     ]
    }
   ],
   "source": [
    "print(True and True)\n",
    "print(1 and 3)\n",
    "print(1 and 0)\n",
    "print(True and False)\n",
    "print(1 in [1,2,3,4])"
   ]
  },
  {
   "cell_type": "code",
   "execution_count": 11,
   "metadata": {},
   "outputs": [
    {
     "name": "stdout",
     "output_type": "stream",
     "text": [
      "True\n",
      "True\n"
     ]
    }
   ],
   "source": [
    "print(   (1 == 1) and (10 > 3)   )  # True and True\n",
    "print(   (1 == 1) & (10 > 3)   )  # True and True"
   ]
  },
  {
   "cell_type": "code",
   "execution_count": 12,
   "metadata": {},
   "outputs": [
    {
     "name": "stdout",
     "output_type": "stream",
     "text": [
      "True\n",
      "False\n",
      "True\n"
     ]
    }
   ],
   "source": [
    "print((1 == 1) or (1 > 0) )\n",
    "print((1 != 1) | (1 < 0) )   # False or False\n",
    "\n",
    "## A or B : A와 B중에 하나라도 True가 있으면 결론적으로 True가 된다.그 외에는 False\n",
    "print(5!=5 or 5>=3) # False and True => True"
   ]
  },
  {
   "cell_type": "code",
   "execution_count": 13,
   "metadata": {},
   "outputs": [
    {
     "name": "stdout",
     "output_type": "stream",
     "text": [
      "False\n",
      "True\n",
      "True\n",
      "False\n"
     ]
    }
   ],
   "source": [
    "print( not 1 ) # False\n",
    "print( not False) # True\n",
    "print( not 0) # True (0는 0을 의미)\n",
    "print( not 'A') # 0을 제외한 모든 값은 True"
   ]
  },
  {
   "cell_type": "markdown",
   "metadata": {},
   "source": [
    "##### 19세이하 영화 입장 금지 프로그램"
   ]
  },
  {
   "cell_type": "code",
   "execution_count": 14,
   "metadata": {},
   "outputs": [
    {
     "name": "stdout",
     "output_type": "stream",
     "text": [
      "False\n"
     ]
    }
   ],
   "source": [
    "## 19세 입장 금지 영화\n",
    "## 출입조건 19세 이상이고, 남자 입장 가능\n",
    "age = 17\n",
    "sex = \"M\"\n",
    "print(age >= 19 and sex==\"M\") # True : 입장 불가"
   ]
  },
  {
   "cell_type": "code",
   "execution_count": 15,
   "metadata": {},
   "outputs": [
    {
     "name": "stdout",
     "output_type": "stream",
     "text": [
      "True\n"
     ]
    }
   ],
   "source": [
    "## 출입조건 19세 이상이거나(또는) 아이가 있는 친구는 가능한 영화\n",
    "age = 17\n",
    "gubun = \"P\" # 부모\n",
    "print(age >= 19 or gubun==\"P\") # False or True => True : 입장"
   ]
  },
  {
   "cell_type": "markdown",
   "metadata": {},
   "source": [
    "#### 1-5 연산자를 이용한 계산"
   ]
  },
  {
   "cell_type": "code",
   "execution_count": 16,
   "metadata": {},
   "outputs": [
    {
     "name": "stdout",
     "output_type": "stream",
     "text": [
      "합은 5 입니다.\n",
      "5 와 2의 합은 7 입니다.\n",
      "5 와 2의 합은 7입니다.\n",
      "5 와 2의 나눈 값은 2.50입니다.\n"
     ]
    }
   ],
   "source": [
    "a = 5\n",
    "b = 2\n",
    "plus = a + b\n",
    "mul = a * b\n",
    "div = a / b # 결과값 형변환 5/2 = 2.5\n",
    "remainder = a % b\n",
    "power = a ** b\n",
    "\n",
    "print(\"합은 %d 입니다.\" % a)\n",
    "print(\"%d 와 %d의 합은 %d 입니다.\" % (a, b, plus))\n",
    "print(\"{} 와 {}의 합은 {}입니다.\".format(a, b, plus))\n",
    "print(\"{} 와 {}의 나눈 값은 {:.2f}입니다.\".format(a, b, div))"
   ]
  },
  {
   "cell_type": "markdown",
   "metadata": {},
   "source": [
    "##### print문의 여러가지 출력"
   ]
  },
  {
   "cell_type": "code",
   "execution_count": 17,
   "metadata": {},
   "outputs": [
    {
     "name": "stdout",
     "output_type": "stream",
     "text": [
      "7 와 5의 합은 2입니다.\n"
     ]
    }
   ],
   "source": [
    "print(\"{2} 와 {1}의 합은 {0}입니다.\".format(2, 5, 7))"
   ]
  },
  {
   "cell_type": "code",
   "execution_count": 18,
   "metadata": {},
   "outputs": [
    {
     "name": "stdout",
     "output_type": "stream",
     "text": [
      "5 와 2의 나눈 값은 2.5입니다.\n"
     ]
    }
   ],
   "source": [
    "print(\"{0} 와 {1}의 나눈 값은 {2}입니다.\".format(a, b, div))"
   ]
  },
  {
   "cell_type": "markdown",
   "metadata": {},
   "source": [
    "#### 1-6 if문 실습해보기"
   ]
  },
  {
   "cell_type": "markdown",
   "metadata": {},
   "source": [
    "##### 숙박 인원이 10명 이상이면\n",
    "* 두개의 방으로 나누어서 예약해야 합니다.\n",
    "* 10명 이하이면 하나의 방으로 숙박 가능합니다."
   ]
  },
  {
   "cell_type": "code",
   "execution_count": 19,
   "metadata": {},
   "outputs": [
    {
     "name": "stdout",
     "output_type": "stream",
     "text": [
      "두개의 방을 예약해야 합니다.\n"
     ]
    }
   ],
   "source": [
    "people = 10\n",
    "\n",
    "if people >= 10:\n",
    "  print(\"두개의 방을 예약해야 합니다.\")\n",
    "else:\n",
    "  print(\"305호실 예약 가능합니다.\")"
   ]
  },
  {
   "cell_type": "markdown",
   "metadata": {},
   "source": [
    "#### 1-7 for문 실습해 보기"
   ]
  },
  {
   "cell_type": "code",
   "execution_count": 20,
   "metadata": {},
   "outputs": [
    {
     "name": "stdout",
     "output_type": "stream",
     "text": [
      "하나\n",
      "둘\n"
     ]
    }
   ],
   "source": [
    "for one in ['하나', '둘']:\n",
    "  print(one)"
   ]
  },
  {
   "cell_type": "markdown",
   "metadata": {},
   "source": [
    "#### 2-1 if\n",
    "##### 기본 구조1\n",
    "     if (조건식):\n",
    "        실행문1\n",
    "##### 기본 구조2\n",
    "     if (조건식):\n",
    "        실행문1\n",
    "     else:\n",
    "        실행문2\n",
    "##### 기본 구조3\n",
    "     if (조건식) & (조건식):\n",
    "        실행문1\n",
    "        실행문2\n",
    "     else:\n",
    "        실행문3\n",
    "        실행문4\n",
    "##### 기본 구조4\n",
    "     if (조건식) & (조건식):\n",
    "        실행문1\n",
    "        실행문2\n",
    "     elif (조건식):\n",
    "        실행문3\n",
    "     elif (조건식):\n",
    "        실행문4\n",
    "     else:\n",
    "        실행문3\n",
    "        실행문4\n",
    "##### 에러 발생\n",
    "     indent의 간격이 다를 경우,"
   ]
  },
  {
   "cell_type": "code",
   "execution_count": 21,
   "metadata": {},
   "outputs": [
    {
     "ename": "IndentationError",
     "evalue": "unexpected indent (<ipython-input-21-65478a503485>, line 6)",
     "output_type": "error",
     "traceback": [
      "\u001b[1;36m  File \u001b[1;32m\"<ipython-input-21-65478a503485>\"\u001b[1;36m, line \u001b[1;32m6\u001b[0m\n\u001b[1;33m    print(\"사람이 10명이상입니다.\") # 이 줄은 인덴트(들여쓰기) 공간이 다르다. 에러 발생.\u001b[0m\n\u001b[1;37m    ^\u001b[0m\n\u001b[1;31mIndentationError\u001b[0m\u001b[1;31m:\u001b[0m unexpected indent\n"
     ]
    }
   ],
   "source": [
    "people = 10\n",
    "\n",
    "# 인덴트가 다를 경우, 에러가 발생.\n",
    "if people >= 10:\n",
    "  print(\"사람이 10명이상입니다.\") # indent라고 한다. 동일하게 해 준다. \n",
    "   print(\"사람이 10명이상입니다.\") # 이 줄은 인덴트(들여쓰기) 공간이 다르다. 에러 발생.\n",
    "  print(\"사람이 10명이상입니다.\") "
   ]
  },
  {
   "cell_type": "code",
   "execution_count": 22,
   "metadata": {},
   "outputs": [
    {
     "name": "stdout",
     "output_type": "stream",
     "text": [
      "사람이 10명이상입니다.\n",
      "사람이 10명이상입니다.\n",
      "사람이 10명이상입니다.\n"
     ]
    }
   ],
   "source": [
    "people = 10\n",
    "\n",
    "# 인덴트가 다를 경우, 에러가 발생.\n",
    "if people >= 10:\n",
    "  print(\"사람이 10명이상입니다.\") # indent라고 한다. 동일하게 해 준다. \n",
    "  print(\"사람이 10명이상입니다.\") # 이 줄은 인덴트(들여쓰기) 공간이 다르다. 에러 발생.\n",
    "  print(\"사람이 10명이상입니다.\") "
   ]
  },
  {
   "cell_type": "code",
   "execution_count": 23,
   "metadata": {},
   "outputs": [
    {
     "name": "stdout",
     "output_type": "stream",
     "text": [
      "사람의 수는 :20\n",
      "사람이 10명이상입니다.\n",
      "10명 이상의 경우는 추가 비용을 지불해야 합니다.\n"
     ]
    }
   ],
   "source": [
    "num = int( input(\"사람의 수는 :\") )\n",
    "if num >= 10:\n",
    " print(\"사람이 10명이상입니다.\") # indent라고 한다. 동일하게 해 준다. \n",
    " print(\"10명 이상의 경우는 추가 비용을 지불해야 합니다.\")\n",
    "else:\n",
    " print(\"사람이 10명 미만입니다\")"
   ]
  },
  {
   "cell_type": "code",
   "execution_count": 24,
   "metadata": {},
   "outputs": [
    {
     "name": "stdout",
     "output_type": "stream",
     "text": [
      "나이가 어떻게 되나요?31\n",
      "입장 가능합니다. 어떤 영화 티켓을 구매하시겠어요?\n"
     ]
    }
   ],
   "source": [
    "age = int(input(\"나이가 어떻게 되나요?\"))\n",
    "\n",
    "if (age>=15):\n",
    " print(\"입장 가능합니다. 어떤 영화 티켓을 구매하시겠어요?\")\n",
    "else:\n",
    " print(\"입장이 불가합니다. 15세이상만 입장이 가능합니다.\")"
   ]
  },
  {
   "cell_type": "markdown",
   "metadata": {},
   "source": [
    "#### 2-2 학점 프로그램 만들기\n",
    "##### 학점 판정 프로그램 만들어보기\n",
    "      4.5 이면 A+\n",
    "      4.0 이상이면 A\n",
    "      3.5 이상이면 B+\n",
    "      3.0 이상이면 B\n",
    "      2.5 이상이면 C+\n",
    "      나머지 F"
   ]
  },
  {
   "cell_type": "code",
   "execution_count": 25,
   "metadata": {},
   "outputs": [
    {
     "name": "stdout",
     "output_type": "stream",
     "text": [
      "학점입력해 주세요 : 4.2\n",
      "당신의 학점은  A 입니다.\n"
     ]
    }
   ],
   "source": [
    "score = float( input(\"학점입력해 주세요 : \") )\n",
    "\n",
    "if score==4.5:\n",
    " grade = 'A+'\n",
    "elif score>=4.0:\n",
    " grade = 'A'\n",
    "elif score>=3.5:\n",
    " grade = 'B+'\n",
    "else:\n",
    " grade = 'F'\n",
    "\n",
    "print(\"당신의 학점은 \", grade , \"입니다.\")"
   ]
  },
  {
   "cell_type": "markdown",
   "metadata": {},
   "source": [
    "#### (생각해보기) 만약 학점을 숫자가 아닌 경우가 입력되었을때, 어떻게 수정 보완할 수 있을까?\n",
    "##### 실습 - 아래와 같이 판정하는 프로그램을 작성해 보자.\n",
    "     점수가 90점 이상이면 A\n",
    "     점수가 80점 이상이면 B\n",
    "     점수가 70점 이상이면 C\n",
    "     나머지 점수는 F"
   ]
  },
  {
   "cell_type": "code",
   "execution_count": 26,
   "metadata": {},
   "outputs": [
    {
     "name": "stdout",
     "output_type": "stream",
     "text": [
      "점수를 입력해 주세요: 90\n",
      "당신의 학점은  A 입니다.\n"
     ]
    }
   ],
   "source": [
    "while True:\n",
    "    try:\n",
    "        score = float( input(\"점수를 입력해 주세요: \") )\n",
    "        if score>=90:\n",
    "            grade = 'A'\n",
    "        elif score>=80:\n",
    "            grade = 'B'\n",
    "        elif score>=70:\n",
    "            grade = 'C'\n",
    "        else:\n",
    "            grade = 'F'\n",
    "        print(\"당신의 학점은 \", grade , \"입니다.\")\n",
    "        break\n",
    "    except ValueError:\n",
    "        print(\"입력값이 숫자가 아닙니다.\")"
   ]
  },
  {
   "cell_type": "markdown",
   "metadata": {},
   "source": [
    "#### 2-3 for 문 알아보기\n",
    "##### 기본 구조1\n",
    "     for 변수 in range(시작값, 끝값, 증감값):\n",
    "         실행문1"
   ]
  },
  {
   "cell_type": "code",
   "execution_count": 27,
   "metadata": {},
   "outputs": [
    {
     "name": "stdout",
     "output_type": "stream",
     "text": [
      "1\n",
      "2\n",
      "3\n",
      "4\n",
      "5\n",
      "6\n",
      "7\n",
      "8\n",
      "9\n",
      "10\n"
     ]
    }
   ],
   "source": [
    "for num in range(1,11,1):\n",
    "  print(num)"
   ]
  },
  {
   "cell_type": "code",
   "execution_count": 28,
   "metadata": {},
   "outputs": [
    {
     "name": "stdout",
     "output_type": "stream",
     "text": [
      "11\n",
      "10\n",
      "9\n",
      "8\n",
      "7\n",
      "6\n",
      "5\n",
      "4\n",
      "3\n",
      "2\n"
     ]
    }
   ],
   "source": [
    "for num in range(11,1, -1):  # 마지막 증감값 1은 기본값으로 생략되면 1씩 증가\n",
    "  print(num)"
   ]
  },
  {
   "cell_type": "markdown",
   "metadata": {},
   "source": [
    "##### 기본 구조2\n",
    "* [변수]의 값은 for문 루프안에서 사용이 가능.\n",
    "* range 부분에 자료형(리스트, 딕셔너리)이 들어가는 것이 가능.\n",
    "\n",
    "      for [변수] in [리스트 or 튜플 등]:\n",
    "          실행문1\n",
    "          실행문2"
   ]
  },
  {
   "cell_type": "code",
   "execution_count": 29,
   "metadata": {},
   "outputs": [
    {
     "name": "stdout",
     "output_type": "stream",
     "text": [
      "하나\n",
      "둘\n",
      "셋\n",
      "넷\n",
      "다섯\n"
     ]
    }
   ],
   "source": [
    "al = ['하나', '둘', '셋', '넷', '다섯']\n",
    "\n",
    "for one in al:\n",
    "  print(one)"
   ]
  },
  {
   "cell_type": "code",
   "execution_count": 30,
   "metadata": {},
   "outputs": [
    {
     "name": "stdout",
     "output_type": "stream",
     "text": [
      "one 하나\n",
      "two 둘\n",
      "three 셋\n",
      "four 넷\n",
      "five 다섯\n"
     ]
    }
   ],
   "source": [
    "# 딕셔너리 값 출력하기\n",
    "num = {'one':'하나', 'two':'둘', 'three':'셋', 'four':'넷', 'five':'다섯'}\n",
    "\n",
    "for one in num:\n",
    "    print(one, num[one])"
   ]
  },
  {
   "cell_type": "markdown",
   "metadata": {},
   "source": [
    "#### 3-1 자료형 - 문자열"
   ]
  },
  {
   "cell_type": "code",
   "execution_count": 31,
   "metadata": {},
   "outputs": [
    {
     "name": "stdout",
     "output_type": "stream",
     "text": [
      "H\n",
      "Hello\n"
     ]
    }
   ],
   "source": [
    "str1 = \"Hello World!\"\n",
    "print( str1[0] )   # 첫번째 선택 (파이썬은 숫자 0부터 시작)\n",
    "\n",
    "# Hello 선택\n",
    "# : 을 기준으로 앞이 시작값, 뒤에값이 끝나는 값.\n",
    "print( str1[0:5] ) # 첫번째(0)부터 다섯번째(4)까지 선택 (파이썬은 숫자 0부터"
   ]
  },
  {
   "cell_type": "code",
   "execution_count": 32,
   "metadata": {},
   "outputs": [
    {
     "name": "stdout",
     "output_type": "stream",
     "text": [
      "Hello\n",
      "Hello World!\n",
      "llo\n"
     ]
    }
   ],
   "source": [
    "# Hello 선택\n",
    "print( str1[ :5] ) # 처음부터 다섯번째(4)까지 선택 (파이썬은 숫자 0부터 시작)\n",
    "print( str1[:] )\n",
    "print( str1[2:5] )  # 세번째(2)부터 다섯번째(4)까지 선택 (파이썬은 숫자 0부터 "
   ]
  },
  {
   "cell_type": "code",
   "execution_count": 33,
   "metadata": {},
   "outputs": [],
   "source": [
    "## 인덱싱(Indexing) : 값을 하나 하나 선택\n",
    "## 슬라이싱(slicing) : 값을 조각 단위로 선택"
   ]
  },
  {
   "cell_type": "markdown",
   "metadata": {},
   "source": [
    "##### 실습해 보기\n",
    "* 나의 이름을 입력받아(input), 앞의 3자리를 출력해 보자."
   ]
  },
  {
   "cell_type": "code",
   "execution_count": 36,
   "metadata": {},
   "outputs": [
    {
     "name": "stdout",
     "output_type": "stream",
     "text": [
      "이름을 입력하세요. :Yurim\n",
      "Yur\n"
     ]
    }
   ],
   "source": [
    "name = input(\"이름을 입력하세요. :\")\n",
    "print(name[:3])"
   ]
  },
  {
   "cell_type": "markdown",
   "metadata": {},
   "source": [
    "#### 3-2 자료형 - 리스트"
   ]
  },
  {
   "cell_type": "code",
   "execution_count": 37,
   "metadata": {},
   "outputs": [
    {
     "name": "stdout",
     "output_type": "stream",
     "text": [
      "[1, 2, 3, 4, 5]\n",
      "[1, 2, 'a', 3, 'b']\n",
      "2\n",
      "['a', 3, 'b']\n",
      "b\n",
      "a\n"
     ]
    }
   ],
   "source": [
    "a = [1,2,3,4,5]\n",
    "print(a)\n",
    "\n",
    "a = [1,2,'a',3,'b']\n",
    "print(a)\n",
    "\n",
    "print( a[1] )  # 0부터 시작하여 1은 두번째 요소를 가르킴\n",
    "print( a[2:5] )\n",
    "\n",
    "a = [1,2,'a',3,'b']\n",
    "print( a[-1] )\n",
    "\n",
    "# 뒤에서부터 3개 가져오기\n",
    "print( a[-3] )"
   ]
  },
  {
   "cell_type": "code",
   "execution_count": 38,
   "metadata": {},
   "outputs": [
    {
     "name": "stdout",
     "output_type": "stream",
     "text": [
      "[2, 3]\n",
      "3\n"
     ]
    }
   ],
   "source": [
    "a = [ [1,2], \n",
    "      [2,3],\n",
    "      [4,5]\n",
    " ]\n",
    "print(a[1]) # 2번째 값([2,3])\n",
    "print(a[1][1]) # 2번째 값중의 2번째 값을 가져오기"
   ]
  },
  {
   "cell_type": "markdown",
   "metadata": {},
   "source": [
    "##### 하나의 값을 추가하기"
   ]
  },
  {
   "cell_type": "code",
   "execution_count": 39,
   "metadata": {},
   "outputs": [
    {
     "name": "stdout",
     "output_type": "stream",
     "text": [
      "[1, 2, 3]\n",
      "[1, 2, 3, 4]\n"
     ]
    }
   ],
   "source": [
    "list1 = [1,2,3]\n",
    "print( list1 )\n",
    "\n",
    "list1.append(4)\n",
    "print( list1)"
   ]
  },
  {
   "cell_type": "code",
   "execution_count": 40,
   "metadata": {},
   "outputs": [
    {
     "data": {
      "text/plain": [
       "[1, 1, 2, 2]"
      ]
     },
     "execution_count": 40,
     "metadata": {},
     "output_type": "execute_result"
    }
   ],
   "source": [
    "[1,1] + [2,2]"
   ]
  },
  {
   "cell_type": "markdown",
   "metadata": {},
   "source": [
    "##### 하나의 값을 삭제하기"
   ]
  },
  {
   "cell_type": "code",
   "execution_count": 41,
   "metadata": {},
   "outputs": [
    {
     "data": {
      "text/plain": [
       "[1, 3, 2]"
      ]
     },
     "execution_count": 41,
     "metadata": {},
     "output_type": "execute_result"
    }
   ],
   "source": [
    "list2 = [1,2,3,2]\n",
    "list2.remove(2)     # 요소 중에 2의 값을 하나 삭제(앞에서부터 봤을때)\n",
    "list2"
   ]
  },
  {
   "cell_type": "code",
   "execution_count": 42,
   "metadata": {},
   "outputs": [
    {
     "name": "stdout",
     "output_type": "stream",
     "text": [
      "[1, 2, 3, [3, 4]]\n"
     ]
    }
   ],
   "source": [
    "## 두개의 값을 한꺼번에 추가하기\n",
    "list3 = [1,2,3]\n",
    "list3.append([3,4])\n",
    "print(list3)"
   ]
  },
  {
   "cell_type": "code",
   "execution_count": 43,
   "metadata": {},
   "outputs": [
    {
     "name": "stdout",
     "output_type": "stream",
     "text": [
      "[1, 2, 3, 3, 4]\n"
     ]
    }
   ],
   "source": [
    "## 두개의 값을 한꺼번에 추가하기 - extend\n",
    "list4 = [1,2,3]\n",
    "list4.extend([3,4])\n",
    "print(list4)"
   ]
  },
  {
   "cell_type": "markdown",
   "metadata": {},
   "source": [
    "#### 3-3 리스트와 for문"
   ]
  },
  {
   "cell_type": "code",
   "execution_count": 44,
   "metadata": {},
   "outputs": [
    {
     "name": "stdout",
     "output_type": "stream",
     "text": [
      "1 2 3 4 5 11 22 33 44 55 "
     ]
    }
   ],
   "source": [
    "list1 = [1,2,3,4,5,11,22,33,44,55]\n",
    "for i in list1:\n",
    "  print(i, end=\" \")  # 출력 후, 한칸을 띄우고 다음번 진행"
   ]
  },
  {
   "cell_type": "code",
   "execution_count": 45,
   "metadata": {},
   "outputs": [
    {
     "name": "stdout",
     "output_type": "stream",
     "text": [
      "0 1 2 3 4 5 6 7 8 9 "
     ]
    }
   ],
   "source": [
    "# range(시작값,끝값,증가값)\n",
    "for i in range(0,10,1):\n",
    "  print(i, end=\" \")"
   ]
  },
  {
   "cell_type": "code",
   "execution_count": 46,
   "metadata": {},
   "outputs": [
    {
     "name": "stdout",
     "output_type": "stream",
     "text": [
      "0 1 2 3 4 5 6 7 8 9 "
     ]
    }
   ],
   "source": [
    "for i in range(10):\n",
    "  print(i, end=\" \")"
   ]
  },
  {
   "cell_type": "code",
   "execution_count": 47,
   "metadata": {},
   "outputs": [
    {
     "name": "stdout",
     "output_type": "stream",
     "text": [
      "5 4 3 2 1 "
     ]
    }
   ],
   "source": [
    "for i in range(5, 0,-1):\n",
    "  print(i, end=\" \")"
   ]
  },
  {
   "cell_type": "code",
   "execution_count": 48,
   "metadata": {},
   "outputs": [
    {
     "name": "stdout",
     "output_type": "stream",
     "text": [
      "season의 요소의 개수 :  4\n",
      "봄\n",
      "여름\n",
      "가을\n",
      "겨울\n"
     ]
    }
   ],
   "source": [
    "season = ['봄','여름','가을', '겨울']\n",
    "print(\"season의 요소의 개수 : \", len(season))\n",
    "for one in season:\n",
    "  print(one)"
   ]
  },
  {
   "cell_type": "markdown",
   "metadata": {},
   "source": [
    "#### 3-4 딕셔너리(dict)\n",
    "* [  ] : 리스트 => 값의 변경이 가능하다. 수정이 가능하다. 추가가능\n",
    "* (  ) : 튜플 => 값의 변경이 불가. 속도가 좀 더 빠르다.\n",
    "* {  } : 딕셔너리 => 한쌍의 데이터가 이루어져 있다. 키:값\n",
    "* 딕셔너리는 {}로 둘러싸이며, 키:값이 한쌍을 이루고, ','를 기준으로 구분된다."
   ]
  },
  {
   "cell_type": "code",
   "execution_count": 49,
   "metadata": {},
   "outputs": [
    {
     "name": "stdout",
     "output_type": "stream",
     "text": [
      "value3\n",
      "[1, 2, 3, 4, 5]\n"
     ]
    }
   ],
   "source": [
    "dictdat1 = { 'key1':\"value1\", 'key2':\"value2\", 'key3':'value3'}\n",
    "dictdat2 = { 11:\"value1\", 22:\"value2\", 33:'value3'}\n",
    "dictdat3 = { 'key1':\"value1\", 'key2':(1,2,3,4,5), 'key3':[1,2,3,4,5] }\n",
    "\n",
    "# dictdat3['키값']\n",
    "print( dictdat1['key3'] )\n",
    "\n",
    "# dictdat3['키값']\n",
    "print( dictdat3['key3'] )"
   ]
  },
  {
   "cell_type": "markdown",
   "metadata": {},
   "source": [
    "#### 3-5 튜플(tuple)\n",
    "* 리스트와 달리 값이 변경과 수정이 어렵다.\n",
    "* 장점은 필요한 기능이 줄기때문에 리스트에 비해 상대적으로 빠르다."
   ]
  },
  {
   "cell_type": "code",
   "execution_count": 50,
   "metadata": {},
   "outputs": [
    {
     "name": "stdout",
     "output_type": "stream",
     "text": [
      "(1, 2, 3)\n",
      "2\n"
     ]
    }
   ],
   "source": [
    "tuple1 = (1,2,3)\n",
    "\n",
    "print( tuple1    )  # 전체 값 출력\n",
    "print( tuple1[1] )  # 두번째 값 출력"
   ]
  },
  {
   "cell_type": "markdown",
   "metadata": {},
   "source": [
    "##### 튜플은 값의 수정이 안됩니다."
   ]
  },
  {
   "cell_type": "code",
   "execution_count": 51,
   "metadata": {},
   "outputs": [
    {
     "ename": "TypeError",
     "evalue": "'tuple' object does not support item assignment",
     "output_type": "error",
     "traceback": [
      "\u001b[1;31m---------------------------------------------------------------------------\u001b[0m",
      "\u001b[1;31mTypeError\u001b[0m                                 Traceback (most recent call last)",
      "\u001b[1;32m<ipython-input-51-4eb5dd8d8af4>\u001b[0m in \u001b[0;36m<module>\u001b[1;34m\u001b[0m\n\u001b[1;32m----> 1\u001b[1;33m \u001b[0mtuple1\u001b[0m\u001b[1;33m[\u001b[0m\u001b[1;36m1\u001b[0m\u001b[1;33m]\u001b[0m \u001b[1;33m=\u001b[0m \u001b[1;36m20\u001b[0m  \u001b[1;31m# 에러 발생\u001b[0m\u001b[1;33m\u001b[0m\u001b[1;33m\u001b[0m\u001b[0m\n\u001b[0m",
      "\u001b[1;31mTypeError\u001b[0m: 'tuple' object does not support item assignment"
     ]
    }
   ],
   "source": [
    "tuple1[1] = 20  # 에러 발생"
   ]
  },
  {
   "cell_type": "code",
   "execution_count": 52,
   "metadata": {},
   "outputs": [],
   "source": [
    "tuple1 = (1,2,3)\n",
    "list1 = [1,2,3]"
   ]
  },
  {
   "cell_type": "markdown",
   "metadata": {},
   "source": [
    "##### 리스트와 튜플의 사용 객체 확인"
   ]
  },
  {
   "cell_type": "code",
   "execution_count": 53,
   "metadata": {},
   "outputs": [
    {
     "name": "stdout",
     "output_type": "stream",
     "text": [
      "48\n"
     ]
    },
    {
     "data": {
      "text/plain": [
       "['__add__',\n",
       " '__class__',\n",
       " '__contains__',\n",
       " '__delattr__',\n",
       " '__dir__',\n",
       " '__doc__',\n",
       " '__eq__',\n",
       " '__format__',\n",
       " '__ge__',\n",
       " '__getattribute__',\n",
       " '__getitem__',\n",
       " '__getnewargs__',\n",
       " '__gt__',\n",
       " '__hash__',\n",
       " '__init__',\n",
       " '__init_subclass__',\n",
       " '__iter__',\n",
       " '__le__',\n",
       " '__len__',\n",
       " '__lt__',\n",
       " '__mul__',\n",
       " '__ne__',\n",
       " '__new__',\n",
       " '__reduce__',\n",
       " '__reduce_ex__',\n",
       " '__repr__',\n",
       " '__rmul__',\n",
       " '__setattr__',\n",
       " '__sizeof__',\n",
       " '__str__',\n",
       " '__subclasshook__',\n",
       " 'count',\n",
       " 'index']"
      ]
     },
     "execution_count": 53,
     "metadata": {},
     "output_type": "execute_result"
    }
   ],
   "source": [
    "print(tuple1.__sizeof__())\n",
    "dir(tuple1)"
   ]
  },
  {
   "cell_type": "code",
   "execution_count": 54,
   "metadata": {},
   "outputs": [
    {
     "name": "stdout",
     "output_type": "stream",
     "text": [
      "64\n"
     ]
    },
    {
     "data": {
      "text/plain": [
       "['__add__',\n",
       " '__class__',\n",
       " '__contains__',\n",
       " '__delattr__',\n",
       " '__delitem__',\n",
       " '__dir__',\n",
       " '__doc__',\n",
       " '__eq__',\n",
       " '__format__',\n",
       " '__ge__',\n",
       " '__getattribute__',\n",
       " '__getitem__',\n",
       " '__gt__',\n",
       " '__hash__',\n",
       " '__iadd__',\n",
       " '__imul__',\n",
       " '__init__',\n",
       " '__init_subclass__',\n",
       " '__iter__',\n",
       " '__le__',\n",
       " '__len__',\n",
       " '__lt__',\n",
       " '__mul__',\n",
       " '__ne__',\n",
       " '__new__',\n",
       " '__reduce__',\n",
       " '__reduce_ex__',\n",
       " '__repr__',\n",
       " '__reversed__',\n",
       " '__rmul__',\n",
       " '__setattr__',\n",
       " '__setitem__',\n",
       " '__sizeof__',\n",
       " '__str__',\n",
       " '__subclasshook__',\n",
       " 'append',\n",
       " 'clear',\n",
       " 'copy',\n",
       " 'count',\n",
       " 'extend',\n",
       " 'index',\n",
       " 'insert',\n",
       " 'pop',\n",
       " 'remove',\n",
       " 'reverse',\n",
       " 'sort']"
      ]
     },
     "execution_count": 54,
     "metadata": {},
     "output_type": "execute_result"
    }
   ],
   "source": [
    "print(list1.__sizeof__())\n",
    "dir(list1)"
   ]
  },
  {
   "cell_type": "markdown",
   "metadata": {},
   "source": [
    "#### 3-6 함수"
   ]
  },
  {
   "cell_type": "code",
   "execution_count": 55,
   "metadata": {},
   "outputs": [],
   "source": [
    "def two_num_plus(a,b):\n",
    "  print(\"두 값의 합은 :\", a+b)"
   ]
  },
  {
   "cell_type": "code",
   "execution_count": 56,
   "metadata": {},
   "outputs": [
    {
     "name": "stdout",
     "output_type": "stream",
     "text": [
      "두 값의 합은 : 8\n",
      "None\n"
     ]
    }
   ],
   "source": [
    "print( two_num_plus(3,5) )"
   ]
  },
  {
   "cell_type": "code",
   "execution_count": 57,
   "metadata": {},
   "outputs": [],
   "source": [
    "def num_plus(a,b):\n",
    "  print(\"두 값의 합은 :\", a+b)\n",
    "  return 1   # 실행 성공"
   ]
  },
  {
   "cell_type": "code",
   "execution_count": 58,
   "metadata": {},
   "outputs": [
    {
     "name": "stdout",
     "output_type": "stream",
     "text": [
      "두 값의 합은 : 8\n",
      "정상적으로 수행 종료\n"
     ]
    }
   ],
   "source": [
    "result = num_plus(3,5)\n",
    "if result == 1:\n",
    "    print(\"정상적으로 수행 종료\")"
   ]
  },
  {
   "cell_type": "markdown",
   "metadata": {},
   "source": [
    "##### 여러개의 값을 더하기"
   ]
  },
  {
   "cell_type": "code",
   "execution_count": 59,
   "metadata": {},
   "outputs": [],
   "source": [
    "def multi_plus(*arg):\n",
    "   sum = 0\n",
    "   for one in arg:\n",
    "     # print(one)\n",
    "     sum += one\n",
    "   return sum"
   ]
  },
  {
   "cell_type": "code",
   "execution_count": 60,
   "metadata": {},
   "outputs": [
    {
     "name": "stdout",
     "output_type": "stream",
     "text": [
      "전체 합은 :  19\n"
     ]
    }
   ],
   "source": [
    "value = multi_plus(3,5,6,2,3)\n",
    "print(\"전체 합은 : \", value)"
   ]
  },
  {
   "cell_type": "code",
   "execution_count": 61,
   "metadata": {},
   "outputs": [
    {
     "name": "stdout",
     "output_type": "stream",
     "text": [
      "dict_keys(['안녕', '날씨', '이름'])\n",
      "dict_values(['반가워 난 에프라고해', '그래 날씨도 좋고, 너도 만나서 기쁘다 좋은 날이야', '난 에이미라고 해. 너는'])\n",
      "dict_items([('안녕', '반가워 난 에프라고해'), ('날씨', '그래 날씨도 좋고, 너도 만나서 기쁘다 좋은 날이야'), ('이름', '난 에이미라고 해. 너는')])\n"
     ]
    }
   ],
   "source": [
    "robot = {\"안녕\":'반가워 난 에프라고해', \n",
    "         \"날씨\":'그래 날씨도 좋고, 너도 만나서 기쁘다 좋은 날이야',\n",
    "         \"이름\":\"난 에이미라고 해. 너는\"}\n",
    "\n",
    "print(robot.keys())\n",
    "print(robot.values())\n",
    "print(robot.items())"
   ]
  },
  {
   "cell_type": "code",
   "execution_count": 62,
   "metadata": {},
   "outputs": [
    {
     "name": "stdout",
     "output_type": "stream",
     "text": [
      "대화를 입력해 주세요?(종료:q) q\n",
      "무슨이야기인지 아직 모르겠어. 미안\n",
      "대화를 입력해 주세요?(종료:q) 이름\n",
      "난 에이미라고 해. 너는\n",
      "대화를 입력해 주세요?(종료:q) 이름\n",
      "난 에이미라고 해. 너는\n"
     ]
    }
   ],
   "source": [
    "for i in range(3):\n",
    "  word = input(\"대화를 입력해 주세요?(종료:q) \")\n",
    "  if word in robot.keys():\n",
    "    print( robot[word] )\n",
    "  else:\n",
    "    print(\"무슨이야기인지 아직 모르겠어. 미안\")"
   ]
  },
  {
   "cell_type": "markdown",
   "metadata": {},
   "source": [
    "##### 실습 3\n",
    "* 위의 실습2에 종료기능을 추가해 보자. q를 입력하면 더 이상 묻지 않고, 끝내기"
   ]
  },
  {
   "cell_type": "code",
   "execution_count": 63,
   "metadata": {},
   "outputs": [
    {
     "name": "stdout",
     "output_type": "stream",
     "text": [
      "대화를 입력해 주세요(*종료:q) : q\n",
      "종료\n"
     ]
    }
   ],
   "source": [
    "for i in range(3):\n",
    "    word = input(\"대화를 입력해 주세요(*종료:q) : \")\n",
    "    if word in robot.keys():\n",
    "        print(robot[word])\n",
    "    elif word == 'q':\n",
    "        print(\"종료\")\n",
    "        break\n",
    "    else:\n",
    "        print(\"무슨 이야기인지 아직 모르겠어. 미안.\")"
   ]
  },
  {
   "cell_type": "markdown",
   "metadata": {},
   "source": [
    "#### 4-1 클래스"
   ]
  },
  {
   "cell_type": "code",
   "execution_count": 64,
   "metadata": {},
   "outputs": [],
   "source": [
    "# 클래스 기본 선언 형태\n",
    "class Cal:\n",
    "    pass"
   ]
  },
  {
   "cell_type": "code",
   "execution_count": 65,
   "metadata": {},
   "outputs": [],
   "source": [
    "### 인스턴스\n",
    "### 클래스를 선언 후, 다음과 같이 2대의 계산기를 만들 수 있다.\n",
    "a = Cal() \n",
    "b = Cal() "
   ]
  },
  {
   "cell_type": "markdown",
   "metadata": {},
   "source": [
    "#### 4-2 함수를 이용한 계산기 구현하기\n",
    "* global을 이용하여 전역변수의 형태로 변수를 사용할 수 있다."
   ]
  },
  {
   "cell_type": "code",
   "execution_count": 66,
   "metadata": {},
   "outputs": [
    {
     "name": "stdout",
     "output_type": "stream",
     "text": [
      "3\n",
      "10\n"
     ]
    }
   ],
   "source": [
    "# 첫번째 계산기 \n",
    "result = 0\n",
    "def plus1(num):\n",
    "    global result  \n",
    "    result += num   \n",
    "    return result\n",
    "\n",
    "print( plus1(3) )  # 기본값 0 + 3\n",
    "print( plus1(7) )  # 기본값 0 + 3 + 7"
   ]
  },
  {
   "cell_type": "code",
   "execution_count": 67,
   "metadata": {},
   "outputs": [
    {
     "name": "stdout",
     "output_type": "stream",
     "text": [
      "3\n",
      "10\n",
      "2\n",
      "12\n",
      "2\n",
      "12\n"
     ]
    }
   ],
   "source": [
    "# 첫번째 계산기 \n",
    "result1 = 0\n",
    "def plus1(num):\n",
    "    global result1\n",
    "    result1 += num\n",
    "    return result1\n",
    "\n",
    "print( plus1(3) )\n",
    "print( plus1(7) )\n",
    "\n",
    "# 두번째 계산기 \n",
    "result2 = 0\n",
    "def plus2(num):\n",
    "    global result2\n",
    "    result2 += num\n",
    "    return result2\n",
    "\n",
    "print( plus2(2) )\n",
    "print( plus2(10) )\n",
    "\n",
    "# 세번째 계산기 \n",
    "result3 = 0\n",
    "def plus3(num):\n",
    "    global result3\n",
    "    result3 += num\n",
    "    return result3\n",
    "\n",
    "print( plus3(2) )\n",
    "print( plus3(10) )"
   ]
  },
  {
   "cell_type": "markdown",
   "metadata": {},
   "source": [
    "#### 4-3 클래스를 활용한 계산기 만들기"
   ]
  },
  {
   "cell_type": "code",
   "execution_count": 68,
   "metadata": {},
   "outputs": [],
   "source": [
    "class Cal:\n",
    "    result = 0\n",
    "    \n",
    "    def plus(self, num):\n",
    "        self.result += num\n",
    "        return self.result\n",
    "    \n",
    "    def minus(self, num):\n",
    "        self.result -= num\n",
    "        return self.result\n",
    "    \n",
    "    def divide(self, num):\n",
    "        self.result /= num\n",
    "        return self.result"
   ]
  },
  {
   "cell_type": "markdown",
   "metadata": {},
   "source": [
    "##### 다섯대의 계산기 만들기"
   ]
  },
  {
   "cell_type": "code",
   "execution_count": 69,
   "metadata": {},
   "outputs": [],
   "source": [
    "# 인스턴스 (객체를 생성)\n",
    "c1 = Cal()\n",
    "c2 = Cal()\n",
    "c3 = Cal()\n",
    "c4 = Cal()\n",
    "c5 = Cal()"
   ]
  },
  {
   "cell_type": "code",
   "execution_count": 70,
   "metadata": {},
   "outputs": [
    {
     "name": "stdout",
     "output_type": "stream",
     "text": [
      "3\n",
      "6\n",
      "4\n",
      "8\n",
      "5\n",
      "10\n",
      "6\n",
      "12\n"
     ]
    }
   ],
   "source": [
    "# 계산기1에 3을 두번 더한다.\n",
    "print( c1.plus(3) )\n",
    "print( c1.plus(3) )\n",
    "\n",
    "# 계산기2에 4을 두번 더한다.\n",
    "print( c2.plus(4) )\n",
    "print( c2.plus(4) )\n",
    "\n",
    "# 계산기3에 5, 5을 연속으로 더한다.\n",
    "print( c3.plus(5) )\n",
    "print( c3.plus(5) )\n",
    "\n",
    "# 계산기4에 6, 6을 연속으로 더한다.\n",
    "print( c4.plus(6) )\n",
    "print( c4.plus(6) )"
   ]
  },
  {
   "cell_type": "code",
   "execution_count": 71,
   "metadata": {},
   "outputs": [
    {
     "name": "stdout",
     "output_type": "stream",
     "text": [
      "계산기1 현재 결과 :  6\n",
      "계산기2 현재 결과 :  8\n",
      "계산기3 현재 결과 :  10\n",
      "계산기4 현재 결과 :  12\n",
      "계산기5 현재 결과 :  0\n"
     ]
    }
   ],
   "source": [
    "print( \"계산기1 현재 결과 : \" , c1.result )  # 0 + 3 + 3\n",
    "print( \"계산기2 현재 결과 : \" , c2.result )  # 0 + 4 + 4\n",
    "print( \"계산기3 현재 결과 : \" , c3.result )  # 0 + 5 + 5\n",
    "print( \"계산기4 현재 결과 : \" , c4.result )  # 0 + 6 + 6\n",
    "print( \"계산기5 현재 결과 : \" , c5.result )  # 0"
   ]
  },
  {
   "cell_type": "code",
   "execution_count": 72,
   "metadata": {},
   "outputs": [
    {
     "ename": "ZeroDivisionError",
     "evalue": "division by zero",
     "output_type": "error",
     "traceback": [
      "\u001b[1;31m---------------------------------------------------------------------------\u001b[0m",
      "\u001b[1;31mZeroDivisionError\u001b[0m                         Traceback (most recent call last)",
      "\u001b[1;32m<ipython-input-72-b2a8c255e44d>\u001b[0m in \u001b[0;36m<module>\u001b[1;34m\u001b[0m\n\u001b[0;32m      1\u001b[0m \u001b[1;31m## 예외 상황 발생\u001b[0m\u001b[1;33m\u001b[0m\u001b[1;33m\u001b[0m\u001b[1;33m\u001b[0m\u001b[0m\n\u001b[1;32m----> 2\u001b[1;33m \u001b[0mprint\u001b[0m\u001b[1;33m(\u001b[0m \u001b[0mc3\u001b[0m\u001b[1;33m.\u001b[0m\u001b[0mdivide\u001b[0m\u001b[1;33m(\u001b[0m\u001b[1;36m0\u001b[0m\u001b[1;33m)\u001b[0m \u001b[1;33m)\u001b[0m\u001b[1;33m\u001b[0m\u001b[1;33m\u001b[0m\u001b[0m\n\u001b[0m",
      "\u001b[1;32m<ipython-input-68-d2d530d3388b>\u001b[0m in \u001b[0;36mdivide\u001b[1;34m(self, num)\u001b[0m\n\u001b[0;32m     11\u001b[0m \u001b[1;33m\u001b[0m\u001b[0m\n\u001b[0;32m     12\u001b[0m     \u001b[1;32mdef\u001b[0m \u001b[0mdivide\u001b[0m\u001b[1;33m(\u001b[0m\u001b[0mself\u001b[0m\u001b[1;33m,\u001b[0m \u001b[0mnum\u001b[0m\u001b[1;33m)\u001b[0m\u001b[1;33m:\u001b[0m\u001b[1;33m\u001b[0m\u001b[1;33m\u001b[0m\u001b[0m\n\u001b[1;32m---> 13\u001b[1;33m         \u001b[0mself\u001b[0m\u001b[1;33m.\u001b[0m\u001b[0mresult\u001b[0m \u001b[1;33m/=\u001b[0m \u001b[0mnum\u001b[0m\u001b[1;33m\u001b[0m\u001b[1;33m\u001b[0m\u001b[0m\n\u001b[0m\u001b[0;32m     14\u001b[0m         \u001b[1;32mreturn\u001b[0m \u001b[0mself\u001b[0m\u001b[1;33m.\u001b[0m\u001b[0mresult\u001b[0m\u001b[1;33m\u001b[0m\u001b[1;33m\u001b[0m\u001b[0m\n",
      "\u001b[1;31mZeroDivisionError\u001b[0m: division by zero"
     ]
    }
   ],
   "source": [
    "## 예외 상황 발생\n",
    "print( c3.divide(0) )"
   ]
  },
  {
   "cell_type": "markdown",
   "metadata": {},
   "source": [
    "#### 4-4 나누기 에러, 기능 에러를 개선한 개선기"
   ]
  },
  {
   "cell_type": "code",
   "execution_count": 73,
   "metadata": {},
   "outputs": [],
   "source": [
    "class Cal_change():\n",
    "    pass"
   ]
  },
  {
   "cell_type": "markdown",
   "metadata": {},
   "source": [
    "##### [기본] 기존의 클래스의 기능 상속이 가능하다.\n",
    "* 기존의 클래스의 모든 기능에 대해 사용이 가능하다.\n",
    "* 기본 문법\n",
    "\n",
    "      class 클래스명(상속받을 클래스명):\n",
    "            추가할 실행문1\n",
    "            추가할 실행문2"
   ]
  },
  {
   "cell_type": "code",
   "execution_count": 74,
   "metadata": {},
   "outputs": [],
   "source": [
    "# 아무 것도 없다.\n",
    "# 어떤 클래스를 상속을 받아서, \n",
    "# 해당 클래스가 가진 변수 및 메소드를 사용 가능하다.\n",
    "class Cal_change(Cal):\n",
    "    pass"
   ]
  },
  {
   "cell_type": "code",
   "execution_count": 75,
   "metadata": {},
   "outputs": [
    {
     "name": "stdout",
     "output_type": "stream",
     "text": [
      "기능 개선 계산기 현재 결과 :  0\n",
      "기능 개선 계산기 현재 결과 :  3\n",
      "기능 개선 계산기 현재 결과 :  -2\n"
     ]
    }
   ],
   "source": [
    "c_ch1 = Cal_change()\n",
    "\n",
    "# 3을 더하고, 5를 빼기\n",
    "print( \"기능 개선 계산기 현재 결과 : \" , c_ch1.result )\n",
    "c_ch1.plus(3)\n",
    "print( \"기능 개선 계산기 현재 결과 : \" , c_ch1.result )\n",
    "c_ch1.minus(5)\n",
    "print( \"기능 개선 계산기 현재 결과 : \" , c_ch1.result )"
   ]
  },
  {
   "cell_type": "markdown",
   "metadata": {},
   "source": [
    "##### 오버라이딩(overridding)을 이해하기\n",
    "* 기존의 메소드(함수)와 동일한 이름으로 정의할 경우, 상속받은 기능보다 우선적으로 기능이 수행된다.\n",
    "* 기존에 0이 들어올 경우, 에러 발생하여, 이를 보완한 클래스 생성"
   ]
  },
  {
   "cell_type": "code",
   "execution_count": 76,
   "metadata": {},
   "outputs": [],
   "source": [
    "# 오버라이딩\n",
    "# 상속받아서 사용하는데, 기존에 상속받은 존재하는 메소드를 변경하는 것.\n",
    "class Cal_change(Cal):\n",
    "    def divide(self, num):\n",
    "        if num==0:\n",
    "            return \"0으로 나눌 수 없습니다.\"\n",
    "        else:\n",
    "            self.result /= num\n",
    "        return self.result"
   ]
  },
  {
   "cell_type": "code",
   "execution_count": 77,
   "metadata": {},
   "outputs": [
    {
     "name": "stdout",
     "output_type": "stream",
     "text": [
      "기능 개선 계산기 현재 결과 :  0\n",
      "3\n",
      "기능 개선 계산기 현재 결과 :  3\n",
      "-2\n",
      "기능 개선 계산기 현재 결과 :  -2\n",
      "0으로 나눌 수 없습니다.\n"
     ]
    }
   ],
   "source": [
    "c_ch2 = Cal_change()\n",
    "\n",
    "# 3을 더하고, 5를 빼기\n",
    "print( \"기능 개선 계산기 현재 결과 : \" , c_ch2.result )\n",
    "print( c_ch2.plus(3) )\n",
    "print( \"기능 개선 계산기 현재 결과 : \" , c_ch2.result )\n",
    "print( c_ch2.minus(5) )\n",
    "print( \"기능 개선 계산기 현재 결과 : \" , c_ch2.result )\n",
    "print( c_ch2.divide(0) )"
   ]
  },
  {
   "cell_type": "markdown",
   "metadata": {},
   "source": [
    "##### (실습 4-2) Cal 클래스를 상속받아서,\n",
    "* 해당 클래스에 하나의 메소드(곱하기)를 추가해 봅시다.\n",
    "* 그리고 계산기에 C(0으로 세팅하는) 기능을 추가해 봅시다.\n",
    "\n",
    "* 생성한 계산기로 아래 연산을 수행해 보자.\n",
    "\n",
    "      초기값 + 10 / 0 * 5\n",
    "      C를 눌러 초기화\n",
    "      결과값 + 5"
   ]
  },
  {
   "cell_type": "code",
   "execution_count": 78,
   "metadata": {},
   "outputs": [],
   "source": [
    "# 오버라이딩\n",
    "# 상속받아서 사용하는데, 기존에 상속받은 존재하는 메소드를 변경하는 것.\n",
    "class Cal_change(Cal):\n",
    "    def Czero(self):\n",
    "        self.result = 0\n",
    "        return self.result\n",
    "    \n",
    "    def mul(self, num):\n",
    "        self.result *= num\n",
    "        return self.result\n",
    "    \n",
    "    def divide(self, num):\n",
    "        if num==0:\n",
    "            return \"0으로 나눌 수 없습니다.\"\n",
    "        else:\n",
    "            self.result /= num\n",
    "        return self.result"
   ]
  },
  {
   "cell_type": "code",
   "execution_count": 79,
   "metadata": {},
   "outputs": [
    {
     "name": "stdout",
     "output_type": "stream",
     "text": [
      "10\n",
      "0으로 나눌 수 없습니다.\n",
      "50\n",
      "0\n",
      "5\n"
     ]
    }
   ],
   "source": [
    "c1 = Cal_change()\n",
    "print( c1.plus(10) )\n",
    "print( c1.divide(0) )\n",
    "print( c1.mul(5) )\n",
    "print( c1.Czero() )\n",
    "print( c1.plus(5))"
   ]
  },
  {
   "cell_type": "code",
   "execution_count": 80,
   "metadata": {},
   "outputs": [
    {
     "ename": "SyntaxError",
     "evalue": "invalid syntax (<ipython-input-80-b16db047f875>, line 2)",
     "output_type": "error",
     "traceback": [
      "\u001b[1;36m  File \u001b[1;32m\"<ipython-input-80-b16db047f875>\"\u001b[1;36m, line \u001b[1;32m2\u001b[0m\n\u001b[1;33m    * tv class 이름 : Tv_Basic\u001b[0m\n\u001b[1;37m         ^\u001b[0m\n\u001b[1;31mSyntaxError\u001b[0m\u001b[1;31m:\u001b[0m invalid syntax\n"
     ]
    }
   ],
   "source": [
    "##### [실습] tv class를 생성해 보자.\n",
    "* tv class 이름 : Tv_Basic\n",
    "* tv 채널 기본 : channel = 0\n",
    "* tv 채널 변경 : change_channel(self, num) : num 채널로 변경"
   ]
  },
  {
   "cell_type": "code",
   "execution_count": 81,
   "metadata": {},
   "outputs": [],
   "source": [
    "class Tv_Basic:\n",
    "    #채널, 전원상태를 설정\n",
    "    def __init__(self):\n",
    "        self.channel=0\n",
    "        self.on=False\n",
    "\n",
    "    #TV를 켠다.\n",
    "    def turnOn(self):\n",
    "        self.on=True\n",
    "\n",
    "    #TV를 끈다.\n",
    "    def turnOff(self):\n",
    "        self.on=False\n",
    "\n",
    "tv=Tv_Basic()\n",
    "tv.turnOn() "
   ]
  },
  {
   "cell_type": "code",
   "execution_count": 82,
   "metadata": {},
   "outputs": [
    {
     "name": "stdout",
     "output_type": "stream",
     "text": [
      "TV채널 :  9 \n",
      "TV볼륨 :  100\n"
     ]
    }
   ],
   "source": [
    "class Tv_Change(Tv_Basic):\n",
    "    #채널, 볼륨, 전원상태를 설정\n",
    "    def __init__(self):\n",
    "        self.channel=0\n",
    "        self.volume=0\n",
    "        self.on=False\n",
    "\n",
    "\n",
    "    #채널을 변경\n",
    "    def setchannel(self,channel):\n",
    "        self.channel=channel\n",
    "\n",
    "    #볼륨을 변경\n",
    "    def setvolume(self,volume):\n",
    "        self.volume=volume\n",
    "\n",
    "tv=Tv_Change()\n",
    "tv.turnOn()\n",
    "tv.setchannel(9)\n",
    "tv.setvolume(100)\n",
    "\n",
    "print(\"TV채널 : \",tv.channel,\"\\nTV볼륨 : \",tv.volume) "
   ]
  },
  {
   "cell_type": "code",
   "execution_count": null,
   "metadata": {},
   "outputs": [],
   "source": []
  }
 ],
 "metadata": {
  "kernelspec": {
   "display_name": "Python 3",
   "language": "python",
   "name": "python3"
  },
  "language_info": {
   "codemirror_mode": {
    "name": "ipython",
    "version": 3
   },
   "file_extension": ".py",
   "mimetype": "text/x-python",
   "name": "python",
   "nbconvert_exporter": "python",
   "pygments_lexer": "ipython3",
   "version": "3.8.5"
  }
 },
 "nbformat": 4,
 "nbformat_minor": 4
}
