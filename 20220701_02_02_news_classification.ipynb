{
  "nbformat": 4,
  "nbformat_minor": 0,
  "metadata": {
    "colab": {
      "name": "20220701_02_02_news_classification.ipynb",
      "provenance": [],
      "collapsed_sections": []
    },
    "kernelspec": {
      "name": "python3",
      "display_name": "Python 3"
    },
    "language_info": {
      "name": "python"
    }
  },
  "cells": [
    {
      "cell_type": "code",
      "execution_count": 1,
      "metadata": {
        "colab": {
          "base_uri": "https://localhost:8080/",
          "height": 35
        },
        "id": "j9CA7MXwojO2",
        "outputId": "b31d5cd9-382c-4305-929f-a036d4b7cd6a"
      },
      "outputs": [
        {
          "output_type": "execute_result",
          "data": {
            "text/plain": [
              "'2.8.0'"
            ],
            "application/vnd.google.colaboratory.intrinsic+json": {
              "type": "string"
            }
          },
          "metadata": {},
          "execution_count": 1
        }
      ],
      "source": [
        "import keras\n",
        "import numpy as np\n",
        "import matplotlib.pyplot as plt\n",
        "\n",
        "keras.__version__"
      ]
    },
    {
      "cell_type": "code",
      "source": [
        "from keras.datasets import reuters\n",
        "\n",
        "(train_data, train_labels), (test_data, test_labels) = reuters.load_data(num_words=10000)"
      ],
      "metadata": {
        "colab": {
          "base_uri": "https://localhost:8080/"
        },
        "id": "P9VR5ACTo7Tm",
        "outputId": "61177e41-dde2-4353-de34-f8508d40465f"
      },
      "execution_count": 3,
      "outputs": [
        {
          "output_type": "stream",
          "name": "stdout",
          "text": [
            "Downloading data from https://storage.googleapis.com/tensorflow/tf-keras-datasets/reuters.npz\n",
            "2113536/2110848 [==============================] - 0s 0us/step\n",
            "2121728/2110848 [==============================] - 0s 0us/step\n"
          ]
        }
      ]
    },
    {
      "cell_type": "markdown",
      "source": [
        "##### IMDB 데이터셋에서처럼 num_words=10000 매개변수는 데이터에서 가장 자주 등장하는 단어 10,000개로 제한"
      ],
      "metadata": {
        "id": "9O5dGHYrpE8N"
      }
    },
    {
      "cell_type": "code",
      "source": [
        "# 데이터 뉴스의 개수\n",
        "len(train_data), len(test_data), len(train_data)+ len(test_data)"
      ],
      "metadata": {
        "colab": {
          "base_uri": "https://localhost:8080/"
        },
        "id": "LcXo_tHmo-9F",
        "outputId": "bb02c98b-5e33-4472-ce42-1185e854a901"
      },
      "execution_count": 4,
      "outputs": [
        {
          "output_type": "execute_result",
          "data": {
            "text/plain": [
              "(8982, 2246, 11228)"
            ]
          },
          "metadata": {},
          "execution_count": 4
        }
      ]
    },
    {
      "cell_type": "code",
      "source": [
        "# 46개의 토픽\n",
        "print( np.unique(train_labels) )"
      ],
      "metadata": {
        "colab": {
          "base_uri": "https://localhost:8080/"
        },
        "id": "qADEheD9pHtl",
        "outputId": "a8076218-d1b0-4f23-ee53-4a36f5b36807"
      },
      "execution_count": 5,
      "outputs": [
        {
          "output_type": "stream",
          "name": "stdout",
          "text": [
            "[ 0  1  2  3  4  5  6  7  8  9 10 11 12 13 14 15 16 17 18 19 20 21 22 23\n",
            " 24 25 26 27 28 29 30 31 32 33 34 35 36 37 38 39 40 41 42 43 44 45]\n"
          ]
        }
      ]
    },
    {
      "cell_type": "code",
      "source": [
        "# 2번째 뉴스 데이터 확인\n",
        "print(\"데이터의 길이 : \", len(train_data[1]) )\n",
        "\n",
        "# 처음부터 14개의 단어 인덱스 확인\n",
        "print(\"데이터 내용(숫자) :\", train_data[1][0:15] )"
      ],
      "metadata": {
        "colab": {
          "base_uri": "https://localhost:8080/"
        },
        "id": "Txnd952tpI2H",
        "outputId": "2d872bdd-47da-44a2-8d2d-ddb2fcc79f7e"
      },
      "execution_count": 6,
      "outputs": [
        {
          "output_type": "stream",
          "name": "stdout",
          "text": [
            "데이터의 길이 :  56\n",
            "데이터 내용(숫자) : [1, 3267, 699, 3434, 2295, 56, 2, 7511, 9, 56, 3906, 1073, 81, 5, 1198]\n"
          ]
        }
      ]
    },
    {
      "cell_type": "code",
      "source": [
        "print( \"자료형 : \", type(reuters) )\n",
        "print( \"reuters의 기능 리스트 : \", dir(reuters) )"
      ],
      "metadata": {
        "colab": {
          "base_uri": "https://localhost:8080/"
        },
        "id": "RXa6KnnnpKOl",
        "outputId": "33e619bc-7077-4575-ddcd-28b76338a01f"
      },
      "execution_count": 7,
      "outputs": [
        {
          "output_type": "stream",
          "name": "stdout",
          "text": [
            "자료형 :  <class 'module'>\n",
            "reuters의 기능 리스트 :  ['__builtins__', '__cached__', '__doc__', '__file__', '__loader__', '__name__', '__package__', '__spec__', '_remove_long_seq', 'get_file', 'get_word_index', 'json', 'keras_export', 'load_data', 'logging', 'np']\n"
          ]
        }
      ]
    },
    {
      "cell_type": "code",
      "source": [
        "# reuters의 word의 index를 얻기\n",
        "word_index = reuters.get_word_index()\n",
        "reverse_word_index = dict([(value, key) \n",
        "                           for (key, value) in word_index.items()])\n",
        "\n",
        "# 0, 1, 2는 '패딩', '문서 시작', '사전에 없음'을 위한 인덱스이므로 3을 뺍니다\n",
        "decoded_newswire = ' '.join([reverse_word_index.get(i - 3, '?') \n",
        "                             for i in train_data[0]])"
      ],
      "metadata": {
        "colab": {
          "base_uri": "https://localhost:8080/"
        },
        "id": "m4ADLgCIpMLG",
        "outputId": "d9c41c2e-998f-4d5b-b3c3-374bbdfa66db"
      },
      "execution_count": 8,
      "outputs": [
        {
          "output_type": "stream",
          "name": "stdout",
          "text": [
            "Downloading data from https://storage.googleapis.com/tensorflow/tf-keras-datasets/reuters_word_index.json\n",
            "557056/550378 [==============================] - 0s 0us/step\n",
            "565248/550378 [==============================] - 0s 0us/step\n"
          ]
        }
      ]
    },
    {
      "cell_type": "code",
      "source": [
        "# 첫번째 뉴스 기사(숫자로 되어 있음)를 영문 매칭된 단어로 변경\n",
        "decoded_newswire"
      ],
      "metadata": {
        "colab": {
          "base_uri": "https://localhost:8080/",
          "height": 108
        },
        "id": "ewUUczK5pN7P",
        "outputId": "b7ab1e78-afe4-4493-c71f-5aac69c94d75"
      },
      "execution_count": 9,
      "outputs": [
        {
          "output_type": "execute_result",
          "data": {
            "text/plain": [
              "'? ? ? said as a result of its december acquisition of space co it expects earnings per share in 1987 of 1 15 to 1 30 dlrs per share up from 70 cts in 1986 the company said pretax net should rise to nine to 10 mln dlrs from six mln dlrs in 1986 and rental operation revenues to 19 to 22 mln dlrs from 12 5 mln dlrs it said cash flow per share this year should be 2 50 to three dlrs reuter 3'"
            ],
            "application/vnd.google.colaboratory.intrinsic+json": {
              "type": "string"
            }
          },
          "metadata": {},
          "execution_count": 9
        }
      ]
    },
    {
      "cell_type": "code",
      "source": [
        "train_labels[0:10]"
      ],
      "metadata": {
        "colab": {
          "base_uri": "https://localhost:8080/"
        },
        "id": "S3aXHJxDpPEM",
        "outputId": "3c47cb0c-5e23-4393-e33a-bd480a135727"
      },
      "execution_count": 10,
      "outputs": [
        {
          "output_type": "execute_result",
          "data": {
            "text/plain": [
              "array([ 3,  4,  3,  4,  4,  4,  4,  3,  3, 16])"
            ]
          },
          "metadata": {},
          "execution_count": 10
        }
      ]
    },
    {
      "cell_type": "code",
      "source": [
        "import numpy as np\n",
        "\n",
        "def vectorize_sequences(sequences, dimension=10000):\n",
        "    results = np.zeros((len(sequences), dimension))\n",
        "    for i, sequence in enumerate(sequences):\n",
        "        results[i, sequence] = 1.\n",
        "    return results\n",
        "\n",
        "# 훈련 데이터 벡터 변환\n",
        "X_train = vectorize_sequences(train_data)\n",
        "\n",
        "# 테스트 데이터 벡터 변환\n",
        "X_test = vectorize_sequences(test_data)\n",
        "\n",
        "print(\"변환 전 : \", train_data.shape, test_data.shape)\n",
        "print(\"변환 후 : \", X_train.shape, X_test.shape)"
      ],
      "metadata": {
        "colab": {
          "base_uri": "https://localhost:8080/"
        },
        "id": "vzL-zdeCpRm_",
        "outputId": "1bd9981b-7753-4b7b-f281-a7b990e7ece8"
      },
      "execution_count": 11,
      "outputs": [
        {
          "output_type": "stream",
          "name": "stdout",
          "text": [
            "변환 전 :  (8982,) (2246,)\n",
            "변환 후 :  (8982, 10000) (2246, 10000)\n"
          ]
        }
      ]
    },
    {
      "cell_type": "code",
      "source": [
        "def to_one_hot(labels, dimension=46):\n",
        "    results = np.zeros((len(labels), dimension))\n",
        "    for i, label in enumerate(labels):\n",
        "        results[i, label] = 1.\n",
        "    return results\n",
        "\n",
        "# 출력(레이블)을 벡터 변환(원핫)\n",
        "# 훈련 레이블 벡터 변환\n",
        "y_train = to_one_hot(train_labels)\n",
        "\n",
        "# 테스트 레이블 벡터 변환\n",
        "y_test = to_one_hot(test_labels)\n",
        "\n",
        "print(\"변환 전 : \", train_labels.shape, test_labels.shape)\n",
        "print(\"변환 후 : \", y_train.shape, y_test.shape)"
      ],
      "metadata": {
        "colab": {
          "base_uri": "https://localhost:8080/"
        },
        "id": "q2yMYQVDpT2s",
        "outputId": "bc4e6e8f-a440-438e-814d-ac5f857b68c1"
      },
      "execution_count": 12,
      "outputs": [
        {
          "output_type": "stream",
          "name": "stdout",
          "text": [
            "변환 전 :  (8982,) (2246,)\n",
            "변환 후 :  (8982, 46) (2246, 46)\n"
          ]
        }
      ]
    },
    {
      "cell_type": "code",
      "source": [
        "from keras import models\n",
        "from keras import layers\n",
        "\n",
        "model = models.Sequential()\n",
        "model.add(layers.Dense(64, activation='relu', input_shape=(10000,)))\n",
        "model.add(layers.Dense(64, activation='relu'))\n",
        "model.add(layers.Dense(46, activation='softmax'))"
      ],
      "metadata": {
        "id": "IuK75WdrpYpe"
      },
      "execution_count": 13,
      "outputs": []
    },
    {
      "cell_type": "code",
      "source": [
        "model.compile(optimizer='rmsprop',\n",
        "              loss='categorical_crossentropy',\n",
        "              metrics=['accuracy'])"
      ],
      "metadata": {
        "id": "spunN50xpaUO"
      },
      "execution_count": 14,
      "outputs": []
    },
    {
      "cell_type": "code",
      "source": [
        "X_val = X_train[:1000]    # 0~8982 -> 0~1000개를 검증\n",
        "partial_X_train = X_train[1000:] # 0~8982 -> 1000~끝까지 학습\n",
        "\n",
        "y_val = y_train[:1000]\n",
        "partial_y_train = y_train[1000:]"
      ],
      "metadata": {
        "id": "EEz-ipLWpbZM"
      },
      "execution_count": 15,
      "outputs": []
    },
    {
      "cell_type": "code",
      "source": [
        "# 4. 모델 학습시키기\n",
        "from keras.callbacks import EarlyStopping\n",
        "early_stopping = EarlyStopping(patience = 20) # 조기종료 콜백함수 정의"
      ],
      "metadata": {
        "id": "vxg5lU9Ppc5M"
      },
      "execution_count": 16,
      "outputs": []
    },
    {
      "cell_type": "code",
      "source": [
        "# early_stopping 를 이용하여 성능의 개선이 없을 시, 모델 학습을 중지\n",
        "history = model.fit(partial_X_train,\n",
        "                    partial_y_train,\n",
        "                    epochs=50,\n",
        "                    batch_size=512,\n",
        "                    validation_data=(X_val, y_val), \n",
        "                    callbacks=[early_stopping])"
      ],
      "metadata": {
        "colab": {
          "base_uri": "https://localhost:8080/"
        },
        "id": "HyoDCSmrpeWk",
        "outputId": "a7c1d66b-e195-4f0e-a215-2ac90c0e3f69"
      },
      "execution_count": 17,
      "outputs": [
        {
          "output_type": "stream",
          "name": "stdout",
          "text": [
            "Epoch 1/50\n",
            "16/16 [==============================] - 4s 130ms/step - loss: 2.5619 - accuracy: 0.4769 - val_loss: 1.6997 - val_accuracy: 0.6490\n",
            "Epoch 2/50\n",
            "16/16 [==============================] - 1s 85ms/step - loss: 1.4025 - accuracy: 0.7114 - val_loss: 1.3001 - val_accuracy: 0.7140\n",
            "Epoch 3/50\n",
            "16/16 [==============================] - 1s 50ms/step - loss: 1.0535 - accuracy: 0.7740 - val_loss: 1.1297 - val_accuracy: 0.7500\n",
            "Epoch 4/50\n",
            "16/16 [==============================] - 1s 48ms/step - loss: 0.8281 - accuracy: 0.8224 - val_loss: 1.0235 - val_accuracy: 0.7820\n",
            "Epoch 5/50\n",
            "16/16 [==============================] - 1s 75ms/step - loss: 0.6567 - accuracy: 0.8632 - val_loss: 0.9731 - val_accuracy: 0.7900\n",
            "Epoch 6/50\n",
            "16/16 [==============================] - 2s 98ms/step - loss: 0.5252 - accuracy: 0.8938 - val_loss: 0.9141 - val_accuracy: 0.8140\n",
            "Epoch 7/50\n",
            "16/16 [==============================] - 1s 55ms/step - loss: 0.4206 - accuracy: 0.9152 - val_loss: 0.8952 - val_accuracy: 0.8160\n",
            "Epoch 8/50\n",
            "16/16 [==============================] - 1s 49ms/step - loss: 0.3394 - accuracy: 0.9311 - val_loss: 0.8881 - val_accuracy: 0.8220\n",
            "Epoch 9/50\n",
            "16/16 [==============================] - 1s 48ms/step - loss: 0.2820 - accuracy: 0.9380 - val_loss: 0.8969 - val_accuracy: 0.8150\n",
            "Epoch 10/50\n",
            "16/16 [==============================] - 1s 47ms/step - loss: 0.2380 - accuracy: 0.9469 - val_loss: 0.9029 - val_accuracy: 0.8170\n",
            "Epoch 11/50\n",
            "16/16 [==============================] - 1s 48ms/step - loss: 0.2054 - accuracy: 0.9491 - val_loss: 0.9587 - val_accuracy: 0.8040\n",
            "Epoch 12/50\n",
            "16/16 [==============================] - 1s 49ms/step - loss: 0.1832 - accuracy: 0.9510 - val_loss: 0.9555 - val_accuracy: 0.8140\n",
            "Epoch 13/50\n",
            "16/16 [==============================] - 1s 67ms/step - loss: 0.1617 - accuracy: 0.9539 - val_loss: 0.9919 - val_accuracy: 0.8030\n",
            "Epoch 14/50\n",
            "16/16 [==============================] - 1s 67ms/step - loss: 0.1510 - accuracy: 0.9540 - val_loss: 0.9725 - val_accuracy: 0.8200\n",
            "Epoch 15/50\n",
            "16/16 [==============================] - 1s 48ms/step - loss: 0.1359 - accuracy: 0.9567 - val_loss: 1.0666 - val_accuracy: 0.7990\n",
            "Epoch 16/50\n",
            "16/16 [==============================] - 1s 48ms/step - loss: 0.1272 - accuracy: 0.9582 - val_loss: 1.0025 - val_accuracy: 0.8130\n",
            "Epoch 17/50\n",
            "16/16 [==============================] - 1s 49ms/step - loss: 0.1242 - accuracy: 0.9575 - val_loss: 1.0656 - val_accuracy: 0.7950\n",
            "Epoch 18/50\n",
            "16/16 [==============================] - 1s 49ms/step - loss: 0.1181 - accuracy: 0.9582 - val_loss: 1.0458 - val_accuracy: 0.8120\n",
            "Epoch 19/50\n",
            "16/16 [==============================] - 1s 51ms/step - loss: 0.1156 - accuracy: 0.9565 - val_loss: 1.0825 - val_accuracy: 0.8050\n",
            "Epoch 20/50\n",
            "16/16 [==============================] - 1s 62ms/step - loss: 0.1118 - accuracy: 0.9569 - val_loss: 1.0919 - val_accuracy: 0.8000\n",
            "Epoch 21/50\n",
            "16/16 [==============================] - 1s 74ms/step - loss: 0.1076 - accuracy: 0.9575 - val_loss: 1.1019 - val_accuracy: 0.8080\n",
            "Epoch 22/50\n",
            "16/16 [==============================] - 1s 75ms/step - loss: 0.1055 - accuracy: 0.9589 - val_loss: 1.1333 - val_accuracy: 0.7970\n",
            "Epoch 23/50\n",
            "16/16 [==============================] - 1s 48ms/step - loss: 0.1062 - accuracy: 0.9564 - val_loss: 1.2462 - val_accuracy: 0.7860\n",
            "Epoch 24/50\n",
            "16/16 [==============================] - 1s 47ms/step - loss: 0.1018 - accuracy: 0.9574 - val_loss: 1.1777 - val_accuracy: 0.8020\n",
            "Epoch 25/50\n",
            "16/16 [==============================] - 1s 49ms/step - loss: 0.1013 - accuracy: 0.9584 - val_loss: 1.1434 - val_accuracy: 0.8000\n",
            "Epoch 26/50\n",
            "16/16 [==============================] - 1s 48ms/step - loss: 0.0965 - accuracy: 0.9582 - val_loss: 1.1687 - val_accuracy: 0.8100\n",
            "Epoch 27/50\n",
            "16/16 [==============================] - 1s 48ms/step - loss: 0.0976 - accuracy: 0.9593 - val_loss: 1.1893 - val_accuracy: 0.7990\n",
            "Epoch 28/50\n",
            "16/16 [==============================] - 1s 47ms/step - loss: 0.0973 - accuracy: 0.9594 - val_loss: 1.1842 - val_accuracy: 0.8000\n"
          ]
        }
      ]
    },
    {
      "cell_type": "code",
      "source": [
        "results = model.evaluate(X_test, y_test)\n",
        "print(\"최종 평가(loss, accuracy) : \", results)"
      ],
      "metadata": {
        "colab": {
          "base_uri": "https://localhost:8080/"
        },
        "id": "MjcSxVVQpfoV",
        "outputId": "1cbafb91-04ee-4a2f-a759-ff4e8f775c3b"
      },
      "execution_count": 18,
      "outputs": [
        {
          "output_type": "stream",
          "name": "stdout",
          "text": [
            "71/71 [==============================] - 0s 4ms/step - loss: 1.3492 - accuracy: 0.7867\n",
            "최종 평가(loss, accuracy) :  [1.3491986989974976, 0.7867319583892822]\n"
          ]
        }
      ]
    },
    {
      "cell_type": "code",
      "source": [
        "import matplotlib.pyplot as plt"
      ],
      "metadata": {
        "id": "WlRiya0kphy0"
      },
      "execution_count": 19,
      "outputs": []
    },
    {
      "cell_type": "code",
      "source": [
        "# 에폭별 loss 결과 시각화\n",
        "loss = history.history['loss']\n",
        "val_loss = history.history['val_loss']\n",
        "\n",
        "epochs = range(1, len(loss) + 1)\n",
        "\n",
        "plt.plot(epochs, loss, 'bo', label='Training loss')\n",
        "plt.plot(epochs, val_loss, 'b', label='Validation loss')\n",
        "plt.title('Training and validation loss')\n",
        "plt.xlabel('Epochs')\n",
        "plt.ylabel('Loss')\n",
        "plt.legend()\n",
        "\n",
        "plt.show()"
      ],
      "metadata": {
        "colab": {
          "base_uri": "https://localhost:8080/",
          "height": 295
        },
        "id": "VIvHHrUMpjjI",
        "outputId": "1d3cf272-ac8f-43de-9019-9e4f2f610b43"
      },
      "execution_count": 20,
      "outputs": [
        {
          "output_type": "display_data",
          "data": {
            "text/plain": [
              "<Figure size 432x288 with 1 Axes>"
            ],
            "image/png": "[encoded data removed]"
          },
          "metadata": {
            "needs_background": "light"
          }
        }
      ]
    },
    {
      "cell_type": "code",
      "source": [
        "# 에폭별 accuracy(정확도) 결과 시각화\n",
        "plt.clf()   # 그래프를 초기화합니다\n",
        "\n",
        "acc = history.history['accuracy']\n",
        "val_acc = history.history['val_accuracy']\n",
        "\n",
        "plt.plot(epochs, acc, 'bo', label='Training acc')\n",
        "plt.plot(epochs, val_acc, 'b', label='Validation acc')\n",
        "plt.title('Training and validation accuracy')\n",
        "plt.xlabel('Epochs')\n",
        "plt.ylabel('Accuracy')\n",
        "plt.legend()\n",
        "\n",
        "plt.show()"
      ],
      "metadata": {
        "colab": {
          "base_uri": "https://localhost:8080/",
          "height": 295
        },
        "id": "5UydwRgQpnwF",
        "outputId": "499d4fe2-66f8-4953-98bc-fb06fc4a35a0"
      },
      "execution_count": 21,
      "outputs": [
        {
          "output_type": "display_data",
          "data": {
            "text/plain": [
              "<Figure size 432x288 with 1 Axes>"
            ],
            "image/png": "[encoded data removed]"
          },
          "metadata": {
            "needs_background": "light"
          }
        }
      ]
    },
    {
      "cell_type": "code",
      "source": [
        "# 모델 변경 - 적당한 epochs으로 조정\n",
        "# 9번째 에포크 이후에 과대적합이 현상이 보임.\n",
        "# 9번의 에포크로 새로운 모델 훈련과 테스트 세트에서 평가\n",
        "model = models.Sequential()\n",
        "model.add(layers.Dense(64, activation='relu', input_shape=(10000,)))\n",
        "model.add(layers.Dense(64, activation='relu'))\n",
        "model.add(layers.Dense(46, activation='softmax'))\n",
        "\n",
        "model.compile(optimizer='rmsprop',\n",
        "              loss='categorical_crossentropy',\n",
        "              metrics=['accuracy'])\n",
        "\n",
        "model.fit(partial_X_train,\n",
        "          partial_y_train,\n",
        "          epochs=9,\n",
        "          batch_size=512,\n",
        "          validation_data=(X_val, y_val))"
      ],
      "metadata": {
        "colab": {
          "base_uri": "https://localhost:8080/"
        },
        "id": "IOERZ_ChqCay",
        "outputId": "715172f0-3c91-4a66-b274-ca43972676f3"
      },
      "execution_count": 22,
      "outputs": [
        {
          "output_type": "stream",
          "name": "stdout",
          "text": [
            "Epoch 1/9\n",
            "16/16 [==============================] - 2s 73ms/step - loss: 2.5229 - accuracy: 0.5303 - val_loss: 1.6461 - val_accuracy: 0.6550\n",
            "Epoch 2/9\n",
            "16/16 [==============================] - 1s 52ms/step - loss: 1.3377 - accuracy: 0.7176 - val_loss: 1.2547 - val_accuracy: 0.7430\n",
            "Epoch 3/9\n",
            "16/16 [==============================] - 1s 47ms/step - loss: 0.9871 - accuracy: 0.7919 - val_loss: 1.1319 - val_accuracy: 0.7520\n",
            "Epoch 4/9\n",
            "16/16 [==============================] - 1s 49ms/step - loss: 0.7761 - accuracy: 0.8334 - val_loss: 1.0269 - val_accuracy: 0.7780\n",
            "Epoch 5/9\n",
            "16/16 [==============================] - 1s 49ms/step - loss: 0.6132 - accuracy: 0.8706 - val_loss: 0.9528 - val_accuracy: 0.8090\n",
            "Epoch 6/9\n",
            "16/16 [==============================] - 1s 48ms/step - loss: 0.4868 - accuracy: 0.8984 - val_loss: 0.9223 - val_accuracy: 0.7980\n",
            "Epoch 7/9\n",
            "16/16 [==============================] - 1s 47ms/step - loss: 0.3912 - accuracy: 0.9169 - val_loss: 0.9192 - val_accuracy: 0.7970\n",
            "Epoch 8/9\n",
            "16/16 [==============================] - 1s 48ms/step - loss: 0.3141 - accuracy: 0.9334 - val_loss: 0.9383 - val_accuracy: 0.8030\n",
            "Epoch 9/9\n",
            "16/16 [==============================] - 2s 100ms/step - loss: 0.2635 - accuracy: 0.9415 - val_loss: 0.9001 - val_accuracy: 0.8160\n"
          ]
        },
        {
          "output_type": "execute_result",
          "data": {
            "text/plain": [
              "<keras.callbacks.History at 0x7f61a7473110>"
            ]
          },
          "metadata": {},
          "execution_count": 22
        }
      ]
    },
    {
      "cell_type": "code",
      "source": [
        "results = model.evaluate(X_test, y_test)\n",
        "print(\"최종 평가(loss, accuracy) : \", results)"
      ],
      "metadata": {
        "colab": {
          "base_uri": "https://localhost:8080/"
        },
        "id": "5aRqU5xwqMhN",
        "outputId": "06d78176-bb88-4f38-ef3a-4da3533425f5"
      },
      "execution_count": 23,
      "outputs": [
        {
          "output_type": "stream",
          "name": "stdout",
          "text": [
            "71/71 [==============================] - 0s 6ms/step - loss: 1.0064 - accuracy: 0.7845\n",
            "최종 평가(loss, accuracy) :  [1.0063812732696533, 0.7845057845115662]\n"
          ]
        }
      ]
    },
    {
      "cell_type": "code",
      "source": [
        "# 모델 학습 후, 테스트 데이터를 사용하여 예측\n",
        "pred = model.predict(X_test)\n",
        "pred[0]"
      ],
      "metadata": {
        "colab": {
          "base_uri": "https://localhost:8080/"
        },
        "id": "1AfdVnBjqhkF",
        "outputId": "306cf9a8-99aa-4f21-9c5b-38a40ad5bd76"
      },
      "execution_count": 24,
      "outputs": [
        {
          "output_type": "execute_result",
          "data": {
            "text/plain": [
              "array([1.14874383e-04, 8.79586369e-05, 2.48429733e-05, 4.62091416e-01,\n",
              "       5.17049670e-01, 4.46622871e-05, 2.95120175e-04, 1.02483718e-05,\n",
              "       2.64090532e-03, 1.24209355e-05, 7.17738003e-04, 1.65853673e-03,\n",
              "       7.35470894e-05, 1.88086720e-04, 1.04492727e-04, 1.08652341e-04,\n",
              "       3.48928827e-03, 5.60841116e-04, 1.57302740e-04, 2.61442037e-04,\n",
              "       7.56962632e-04, 9.32032344e-05, 1.43738143e-05, 2.95619335e-04,\n",
              "       5.25216728e-06, 3.23657820e-04, 1.00193929e-05, 3.98867880e-04,\n",
              "       1.97204485e-04, 9.98576288e-04, 7.67585938e-04, 3.40151921e-04,\n",
              "       1.08196482e-05, 1.62004326e-05, 2.17682085e-04, 1.78156404e-06,\n",
              "       3.93039547e-03, 1.32018889e-04, 4.95579388e-06, 1.50326022e-03,\n",
              "       2.00341692e-05, 1.19704193e-04, 6.24691938e-06, 1.33179114e-04,\n",
              "       4.35129414e-06, 5.80106962e-06], dtype=float32)"
            ]
          },
          "metadata": {},
          "execution_count": 24
        }
      ]
    },
    {
      "cell_type": "code",
      "source": [
        "# 첫번째 데이터의 확률 분포 확인\n",
        "pred[0].shape"
      ],
      "metadata": {
        "colab": {
          "base_uri": "https://localhost:8080/"
        },
        "id": "1u6B-xogqlV1",
        "outputId": "c8494734-8e9a-4117-b526-b14fa142bc0e"
      },
      "execution_count": 25,
      "outputs": [
        {
          "output_type": "execute_result",
          "data": {
            "text/plain": [
              "(46,)"
            ]
          },
          "metadata": {},
          "execution_count": 25
        }
      ]
    },
    {
      "cell_type": "code",
      "source": [
        "# softmax 활성화 함수 사용 - 46개 뉴런의 예측 확률의 합은 1이 된다(softmax)\n",
        "np.sum(pred[0])"
      ],
      "metadata": {
        "colab": {
          "base_uri": "https://localhost:8080/"
        },
        "id": "9xK_jVQSqndd",
        "outputId": "5200a4e2-92b0-4905-f59c-3e0d35ea3ccc"
      },
      "execution_count": 26,
      "outputs": [
        {
          "output_type": "execute_result",
          "data": {
            "text/plain": [
              "0.99999994"
            ]
          },
          "metadata": {},
          "execution_count": 26
        }
      ]
    },
    {
      "cell_type": "code",
      "source": [
        "# 확률이 가장 큰 값이 예측 클래스가 된다.\n",
        "np.argmax(pred[0])"
      ],
      "metadata": {
        "colab": {
          "base_uri": "https://localhost:8080/"
        },
        "id": "PoVlnDrmqpdb",
        "outputId": "6b2b18d2-da14-46c6-d27c-1150657cf11c"
      },
      "execution_count": 27,
      "outputs": [
        {
          "output_type": "execute_result",
          "data": {
            "text/plain": [
              "4"
            ]
          },
          "metadata": {},
          "execution_count": 27
        }
      ]
    },
    {
      "cell_type": "markdown",
      "source": [
        "##### 06 다양한 모델(오차함수 변경)"
      ],
      "metadata": {
        "id": "gQqFUnDRq0Y2"
      }
    },
    {
      "cell_type": "code",
      "source": [
        "# 정수 레이블(타켓)을 그대로 사용할 때 손실함수를 sparse_categorical_crossentropy 를 사용\n",
        "y_train = np.array(train_labels)\n",
        "y_test = np.array(test_labels)\n",
        "\n",
        "print(y_train.shape)\n",
        "\n",
        "X_val = X_train[ :1000]\n",
        "partial_x_train = X_train[1000:]\n",
        "\n",
        "y_val = y_train[:1000]\n",
        "partial_y_train = y_train[1000:]"
      ],
      "metadata": {
        "colab": {
          "base_uri": "https://localhost:8080/"
        },
        "id": "fK3-hJe3qvJc",
        "outputId": "82e07fa3-c8ae-4948-e5c2-01611d48497b"
      },
      "execution_count": 28,
      "outputs": [
        {
          "output_type": "stream",
          "name": "stdout",
          "text": [
            "(8982,)\n"
          ]
        }
      ]
    },
    {
      "cell_type": "code",
      "source": [
        "model = models.Sequential()\n",
        "model.add(layers.Dense(64, activation='relu', input_shape=(10000,)))\n",
        "model.add(layers.Dense(64, activation='relu'))\n",
        "model.add(layers.Dense(46, activation='softmax'))\n",
        "\n",
        "model.compile(optimizer='rmsprop', \n",
        "              loss='sparse_categorical_crossentropy', \n",
        "              metrics=['accuracy'])\n",
        "\n",
        "model.fit(partial_X_train,\n",
        "          partial_y_train,\n",
        "          epochs=9,\n",
        "          batch_size=512,\n",
        "          validation_data=(X_val, y_val))"
      ],
      "metadata": {
        "colab": {
          "base_uri": "https://localhost:8080/"
        },
        "id": "kZ8Euz7Pq8O8",
        "outputId": "a4a48e8d-022b-410b-8c89-67f3acd8a1ca"
      },
      "execution_count": 29,
      "outputs": [
        {
          "output_type": "stream",
          "name": "stdout",
          "text": [
            "Epoch 1/9\n",
            "16/16 [==============================] - 2s 83ms/step - loss: 2.7327 - accuracy: 0.5025 - val_loss: 1.8472 - val_accuracy: 0.5920\n",
            "Epoch 2/9\n",
            "16/16 [==============================] - 1s 50ms/step - loss: 1.4903 - accuracy: 0.6872 - val_loss: 1.3518 - val_accuracy: 0.7200\n",
            "Epoch 3/9\n",
            "16/16 [==============================] - 1s 47ms/step - loss: 1.0946 - accuracy: 0.7679 - val_loss: 1.1519 - val_accuracy: 0.7450\n",
            "Epoch 4/9\n",
            "16/16 [==============================] - 1s 47ms/step - loss: 0.8726 - accuracy: 0.8092 - val_loss: 1.0512 - val_accuracy: 0.7690\n",
            "Epoch 5/9\n",
            "16/16 [==============================] - 1s 50ms/step - loss: 0.7020 - accuracy: 0.8522 - val_loss: 0.9791 - val_accuracy: 0.7910\n",
            "Epoch 6/9\n",
            "16/16 [==============================] - 1s 47ms/step - loss: 0.5706 - accuracy: 0.8824 - val_loss: 0.9236 - val_accuracy: 0.8140\n",
            "Epoch 7/9\n",
            "16/16 [==============================] - 1s 68ms/step - loss: 0.4639 - accuracy: 0.9049 - val_loss: 0.9852 - val_accuracy: 0.7920\n",
            "Epoch 8/9\n",
            "16/16 [==============================] - 1s 73ms/step - loss: 0.3826 - accuracy: 0.9187 - val_loss: 0.8922 - val_accuracy: 0.8160\n",
            "Epoch 9/9\n",
            "16/16 [==============================] - 1s 64ms/step - loss: 0.3151 - accuracy: 0.9310 - val_loss: 0.9566 - val_accuracy: 0.8000\n"
          ]
        },
        {
          "output_type": "execute_result",
          "data": {
            "text/plain": [
              "<keras.callbacks.History at 0x7f61a658ec50>"
            ]
          },
          "metadata": {},
          "execution_count": 29
        }
      ]
    },
    {
      "cell_type": "code",
      "source": [
        "results = model.evaluate(X_test, y_test)\n",
        "print(\"최종 평가(loss, accuracy) : \", results)"
      ],
      "metadata": {
        "colab": {
          "base_uri": "https://localhost:8080/"
        },
        "id": "mG1z4bPUq9r-",
        "outputId": "e7e596ed-8335-41e7-8a15-9dae2bd37836"
      },
      "execution_count": 30,
      "outputs": [
        {
          "output_type": "stream",
          "name": "stdout",
          "text": [
            "71/71 [==============================] - 0s 3ms/step - loss: 1.0254 - accuracy: 0.7694\n",
            "최종 평가(loss, accuracy) :  [1.02540123462677, 0.7693677544593811]\n"
          ]
        }
      ]
    },
    {
      "cell_type": "markdown",
      "source": [
        "##### 08 다양한 모델(은닉층 뉴런이 많이 작을 경우) 충분히 큰 중간층을 두기"
      ],
      "metadata": {
        "id": "qneKwB0DrCbk"
      }
    },
    {
      "cell_type": "code",
      "source": [
        "# 출력층이 46차원이다. 중간층의 히든 유닛이 46개보다 적으면 안된다.\n",
        "model = models.Sequential()\n",
        "model.add(layers.Dense(64, activation='relu', input_shape=(10000,)))\n",
        "model.add(layers.Dense(64, activation='relu'))\n",
        "model.add(layers.Dense(46, activation='softmax'))"
      ],
      "metadata": {
        "id": "SlZ3OnxIq_eF"
      },
      "execution_count": 32,
      "outputs": []
    },
    {
      "cell_type": "code",
      "source": [
        "model.compile(optimizer='rmsprop',\n",
        "              loss='sparse_categorical_crossentropy',\n",
        "              metrics=['accuracy'])\n",
        "\n",
        "print( partial_x_train.shape, partial_y_train.shape )\n",
        "\n",
        "history = model.fit(partial_x_train, partial_y_train,\n",
        "                    epochs=20,\n",
        "                    batch_size=512,\n",
        "                    validation_data=(X_val, y_val))\n",
        "\n",
        "results = model.evaluate(X_test, y_test)\n",
        "print(\"최종 평가(loss, accuracy) : \", results)"
      ],
      "metadata": {
        "colab": {
          "base_uri": "https://localhost:8080/"
        },
        "id": "CU_SSDf4rHTd",
        "outputId": "b88aeb14-ac74-4731-d7c0-cfd33a4a0e9b"
      },
      "execution_count": 33,
      "outputs": [
        {
          "output_type": "stream",
          "name": "stdout",
          "text": [
            "(7982, 10000) (7982,)\n",
            "Epoch 1/20\n",
            "16/16 [==============================] - 2s 58ms/step - loss: 2.4547 - accuracy: 0.5193 - val_loss: 1.6451 - val_accuracy: 0.6330\n",
            "Epoch 2/20\n",
            "16/16 [==============================] - 1s 47ms/step - loss: 1.3850 - accuracy: 0.6961 - val_loss: 1.3057 - val_accuracy: 0.7030\n",
            "Epoch 3/20\n",
            "16/16 [==============================] - 1s 47ms/step - loss: 1.0474 - accuracy: 0.7660 - val_loss: 1.1118 - val_accuracy: 0.7470\n",
            "Epoch 4/20\n",
            "16/16 [==============================] - 1s 47ms/step - loss: 0.8144 - accuracy: 0.8231 - val_loss: 1.0019 - val_accuracy: 0.7950\n",
            "Epoch 5/20\n",
            "16/16 [==============================] - 1s 47ms/step - loss: 0.6378 - accuracy: 0.8685 - val_loss: 0.9466 - val_accuracy: 0.8020\n",
            "Epoch 6/20\n",
            "16/16 [==============================] - 1s 48ms/step - loss: 0.4974 - accuracy: 0.9009 - val_loss: 0.8993 - val_accuracy: 0.8170\n",
            "Epoch 7/20\n",
            "16/16 [==============================] - 1s 47ms/step - loss: 0.3991 - accuracy: 0.9196 - val_loss: 0.8899 - val_accuracy: 0.8160\n",
            "Epoch 8/20\n",
            "16/16 [==============================] - 1s 48ms/step - loss: 0.3226 - accuracy: 0.9307 - val_loss: 0.8999 - val_accuracy: 0.8050\n",
            "Epoch 9/20\n",
            "16/16 [==============================] - 1s 47ms/step - loss: 0.2636 - accuracy: 0.9426 - val_loss: 0.8947 - val_accuracy: 0.8170\n",
            "Epoch 10/20\n",
            "16/16 [==============================] - 1s 47ms/step - loss: 0.2262 - accuracy: 0.9458 - val_loss: 0.9145 - val_accuracy: 0.8160\n",
            "Epoch 11/20\n",
            "16/16 [==============================] - 1s 52ms/step - loss: 0.1969 - accuracy: 0.9504 - val_loss: 0.9589 - val_accuracy: 0.8080\n",
            "Epoch 12/20\n",
            "16/16 [==============================] - 1s 65ms/step - loss: 0.1730 - accuracy: 0.9519 - val_loss: 0.9962 - val_accuracy: 0.8010\n",
            "Epoch 13/20\n",
            "16/16 [==============================] - 1s 78ms/step - loss: 0.1600 - accuracy: 0.9539 - val_loss: 0.9620 - val_accuracy: 0.8120\n",
            "Epoch 14/20\n",
            "16/16 [==============================] - 1s 57ms/step - loss: 0.1442 - accuracy: 0.9554 - val_loss: 0.9847 - val_accuracy: 0.8130\n",
            "Epoch 15/20\n",
            "16/16 [==============================] - 1s 48ms/step - loss: 0.1391 - accuracy: 0.9545 - val_loss: 1.0265 - val_accuracy: 0.8040\n",
            "Epoch 16/20\n",
            "16/16 [==============================] - 1s 59ms/step - loss: 0.1293 - accuracy: 0.9553 - val_loss: 1.0170 - val_accuracy: 0.8160\n",
            "Epoch 17/20\n",
            "16/16 [==============================] - 1s 51ms/step - loss: 0.1235 - accuracy: 0.9565 - val_loss: 1.1323 - val_accuracy: 0.7890\n",
            "Epoch 18/20\n",
            "16/16 [==============================] - 1s 48ms/step - loss: 0.1159 - accuracy: 0.9570 - val_loss: 1.0218 - val_accuracy: 0.8080\n",
            "Epoch 19/20\n",
            "16/16 [==============================] - 1s 73ms/step - loss: 0.1174 - accuracy: 0.9557 - val_loss: 1.0812 - val_accuracy: 0.8040\n",
            "Epoch 20/20\n",
            "16/16 [==============================] - 1s 91ms/step - loss: 0.1103 - accuracy: 0.9579 - val_loss: 1.0733 - val_accuracy: 0.8130\n",
            "71/71 [==============================] - 0s 4ms/step - loss: 1.2598 - accuracy: 0.7805\n",
            "최종 평가(loss, accuracy) :  [1.2597715854644775, 0.7804986834526062]\n"
          ]
        }
      ]
    },
    {
      "cell_type": "code",
      "source": [
        "# 46차원보다 훨씬 작은 중간층(예를 들어 4차원)을 두면,\n",
        "model = models.Sequential()\n",
        "model.add(layers.Dense(64, activation='relu', input_shape=(10000,)))\n",
        "model.add(layers.Dense(4, activation='relu'))\n",
        "model.add(layers.Dense(46, activation='softmax'))\n",
        "\n",
        "model.compile(optimizer='rmsprop',\n",
        "              loss='sparse_categorical_crossentropy',\n",
        "              metrics=['accuracy'])\n",
        "\n",
        "history = model.fit(partial_x_train, partial_y_train,\n",
        "                    epochs=20,\n",
        "                    batch_size=512,\n",
        "                    validation_data=(X_val, y_val))\n",
        "\n",
        "results = model.evaluate(X_test, y_test)\n",
        "print(\"최종 평가(loss, accuracy) : \", results)"
      ],
      "metadata": {
        "colab": {
          "base_uri": "https://localhost:8080/"
        },
        "id": "tfAKn3rfrKn9",
        "outputId": "c02a90eb-c2d8-4b3d-c4dc-b2a640e0c1a8"
      },
      "execution_count": 34,
      "outputs": [
        {
          "output_type": "stream",
          "name": "stdout",
          "text": [
            "Epoch 1/20\n",
            "16/16 [==============================] - 2s 71ms/step - loss: 3.4644 - accuracy: 0.1136 - val_loss: 3.1088 - val_accuracy: 0.2180\n",
            "Epoch 2/20\n",
            "16/16 [==============================] - 1s 47ms/step - loss: 2.8369 - accuracy: 0.2373 - val_loss: 2.6194 - val_accuracy: 0.2780\n",
            "Epoch 3/20\n",
            "16/16 [==============================] - 1s 47ms/step - loss: 2.3318 - accuracy: 0.4868 - val_loss: 2.1886 - val_accuracy: 0.5760\n",
            "Epoch 4/20\n",
            "16/16 [==============================] - 1s 47ms/step - loss: 1.8967 - accuracy: 0.6052 - val_loss: 1.8501 - val_accuracy: 0.5890\n",
            "Epoch 5/20\n",
            "16/16 [==============================] - 1s 46ms/step - loss: 1.5847 - accuracy: 0.6209 - val_loss: 1.6382 - val_accuracy: 0.6010\n",
            "Epoch 6/20\n",
            "16/16 [==============================] - 1s 47ms/step - loss: 1.3898 - accuracy: 0.6353 - val_loss: 1.5319 - val_accuracy: 0.6150\n",
            "Epoch 7/20\n",
            "16/16 [==============================] - 1s 46ms/step - loss: 1.2574 - accuracy: 0.6744 - val_loss: 1.4669 - val_accuracy: 0.6460\n",
            "Epoch 8/20\n",
            "16/16 [==============================] - 1s 47ms/step - loss: 1.1570 - accuracy: 0.7131 - val_loss: 1.4337 - val_accuracy: 0.6550\n",
            "Epoch 9/20\n",
            "16/16 [==============================] - 1s 46ms/step - loss: 1.0737 - accuracy: 0.7353 - val_loss: 1.4027 - val_accuracy: 0.6790\n",
            "Epoch 10/20\n",
            "16/16 [==============================] - 1s 47ms/step - loss: 1.0054 - accuracy: 0.7524 - val_loss: 1.3872 - val_accuracy: 0.6820\n",
            "Epoch 11/20\n",
            "16/16 [==============================] - 1s 47ms/step - loss: 0.9475 - accuracy: 0.7655 - val_loss: 1.3671 - val_accuracy: 0.6940\n",
            "Epoch 12/20\n",
            "16/16 [==============================] - 1s 51ms/step - loss: 0.9002 - accuracy: 0.7740 - val_loss: 1.3708 - val_accuracy: 0.6900\n",
            "Epoch 13/20\n",
            "16/16 [==============================] - 1s 56ms/step - loss: 0.8553 - accuracy: 0.7826 - val_loss: 1.3758 - val_accuracy: 0.6850\n",
            "Epoch 14/20\n",
            "16/16 [==============================] - 1s 48ms/step - loss: 0.8156 - accuracy: 0.7890 - val_loss: 1.3688 - val_accuracy: 0.6880\n",
            "Epoch 15/20\n",
            "16/16 [==============================] - 1s 50ms/step - loss: 0.7778 - accuracy: 0.7918 - val_loss: 1.3827 - val_accuracy: 0.6850\n",
            "Epoch 16/20\n",
            "16/16 [==============================] - 1s 48ms/step - loss: 0.7426 - accuracy: 0.7960 - val_loss: 1.3876 - val_accuracy: 0.6960\n",
            "Epoch 17/20\n",
            "16/16 [==============================] - 1s 47ms/step - loss: 0.7144 - accuracy: 0.7999 - val_loss: 1.4067 - val_accuracy: 0.6990\n",
            "Epoch 18/20\n",
            "16/16 [==============================] - 1s 46ms/step - loss: 0.6819 - accuracy: 0.8084 - val_loss: 1.4105 - val_accuracy: 0.6990\n",
            "Epoch 19/20\n",
            "16/16 [==============================] - 1s 47ms/step - loss: 0.6556 - accuracy: 0.8163 - val_loss: 1.4193 - val_accuracy: 0.6990\n",
            "Epoch 20/20\n",
            "16/16 [==============================] - 1s 46ms/step - loss: 0.6304 - accuracy: 0.8230 - val_loss: 1.4322 - val_accuracy: 0.7070\n",
            "71/71 [==============================] - 0s 3ms/step - loss: 1.5397 - accuracy: 0.6812\n",
            "최종 평가(loss, accuracy) :  [1.5397179126739502, 0.6812110543251038]\n"
          ]
        }
      ]
    },
    {
      "cell_type": "code",
      "source": [
        "import copy\n",
        "\n",
        "test_labels_copy = copy.copy(test_labels)\n",
        "np.random.shuffle(test_labels_copy)       # 데이터 섞기\n",
        "\n",
        "float(np.sum(np.array(test_labels) == np.array(test_labels_copy))) / len(test_labels)"
      ],
      "metadata": {
        "colab": {
          "base_uri": "https://localhost:8080/"
        },
        "id": "fwLOy-PNrO5g",
        "outputId": "cd87e249-9fcc-47f6-b72b-50b226e5cd0b"
      },
      "execution_count": 35,
      "outputs": [
        {
          "output_type": "execute_result",
          "data": {
            "text/plain": [
              "0.18388245770258238"
            ]
          },
          "metadata": {},
          "execution_count": 35
        }
      ]
    }
  ]
}