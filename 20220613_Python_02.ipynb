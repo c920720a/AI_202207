{
 "cells": [
  {
   "cell_type": "markdown",
   "metadata": {},
   "source": [
    "#### 2-1 if\n",
    "* 기본 구조1"
   ]
  },
  {
   "cell_type": "raw",
   "metadata": {},
   "source": [
    "if (조건식):\n",
    "    실행문1"
   ]
  },
  {
   "cell_type": "markdown",
   "metadata": {},
   "source": [
    "* 기본 구조2"
   ]
  },
  {
   "cell_type": "raw",
   "metadata": {},
   "source": [
    "if (조건식):\n",
    "    실행문1\n",
    "else:\n",
    "    실행문2"
   ]
  },
  {
   "cell_type": "markdown",
   "metadata": {},
   "source": [
    "* 기본 구조3"
   ]
  },
  {
   "cell_type": "raw",
   "metadata": {},
   "source": [
    "if (조건식) & (조건식):\n",
    "    실행문1\n",
    "    실행문2\n",
    "else:\n",
    "    실행문3\n",
    "    실행문4"
   ]
  },
  {
   "cell_type": "markdown",
   "metadata": {},
   "source": [
    "* 기본 구조4"
   ]
  },
  {
   "cell_type": "raw",
   "metadata": {},
   "source": [
    "if (조건식) & (조건식):\n",
    "    실행문1\n",
    "    실행문2\n",
    "else (조건식):\n",
    "    실행문3\n",
    "else (조건식):\n",
    "    실행문4\n",
    "else:\n",
    "    실행문5\n",
    "    실행문6"
   ]
  },
  {
   "cell_type": "markdown",
   "metadata": {},
   "source": [
    "#### 에러 발생"
   ]
  },
  {
   "cell_type": "markdown",
   "metadata": {},
   "source": [
    "* indent의 간격이 다를 경우, 에러가 발생"
   ]
  },
  {
   "cell_type": "code",
   "execution_count": 5,
   "metadata": {},
   "outputs": [
    {
     "ename": "IndentationError",
     "evalue": "unindent does not match any outer indentation level (<tokenize>, line 6)",
     "output_type": "error",
     "traceback": [
      "\u001b[1;36m  File \u001b[1;32m\"<tokenize>\"\u001b[1;36m, line \u001b[1;32m6\u001b[0m\n\u001b[1;33m    print(\"사람이 10명 이상입니다.\")\u001b[0m\n\u001b[1;37m    ^\u001b[0m\n\u001b[1;31mIndentationError\u001b[0m\u001b[1;31m:\u001b[0m unindent does not match any outer indentation level\n"
     ]
    }
   ],
   "source": [
    "people = 10\n",
    "\n",
    "# 인덴트가 다를 경우 에러가 발생합니다.\n",
    "if people >= 10:\n",
    "    print(\"사람이 10명 이상입니다.\")\n",
    "   print(\"사람이 10명 이상입니다.\")\n",
    "    print(\"사람이 10명 이상입니다.\")\n",
    "   "
   ]
  },
  {
   "cell_type": "code",
   "execution_count": 6,
   "metadata": {},
   "outputs": [
    {
     "name": "stdout",
     "output_type": "stream",
     "text": [
      "사람이 10명 이상입니다.\n",
      "사람이 10명 이상입니다.\n",
      "사람이 10명 이상입니다.\n"
     ]
    }
   ],
   "source": [
    "people = 10\n",
    "\n",
    "# 인덴트가 다를 경우 에러가 발생합니다.\n",
    "if people >= 10:\n",
    "    print(\"사람이 10명 이상입니다.\")\n",
    "    print(\"사람이 10명 이상입니다.\")\n",
    "    print(\"사람이 10명 이상입니다.\")\n",
    "   "
   ]
  },
  {
   "cell_type": "code",
   "execution_count": 8,
   "metadata": {},
   "outputs": [
    {
     "name": "stdout",
     "output_type": "stream",
     "text": [
      "사람의 수는 :20\n",
      "사람이 10명이상입니다.\n",
      "10명 이상의 경우는 추가 비용을 지불해야 합니다.\n"
     ]
    }
   ],
   "source": [
    "num = int( input(\"사람의 수는 :\") )\n",
    "\n",
    "if num >= 10:\n",
    "  print(\"사람이 10명이상입니다.\") # indent라고 한다. 동일하게 해 준다.\n",
    "  print(\"10명 이상의 경우는 추가 비용을 지불해야 합니다.\")\n",
    "else:\n",
    "  print(\"사람이 10명 미만입니다\")\n"
   ]
  },
  {
   "cell_type": "code",
   "execution_count": 9,
   "metadata": {},
   "outputs": [
    {
     "name": "stdout",
     "output_type": "stream",
     "text": [
      "나이가 어떻게 되나요?20\n",
      "입장 가능합니다. 어떤 영화 티켓을 구매하시겠어요?\n"
     ]
    }
   ],
   "source": [
    "age = int(input(\"나이가 어떻게 되나요?\"))\n",
    "\n",
    "if (age>=15):\n",
    "   print(\"입장 가능합니다. 어떤 영화 티켓을 구매하시겠어요?\")\n",
    "else:\n",
    "   print(\"입장이 불가합니다. 15세이상만 입장이 가능합니다.\")"
   ]
  },
  {
   "cell_type": "markdown",
   "metadata": {},
   "source": [
    "#### 2-2 학점 프로그램 만들기\n",
    "* 학점 판정 프로그램 만들어보기\n",
    "    * 4.5 이면 A+\n",
    "    * 4.0 이상이면 A\n",
    "    * 3.5 이상이면 B+\n",
    "    * 3.0 이상이면 B\n",
    "    * 2.5 이상이면 C+\n",
    "    * 나머지 F"
   ]
  },
  {
   "cell_type": "code",
   "execution_count": 10,
   "metadata": {},
   "outputs": [
    {
     "name": "stdout",
     "output_type": "stream",
     "text": [
      "학점입력해 주세요 : 4.2\n",
      "당신의 학점은  A 입니다.\n"
     ]
    }
   ],
   "source": [
    "score = float( input(\"학점입력해 주세요 : \") )\n",
    "\n",
    "if score==4.5:\n",
    "   grade = 'A+'\n",
    "elif score>=4.0:\n",
    "   grade = 'A'\n",
    "elif score>=3.5:\n",
    "   grade = 'B+'\n",
    "else:\n",
    "   grade = 'F'\n",
    "\n",
    "print(\"당신의 학점은 \", grade , \"입니다.\")"
   ]
  },
  {
   "cell_type": "markdown",
   "metadata": {},
   "source": [
    "#### (생각해보기) 만약 학점을 숫자가 아닌 경우가 입력되었을때, 어떻게 수정 보완할 수 있을까?\n",
    "\n",
    "#### 실습 - 아래와 같이 판정하는 프로그램을 작성해 보자.\n",
    "    * 점수가 90점 이상이면 A\n",
    "    * 점수가 80점 이상이면 B\n",
    "    * 점수가 70점 이상이면 C\n",
    "    * 나머지 점수는 F"
   ]
  },
  {
   "cell_type": "code",
   "execution_count": 12,
   "metadata": {},
   "outputs": [
    {
     "name": "stdout",
     "output_type": "stream",
     "text": [
      "학점입력해 주세요 : 4.2점\n",
      "입력값이 숫자가 아닙니다.\n"
     ]
    }
   ],
   "source": [
    "try:\n",
    "    score = float( input(\"학점입력해 주세요 : \") )\n",
    "    if score==4.5:\n",
    "        grade = 'A+'\n",
    "    elif score>=4.0:\n",
    "        grade = 'A'\n",
    "    elif score>=3.5:\n",
    "        grade = 'B+'\n",
    "    else:\n",
    "        grade = 'F'\n",
    "    print(\"당신의 학점은 \", grade , \"입니다.\")\n",
    "except ValueError:\n",
    "    print(\"입력값이 숫자가 아닙니다.\")\n"
   ]
  },
  {
   "cell_type": "code",
   "execution_count": 14,
   "metadata": {},
   "outputs": [
    {
     "name": "stdout",
     "output_type": "stream",
     "text": [
      "점수를 입력해 주세요: 80\n",
      "당신의 학점은  B 입니다.\n"
     ]
    }
   ],
   "source": [
    "while True:\n",
    "    try:\n",
    "        score = float( input(\"점수를 입력해 주세요: \") )\n",
    "        if score>=90:\n",
    "            grade = 'A'\n",
    "        elif score>=80:\n",
    "            grade = 'B'\n",
    "        elif score>=70:\n",
    "            grade = 'C'\n",
    "        else:\n",
    "            grade = 'F'\n",
    "        print(\"당신의 학점은 \", grade , \"입니다.\")\n",
    "        break\n",
    "    except ValueError:\n",
    "        print(\"입력값이 숫자가 아닙니다.\")\n"
   ]
  },
  {
   "cell_type": "markdown",
   "metadata": {},
   "source": [
    "#### 2-3 for문 알아보기"
   ]
  },
  {
   "cell_type": "markdown",
   "metadata": {},
   "source": [
    "##### 기본 구조 1"
   ]
  },
  {
   "cell_type": "raw",
   "metadata": {},
   "source": [
    "for 변수 in range(시작값, 끝값, 중간값):\n",
    "    실행문1"
   ]
  },
  {
   "cell_type": "code",
   "execution_count": 16,
   "metadata": {},
   "outputs": [
    {
     "name": "stdout",
     "output_type": "stream",
     "text": [
      "1\n",
      "2\n",
      "3\n",
      "4\n",
      "5\n",
      "6\n",
      "7\n",
      "8\n",
      "9\n",
      "10\n"
     ]
    }
   ],
   "source": [
    "for num in range(1, 11, 1):\n",
    "    print(num)"
   ]
  },
  {
   "cell_type": "code",
   "execution_count": 17,
   "metadata": {},
   "outputs": [
    {
     "name": "stdout",
     "output_type": "stream",
     "text": [
      "11\n",
      "10\n",
      "9\n",
      "8\n",
      "7\n",
      "6\n",
      "5\n",
      "4\n",
      "3\n",
      "2\n"
     ]
    }
   ],
   "source": [
    "for num in range(11, 1, -1):\n",
    "    print(num)"
   ]
  },
  {
   "cell_type": "markdown",
   "metadata": {},
   "source": [
    "##### 기본 구조2\n",
    "* [변수]의 값은 for문 루프 안에서 사용 가능.\n",
    "* range 부분에 자료형(리스트, 딕셔너리)이 들어가는 것이 가능."
   ]
  },
  {
   "cell_type": "raw",
   "metadata": {},
   "source": [
    "for [변수] in [리스트 or 튜플 등]:\n",
    "    실행문1\n",
    "    실행문2"
   ]
  },
  {
   "cell_type": "code",
   "execution_count": 18,
   "metadata": {},
   "outputs": [
    {
     "name": "stdout",
     "output_type": "stream",
     "text": [
      "하나\n",
      "둘\n",
      "셋\n",
      "넷\n",
      "다섯\n"
     ]
    }
   ],
   "source": [
    "al = ['하나', '둘', '셋', '넷', '다섯']\n",
    "\n",
    "for one in al:\n",
    "    print(one)"
   ]
  },
  {
   "cell_type": "code",
   "execution_count": 19,
   "metadata": {},
   "outputs": [
    {
     "name": "stdout",
     "output_type": "stream",
     "text": [
      "one 하나\n",
      "two 둘\n",
      "three 셋\n",
      "four 넷\n",
      "five 다섯\n"
     ]
    }
   ],
   "source": [
    "# 딕셔너리 값 출력하기\n",
    "num = {'one':'하나', 'two':'둘', 'three':'셋', 'four':'넷', 'five':'다섯'}\n",
    "\n",
    "for one in num:\n",
    "    print(one, num[one])"
   ]
  }
 ],
 "metadata": {
  "kernelspec": {
   "display_name": "Python 3",
   "language": "python",
   "name": "python3"
  },
  "language_info": {
   "codemirror_mode": {
    "name": "ipython",
    "version": 3
   },
   "file_extension": ".py",
   "mimetype": "text/x-python",
   "name": "python",
   "nbconvert_exporter": "python",
   "pygments_lexer": "ipython3",
   "version": "3.8.5"
  }
 },
 "nbformat": 4,
 "nbformat_minor": 4
}
