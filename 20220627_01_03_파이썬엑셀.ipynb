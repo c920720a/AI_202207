{
 "cells": [
  {
   "cell_type": "code",
   "execution_count": 1,
   "metadata": {},
   "outputs": [
    {
     "name": "stdout",
     "output_type": "stream",
     "text": [
      "openpyxl Ver :  3.0.5\n"
     ]
    }
   ],
   "source": [
    "import openpyxl as oxl\n",
    "print(\"openpyxl Ver : \", oxl.__version__)"
   ]
  },
  {
   "cell_type": "markdown",
   "metadata": {},
   "source": [
    "#### 01. 엑셀 파일 만들기"
   ]
  },
  {
   "cell_type": "code",
   "execution_count": 2,
   "metadata": {},
   "outputs": [],
   "source": [
    "from openpyxl import Workbook"
   ]
  },
  {
   "cell_type": "code",
   "execution_count": 3,
   "metadata": {},
   "outputs": [
    {
     "name": "stdout",
     "output_type": "stream",
     "text": [
      "['Sheet']\n",
      "<Worksheet \"Sheet\">\n"
     ]
    }
   ],
   "source": [
    "wb = Workbook() # 워크북 만들기\n",
    "# 기본적으로 시트는 하나 생성\n",
    "print(wb.sheetnames)\n",
    "# 활성화된 시트 확인\n",
    "print(wb.active)"
   ]
  },
  {
   "cell_type": "markdown",
   "metadata": {},
   "source": [
    "##### 시트 추가하기"
   ]
  },
  {
   "cell_type": "code",
   "execution_count": 4,
   "metadata": {},
   "outputs": [
    {
     "name": "stdout",
     "output_type": "stream",
     "text": [
      "['Sheet', 'Sheet1']\n",
      "<Worksheet \"Sheet\">\n"
     ]
    }
   ],
   "source": [
    "ws1 = wb.create_sheet(\"Sheet1\")\n",
    "print(wb.sheetnames)\n",
    "print(wb.active)"
   ]
  },
  {
   "cell_type": "markdown",
   "metadata": {},
   "source": [
    "##### 위치 지정 후, 시트 추가\n",
    "* 위치는 0이 첫번째가 된다. 0,1,2,..."
   ]
  },
  {
   "cell_type": "code",
   "execution_count": 5,
   "metadata": {},
   "outputs": [
    {
     "name": "stdout",
     "output_type": "stream",
     "text": [
      "['Sheet', 'Sheet0', 'Sheet1']\n",
      "<Worksheet \"Sheet\">\n"
     ]
    }
   ],
   "source": [
    "ws2 = wb.create_sheet(\"Sheet0\", 1) # 두번째에 시트 추가\n",
    "print(wb.sheetnames)\n",
    "print(wb.active)"
   ]
  },
  {
   "cell_type": "markdown",
   "metadata": {},
   "source": [
    "##### 시트이름 변경"
   ]
  },
  {
   "cell_type": "code",
   "execution_count": 6,
   "metadata": {},
   "outputs": [
    {
     "name": "stdout",
     "output_type": "stream",
     "text": [
      "['Sheet', '두번째시트', 'Sheet1']\n"
     ]
    }
   ],
   "source": [
    "new_ws2 = wb['Sheet0']\n",
    "new_ws2.title = \"두번째시트\"\n",
    "print(wb.sheetnames)"
   ]
  },
  {
   "cell_type": "code",
   "execution_count": 7,
   "metadata": {},
   "outputs": [
    {
     "name": "stdout",
     "output_type": "stream",
     "text": [
      "<Worksheet \"두번째시트\">\n"
     ]
    }
   ],
   "source": [
    "# 활성화 시트 지정\n",
    "wb.active = wb['두번째시트']\n",
    "print(wb.active)"
   ]
  },
  {
   "cell_type": "markdown",
   "metadata": {},
   "source": [
    "##### 시트에 값 지정"
   ]
  },
  {
   "cell_type": "code",
   "execution_count": 8,
   "metadata": {},
   "outputs": [],
   "source": [
    "new_ws2['A1'] = '이름'\n",
    "new_ws2['B1'] = '전화번호'\n",
    "new_ws2['A2'] = '홍길동'\n",
    "new_ws2['B2'] = '02-302-3333'"
   ]
  },
  {
   "cell_type": "code",
   "execution_count": 9,
   "metadata": {},
   "outputs": [
    {
     "data": {
      "text/plain": [
       "<Cell '두번째시트'.B3>"
      ]
     },
     "execution_count": 9,
     "metadata": {},
     "output_type": "execute_result"
    }
   ],
   "source": [
    "### 시트에 값 지정 2번째\n",
    "new_ws2.cell(row=3, column=1, value=\"김길동\")\n",
    "new_ws2.cell(row=3, column=2, value=\"010-222-3334\")"
   ]
  },
  {
   "cell_type": "code",
   "execution_count": 10,
   "metadata": {},
   "outputs": [],
   "source": [
    "### 시트에 값 지정 3번째\n",
    "new_ws2.cell(row=4, column=1).value = \"toto\"\n",
    "new_ws2.cell(row=4, column=2).value = \"010-222-3334\""
   ]
  },
  {
   "cell_type": "code",
   "execution_count": 11,
   "metadata": {},
   "outputs": [],
   "source": [
    "new_ws2['A5'] = ''\n",
    "new_ws2['B5'] = '02-302-3333'"
   ]
  },
  {
   "cell_type": "code",
   "execution_count": 12,
   "metadata": {},
   "outputs": [],
   "source": [
    "new_ws2['A6'] = '홍길동'\n",
    "new_ws2['B6'] = '7777777'"
   ]
  },
  {
   "cell_type": "markdown",
   "metadata": {},
   "source": [
    "##### 파일로 만들기"
   ]
  },
  {
   "cell_type": "code",
   "execution_count": 13,
   "metadata": {},
   "outputs": [],
   "source": [
    "wb.save(\"주소록.xlsx\")"
   ]
  },
  {
   "cell_type": "markdown",
   "metadata": {},
   "source": [
    "### 파이썬으로 엑셀 다루기"
   ]
  },
  {
   "cell_type": "code",
   "execution_count": 14,
   "metadata": {},
   "outputs": [
    {
     "name": "stdout",
     "output_type": "stream",
     "text": [
      "openpyxl Ver :  3.0.5\n"
     ]
    }
   ],
   "source": [
    "import openpyxl as oxl\n",
    "print(\"openpyxl Ver : \", oxl.__version__)"
   ]
  },
  {
   "cell_type": "markdown",
   "metadata": {},
   "source": [
    "#### 01. 엑셀 파일 읽기"
   ]
  },
  {
   "cell_type": "code",
   "execution_count": 15,
   "metadata": {},
   "outputs": [],
   "source": [
    "from openpyxl import Workbook, load_workbook"
   ]
  },
  {
   "cell_type": "code",
   "execution_count": 16,
   "metadata": {},
   "outputs": [
    {
     "name": "stdout",
     "output_type": "stream",
     "text": [
      "['Sheet', '두번째시트', 'Sheet1']\n"
     ]
    }
   ],
   "source": [
    "wb2 = load_workbook(\"주소록.xlsx\")\n",
    "print(wb2.sheetnames)"
   ]
  },
  {
   "cell_type": "markdown",
   "metadata": {},
   "source": [
    "#### 02. 시트의 내용 읽기"
   ]
  },
  {
   "cell_type": "code",
   "execution_count": 18,
   "metadata": {},
   "outputs": [
    {
     "name": "stdout",
     "output_type": "stream",
     "text": [
      "<Cell '두번째시트'.A1> 이름\n",
      "<Cell '두번째시트'.B1> 전화번호\n",
      "<Cell '두번째시트'.A2> 홍길동\n",
      "<Cell '두번째시트'.B2> 02-302-3333\n",
      "<Cell '두번째시트'.A3> 김길동\n",
      "<Cell '두번째시트'.B3> 010-222-3334\n",
      "<Cell '두번째시트'.A4> toto\n",
      "<Cell '두번째시트'.B4> 010-222-3334\n",
      "<Cell '두번째시트'.A5> None\n",
      "<Cell '두번째시트'.B5> 02-302-3333\n",
      "<Cell '두번째시트'.A6> 홍길동\n",
      "<Cell '두번째시트'.B6> 7777777\n"
     ]
    }
   ],
   "source": [
    "ws = wb2['두번째시트']\n",
    "for row in ws.iter_rows():\n",
    "  for cell in row:\n",
    "     print(cell, cell.value)"
   ]
  },
  {
   "cell_type": "markdown",
   "metadata": {},
   "source": [
    "#### 03. Pandas를 이용한 내용 읽기"
   ]
  },
  {
   "cell_type": "code",
   "execution_count": 19,
   "metadata": {},
   "outputs": [
    {
     "name": "stdout",
     "output_type": "stream",
     "text": [
      "1.1.3\n"
     ]
    }
   ],
   "source": [
    "import pandas as pd\n",
    "print(pd.__version__)\n"
   ]
  },
  {
   "cell_type": "code",
   "execution_count": 20,
   "metadata": {},
   "outputs": [
    {
     "data": {
      "text/html": [
       "<div>\n",
       "<style scoped>\n",
       "    .dataframe tbody tr th:only-of-type {\n",
       "        vertical-align: middle;\n",
       "    }\n",
       "\n",
       "    .dataframe tbody tr th {\n",
       "        vertical-align: top;\n",
       "    }\n",
       "\n",
       "    .dataframe thead th {\n",
       "        text-align: right;\n",
       "    }\n",
       "</style>\n",
       "<table border=\"1\" class=\"dataframe\">\n",
       "  <thead>\n",
       "    <tr style=\"text-align: right;\">\n",
       "      <th></th>\n",
       "    </tr>\n",
       "  </thead>\n",
       "  <tbody>\n",
       "  </tbody>\n",
       "</table>\n",
       "</div>"
      ],
      "text/plain": [
       "Empty DataFrame\n",
       "Columns: []\n",
       "Index: []"
      ]
     },
     "execution_count": 20,
     "metadata": {},
     "output_type": "execute_result"
    }
   ],
   "source": [
    "# 제일 처음 내용 불러온다.\n",
    "dat = pd.read_excel(\"주소록.xlsx\")\n",
    "dat"
   ]
  },
  {
   "cell_type": "code",
   "execution_count": 21,
   "metadata": {},
   "outputs": [
    {
     "data": {
      "text/html": [
       "<div>\n",
       "<style scoped>\n",
       "    .dataframe tbody tr th:only-of-type {\n",
       "        vertical-align: middle;\n",
       "    }\n",
       "\n",
       "    .dataframe tbody tr th {\n",
       "        vertical-align: top;\n",
       "    }\n",
       "\n",
       "    .dataframe thead th {\n",
       "        text-align: right;\n",
       "    }\n",
       "</style>\n",
       "<table border=\"1\" class=\"dataframe\">\n",
       "  <thead>\n",
       "    <tr style=\"text-align: right;\">\n",
       "      <th></th>\n",
       "      <th>이름</th>\n",
       "      <th>전화번호</th>\n",
       "    </tr>\n",
       "  </thead>\n",
       "  <tbody>\n",
       "    <tr>\n",
       "      <th>0</th>\n",
       "      <td>홍길동</td>\n",
       "      <td>02-302-3333</td>\n",
       "    </tr>\n",
       "    <tr>\n",
       "      <th>1</th>\n",
       "      <td>김길동</td>\n",
       "      <td>010-222-3334</td>\n",
       "    </tr>\n",
       "    <tr>\n",
       "      <th>2</th>\n",
       "      <td>toto</td>\n",
       "      <td>010-222-3334</td>\n",
       "    </tr>\n",
       "    <tr>\n",
       "      <th>3</th>\n",
       "      <td>NaN</td>\n",
       "      <td>02-302-3333</td>\n",
       "    </tr>\n",
       "    <tr>\n",
       "      <th>4</th>\n",
       "      <td>홍길동</td>\n",
       "      <td>7777777</td>\n",
       "    </tr>\n",
       "  </tbody>\n",
       "</table>\n",
       "</div>"
      ],
      "text/plain": [
       "     이름          전화번호\n",
       "0   홍길동   02-302-3333\n",
       "1   김길동  010-222-3334\n",
       "2  toto  010-222-3334\n",
       "3   NaN   02-302-3333\n",
       "4   홍길동       7777777"
      ]
     },
     "execution_count": 21,
     "metadata": {},
     "output_type": "execute_result"
    }
   ],
   "source": [
    "# 시트를 지정해서 읽을 수 있음.\n",
    "dat = pd.read_excel(\"주소록.xlsx\", \"두번째시트\")\n",
    "dat"
   ]
  },
  {
   "cell_type": "markdown",
   "metadata": {},
   "source": [
    "##### 행단위로 읽어와 출력해 보기"
   ]
  },
  {
   "cell_type": "code",
   "execution_count": 22,
   "metadata": {},
   "outputs": [
    {
     "name": "stdout",
     "output_type": "stream",
     "text": [
      "0 홍길동 02-302-3333\n",
      "1 김길동 010-222-3334\n",
      "2 toto 010-222-3334\n",
      "3 nan 02-302-3333\n",
      "4 홍길동 7777777\n"
     ]
    }
   ],
   "source": [
    "for idx, row in dat.iterrows():\n",
    " print(idx, row[0], row[1])"
   ]
  },
  {
   "cell_type": "code",
   "execution_count": 23,
   "metadata": {},
   "outputs": [],
   "source": [
    "### 원본 내용 백업\n",
    "dat_ori = dat.copy()"
   ]
  },
  {
   "cell_type": "markdown",
   "metadata": {},
   "source": [
    "##### 이름 결측치 있는지 체크"
   ]
  },
  {
   "cell_type": "code",
   "execution_count": 24,
   "metadata": {},
   "outputs": [
    {
     "data": {
      "text/html": [
       "<div>\n",
       "<style scoped>\n",
       "    .dataframe tbody tr th:only-of-type {\n",
       "        vertical-align: middle;\n",
       "    }\n",
       "\n",
       "    .dataframe tbody tr th {\n",
       "        vertical-align: top;\n",
       "    }\n",
       "\n",
       "    .dataframe thead th {\n",
       "        text-align: right;\n",
       "    }\n",
       "</style>\n",
       "<table border=\"1\" class=\"dataframe\">\n",
       "  <thead>\n",
       "    <tr style=\"text-align: right;\">\n",
       "      <th></th>\n",
       "      <th>이름</th>\n",
       "      <th>전화번호</th>\n",
       "      <th>이름체크</th>\n",
       "    </tr>\n",
       "  </thead>\n",
       "  <tbody>\n",
       "    <tr>\n",
       "      <th>0</th>\n",
       "      <td>홍길동</td>\n",
       "      <td>02-302-3333</td>\n",
       "      <td>OK</td>\n",
       "    </tr>\n",
       "    <tr>\n",
       "      <th>1</th>\n",
       "      <td>김길동</td>\n",
       "      <td>010-222-3334</td>\n",
       "      <td>OK</td>\n",
       "    </tr>\n",
       "    <tr>\n",
       "      <th>2</th>\n",
       "      <td>toto</td>\n",
       "      <td>010-222-3334</td>\n",
       "      <td>OK</td>\n",
       "    </tr>\n",
       "    <tr>\n",
       "      <th>3</th>\n",
       "      <td>NaN</td>\n",
       "      <td>02-302-3333</td>\n",
       "      <td>NOK</td>\n",
       "    </tr>\n",
       "    <tr>\n",
       "      <th>4</th>\n",
       "      <td>홍길동</td>\n",
       "      <td>7777777</td>\n",
       "      <td>OK</td>\n",
       "    </tr>\n",
       "  </tbody>\n",
       "</table>\n",
       "</div>"
      ],
      "text/plain": [
       "     이름          전화번호 이름체크\n",
       "0   홍길동   02-302-3333   OK\n",
       "1   김길동  010-222-3334   OK\n",
       "2  toto  010-222-3334   OK\n",
       "3   NaN   02-302-3333  NOK\n",
       "4   홍길동       7777777   OK"
      ]
     },
     "execution_count": 24,
     "metadata": {},
     "output_type": "execute_result"
    }
   ],
   "source": [
    "dat.loc[ dat['이름'].isnull() , \"이름체크\" ] = \"NOK\"\n",
    "dat.loc[ dat['이름'].notnull() , \"이름체크\" ] = \"OK\"\n",
    "dat"
   ]
  },
  {
   "cell_type": "markdown",
   "metadata": {},
   "source": [
    "##### 전화번호 문제 없는지 확인"
   ]
  },
  {
   "cell_type": "code",
   "execution_count": 25,
   "metadata": {},
   "outputs": [
    {
     "data": {
      "text/plain": [
       "0     True\n",
       "1     True\n",
       "2     True\n",
       "3     True\n",
       "4    False\n",
       "Name: 전화번호, dtype: bool"
      ]
     },
     "execution_count": 25,
     "metadata": {},
     "output_type": "execute_result"
    }
   ],
   "source": [
    "# 2,3글자 숫자-3,4글자 숫자-4글자 숫자\n",
    "dat['전화번호'].str.contains('\\d{2,3}-\\d{3,4}-\\d{4}')"
   ]
  },
  {
   "cell_type": "code",
   "execution_count": 26,
   "metadata": {},
   "outputs": [],
   "source": [
    "# 전화번호 확인\n",
    "ch_tel = dat['전화번호'].str.contains('\\d{2,3}-\\d{3,4}-\\d{4}')"
   ]
  },
  {
   "cell_type": "code",
   "execution_count": 27,
   "metadata": {},
   "outputs": [
    {
     "data": {
      "text/html": [
       "<div>\n",
       "<style scoped>\n",
       "    .dataframe tbody tr th:only-of-type {\n",
       "        vertical-align: middle;\n",
       "    }\n",
       "\n",
       "    .dataframe tbody tr th {\n",
       "        vertical-align: top;\n",
       "    }\n",
       "\n",
       "    .dataframe thead th {\n",
       "        text-align: right;\n",
       "    }\n",
       "</style>\n",
       "<table border=\"1\" class=\"dataframe\">\n",
       "  <thead>\n",
       "    <tr style=\"text-align: right;\">\n",
       "      <th></th>\n",
       "      <th>이름</th>\n",
       "      <th>전화번호</th>\n",
       "      <th>이름체크</th>\n",
       "      <th>전화번호체크</th>\n",
       "    </tr>\n",
       "  </thead>\n",
       "  <tbody>\n",
       "    <tr>\n",
       "      <th>0</th>\n",
       "      <td>홍길동</td>\n",
       "      <td>02-302-3333</td>\n",
       "      <td>OK</td>\n",
       "      <td>OK</td>\n",
       "    </tr>\n",
       "    <tr>\n",
       "      <th>1</th>\n",
       "      <td>김길동</td>\n",
       "      <td>010-222-3334</td>\n",
       "      <td>OK</td>\n",
       "      <td>OK</td>\n",
       "    </tr>\n",
       "    <tr>\n",
       "      <th>2</th>\n",
       "      <td>toto</td>\n",
       "      <td>010-222-3334</td>\n",
       "      <td>OK</td>\n",
       "      <td>OK</td>\n",
       "    </tr>\n",
       "    <tr>\n",
       "      <th>3</th>\n",
       "      <td>NaN</td>\n",
       "      <td>02-302-3333</td>\n",
       "      <td>NOK</td>\n",
       "      <td>OK</td>\n",
       "    </tr>\n",
       "    <tr>\n",
       "      <th>4</th>\n",
       "      <td>홍길동</td>\n",
       "      <td>7777777</td>\n",
       "      <td>OK</td>\n",
       "      <td>NOK</td>\n",
       "    </tr>\n",
       "  </tbody>\n",
       "</table>\n",
       "</div>"
      ],
      "text/plain": [
       "     이름          전화번호 이름체크 전화번호체크\n",
       "0   홍길동   02-302-3333   OK     OK\n",
       "1   김길동  010-222-3334   OK     OK\n",
       "2  toto  010-222-3334   OK     OK\n",
       "3   NaN   02-302-3333  NOK     OK\n",
       "4   홍길동       7777777   OK    NOK"
      ]
     },
     "execution_count": 27,
     "metadata": {},
     "output_type": "execute_result"
    }
   ],
   "source": [
    "dat.loc[ ch_tel , \"전화번호체크\" ] = \"OK\"\n",
    "dat.loc[ ~ch_tel , \"전화번호체크\" ] = \"NOK\"\n",
    "dat"
   ]
  },
  {
   "cell_type": "markdown",
   "metadata": {},
   "source": [
    "##### Pandas 이용 파일로 만들기\n",
    "* Pandas에서 ExcelWriter를 이용하면 기존의 엑셀 파일에 새로운 시트로 추가 가능.\n",
    "* to_excel()로 하게 되면 동일 파일 있을 경우, 기존 파일 삭제 후, 새 파일이 만들어짐."
   ]
  },
  {
   "cell_type": "code",
   "execution_count": 28,
   "metadata": {},
   "outputs": [],
   "source": [
    "writer = pd.ExcelWriter(\"주소록_chk.xlsx\", engine='openpyxl')\n",
    "dat_ori.to_excel(writer, sheet_name=\"sheet_ori\")\n",
    "dat.to_excel(writer, sheet_name=\"sheet_chk\")\n",
    "writer.save()"
   ]
  },
  {
   "cell_type": "code",
   "execution_count": null,
   "metadata": {},
   "outputs": [],
   "source": []
  }
 ],
 "metadata": {
  "kernelspec": {
   "display_name": "Python 3",
   "language": "python",
   "name": "python3"
  },
  "language_info": {
   "codemirror_mode": {
    "name": "ipython",
    "version": 3
   },
   "file_extension": ".py",
   "mimetype": "text/x-python",
   "name": "python",
   "nbconvert_exporter": "python",
   "pygments_lexer": "ipython3",
   "version": "3.8.5"
  }
 },
 "nbformat": 4,
 "nbformat_minor": 4
}
