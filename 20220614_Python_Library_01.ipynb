{
 "cells": [
  {
   "cell_type": "markdown",
   "metadata": {},
   "source": [
    "#### 함수 및 모듈 기본\n",
    "* 함수에 대해 이해하고, 함수를 실습을 통해 알아보기\n",
    "* 함수의 다양한 형태에 대해 알아보기\n",
    "* 람다(lambda) 함수 알아보기\n",
    "* 모듈에 대해 알아보고 직접 작성해보기\n",
    "* 많이 사용되는 외부 모듈 불러와서 직접 사용해보기"
   ]
  },
  {
   "cell_type": "code",
   "execution_count": 1,
   "metadata": {},
   "outputs": [
    {
     "name": "stdout",
     "output_type": "stream",
     "text": [
      "3 5\n",
      "3 5\n"
     ]
    }
   ],
   "source": [
    "a, b = input().split() # 입력시에 공백을 두어 입력을 수행\n",
    "print(a, b)"
   ]
  },
  {
   "cell_type": "code",
   "execution_count": 2,
   "metadata": {},
   "outputs": [
    {
     "name": "stdout",
     "output_type": "stream",
     "text": [
      "3 5\n"
     ]
    },
    {
     "ename": "ValueError",
     "evalue": "not enough values to unpack (expected 2, got 1)",
     "output_type": "error",
     "traceback": [
      "\u001b[1;31m---------------------------------------------------------------------------\u001b[0m",
      "\u001b[1;31mValueError\u001b[0m                                Traceback (most recent call last)",
      "\u001b[1;32m<ipython-input-2-74083ed467ef>\u001b[0m in \u001b[0;36m<module>\u001b[1;34m\u001b[0m\n\u001b[1;32m----> 1\u001b[1;33m \u001b[0ma\u001b[0m\u001b[1;33m,\u001b[0m \u001b[0mb\u001b[0m \u001b[1;33m=\u001b[0m \u001b[0minput\u001b[0m\u001b[1;33m(\u001b[0m\u001b[1;33m)\u001b[0m\u001b[1;33m.\u001b[0m\u001b[0msplit\u001b[0m\u001b[1;33m(\u001b[0m\u001b[1;34m\",\"\u001b[0m\u001b[1;33m)\u001b[0m \u001b[1;31m# 입력시에 ','을 기준으로 두 개의 값으로 구분\u001b[0m\u001b[1;33m\u001b[0m\u001b[1;33m\u001b[0m\u001b[0m\n\u001b[0m\u001b[0;32m      2\u001b[0m \u001b[0mprint\u001b[0m\u001b[1;33m(\u001b[0m\u001b[0ma\u001b[0m\u001b[1;33m,\u001b[0m \u001b[0mb\u001b[0m\u001b[1;33m)\u001b[0m\u001b[1;33m\u001b[0m\u001b[1;33m\u001b[0m\u001b[0m\n",
      "\u001b[1;31mValueError\u001b[0m: not enough values to unpack (expected 2, got 1)"
     ]
    }
   ],
   "source": [
    "a, b = input().split(\",\") # 입력시에 ','을 기준으로 두 개의 값으로 구분\n",
    "print(a, b)"
   ]
  },
  {
   "cell_type": "code",
   "execution_count": 3,
   "metadata": {},
   "outputs": [
    {
     "name": "stdout",
     "output_type": "stream",
     "text": [
      "3, 5\n",
      "3  5\n"
     ]
    }
   ],
   "source": [
    "a, b = input().split(\",\") # 입력시에 ','을 기준으로 두 개의 값으로 구분\n",
    "print(a, b)"
   ]
  },
  {
   "cell_type": "code",
   "execution_count": 4,
   "metadata": {},
   "outputs": [
    {
     "name": "stdout",
     "output_type": "stream",
     "text": [
      "8\n",
      "-2\n",
      "15\n"
     ]
    }
   ],
   "source": [
    "a = int(a)\n",
    "b = int(b)\n",
    "print(a+b)\n",
    "print(a-b)\n",
    "print(a*b)"
   ]
  },
  {
   "cell_type": "markdown",
   "metadata": {},
   "source": [
    "#### 같은 행동이 반복적으로 수행될 때 함수화 시키기"
   ]
  },
  {
   "cell_type": "code",
   "execution_count": 5,
   "metadata": {},
   "outputs": [],
   "source": [
    "def two_plus(a,b):\n",
    "    print(a + b)\n",
    "    print(a - b)\n",
    "    print(a * b)"
   ]
  },
  {
   "cell_type": "code",
   "execution_count": 6,
   "metadata": {},
   "outputs": [
    {
     "name": "stdout",
     "output_type": "stream",
     "text": [
      "4,10\n",
      "14\n",
      "-6\n",
      "40\n"
     ]
    }
   ],
   "source": [
    "a, b = input().split(\",\") # 입력받은 값을 공백을 기준으로 분리\n",
    "\n",
    "a = int(a)\n",
    "b = int(b)\n",
    "two_plus(a,b)"
   ]
  },
  {
   "cell_type": "markdown",
   "metadata": {},
   "source": [
    "#### [정리]\n",
    "* 함수화를 통해 코드의 반복을 줄일 수 있다.\n",
    "* 추후 공동작업 시 수정 및 기능 추가가 효율적이다."
   ]
  },
  {
   "cell_type": "markdown",
   "metadata": {},
   "source": [
    "##### 기본 구조 1"
   ]
  },
  {
   "cell_type": "raw",
   "metadata": {},
   "source": [
    "def 함수명 ():\n",
    "    실행문장1\n",
    "    실행문장1"
   ]
  },
  {
   "cell_type": "raw",
   "metadata": {},
   "source": [
    "# 실행을 위해서는 함수명을 재호출해야함.\n",
    "함수명()"
   ]
  },
  {
   "cell_type": "markdown",
   "metadata": {},
   "source": [
    "##### 기본 구조 2"
   ]
  },
  {
   "cell_type": "markdown",
   "metadata": {},
   "source": [
    "* 함수를 호출 시 값을 전달할 수 있다.\n",
    "* 정의하는 곳에서 이를 매개변수\n",
    "* 넘겨주는 쪽에서 이를 인수라 한다."
   ]
  },
  {
   "cell_type": "raw",
   "metadata": {},
   "source": [
    "def 함수명(매개변수1, 매개변수2):\n",
    "    실행문장1\n",
    "    실행문장1"
   ]
  },
  {
   "cell_type": "raw",
   "metadata": {},
   "source": [
    "# 실행을 위해서는 함수명을 재호출해야함.\n",
    "함수명(인자1, 인자2)"
   ]
  },
  {
   "cell_type": "code",
   "execution_count": 7,
   "metadata": {},
   "outputs": [],
   "source": [
    "def two_plus(a,b):   # a, b는 매개변수\n",
    "    print(a + b)\n",
    "    print(a - b)\n",
    "    print(a * b)"
   ]
  },
  {
   "cell_type": "code",
   "execution_count": 8,
   "metadata": {},
   "outputs": [
    {
     "name": "stdout",
     "output_type": "stream",
     "text": [
      "8\n",
      "-2\n",
      "15\n"
     ]
    }
   ],
   "source": [
    "a1 = 3\n",
    "b1 = 5\n",
    "two_plus(a1,b1)     # a1, b1은 인수"
   ]
  },
  {
   "cell_type": "markdown",
   "metadata": {},
   "source": [
    "#### 함께 해보기\n",
    "* 사칙 연산을 계산하는 함수를 작성해보자.\n",
    "* +, -, *, /, //, % 등을 계산해보기."
   ]
  },
  {
   "cell_type": "code",
   "execution_count": 9,
   "metadata": {},
   "outputs": [],
   "source": [
    "def yurim_Cal(a,b):   # a, b는 매개변수\n",
    "    print(a + b)\n",
    "    print(a - b)\n",
    "    print(a * b)\n",
    "    print(a / b)\n",
    "    print(a // b)\n",
    "    print(a % b)"
   ]
  },
  {
   "cell_type": "code",
   "execution_count": 10,
   "metadata": {},
   "outputs": [
    {
     "name": "stdout",
     "output_type": "stream",
     "text": [
      "34\n",
      "26\n",
      "120\n",
      "7.5\n",
      "7\n",
      "2\n"
     ]
    }
   ],
   "source": [
    "a = 30\n",
    "b = 4\n",
    "\n",
    "yurim_Cal(a,b)"
   ]
  },
  {
   "cell_type": "markdown",
   "metadata": {},
   "source": [
    "#### 생각해보기\n",
    "* 좀 더 나의 계산기를 업그레이드 시켜보자."
   ]
  },
  {
   "cell_type": "markdown",
   "metadata": {},
   "source": [
    "#### [추가] eval() 함수를 이용하여 연산 가능"
   ]
  },
  {
   "cell_type": "code",
   "execution_count": 11,
   "metadata": {},
   "outputs": [
    {
     "name": "stdout",
     "output_type": "stream",
     "text": [
      "8\n",
      "-12\n",
      "150\n"
     ]
    }
   ],
   "source": [
    "# 참고(예)\n",
    "print( eval( \"3+5\" ))\n",
    "print( eval( \"3-5-10\" ))\n",
    "print( eval( \"3*5*10\" ))"
   ]
  },
  {
   "cell_type": "markdown",
   "metadata": {},
   "source": [
    "##### 기본 구조 3\n",
    "* 함수 정의 블록에서 return 명령을 이용하여 함수 호출한 곳에 실행 후 값을 전달"
   ]
  },
  {
   "cell_type": "raw",
   "metadata": {},
   "source": [
    "def 함수명(매개변수1, 매개변수2):\n",
    "    실행문장1\n",
    "    실행문장2\n",
    "    return[전달내용]"
   ]
  },
  {
   "cell_type": "raw",
   "metadata": {},
   "source": [
    "# 실행을 위해서는 함수명 재호출해야함.\n",
    "var = 함수명(인자1, 인자2)"
   ]
  },
  {
   "cell_type": "code",
   "execution_count": 12,
   "metadata": {},
   "outputs": [],
   "source": [
    "def two_plus(a,b):\n",
    "    num1 = a+b\n",
    "    return num1"
   ]
  },
  {
   "cell_type": "code",
   "execution_count": 13,
   "metadata": {},
   "outputs": [
    {
     "name": "stdout",
     "output_type": "stream",
     "text": [
      "8\n"
     ]
    }
   ],
   "source": [
    "a = 3\n",
    "b = 5\n",
    "result = two_plus(a,b)\n",
    "print(result)"
   ]
  },
  {
   "cell_type": "markdown",
   "metadata": {},
   "source": [
    "#### 여러개의 값 전달하기"
   ]
  },
  {
   "cell_type": "code",
   "execution_count": 14,
   "metadata": {},
   "outputs": [],
   "source": [
    "def two_plus(a,b):\n",
    "    num1 = a+b\n",
    "    num2 = a-b\n",
    "    num3 = a*b\n",
    "    num4 = a/b\n",
    "    return num1, num2, num3, num4"
   ]
  },
  {
   "cell_type": "code",
   "execution_count": 15,
   "metadata": {},
   "outputs": [
    {
     "name": "stdout",
     "output_type": "stream",
     "text": [
      "더하기 : 8\n",
      "빼기 : -2\n",
      "곱하기 : 15\n",
      "나누기 : 0.6\n"
     ]
    }
   ],
   "source": [
    "a = 3\n",
    "b = 5\n",
    "r1, r2, r3, r4 = two_plus(a,b)\n",
    "print(\"더하기 :\", r1)\n",
    "print(\"빼기 :\", r2)\n",
    "print(\"곱하기 :\", r3)\n",
    "print(\"나누기 :\", r4)"
   ]
  },
  {
   "cell_type": "markdown",
   "metadata": {},
   "source": [
    "##### 기본 구조 4\n",
    "* 전달되는 입력값이 몇 개인지 모를 때 다음과 같이 여러개의 값 전달이 가능하다.\n",
    "* 입력되는 값의 개수가 때에 따라 다른 경우 사용한다."
   ]
  },
  {
   "cell_type": "raw",
   "metadata": {},
   "source": [
    "def 함수명(*매개변수):\n",
    "    실행문장1"
   ]
  },
  {
   "cell_type": "raw",
   "metadata": {},
   "source": [
    "# 실행을 위해서는 함수명을 재호출해야함.\n",
    "var = 함수명(인자1, 인자2)"
   ]
  },
  {
   "cell_type": "code",
   "execution_count": 16,
   "metadata": {},
   "outputs": [],
   "source": [
    "def mul_op(*args):\n",
    "    sum = 0\n",
    "    for i in args:\n",
    "        sum += i\n",
    "    return sum"
   ]
  },
  {
   "cell_type": "code",
   "execution_count": 17,
   "metadata": {},
   "outputs": [
    {
     "data": {
      "text/plain": [
       "15"
      ]
     },
     "execution_count": 17,
     "metadata": {},
     "output_type": "execute_result"
    }
   ],
   "source": [
    "mul_op(1, 2, 3, 4, 5)"
   ]
  },
  {
   "cell_type": "code",
   "execution_count": 18,
   "metadata": {},
   "outputs": [
    {
     "data": {
      "text/plain": [
       "12"
      ]
     },
     "execution_count": 18,
     "metadata": {},
     "output_type": "execute_result"
    }
   ],
   "source": [
    "mul_op(3, 4, 5)"
   ]
  },
  {
   "cell_type": "markdown",
   "metadata": {},
   "source": [
    "##### 기본 구조 5\n",
    "* 매개변수의 초기값 설정이 가능하다.\n",
    "* 함수를 호출 시 해당 값이 전달되지 않으면 초기값을 값으로 가진다."
   ]
  },
  {
   "cell_type": "raw",
   "metadata": {},
   "source": [
    "def 함수명(매개변수1, 매개변수2):\n",
    "    실행문장1"
   ]
  },
  {
   "cell_type": "raw",
   "metadata": {},
   "source": [
    "# 실행을 위해서는 함수명 재호출해야함.\n",
    "var = 함수명(인자1, 인자2)"
   ]
  },
  {
   "cell_type": "code",
   "execution_count": 19,
   "metadata": {},
   "outputs": [],
   "source": [
    "def two_op2(a,b=0):\n",
    "    num1 = a+b\n",
    "    num2 = a-b\n",
    "    return num1, num2"
   ]
  },
  {
   "cell_type": "code",
   "execution_count": 20,
   "metadata": {},
   "outputs": [
    {
     "name": "stdout",
     "output_type": "stream",
     "text": [
      "더하기 : 8\n",
      "빼기 : -2\n"
     ]
    }
   ],
   "source": [
    "a = 3\n",
    "b = 5\n",
    "\n",
    "r1, r2 = two_op2(a,b)\n",
    "print(\"더하기 :\", r1)\n",
    "print(\"빼기 :\", r2)"
   ]
  },
  {
   "cell_type": "markdown",
   "metadata": {},
   "source": [
    "#### 함수의 매개변수 값, b가 없을 경우."
   ]
  },
  {
   "cell_type": "code",
   "execution_count": 22,
   "metadata": {},
   "outputs": [
    {
     "name": "stdout",
     "output_type": "stream",
     "text": [
      "더하기 : 3\n",
      "빼기 : 3\n"
     ]
    }
   ],
   "source": [
    "a = 3\n",
    "r1, r2 = two_op2(a)      # 원래 인수가 없을 때 함수에서 정의된 초기값을 쓴다.\n",
    "print(\"더하기 :\", r1)    # 3+0\n",
    "print(\"빼기 :\", r2)      # 3-0"
   ]
  },
  {
   "cell_type": "markdown",
   "metadata": {},
   "source": [
    "#### 함께 해보기\n",
    "* 함수 실습해보기"
   ]
  },
  {
   "cell_type": "markdown",
   "metadata": {},
   "source": [
    "#### 무명함수(람다식) Lambda 함수 이해\n",
    "* 무명 함수는 이름은 없고 몸체만 있는 함수\n",
    "* 파이썬에서 무명함수는 lambda 키워드로 생성\n",
    "* 무명 함수는 여러 개 인수를 가질 수 있으나 반환값은 하나만 있어야 함.\n",
    "* 람다함수는 return문 없이 자동으로 return해준다."
   ]
  },
  {
   "cell_type": "raw",
   "metadata": {},
   "source": [
    "lambda 인수1, 인수2... : 수식(함수의 몸체)\n",
    "lambda arguments : 수식(expression)"
   ]
  },
  {
   "cell_type": "code",
   "execution_count": 23,
   "metadata": {},
   "outputs": [
    {
     "name": "stdout",
     "output_type": "stream",
     "text": [
      "두 수의 합 : 40\n"
     ]
    }
   ],
   "source": [
    "sum = lambda x, y:x + y;\n",
    "\n",
    "print(\"두 수의 합 :\", sum(10,30))"
   ]
  },
  {
   "cell_type": "code",
   "execution_count": 24,
   "metadata": {},
   "outputs": [
    {
     "name": "stdout",
     "output_type": "stream",
     "text": [
      "두 수의 합 : 40\n"
     ]
    }
   ],
   "source": [
    "# 함수 사용\n",
    "def two_sum(a,b):\n",
    "    return a+b\n",
    "\n",
    "print(\"두 수의 합 :\", two_sum(10,30))"
   ]
  },
  {
   "cell_type": "markdown",
   "metadata": {},
   "source": [
    "#### 람다 함수 정의 후, 표현식을 변수에 대입하면 익명함수 호출 가능\n",
    "#### 하나의 값 더하기"
   ]
  },
  {
   "cell_type": "code",
   "execution_count": 26,
   "metadata": {},
   "outputs": [
    {
     "name": "stdout",
     "output_type": "stream",
     "text": [
      "5에 1을 더하면 : 6\n"
     ]
    }
   ],
   "source": [
    "plus1_lambda = lambda x : x+1\n",
    "\n",
    "print(\"5에 1을 더하면 :\", plus1_lambda(5))"
   ]
  },
  {
   "cell_type": "code",
   "execution_count": 27,
   "metadata": {},
   "outputs": [
    {
     "name": "stdout",
     "output_type": "stream",
     "text": [
      "[6, 2]\n"
     ]
    }
   ],
   "source": [
    "# 리스트로부터 2의 배수만 추출\n",
    "my_list = [1, 3, 5, 6, 2, 3, 5]\n",
    "\n",
    "# filter (조건함수, 리스트와 같은 데이터) : 여러개의 데이터에서 일부 값 추출\n",
    "new_list = list(filter(lambda x : (x%2 == 0), my_list))\n",
    "print(new_list)"
   ]
  },
  {
   "cell_type": "markdown",
   "metadata": {},
   "source": [
    "#### map()함수와 함께 사용"
   ]
  },
  {
   "cell_type": "raw",
   "metadata": {},
   "source": [
    "map (함수, 리스트, 튜플 등)\n",
    "map (함수, 반복가능 item)"
   ]
  },
  {
   "cell_type": "code",
   "execution_count": 28,
   "metadata": {},
   "outputs": [
    {
     "name": "stdout",
     "output_type": "stream",
     "text": [
      "[2, 6, 10, 12, 4, 6, 10]\n"
     ]
    }
   ],
   "source": [
    "# 리스트로부터 2의 배수만 추출\n",
    "my_list = [1, 3, 5, 6, 2, 3, 5]\n",
    "\n",
    "# filter(조건함수, 리스트와 같은 데이터) : 여러개의 데이터에서 일부 값 추출\n",
    "new_list = list(map(lambda x : x*2, my_list))\n",
    "print(new_list)"
   ]
  },
  {
   "cell_type": "markdown",
   "metadata": {},
   "source": [
    "#### 모듈(module)과 import 알아보기\n",
    "* 모듈이란 함수나 변수 또는 클래스를 모아놓은 파일\n",
    "* 다른 파이썬 프로그램에서 불러와 사용할 수 있도록 만든 파이썬 파일"
   ]
  },
  {
   "cell_type": "markdown",
   "metadata": {},
   "source": [
    "#### 내가 직접 모듈 만들어 사용해보기"
   ]
  },
  {
   "cell_type": "raw",
   "metadata": {},
   "source": [
    "파일 만들기 mymod.py\n",
    "\n",
    "def mod_two_op(a,b=0):\n",
    "    num1 = a+b\n",
    "    num2 = a-b\n",
    "    return num1, num2"
   ]
  },
  {
   "cell_type": "markdown",
   "metadata": {},
   "source": [
    "#### 모듈 불러오기 (import 명령어 실행)"
   ]
  },
  {
   "cell_type": "raw",
   "metadata": {},
   "source": [
    "[syntax] import 모듈이름"
   ]
  },
  {
   "cell_type": "code",
   "execution_count": 29,
   "metadata": {},
   "outputs": [],
   "source": [
    "import mymod"
   ]
  },
  {
   "cell_type": "code",
   "execution_count": 30,
   "metadata": {},
   "outputs": [
    {
     "name": "stdout",
     "output_type": "stream",
     "text": [
      "두 값의 합 : 15\n",
      "두 값의 차 : -5\n"
     ]
    }
   ],
   "source": [
    "a = 5\n",
    "b = 10\n",
    "n1, n2 = mymod.mod_two_op(a,b)\n",
    "\n",
    "print(\"두 값의 합 :\", n1)\n",
    "print(\"두 값의 차 :\", n2)"
   ]
  },
  {
   "cell_type": "markdown",
   "metadata": {},
   "source": [
    "#### 외부 모듈 사용해보기\n",
    "* os 모듈 : 시스템의 디렉터리, 파일, os 자원을 제어할 수 있게 해주는 모듈\n",
    "* shutil : 파일 복사 모듈\n",
    "* time : 시간 관련 모듈\n",
    "* random : 난수(규칙이 없는 임의의 수)를 발생시키는 모듈"
   ]
  },
  {
   "cell_type": "code",
   "execution_count": null,
   "metadata": {},
   "outputs": [],
   "source": []
  }
 ],
 "metadata": {
  "kernelspec": {
   "display_name": "Python 3",
   "language": "python",
   "name": "python3"
  },
  "language_info": {
   "codemirror_mode": {
    "name": "ipython",
    "version": 3
   },
   "file_extension": ".py",
   "mimetype": "text/x-python",
   "name": "python",
   "nbconvert_exporter": "python",
   "pygments_lexer": "ipython3",
   "version": "3.8.5"
  }
 },
 "nbformat": 4,
 "nbformat_minor": 4
}
