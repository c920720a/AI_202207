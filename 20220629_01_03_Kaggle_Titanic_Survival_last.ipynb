{
 "cells": [
  {
   "cell_type": "code",
   "execution_count": 1,
   "metadata": {},
   "outputs": [],
   "source": [
    "import pandas as pd\n",
    "import matplotlib.pyplot as plt\n",
    "import seaborn as sns"
   ]
  },
  {
   "cell_type": "code",
   "execution_count": 2,
   "metadata": {},
   "outputs": [],
   "source": [
    "train = pd.read_csv(\"data/titanic/train.csv\")\n",
    "test = pd.read_csv(\"data/titanic/test.csv\")\n",
    "sub = pd.read_csv(\"data/titanic/gender_submission.csv\")"
   ]
  },
  {
   "cell_type": "code",
   "execution_count": 3,
   "metadata": {},
   "outputs": [
    {
     "name": "stdout",
     "output_type": "stream",
     "text": [
      "<class 'pandas.core.frame.DataFrame'>\n",
      "RangeIndex: 891 entries, 0 to 890\n",
      "Data columns (total 12 columns):\n",
      " #   Column       Non-Null Count  Dtype  \n",
      "---  ------       --------------  -----  \n",
      " 0   PassengerId  891 non-null    int64  \n",
      " 1   Survived     891 non-null    int64  \n",
      " 2   Pclass       891 non-null    int64  \n",
      " 3   Name         891 non-null    object \n",
      " 4   Sex          891 non-null    object \n",
      " 5   Age          714 non-null    float64\n",
      " 6   SibSp        891 non-null    int64  \n",
      " 7   Parch        891 non-null    int64  \n",
      " 8   Ticket       891 non-null    object \n",
      " 9   Fare         891 non-null    float64\n",
      " 10  Cabin        204 non-null    object \n",
      " 11  Embarked     889 non-null    object \n",
      "dtypes: float64(2), int64(5), object(5)\n",
      "memory usage: 83.7+ KB\n"
     ]
    }
   ],
   "source": [
    "train.info()"
   ]
  },
  {
   "cell_type": "code",
   "execution_count": 4,
   "metadata": {},
   "outputs": [
    {
     "data": {
      "text/plain": [
       "dtype('int64')"
      ]
     },
     "execution_count": 4,
     "metadata": {},
     "output_type": "execute_result"
    }
   ],
   "source": [
    "train['Survived'].dtype"
   ]
  },
  {
   "cell_type": "code",
   "execution_count": 5,
   "metadata": {},
   "outputs": [
    {
     "name": "stdout",
     "output_type": "stream",
     "text": [
      "['PassengerId', 'Survived', 'Pclass', 'Age', 'SibSp', 'Parch', 'Fare']\n"
     ]
    },
    {
     "data": {
      "text/html": [
       "<div>\n",
       "<style scoped>\n",
       "    .dataframe tbody tr th:only-of-type {\n",
       "        vertical-align: middle;\n",
       "    }\n",
       "\n",
       "    .dataframe tbody tr th {\n",
       "        vertical-align: top;\n",
       "    }\n",
       "\n",
       "    .dataframe thead th {\n",
       "        text-align: right;\n",
       "    }\n",
       "</style>\n",
       "<table border=\"1\" class=\"dataframe\">\n",
       "  <thead>\n",
       "    <tr style=\"text-align: right;\">\n",
       "      <th></th>\n",
       "      <th>PassengerId</th>\n",
       "      <th>Survived</th>\n",
       "      <th>Pclass</th>\n",
       "      <th>Age</th>\n",
       "      <th>SibSp</th>\n",
       "      <th>Parch</th>\n",
       "      <th>Fare</th>\n",
       "    </tr>\n",
       "  </thead>\n",
       "  <tbody>\n",
       "    <tr>\n",
       "      <th>count</th>\n",
       "      <td>891.000000</td>\n",
       "      <td>891.000000</td>\n",
       "      <td>891.000000</td>\n",
       "      <td>714.000000</td>\n",
       "      <td>891.000000</td>\n",
       "      <td>891.000000</td>\n",
       "      <td>891.000000</td>\n",
       "    </tr>\n",
       "    <tr>\n",
       "      <th>mean</th>\n",
       "      <td>446.000000</td>\n",
       "      <td>0.383838</td>\n",
       "      <td>2.308642</td>\n",
       "      <td>29.699118</td>\n",
       "      <td>0.523008</td>\n",
       "      <td>0.381594</td>\n",
       "      <td>32.204208</td>\n",
       "    </tr>\n",
       "    <tr>\n",
       "      <th>std</th>\n",
       "      <td>257.353842</td>\n",
       "      <td>0.486592</td>\n",
       "      <td>0.836071</td>\n",
       "      <td>14.526497</td>\n",
       "      <td>1.102743</td>\n",
       "      <td>0.806057</td>\n",
       "      <td>49.693429</td>\n",
       "    </tr>\n",
       "    <tr>\n",
       "      <th>min</th>\n",
       "      <td>1.000000</td>\n",
       "      <td>0.000000</td>\n",
       "      <td>1.000000</td>\n",
       "      <td>0.420000</td>\n",
       "      <td>0.000000</td>\n",
       "      <td>0.000000</td>\n",
       "      <td>0.000000</td>\n",
       "    </tr>\n",
       "    <tr>\n",
       "      <th>25%</th>\n",
       "      <td>223.500000</td>\n",
       "      <td>0.000000</td>\n",
       "      <td>2.000000</td>\n",
       "      <td>20.125000</td>\n",
       "      <td>0.000000</td>\n",
       "      <td>0.000000</td>\n",
       "      <td>7.910400</td>\n",
       "    </tr>\n",
       "    <tr>\n",
       "      <th>50%</th>\n",
       "      <td>446.000000</td>\n",
       "      <td>0.000000</td>\n",
       "      <td>3.000000</td>\n",
       "      <td>28.000000</td>\n",
       "      <td>0.000000</td>\n",
       "      <td>0.000000</td>\n",
       "      <td>14.454200</td>\n",
       "    </tr>\n",
       "    <tr>\n",
       "      <th>75%</th>\n",
       "      <td>668.500000</td>\n",
       "      <td>1.000000</td>\n",
       "      <td>3.000000</td>\n",
       "      <td>38.000000</td>\n",
       "      <td>1.000000</td>\n",
       "      <td>0.000000</td>\n",
       "      <td>31.000000</td>\n",
       "    </tr>\n",
       "    <tr>\n",
       "      <th>max</th>\n",
       "      <td>891.000000</td>\n",
       "      <td>1.000000</td>\n",
       "      <td>3.000000</td>\n",
       "      <td>80.000000</td>\n",
       "      <td>8.000000</td>\n",
       "      <td>6.000000</td>\n",
       "      <td>512.329200</td>\n",
       "    </tr>\n",
       "  </tbody>\n",
       "</table>\n",
       "</div>"
      ],
      "text/plain": [
       "       PassengerId    Survived      Pclass         Age       SibSp  \\\n",
       "count   891.000000  891.000000  891.000000  714.000000  891.000000   \n",
       "mean    446.000000    0.383838    2.308642   29.699118    0.523008   \n",
       "std     257.353842    0.486592    0.836071   14.526497    1.102743   \n",
       "min       1.000000    0.000000    1.000000    0.420000    0.000000   \n",
       "25%     223.500000    0.000000    2.000000   20.125000    0.000000   \n",
       "50%     446.000000    0.000000    3.000000   28.000000    0.000000   \n",
       "75%     668.500000    1.000000    3.000000   38.000000    1.000000   \n",
       "max     891.000000    1.000000    3.000000   80.000000    8.000000   \n",
       "\n",
       "            Parch        Fare  \n",
       "count  891.000000  891.000000  \n",
       "mean     0.381594   32.204208  \n",
       "std      0.806057   49.693429  \n",
       "min      0.000000    0.000000  \n",
       "25%      0.000000    7.910400  \n",
       "50%      0.000000   14.454200  \n",
       "75%      0.000000   31.000000  \n",
       "max      6.000000  512.329200  "
      ]
     },
     "execution_count": 5,
     "metadata": {},
     "output_type": "execute_result"
    }
   ],
   "source": [
    "num_cols = [col for col in train.columns[:12] \n",
    "               if train[col].dtype in ['int64', 'float64'] ]\n",
    "\n",
    "print(num_cols)\n",
    "train[num_cols].describe()"
   ]
  },
  {
   "cell_type": "code",
   "execution_count": 6,
   "metadata": {},
   "outputs": [
    {
     "name": "stdout",
     "output_type": "stream",
     "text": [
      "['Name', 'Sex', 'Ticket', 'Cabin', 'Embarked']\n"
     ]
    },
    {
     "data": {
      "text/html": [
       "<div>\n",
       "<style scoped>\n",
       "    .dataframe tbody tr th:only-of-type {\n",
       "        vertical-align: middle;\n",
       "    }\n",
       "\n",
       "    .dataframe tbody tr th {\n",
       "        vertical-align: top;\n",
       "    }\n",
       "\n",
       "    .dataframe thead th {\n",
       "        text-align: right;\n",
       "    }\n",
       "</style>\n",
       "<table border=\"1\" class=\"dataframe\">\n",
       "  <thead>\n",
       "    <tr style=\"text-align: right;\">\n",
       "      <th></th>\n",
       "      <th>Name</th>\n",
       "      <th>Sex</th>\n",
       "      <th>Ticket</th>\n",
       "      <th>Cabin</th>\n",
       "      <th>Embarked</th>\n",
       "    </tr>\n",
       "  </thead>\n",
       "  <tbody>\n",
       "    <tr>\n",
       "      <th>count</th>\n",
       "      <td>891</td>\n",
       "      <td>891</td>\n",
       "      <td>891</td>\n",
       "      <td>204</td>\n",
       "      <td>889</td>\n",
       "    </tr>\n",
       "    <tr>\n",
       "      <th>unique</th>\n",
       "      <td>891</td>\n",
       "      <td>2</td>\n",
       "      <td>681</td>\n",
       "      <td>147</td>\n",
       "      <td>3</td>\n",
       "    </tr>\n",
       "    <tr>\n",
       "      <th>top</th>\n",
       "      <td>Albimona, Mr. Nassef Cassem</td>\n",
       "      <td>male</td>\n",
       "      <td>CA. 2343</td>\n",
       "      <td>C23 C25 C27</td>\n",
       "      <td>S</td>\n",
       "    </tr>\n",
       "    <tr>\n",
       "      <th>freq</th>\n",
       "      <td>1</td>\n",
       "      <td>577</td>\n",
       "      <td>7</td>\n",
       "      <td>4</td>\n",
       "      <td>644</td>\n",
       "    </tr>\n",
       "  </tbody>\n",
       "</table>\n",
       "</div>"
      ],
      "text/plain": [
       "                               Name   Sex    Ticket        Cabin Embarked\n",
       "count                           891   891       891          204      889\n",
       "unique                          891     2       681          147        3\n",
       "top     Albimona, Mr. Nassef Cassem  male  CA. 2343  C23 C25 C27        S\n",
       "freq                              1   577         7            4      644"
      ]
     },
     "execution_count": 6,
     "metadata": {},
     "output_type": "execute_result"
    }
   ],
   "source": [
    "# 범주형 변수 살펴보기\n",
    "\n",
    "cat_cols = [col for col in train.columns[:12] \n",
    "                  if train[col].dtype in ['O'] ]\n",
    "\n",
    "print(cat_cols)\n",
    "\n",
    "train[cat_cols].describe()"
   ]
  },
  {
   "cell_type": "code",
   "execution_count": 7,
   "metadata": {},
   "outputs": [
    {
     "name": "stdout",
     "output_type": "stream",
     "text": [
      "colname : Name, uniq : ['Abbing, Mr. Anthony' 'Abbott, Mr. Rossmore Edward'\n",
      " 'Abbott, Mrs. Stanton (Rosa Hunt)' 'Abelson, Mr. Samuel'\n",
      " 'Abelson, Mrs. Samuel (Hannah Wizosky)' 'Adahl, Mr. Mauritz Nils Martin'\n",
      " 'Adams, Mr. John' 'Ahlin, Mrs. Johan (Johanna Persdotter Larsson)'\n",
      " 'Aks, Mrs. Sam (Leah Rosen)' 'Albimona, Mr. Nassef Cassem'\n",
      " 'Alexander, Mr. William' 'Alhomaki, Mr. Ilmari Rudolf' 'Ali, Mr. Ahmed'\n",
      " 'Ali, Mr. William' 'Allen, Miss. Elisabeth Walton'\n",
      " 'Allen, Mr. William Henry' 'Allison, Master. Hudson Trevor'\n",
      " 'Allison, Miss. Helen Loraine'\n",
      " 'Allison, Mrs. Hudson J C (Bessie Waldo Daniels)'\n",
      " 'Allum, Mr. Owen George'\n",
      " 'Andersen-Jensen, Miss. Carla Christine Nielsine' 'Anderson, Mr. Harry'\n",
      " 'Andersson, Master. Sigvard Harald Elias'\n",
      " 'Andersson, Miss. Ebba Iris Alfrida' 'Andersson, Miss. Ellis Anna Maria'\n",
      " 'Andersson, Miss. Erna Alexandra' 'Andersson, Miss. Ingeborg Constanzia'\n",
      " 'Andersson, Miss. Sigrid Elisabeth' 'Andersson, Mr. Anders Johan'\n",
      " 'Andersson, Mr. August Edvard (\"Wennerstrom\")'\n",
      " 'Andersson, Mrs. Anders Johan (Alfrida Konstantia Brogren)'\n",
      " 'Andreasson, Mr. Paul Edvin' 'Andrew, Mr. Edgardo Samuel'\n",
      " 'Andrews, Miss. Kornelia Theodosia' 'Andrews, Mr. Thomas Jr'\n",
      " 'Angle, Mrs. William A (Florence \"Mary\" Agnes Hughes)'\n",
      " 'Appleton, Mrs. Edward Dale (Charlotte Lamson)'\n",
      " 'Arnold-Franchi, Mr. Josef'\n",
      " 'Arnold-Franchi, Mrs. Josef (Josefine Franchi)' 'Artagaveytia, Mr. Ramon'\n",
      " 'Asim, Mr. Adola' 'Asplund, Master. Clarence Gustaf Hugo'\n",
      " 'Asplund, Master. Edvin Rojj Felix' 'Asplund, Miss. Lillian Gertrud'\n",
      " 'Asplund, Mrs. Carl Oscar (Selma Augusta Emilia Johansson)'\n",
      " 'Astor, Mrs. John Jacob (Madeleine Talmadge Force)'\n",
      " 'Attalah, Miss. Malake' 'Attalah, Mr. Sleiman'\n",
      " 'Aubart, Mme. Leontine Pauline' 'Augustsson, Mr. Albert'\n",
      " 'Ayoub, Miss. Banoura' 'Backstrom, Mr. Karl Alfred'\n",
      " 'Backstrom, Mrs. Karl Alfred (Maria Mathilda Gustafsson)'\n",
      " 'Baclini, Miss. Eugenie' 'Baclini, Miss. Helene Barbara'\n",
      " 'Baclini, Miss. Marie Catherine' 'Baclini, Mrs. Solomon (Latifa Qurban)'\n",
      " 'Badt, Mr. Mohamed' 'Bailey, Mr. Percy Andrew' 'Balkic, Mr. Cerin'\n",
      " 'Ball, Mrs. (Ada E Hall)' 'Banfield, Mr. Frederick James'\n",
      " 'Barah, Mr. Hanna Assi' 'Barbara, Miss. Saiide'\n",
      " 'Barbara, Mrs. (Catherine David)' 'Barber, Miss. Ellen \"Nellie\"'\n",
      " 'Barkworth, Mr. Algernon Henry Wilson' 'Barton, Mr. David John'\n",
      " 'Bateman, Rev. Robert James' 'Baumann, Mr. John D'\n",
      " 'Baxter, Mr. Quigg Edmond'\n",
      " 'Baxter, Mrs. James (Helene DeLaudeniere Chaput)' 'Bazzani, Miss. Albina'\n",
      " 'Beane, Mr. Edward' 'Beane, Mrs. Edward (Ethel Clarke)'\n",
      " 'Beavan, Mr. William Thomas' 'Becker, Master. Richard F'\n",
      " 'Becker, Miss. Marion Louise' 'Beckwith, Mr. Richard Leonard'\n",
      " 'Beckwith, Mrs. Richard Leonard (Sallie Monypeny)'\n",
      " 'Beesley, Mr. Lawrence' 'Behr, Mr. Karl Howell'\n",
      " 'Bengtsson, Mr. John Viktor' 'Berglund, Mr. Karl Ivar Sven'\n",
      " 'Berriman, Mr. William John' 'Betros, Mr. Tannous'\n",
      " 'Bidois, Miss. Rosalie' 'Bing, Mr. Lee'\n",
      " 'Birkeland, Mr. Hans Martin Monsen' 'Bishop, Mr. Dickinson H'\n",
      " 'Bishop, Mrs. Dickinson H (Helen Walton)' 'Bissette, Miss. Amelia'\n",
      " 'Bjornstrom-Steffansson, Mr. Mauritz Hakan'\n",
      " 'Blackwell, Mr. Stephen Weart' 'Blank, Mr. Henry'\n",
      " 'Bonnell, Miss. Elizabeth' 'Bostandyeff, Mr. Guentcho'\n",
      " 'Boulos, Miss. Nourelain' 'Boulos, Mr. Hanna'\n",
      " 'Boulos, Mrs. Joseph (Sultana)' 'Bourke, Miss. Mary' 'Bourke, Mr. John'\n",
      " 'Bourke, Mrs. John (Catherine)' 'Bowen, Mr. David John \"Dai\"'\n",
      " 'Bowerman, Miss. Elsie Edith' 'Bracken, Mr. James H'\n",
      " 'Bradley, Mr. George (\"George Arthur Brayton\")'\n",
      " 'Braund, Mr. Lewis Richard' 'Braund, Mr. Owen Harris'\n",
      " 'Brewe, Dr. Arthur Jackson' 'Brocklebank, Mr. William Alfred'\n",
      " 'Brown, Miss. Amelia \"Mildred\"' 'Brown, Mr. Thomas William Solomon'\n",
      " 'Brown, Mrs. James Joseph (Margaret Tobin)'\n",
      " 'Brown, Mrs. Thomas William Solomon (Elizabeth Catherine Ford)'\n",
      " 'Bryhl, Mr. Kurt Arnold Gottfrid' 'Burke, Mr. Jeremiah'\n",
      " 'Burns, Miss. Elizabeth Margaret' 'Buss, Miss. Kate'\n",
      " 'Butler, Mr. Reginald Fenton' 'Butt, Major. Archibald Willingham'\n",
      " 'Byles, Rev. Thomas Roussel Davids' 'Bystrom, Mrs. (Karolina)'\n",
      " 'Cacic, Miss. Marija' 'Cacic, Mr. Luka' 'Cairns, Mr. Alexander'\n",
      " 'Calderhead, Mr. Edward Pennington' 'Caldwell, Master. Alden Gates'\n",
      " 'Caldwell, Mrs. Albert Francis (Sylvia Mae Harbaugh)' 'Calic, Mr. Jovo'\n",
      " 'Calic, Mr. Petar' 'Cameron, Miss. Clear Annie' 'Campbell, Mr. William'\n",
      " 'Canavan, Miss. Mary' 'Cann, Mr. Ernest Charles'\n",
      " 'Caram, Mrs. Joseph (Maria Elias)' 'Carbines, Mr. William'\n",
      " 'Cardeza, Mr. Thomas Drake Martinez' 'Carlsson, Mr. August Sigfrid'\n",
      " 'Carlsson, Mr. Frans Olof' 'Carr, Miss. Helen \"Ellen\"'\n",
      " 'Carrau, Mr. Francisco M' 'Carter, Master. William Thornton II'\n",
      " 'Carter, Miss. Lucile Polk' 'Carter, Mr. William Ernest'\n",
      " 'Carter, Mrs. Ernest Courtenay (Lilian Hughes)'\n",
      " 'Carter, Mrs. William Ernest (Lucile Polk)'\n",
      " 'Carter, Rev. Ernest Courtenay' 'Cavendish, Mr. Tyrell William'\n",
      " 'Celotti, Mr. Francesco' 'Chaffee, Mr. Herbert Fuller'\n",
      " 'Chambers, Mr. Norman Campbell'\n",
      " 'Chambers, Mrs. Norman Campbell (Bertha Griggs)'\n",
      " 'Chapman, Mr. Charles Henry' 'Chapman, Mr. John Henry'\n",
      " 'Charters, Mr. David' 'Cherry, Miss. Gladys'\n",
      " 'Chibnall, Mrs. (Edith Martha Bowerman)' 'Chip, Mr. Chang'\n",
      " 'Christmann, Mr. Emil' 'Christy, Miss. Julie Rachel'\n",
      " 'Chronopoulos, Mr. Apostolos'\n",
      " 'Clarke, Mrs. Charles V (Ada Maria Winfield)' 'Cleaver, Miss. Alice'\n",
      " 'Clifford, Mr. George Quincy' 'Coelho, Mr. Domingos Fernandeo'\n",
      " 'Cohen, Mr. Gurshon \"Gus\"' 'Coleff, Mr. Peju' 'Coleff, Mr. Satio'\n",
      " 'Coleridge, Mr. Reginald Charles' 'Collander, Mr. Erik Gustaf'\n",
      " 'Colley, Mr. Edward Pomeroy' 'Collyer, Miss. Marjorie \"Lottie\"'\n",
      " 'Collyer, Mr. Harvey' 'Collyer, Mrs. Harvey (Charlotte Annie Tate)'\n",
      " 'Compton, Miss. Sara Rebecca' 'Connaghton, Mr. Michael'\n",
      " 'Connolly, Miss. Kate' 'Connors, Mr. Patrick' 'Cook, Mr. Jacob'\n",
      " 'Cor, Mr. Liudevit' 'Corn, Mr. Harry'\n",
      " 'Coutts, Master. Eden Leslie \"Neville\"'\n",
      " 'Coutts, Master. William Loch \"William\"' 'Coxon, Mr. Daniel'\n",
      " 'Crease, Mr. Ernest James' 'Cribb, Mr. John Hatfield'\n",
      " 'Crosby, Capt. Edward Gifford' 'Crosby, Miss. Harriet R'\n",
      " 'Culumovic, Mr. Jeso'\n",
      " 'Cumings, Mrs. John Bradley (Florence Briggs Thayer)'\n",
      " 'Cunningham, Mr. Alfred Fleming' 'Dahl, Mr. Karl Edwart'\n",
      " 'Dahlberg, Miss. Gerda Ulrika' 'Dakic, Mr. Branko'\n",
      " 'Daly, Mr. Eugene Patrick' 'Daly, Mr. Peter Denis '\n",
      " 'Danbom, Mr. Ernst Gilbert'\n",
      " 'Danbom, Mrs. Ernst Gilbert (Anna Sigrid Maria Brogren)'\n",
      " 'Daniel, Mr. Robert Williams' 'Danoff, Mr. Yoto' 'Dantcheff, Mr. Ristiu'\n",
      " 'Davidson, Mr. Thornton' 'Davies, Master. John Morgan Jr'\n",
      " 'Davies, Mr. Alfred J' 'Davies, Mr. Charles Henry' 'Davis, Miss. Mary'\n",
      " 'Davison, Mrs. Thomas Henry (Mary E Finck)' 'Dean, Master. Bertram Vere'\n",
      " 'Dean, Mr. Bertram Frank' 'Denkoff, Mr. Mitto' 'Dennis, Mr. Samuel'\n",
      " 'Devaney, Miss. Margaret Delia' 'Dick, Mr. Albert Adrian'\n",
      " 'Dick, Mrs. Albert Adrian (Vera Gillespie)' 'Dimic, Mr. Jovan'\n",
      " 'Dodge, Master. Washington' 'Doharr, Mr. Tannous' 'Doling, Miss. Elsie'\n",
      " 'Doling, Mrs. John T (Ada Julia Bone)' 'Dooley, Mr. Patrick'\n",
      " 'Dorking, Mr. Edward Arthur' 'Douglas, Mr. Walter Donald'\n",
      " 'Dowdell, Miss. Elizabeth' 'Downton, Mr. William James'\n",
      " 'Drazenoic, Mr. Jozef' 'Drew, Mrs. James Vivian (Lulu Thorne Christian)'\n",
      " 'Duane, Mr. Frank'\n",
      " 'Duff Gordon, Lady. (Lucille Christiana Sutherland) (\"Mrs Morgan\")'\n",
      " 'Duff Gordon, Sir. Cosmo Edmund (\"Mr Morgan\")'\n",
      " 'Duran y More, Miss. Asuncion' 'Edvardsson, Mr. Gustaf Hjalmar'\n",
      " 'Eitemiller, Mr. George Floyd' 'Eklund, Mr. Hans Linus'\n",
      " 'Ekstrom, Mr. Johan' 'Elias, Mr. Dibo' 'Elias, Mr. Joseph Jr'\n",
      " 'Elias, Mr. Tannous' 'Elsbury, Mr. William James'\n",
      " 'Emanuel, Miss. Virginia Ethel' 'Emir, Mr. Farred Chehab'\n",
      " 'Endres, Miss. Caroline Louise' 'Eustis, Miss. Elizabeth Mussey'\n",
      " 'Fahlstrom, Mr. Arne Jonas' 'Farrell, Mr. James' 'Farthing, Mr. John'\n",
      " 'Faunthorpe, Mrs. Lizzie (Elizabeth Anne Wilkinson)'\n",
      " 'Fischer, Mr. Eberhard Thelander' 'Fleming, Miss. Margaret'\n",
      " 'Flynn, Mr. James' 'Flynn, Mr. John' 'Flynn, Mr. John Irwin (\"Irving\")'\n",
      " 'Foo, Mr. Choong' 'Ford, Miss. Doolina Margaret \"Daisy\"'\n",
      " 'Ford, Miss. Robina Maggie \"Ruby\"' 'Ford, Mr. William Neal'\n",
      " 'Ford, Mrs. Edward (Margaret Ann Watson)'\n",
      " 'Foreman, Mr. Benjamin Laventall' 'Fortune, Miss. Alice Elizabeth'\n",
      " 'Fortune, Miss. Mabel Helen' 'Fortune, Mr. Charles Alexander'\n",
      " 'Fortune, Mr. Mark' 'Fox, Mr. Stanley Hubert'\n",
      " 'Francatelli, Miss. Laura Mabel' 'Frauenthal, Dr. Henry William'\n",
      " 'Frauenthal, Mrs. Henry William (Clara Heinsheimer)'\n",
      " 'Frolicher, Miss. Hedwig Margaritha' 'Frolicher-Stehli, Mr. Maxmillian'\n",
      " 'Frost, Mr. Anthony Wood \"Archie\"' 'Fry, Mr. Richard'\n",
      " 'Funk, Miss. Annie Clemmer' 'Futrelle, Mr. Jacques Heath'\n",
      " 'Futrelle, Mrs. Jacques Heath (Lily May Peel)' 'Fynney, Mr. Joseph J'\n",
      " 'Gale, Mr. Shadrach' 'Gallagher, Mr. Martin' 'Garfirth, Mr. John'\n",
      " 'Garside, Miss. Ethel' 'Gaskell, Mr. Alfred' 'Gavey, Mr. Lawrence'\n",
      " 'Gee, Mr. Arthur H' 'Gheorgheff, Mr. Stanio' 'Giglio, Mr. Victor'\n",
      " 'Giles, Mr. Frederick Edward' 'Gilinski, Mr. Eliezer'\n",
      " 'Gill, Mr. John William' 'Gillespie, Mr. William Henry'\n",
      " 'Gilnagh, Miss. Katherine \"Katie\"' 'Givard, Mr. Hans Kristensen'\n",
      " 'Glynn, Miss. Mary Agatha' 'Goldenberg, Mr. Samuel L'\n",
      " 'Goldenberg, Mrs. Samuel L (Edwiga Grabowska)'\n",
      " 'Goldschmidt, Mr. George B'\n",
      " 'Goldsmith, Master. Frank John William \"Frankie\"'\n",
      " 'Goldsmith, Mr. Frank John'\n",
      " 'Goldsmith, Mrs. Frank John (Emily Alice Brown)'\n",
      " 'Goncalves, Mr. Manuel Estanslas' 'Goodwin, Master. Harold Victor'\n",
      " 'Goodwin, Master. Sidney Leonard' 'Goodwin, Master. William Frederick'\n",
      " 'Goodwin, Miss. Lillian Amy' 'Goodwin, Mr. Charles Edward'\n",
      " 'Goodwin, Mrs. Frederick (Augusta Tyler)' 'Graham, Miss. Margaret Edith'\n",
      " 'Graham, Mr. George Edward'\n",
      " 'Graham, Mrs. William Thompson (Edith Junkins)' 'Green, Mr. George Henry'\n",
      " 'Greenberg, Mr. Samuel' 'Greenfield, Mr. William Bertram'\n",
      " 'Gronnestad, Mr. Daniel Danielsen' 'Guggenheim, Mr. Benjamin'\n",
      " 'Gustafsson, Mr. Alfred Ossian' 'Gustafsson, Mr. Anders Vilhelm'\n",
      " 'Gustafsson, Mr. Johan Birger' 'Gustafsson, Mr. Karl Gideon'\n",
      " 'Haas, Miss. Aloisia' 'Hagland, Mr. Ingvald Olai Olsen'\n",
      " 'Hagland, Mr. Konrad Mathias Reiersen' 'Hakkarainen, Mr. Pekka Pietari'\n",
      " 'Hakkarainen, Mrs. Pekka Pietari (Elin Matilda Dolck)'\n",
      " 'Hale, Mr. Reginald' 'Hamalainen, Master. Viljo'\n",
      " 'Hamalainen, Mrs. William (Anna)' 'Hampe, Mr. Leon' 'Hanna, Mr. Mansour'\n",
      " 'Hansen, Mr. Claus Peter' 'Hansen, Mr. Henrik Juul'\n",
      " 'Hansen, Mr. Henry Damsgaard' 'Harder, Mr. George Achilles'\n",
      " 'Harknett, Miss. Alice Phoebe' 'Harmer, Mr. Abraham (David Lishin)'\n",
      " 'Harper, Miss. Annie Jessie \"Nina\"' 'Harper, Mr. Henry Sleeper'\n",
      " 'Harper, Mrs. Henry Sleeper (Myna Haxtun)' 'Harper, Rev. John'\n",
      " 'Harrington, Mr. Charles H' 'Harris, Mr. George'\n",
      " 'Harris, Mr. Henry Birkhardt' 'Harris, Mr. Walter'\n",
      " 'Harris, Mrs. Henry Birkhardt (Irene Wallach)' 'Harrison, Mr. William'\n",
      " 'Hart, Miss. Eva Miriam' 'Hart, Mr. Benjamin' 'Hart, Mr. Henry'\n",
      " 'Hart, Mrs. Benjamin (Esther Ada Bloomfield)' 'Hassab, Mr. Hammad'\n",
      " 'Hassan, Mr. Houssein G N' 'Hawksford, Mr. Walter James'\n",
      " 'Hays, Miss. Margaret Bechstein'\n",
      " 'Hays, Mrs. Charles Melville (Clara Jennings Gregg)'\n",
      " 'Healy, Miss. Hanora \"Nora\"' 'Hedman, Mr. Oskar Arvid'\n",
      " 'Hegarty, Miss. Hanora \"Nora\"' 'Heikkinen, Miss. Laina'\n",
      " 'Heininen, Miss. Wendla Maria' 'Hendekovic, Mr. Ignjac'\n",
      " 'Henry, Miss. Delia' 'Herman, Miss. Alice'\n",
      " 'Herman, Mrs. Samuel (Jane Laver)' 'Hewlett, Mrs. (Mary D Kingcome) '\n",
      " 'Hickman, Mr. Leonard Mark' 'Hickman, Mr. Lewis'\n",
      " 'Hickman, Mr. Stanley George' 'Hippach, Miss. Jean Gertrude'\n",
      " 'Hippach, Mrs. Louis Albert (Ida Sophia Fischer)'\n",
      " 'Hirvonen, Miss. Hildur E' 'Hocking, Mr. Richard George'\n",
      " 'Hocking, Mrs. Elizabeth (Eliza Needs)' 'Hodges, Mr. Henry Price'\n",
      " 'Hogeboom, Mrs. John C (Anna Andrews)' 'Hold, Mr. Stephen'\n",
      " 'Holm, Mr. John Fredrik Alexander' 'Holverson, Mr. Alexander Oskar'\n",
      " 'Holverson, Mrs. Alexander Oskar (Mary Aline Towner)'\n",
      " 'Homer, Mr. Harry (\"Mr E Haven\")' 'Honkanen, Miss. Eliina'\n",
      " 'Hood, Mr. Ambrose Jr' 'Horgan, Mr. John' 'Hosono, Mr. Masabumi'\n",
      " 'Hoyt, Mr. Frederick Maxfield' 'Hoyt, Mr. William Fisher'\n",
      " 'Hoyt, Mrs. Frederick Maxfield (Jane Anne Forby)'\n",
      " 'Humblen, Mr. Adolf Mathias Nicolai Olsen' 'Hunt, Mr. George Henry'\n",
      " 'Ibrahim Shawah, Mr. Yousseff' 'Icard, Miss. Amelie'\n",
      " 'Ilett, Miss. Bertha' 'Ilmakangas, Miss. Pieta Sofia'\n",
      " 'Isham, Miss. Ann Elizabeth' 'Ivanoff, Mr. Kanio'\n",
      " 'Jacobsohn, Mr. Sidney Samuel'\n",
      " 'Jacobsohn, Mrs. Sidney Samuel (Amy Frances Christy)'\n",
      " 'Jalsevac, Mr. Ivan' 'Jansson, Mr. Carl Olof' 'Jardin, Mr. Jose Neto'\n",
      " 'Jarvis, Mr. John Denzil' 'Jenkin, Mr. Stephen Curnow'\n",
      " 'Jensen, Mr. Hans Peder' 'Jensen, Mr. Niels Peder'\n",
      " 'Jensen, Mr. Svend Lauritz' 'Jermyn, Miss. Annie'\n",
      " 'Jerwan, Mrs. Amin S (Marie Marthe Thuillard)'\n",
      " 'Johannesen-Bratthammer, Mr. Bernt' 'Johanson, Mr. Jakob Alfred'\n",
      " 'Johansson, Mr. Erik' 'Johansson, Mr. Gustaf Joel'\n",
      " 'Johansson, Mr. Karl Johan' 'Johnson, Master. Harold Theodor'\n",
      " 'Johnson, Miss. Eleanor Ileen' 'Johnson, Mr. Alfred'\n",
      " 'Johnson, Mr. Malkolm Joackim' 'Johnson, Mr. William Cahoone Jr'\n",
      " 'Johnson, Mrs. Oscar W (Elisabeth Vilhelmina Berg)'\n",
      " 'Johnston, Miss. Catherine Helen \"Carrie\"' 'Johnston, Mr. Andrew G'\n",
      " 'Jonkoff, Mr. Lalio' 'Jonsson, Mr. Carl' 'Jussila, Miss. Katriina'\n",
      " 'Jussila, Miss. Mari Aina' 'Jussila, Mr. Eiriik'\n",
      " 'Kallio, Mr. Nikolai Erland' 'Kalvik, Mr. Johannes Halvorsen'\n",
      " 'Kantor, Mr. Sinai' 'Kantor, Mrs. Sinai (Miriam Sternin)'\n",
      " 'Karaic, Mr. Milan' 'Karlsson, Mr. Nils August' 'Karun, Miss. Manca'\n",
      " 'Kassem, Mr. Fared' 'Keane, Miss. Nora A' 'Keane, Mr. Andrew \"Andy\"'\n",
      " 'Keefe, Mr. Arthur' 'Kelly, Miss. Anna Katherine \"Annie Kate\"'\n",
      " 'Kelly, Miss. Mary' 'Kelly, Mr. James' 'Kelly, Mrs. Florence \"Fannie\"'\n",
      " 'Kent, Mr. Edward Austin' 'Kenyon, Mrs. Frederick R (Marion)'\n",
      " 'Kiernan, Mr. Philip' 'Kilgannon, Mr. Thomas J'\n",
      " 'Kimball, Mr. Edwin Nelson Jr' 'Kink, Mr. Vincenz'\n",
      " 'Kink-Heilmann, Miss. Luise Gretchen' 'Kirkland, Rev. Charles Leonard'\n",
      " 'Klaber, Mr. Herman' 'Klasen, Mr. Klas Albin' 'Knight, Mr. Robert J'\n",
      " 'Kraeff, Mr. Theodor' 'Kvillner, Mr. Johan Henrik Johannesson'\n",
      " 'Lahoud, Mr. Sarkis' 'Lahtinen, Mrs. William (Anna Sylfven)'\n",
      " 'Laitinen, Miss. Kristina Sofia' 'Laleff, Mr. Kristo' 'Lam, Mr. Ali'\n",
      " 'Lam, Mr. Len' 'Landergren, Miss. Aurora Adelia' 'Lang, Mr. Fang'\n",
      " 'Laroche, Miss. Simonne Marie Anne Andree'\n",
      " 'Laroche, Mr. Joseph Philippe Lemercier'\n",
      " 'Laroche, Mrs. Joseph (Juliette Marie Louise Lafargue)'\n",
      " 'Larsson, Mr. August Viktor' 'Larsson, Mr. Bengt Edvin'\n",
      " 'LeRoy, Miss. Bertha' 'Leader, Dr. Alice (Farnham)'\n",
      " 'Leeni, Mr. Fahim (\"Philip Zenni\")' 'Lefebre, Master. Henry Forbes'\n",
      " 'Lefebre, Miss. Ida' 'Lefebre, Miss. Jeannie' 'Lefebre, Miss. Mathilde'\n",
      " 'Lehmann, Miss. Bertha' 'Leinonen, Mr. Antti Gustaf'\n",
      " 'Leitch, Miss. Jessie Wills' 'Lemberopolous, Mr. Peter L'\n",
      " 'Lemore, Mrs. (Amelia Milley)' 'Lennon, Mr. Denis' 'Leonard, Mr. Lionel'\n",
      " 'Lester, Mr. James' 'Lesurer, Mr. Gustave J' 'Levy, Mr. Rene Jacques'\n",
      " 'Lewy, Mr. Ervin G' 'Leyson, Mr. Robert William Norman'\n",
      " 'Lievens, Mr. Rene Aime' 'Lindahl, Miss. Agda Thorilda Viktoria'\n",
      " 'Lindblom, Miss. Augusta Charlotta' 'Lindell, Mr. Edvard Bengtsson'\n",
      " 'Lindqvist, Mr. Eino William' 'Lines, Miss. Mary Conover' 'Ling, Mr. Lee'\n",
      " 'Lobb, Mr. William Arthur'\n",
      " 'Lobb, Mrs. William Arthur (Cordelia K Stanlick)'\n",
      " 'Long, Mr. Milton Clyde' 'Longley, Miss. Gretchen Fiske'\n",
      " 'Louch, Mrs. Charles Alexander (Alice Adelaide Slow)'\n",
      " 'Lovell, Mr. John Hall (\"Henry\")' 'Lulic, Mr. Nikola'\n",
      " 'Lundahl, Mr. Johan Svensson' 'Lurette, Miss. Elise' 'Mack, Mrs. (Mary)'\n",
      " 'Madigan, Miss. Margaret \"Maggie\"' 'Madill, Miss. Georgette Alexandra'\n",
      " 'Madsen, Mr. Fridtjof Arne' 'Maenpaa, Mr. Matti Alexanteri'\n",
      " 'Maioni, Miss. Roberta' 'Maisner, Mr. Simon' 'Mallet, Master. Andre'\n",
      " 'Mallet, Mr. Albert' 'Mamee, Mr. Hanna' 'Mangan, Miss. Mary'\n",
      " 'Mannion, Miss. Margareth' 'Marechal, Mr. Pierre' 'Markoff, Mr. Marin'\n",
      " 'Markun, Mr. Johann' 'Marvin, Mr. Daniel Warner'\n",
      " 'Masselmani, Mrs. Fatima' 'Matthews, Mr. William John'\n",
      " 'Mayne, Mlle. Berthe Antonine (\"Mrs de Villiers\")'\n",
      " 'McCarthy, Mr. Timothy J' 'McCormack, Mr. Thomas Joseph'\n",
      " 'McCoy, Miss. Agnes' 'McCoy, Mr. Bernard'\n",
      " 'McDermott, Miss. Brigdet Delia' 'McEvoy, Mr. Michael'\n",
      " 'McGough, Mr. James Robert' 'McGovern, Miss. Mary'\n",
      " 'McGowan, Miss. Anna \"Annie\"' 'McKane, Mr. Peter David'\n",
      " 'McMahon, Mr. Martin' 'McNamee, Mr. Neal'\n",
      " 'Meanwell, Miss. (Marion Ogden)'\n",
      " 'Meek, Mrs. Thomas (Annie Louise Rowley)'\n",
      " 'Mellinger, Miss. Madeleine Violet'\n",
      " 'Mellinger, Mrs. (Elizabeth Anne Maidment)' 'Mellors, Mr. William John'\n",
      " 'Meo, Mr. Alfonzo' 'Mernagh, Mr. Robert' 'Meyer, Mr. August'\n",
      " 'Meyer, Mr. Edgar Joseph' 'Meyer, Mrs. Edgar Joseph (Leila Saks)'\n",
      " 'Millet, Mr. Francis Davis' 'Milling, Mr. Jacob Christian'\n",
      " 'Minahan, Dr. William Edward' 'Minahan, Miss. Daisy E' 'Mineff, Mr. Ivan'\n",
      " 'Mionoff, Mr. Stoytcho' 'Mitchell, Mr. Henry Michael' 'Mitkoff, Mr. Mito'\n",
      " 'Mockler, Miss. Helen Mary \"Ellie\"' 'Moen, Mr. Sigurd Hansen'\n",
      " 'Molson, Mr. Harry Markland' 'Montvila, Rev. Juozas'\n",
      " 'Moor, Master. Meier' 'Moor, Mrs. (Beila)' 'Moore, Mr. Leonard Charles'\n",
      " 'Moran, Miss. Bertha' 'Moran, Mr. Daniel J' 'Moran, Mr. James'\n",
      " 'Moraweck, Dr. Ernest' 'Morley, Mr. Henry Samuel (\"Mr Henry Marshall\")'\n",
      " 'Morley, Mr. William' 'Morrow, Mr. Thomas Rowan' 'Moss, Mr. Albert Johan'\n",
      " 'Moubarek, Master. Gerios'\n",
      " 'Moubarek, Master. Halim Gonios (\"William George\")'\n",
      " 'Moussa, Mrs. (Mantoura Boulos)' 'Moutal, Mr. Rahamin Haim'\n",
      " 'Mudd, Mr. Thomas Charles' 'Mullens, Miss. Katherine \"Katie\"'\n",
      " 'Murdlin, Mr. Joseph' 'Murphy, Miss. Katherine \"Kate\"'\n",
      " 'Murphy, Miss. Margaret Jane' 'Myhrman, Mr. Pehr Fabian Oliver Malkolm'\n",
      " 'Naidenoff, Mr. Penko' 'Najib, Miss. Adele Kiamie \"Jane\"'\n",
      " 'Nakid, Miss. Maria (\"Mary\")' 'Nakid, Mr. Sahid' 'Nankoff, Mr. Minko'\n",
      " 'Nasser, Mr. Nicholas' 'Nasser, Mrs. Nicholas (Adele Achem)'\n",
      " 'Natsch, Mr. Charles H' 'Navratil, Master. Edmond Roger'\n",
      " 'Navratil, Master. Michel M' 'Navratil, Mr. Michel (\"Louis M Hoffman\")'\n",
      " 'Nenkoff, Mr. Christo' 'Newell, Miss. Madeleine' 'Newell, Miss. Marjorie'\n",
      " 'Newell, Mr. Arthur Webster' 'Newsom, Miss. Helen Monypeny'\n",
      " 'Nicholls, Mr. Joseph Charles' 'Nicholson, Mr. Arthur Ernest'\n",
      " 'Nicola-Yarred, Master. Elias' 'Nicola-Yarred, Miss. Jamila'\n",
      " 'Nilsson, Miss. Helmina Josefina' 'Nirva, Mr. Iisakki Antino Aijo'\n",
      " 'Niskanen, Mr. Juha' 'Norman, Mr. Robert Douglas'\n",
      " 'Nosworthy, Mr. Richard Cater' 'Novel, Mr. Mansouer'\n",
      " 'Nye, Mrs. (Elizabeth Ramell)' 'Nysten, Miss. Anna Sofia'\n",
      " 'Nysveen, Mr. Johan Hansen' \"O'Brien, Mr. Thomas\" \"O'Brien, Mr. Timothy\"\n",
      " 'O\\'Brien, Mrs. Thomas (Johanna \"Hannah\" Godfrey)'\n",
      " \"O'Connell, Mr. Patrick D\" \"O'Connor, Mr. Maurice\"\n",
      " \"O'Driscoll, Miss. Bridget\" 'O\\'Dwyer, Miss. Ellen \"Nellie\"'\n",
      " 'O\\'Leary, Miss. Hanora \"Norah\"' \"O'Sullivan, Miss. Bridget Mary\"\n",
      " 'Odahl, Mr. Nils Martin' 'Ohman, Miss. Velin' 'Olsen, Mr. Henry Margido'\n",
      " 'Olsen, Mr. Karl Siegwart Andreas' 'Olsen, Mr. Ole Martin'\n",
      " 'Olsson, Miss. Elina' 'Olsson, Mr. Nils Johan Goransson'\n",
      " 'Olsvigen, Mr. Thor Anderson' 'Oreskovic, Miss. Marija'\n",
      " 'Oreskovic, Mr. Luka' 'Osen, Mr. Olaf Elon' 'Osman, Mrs. Mara'\n",
      " 'Ostby, Mr. Engelhart Cornelius' 'Otter, Mr. Richard'\n",
      " 'Padro y Manent, Mr. Julian' 'Pain, Dr. Alfred'\n",
      " 'Palsson, Master. Gosta Leonard' 'Palsson, Miss. Stina Viola'\n",
      " 'Palsson, Miss. Torborg Danira'\n",
      " 'Palsson, Mrs. Nils (Alma Cornelia Berglund)'\n",
      " 'Panula, Master. Eino Viljami' 'Panula, Master. Juha Niilo'\n",
      " 'Panula, Master. Urho Abraham' 'Panula, Mr. Ernesti Arvid'\n",
      " 'Panula, Mr. Jaako Arnold' 'Panula, Mrs. Juha (Maria Emilia Ojala)'\n",
      " 'Parkes, Mr. Francis \"Frank\"' 'Parr, Mr. William Henry Marsh'\n",
      " 'Parrish, Mrs. (Lutie Davis)' 'Partner, Mr. Austen' 'Pasic, Mr. Jakob'\n",
      " 'Patchett, Mr. George' 'Paulner, Mr. Uscher' 'Pavlovic, Mr. Stefo'\n",
      " 'Pears, Mr. Thomas Clinton' 'Pears, Mrs. Thomas (Edith Wearne)'\n",
      " 'Peduzzi, Mr. Joseph' 'Pekoniemi, Mr. Edvard'\n",
      " 'Penasco y Castellana, Mr. Victor de Satode'\n",
      " 'Penasco y Castellana, Mrs. Victor de Satode (Maria Josefa Perez de Soto y Vallejo)'\n",
      " 'Pengelly, Mr. Frederick William' 'Perkin, Mr. John Henry'\n",
      " 'Pernot, Mr. Rene' 'Perreault, Miss. Anne' 'Persson, Mr. Ernst Ulrik'\n",
      " 'Peter, Miss. Anna' 'Peter, Mrs. Catherine (Catherine Rizk)'\n",
      " 'Peters, Miss. Katie' 'Petranec, Miss. Matilda' 'Petroff, Mr. Nedelio'\n",
      " 'Petroff, Mr. Pastcho (\"Pentcho\")' 'Petterson, Mr. Johan Emil'\n",
      " 'Pettersson, Miss. Ellen Natalia' 'Peuchen, Major. Arthur Godfrey'\n",
      " 'Phillips, Miss. Kate Florence (\"Mrs Kate Louise Phillips Marshall\")'\n",
      " 'Pickard, Mr. Berk (Berk Trembisky)' 'Pinsky, Mrs. (Rosa)'\n",
      " 'Plotcharsky, Mr. Vasil' 'Ponesell, Mr. Martin'\n",
      " 'Porter, Mr. Walter Chamberlain'\n",
      " 'Potter, Mrs. Thomas Jr (Lily Alexenia Wilson)'\n",
      " 'Quick, Miss. Phyllis May'\n",
      " 'Quick, Mrs. Frederick Charles (Jane Richards)' 'Radeff, Mr. Alexander'\n",
      " 'Razi, Mr. Raihed' 'Reed, Mr. James George' 'Reeves, Mr. David'\n",
      " 'Rekic, Mr. Tido' 'Renouf, Mr. Peter Henry'\n",
      " 'Renouf, Mrs. Peter Henry (Lillian Jefferys)'\n",
      " 'Reuchlin, Jonkheer. John George' 'Reynaldo, Ms. Encarnacion'\n",
      " 'Rice, Master. Arthur' 'Rice, Master. Eric' 'Rice, Master. Eugene'\n",
      " 'Rice, Master. George Hugh' 'Rice, Mrs. William (Margaret Norton)'\n",
      " 'Richard, Mr. Emile' 'Richards, Master. George Sibley'\n",
      " 'Richards, Master. William Rowe' 'Richards, Mrs. Sidney (Emily Hocking)'\n",
      " 'Ridsdale, Miss. Lucy' 'Ringhini, Mr. Sante' 'Rintamaki, Mr. Matti'\n",
      " 'Risien, Mr. Samuel Beard' 'Robbins, Mr. Victor'\n",
      " 'Robert, Mrs. Edward Scott (Elisabeth Walton McMillan)'\n",
      " 'Robins, Mrs. Alexander A (Grace Charity Laury)'\n",
      " 'Roebling, Mr. Washington Augustus II' 'Rogers, Mr. William John'\n",
      " 'Romaine, Mr. Charles Hallace (\"Mr C Rolmane\")'\n",
      " 'Rommetvedt, Mr. Knud Paust' 'Rood, Mr. Hugh Roscoe'\n",
      " 'Rosblom, Mr. Viktor Richard' 'Rosblom, Mrs. Viktor (Helena Wilhelmina)'\n",
      " 'Ross, Mr. John Hugo'\n",
      " 'Rothes, the Countess. of (Lucy Noel Martha Dyer-Edwards)'\n",
      " 'Rothschild, Mrs. Martin (Elizabeth L. Barrett)'\n",
      " 'Rouse, Mr. Richard Henry' 'Rugg, Miss. Emily'\n",
      " 'Rush, Mr. Alfred George John' 'Ryan, Mr. Patrick'\n",
      " 'Ryerson, Miss. Emily Borie' 'Ryerson, Miss. Susan Parker \"Suzette\"'\n",
      " 'Saad, Mr. Amin' 'Saad, Mr. Khalil' 'Saalfeld, Mr. Adolphe'\n",
      " 'Sadlier, Mr. Matthew' 'Sage, Master. Thomas Henry'\n",
      " 'Sage, Miss. Constance Gladys' 'Sage, Miss. Dorothy Edith \"Dolly\"'\n",
      " 'Sage, Miss. Stella Anna' 'Sage, Mr. Douglas Bullen'\n",
      " 'Sage, Mr. Frederick' 'Sage, Mr. George John Jr' 'Sagesser, Mlle. Emma'\n",
      " 'Salkjelsvik, Miss. Anna Kristine' 'Salonen, Mr. Johan Werner'\n",
      " 'Samaan, Mr. Youssef' 'Sandstrom, Miss. Marguerite Rut'\n",
      " 'Sandstrom, Mrs. Hjalmar (Agnes Charlotta Bengtsson)'\n",
      " 'Saundercock, Mr. William Henry' 'Sawyer, Mr. Frederick Charles'\n",
      " 'Scanlan, Mr. James' 'Sdycoff, Mr. Todor'\n",
      " 'Sedgwick, Mr. Charles Frederick Waddington' 'Serepeca, Miss. Augusta'\n",
      " 'Seward, Mr. Frederic Kimber' 'Sharp, Mr. Percival James R'\n",
      " 'Sheerlinck, Mr. Jan Baptist' 'Shellard, Mr. Frederick William'\n",
      " 'Shelley, Mrs. William (Imanita Parrish Hall)'\n",
      " 'Shorney, Mr. Charles Joseph' 'Shutes, Miss. Elizabeth W'\n",
      " 'Silven, Miss. Lyyli Karoliina' 'Silverthorne, Mr. Spencer Victor'\n",
      " 'Silvey, Mr. William Baird' 'Silvey, Mrs. William Baird (Alice Munger)'\n",
      " 'Simmons, Mr. John' 'Simonius-Blumer, Col. Oberst Alfons'\n",
      " 'Sinkkonen, Miss. Anna' 'Sirayanian, Mr. Orsen' 'Sirota, Mr. Maurice'\n",
      " 'Sivic, Mr. Husein' 'Sivola, Mr. Antti Wilhelm'\n",
      " 'Sjoblom, Miss. Anna Sofia' 'Sjostedt, Mr. Ernst Adolf'\n",
      " 'Skoog, Master. Harald' 'Skoog, Master. Karl Thorsten'\n",
      " 'Skoog, Miss. Mabel' 'Skoog, Miss. Margit Elizabeth' 'Skoog, Mr. Wilhelm'\n",
      " 'Skoog, Mrs. William (Anna Bernhardina Karlsson)' 'Slabenoff, Mr. Petco'\n",
      " 'Slayter, Miss. Hilda Mary' 'Slemen, Mr. Richard James'\n",
      " 'Slocovski, Mr. Selman Francis' 'Sloper, Mr. William Thompson'\n",
      " 'Smart, Mr. John Montgomery' 'Smiljanic, Mr. Mile'\n",
      " 'Smith, Miss. Marion Elsie' 'Smith, Mr. James Clinch'\n",
      " 'Smith, Mr. Richard William' 'Smith, Mr. Thomas'\n",
      " 'Sobey, Mr. Samuel James Hayden'\n",
      " 'Soholt, Mr. Peter Andreas Lauritz Andersen'\n",
      " 'Somerton, Mr. Francis William'\n",
      " 'Spedden, Mrs. Frederic Oakley (Margaretta Corning Stone)'\n",
      " 'Spencer, Mrs. William Augustus (Marie Eugenie)'\n",
      " 'Stahelin-Maeglin, Dr. Max' 'Staneff, Mr. Ivan' 'Stankovic, Mr. Ivan'\n",
      " 'Stanley, Miss. Amy Zillah Elsie' 'Stanley, Mr. Edward Roland'\n",
      " 'Stead, Mr. William Thomas'\n",
      " 'Stephenson, Mrs. Walter Bertram (Martha Eustis)' 'Stewart, Mr. Albert A'\n",
      " 'Stone, Mrs. George Nelson (Martha Evelyn)' 'Stoytcheff, Mr. Ilia'\n",
      " 'Strandberg, Miss. Ida Sofia' 'Stranden, Mr. Juho'\n",
      " 'Strom, Miss. Telma Matilda' 'Strom, Mrs. Wilhelm (Elna Matilda Persson)'\n",
      " 'Sunderland, Mr. Victor Francis' 'Sundman, Mr. Johan Julian'\n",
      " 'Sutehall, Mr. Henry Jr' 'Sutton, Mr. Frederick' 'Svensson, Mr. Johan'\n",
      " 'Svensson, Mr. Olof'\n",
      " 'Swift, Mrs. Frederick Joel (Margaret Welles Barron)'\n",
      " 'Taussig, Miss. Ruth' 'Taussig, Mr. Emil'\n",
      " 'Taussig, Mrs. Emil (Tillie Mandelbaum)' 'Taylor, Mr. Elmer Zebley'\n",
      " 'Taylor, Mrs. Elmer Zebley (Juliet Cummins Wright)'\n",
      " 'Thayer, Mr. John Borland' 'Thayer, Mr. John Borland Jr'\n",
      " 'Thayer, Mrs. John Borland (Marian Longstreth Morris)'\n",
      " 'Theobald, Mr. Thomas Leonard' 'Thomas, Master. Assad Alexander'\n",
      " 'Thorne, Mrs. Gertrude Maybelle' 'Thorneycroft, Mr. Percival'\n",
      " 'Thorneycroft, Mrs. Percival (Florence Kate White)' 'Tikkanen, Mr. Juho'\n",
      " 'Tobin, Mr. Roger' 'Todoroff, Mr. Lalio' 'Tomlin, Mr. Ernest Portage'\n",
      " 'Toomey, Miss. Ellen' 'Torber, Mr. Ernst William'\n",
      " 'Tornquist, Mr. William Henry' 'Toufik, Mr. Nakli'\n",
      " 'Touma, Mrs. Darwis (Hanne Youssef Razi)' 'Troupiansky, Mr. Moses Aaron'\n",
      " 'Trout, Mrs. William H (Jessie L)' 'Troutt, Miss. Edwina Celia \"Winnie\"'\n",
      " 'Turcin, Mr. Stjepan' 'Turja, Miss. Anna Sofia' 'Turkula, Mrs. (Hedwig)'\n",
      " 'Turpin, Mr. William John Robert'\n",
      " 'Turpin, Mrs. William John Robert (Dorothy Ann Wonnacott)'\n",
      " 'Uruchurtu, Don. Manuel E' 'Van Impe, Miss. Catharina'\n",
      " 'Van Impe, Mr. Jean Baptiste'\n",
      " 'Van Impe, Mrs. Jean Baptiste (Rosalie Paula Govaert)'\n",
      " 'Van der hoef, Mr. Wyckoff' 'Vande Velde, Mr. Johannes Joseph'\n",
      " 'Vande Walle, Mr. Nestor Cyriel' 'Vanden Steen, Mr. Leo Peter'\n",
      " 'Vander Cruyssen, Mr. Victor' 'Vander Planke, Miss. Augusta Maria'\n",
      " 'Vander Planke, Mr. Leo Edmondus'\n",
      " 'Vander Planke, Mrs. Julius (Emelia Maria Vandemoortele)'\n",
      " 'Vestrom, Miss. Hulda Amanda Adolfina' 'Vovk, Mr. Janko'\n",
      " 'Waelens, Mr. Achille' 'Walker, Mr. William Anderson' 'Ward, Miss. Anna'\n",
      " 'Warren, Mrs. Frank Manley (Anna Sophia Atkinson)'\n",
      " 'Watson, Mr. Ennis Hastings'\n",
      " 'Watt, Mrs. James (Elizabeth \"Bessie\" Inglis Milne)'\n",
      " 'Webber, Miss. Susan' 'Webber, Mr. James' 'Weir, Col. John'\n",
      " 'Weisz, Mrs. Leopold (Mathilde Francoise Pede)' 'Wells, Miss. Joan'\n",
      " 'West, Miss. Constance Mirium' 'West, Mr. Edwy Arthur'\n",
      " 'West, Mrs. Edwy Arthur (Ada Mary Worth)' 'Wheadon, Mr. Edward H'\n",
      " 'White, Mr. Percival Wayland' 'White, Mr. Richard Frasar'\n",
      " 'Wick, Miss. Mary Natalie' 'Wick, Mrs. George Dennick (Mary Hitchcock)'\n",
      " 'Widegren, Mr. Carl/Charles Peter' 'Widener, Mr. Harry Elkins'\n",
      " 'Wiklund, Mr. Jakob Alfred' 'Wilhelms, Mr. Charles' 'Willey, Mr. Edward'\n",
      " 'Williams, Mr. Charles Duane' 'Williams, Mr. Charles Eugene'\n",
      " 'Williams, Mr. Howard Hugh \"Harry\"' 'Williams, Mr. Leslie'\n",
      " 'Williams-Lambert, Mr. Fletcher Fellows' 'Windelov, Mr. Einar'\n",
      " 'Wiseman, Mr. Phillippe' 'Woolner, Mr. Hugh' 'Wright, Mr. George'\n",
      " 'Yasbeck, Mr. Antoni' 'Yasbeck, Mrs. Antoni (Selini Alexander)'\n",
      " 'Young, Miss. Marie Grice' 'Youseff, Mr. Gerious' 'Yousif, Mr. Wazli'\n",
      " 'Yousseff, Mr. Gerious' 'Yrois, Miss. Henriette (\"Mrs Harbeck\")'\n",
      " 'Zabour, Miss. Hileni' 'Zabour, Miss. Thamine' 'Zimmerman, Mr. Leo'\n",
      " 'de Messemaeker, Mrs. Guillaume Joseph (Emma)' 'de Mulder, Mr. Theodore'\n",
      " 'de Pelsmaeker, Mr. Alfons' 'del Carlo, Mr. Sebastiano'\n",
      " 'van Billiard, Mr. Austin Blyler' 'van Melkebeke, Mr. Philemon']\n",
      "\n",
      "colname : Sex, uniq : ['female' 'male']\n",
      "\n",
      "colname : Ticket, uniq : ['110152' '110413' '110465' '110564' '110813' '111240' '111320' '111361'\n",
      " '111369' '111426' '111427' '111428' '112050' '112052' '112053' '112058'\n",
      " '112059' '112277' '112379' '113028' '113043' '113050' '113051' '113055'\n",
      " '113056' '113059' '113501' '113503' '113505' '113509' '113510' '113514'\n",
      " '113572' '113760' '113767' '113773' '113776' '113781' '113783' '113784'\n",
      " '113786' '113787' '113788' '113789' '113792' '113794' '113796' '113798'\n",
      " '113800' '113803' '113804' '113806' '113807' '11668' '11751' '11752'\n",
      " '11753' '11755' '11765' '11767' '11769' '11771' '11774' '11813' '11967'\n",
      " '12233' '12460' '12749' '13049' '13213' '13214' '13502' '13507' '13509'\n",
      " '13567' '13568' '14311' '14312' '14313' '14973' '1601' '16966' '16988'\n",
      " '17421' '17453' '17463' '17464' '17465' '17466' '17474' '17764' '19877'\n",
      " '19928' '19943' '19947' '19950' '19952' '19972' '19988' '19996' '2003'\n",
      " '211536' '21440' '218629' '219533' '220367' '220845' '2223' '223596'\n",
      " '226593' '226875' '228414' '229236' '230080' '230136' '230433' '230434'\n",
      " '231919' '231945' '233639' '233866' '234360' '234604' '234686' '234818'\n",
      " '236171' '236852' '236853' '237442' '237565' '237668' '237671' '237736'\n",
      " '237789' '237798' '239853' '239854' '239855' '239856' '239865' '240929'\n",
      " '24160' '243847' '243880' '244252' '244270' '244278' '244310' '244358'\n",
      " '244361' '244367' '244373' '248698' '248706' '248723' '248727' '248731'\n",
      " '248733' '248738' '248740' '248747' '250643' '250644' '250646' '250647'\n",
      " '250648' '250649' '250651' '250652' '250653' '250655' '2620' '2623'\n",
      " '2624' '2625' '2626' '2627' '2628' '2629' '2631' '26360' '2641' '2647'\n",
      " '2648' '2649' '2650' '2651' '2653' '2659' '2661' '2662' '2663' '2664'\n",
      " '2665' '2666' '2667' '2668' '2669' '26707' '2671' '2672' '2674' '2677'\n",
      " '2678' '2680' '2683' '2685' '2686' '2687' '2689' '2690' '2691' '2693'\n",
      " '2694' '2695' '2697' '2699' '2700' '27042' '27267' '27849' '28134'\n",
      " '28206' '28213' '28220' '28228' '28403' '28424' '28425' '28551' '28664'\n",
      " '28665' '29011' '2908' '29103' '29104' '29105' '29106' '29108' '2926'\n",
      " '29750' '29751' '3101264' '3101265' '3101267' '3101276' '3101277'\n",
      " '3101278' '3101281' '3101295' '3101296' '3101298' '31027' '31028'\n",
      " '312991' '312992' '312993' '31418' '315037' '315082' '315084' '315086'\n",
      " '315088' '315089' '315090' '315093' '315094' '315096' '315097' '315098'\n",
      " '315151' '315153' '323592' '323951' '324669' '330877' '330909' '330919'\n",
      " '330923' '330931' '330932' '330935' '330958' '330959' '330979' '330980'\n",
      " '334912' '335097' '335677' '33638' '336439' '3411' '341826' '34218'\n",
      " '342826' '343095' '343120' '343275' '343276' '345364' '345572' '345763'\n",
      " '345764' '345765' '345767' '345769' '345770' '345773' '345774' '345777'\n",
      " '345778' '345779' '345780' '345781' '345783' '3460' '347054' '347060'\n",
      " '347061' '347062' '347063' '347064' '347067' '347068' '347069' '347071'\n",
      " '347073' '347074' '347076' '347077' '347078' '347080' '347081' '347082'\n",
      " '347083' '347085' '347087' '347088' '347089' '3474' '347464' '347466'\n",
      " '347468' '347470' '347742' '347743' '348121' '348123' '348124' '349201'\n",
      " '349203' '349204' '349205' '349206' '349207' '349208' '349209' '349210'\n",
      " '349212' '349213' '349214' '349215' '349216' '349217' '349218' '349219'\n",
      " '349221' '349222' '349223' '349224' '349225' '349227' '349228' '349231'\n",
      " '349233' '349234' '349236' '349237' '349239' '349240' '349241' '349242'\n",
      " '349243' '349244' '349245' '349246' '349247' '349248' '349249' '349251'\n",
      " '349252' '349253' '349254' '349256' '349257' '349909' '349910' '349912'\n",
      " '350025' '350026' '350029' '350034' '350035' '350036' '350042' '350043'\n",
      " '350046' '350047' '350048' '350050' '350052' '350060' '350404' '350406'\n",
      " '350407' '350417' '35273' '35281' '35851' '35852' '358585' '36209'\n",
      " '362316' '363291' '363294' '363592' '364498' '364499' '364500' '364506'\n",
      " '364511' '364512' '364516' '364846' '364848' '364849' '364850' '364851'\n",
      " '365222' '365226' '36568' '367226' '367228' '367229' '367230' '367231'\n",
      " '367232' '367655' '368323' '36864' '36865' '36866' '368703' '36928'\n",
      " '36947' '36963' '36967' '36973' '370129' '370365' '370369' '370370'\n",
      " '370371' '370372' '370373' '370375' '370376' '370377' '371060' '371110'\n",
      " '371362' '372622' '373450' '374746' '374887' '374910' '376564' '376566'\n",
      " '382649' '382651' '382652' '383121' '384461' '386525' '392091' '392092'\n",
      " '392096' '394140' '4133' '4134' '4135' '4136' '4137' '4138' '4579'\n",
      " '54636' '5727' '65303' '65304' '65306' '6563' '693' '695' '7267' '7534'\n",
      " '7540' '7545' '7546' '7552' '7553' '7598' '8471' '8475' '9234'\n",
      " 'A./5. 2152' 'A./5. 3235' 'A.5. 11206' 'A.5. 18509' 'A/4 45380'\n",
      " 'A/4 48871' 'A/4. 20589' 'A/4. 34244' 'A/4. 39886' 'A/5 21171'\n",
      " 'A/5 21172' 'A/5 21173' 'A/5 21174' 'A/5 2466' 'A/5 2817' 'A/5 3536'\n",
      " 'A/5 3540' 'A/5 3594' 'A/5 3902' 'A/5. 10482' 'A/5. 13032' 'A/5. 2151'\n",
      " 'A/5. 3336' 'A/5. 3337' 'A/5. 851' 'A/S 2816' 'A4. 54510' 'C 17369'\n",
      " 'C 4001' 'C 7075' 'C 7076' 'C 7077' 'C.A. 17248' 'C.A. 18723' 'C.A. 2315'\n",
      " 'C.A. 24579' 'C.A. 24580' 'C.A. 2673' 'C.A. 29178' 'C.A. 29395'\n",
      " 'C.A. 29566' 'C.A. 31026' 'C.A. 31921' 'C.A. 33111' 'C.A. 33112'\n",
      " 'C.A. 33595' 'C.A. 34260' 'C.A. 34651' 'C.A. 37671' 'C.A. 5547'\n",
      " 'C.A. 6212' 'C.A./SOTON 34068' 'CA 2144' 'CA. 2314' 'CA. 2343'\n",
      " 'F.C. 12750' 'F.C.C. 13528' 'F.C.C. 13529' 'F.C.C. 13531' 'Fa 265302'\n",
      " 'LINE' 'P/PP 3381' 'PC 17318' 'PC 17473' 'PC 17474' 'PC 17475' 'PC 17476'\n",
      " 'PC 17477' 'PC 17482' 'PC 17483' 'PC 17485' 'PC 17558' 'PC 17569'\n",
      " 'PC 17572' 'PC 17582' 'PC 17585' 'PC 17590' 'PC 17592' 'PC 17593'\n",
      " 'PC 17595' 'PC 17596' 'PC 17597' 'PC 17599' 'PC 17600' 'PC 17601'\n",
      " 'PC 17603' 'PC 17604' 'PC 17605' 'PC 17608' 'PC 17609' 'PC 17610'\n",
      " 'PC 17611' 'PC 17612' 'PC 17754' 'PC 17755' 'PC 17756' 'PC 17757'\n",
      " 'PC 17758' 'PC 17759' 'PC 17760' 'PC 17761' 'PP 4348' 'PP 9549'\n",
      " 'S.C./A.4. 23567' 'S.C./PARIS 2079' 'S.O./P.P. 3' 'S.O./P.P. 751'\n",
      " 'S.O.C. 14879' 'S.O.P. 1166' 'S.P. 3464' 'S.W./PP 752' 'SC 1748'\n",
      " 'SC/AH 29037' 'SC/AH 3085' 'SC/AH Basle 541' 'SC/PARIS 2131'\n",
      " 'SC/PARIS 2133' 'SC/PARIS 2146' 'SC/PARIS 2149' 'SC/PARIS 2167'\n",
      " 'SC/Paris 2123' 'SC/Paris 2163' 'SCO/W 1585' 'SO/C 14885'\n",
      " 'SOTON/O.Q. 3101305' 'SOTON/O.Q. 3101306' 'SOTON/O.Q. 3101307'\n",
      " 'SOTON/O.Q. 3101310' 'SOTON/O.Q. 3101311' 'SOTON/O.Q. 3101312'\n",
      " 'SOTON/O.Q. 392078' 'SOTON/O.Q. 392087' 'SOTON/O2 3101272'\n",
      " 'SOTON/O2 3101287' 'SOTON/OQ 3101316' 'SOTON/OQ 3101317'\n",
      " 'SOTON/OQ 392076' 'SOTON/OQ 392082' 'SOTON/OQ 392086' 'SOTON/OQ 392089'\n",
      " 'SOTON/OQ 392090' 'STON/O 2. 3101269' 'STON/O 2. 3101273'\n",
      " 'STON/O 2. 3101274' 'STON/O 2. 3101275' 'STON/O 2. 3101280'\n",
      " 'STON/O 2. 3101285' 'STON/O 2. 3101286' 'STON/O 2. 3101288'\n",
      " 'STON/O 2. 3101289' 'STON/O 2. 3101292' 'STON/O 2. 3101293'\n",
      " 'STON/O 2. 3101294' 'STON/O2. 3101271' 'STON/O2. 3101279'\n",
      " 'STON/O2. 3101282' 'STON/O2. 3101283' 'STON/O2. 3101290' 'SW/PP 751'\n",
      " 'W./C. 14258' 'W./C. 14263' 'W./C. 6607' 'W./C. 6608' 'W./C. 6609'\n",
      " 'W.E.P. 5734' 'W/C 14208' 'WE/P 5735']\n",
      "\n",
      "colname : Cabin, uniq : ['A10' 'A14' 'A16' 'A19' 'A20' 'A23' 'A24' 'A26' 'A31' 'A32' 'A34' 'A36'\n",
      " 'A5' 'A6' 'A7' 'B101' 'B102' 'B18' 'B19' 'B20' 'B22' 'B28' 'B3' 'B30'\n",
      " 'B35' 'B37' 'B38' 'B39' 'B4' 'B41' 'B42' 'B49' 'B5' 'B50' 'B51 B53 B55'\n",
      " 'B57 B59 B63 B66' 'B58 B60' 'B69' 'B71' 'B73' 'B77' 'B78' 'B79' 'B80'\n",
      " 'B82 B84' 'B86' 'B94' 'B96 B98' 'C101' 'C103' 'C104' 'C106' 'C110' 'C111'\n",
      " 'C118' 'C123' 'C124' 'C125' 'C126' 'C128' 'C148' 'C2' 'C22 C26'\n",
      " 'C23 C25 C27' 'C30' 'C32' 'C45' 'C46' 'C47' 'C49' 'C50' 'C52' 'C54'\n",
      " 'C62 C64' 'C65' 'C68' 'C7' 'C70' 'C78' 'C82' 'C83' 'C85' 'C86' 'C87'\n",
      " 'C90' 'C91' 'C92' 'C93' 'C95' 'C99' 'D' 'D10 D12' 'D11' 'D15' 'D17' 'D19'\n",
      " 'D20' 'D21' 'D26' 'D28' 'D30' 'D33' 'D35' 'D36' 'D37' 'D45' 'D46' 'D47'\n",
      " 'D48' 'D49' 'D50' 'D56' 'D6' 'D7' 'D9' 'E10' 'E101' 'E12' 'E121' 'E17'\n",
      " 'E24' 'E25' 'E31' 'E33' 'E34' 'E36' 'E38' 'E40' 'E44' 'E46' 'E49' 'E50'\n",
      " 'E58' 'E63' 'E67' 'E68' 'E77' 'E8' 'F E69' 'F G63' 'F G73' 'F2' 'F33'\n",
      " 'F38' 'F4' 'G6' 'T' 'nan']\n",
      "\n",
      "colname : Embarked, uniq : ['C' 'Q' 'S' 'nan']\n",
      "\n"
     ]
    }
   ],
   "source": [
    "# 범주형 데이터에 대해 확인해 보기\n",
    "import numpy as np\n",
    "\n",
    "for col in cat_cols:\n",
    "    uniq = np.unique(train[col].astype(str))\n",
    "    print(\"colname : {}, uniq : {}\".format(col, uniq), end=\"\\n\\n\")"
   ]
  },
  {
   "cell_type": "code",
   "execution_count": 8,
   "metadata": {},
   "outputs": [
    {
     "data": {
      "text/plain": [
       "<AxesSubplot:xlabel='Survived', ylabel='count'>"
      ]
     },
     "execution_count": 8,
     "metadata": {},
     "output_type": "execute_result"
    },
    {
     "data": {
      "image/png": "[encoded data removed]",
      "text/plain": [
       "<Figure size 432x288 with 1 Axes>"
      ]
     },
     "metadata": {},
     "output_type": "display_data"
    }
   ],
   "source": [
    "# EDA - 시각화\n",
    "\n",
    "sns.set_style('whitegrid')   # seaborn 스타일 지정\n",
    "sns.countplot(x='Survived', data=train)"
   ]
  },
  {
   "cell_type": "code",
   "execution_count": 9,
   "metadata": {},
   "outputs": [
    {
     "data": {
      "text/plain": [
       "<AxesSubplot:xlabel='Pclass', ylabel='count'>"
      ]
     },
     "execution_count": 9,
     "metadata": {},
     "output_type": "execute_result"
    },
    {
     "data": {
      "image/png": "[encoded data removed]",
      "text/plain": [
       "<Figure size 432x288 with 1 Axes>"
      ]
     },
     "metadata": {},
     "output_type": "display_data"
    }
   ],
   "source": [
    "## 해보기 : PClass 별 Count\n",
    "sns.countplot(x='Pclass', data=train)"
   ]
  },
  {
   "cell_type": "code",
   "execution_count": 10,
   "metadata": {},
   "outputs": [
    {
     "data": {
      "text/plain": [
       "<AxesSubplot:xlabel='Pclass', ylabel='Survived'>"
      ]
     },
     "execution_count": 10,
     "metadata": {},
     "output_type": "execute_result"
    },
    {
     "data": {
      "image/png": "[encoded data removed]",
      "text/plain": [
       "<Figure size 432x288 with 1 Axes>"
      ]
     },
     "metadata": {},
     "output_type": "display_data"
    }
   ],
   "source": [
    "sns.set_style('whitegrid')   # seaborn 스타일 지정\n",
    "sns.barplot(x='Pclass', y='Survived', data=train)"
   ]
  },
  {
   "cell_type": "code",
   "execution_count": 11,
   "metadata": {},
   "outputs": [
    {
     "name": "stderr",
     "output_type": "stream",
     "text": [
      "D:\\Anaconda\\lib\\site-packages\\seaborn\\distributions.py:2551: FutureWarning: `distplot` is a deprecated function and will be removed in a future version. Please adapt your code to use either `displot` (a figure-level function with similar flexibility) or `histplot` (an axes-level function for histograms).\n",
      "  warnings.warn(msg, FutureWarning)\n"
     ]
    },
    {
     "data": {
      "text/plain": [
       "(0.0, 96.85957367917433)"
      ]
     },
     "execution_count": 11,
     "metadata": {},
     "output_type": "execute_result"
    },
    {
     "data": {
      "image/png": "[encoded data removed]",
      "text/plain": [
       "<Figure size 432x288 with 1 Axes>"
      ]
     },
     "metadata": {},
     "output_type": "display_data"
    }
   ],
   "source": [
    "sns.distplot(train['Age'].dropna(), bins=30).set_xlim(0,)"
   ]
  },
  {
   "cell_type": "code",
   "execution_count": 12,
   "metadata": {},
   "outputs": [
    {
     "name": "stderr",
     "output_type": "stream",
     "text": [
      "D:\\Anaconda\\lib\\site-packages\\seaborn\\distributions.py:2551: FutureWarning: `distplot` is a deprecated function and will be removed in a future version. Please adapt your code to use either `displot` (a figure-level function with similar flexibility) or `histplot` (an axes-level function for histograms).\n",
      "  warnings.warn(msg, FutureWarning)\n"
     ]
    },
    {
     "data": {
      "text/plain": [
       "(0.0, 593.1479879851557)"
      ]
     },
     "execution_count": 12,
     "metadata": {},
     "output_type": "execute_result"
    },
    {
     "data": {
      "image/png": "[encoded data removed]",
      "text/plain": [
       "<Figure size 432x288 with 1 Axes>"
      ]
     },
     "metadata": {},
     "output_type": "display_data"
    }
   ],
   "source": [
    "## 해보기 Fare\n",
    "sns.distplot(test['Fare'].dropna(), bins=30).set_xlim(0,)"
   ]
  },
  {
   "cell_type": "code",
   "execution_count": 13,
   "metadata": {},
   "outputs": [
    {
     "name": "stderr",
     "output_type": "stream",
     "text": [
      "D:\\Anaconda\\lib\\site-packages\\seaborn\\distributions.py:2551: FutureWarning: `distplot` is a deprecated function and will be removed in a future version. Please adapt your code to use either `displot` (a figure-level function with similar flexibility) or `histplot` (an axes-level function for histograms).\n",
      "  warnings.warn(msg, FutureWarning)\n",
      "D:\\Anaconda\\lib\\site-packages\\seaborn\\distributions.py:2551: FutureWarning: `distplot` is a deprecated function and will be removed in a future version. Please adapt your code to use either `displot` (a figure-level function with similar flexibility) or `histplot` (an axes-level function for histograms).\n",
      "  warnings.warn(msg, FutureWarning)\n"
     ]
    },
    {
     "data": {
      "image/png": "[encoded data removed]",
      "text/plain": [
       "<Figure size 1296x576 with 2 Axes>"
      ]
     },
     "metadata": {},
     "output_type": "display_data"
    }
   ],
   "source": [
    "f,ax=plt.subplots(1,2,figsize=(18,8))\n",
    "\n",
    "# 첫번째 그래프\n",
    "sns.distplot(train['Age'].dropna(), bins=30, ax=ax[0])\n",
    "ax[0].set_title('train - Age')\n",
    "\n",
    "# 두번째 그래프 \n",
    "sns.distplot(test['Age'].dropna(), bins=30, ax=ax[1])\n",
    "ax[1].set_title('test - Age')\n",
    "plt.show()"
   ]
  },
  {
   "cell_type": "code",
   "execution_count": 14,
   "metadata": {},
   "outputs": [
    {
     "name": "stdout",
     "output_type": "stream",
     "text": [
      "PassengerId      0\n",
      "Survived         0\n",
      "Pclass           0\n",
      "Name             0\n",
      "Sex              0\n",
      "Age              0\n",
      "SibSp            0\n",
      "Parch            0\n",
      "Ticket           0\n",
      "Fare             0\n",
      "Cabin          687\n",
      "Embarked         2\n",
      "dtype: int64\n",
      "PassengerId      0\n",
      "Pclass           0\n",
      "Name             0\n",
      "Sex              0\n",
      "Age              0\n",
      "SibSp            0\n",
      "Parch            0\n",
      "Ticket           0\n",
      "Fare             0\n",
      "Cabin          327\n",
      "Embarked         0\n",
      "dtype: int64\n"
     ]
    }
   ],
   "source": [
    "train['Age'] = train['Age'].fillna(train['Age'].mean())\n",
    "test['Age'] = test['Age'].fillna(test['Age'].mean())\n",
    "\n",
    "## 해보기 \n",
    "test['Fare'] = test['Fare'].fillna(test['Fare'].mean())\n",
    "\n",
    "print(train.isnull().sum())\n",
    "print(test.isnull().sum())"
   ]
  },
  {
   "cell_type": "code",
   "execution_count": 15,
   "metadata": {},
   "outputs": [
    {
     "name": "stdout",
     "output_type": "stream",
     "text": [
      "S\n"
     ]
    }
   ],
   "source": [
    "val_mode = train['Embarked'].mode()\n",
    "print(val_mode[0])\n",
    "train['Embarked'] = train['Embarked'].fillna(val_mode[0])"
   ]
  },
  {
   "cell_type": "code",
   "execution_count": 16,
   "metadata": {},
   "outputs": [
    {
     "name": "stdout",
     "output_type": "stream",
     "text": [
      "PassengerId      0\n",
      "Survived         0\n",
      "Pclass           0\n",
      "Name             0\n",
      "Sex              0\n",
      "Age              0\n",
      "SibSp            0\n",
      "Parch            0\n",
      "Ticket           0\n",
      "Fare             0\n",
      "Cabin          687\n",
      "Embarked         0\n",
      "dtype: int64\n",
      "PassengerId      0\n",
      "Pclass           0\n",
      "Name             0\n",
      "Sex              0\n",
      "Age              0\n",
      "SibSp            0\n",
      "Parch            0\n",
      "Ticket           0\n",
      "Fare             0\n",
      "Cabin          327\n",
      "Embarked         0\n",
      "dtype: int64\n"
     ]
    }
   ],
   "source": [
    "print(train.isnull().sum())\n",
    "print(test.isnull().sum())"
   ]
  },
  {
   "cell_type": "code",
   "execution_count": 17,
   "metadata": {},
   "outputs": [],
   "source": [
    "train['Sex'] = train['Sex'].map( {'female': 0, 'male': 1} ).astype(int)\n",
    "test['Sex'] = test['Sex'].map( {'female': 0, 'male': 1} ).astype(int)\n",
    "\n",
    "train['Embarked'] = train['Embarked'].map( {'S': 0, 'C': 1, 'Q': 2} ).astype(int)\n",
    "test['Embarked']= test['Embarked'].map( {'S': 0, 'C': 1, 'Q': 2} ).astype(int)"
   ]
  },
  {
   "cell_type": "code",
   "execution_count": 18,
   "metadata": {},
   "outputs": [],
   "source": [
    "## 나이에 대한 int 처리\n",
    "train['Age'] = train['Age'].astype('int')\n",
    "test['Age'] = test['Age'].astype('int')"
   ]
  },
  {
   "cell_type": "code",
   "execution_count": 19,
   "metadata": {},
   "outputs": [],
   "source": [
    "# 데이터 나누기\n",
    "sel = ['PassengerId', 'Pclass', 'Age', 'SibSp', 'Parch', 'Fare', 'Sex', 'Embarked']\n",
    "\n",
    "all_X = train[sel]\n",
    "all_y = train['Survived']\n",
    "\n",
    "last_X_test = test[sel]"
   ]
  },
  {
   "cell_type": "code",
   "execution_count": 20,
   "metadata": {},
   "outputs": [],
   "source": [
    "from sklearn.model_selection import train_test_split"
   ]
  },
  {
   "cell_type": "code",
   "execution_count": 21,
   "metadata": {},
   "outputs": [],
   "source": [
    "X_train, X_test, y_train, y_test = train_test_split(all_X, \n",
    "                                                    all_y,    \n",
    "                                                    stratify=all_y,\n",
    "                                                    test_size=0.3,\n",
    "                                                    random_state=77 )"
   ]
  },
  {
   "cell_type": "code",
   "execution_count": 22,
   "metadata": {},
   "outputs": [],
   "source": [
    "from sklearn.tree import DecisionTreeClassifier\n",
    "from sklearn.linear_model import LogisticRegression\n",
    "from sklearn.svm import LinearSVC\n",
    "from sklearn.neighbors import KNeighborsClassifier"
   ]
  },
  {
   "cell_type": "code",
   "execution_count": 23,
   "metadata": {},
   "outputs": [
    {
     "name": "stdout",
     "output_type": "stream",
     "text": [
      "모델명 : DecisionTreeClassifier(), 정확도 1.0 0.7425373134328358 \n",
      "모델명 : LogisticRegression(), 정확도 0.7817014446227929 0.8059701492537313 \n",
      "모델명 : LinearSVC(), 정확도 0.6420545746388443 0.6716417910447762 \n",
      "모델명 : KNeighborsClassifier(), 정확도 0.7335473515248796 0.6268656716417911 \n"
     ]
    },
    {
     "name": "stderr",
     "output_type": "stream",
     "text": [
      "D:\\Anaconda\\lib\\site-packages\\sklearn\\linear_model\\_logistic.py:762: ConvergenceWarning: lbfgs failed to converge (status=1):\n",
      "STOP: TOTAL NO. of ITERATIONS REACHED LIMIT.\n",
      "\n",
      "Increase the number of iterations (max_iter) or scale the data as shown in:\n",
      "    https://scikit-learn.org/stable/modules/preprocessing.html\n",
      "Please also refer to the documentation for alternative solver options:\n",
      "    https://scikit-learn.org/stable/modules/linear_model.html#logistic-regression\n",
      "  n_iter_i = _check_optimize_result(\n",
      "D:\\Anaconda\\lib\\site-packages\\sklearn\\svm\\_base.py:976: ConvergenceWarning: Liblinear failed to converge, increase the number of iterations.\n",
      "  warnings.warn(\"Liblinear failed to converge, increase \"\n"
     ]
    }
   ],
   "source": [
    "model = [DecisionTreeClassifier(), LogisticRegression(), LinearSVC(), KNeighborsClassifier()]\n",
    "\n",
    "for model_one in model:\n",
    "    model = model_one\n",
    "    model.fit(X_train, y_train)\n",
    "    acc_tr = model.score(X_train, y_train)\n",
    "    acc_test = model.score(X_test, y_test)\n",
    "    print(\"모델명 : {}, 정확도 {} {} \".format(model, acc_tr, acc_test) )"
   ]
  },
  {
   "cell_type": "code",
   "execution_count": 24,
   "metadata": {},
   "outputs": [
    {
     "name": "stderr",
     "output_type": "stream",
     "text": [
      "D:\\Anaconda\\lib\\site-packages\\sklearn\\linear_model\\_logistic.py:762: ConvergenceWarning: lbfgs failed to converge (status=1):\n",
      "STOP: TOTAL NO. of ITERATIONS REACHED LIMIT.\n",
      "\n",
      "Increase the number of iterations (max_iter) or scale the data as shown in:\n",
      "    https://scikit-learn.org/stable/modules/preprocessing.html\n",
      "Please also refer to the documentation for alternative solver options:\n",
      "    https://scikit-learn.org/stable/modules/linear_model.html#logistic-regression\n",
      "  n_iter_i = _check_optimize_result(\n"
     ]
    }
   ],
   "source": [
    "# 실습 Logistic 모델을 이용하여 최종 모델을 만들고 제출해 보자.\n",
    "model = LogisticRegression()\n",
    "model.fit(all_X, all_y)\n",
    "pred = model.predict(last_X_test)\n",
    "sub['Survived'] = pred\n",
    "sub.to_csv(\"four_lgreg_sub.csv\", index=False)"
   ]
  },
  {
   "cell_type": "code",
   "execution_count": 25,
   "metadata": {},
   "outputs": [
    {
     "name": "stdout",
     "output_type": "stream",
     "text": [
      "파일 유무 확인 :  True\n"
     ]
    }
   ],
   "source": [
    "import os\n",
    "files = os.listdir()\n",
    "print(\"파일 유무 확인 : \", \"four_lgreg_sub.csv\" in files)  # 0.75837"
   ]
  },
  {
   "cell_type": "markdown",
   "metadata": {},
   "source": [
    "##### 실습\n",
    "* LogisticRegression 또는 DecisionTree 모델을 선택하여, 파라미터 튜닝을 한 후, 최적의 모델을 선택 후, 이를 제출해 보자."
   ]
  },
  {
   "cell_type": "markdown",
   "metadata": {},
   "source": [
    "### First Sub Score: 0.60765\n",
    "### Second Sub Score: 0.66985\n",
    "### Third Sub Score: 0.66507\n",
    "### Fourth Sub Score: 0.72248"
   ]
  }
 ],
 "metadata": {
  "kernelspec": {
   "display_name": "Python 3",
   "language": "python",
   "name": "python3"
  },
  "language_info": {
   "codemirror_mode": {
    "name": "ipython",
    "version": 3
   },
   "file_extension": ".py",
   "mimetype": "text/x-python",
   "name": "python",
   "nbconvert_exporter": "python",
   "pygments_lexer": "ipython3",
   "version": "3.8.5"
  }
 },
 "nbformat": 4,
 "nbformat_minor": 4
}
