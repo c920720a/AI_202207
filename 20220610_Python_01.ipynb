{
 "cells": [
  {
   "cell_type": "markdown",
   "metadata": {},
   "source": [
    "### 파이썬 리뷰\n",
    "    * 입출력 함수 및 연산자\n",
    "    * 자료형(리스트, 튜플, 딕셔너리)\n",
    "    * if문, for문\n",
    "    * 함수, 클래스"
   ]
  },
  {
   "cell_type": "markdown",
   "metadata": {},
   "source": [
    "#### 1-1 Python 시작하기"
   ]
  },
  {
   "cell_type": "code",
   "execution_count": 1,
   "metadata": {},
   "outputs": [
    {
     "name": "stdout",
     "output_type": "stream",
     "text": [
      "Hello\n",
      "\n",
      "Hello\n",
      "Hello Hello\n",
      "\n",
      "Line1 \n",
      "Line2 \n",
      "Line3 \n",
      "Line4 \n",
      "\n"
     ]
    }
   ],
   "source": [
    "### Hello 문자열 출력하기\n",
    "print(\"Hello\")\n",
    "print( )\n",
    "\n",
    "### 'end' 매개변수의 역할\n",
    "print(\"Hello\", end='\\n')\n",
    "print(\"Hello\", end=' ')\n",
    "print(\"Hello\")\n",
    "print( )\n",
    "\n",
    "### print를 이용하여 여러줄 문자열 입력하는 것은\n",
    "#   '\\n'은 줄바꿈 명령어이다.\n",
    "print(\"Line1 \\nLine2 \\nLine3 \\nLine4 \\n\")"
   ]
  },
  {
   "cell_type": "markdown",
   "metadata": {},
   "source": [
    "#### 1-2 변수 사용하기"
   ]
  },
  {
   "cell_type": "code",
   "execution_count": 2,
   "metadata": {},
   "outputs": [
    {
     "name": "stdout",
     "output_type": "stream",
     "text": [
      "4\n"
     ]
    }
   ],
   "source": [
    "### 동물의 다리의 개수는?\n",
    "animal_leg = 4\n",
    "print(animal_leg)"
   ]
  },
  {
   "cell_type": "code",
   "execution_count": 3,
   "metadata": {},
   "outputs": [
    {
     "name": "stdout",
     "output_type": "stream",
     "text": [
      "my name\n"
     ]
    }
   ],
   "source": [
    "str1 = 'my'\n",
    "str2 = 'name'\n",
    "print(str1, str2)"
   ]
  },
  {
   "cell_type": "markdown",
   "metadata": {},
   "source": [
    "#### 여러줄의 문자열을 저장 및 출력\n",
    "    * '''내용'''\n",
    "    * \"\"\"내용\"\"\""
   ]
  },
  {
   "cell_type": "code",
   "execution_count": 4,
   "metadata": {},
   "outputs": [
    {
     "name": "stdout",
     "output_type": "stream",
     "text": [
      "\n",
      "line1\n",
      "line2\n",
      "line3\n",
      "\n"
     ]
    }
   ],
   "source": [
    "str1 = '''\n",
    "line1\n",
    "line2\n",
    "line3\n",
    "'''\n",
    "\n",
    "print(str1)"
   ]
  },
  {
   "cell_type": "markdown",
   "metadata": {},
   "source": [
    "#### 문자열과 문자열을 어떻게 연결시키는가?"
   ]
  },
  {
   "cell_type": "code",
   "execution_count": 5,
   "metadata": {},
   "outputs": [
    {
     "name": "stdout",
     "output_type": "stream",
     "text": [
      "myname\n"
     ]
    }
   ],
   "source": [
    "str12 = \"my\" + \"name\"\n",
    "print(str12)"
   ]
  },
  {
   "cell_type": "markdown",
   "metadata": {},
   "source": [
    "#### 1-3 문자열 입력받고, 내용을 출력시켜보자."
   ]
  },
  {
   "cell_type": "code",
   "execution_count": 7,
   "metadata": {},
   "outputs": [
    {
     "name": "stdout",
     "output_type": "stream",
     "text": [
      "당신의 이름은 무엇인가요?유림\n",
      "my name is 유림\n"
     ]
    }
   ],
   "source": [
    "str1 = \"my\" + \" name is\"\n",
    "name = input(\"당신의 이름은 무엇인가요?\")\n",
    "print(str1, name)"
   ]
  },
  {
   "cell_type": "markdown",
   "metadata": {},
   "source": [
    "#### 나이도 입력 받아서 출력시켜보자"
   ]
  },
  {
   "cell_type": "code",
   "execution_count": 8,
   "metadata": {},
   "outputs": [
    {
     "name": "stdout",
     "output_type": "stream",
     "text": [
      "나이는 어떻게 되시나요?31\n",
      "당신의 나이는 31살 입니다.\n"
     ]
    }
   ],
   "source": [
    "age = input(\"나이는 어떻게 되시나요?\")\n",
    "print(\"당신의 나이는 \" + age + \"살 입니다.\")"
   ]
  },
  {
   "cell_type": "markdown",
   "metadata": {},
   "source": [
    "* age의 자료형은 무엇일까?"
   ]
  },
  {
   "cell_type": "code",
   "execution_count": 9,
   "metadata": {},
   "outputs": [
    {
     "name": "stdout",
     "output_type": "stream",
     "text": [
      "<class 'str'>\n"
     ]
    }
   ],
   "source": [
    "print(type(age))"
   ]
  },
  {
   "cell_type": "markdown",
   "metadata": {},
   "source": [
    "#### (생각해보기) 그렇다면 나이에 10을 더해서 다시 출력해보자."
   ]
  },
  {
   "cell_type": "code",
   "execution_count": 13,
   "metadata": {},
   "outputs": [
    {
     "name": "stdout",
     "output_type": "stream",
     "text": [
      "당신의 나이를 숫자로만 입력해주세요.31\n",
      "당신의 10년 후의 나이는 41살 입니다.\n"
     ]
    }
   ],
   "source": [
    "age = int(input(\"당신의 나이를 숫자로만 입력해주세요.\"))\n",
    "# int는 입력 후 정수형으로 변환\n",
    "\n",
    "print(\"당신의 10년 후의 나이는 \", age+10, \"살 입니다.\", sep=\"\")\n",
    "# sep는 \",\"가 갖는 한칸의 공뱅을 없애준다."
   ]
  },
  {
   "cell_type": "markdown",
   "metadata": {},
   "source": [
    "#### 1-4 연산자\n",
    "    * 사칙 연산자 : +, -, /, *\n",
    "    * 기타 연산자 : **(제곱), %(나머지), //(몫)"
   ]
  },
  {
   "cell_type": "code",
   "execution_count": 14,
   "metadata": {},
   "outputs": [
    {
     "name": "stdout",
     "output_type": "stream",
     "text": [
      "19\n",
      "-1\n",
      "6.0\n",
      "15\n",
      "32\n",
      "1\n",
      "4\n"
     ]
    }
   ],
   "source": [
    "print(9 + 10)   #더하기. 19\n",
    "print(9 - 10)   #빼기. -1\n",
    "print(30 / 5)   #나누기. 6.0\n",
    "print(5 * 3)    #곱하기. 15\n",
    "print(2**5)     #제곱연산. 2*2*2*2*2 = 32\n",
    "print(17 % 4)   #나머지. 1\n",
    "print(17 // 4)  #몫 4"
   ]
  },
  {
   "cell_type": "markdown",
   "metadata": {},
   "source": [
    "* 비교연산자\n",
    "     * 같다 \"==\"\n",
    "     * 다르다 \"!=\"\n",
    "     * 크거나 같다 \">=\"\n",
    "     * 작거나 같다 \"<=\"\n",
    "     * 크다 \">\"\n",
    "     * 작다 \"<\""
   ]
  },
  {
   "cell_type": "code",
   "execution_count": 15,
   "metadata": {},
   "outputs": [
    {
     "name": "stdout",
     "output_type": "stream",
     "text": [
      "True\n",
      "False\n",
      "True\n",
      "False\n"
     ]
    }
   ],
   "source": [
    "print(3==3)   # True\n",
    "print(3!=3)   # False\n",
    "print(3>=1)   # True\n",
    "print(3<=1)   # False\n",
    "\n",
    "# >=, <=에서 \"=\"이 먼저오면 에러 발생"
   ]
  },
  {
   "cell_type": "code",
   "execution_count": 16,
   "metadata": {},
   "outputs": [
    {
     "name": "stdout",
     "output_type": "stream",
     "text": [
      "False\n",
      "True\n",
      "False\n"
     ]
    }
   ],
   "source": [
    "print(5 != 5)      #False\n",
    "age = 18\n",
    "print(age >= 15)   #True\n",
    "age = 13\n",
    "print(age >= 15)   #True"
   ]
  },
  {
   "cell_type": "markdown",
   "metadata": {},
   "source": [
    "#### 연산자 and, or, not, in\n",
    "* True는 참을 의미, False는 거짓을 의미\n",
    "* A and B : A와 B가 참이면 참, 둘 중 하나라도 거짓이면 거짓\n",
    "* A or B : A와 B 중 하나라도 참이면 참. 둘 다 거짓이면 거짓\n",
    "* not A : A가 True이면 False\n",
    "* 임의값in[자료형] : 자료형 안에 임의값이 있으면 True, 아니면 False"
   ]
  },
  {
   "cell_type": "code",
   "execution_count": 17,
   "metadata": {},
   "outputs": [
    {
     "name": "stdout",
     "output_type": "stream",
     "text": [
      "True\n",
      "3\n",
      "0\n",
      "False\n",
      "False\n"
     ]
    }
   ],
   "source": [
    "print(True and True)      #True\n",
    "print(1 and 3)            #3\n",
    "print(1 and 0)            #0\n",
    "print(True and False)     #False\n",
    "print(1 in [2, 3, 4, 5])  #False"
   ]
  },
  {
   "cell_type": "code",
   "execution_count": 18,
   "metadata": {},
   "outputs": [
    {
     "name": "stdout",
     "output_type": "stream",
     "text": [
      "True\n",
      "True\n"
     ]
    }
   ],
   "source": [
    "print(  (1==1) and (10>3)   )    #True and True -> True\n",
    "print(  (1==1) & (10>3)    )     #True and True -> True"
   ]
  },
  {
   "cell_type": "code",
   "execution_count": 19,
   "metadata": {},
   "outputs": [
    {
     "name": "stdout",
     "output_type": "stream",
     "text": [
      "True\n",
      "False\n",
      "True\n"
     ]
    }
   ],
   "source": [
    "print( (1==1) or (1>0) )     #True or True -> True\n",
    "print( (1!=1) | (1<0) )      #False or False -> False\n",
    "\n",
    "# A or B : A와 B 중에 하나라도 Ture가 있으면 True. 그 외 False\n",
    "print(5!=5 or 5>=3)          #True or False -> True"
   ]
  },
  {
   "cell_type": "code",
   "execution_count": 20,
   "metadata": {},
   "outputs": [
    {
     "name": "stdout",
     "output_type": "stream",
     "text": [
      "False\n",
      "True\n",
      "True\n",
      "False\n"
     ]
    }
   ],
   "source": [
    "print( not 1 )        # False\n",
    "print( not False )    # True\n",
    "print( not 0 )        # True (0은 0을 의미)\n",
    "print( not 'A' )      # 0을 제외한 모든 값은 True"
   ]
  },
  {
   "cell_type": "markdown",
   "metadata": {},
   "source": [
    "#### 19세 이하 영화 입장 금지 프로그램"
   ]
  },
  {
   "cell_type": "code",
   "execution_count": 21,
   "metadata": {},
   "outputs": [
    {
     "name": "stdout",
     "output_type": "stream",
     "text": [
      "False\n"
     ]
    }
   ],
   "source": [
    "# 19세 입장 금지 영화\n",
    "# 출입조건은 19세이고, 남자만 입장 가능.\n",
    "age = 17\n",
    "sex = \"M\"\n",
    "print(age>=19 and sex==\"M\")         #True and False -> False. 입장 불가"
   ]
  },
  {
   "cell_type": "markdown",
   "metadata": {},
   "source": [
    "* 예외 : 19세 이상 또는 19세 이상 보호자와 함께 올 경우 가능"
   ]
  },
  {
   "cell_type": "code",
   "execution_count": 23,
   "metadata": {},
   "outputs": [
    {
     "name": "stdout",
     "output_type": "stream",
     "text": [
      "True\n"
     ]
    }
   ],
   "source": [
    "# 출입조건 : 19세 이상. 또는 보호자와 입장\n",
    "age = 17\n",
    "gubun = \"P\"   #부모\n",
    "print(age>=19 or gubun==\"P\")   #False or True -> True. 입장가능"
   ]
  },
  {
   "cell_type": "markdown",
   "metadata": {},
   "source": [
    "#### 1-5 연산자를 이용한 계산"
   ]
  },
  {
   "cell_type": "code",
   "execution_count": 28,
   "metadata": {},
   "outputs": [
    {
     "name": "stdout",
     "output_type": "stream",
     "text": [
      "합은 7 입니다.\n",
      "5와 2의 합은 7 입니다.\n",
      "5와 2의 합은 7 입니다.\n",
      "5와 2의 나눈 값은 2.50 입니다.\n"
     ]
    }
   ],
   "source": [
    "a = 5\n",
    "b = 2\n",
    "plus = a + b\n",
    "mul = a * b\n",
    "div = a / b\n",
    "remainder = a % b\n",
    "power = a ** b\n",
    "\n",
    "print(\"합은 %d 입니다.\" % plus)\n",
    "print(\"%d와 %d의 합은 %d 입니다.\" % (a, b, plus))\n",
    "print(\"{}와 {}의 합은 {} 입니다.\" .format(a, b, plus))\n",
    "print(\"{}와 {}의 나눈 값은 {:.2f} 입니다.\" .format(a, b, div))\n"
   ]
  },
  {
   "cell_type": "markdown",
   "metadata": {},
   "source": [
    "#### 1-6 if문 실습해보기\n",
    "#### 숙박 인원이 10명 이상이면\n",
    "* 두 개의 방으로 나누어서 예약해야 합니다.\n",
    "* 10명 이하이면 하나의 방으로 숙박 가능합니다."
   ]
  },
  {
   "cell_type": "code",
   "execution_count": 1,
   "metadata": {},
   "outputs": [
    {
     "name": "stdout",
     "output_type": "stream",
     "text": [
      "두 개의 방을 예약해야 합니다.\n"
     ]
    }
   ],
   "source": [
    "people = 10\n",
    "\n",
    "if people >= 10:\n",
    "    print(\"두 개의 방을 예약해야 합니다.\")\n",
    "else:\n",
    "    print(\"305호실 예약 가능합니다.\")"
   ]
  },
  {
   "cell_type": "markdown",
   "metadata": {},
   "source": [
    "#### 1-7 for문 실습해보기"
   ]
  },
  {
   "cell_type": "code",
   "execution_count": 2,
   "metadata": {},
   "outputs": [
    {
     "name": "stdout",
     "output_type": "stream",
     "text": [
      "하나\n",
      "둘\n"
     ]
    }
   ],
   "source": [
    "for one in ['하나', '둘']:\n",
    "    print(one)"
   ]
  },
  {
   "cell_type": "markdown",
   "metadata": {},
   "source": [
    "#### 생각해보기 & 실습1\n",
    "* 나이를 입력받고, 8세 이상이면 학교에 입학이 가능합니다. 아니면 아직 입학이 힘듭니다. 출력해보기"
   ]
  },
  {
   "cell_type": "code",
   "execution_count": 3,
   "metadata": {},
   "outputs": [
    {
     "name": "stdout",
     "output_type": "stream",
     "text": [
      "아동의 나이를 숫자만 입력해주세요: 5\n",
      "아직 입학이 힘듭니다.\n"
     ]
    }
   ],
   "source": [
    "age = int(input(\"아동의 나이를 숫자만 입력해주세요: \"))\n",
    "\n",
    "if age >= 8:\n",
    "    print(\"학교에 입학이 가능합니다.\")\n",
    "else:\n",
    "    print(\"아직 입학이 힘듭니다.\")"
   ]
  },
  {
   "cell_type": "code",
   "execution_count": null,
   "metadata": {},
   "outputs": [],
   "source": []
  }
 ],
 "metadata": {
  "kernelspec": {
   "display_name": "Python 3",
   "language": "python",
   "name": "python3"
  },
  "language_info": {
   "codemirror_mode": {
    "name": "ipython",
    "version": 3
   },
   "file_extension": ".py",
   "mimetype": "text/x-python",
   "name": "python",
   "nbconvert_exporter": "python",
   "pygments_lexer": "ipython3",
   "version": "3.8.5"
  }
 },
 "nbformat": 4,
 "nbformat_minor": 4
}
