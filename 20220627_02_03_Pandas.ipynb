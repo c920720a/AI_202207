{
 "cells": [
  {
   "cell_type": "markdown",
   "metadata": {},
   "source": [
    "### 05 판다스를 활용한 데이터 이해\n",
    "#### 01 파이썬 기본 다지기\n",
    "##### 리스트"
   ]
  },
  {
   "cell_type": "code",
   "execution_count": 1,
   "metadata": {},
   "outputs": [
    {
     "name": "stdout",
     "output_type": "stream",
     "text": [
      "banana\n",
      "apple\n",
      "candy\n",
      "['apple', 'candy']\n"
     ]
    }
   ],
   "source": [
    "myfood = ['banana', 'apple', 'candy']\n",
    "print(myfood[0])\n",
    "print(myfood[1])\n",
    "print(myfood[2])\n",
    "print(myfood[1:3])  # 두번째 세번째 가져오기"
   ]
  },
  {
   "cell_type": "code",
   "execution_count": 2,
   "metadata": {},
   "outputs": [
    {
     "name": "stdout",
     "output_type": "stream",
     "text": [
      "banana\n",
      "apple\n",
      "candy\n"
     ]
    }
   ],
   "source": [
    "for item in myfood:\n",
    "    print(item)"
   ]
  },
  {
   "cell_type": "markdown",
   "metadata": {},
   "source": [
    "##### 딕셔너리(Dictionary)"
   ]
  },
  {
   "cell_type": "code",
   "execution_count": 3,
   "metadata": {},
   "outputs": [],
   "source": [
    "dict1 = {'one':'하나', 'two':\"둘\", 'three':'셋'}\n",
    "dict2 = {1:\"하나\", 2:\"둘\", 3:\"셋\"}\n",
    "dict3 = {'col1':[1,2,3], 'col2':['a','b','c']}"
   ]
  },
  {
   "cell_type": "code",
   "execution_count": 4,
   "metadata": {},
   "outputs": [
    {
     "name": "stdout",
     "output_type": "stream",
     "text": [
      "{'one': '하나', 'two': '둘', 'three': '셋'}\n",
      "{1: '하나', 2: '둘', 3: '셋'}\n",
      "{'col1': [1, 2, 3], 'col2': ['a', 'b', 'c']}\n"
     ]
    }
   ],
   "source": [
    "print(dict1) \n",
    "print(dict2)\n",
    "print(dict3) "
   ]
  },
  {
   "cell_type": "code",
   "execution_count": 5,
   "metadata": {},
   "outputs": [
    {
     "name": "stdout",
     "output_type": "stream",
     "text": [
      "하나\n",
      "둘\n",
      "['a', 'b', 'c']\n"
     ]
    }
   ],
   "source": [
    "print(dict1['one'])\n",
    "print(dict2[2])\n",
    "print(dict3['col2']) "
   ]
  },
  {
   "cell_type": "markdown",
   "metadata": {},
   "source": [
    "##### 판다스 모듈 불러오기"
   ]
  },
  {
   "cell_type": "code",
   "execution_count": 6,
   "metadata": {},
   "outputs": [],
   "source": [
    "import pandas as pd   # pandas 를 불러오고 밑에서 이를 pd 약자로서 쓰겠다."
   ]
  },
  {
   "cell_type": "code",
   "execution_count": 7,
   "metadata": {},
   "outputs": [],
   "source": [
    "# pandas안의 Series와 DataFrame를 불러옴.\n",
    "from pandas import Series, DataFrame"
   ]
  },
  {
   "cell_type": "code",
   "execution_count": 8,
   "metadata": {},
   "outputs": [
    {
     "name": "stdout",
     "output_type": "stream",
     "text": [
      "pandas 버전 :  1.1.3\n"
     ]
    }
   ],
   "source": [
    "print(\"pandas 버전 : \", pd.__version__)"
   ]
  },
  {
   "cell_type": "markdown",
   "metadata": {},
   "source": [
    "##### 홍길동 팀별 대항 게임 5일간의 점수\n",
    "    [1000, 14000, 3000, 3000, 1000]"
   ]
  },
  {
   "cell_type": "code",
   "execution_count": 9,
   "metadata": {},
   "outputs": [
    {
     "name": "stdout",
     "output_type": "stream",
     "text": [
      "0     1000\n",
      "1    14000\n",
      "2     3000\n",
      "3     3000\n",
      "4     1000\n",
      "dtype: int64\n",
      "자료형 확인 :  <class 'pandas.core.series.Series'>\n"
     ]
    }
   ],
   "source": [
    "score = Series( [1000, 14000, 3000, 3000, 1000] )\n",
    "print(score)\n",
    "print(\"자료형 확인 : \", type(score))"
   ]
  },
  {
   "cell_type": "code",
   "execution_count": 10,
   "metadata": {},
   "outputs": [
    {
     "name": "stdout",
     "output_type": "stream",
     "text": [
      "RangeIndex(start=0, stop=5, step=1)\n",
      "[0, 1, 2, 3, 4]\n",
      "[ 1000 14000  3000  3000  1000]\n",
      "int64\n"
     ]
    }
   ],
   "source": [
    "## Series 인덱스 확인\n",
    "print(score.index) \n",
    "\n",
    "# 인덱스를 리스트 자료형으로 변경 후, 확인하기\n",
    "print(list(score.index))   \n",
    "\n",
    "## Series 값 확인\n",
    "print(score.values) \n",
    "\n",
    "## Series 값 자료형 확인\n",
    "print(score.dtype) "
   ]
  },
  {
   "cell_type": "markdown",
   "metadata": {},
   "source": [
    "##### 판다스 시리즈 인덱스 지정"
   ]
  },
  {
   "cell_type": "code",
   "execution_count": 11,
   "metadata": {},
   "outputs": [
    {
     "name": "stdout",
     "output_type": "stream",
     "text": [
      "2019-05-01     1000\n",
      "2019-05-02    14000\n",
      "2019-05-03     3000\n",
      "dtype: int64\n"
     ]
    }
   ],
   "source": [
    "### 인덱스(index) 속성 이용 \n",
    "score = Series( [1000, 14000, 3000], \n",
    "               index = ['2019-05-01', '2019-05-02', '2019-05-03'] )\n",
    "\n",
    "print(score)"
   ]
  },
  {
   "cell_type": "code",
   "execution_count": 12,
   "metadata": {},
   "outputs": [
    {
     "name": "stdout",
     "output_type": "stream",
     "text": [
      "1000\n",
      "-------------\n",
      "2019-05-02    14000\n",
      "2019-05-03     3000\n",
      "dtype: int64\n"
     ]
    }
   ],
   "source": [
    "print(score['2019-05-01'])   # 인덱스 이용 - 5월 1일 날짜 점수 확인\n",
    "print(\"-------------\")\n",
    "print(score['2019-05-02':'2019-05-03']) # 5월 2일, 3일 날짜 팀 점수 확인 "
   ]
  },
  {
   "cell_type": "code",
   "execution_count": 13,
   "metadata": {},
   "outputs": [
    {
     "name": "stdout",
     "output_type": "stream",
     "text": [
      "2019-05-01\n",
      "2019-05-02\n",
      "2019-05-03\n"
     ]
    }
   ],
   "source": [
    "for idx in score.index:\n",
    "    print(idx) "
   ]
  },
  {
   "cell_type": "code",
   "execution_count": 14,
   "metadata": {},
   "outputs": [
    {
     "name": "stdout",
     "output_type": "stream",
     "text": [
      "1000\n",
      "14000\n",
      "3000\n"
     ]
    }
   ],
   "source": [
    "for value in score.values:\n",
    "    print(value) "
   ]
  },
  {
   "cell_type": "markdown",
   "metadata": {},
   "source": [
    "##### 날짜값 인덱스 지정"
   ]
  },
  {
   "cell_type": "code",
   "execution_count": 15,
   "metadata": {},
   "outputs": [
    {
     "data": {
      "text/html": [
       "<div>\n",
       "<style scoped>\n",
       "    .dataframe tbody tr th:only-of-type {\n",
       "        vertical-align: middle;\n",
       "    }\n",
       "\n",
       "    .dataframe tbody tr th {\n",
       "        vertical-align: top;\n",
       "    }\n",
       "\n",
       "    .dataframe thead th {\n",
       "        text-align: right;\n",
       "    }\n",
       "</style>\n",
       "<table border=\"1\" class=\"dataframe\">\n",
       "  <thead>\n",
       "    <tr style=\"text-align: right;\">\n",
       "      <th></th>\n",
       "      <th>one</th>\n",
       "      <th>two</th>\n",
       "      <th>three</th>\n",
       "    </tr>\n",
       "  </thead>\n",
       "  <tbody>\n",
       "    <tr>\n",
       "      <th>2022-05-01</th>\n",
       "      <td>10</td>\n",
       "      <td>100</td>\n",
       "      <td>1000</td>\n",
       "    </tr>\n",
       "    <tr>\n",
       "      <th>2022-05-02</th>\n",
       "      <td>20</td>\n",
       "      <td>200</td>\n",
       "      <td>2000</td>\n",
       "    </tr>\n",
       "    <tr>\n",
       "      <th>2022-05-03</th>\n",
       "      <td>30</td>\n",
       "      <td>300</td>\n",
       "      <td>3000</td>\n",
       "    </tr>\n",
       "    <tr>\n",
       "      <th>2022-05-05</th>\n",
       "      <td>40</td>\n",
       "      <td>400</td>\n",
       "      <td>4000</td>\n",
       "    </tr>\n",
       "  </tbody>\n",
       "</table>\n",
       "</div>"
      ],
      "text/plain": [
       "            one  two  three\n",
       "2022-05-01   10  100   1000\n",
       "2022-05-02   20  200   2000\n",
       "2022-05-03   30  300   3000\n",
       "2022-05-05   40  400   4000"
      ]
     },
     "execution_count": 15,
     "metadata": {},
     "output_type": "execute_result"
    }
   ],
   "source": [
    "dict_dat = { 'one':[10,20,30,40],\n",
    "             'two':[100,200,300,400],\n",
    "             'three':[1000,2000,3000,4000]}\n",
    "\n",
    "date = ['2022-05-01', '2022-05-02', '2022-05-03', '2022-05-05']\n",
    "df = pd.DataFrame(dict_dat, index=date)\n",
    "df"
   ]
  },
  {
   "cell_type": "code",
   "execution_count": 16,
   "metadata": {},
   "outputs": [
    {
     "data": {
      "text/html": [
       "<div>\n",
       "<style scoped>\n",
       "    .dataframe tbody tr th:only-of-type {\n",
       "        vertical-align: middle;\n",
       "    }\n",
       "\n",
       "    .dataframe tbody tr th {\n",
       "        vertical-align: top;\n",
       "    }\n",
       "\n",
       "    .dataframe thead th {\n",
       "        text-align: right;\n",
       "    }\n",
       "</style>\n",
       "<table border=\"1\" class=\"dataframe\">\n",
       "  <thead>\n",
       "    <tr style=\"text-align: right;\">\n",
       "      <th></th>\n",
       "      <th>one</th>\n",
       "      <th>two</th>\n",
       "      <th>three</th>\n",
       "    </tr>\n",
       "  </thead>\n",
       "  <tbody>\n",
       "    <tr>\n",
       "      <th>2022-05-01</th>\n",
       "      <td>10</td>\n",
       "      <td>100</td>\n",
       "      <td>1000</td>\n",
       "    </tr>\n",
       "    <tr>\n",
       "      <th>2022-05-02</th>\n",
       "      <td>20</td>\n",
       "      <td>200</td>\n",
       "      <td>2000</td>\n",
       "    </tr>\n",
       "    <tr>\n",
       "      <th>2022-05-03</th>\n",
       "      <td>30</td>\n",
       "      <td>300</td>\n",
       "      <td>3000</td>\n",
       "    </tr>\n",
       "    <tr>\n",
       "      <th>2022-05-04</th>\n",
       "      <td>40</td>\n",
       "      <td>400</td>\n",
       "      <td>4000</td>\n",
       "    </tr>\n",
       "  </tbody>\n",
       "</table>\n",
       "</div>"
      ],
      "text/plain": [
       "            one  two  three\n",
       "2022-05-01   10  100   1000\n",
       "2022-05-02   20  200   2000\n",
       "2022-05-03   30  300   3000\n",
       "2022-05-04   40  400   4000"
      ]
     },
     "execution_count": 16,
     "metadata": {},
     "output_type": "execute_result"
    }
   ],
   "source": [
    "one_idx = list( range(10,50,10) )\n",
    "two_idx = list( range(100,500,100) )\n",
    "three_idx = list( range(1000,5000,1000) )\n",
    "\n",
    "dict_dat = { 'one':[10,20,30, 40],\n",
    "             'two':[100,200,300, 400],\n",
    "             'three':[1000,2000,3000, 4000]}\n",
    "\n",
    "date = pd.date_range('2022-05-01', '2022-05-04')\n",
    "df = pd.DataFrame(dict_dat, index=date)\n",
    "df"
   ]
  },
  {
   "cell_type": "markdown",
   "metadata": {},
   "source": [
    "##### 두 팀의 팀점수 합산해보기\n",
    "* 길동팀의 3일간의 점수와 toto 팀의 3일간의 점수"
   ]
  },
  {
   "cell_type": "code",
   "execution_count": 17,
   "metadata": {},
   "outputs": [],
   "source": [
    "from pandas import Series"
   ]
  },
  {
   "cell_type": "code",
   "execution_count": 18,
   "metadata": {},
   "outputs": [],
   "source": [
    "gildong = Series([1500, 3000, 2500], \n",
    "                 index = ['2022-05-01', '2022-05-02', '2022-05-03'] )\n",
    "toto = Series([3000, 3000, 2000], \n",
    "              index = ['2022-05-01', '2022-05-03', '2022-05-02'] ) "
   ]
  },
  {
   "cell_type": "code",
   "execution_count": 19,
   "metadata": {},
   "outputs": [
    {
     "data": {
      "text/plain": [
       "2022-05-01    4500\n",
       "2022-05-02    5000\n",
       "2022-05-03    5500\n",
       "dtype: int64"
      ]
     },
     "execution_count": 19,
     "metadata": {},
     "output_type": "execute_result"
    }
   ],
   "source": [
    "gildong + toto"
   ]
  },
  {
   "cell_type": "markdown",
   "metadata": {},
   "source": [
    "#### 02 데이터 프레임의 이해\n",
    "* 데이터 프레임의 객체를 생성하는 가장 간단한 방법은 딕셔너리를 이용하는 방법\n",
    "* 데이터 프레임은 Series의 결합으로 이루어진 것으로 생각할 수 있음.\n",
    "* Pandas(판다스)의 대표적인 기본 자료형이다.\n",
    "* DataFrame 함수를 이용하여 객체 생성이 가능하다."
   ]
  },
  {
   "cell_type": "code",
   "execution_count": 20,
   "metadata": {},
   "outputs": [],
   "source": [
    "from pandas import DataFrame"
   ]
  },
  {
   "cell_type": "code",
   "execution_count": 21,
   "metadata": {},
   "outputs": [
    {
     "data": {
      "text/html": [
       "<div>\n",
       "<style scoped>\n",
       "    .dataframe tbody tr th:only-of-type {\n",
       "        vertical-align: middle;\n",
       "    }\n",
       "\n",
       "    .dataframe tbody tr th {\n",
       "        vertical-align: top;\n",
       "    }\n",
       "\n",
       "    .dataframe thead th {\n",
       "        text-align: right;\n",
       "    }\n",
       "</style>\n",
       "<table border=\"1\" class=\"dataframe\">\n",
       "  <thead>\n",
       "    <tr style=\"text-align: right;\">\n",
       "      <th></th>\n",
       "      <th>col1</th>\n",
       "      <th>col2</th>\n",
       "      <th>col3</th>\n",
       "    </tr>\n",
       "  </thead>\n",
       "  <tbody>\n",
       "    <tr>\n",
       "      <th>0</th>\n",
       "      <td>1</td>\n",
       "      <td>10</td>\n",
       "      <td>A</td>\n",
       "    </tr>\n",
       "    <tr>\n",
       "      <th>1</th>\n",
       "      <td>2</td>\n",
       "      <td>20</td>\n",
       "      <td>B</td>\n",
       "    </tr>\n",
       "    <tr>\n",
       "      <th>2</th>\n",
       "      <td>3</td>\n",
       "      <td>30</td>\n",
       "      <td>C</td>\n",
       "    </tr>\n",
       "    <tr>\n",
       "      <th>3</th>\n",
       "      <td>4</td>\n",
       "      <td>40</td>\n",
       "      <td>D</td>\n",
       "    </tr>\n",
       "  </tbody>\n",
       "</table>\n",
       "</div>"
      ],
      "text/plain": [
       "   col1  col2 col3\n",
       "0     1    10    A\n",
       "1     2    20    B\n",
       "2     3    30    C\n",
       "3     4    40    D"
      ]
     },
     "execution_count": 21,
     "metadata": {},
     "output_type": "execute_result"
    }
   ],
   "source": [
    "dat = { 'col1' : [1,2,3,4],\n",
    "        'col2' : [10,20,30,40],\n",
    "        'col3' : ['A', 'B', 'C', 'D'] }\n",
    "df = DataFrame(dat)\n",
    "df"
   ]
  },
  {
   "cell_type": "markdown",
   "metadata": {},
   "source": [
    "##### 네 팀의 5일간의 팀별 점수\n",
    "     팀은 toto, gildong, apple, catanddog 팀이다."
   ]
  },
  {
   "cell_type": "code",
   "execution_count": 22,
   "metadata": {},
   "outputs": [
    {
     "data": {
      "text/html": [
       "<div>\n",
       "<style scoped>\n",
       "    .dataframe tbody tr th:only-of-type {\n",
       "        vertical-align: middle;\n",
       "    }\n",
       "\n",
       "    .dataframe tbody tr th {\n",
       "        vertical-align: top;\n",
       "    }\n",
       "\n",
       "    .dataframe thead th {\n",
       "        text-align: right;\n",
       "    }\n",
       "</style>\n",
       "<table border=\"1\" class=\"dataframe\">\n",
       "  <thead>\n",
       "    <tr style=\"text-align: right;\">\n",
       "      <th></th>\n",
       "      <th>toto</th>\n",
       "      <th>apple</th>\n",
       "      <th>gildong</th>\n",
       "      <th>catanddog</th>\n",
       "    </tr>\n",
       "  </thead>\n",
       "  <tbody>\n",
       "    <tr>\n",
       "      <th>0</th>\n",
       "      <td>1500</td>\n",
       "      <td>4000</td>\n",
       "      <td>2000</td>\n",
       "      <td>7000</td>\n",
       "    </tr>\n",
       "    <tr>\n",
       "      <th>1</th>\n",
       "      <td>3000</td>\n",
       "      <td>5000</td>\n",
       "      <td>2500</td>\n",
       "      <td>5000</td>\n",
       "    </tr>\n",
       "    <tr>\n",
       "      <th>2</th>\n",
       "      <td>5000</td>\n",
       "      <td>6000</td>\n",
       "      <td>3000</td>\n",
       "      <td>3000</td>\n",
       "    </tr>\n",
       "    <tr>\n",
       "      <th>3</th>\n",
       "      <td>7000</td>\n",
       "      <td>5500</td>\n",
       "      <td>4000</td>\n",
       "      <td>5000</td>\n",
       "    </tr>\n",
       "    <tr>\n",
       "      <th>4</th>\n",
       "      <td>5500</td>\n",
       "      <td>4500</td>\n",
       "      <td>3000</td>\n",
       "      <td>4000</td>\n",
       "    </tr>\n",
       "  </tbody>\n",
       "</table>\n",
       "</div>"
      ],
      "text/plain": [
       "   toto  apple  gildong  catanddog\n",
       "0  1500   4000     2000       7000\n",
       "1  3000   5000     2500       5000\n",
       "2  5000   6000     3000       3000\n",
       "3  7000   5500     4000       5000\n",
       "4  5500   4500     3000       4000"
      ]
     },
     "execution_count": 22,
     "metadata": {},
     "output_type": "execute_result"
    }
   ],
   "source": [
    "from pandas import DataFrame\n",
    "\n",
    "team_score = { \"toto\":[1500,3000,5000,7000,5500],\n",
    "               \"apple\":[4000,5000,6000,5500,4500],\n",
    "               \"gildong\":[2000,2500,3000,4000,3000],\n",
    "               \"catanddog\":[7000,5000,3000,5000,4000]}\n",
    "\n",
    "team_df = DataFrame(team_score)\n",
    "team_df"
   ]
  },
  {
   "cell_type": "code",
   "execution_count": 23,
   "metadata": {},
   "outputs": [
    {
     "data": {
      "text/html": [
       "<div>\n",
       "<style scoped>\n",
       "    .dataframe tbody tr th:only-of-type {\n",
       "        vertical-align: middle;\n",
       "    }\n",
       "\n",
       "    .dataframe tbody tr th {\n",
       "        vertical-align: top;\n",
       "    }\n",
       "\n",
       "    .dataframe thead th {\n",
       "        text-align: right;\n",
       "    }\n",
       "</style>\n",
       "<table border=\"1\" class=\"dataframe\">\n",
       "  <thead>\n",
       "    <tr style=\"text-align: right;\">\n",
       "      <th></th>\n",
       "      <th>catanddog</th>\n",
       "      <th>toto</th>\n",
       "      <th>apple</th>\n",
       "      <th>gildong</th>\n",
       "    </tr>\n",
       "  </thead>\n",
       "  <tbody>\n",
       "    <tr>\n",
       "      <th>22-05-01</th>\n",
       "      <td>7000</td>\n",
       "      <td>1500</td>\n",
       "      <td>4000</td>\n",
       "      <td>2000</td>\n",
       "    </tr>\n",
       "    <tr>\n",
       "      <th>22-05-02</th>\n",
       "      <td>5000</td>\n",
       "      <td>3000</td>\n",
       "      <td>5000</td>\n",
       "      <td>2500</td>\n",
       "    </tr>\n",
       "    <tr>\n",
       "      <th>22-05-03</th>\n",
       "      <td>3000</td>\n",
       "      <td>5000</td>\n",
       "      <td>6000</td>\n",
       "      <td>3000</td>\n",
       "    </tr>\n",
       "    <tr>\n",
       "      <th>22-05-04</th>\n",
       "      <td>5000</td>\n",
       "      <td>7000</td>\n",
       "      <td>5500</td>\n",
       "      <td>4000</td>\n",
       "    </tr>\n",
       "    <tr>\n",
       "      <th>22-05-05</th>\n",
       "      <td>4000</td>\n",
       "      <td>5500</td>\n",
       "      <td>4500</td>\n",
       "      <td>3000</td>\n",
       "    </tr>\n",
       "  </tbody>\n",
       "</table>\n",
       "</div>"
      ],
      "text/plain": [
       "          catanddog  toto  apple  gildong\n",
       "22-05-01       7000  1500   4000     2000\n",
       "22-05-02       5000  3000   5000     2500\n",
       "22-05-03       3000  5000   6000     3000\n",
       "22-05-04       5000  7000   5500     4000\n",
       "22-05-05       4000  5500   4500     3000"
      ]
     },
     "execution_count": 23,
     "metadata": {},
     "output_type": "execute_result"
    }
   ],
   "source": [
    "date = ['22-05-01','22-05-02', '22-05-03', '22-05-04', '22-05-05']\n",
    "team_df = DataFrame(team_score,\n",
    "                   columns=['catanddog', 'toto', 'apple', 'gildong'],\n",
    "                   index=date)\n",
    "team_df"
   ]
  },
  {
   "cell_type": "markdown",
   "metadata": {},
   "source": [
    "##### toto팀의 날짜별 점수를 확인해 보자.\n",
    "    팀별 컬럼명을 이용하여 접근이 가능하다."
   ]
  },
  {
   "cell_type": "code",
   "execution_count": 24,
   "metadata": {},
   "outputs": [
    {
     "data": {
      "text/plain": [
       "22-05-01    1500\n",
       "22-05-02    3000\n",
       "22-05-03    5000\n",
       "22-05-04    7000\n",
       "22-05-05    5500\n",
       "Name: toto, dtype: int64"
      ]
     },
     "execution_count": 24,
     "metadata": {},
     "output_type": "execute_result"
    }
   ],
   "source": [
    "team_df['toto'] "
   ]
  },
  {
   "cell_type": "markdown",
   "metadata": {},
   "source": [
    "    toto와 gildong 팀 확인"
   ]
  },
  {
   "cell_type": "code",
   "execution_count": 25,
   "metadata": {},
   "outputs": [
    {
     "data": {
      "text/html": [
       "<div>\n",
       "<style scoped>\n",
       "    .dataframe tbody tr th:only-of-type {\n",
       "        vertical-align: middle;\n",
       "    }\n",
       "\n",
       "    .dataframe tbody tr th {\n",
       "        vertical-align: top;\n",
       "    }\n",
       "\n",
       "    .dataframe thead th {\n",
       "        text-align: right;\n",
       "    }\n",
       "</style>\n",
       "<table border=\"1\" class=\"dataframe\">\n",
       "  <thead>\n",
       "    <tr style=\"text-align: right;\">\n",
       "      <th></th>\n",
       "      <th>toto</th>\n",
       "      <th>gildong</th>\n",
       "    </tr>\n",
       "  </thead>\n",
       "  <tbody>\n",
       "    <tr>\n",
       "      <th>22-05-01</th>\n",
       "      <td>1500</td>\n",
       "      <td>2000</td>\n",
       "    </tr>\n",
       "    <tr>\n",
       "      <th>22-05-02</th>\n",
       "      <td>3000</td>\n",
       "      <td>2500</td>\n",
       "    </tr>\n",
       "    <tr>\n",
       "      <th>22-05-03</th>\n",
       "      <td>5000</td>\n",
       "      <td>3000</td>\n",
       "    </tr>\n",
       "    <tr>\n",
       "      <th>22-05-04</th>\n",
       "      <td>7000</td>\n",
       "      <td>4000</td>\n",
       "    </tr>\n",
       "    <tr>\n",
       "      <th>22-05-05</th>\n",
       "      <td>5500</td>\n",
       "      <td>3000</td>\n",
       "    </tr>\n",
       "  </tbody>\n",
       "</table>\n",
       "</div>"
      ],
      "text/plain": [
       "          toto  gildong\n",
       "22-05-01  1500     2000\n",
       "22-05-02  3000     2500\n",
       "22-05-03  5000     3000\n",
       "22-05-04  7000     4000\n",
       "22-05-05  5500     3000"
      ]
     },
     "execution_count": 25,
     "metadata": {},
     "output_type": "execute_result"
    }
   ],
   "source": [
    "team_df[ ['toto', 'gildong'] ] "
   ]
  },
  {
   "cell_type": "markdown",
   "metadata": {},
   "source": [
    "##### loc와 iloc를 이용한 접근\n",
    "     loc는 데이터 프레임의 컬럼명(인덱스)를 사용하여 데이터 추출한다.\n",
    "     iloc는 데이터 프레임의 데이터 순서(번호)를 사용하여 데이터 추출(시작번호 : 0)\n",
    "     loc[ 행, 열] 접근이라고 쉽게 생각한다."
   ]
  },
  {
   "cell_type": "code",
   "execution_count": 26,
   "metadata": {},
   "outputs": [
    {
     "name": "stdout",
     "output_type": "stream",
     "text": [
      "catanddog    5000\n",
      "toto         3000\n",
      "apple        5000\n",
      "gildong      2500\n",
      "Name: 22-05-02, dtype: int64\n",
      "-----------\n",
      "          catanddog  toto  apple  gildong\n",
      "22-05-02       5000  3000   5000     2500\n",
      "22-05-03       3000  5000   6000     3000\n",
      "-----------\n",
      "          catanddog  toto  apple  gildong\n",
      "22-05-02       5000  3000   5000     2500\n",
      "22-05-03       3000  5000   6000     3000\n",
      "22-05-04       5000  7000   5500     4000\n",
      "22-05-05       4000  5500   4500     3000\n"
     ]
    }
   ],
   "source": [
    "print(team_df.loc[ '22-05-02' ] ) # 22-05-02 일\n",
    "print(\"-----------\")\n",
    "print(team_df.loc[ ['22-05-02', '22-05-03'] ]) # 5월 2일, 3일 \n",
    "print(\"-----------\")\n",
    "print(team_df.loc[ '22-05-02': ])  # 5월 2일 이후 전체 데이터 가져오기"
   ]
  },
  {
   "cell_type": "markdown",
   "metadata": {},
   "source": [
    "##### loc를 이용한 열에 접근"
   ]
  },
  {
   "cell_type": "code",
   "execution_count": 27,
   "metadata": {},
   "outputs": [
    {
     "name": "stdout",
     "output_type": "stream",
     "text": [
      "Index(['catanddog', 'toto', 'apple', 'gildong'], dtype='object')\n",
      "-----\n",
      "22-05-01    1500\n",
      "22-05-02    3000\n",
      "22-05-03    5000\n",
      "22-05-04    7000\n",
      "22-05-05    5500\n",
      "Name: toto, dtype: int64\n",
      "-----\n",
      "          toto  gildong\n",
      "22-05-01  1500     2000\n",
      "22-05-02  3000     2500\n",
      "22-05-03  5000     3000\n",
      "22-05-04  7000     4000\n",
      "22-05-05  5500     3000\n",
      "-----\n",
      "          toto  apple  gildong\n",
      "22-05-01  1500   4000     2000\n",
      "22-05-02  3000   5000     2500\n",
      "22-05-03  5000   6000     3000\n",
      "22-05-04  7000   5500     4000\n",
      "22-05-05  5500   4500     3000\n"
     ]
    }
   ],
   "source": [
    "## 컬럼명 확인 \n",
    "print(team_df.columns)\n",
    "print(\"-----\")\n",
    "print(team_df.loc[:, 'toto'])   # 전체행, toto팀 \n",
    "print(\"-----\")\n",
    "print(team_df.loc[:, ['toto', 'gildong'] ])   # 전체행, toto, gildong팀\n",
    "print(\"-----\")\n",
    "print(team_df.loc[:, 'toto': ])   # 전체행, toto 부터 끝까지"
   ]
  },
  {
   "cell_type": "markdown",
   "metadata": {},
   "source": [
    "##### iloc 속성을 이용한 행, 열 데이터 접근하기"
   ]
  },
  {
   "cell_type": "code",
   "execution_count": 28,
   "metadata": {},
   "outputs": [
    {
     "name": "stdout",
     "output_type": "stream",
     "text": [
      "catanddog    7000\n",
      "toto         1500\n",
      "apple        4000\n",
      "gildong      2000\n",
      "Name: 22-05-01, dtype: int64\n",
      "------\n",
      "          catanddog  toto  apple  gildong\n",
      "22-05-01       7000  1500   4000     2000\n",
      "22-05-02       5000  3000   5000     2500\n",
      "------\n",
      "          catanddog  toto  apple  gildong\n",
      "22-05-01       7000  1500   4000     2000\n",
      "22-05-02       5000  3000   5000     2500\n",
      "22-05-03       3000  5000   6000     3000\n",
      "------\n",
      "          catanddog  toto  apple  gildong\n",
      "22-05-01       7000  1500   4000     2000\n",
      "22-05-02       5000  3000   5000     2500\n",
      "22-05-03       3000  5000   6000     3000\n"
     ]
    }
   ],
   "source": [
    "print(team_df.iloc[0])      # 첫번째 행 접근\n",
    "print(\"------\")\n",
    "print(team_df.iloc[ [0,1] ])  # 첫번째 두번째 행 접근\n",
    "print(\"------\")\n",
    "print(team_df.iloc[ 0:3:1] )  # 첫번째부터 세번째 행 접근\n",
    "print(\"------\")\n",
    "range_num = list(range(0,3,1))\n",
    "print(team_df.iloc[ range_num ] )  # 첫번째부터 세번째 행 접근 "
   ]
  },
  {
   "cell_type": "code",
   "execution_count": 29,
   "metadata": {},
   "outputs": [
    {
     "name": "stdout",
     "output_type": "stream",
     "text": [
      "22-05-01    7000\n",
      "22-05-02    5000\n",
      "22-05-03    3000\n",
      "22-05-04    5000\n",
      "22-05-05    4000\n",
      "Name: catanddog, dtype: int64\n",
      "------\n",
      "          catanddog  toto\n",
      "22-05-01       7000  1500\n",
      "22-05-02       5000  3000\n",
      "22-05-03       3000  5000\n",
      "22-05-04       5000  7000\n",
      "22-05-05       4000  5500\n",
      "------\n",
      "          catanddog  toto  apple\n",
      "22-05-01       7000  1500   4000\n",
      "22-05-02       5000  3000   5000\n",
      "22-05-03       3000  5000   6000\n",
      "22-05-04       5000  7000   5500\n",
      "22-05-05       4000  5500   4500\n",
      "------\n",
      "          catanddog  toto  apple\n",
      "22-05-01       7000  1500   4000\n",
      "22-05-02       5000  3000   5000\n",
      "22-05-03       3000  5000   6000\n",
      "22-05-04       5000  7000   5500\n",
      "22-05-05       4000  5500   4500\n"
     ]
    }
   ],
   "source": [
    "print(team_df.iloc[:, 0])      # 첫번째 열 접근\n",
    "print(\"------\")\n",
    "print(team_df.iloc[:, [0,1] ])  # 첫번째 두번째 열 접근\n",
    "print(\"------\")\n",
    "print(team_df.iloc[:, 0:3:1] )  # 첫번째부터 세번째 열 접근\n",
    "print(\"------\")\n",
    "range_num = list(range(0,3,1))\n",
    "print(team_df.iloc[:, range_num ] )  # 첫번째부터 세번째 열 접근 "
   ]
  },
  {
   "cell_type": "markdown",
   "metadata": {},
   "source": [
    "##### 팀별 총합 및 평균 등의 통계는 얼마나 될까?"
   ]
  },
  {
   "cell_type": "code",
   "execution_count": 30,
   "metadata": {},
   "outputs": [
    {
     "name": "stdout",
     "output_type": "stream",
     "text": [
      "catanddog    24000\n",
      "toto         22000\n",
      "apple        25000\n",
      "gildong      14500\n",
      "dtype: int64\n",
      "----\n",
      "catanddog    4800.0\n",
      "toto         4400.0\n",
      "apple        5000.0\n",
      "gildong      2900.0\n",
      "dtype: float64\n",
      "----\n"
     ]
    }
   ],
   "source": [
    "print(team_df.sum() )\n",
    "print(\"----\")\n",
    "print(team_df.mean() ) \n",
    "print(\"----\") "
   ]
  },
  {
   "cell_type": "markdown",
   "metadata": {},
   "source": [
    "##### 팀별 요약값을 보고 싶다."
   ]
  },
  {
   "cell_type": "code",
   "execution_count": 31,
   "metadata": {},
   "outputs": [
    {
     "data": {
      "text/html": [
       "<div>\n",
       "<style scoped>\n",
       "    .dataframe tbody tr th:only-of-type {\n",
       "        vertical-align: middle;\n",
       "    }\n",
       "\n",
       "    .dataframe tbody tr th {\n",
       "        vertical-align: top;\n",
       "    }\n",
       "\n",
       "    .dataframe thead th {\n",
       "        text-align: right;\n",
       "    }\n",
       "</style>\n",
       "<table border=\"1\" class=\"dataframe\">\n",
       "  <thead>\n",
       "    <tr style=\"text-align: right;\">\n",
       "      <th></th>\n",
       "      <th>catanddog</th>\n",
       "      <th>toto</th>\n",
       "      <th>apple</th>\n",
       "      <th>gildong</th>\n",
       "    </tr>\n",
       "  </thead>\n",
       "  <tbody>\n",
       "    <tr>\n",
       "      <th>count</th>\n",
       "      <td>5.000000</td>\n",
       "      <td>5.000000</td>\n",
       "      <td>5.000000</td>\n",
       "      <td>5.000000</td>\n",
       "    </tr>\n",
       "    <tr>\n",
       "      <th>mean</th>\n",
       "      <td>4800.000000</td>\n",
       "      <td>4400.000000</td>\n",
       "      <td>5000.000000</td>\n",
       "      <td>2900.000000</td>\n",
       "    </tr>\n",
       "    <tr>\n",
       "      <th>std</th>\n",
       "      <td>1483.239697</td>\n",
       "      <td>2162.174831</td>\n",
       "      <td>790.569415</td>\n",
       "      <td>741.619849</td>\n",
       "    </tr>\n",
       "    <tr>\n",
       "      <th>min</th>\n",
       "      <td>3000.000000</td>\n",
       "      <td>1500.000000</td>\n",
       "      <td>4000.000000</td>\n",
       "      <td>2000.000000</td>\n",
       "    </tr>\n",
       "    <tr>\n",
       "      <th>25%</th>\n",
       "      <td>4000.000000</td>\n",
       "      <td>3000.000000</td>\n",
       "      <td>4500.000000</td>\n",
       "      <td>2500.000000</td>\n",
       "    </tr>\n",
       "    <tr>\n",
       "      <th>50%</th>\n",
       "      <td>5000.000000</td>\n",
       "      <td>5000.000000</td>\n",
       "      <td>5000.000000</td>\n",
       "      <td>3000.000000</td>\n",
       "    </tr>\n",
       "    <tr>\n",
       "      <th>75%</th>\n",
       "      <td>5000.000000</td>\n",
       "      <td>5500.000000</td>\n",
       "      <td>5500.000000</td>\n",
       "      <td>3000.000000</td>\n",
       "    </tr>\n",
       "    <tr>\n",
       "      <th>max</th>\n",
       "      <td>7000.000000</td>\n",
       "      <td>7000.000000</td>\n",
       "      <td>6000.000000</td>\n",
       "      <td>4000.000000</td>\n",
       "    </tr>\n",
       "  </tbody>\n",
       "</table>\n",
       "</div>"
      ],
      "text/plain": [
       "         catanddog         toto        apple      gildong\n",
       "count     5.000000     5.000000     5.000000     5.000000\n",
       "mean   4800.000000  4400.000000  5000.000000  2900.000000\n",
       "std    1483.239697  2162.174831   790.569415   741.619849\n",
       "min    3000.000000  1500.000000  4000.000000  2000.000000\n",
       "25%    4000.000000  3000.000000  4500.000000  2500.000000\n",
       "50%    5000.000000  5000.000000  5000.000000  3000.000000\n",
       "75%    5000.000000  5500.000000  5500.000000  3000.000000\n",
       "max    7000.000000  7000.000000  6000.000000  4000.000000"
      ]
     },
     "execution_count": 31,
     "metadata": {},
     "output_type": "execute_result"
    }
   ],
   "source": [
    "team_df.describe() "
   ]
  },
  {
   "cell_type": "code",
   "execution_count": 32,
   "metadata": {},
   "outputs": [
    {
     "data": {
      "text/html": [
       "<div>\n",
       "<style scoped>\n",
       "    .dataframe tbody tr th:only-of-type {\n",
       "        vertical-align: middle;\n",
       "    }\n",
       "\n",
       "    .dataframe tbody tr th {\n",
       "        vertical-align: top;\n",
       "    }\n",
       "\n",
       "    .dataframe thead th {\n",
       "        text-align: right;\n",
       "    }\n",
       "</style>\n",
       "<table border=\"1\" class=\"dataframe\">\n",
       "  <thead>\n",
       "    <tr style=\"text-align: right;\">\n",
       "      <th></th>\n",
       "      <th>catanddog</th>\n",
       "      <th>toto</th>\n",
       "      <th>apple</th>\n",
       "      <th>gildong</th>\n",
       "    </tr>\n",
       "  </thead>\n",
       "  <tbody>\n",
       "    <tr>\n",
       "      <th>22-05-01</th>\n",
       "      <td>7000</td>\n",
       "      <td>1500</td>\n",
       "      <td>4000</td>\n",
       "      <td>2000</td>\n",
       "    </tr>\n",
       "    <tr>\n",
       "      <th>22-05-02</th>\n",
       "      <td>12000</td>\n",
       "      <td>4500</td>\n",
       "      <td>9000</td>\n",
       "      <td>4500</td>\n",
       "    </tr>\n",
       "    <tr>\n",
       "      <th>22-05-03</th>\n",
       "      <td>15000</td>\n",
       "      <td>9500</td>\n",
       "      <td>15000</td>\n",
       "      <td>7500</td>\n",
       "    </tr>\n",
       "    <tr>\n",
       "      <th>22-05-04</th>\n",
       "      <td>20000</td>\n",
       "      <td>16500</td>\n",
       "      <td>20500</td>\n",
       "      <td>11500</td>\n",
       "    </tr>\n",
       "    <tr>\n",
       "      <th>22-05-05</th>\n",
       "      <td>24000</td>\n",
       "      <td>22000</td>\n",
       "      <td>25000</td>\n",
       "      <td>14500</td>\n",
       "    </tr>\n",
       "  </tbody>\n",
       "</table>\n",
       "</div>"
      ],
      "text/plain": [
       "          catanddog   toto  apple  gildong\n",
       "22-05-01       7000   1500   4000     2000\n",
       "22-05-02      12000   4500   9000     4500\n",
       "22-05-03      15000   9500  15000     7500\n",
       "22-05-04      20000  16500  20500    11500\n",
       "22-05-05      24000  22000  25000    14500"
      ]
     },
     "execution_count": 32,
     "metadata": {},
     "output_type": "execute_result"
    }
   ],
   "source": [
    "## 날짜별 누적 통계\n",
    "team_df.cumsum()"
   ]
  },
  {
   "cell_type": "code",
   "execution_count": 33,
   "metadata": {},
   "outputs": [
    {
     "data": {
      "text/html": [
       "<div>\n",
       "<style scoped>\n",
       "    .dataframe tbody tr th:only-of-type {\n",
       "        vertical-align: middle;\n",
       "    }\n",
       "\n",
       "    .dataframe tbody tr th {\n",
       "        vertical-align: top;\n",
       "    }\n",
       "\n",
       "    .dataframe thead th {\n",
       "        text-align: right;\n",
       "    }\n",
       "</style>\n",
       "<table border=\"1\" class=\"dataframe\">\n",
       "  <thead>\n",
       "    <tr style=\"text-align: right;\">\n",
       "      <th></th>\n",
       "      <th>catanddog</th>\n",
       "      <th>toto</th>\n",
       "      <th>apple</th>\n",
       "      <th>gildong</th>\n",
       "    </tr>\n",
       "  </thead>\n",
       "  <tbody>\n",
       "    <tr>\n",
       "      <th>22-05-01</th>\n",
       "      <td>7000</td>\n",
       "      <td>1500</td>\n",
       "      <td>4000</td>\n",
       "      <td>2000</td>\n",
       "    </tr>\n",
       "    <tr>\n",
       "      <th>22-05-02</th>\n",
       "      <td>12000</td>\n",
       "      <td>4500</td>\n",
       "      <td>9000</td>\n",
       "      <td>4500</td>\n",
       "    </tr>\n",
       "    <tr>\n",
       "      <th>22-05-03</th>\n",
       "      <td>15000</td>\n",
       "      <td>9500</td>\n",
       "      <td>15000</td>\n",
       "      <td>7500</td>\n",
       "    </tr>\n",
       "    <tr>\n",
       "      <th>22-05-04</th>\n",
       "      <td>20000</td>\n",
       "      <td>16500</td>\n",
       "      <td>20500</td>\n",
       "      <td>11500</td>\n",
       "    </tr>\n",
       "    <tr>\n",
       "      <th>22-05-05</th>\n",
       "      <td>24000</td>\n",
       "      <td>22000</td>\n",
       "      <td>25000</td>\n",
       "      <td>14500</td>\n",
       "    </tr>\n",
       "  </tbody>\n",
       "</table>\n",
       "</div>"
      ],
      "text/plain": [
       "          catanddog   toto  apple  gildong\n",
       "22-05-01       7000   1500   4000     2000\n",
       "22-05-02      12000   4500   9000     4500\n",
       "22-05-03      15000   9500  15000     7500\n",
       "22-05-04      20000  16500  20500    11500\n",
       "22-05-05      24000  22000  25000    14500"
      ]
     },
     "execution_count": 33,
     "metadata": {},
     "output_type": "execute_result"
    }
   ],
   "source": [
    "## 날짜별 누적 통계\n",
    "team_df.cumsum()"
   ]
  },
  {
   "cell_type": "code",
   "execution_count": 34,
   "metadata": {},
   "outputs": [
    {
     "name": "stdout",
     "output_type": "stream",
     "text": [
      "22-05-01    14500\n",
      "22-05-02    15500\n",
      "22-05-03    17000\n",
      "22-05-04    21500\n",
      "22-05-05    17000\n",
      "dtype: int64\n"
     ]
    }
   ],
   "source": [
    "## 날짜별 합계\n",
    "print(team_df.sum(axis=1))"
   ]
  },
  {
   "cell_type": "code",
   "execution_count": 35,
   "metadata": {},
   "outputs": [
    {
     "name": "stdout",
     "output_type": "stream",
     "text": [
      "<class 'pandas.core.series.Series'>\n"
     ]
    }
   ],
   "source": [
    "rowsum = team_df.sum(axis=1)\n",
    "print(type(rowsum))"
   ]
  },
  {
   "cell_type": "code",
   "execution_count": 36,
   "metadata": {},
   "outputs": [
    {
     "data": {
      "text/html": [
       "<div>\n",
       "<style scoped>\n",
       "    .dataframe tbody tr th:only-of-type {\n",
       "        vertical-align: middle;\n",
       "    }\n",
       "\n",
       "    .dataframe tbody tr th {\n",
       "        vertical-align: top;\n",
       "    }\n",
       "\n",
       "    .dataframe thead th {\n",
       "        text-align: right;\n",
       "    }\n",
       "</style>\n",
       "<table border=\"1\" class=\"dataframe\">\n",
       "  <thead>\n",
       "    <tr style=\"text-align: right;\">\n",
       "      <th></th>\n",
       "      <th>catanddog</th>\n",
       "      <th>toto</th>\n",
       "      <th>apple</th>\n",
       "      <th>gildong</th>\n",
       "      <th>rowsum</th>\n",
       "    </tr>\n",
       "  </thead>\n",
       "  <tbody>\n",
       "    <tr>\n",
       "      <th>22-05-01</th>\n",
       "      <td>7000</td>\n",
       "      <td>1500</td>\n",
       "      <td>4000</td>\n",
       "      <td>2000</td>\n",
       "      <td>14500</td>\n",
       "    </tr>\n",
       "    <tr>\n",
       "      <th>22-05-02</th>\n",
       "      <td>5000</td>\n",
       "      <td>3000</td>\n",
       "      <td>5000</td>\n",
       "      <td>2500</td>\n",
       "      <td>15500</td>\n",
       "    </tr>\n",
       "    <tr>\n",
       "      <th>22-05-03</th>\n",
       "      <td>3000</td>\n",
       "      <td>5000</td>\n",
       "      <td>6000</td>\n",
       "      <td>3000</td>\n",
       "      <td>17000</td>\n",
       "    </tr>\n",
       "    <tr>\n",
       "      <th>22-05-04</th>\n",
       "      <td>5000</td>\n",
       "      <td>7000</td>\n",
       "      <td>5500</td>\n",
       "      <td>4000</td>\n",
       "      <td>21500</td>\n",
       "    </tr>\n",
       "    <tr>\n",
       "      <th>22-05-05</th>\n",
       "      <td>4000</td>\n",
       "      <td>5500</td>\n",
       "      <td>4500</td>\n",
       "      <td>3000</td>\n",
       "      <td>17000</td>\n",
       "    </tr>\n",
       "  </tbody>\n",
       "</table>\n",
       "</div>"
      ],
      "text/plain": [
       "          catanddog  toto  apple  gildong  rowsum\n",
       "22-05-01       7000  1500   4000     2000   14500\n",
       "22-05-02       5000  3000   5000     2500   15500\n",
       "22-05-03       3000  5000   6000     3000   17000\n",
       "22-05-04       5000  7000   5500     4000   21500\n",
       "22-05-05       4000  5500   4500     3000   17000"
      ]
     },
     "execution_count": 36,
     "metadata": {},
     "output_type": "execute_result"
    }
   ],
   "source": [
    "team_df['rowsum'] = team_df.sum(axis=1)\n",
    "team_df"
   ]
  },
  {
   "cell_type": "markdown",
   "metadata": {},
   "source": [
    "##### 점수가 높은 날짜별로 확인해 보자."
   ]
  },
  {
   "cell_type": "code",
   "execution_count": 37,
   "metadata": {},
   "outputs": [
    {
     "data": {
      "text/plain": [
       "22-05-04    21500\n",
       "22-05-05    17000\n",
       "22-05-03    17000\n",
       "22-05-02    15500\n",
       "22-05-01    14500\n",
       "Name: rowsum, dtype: int64"
      ]
     },
     "execution_count": 37,
     "metadata": {},
     "output_type": "execute_result"
    }
   ],
   "source": [
    "team_df.rowsum.sort_values(ascending=False)"
   ]
  },
  {
   "cell_type": "markdown",
   "metadata": {},
   "source": [
    "##### 조건을 걸어 일정 이상의 팀점수의 날만 확인해 보자.\n",
    "    17000이상인 날만 확인해 보기"
   ]
  },
  {
   "cell_type": "code",
   "execution_count": 38,
   "metadata": {},
   "outputs": [
    {
     "data": {
      "text/html": [
       "<div>\n",
       "<style scoped>\n",
       "    .dataframe tbody tr th:only-of-type {\n",
       "        vertical-align: middle;\n",
       "    }\n",
       "\n",
       "    .dataframe tbody tr th {\n",
       "        vertical-align: top;\n",
       "    }\n",
       "\n",
       "    .dataframe thead th {\n",
       "        text-align: right;\n",
       "    }\n",
       "</style>\n",
       "<table border=\"1\" class=\"dataframe\">\n",
       "  <thead>\n",
       "    <tr style=\"text-align: right;\">\n",
       "      <th></th>\n",
       "      <th>catanddog</th>\n",
       "      <th>toto</th>\n",
       "      <th>apple</th>\n",
       "      <th>gildong</th>\n",
       "      <th>rowsum</th>\n",
       "    </tr>\n",
       "  </thead>\n",
       "  <tbody>\n",
       "    <tr>\n",
       "      <th>22-05-03</th>\n",
       "      <td>3000</td>\n",
       "      <td>5000</td>\n",
       "      <td>6000</td>\n",
       "      <td>3000</td>\n",
       "      <td>17000</td>\n",
       "    </tr>\n",
       "    <tr>\n",
       "      <th>22-05-04</th>\n",
       "      <td>5000</td>\n",
       "      <td>7000</td>\n",
       "      <td>5500</td>\n",
       "      <td>4000</td>\n",
       "      <td>21500</td>\n",
       "    </tr>\n",
       "    <tr>\n",
       "      <th>22-05-05</th>\n",
       "      <td>4000</td>\n",
       "      <td>5500</td>\n",
       "      <td>4500</td>\n",
       "      <td>3000</td>\n",
       "      <td>17000</td>\n",
       "    </tr>\n",
       "  </tbody>\n",
       "</table>\n",
       "</div>"
      ],
      "text/plain": [
       "          catanddog  toto  apple  gildong  rowsum\n",
       "22-05-03       3000  5000   6000     3000   17000\n",
       "22-05-04       5000  7000   5500     4000   21500\n",
       "22-05-05       4000  5500   4500     3000   17000"
      ]
     },
     "execution_count": 38,
     "metadata": {},
     "output_type": "execute_result"
    }
   ],
   "source": [
    "team_df[ team_df.rowsum >= 17000]"
   ]
  },
  {
   "cell_type": "code",
   "execution_count": 39,
   "metadata": {},
   "outputs": [
    {
     "data": {
      "text/html": [
       "<div>\n",
       "<style scoped>\n",
       "    .dataframe tbody tr th:only-of-type {\n",
       "        vertical-align: middle;\n",
       "    }\n",
       "\n",
       "    .dataframe tbody tr th {\n",
       "        vertical-align: top;\n",
       "    }\n",
       "\n",
       "    .dataframe thead th {\n",
       "        text-align: right;\n",
       "    }\n",
       "</style>\n",
       "<table border=\"1\" class=\"dataframe\">\n",
       "  <thead>\n",
       "    <tr style=\"text-align: right;\">\n",
       "      <th></th>\n",
       "      <th>catanddog</th>\n",
       "      <th>toto</th>\n",
       "      <th>apple</th>\n",
       "      <th>gildong</th>\n",
       "      <th>rowsum</th>\n",
       "    </tr>\n",
       "  </thead>\n",
       "  <tbody>\n",
       "    <tr>\n",
       "      <th>22-05-01</th>\n",
       "      <td>7000</td>\n",
       "      <td>1500</td>\n",
       "      <td>4000</td>\n",
       "      <td>2000</td>\n",
       "      <td>14500</td>\n",
       "    </tr>\n",
       "    <tr>\n",
       "      <th>22-05-02</th>\n",
       "      <td>5000</td>\n",
       "      <td>3000</td>\n",
       "      <td>5000</td>\n",
       "      <td>2500</td>\n",
       "      <td>15500</td>\n",
       "    </tr>\n",
       "    <tr>\n",
       "      <th>22-05-03</th>\n",
       "      <td>3000</td>\n",
       "      <td>5000</td>\n",
       "      <td>6000</td>\n",
       "      <td>3000</td>\n",
       "      <td>17000</td>\n",
       "    </tr>\n",
       "    <tr>\n",
       "      <th>22-05-04</th>\n",
       "      <td>5000</td>\n",
       "      <td>7000</td>\n",
       "      <td>5500</td>\n",
       "      <td>4000</td>\n",
       "      <td>21500</td>\n",
       "    </tr>\n",
       "    <tr>\n",
       "      <th>22-05-05</th>\n",
       "      <td>4000</td>\n",
       "      <td>5500</td>\n",
       "      <td>4500</td>\n",
       "      <td>3000</td>\n",
       "      <td>17000</td>\n",
       "    </tr>\n",
       "  </tbody>\n",
       "</table>\n",
       "</div>"
      ],
      "text/plain": [
       "          catanddog  toto  apple  gildong  rowsum\n",
       "22-05-01       7000  1500   4000     2000   14500\n",
       "22-05-02       5000  3000   5000     2500   15500\n",
       "22-05-03       3000  5000   6000     3000   17000\n",
       "22-05-04       5000  7000   5500     4000   21500\n",
       "22-05-05       4000  5500   4500     3000   17000"
      ]
     },
     "execution_count": 39,
     "metadata": {},
     "output_type": "execute_result"
    }
   ],
   "source": [
    "team_df"
   ]
  },
  {
   "cell_type": "markdown",
   "metadata": {},
   "source": [
    "##### 합계 점수가 1등 2등만 선택해 보자."
   ]
  },
  {
   "cell_type": "code",
   "execution_count": 40,
   "metadata": {},
   "outputs": [
    {
     "data": {
      "text/plain": [
       "catanddog    24000\n",
       "toto         22000\n",
       "apple        25000\n",
       "gildong      14500\n",
       "rowsum       85500\n",
       "dtype: int64"
      ]
     },
     "execution_count": 40,
     "metadata": {},
     "output_type": "execute_result"
    }
   ],
   "source": [
    "team_df.sum() "
   ]
  },
  {
   "cell_type": "code",
   "execution_count": 41,
   "metadata": {},
   "outputs": [
    {
     "data": {
      "text/html": [
       "<div>\n",
       "<style scoped>\n",
       "    .dataframe tbody tr th:only-of-type {\n",
       "        vertical-align: middle;\n",
       "    }\n",
       "\n",
       "    .dataframe tbody tr th {\n",
       "        vertical-align: top;\n",
       "    }\n",
       "\n",
       "    .dataframe thead th {\n",
       "        text-align: right;\n",
       "    }\n",
       "</style>\n",
       "<table border=\"1\" class=\"dataframe\">\n",
       "  <thead>\n",
       "    <tr style=\"text-align: right;\">\n",
       "      <th></th>\n",
       "      <th>catanddog</th>\n",
       "      <th>apple</th>\n",
       "      <th>rowsum</th>\n",
       "    </tr>\n",
       "  </thead>\n",
       "  <tbody>\n",
       "    <tr>\n",
       "      <th>22-05-01</th>\n",
       "      <td>7000</td>\n",
       "      <td>4000</td>\n",
       "      <td>14500</td>\n",
       "    </tr>\n",
       "    <tr>\n",
       "      <th>22-05-02</th>\n",
       "      <td>5000</td>\n",
       "      <td>5000</td>\n",
       "      <td>15500</td>\n",
       "    </tr>\n",
       "    <tr>\n",
       "      <th>22-05-03</th>\n",
       "      <td>3000</td>\n",
       "      <td>6000</td>\n",
       "      <td>17000</td>\n",
       "    </tr>\n",
       "    <tr>\n",
       "      <th>22-05-04</th>\n",
       "      <td>5000</td>\n",
       "      <td>5500</td>\n",
       "      <td>21500</td>\n",
       "    </tr>\n",
       "    <tr>\n",
       "      <th>22-05-05</th>\n",
       "      <td>4000</td>\n",
       "      <td>4500</td>\n",
       "      <td>17000</td>\n",
       "    </tr>\n",
       "  </tbody>\n",
       "</table>\n",
       "</div>"
      ],
      "text/plain": [
       "          catanddog  apple  rowsum\n",
       "22-05-01       7000   4000   14500\n",
       "22-05-02       5000   5000   15500\n",
       "22-05-03       3000   6000   17000\n",
       "22-05-04       5000   5500   21500\n",
       "22-05-05       4000   4500   17000"
      ]
     },
     "execution_count": 41,
     "metadata": {},
     "output_type": "execute_result"
    }
   ],
   "source": [
    "team_df.drop(['toto', 'gildong' ], axis=1)"
   ]
  },
  {
   "cell_type": "code",
   "execution_count": 42,
   "metadata": {},
   "outputs": [
    {
     "data": {
      "text/html": [
       "<div>\n",
       "<style scoped>\n",
       "    .dataframe tbody tr th:only-of-type {\n",
       "        vertical-align: middle;\n",
       "    }\n",
       "\n",
       "    .dataframe tbody tr th {\n",
       "        vertical-align: top;\n",
       "    }\n",
       "\n",
       "    .dataframe thead th {\n",
       "        text-align: right;\n",
       "    }\n",
       "</style>\n",
       "<table border=\"1\" class=\"dataframe\">\n",
       "  <thead>\n",
       "    <tr style=\"text-align: right;\">\n",
       "      <th></th>\n",
       "      <th>catanddog</th>\n",
       "      <th>apple</th>\n",
       "      <th>rowsum</th>\n",
       "    </tr>\n",
       "  </thead>\n",
       "  <tbody>\n",
       "    <tr>\n",
       "      <th>22-05-01</th>\n",
       "      <td>7000</td>\n",
       "      <td>4000</td>\n",
       "      <td>14500</td>\n",
       "    </tr>\n",
       "    <tr>\n",
       "      <th>22-05-02</th>\n",
       "      <td>5000</td>\n",
       "      <td>5000</td>\n",
       "      <td>15500</td>\n",
       "    </tr>\n",
       "    <tr>\n",
       "      <th>22-05-03</th>\n",
       "      <td>3000</td>\n",
       "      <td>6000</td>\n",
       "      <td>17000</td>\n",
       "    </tr>\n",
       "    <tr>\n",
       "      <th>22-05-04</th>\n",
       "      <td>5000</td>\n",
       "      <td>5500</td>\n",
       "      <td>21500</td>\n",
       "    </tr>\n",
       "    <tr>\n",
       "      <th>22-05-05</th>\n",
       "      <td>4000</td>\n",
       "      <td>4500</td>\n",
       "      <td>17000</td>\n",
       "    </tr>\n",
       "  </tbody>\n",
       "</table>\n",
       "</div>"
      ],
      "text/plain": [
       "          catanddog  apple  rowsum\n",
       "22-05-01       7000   4000   14500\n",
       "22-05-02       5000   5000   15500\n",
       "22-05-03       3000   6000   17000\n",
       "22-05-04       5000   5500   21500\n",
       "22-05-05       4000   4500   17000"
      ]
     },
     "execution_count": 42,
     "metadata": {},
     "output_type": "execute_result"
    }
   ],
   "source": [
    "team_12 = team_df.drop(['toto', 'gildong' ], axis=1) \n",
    "team_12"
   ]
  },
  {
   "cell_type": "code",
   "execution_count": 43,
   "metadata": {},
   "outputs": [],
   "source": [
    "team_12.to_csv(\"team_12.csv\", index=False)\n",
    "team_12.to_excel(\"team_12.xlsx\", index=False) "
   ]
  },
  {
   "cell_type": "code",
   "execution_count": 44,
   "metadata": {},
   "outputs": [
    {
     "name": "stdout",
     "output_type": "stream",
     "text": [
      " C 드라이브의 볼륨: Windows 10\n",
      " 볼륨 일련 번호: EC43-1FBA\n",
      "\n",
      " C:\\Users\\gram\\Documents\\★중급반 디렉터리\n",
      "\n",
      "2022-06-27  오후 05:14    <DIR>          .\n",
      "2022-06-27  오후 05:14    <DIR>          ..\n",
      "2022-06-27  오후 05:06    <DIR>          .ipynb_checkpoints\n",
      "2022-06-13  오후 08:34            14,097 20220610_Python_01.ipynb\n",
      "2022-06-13  오후 09:57            10,398 20220613_Python_02.ipynb\n",
      "2022-06-13  오후 10:35            18,609 20220613_Python_03.ipynb\n",
      "2022-06-13  오후 11:16            14,151 20220613_Python_04.ipynb\n",
      "2022-06-14  오후 11:20            18,405 20220614_Python_Library_01.ipynb\n",
      "2022-06-15  오전 12:01            15,018 20220614_Python_Library_02.ipynb\n",
      "2022-06-15  오후 09:39           159,522 20220615_Bike_01.ipynb\n",
      "2022-06-15  오후 09:42           395,428 20220615_Bike_02.ipynb\n",
      "2022-06-15  오후 01:04             2,252 20220615_Cal_01.ipynb\n",
      "2022-06-27  오후 03:50             3,865 20220615_Cal_02.ipynb\n",
      "2022-06-15  오후 01:43             4,330 20220615_Cal_03.ipynb\n",
      "2022-06-15  오후 01:43             2,111 20220615_Cal_04.ipynb\n",
      "2022-06-15  오전 11:49             5,142 20220615_Excel_01.ipynb\n",
      "2022-06-15  오후 12:20            13,938 20220615_Excel_02.ipynb\n",
      "2022-06-15  오후 12:39             4,212 20220615_GUI_Tkinter_01.ipynb\n",
      "2022-06-15  오후 12:58             5,143 20220615_GUI_Tkinter_02.ipynb\n",
      "2022-06-15  오후 08:40           552,718 20220615_matplotlib_01.ipynb\n",
      "2022-06-17  오후 10:28            46,296 20220617_Pandas_01.ipynb\n",
      "2022-06-21  오후 10:47           429,884 20220617_Pandas_02_California.ipynb\n",
      "2022-06-21  오후 10:40           396,272 20220617_Pandas_03_California.ipynb\n",
      "2022-06-18  오후 02:11           251,848 20220618_Folium_01.ipynb\n",
      "2022-06-21  오후 10:58             9,533 20220618_Folium_02.ipynb\n",
      "2022-06-24  오후 03:26             5,104 20220624_인공지능 기본 문제.ipynb\n",
      "2022-06-27  오후 02:54            53,731 20220627_01_01_파이썬기본.ipynb\n",
      "2022-06-27  오후 02:55         6,352,963 20220627_01_01_파이썬기본.pdf\n",
      "2022-06-27  오후 03:22            34,705 20220627_01_02_파이썬함수모듈.ipynb\n",
      "2022-06-27  오후 03:22         8,733,535 20220627_01_02_파이썬함수모듈.pdf\n",
      "2022-06-27  오후 03:30            18,498 20220627_01_03_파이썬엑셀.ipynb\n",
      "2022-06-27  오후 03:30         1,464,798 20220627_01_03_파이썬엑셀.pdf\n",
      "2022-06-27  오후 03:42             3,619 20220627_01_04_GUI_Tkinter01.ipynb\n",
      "2022-06-27  오후 03:42           341,506 20220627_01_04_GUI_Tkinter01.pdf\n",
      "2022-06-27  오후 03:44             5,822 20220627_01_05_GUI_Tkinter02.ipynb\n",
      "2022-06-27  오후 03:44         1,476,345 20220627_01_05_GUI_Tkinter02.pdf\n",
      "2022-06-27  오후 03:49             2,047 20220627_01_06_GUI_계산기01.ipynb\n",
      "2022-06-27  오후 03:49           145,431 20220627_01_06_GUI_계산기01.pdf\n",
      "2022-06-27  오후 03:52             3,676 20220627_01_07_GUI_계산기02.ipynb\n",
      "2022-06-27  오후 03:52           277,255 20220627_01_07_GUI_계산기02.pdf\n",
      "2022-06-27  오후 04:37         1,182,492 20220627_02_01_matplotlib.ipynb\n",
      "2022-06-27  오후 04:38        10,443,610 20220627_02_01_matplotlib.pdf\n",
      "2022-06-27  오후 05:05           399,044 20220627_02_02_Bike.ipynb\n",
      "2022-06-27  오후 05:06         6,851,477 20220627_02_02_Bike.pdf\n",
      "2022-06-27  오후 05:14            34,488 20220627_02_03_Pandas.ipynb\n",
      "2022-06-15  오후 12:56            10,628 address.xlsx\n",
      "2022-06-15  오후 08:44    <DIR>          bike\n",
      "2022-06-15  오후 12:23             8,466 dic_excel.xlsx\n",
      "2022-06-18  오후 02:00             3,014 map.html\n",
      "2022-06-18  오후 02:04            52,033 map_circle.html\n",
      "2022-06-14  오후 11:26                 0 mydata.txt\n",
      "2022-06-27  오후 03:14                 0 mydata_bak.txt\n",
      "2022-06-14  오후 11:15                68 mymod.py\n",
      "2022-06-27  오후 03:14                68 mymod1.py\n",
      "2022-06-15  오후 08:39           136,873 plt_legend_0622.PNG\n",
      "2022-06-18  오후 02:04            75,887 Plugins_1.html\n",
      "2022-06-18  오후 02:07                20 seoul_muncipalities_geo.json\n",
      "2022-06-27  오후 05:16               109 team_12.csv\n",
      "2022-06-27  오후 05:16             5,493 team_12.xlsx\n",
      "2022-06-14  오후 11:15    <DIR>          __pycache__\n",
      "2022-06-27  오후 12:44            89,970 ★AI Project Goorm Schedule Danie.pdf\n",
      "2022-06-27  오후 01:27            13,219 ★AI Project Goorm Schedule.xlsx\n",
      "2022-06-18  오후 02:16           740,881 전국전통시장표준데이터.csv\n",
      "2022-06-27  오후 03:26             5,825 주소록.xlsx\n",
      "2022-06-27  오후 03:30             5,797 주소록_chk.xlsx\n",
      "              60개 파일          41,351,669 바이트\n",
      "               5개 디렉터리  77,800,542,208 바이트 남음\n"
     ]
    }
   ],
   "source": [
    "!dir"
   ]
  },
  {
   "cell_type": "markdown",
   "metadata": {},
   "source": [
    "##### REF\n",
    "* https://jakevdp.github.io/PythonDataScienceHandbook/04.08-multiple-subplots.html"
   ]
  },
  {
   "cell_type": "code",
   "execution_count": null,
   "metadata": {},
   "outputs": [],
   "source": []
  }
 ],
 "metadata": {
  "kernelspec": {
   "display_name": "Python 3",
   "language": "python",
   "name": "python3"
  },
  "language_info": {
   "codemirror_mode": {
    "name": "ipython",
    "version": 3
   },
   "file_extension": ".py",
   "mimetype": "text/x-python",
   "name": "python",
   "nbconvert_exporter": "python",
   "pygments_lexer": "ipython3",
   "version": "3.8.5"
  }
 },
 "nbformat": 4,
 "nbformat_minor": 4
}
